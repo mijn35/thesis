{
 "cells": [
  {
   "cell_type": "code",
   "execution_count": 9,
   "metadata": {
    "collapsed": true
   },
   "outputs": [],
   "source": [
    "import csv\n",
    "import random\n",
    "import numpy as np"
   ]
  },
  {
   "cell_type": "code",
   "execution_count": 10,
   "outputs": [],
   "source": [
    "def read_csv(file_path):\n",
    "    data = []\n",
    "    with open(file_path, 'r') as csvfile:\n",
    "        reader = csv.reader(csvfile)\n",
    "        for row in reader:\n",
    "            data.append(row)\n",
    "    return data"
   ],
   "metadata": {
    "collapsed": false
   }
  },
  {
   "cell_type": "code",
   "execution_count": 11,
   "outputs": [],
   "source": [
    "def write_csv(file_path, data):\n",
    "    with open(file_path, 'a', newline='') as csvfile:\n",
    "        writer = csv.writer(csvfile)\n",
    "        for row in data:\n",
    "            writer.writerow(row)"
   ],
   "metadata": {
    "collapsed": false
   }
  },
  {
   "cell_type": "code",
   "execution_count": 12,
   "outputs": [],
   "source": [
    "def translate_landmarks(landmarks, max_translation):\n",
    "    translated_landmarks = []\n",
    "    for i in range(0, len(landmarks), 2):  # Assuming landmarks are stored as [x1, y1, x2, y2, ...]\n",
    "        try:\n",
    "            x = landmarks[i]\n",
    "            y = landmarks[i + 1]\n",
    "            x += random.uniform(-max_translation, max_translation)\n",
    "            y += random.uniform(-max_translation, max_translation)\n",
    "            translated_landmarks.append(x)\n",
    "            translated_landmarks.append(y)\n",
    "        except IndexError:\n",
    "            continue  # Skip incomplete landmarks\n",
    "    return translated_landmarks"
   ],
   "metadata": {
    "collapsed": false
   }
  },
  {
   "cell_type": "code",
   "execution_count": 13,
   "outputs": [],
   "source": [
    "input_file = 'hand_landmarks_goodTest.csv'\n",
    "output_file = 'hand_landmarks_goodTestAugmented.csv'"
   ],
   "metadata": {
    "collapsed": false
   }
  },
  {
   "cell_type": "code",
   "execution_count": 14,
   "outputs": [],
   "source": [
    "X_dataset = np.loadtxt(input_file, delimiter=',', dtype='float32', usecols=list(range(0, (21 * 2) + 1)))"
   ],
   "metadata": {
    "collapsed": false
   }
  },
  {
   "cell_type": "code",
   "execution_count": 6,
   "outputs": [
    {
     "ename": "NameError",
     "evalue": "name 'random' is not defined",
     "output_type": "error",
     "traceback": [
      "\u001B[1;31m---------------------------------------------------------------------------\u001B[0m",
      "\u001B[1;31mNameError\u001B[0m                                 Traceback (most recent call last)",
      "Cell \u001B[1;32mIn[6], line 6\u001B[0m\n\u001B[0;32m      4\u001B[0m label \u001B[38;5;241m=\u001B[39m row[\u001B[38;5;241m0\u001B[39m]\n\u001B[0;32m      5\u001B[0m landmarks \u001B[38;5;241m=\u001B[39m row[\u001B[38;5;241m1\u001B[39m:]\n\u001B[1;32m----> 6\u001B[0m augmented_landmarks \u001B[38;5;241m=\u001B[39m \u001B[43mtranslate_landmarks\u001B[49m\u001B[43m(\u001B[49m\u001B[43mlandmarks\u001B[49m\u001B[43m,\u001B[49m\u001B[43m \u001B[49m\u001B[43mmax_translation\u001B[49m\u001B[43m)\u001B[49m\n\u001B[0;32m      7\u001B[0m \u001B[38;5;28mprint\u001B[39m(augmented_landmarks)\n\u001B[0;32m      8\u001B[0m augmented_row \u001B[38;5;241m=\u001B[39m [label] \u001B[38;5;241m+\u001B[39m augmented_landmarks\n",
      "Cell \u001B[1;32mIn[3], line 7\u001B[0m, in \u001B[0;36mtranslate_landmarks\u001B[1;34m(landmarks, max_translation)\u001B[0m\n\u001B[0;32m      5\u001B[0m x \u001B[38;5;241m=\u001B[39m landmarks[i]\n\u001B[0;32m      6\u001B[0m y \u001B[38;5;241m=\u001B[39m landmarks[i \u001B[38;5;241m+\u001B[39m \u001B[38;5;241m1\u001B[39m]\n\u001B[1;32m----> 7\u001B[0m x \u001B[38;5;241m+\u001B[39m\u001B[38;5;241m=\u001B[39m \u001B[43mrandom\u001B[49m\u001B[38;5;241m.\u001B[39muniform(\u001B[38;5;241m-\u001B[39mmax_translation, max_translation)\n\u001B[0;32m      8\u001B[0m y \u001B[38;5;241m+\u001B[39m\u001B[38;5;241m=\u001B[39m random\u001B[38;5;241m.\u001B[39muniform(\u001B[38;5;241m-\u001B[39mmax_translation, max_translation)\n\u001B[0;32m      9\u001B[0m translated_landmarks\u001B[38;5;241m.\u001B[39mappend(x)\n",
      "\u001B[1;31mNameError\u001B[0m: name 'random' is not defined"
     ]
    }
   ],
   "source": [
    "max_translation = 5  # adjust as needed\n",
    "augmented_data = []\n",
    "for row in X_dataset:\n",
    "    label = row[0]\n",
    "    landmarks = row[1:]\n",
    "    augmented_landmarks = translate_landmarks(landmarks, max_translation)\n",
    "    print(augmented_landmarks)\n",
    "    augmented_row = [label] + augmented_landmarks\n",
    "    augmented_data.append(augmented_row)\n",
    "#print(augmented_data)"
   ],
   "metadata": {
    "collapsed": false
   }
  },
  {
   "cell_type": "code",
   "execution_count": 7,
   "outputs": [],
   "source": [
    "write_csv(output_file, augmented_data)"
   ],
   "metadata": {
    "collapsed": false
   }
  },
  {
   "cell_type": "code",
   "execution_count": 15,
   "outputs": [],
   "source": [
    "import csv\n",
    "import numpy as np\n",
    "from imblearn.over_sampling import SMOTE\n",
    "\n",
    "# Read CSV function remains the same\n",
    "\n",
    "# Write CSV function remains the same\n",
    "\n",
    "# Load dataset\n",
    "input_file = 'Data_joren.csv'\n",
    "output_file = 'glove_combined.csv'\n",
    "data = np.loadtxt(input_file, delimiter=',', dtype='float32')\n",
    "\n",
    "# Separate features (X) and labels (y)\n",
    "X = data[:, 1:]  # Features\n",
    "y = data[:, 0]   # Labels\n",
    "\n",
    "# Apply SMOTE\n",
    "smote = SMOTE()\n",
    "X_smote, y_smote = smote.fit_resample(X, y)\n",
    "\n",
    "# Combine synthetic samples with original features and labels\n",
    "augmented_data = np.column_stack((y_smote, X_smote))\n",
    "\n",
    "# Concatenate original and augmented data\n",
    "combined_data = np.concatenate((data, augmented_data), axis=0)\n",
    "\n",
    "# Write combined data to CSV\n",
    "write_csv(output_file, combined_data)"
   ],
   "metadata": {
    "collapsed": false
   }
  },
  {
   "cell_type": "code",
   "execution_count": null,
   "outputs": [],
   "source": [],
   "metadata": {
    "collapsed": false
   }
  }
 ],
 "metadata": {
  "kernelspec": {
   "display_name": "Python 3",
   "language": "python",
   "name": "python3"
  },
  "language_info": {
   "codemirror_mode": {
    "name": "ipython",
    "version": 2
   },
   "file_extension": ".py",
   "mimetype": "text/x-python",
   "name": "python",
   "nbconvert_exporter": "python",
   "pygments_lexer": "ipython2",
   "version": "2.7.6"
  }
 },
 "nbformat": 4,
 "nbformat_minor": 0
}
