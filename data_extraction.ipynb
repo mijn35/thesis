{
 "cells": [
  {
   "cell_type": "code",
   "execution_count": 5,
   "outputs": [],
   "source": [
    "DIRECTORY_PATH = 'h'\n",
    "FILE_PATH = 'anke_h.csv'"
   ],
   "metadata": {
    "collapsed": false,
    "ExecuteTime": {
     "end_time": "2024-03-27T15:28:04.213701400Z",
     "start_time": "2024-03-27T15:27:08.169752800Z"
    }
   }
  },
  {
   "cell_type": "code",
   "execution_count": 6,
   "outputs": [
    {
     "name": "stdout",
     "output_type": "stream",
     "text": [
      "(50, 364)\n",
      "H\n",
      "(50, 364)\n",
      "H\n",
      "(50, 364)\n",
      "H\n",
      "(50, 364)\n",
      "H\n",
      "(50, 364)\n",
      "H\n",
      "(50, 364)\n",
      "H\n",
      "(50, 364)\n",
      "H\n",
      "(50, 364)\n",
      "H\n",
      "(50, 364)\n",
      "H\n",
      "(50, 364)\n",
      "H\n",
      "(500, 365)\n"
     ]
    }
   ],
   "source": [
    "import pandas as pd\n",
    "import os\n",
    "\n",
    "# Function to convert letter to corresponding label\n",
    "def letter_to_label(letter):\n",
    "    if letter < 'J':\n",
    "        return ord(letter) - ord('A')\n",
    "    else:\n",
    "        return ord(letter) - ord('A') - 1\n",
    "\n",
    "# Path to the folder containing CSV files\n",
    "folder_path = DIRECTORY_PATH\n",
    "\n",
    "# List to store dataframes for each file\n",
    "dfs = []\n",
    "\n",
    "# Iterate through all files in the folder\n",
    "for filename in os.listdir(folder_path):\n",
    "    if filename.endswith(\".csv\"):\n",
    "        # Read CSV file into a dataframe\n",
    "        df = pd.read_csv(os.path.join(folder_path, filename), delimiter=\";\", decimal=',', usecols=list(range(3, 367)))\n",
    "        # Take the first 50 samples\n",
    "        df = df.head(50)\n",
    "        print(df.shape)\n",
    "        # Extract the letter from the filename\n",
    "        letter = filename.split('_')[0][-4]\n",
    "        print(letter)\n",
    "        # Add a label column based on the letter\n",
    "        df['label'] = letter_to_label(letter)\n",
    "        df = df[['label'] + [col for col in df.columns if col != 'label']]\n",
    "        # Append dataframe to the list\n",
    "        dfs.append(df)\n",
    "\n",
    "# Concatenate all dataframes into a single dataframe\n",
    "result_df = pd.concat(dfs)\n",
    "print(result_df.shape)\n",
    "\n",
    "# Write the result to a new CSV file\n",
    "result_df.to_csv(FILE_PATH, index=False)"
   ],
   "metadata": {
    "collapsed": false
   }
  },
  {
   "cell_type": "code",
   "execution_count": null,
   "outputs": [],
   "source": [],
   "metadata": {
    "collapsed": false
   }
  }
 ],
 "metadata": {
  "kernelspec": {
   "display_name": "Python 3",
   "language": "python",
   "name": "python3"
  },
  "language_info": {
   "codemirror_mode": {
    "name": "ipython",
    "version": 2
   },
   "file_extension": ".py",
   "mimetype": "text/x-python",
   "name": "python",
   "nbconvert_exporter": "python",
   "pygments_lexer": "ipython2",
   "version": "2.7.6"
  }
 },
 "nbformat": 4,
 "nbformat_minor": 0
}
