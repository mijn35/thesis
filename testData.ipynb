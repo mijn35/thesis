{
 "cells": [
  {
   "cell_type": "code",
   "execution_count": 1,
   "outputs": [],
   "source": [
    "import csv\n",
    "import os\n",
    "import numpy as np\n",
    "import tensorflow as tf\n",
    "from tensorflow import keras\n",
    "from sklearn.model_selection import train_test_split\n",
    "import pandas as pd\n",
    "import matplotlib.pyplot as plt\n",
    "from tensorflow.keras import regularizers\n",
    "\n",
    "RANDOM_SEED = 42"
   ],
   "metadata": {
    "collapsed": false
   }
  },
  {
   "cell_type": "code",
   "execution_count": 47,
   "outputs": [],
   "source": [
    "dataset_test = 'glove_data_test/glove_test_data.csv'\n",
    "model_save_path = 'model/keypoint_classifier/keypoint_classifier_glove.keras'\n",
    "tflite_save_path = 'model/keypoint_classifier/keypoint_classifier_glove.tflite'"
   ],
   "metadata": {
    "collapsed": false
   }
  },
  {
   "cell_type": "code",
   "execution_count": 127,
   "outputs": [
    {
     "name": "stdout",
     "output_type": "stream",
     "text": [
      "(144000, 168)\n",
      "(144000,)\n"
     ]
    }
   ],
   "source": [
    "def augment_data_with_noise(data, noise_scale):\n",
    "    column_stats = data[:, 1:].mean(axis=0), data[:, 1:].std(axis=0)\n",
    "\n",
    "    noise = np.random.normal(loc=0, scale=column_stats[1] * noise_scale, size=data[:, 1:].shape)\n",
    "\n",
    "    augmented_data = data.copy()\n",
    "    augmented_data[:, 1:] += noise\n",
    "\n",
    "    return augmented_data\n",
    "\n",
    "directory = 'data_glove'\n",
    "\n",
    "# Initialize an empty list to store data from all files\n",
    "data_X = []\n",
    "data_y = []\n",
    "\n",
    "# Loop through each file in the directory\n",
    "for filename in os.listdir(directory):\n",
    "    if filename.endswith(\".csv\"):\n",
    "        file_path = os.path.join(directory, filename)\n",
    "        # Load data from each file and append to the list\n",
    "        data_X.append(np.loadtxt(file_path, delimiter=',', dtype='float32', usecols=list(range(300, 325)) + list(range(4, 151))))\n",
    "        data_y.append(np.loadtxt(file_path, delimiter=',', dtype='float32', usecols=(0)))\n",
    "\n",
    "# Concatenate data from all files along the first axis\n",
    "X_dataset = np.concatenate(data_X, axis=0)\n",
    "y_dataset = np.concatenate(data_y, axis=0)\n",
    "\n",
    "# Augment data with noise\n",
    "augmented_data = augment_data_with_noise(X_dataset, 0.1)\n",
    "augmented_data2 = augment_data_with_noise(X_dataset, 0.01)\n",
    "augmented_data3 = augment_data_with_noise(X_dataset, 0.005)\n",
    "augmented_data4 = augment_data_with_noise(X_dataset, 0.05)\n",
    "\n",
    "X_dataset = np.concatenate([X_dataset, augmented_data, augmented_data2, augmented_data3, augmented_data4], axis=0)\n",
    "print(X_dataset.shape)\n",
    "\n",
    "y_dataset = np.concatenate([y_dataset, y_dataset, y_dataset, y_dataset, y_dataset], axis=0)\n",
    "print(y_dataset.shape)\n",
    "X_train, X_validation, y_train, y_validation = train_test_split(X_dataset, y_dataset, train_size=0.70, random_state=RANDOM_SEED)\n",
    "X_test = np.loadtxt(dataset_test, delimiter=',', dtype='float32', usecols=list(range(300, 325)) + list(range(4, 151)))\n",
    "y_test = np.loadtxt(dataset_test, delimiter=',', dtype='int32', usecols=(0))"
   ],
   "metadata": {
    "collapsed": false
   }
  },
  {
   "cell_type": "code",
   "execution_count": 128,
   "outputs": [],
   "source": [
    "NUM_CLASSES = 24"
   ],
   "metadata": {
    "collapsed": false
   }
  },
  {
   "cell_type": "code",
   "execution_count": 120,
   "outputs": [],
   "source": [
    "# Directory containing CSV files\n",
    "directory = 'data_glove'\n",
    "\n",
    "# Initialize an empty list to store data from all files\n",
    "data_X = []\n",
    "data_y = []\n",
    "\n",
    "# Loop through each file in the directory\n",
    "for filename in os.listdir(directory):\n",
    "    if filename.endswith(\".csv\"):\n",
    "        file_path = os.path.join(directory, filename)\n",
    "        # Load data from each file and append to the list\n",
    "        data_X.append(np.loadtxt(file_path, delimiter=',', dtype='float32', usecols=list(range(300, 325)) + list(range(4, 151))))\n",
    "        #data_X.append(np.loadtxt(file_path, delimiter=',', dtype='float32', usecols=list(range(300, 325)) + list(range(79, 151)) + list(range(4, 75))))\n",
    "        data_y.append(np.loadtxt(file_path, delimiter=',', dtype='float32', usecols=(0)))\n",
    "\n",
    "# Concatenate data from all files along the first axis\n",
    "X_dataset = np.concatenate(data_X, axis=0)\n",
    "y_dataset = np.concatenate(data_y, axis=0)\n",
    "\n",
    "\n",
    "X_train, X_validation, y_train, y_validation = train_test_split(X_dataset, y_dataset, train_size=0.70, random_state=RANDOM_SEED)\n",
    "X_test = np.loadtxt(dataset_test, delimiter=',', dtype='float32', usecols=list(range(300, 325)) + list(range(4, 151)))\n",
    "y_test = np.loadtxt(dataset_test, delimiter=',', dtype='int32', usecols=(0))"
   ],
   "metadata": {
    "collapsed": false
   }
  },
  {
   "cell_type": "code",
   "execution_count": 121,
   "outputs": [
    {
     "name": "stdout",
     "output_type": "stream",
     "text": [
      "X dataset shape: (28800, 168)\n",
      "y dataset shape: (28800,)\n",
      "----------------------------------\n",
      "X test dataset shape: (2400, 168)\n",
      "y test dataset shape: (2400,)\n",
      "----------------------------------\n",
      "X dataset train shape: (20160, 168)\n",
      "y dataset train shape: (20160,)\n"
     ]
    }
   ],
   "source": [
    "print(\"X dataset shape: \" + X_dataset.shape.__str__())\n",
    "print(\"y dataset shape: \" + y_dataset.shape.__str__())\n",
    "print(\"----------------------------------\")\n",
    "print(\"X test dataset shape: \" + X_test.shape.__str__())\n",
    "print(\"y test dataset shape: \" + y_test.shape.__str__())\n",
    "print(\"----------------------------------\")\n",
    "print(\"X dataset train shape: \" + X_train.shape.__str__())\n",
    "print(\"y dataset train shape: \" + y_train.shape.__str__())"
   ],
   "metadata": {
    "collapsed": false
   }
  },
  {
   "cell_type": "code",
   "execution_count": 76,
   "outputs": [
    {
     "name": "stdout",
     "output_type": "stream",
     "text": [
      "Feature 0: Score = 1.940065622329712\n",
      "Feature 1: Score = 1709.7410888671875\n",
      "Feature 2: Score = 2279.276123046875\n",
      "Feature 3: Score = 1992.133544921875\n",
      "Feature 4: Score = 1685.8126220703125\n",
      "Feature 5: Score = 297.52276611328125\n",
      "Feature 6: Score = 1092.18212890625\n",
      "Feature 7: Score = 589.9358520507812\n",
      "Feature 8: Score = 659.9945068359375\n",
      "Feature 9: Score = 411.0431213378906\n",
      "Feature 10: Score = 2310.452392578125\n",
      "Feature 11: Score = 4634.18408203125\n",
      "Feature 12: Score = 4633.21484375\n",
      "Feature 13: Score = 304.7097473144531\n",
      "Feature 14: Score = 1888.00634765625\n",
      "Feature 15: Score = 6288.79736328125\n",
      "Feature 16: Score = 6286.82080078125\n",
      "Feature 17: Score = 132.01144409179688\n",
      "Feature 18: Score = 1700.2080078125\n",
      "Feature 19: Score = 2687.412353515625\n",
      "Feature 20: Score = 2685.0849609375\n",
      "Feature 21: Score = 280.849853515625\n",
      "Feature 22: Score = 1705.41796875\n",
      "Feature 23: Score = 2302.740966796875\n",
      "Feature 24: Score = 2299.57421875\n",
      "Feature 25: Score = 5.6466875076293945\n",
      "Feature 26: Score = 15.251811027526855\n",
      "Feature 27: Score = 154.33535766601562\n",
      "Feature 28: Score = 5.641254901885986\n",
      "Feature 29: Score = 25.288251876831055\n",
      "Feature 30: Score = 165.65628051757812\n",
      "Feature 31: Score = 6.563614368438721\n",
      "Feature 32: Score = 36.62492752075195\n",
      "Feature 33: Score = 160.23147583007812\n",
      "Feature 34: Score = 7.937251567840576\n",
      "Feature 35: Score = 55.18266677856445\n",
      "Feature 36: Score = 145.0591278076172\n",
      "Feature 37: Score = 8.362839698791504\n",
      "Feature 38: Score = 17.158485412597656\n",
      "Feature 39: Score = 141.10523986816406\n",
      "Feature 40: Score = 16.144573211669922\n",
      "Feature 41: Score = 20.26847267150879\n",
      "Feature 42: Score = 128.40769958496094\n",
      "Feature 43: Score = 16.222679138183594\n",
      "Feature 44: Score = 33.35222244262695\n",
      "Feature 45: Score = 235.15406799316406\n",
      "Feature 46: Score = 18.472492218017578\n",
      "Feature 47: Score = 35.66323471069336\n",
      "Feature 48: Score = 342.1095886230469\n",
      "Feature 49: Score = 20.18671989440918\n",
      "Feature 50: Score = 30.812353134155273\n",
      "Feature 51: Score = 349.58056640625\n",
      "Feature 52: Score = 15.218034744262695\n",
      "Feature 53: Score = 19.96219825744629\n",
      "Feature 54: Score = 130.19024658203125\n",
      "Feature 55: Score = 18.40188217163086\n",
      "Feature 56: Score = 20.789947509765625\n",
      "Feature 57: Score = 126.90572357177734\n",
      "Feature 58: Score = 13.04451847076416\n",
      "Feature 59: Score = 34.0175666809082\n",
      "Feature 60: Score = 191.80587768554688\n",
      "Feature 61: Score = 13.028651237487793\n",
      "Feature 62: Score = 26.82249641418457\n",
      "Feature 63: Score = 250.90090942382812\n",
      "Feature 64: Score = 13.828447341918945\n",
      "Feature 65: Score = 19.887224197387695\n",
      "Feature 66: Score = 229.05848693847656\n",
      "Feature 67: Score = 17.73644256591797\n",
      "Feature 68: Score = 20.561641693115234\n",
      "Feature 69: Score = 127.08200073242188\n",
      "Feature 70: Score = 16.94693946838379\n",
      "Feature 71: Score = 20.321998596191406\n",
      "Feature 72: Score = 127.1746826171875\n",
      "Feature 73: Score = 11.882593154907227\n",
      "Feature 74: Score = 24.979154586791992\n",
      "Feature 75: Score = 205.68142700195312\n",
      "Feature 76: Score = 12.393622398376465\n",
      "Feature 77: Score = 24.91486167907715\n",
      "Feature 78: Score = 266.2896728515625\n",
      "Feature 79: Score = 16.15894889831543\n",
      "Feature 80: Score = 22.721023559570312\n",
      "Feature 81: Score = 253.72933959960938\n",
      "Feature 82: Score = 11.697471618652344\n",
      "Feature 83: Score = 18.295793533325195\n",
      "Feature 84: Score = 131.19952392578125\n",
      "Feature 85: Score = 12.537761688232422\n",
      "Feature 86: Score = 18.678007125854492\n",
      "Feature 87: Score = 130.22225952148438\n",
      "Feature 88: Score = 9.061192512512207\n",
      "Feature 89: Score = 18.01251983642578\n",
      "Feature 90: Score = 183.47158813476562\n",
      "Feature 91: Score = 8.365209579467773\n",
      "Feature 92: Score = 17.915069580078125\n",
      "Feature 93: Score = 217.32327270507812\n",
      "Feature 94: Score = 10.06138801574707\n",
      "Feature 95: Score = 21.227142333984375\n",
      "Feature 96: Score = 192.04139709472656\n",
      "Feature 97: Score = 245.39967346191406\n",
      "Feature 98: Score = 8.659992218017578\n",
      "Feature 99: Score = 55.858951568603516\n",
      "Feature 100: Score = 115.78977966308594\n",
      "Feature 101: Score = 2.7355480194091797\n",
      "Feature 102: Score = 19.19966697692871\n",
      "Feature 103: Score = 158.24122619628906\n",
      "Feature 104: Score = 2.7355496883392334\n",
      "Feature 105: Score = 19.199665069580078\n",
      "Feature 106: Score = 268.7221374511719\n",
      "Feature 107: Score = 2.7568812370300293\n",
      "Feature 108: Score = 19.167400360107422\n",
      "Feature 109: Score = 268.7221984863281\n",
      "Feature 110: Score = 2.7568795680999756\n",
      "Feature 111: Score = 19.167387008666992\n",
      "Feature 112: Score = 245.3960418701172\n",
      "Feature 113: Score = 8.65998363494873\n",
      "Feature 114: Score = 55.85895919799805\n",
      "Feature 115: Score = 486.89996337890625\n",
      "Feature 116: Score = 9.644883155822754\n",
      "Feature 117: Score = 59.10185241699219\n",
      "Feature 118: Score = 526.0946655273438\n",
      "Feature 119: Score = 9.773994445800781\n",
      "Feature 120: Score = 58.595436096191406\n",
      "Feature 121: Score = 756.2708740234375\n",
      "Feature 122: Score = 9.666881561279297\n",
      "Feature 123: Score = 58.47625732421875\n",
      "Feature 124: Score = 756.587158203125\n",
      "Feature 125: Score = 9.658682823181152\n",
      "Feature 126: Score = 58.437129974365234\n",
      "Feature 127: Score = 248.07696533203125\n",
      "Feature 128: Score = 8.142462730407715\n",
      "Feature 129: Score = 58.20328903198242\n",
      "Feature 130: Score = 217.2283477783203\n",
      "Feature 131: Score = 7.823551177978516\n",
      "Feature 132: Score = 53.411720275878906\n",
      "Feature 133: Score = 496.3764343261719\n",
      "Feature 134: Score = 7.2948760986328125\n",
      "Feature 135: Score = 54.60253143310547\n",
      "Feature 136: Score = 899.2568969726562\n",
      "Feature 137: Score = 7.028622150421143\n",
      "Feature 138: Score = 51.38718795776367\n",
      "Feature 139: Score = 899.1712646484375\n",
      "Feature 140: Score = 7.041694164276123\n",
      "Feature 141: Score = 51.544403076171875\n",
      "Feature 142: Score = 250.7990264892578\n",
      "Feature 143: Score = 6.465282440185547\n",
      "Feature 144: Score = 44.175750732421875\n",
      "Feature 145: Score = 225.69895935058594\n",
      "Feature 146: Score = 8.029498100280762\n",
      "Feature 147: Score = 59.2555046081543\n",
      "Feature 148: Score = 258.00390625\n",
      "Feature 149: Score = 7.265986919403076\n",
      "Feature 150: Score = 58.52912902832031\n",
      "Feature 151: Score = 347.92828369140625\n",
      "Feature 152: Score = 7.056529521942139\n",
      "Feature 153: Score = 53.207149505615234\n",
      "Feature 154: Score = 357.3790588378906\n",
      "Feature 155: Score = 7.024853229522705\n",
      "Feature 156: Score = 53.32316970825195\n",
      "Feature 157: Score = 249.8119354248047\n",
      "Feature 158: Score = 4.205205917358398\n",
      "Feature 159: Score = 49.90476608276367\n",
      "Feature 160: Score = 233.75962829589844\n",
      "Feature 161: Score = 6.320696830749512\n",
      "Feature 162: Score = 52.21628189086914\n",
      "Feature 163: Score = 189.81654357910156\n",
      "Feature 164: Score = 5.737475872039795\n",
      "Feature 165: Score = 53.723167419433594\n",
      "Feature 166: Score = 343.8663330078125\n",
      "Feature 167: Score = 5.3485846519470215\n",
      "Feature 168: Score = 53.829246520996094\n",
      "Feature 169: Score = 341.4685363769531\n",
      "Feature 170: Score = 5.364133358001709\n",
      "Feature 171: Score = 53.89430236816406\n"
     ]
    }
   ],
   "source": [
    "from sklearn.feature_selection import SelectKBest\n",
    "from sklearn.feature_selection import f_classif\n",
    "\n",
    "# Perform feature selection\n",
    "selector = SelectKBest(score_func=f_classif, k='all')\n",
    "X_train_selected = selector.fit_transform(X_train, y_train)\n",
    "X_validation_selected = selector.transform(X_validation)\n",
    "\n",
    "# Get feature scores\n",
    "feature_scores = selector.scores_\n",
    "\n",
    "# Get indices of selected features\n",
    "selected_indices = selector.get_support(indices=True)\n",
    "\n",
    "# Print feature scores and their corresponding indices\n",
    "for i, score in enumerate(feature_scores):\n",
    "    if i in selected_indices:\n",
    "        print(f\"Feature {i}: Score = {score}\")"
   ],
   "metadata": {
    "collapsed": false
   }
  },
  {
   "cell_type": "code",
   "execution_count": 77,
   "outputs": [
    {
     "name": "stdout",
     "output_type": "stream",
     "text": [
      "(20160, 100)\n",
      "(8640, 100)\n",
      "(2400, 100)\n"
     ]
    }
   ],
   "source": [
    "# Sort feature scores and get indices of top 50 features\n",
    "top_indices = sorted(range(len(feature_scores)), key=lambda i: feature_scores[i], reverse=True)[:100]\n",
    "\n",
    "# Extract top 50 features from X_train_selected and X_validation_selected\n",
    "X_train_top50 = X_train_selected[:, top_indices]\n",
    "X_validation_top50 = X_validation_selected[:, top_indices]\n",
    "X_test_top50 = X_test[:, top_indices]\n",
    "\n",
    "print(X_train_top50.shape)\n",
    "print(X_validation_top50.shape)\n",
    "print(X_test_top50.shape)"
   ],
   "metadata": {
    "collapsed": false
   }
  },
  {
   "cell_type": "code",
   "execution_count": 129,
   "outputs": [],
   "source": [
    "model = tf.keras.models.Sequential([\n",
    "    tf.keras.layers.Reshape((168, 1), input_shape=(168,)),\n",
    "    tf.keras.layers.Conv1D(32, kernel_size=3, activation='relu', padding='same'),\n",
    "    tf.keras.layers.MaxPooling1D(pool_size=2),\n",
    "    tf.keras.layers.Conv1D(64, kernel_size=3, activation='relu', padding='same'),\n",
    "    tf.keras.layers.MaxPooling1D(pool_size=10),\n",
    "    tf.keras.layers.Conv1D(128, kernel_size=3, activation='relu', padding='same'),\n",
    "    tf.keras.layers.MaxPooling1D(pool_size=2),\n",
    "    tf.keras.layers.Flatten(),\n",
    "    tf.keras.layers.Dropout(0.8),\n",
    "    tf.keras.layers.Dense(256, activation='relu'),\n",
    "    tf.keras.layers.Dropout(0.5),\n",
    "    tf.keras.layers.Dense(128, activation='relu'),\n",
    "    tf.keras.layers.Dense(NUM_CLASSES, activation='softmax')\n",
    "])"
   ],
   "metadata": {
    "collapsed": false
   }
  },
  {
   "cell_type": "code",
   "execution_count": 130,
   "outputs": [
    {
     "data": {
      "text/plain": "\u001B[1mModel: \"sequential_21\"\u001B[0m\n",
      "text/html": "<pre style=\"white-space:pre;overflow-x:auto;line-height:normal;font-family:Menlo,'DejaVu Sans Mono',consolas,'Courier New',monospace\"><span style=\"font-weight: bold\">Model: \"sequential_21\"</span>\n</pre>\n"
     },
     "metadata": {},
     "output_type": "display_data"
    },
    {
     "data": {
      "text/plain": "┏━━━━━━━━━━━━━━━━━━━━━━━━━━━━━━━━━┳━━━━━━━━━━━━━━━━━━━━━━━━┳━━━━━━━━━━━━━━━┓\n┃\u001B[1m \u001B[0m\u001B[1mLayer (type)                   \u001B[0m\u001B[1m \u001B[0m┃\u001B[1m \u001B[0m\u001B[1mOutput Shape          \u001B[0m\u001B[1m \u001B[0m┃\u001B[1m \u001B[0m\u001B[1m      Param #\u001B[0m\u001B[1m \u001B[0m┃\n┡━━━━━━━━━━━━━━━━━━━━━━━━━━━━━━━━━╇━━━━━━━━━━━━━━━━━━━━━━━━╇━━━━━━━━━━━━━━━┩\n│ reshape_22 (\u001B[38;5;33mReshape\u001B[0m)            │ (\u001B[38;5;45mNone\u001B[0m, \u001B[38;5;34m168\u001B[0m, \u001B[38;5;34m1\u001B[0m)         │             \u001B[38;5;34m0\u001B[0m │\n├─────────────────────────────────┼────────────────────────┼───────────────┤\n│ conv1d_45 (\u001B[38;5;33mConv1D\u001B[0m)              │ (\u001B[38;5;45mNone\u001B[0m, \u001B[38;5;34m168\u001B[0m, \u001B[38;5;34m32\u001B[0m)        │           \u001B[38;5;34m128\u001B[0m │\n├─────────────────────────────────┼────────────────────────┼───────────────┤\n│ max_pooling1d_45 (\u001B[38;5;33mMaxPooling1D\u001B[0m) │ (\u001B[38;5;45mNone\u001B[0m, \u001B[38;5;34m84\u001B[0m, \u001B[38;5;34m32\u001B[0m)         │             \u001B[38;5;34m0\u001B[0m │\n├─────────────────────────────────┼────────────────────────┼───────────────┤\n│ conv1d_46 (\u001B[38;5;33mConv1D\u001B[0m)              │ (\u001B[38;5;45mNone\u001B[0m, \u001B[38;5;34m84\u001B[0m, \u001B[38;5;34m64\u001B[0m)         │         \u001B[38;5;34m6,208\u001B[0m │\n├─────────────────────────────────┼────────────────────────┼───────────────┤\n│ max_pooling1d_46 (\u001B[38;5;33mMaxPooling1D\u001B[0m) │ (\u001B[38;5;45mNone\u001B[0m, \u001B[38;5;34m8\u001B[0m, \u001B[38;5;34m64\u001B[0m)          │             \u001B[38;5;34m0\u001B[0m │\n├─────────────────────────────────┼────────────────────────┼───────────────┤\n│ conv1d_47 (\u001B[38;5;33mConv1D\u001B[0m)              │ (\u001B[38;5;45mNone\u001B[0m, \u001B[38;5;34m8\u001B[0m, \u001B[38;5;34m128\u001B[0m)         │        \u001B[38;5;34m24,704\u001B[0m │\n├─────────────────────────────────┼────────────────────────┼───────────────┤\n│ max_pooling1d_47 (\u001B[38;5;33mMaxPooling1D\u001B[0m) │ (\u001B[38;5;45mNone\u001B[0m, \u001B[38;5;34m4\u001B[0m, \u001B[38;5;34m128\u001B[0m)         │             \u001B[38;5;34m0\u001B[0m │\n├─────────────────────────────────┼────────────────────────┼───────────────┤\n│ flatten_22 (\u001B[38;5;33mFlatten\u001B[0m)            │ (\u001B[38;5;45mNone\u001B[0m, \u001B[38;5;34m512\u001B[0m)            │             \u001B[38;5;34m0\u001B[0m │\n├─────────────────────────────────┼────────────────────────┼───────────────┤\n│ dropout_51 (\u001B[38;5;33mDropout\u001B[0m)            │ (\u001B[38;5;45mNone\u001B[0m, \u001B[38;5;34m512\u001B[0m)            │             \u001B[38;5;34m0\u001B[0m │\n├─────────────────────────────────┼────────────────────────┼───────────────┤\n│ dense_65 (\u001B[38;5;33mDense\u001B[0m)                │ (\u001B[38;5;45mNone\u001B[0m, \u001B[38;5;34m256\u001B[0m)            │       \u001B[38;5;34m131,328\u001B[0m │\n├─────────────────────────────────┼────────────────────────┼───────────────┤\n│ dropout_52 (\u001B[38;5;33mDropout\u001B[0m)            │ (\u001B[38;5;45mNone\u001B[0m, \u001B[38;5;34m256\u001B[0m)            │             \u001B[38;5;34m0\u001B[0m │\n├─────────────────────────────────┼────────────────────────┼───────────────┤\n│ dense_66 (\u001B[38;5;33mDense\u001B[0m)                │ (\u001B[38;5;45mNone\u001B[0m, \u001B[38;5;34m128\u001B[0m)            │        \u001B[38;5;34m32,896\u001B[0m │\n├─────────────────────────────────┼────────────────────────┼───────────────┤\n│ dense_67 (\u001B[38;5;33mDense\u001B[0m)                │ (\u001B[38;5;45mNone\u001B[0m, \u001B[38;5;34m24\u001B[0m)             │         \u001B[38;5;34m3,096\u001B[0m │\n└─────────────────────────────────┴────────────────────────┴───────────────┘\n",
      "text/html": "<pre style=\"white-space:pre;overflow-x:auto;line-height:normal;font-family:Menlo,'DejaVu Sans Mono',consolas,'Courier New',monospace\">┏━━━━━━━━━━━━━━━━━━━━━━━━━━━━━━━━━┳━━━━━━━━━━━━━━━━━━━━━━━━┳━━━━━━━━━━━━━━━┓\n┃<span style=\"font-weight: bold\"> Layer (type)                    </span>┃<span style=\"font-weight: bold\"> Output Shape           </span>┃<span style=\"font-weight: bold\">       Param # </span>┃\n┡━━━━━━━━━━━━━━━━━━━━━━━━━━━━━━━━━╇━━━━━━━━━━━━━━━━━━━━━━━━╇━━━━━━━━━━━━━━━┩\n│ reshape_22 (<span style=\"color: #0087ff; text-decoration-color: #0087ff\">Reshape</span>)            │ (<span style=\"color: #00d7ff; text-decoration-color: #00d7ff\">None</span>, <span style=\"color: #00af00; text-decoration-color: #00af00\">168</span>, <span style=\"color: #00af00; text-decoration-color: #00af00\">1</span>)         │             <span style=\"color: #00af00; text-decoration-color: #00af00\">0</span> │\n├─────────────────────────────────┼────────────────────────┼───────────────┤\n│ conv1d_45 (<span style=\"color: #0087ff; text-decoration-color: #0087ff\">Conv1D</span>)              │ (<span style=\"color: #00d7ff; text-decoration-color: #00d7ff\">None</span>, <span style=\"color: #00af00; text-decoration-color: #00af00\">168</span>, <span style=\"color: #00af00; text-decoration-color: #00af00\">32</span>)        │           <span style=\"color: #00af00; text-decoration-color: #00af00\">128</span> │\n├─────────────────────────────────┼────────────────────────┼───────────────┤\n│ max_pooling1d_45 (<span style=\"color: #0087ff; text-decoration-color: #0087ff\">MaxPooling1D</span>) │ (<span style=\"color: #00d7ff; text-decoration-color: #00d7ff\">None</span>, <span style=\"color: #00af00; text-decoration-color: #00af00\">84</span>, <span style=\"color: #00af00; text-decoration-color: #00af00\">32</span>)         │             <span style=\"color: #00af00; text-decoration-color: #00af00\">0</span> │\n├─────────────────────────────────┼────────────────────────┼───────────────┤\n│ conv1d_46 (<span style=\"color: #0087ff; text-decoration-color: #0087ff\">Conv1D</span>)              │ (<span style=\"color: #00d7ff; text-decoration-color: #00d7ff\">None</span>, <span style=\"color: #00af00; text-decoration-color: #00af00\">84</span>, <span style=\"color: #00af00; text-decoration-color: #00af00\">64</span>)         │         <span style=\"color: #00af00; text-decoration-color: #00af00\">6,208</span> │\n├─────────────────────────────────┼────────────────────────┼───────────────┤\n│ max_pooling1d_46 (<span style=\"color: #0087ff; text-decoration-color: #0087ff\">MaxPooling1D</span>) │ (<span style=\"color: #00d7ff; text-decoration-color: #00d7ff\">None</span>, <span style=\"color: #00af00; text-decoration-color: #00af00\">8</span>, <span style=\"color: #00af00; text-decoration-color: #00af00\">64</span>)          │             <span style=\"color: #00af00; text-decoration-color: #00af00\">0</span> │\n├─────────────────────────────────┼────────────────────────┼───────────────┤\n│ conv1d_47 (<span style=\"color: #0087ff; text-decoration-color: #0087ff\">Conv1D</span>)              │ (<span style=\"color: #00d7ff; text-decoration-color: #00d7ff\">None</span>, <span style=\"color: #00af00; text-decoration-color: #00af00\">8</span>, <span style=\"color: #00af00; text-decoration-color: #00af00\">128</span>)         │        <span style=\"color: #00af00; text-decoration-color: #00af00\">24,704</span> │\n├─────────────────────────────────┼────────────────────────┼───────────────┤\n│ max_pooling1d_47 (<span style=\"color: #0087ff; text-decoration-color: #0087ff\">MaxPooling1D</span>) │ (<span style=\"color: #00d7ff; text-decoration-color: #00d7ff\">None</span>, <span style=\"color: #00af00; text-decoration-color: #00af00\">4</span>, <span style=\"color: #00af00; text-decoration-color: #00af00\">128</span>)         │             <span style=\"color: #00af00; text-decoration-color: #00af00\">0</span> │\n├─────────────────────────────────┼────────────────────────┼───────────────┤\n│ flatten_22 (<span style=\"color: #0087ff; text-decoration-color: #0087ff\">Flatten</span>)            │ (<span style=\"color: #00d7ff; text-decoration-color: #00d7ff\">None</span>, <span style=\"color: #00af00; text-decoration-color: #00af00\">512</span>)            │             <span style=\"color: #00af00; text-decoration-color: #00af00\">0</span> │\n├─────────────────────────────────┼────────────────────────┼───────────────┤\n│ dropout_51 (<span style=\"color: #0087ff; text-decoration-color: #0087ff\">Dropout</span>)            │ (<span style=\"color: #00d7ff; text-decoration-color: #00d7ff\">None</span>, <span style=\"color: #00af00; text-decoration-color: #00af00\">512</span>)            │             <span style=\"color: #00af00; text-decoration-color: #00af00\">0</span> │\n├─────────────────────────────────┼────────────────────────┼───────────────┤\n│ dense_65 (<span style=\"color: #0087ff; text-decoration-color: #0087ff\">Dense</span>)                │ (<span style=\"color: #00d7ff; text-decoration-color: #00d7ff\">None</span>, <span style=\"color: #00af00; text-decoration-color: #00af00\">256</span>)            │       <span style=\"color: #00af00; text-decoration-color: #00af00\">131,328</span> │\n├─────────────────────────────────┼────────────────────────┼───────────────┤\n│ dropout_52 (<span style=\"color: #0087ff; text-decoration-color: #0087ff\">Dropout</span>)            │ (<span style=\"color: #00d7ff; text-decoration-color: #00d7ff\">None</span>, <span style=\"color: #00af00; text-decoration-color: #00af00\">256</span>)            │             <span style=\"color: #00af00; text-decoration-color: #00af00\">0</span> │\n├─────────────────────────────────┼────────────────────────┼───────────────┤\n│ dense_66 (<span style=\"color: #0087ff; text-decoration-color: #0087ff\">Dense</span>)                │ (<span style=\"color: #00d7ff; text-decoration-color: #00d7ff\">None</span>, <span style=\"color: #00af00; text-decoration-color: #00af00\">128</span>)            │        <span style=\"color: #00af00; text-decoration-color: #00af00\">32,896</span> │\n├─────────────────────────────────┼────────────────────────┼───────────────┤\n│ dense_67 (<span style=\"color: #0087ff; text-decoration-color: #0087ff\">Dense</span>)                │ (<span style=\"color: #00d7ff; text-decoration-color: #00d7ff\">None</span>, <span style=\"color: #00af00; text-decoration-color: #00af00\">24</span>)             │         <span style=\"color: #00af00; text-decoration-color: #00af00\">3,096</span> │\n└─────────────────────────────────┴────────────────────────┴───────────────┘\n</pre>\n"
     },
     "metadata": {},
     "output_type": "display_data"
    },
    {
     "data": {
      "text/plain": "\u001B[1m Total params: \u001B[0m\u001B[38;5;34m198,360\u001B[0m (774.84 KB)\n",
      "text/html": "<pre style=\"white-space:pre;overflow-x:auto;line-height:normal;font-family:Menlo,'DejaVu Sans Mono',consolas,'Courier New',monospace\"><span style=\"font-weight: bold\"> Total params: </span><span style=\"color: #00af00; text-decoration-color: #00af00\">198,360</span> (774.84 KB)\n</pre>\n"
     },
     "metadata": {},
     "output_type": "display_data"
    },
    {
     "data": {
      "text/plain": "\u001B[1m Trainable params: \u001B[0m\u001B[38;5;34m198,360\u001B[0m (774.84 KB)\n",
      "text/html": "<pre style=\"white-space:pre;overflow-x:auto;line-height:normal;font-family:Menlo,'DejaVu Sans Mono',consolas,'Courier New',monospace\"><span style=\"font-weight: bold\"> Trainable params: </span><span style=\"color: #00af00; text-decoration-color: #00af00\">198,360</span> (774.84 KB)\n</pre>\n"
     },
     "metadata": {},
     "output_type": "display_data"
    },
    {
     "data": {
      "text/plain": "\u001B[1m Non-trainable params: \u001B[0m\u001B[38;5;34m0\u001B[0m (0.00 B)\n",
      "text/html": "<pre style=\"white-space:pre;overflow-x:auto;line-height:normal;font-family:Menlo,'DejaVu Sans Mono',consolas,'Courier New',monospace\"><span style=\"font-weight: bold\"> Non-trainable params: </span><span style=\"color: #00af00; text-decoration-color: #00af00\">0</span> (0.00 B)\n</pre>\n"
     },
     "metadata": {},
     "output_type": "display_data"
    }
   ],
   "source": [
    "model.summary()"
   ],
   "metadata": {
    "collapsed": false
   }
  },
  {
   "cell_type": "code",
   "execution_count": 131,
   "outputs": [],
   "source": [
    "model2 = tf.keras.models.Sequential([\n",
    "    tf.keras.layers.Reshape((172, 1), input_shape=(172,)),\n",
    "    tf.keras.layers.Conv1D(32, kernel_size=3, activation='relu', padding='same'),\n",
    "    tf.keras.layers.MaxPooling1D(pool_size=2),\n",
    "    tf.keras.layers.Conv1D(64, kernel_size=3, activation='relu', padding='same'),\n",
    "    tf.keras.layers.MaxPooling1D(pool_size=10),\n",
    "    tf.keras.layers.Conv1D(128, kernel_size=3, activation='relu', padding='same'),\n",
    "    tf.keras.layers.MaxPooling1D(pool_size=2),\n",
    "    tf.keras.layers.Flatten(),\n",
    "    tf.keras.layers.Dropout(0.8),\n",
    "    tf.keras.layers.Dense(256, activation='relu'),\n",
    "    tf.keras.layers.Dropout(0.5),\n",
    "    tf.keras.layers.Dense(128, activation='relu'),\n",
    "    tf.keras.layers.Dense(NUM_CLASSES, activation='softmax')\n",
    "])"
   ],
   "metadata": {
    "collapsed": false
   }
  },
  {
   "cell_type": "code",
   "execution_count": 132,
   "outputs": [
    {
     "data": {
      "text/plain": "\u001B[1mModel: \"sequential_22\"\u001B[0m\n",
      "text/html": "<pre style=\"white-space:pre;overflow-x:auto;line-height:normal;font-family:Menlo,'DejaVu Sans Mono',consolas,'Courier New',monospace\"><span style=\"font-weight: bold\">Model: \"sequential_22\"</span>\n</pre>\n"
     },
     "metadata": {},
     "output_type": "display_data"
    },
    {
     "data": {
      "text/plain": "┏━━━━━━━━━━━━━━━━━━━━━━━━━━━━━━━━━┳━━━━━━━━━━━━━━━━━━━━━━━━┳━━━━━━━━━━━━━━━┓\n┃\u001B[1m \u001B[0m\u001B[1mLayer (type)                   \u001B[0m\u001B[1m \u001B[0m┃\u001B[1m \u001B[0m\u001B[1mOutput Shape          \u001B[0m\u001B[1m \u001B[0m┃\u001B[1m \u001B[0m\u001B[1m      Param #\u001B[0m\u001B[1m \u001B[0m┃\n┡━━━━━━━━━━━━━━━━━━━━━━━━━━━━━━━━━╇━━━━━━━━━━━━━━━━━━━━━━━━╇━━━━━━━━━━━━━━━┩\n│ reshape_23 (\u001B[38;5;33mReshape\u001B[0m)            │ (\u001B[38;5;45mNone\u001B[0m, \u001B[38;5;34m172\u001B[0m, \u001B[38;5;34m1\u001B[0m)         │             \u001B[38;5;34m0\u001B[0m │\n├─────────────────────────────────┼────────────────────────┼───────────────┤\n│ conv1d_48 (\u001B[38;5;33mConv1D\u001B[0m)              │ (\u001B[38;5;45mNone\u001B[0m, \u001B[38;5;34m172\u001B[0m, \u001B[38;5;34m32\u001B[0m)        │           \u001B[38;5;34m128\u001B[0m │\n├─────────────────────────────────┼────────────────────────┼───────────────┤\n│ max_pooling1d_48 (\u001B[38;5;33mMaxPooling1D\u001B[0m) │ (\u001B[38;5;45mNone\u001B[0m, \u001B[38;5;34m86\u001B[0m, \u001B[38;5;34m32\u001B[0m)         │             \u001B[38;5;34m0\u001B[0m │\n├─────────────────────────────────┼────────────────────────┼───────────────┤\n│ conv1d_49 (\u001B[38;5;33mConv1D\u001B[0m)              │ (\u001B[38;5;45mNone\u001B[0m, \u001B[38;5;34m86\u001B[0m, \u001B[38;5;34m64\u001B[0m)         │         \u001B[38;5;34m6,208\u001B[0m │\n├─────────────────────────────────┼────────────────────────┼───────────────┤\n│ max_pooling1d_49 (\u001B[38;5;33mMaxPooling1D\u001B[0m) │ (\u001B[38;5;45mNone\u001B[0m, \u001B[38;5;34m8\u001B[0m, \u001B[38;5;34m64\u001B[0m)          │             \u001B[38;5;34m0\u001B[0m │\n├─────────────────────────────────┼────────────────────────┼───────────────┤\n│ conv1d_50 (\u001B[38;5;33mConv1D\u001B[0m)              │ (\u001B[38;5;45mNone\u001B[0m, \u001B[38;5;34m8\u001B[0m, \u001B[38;5;34m128\u001B[0m)         │        \u001B[38;5;34m24,704\u001B[0m │\n├─────────────────────────────────┼────────────────────────┼───────────────┤\n│ max_pooling1d_50 (\u001B[38;5;33mMaxPooling1D\u001B[0m) │ (\u001B[38;5;45mNone\u001B[0m, \u001B[38;5;34m4\u001B[0m, \u001B[38;5;34m128\u001B[0m)         │             \u001B[38;5;34m0\u001B[0m │\n├─────────────────────────────────┼────────────────────────┼───────────────┤\n│ flatten_23 (\u001B[38;5;33mFlatten\u001B[0m)            │ (\u001B[38;5;45mNone\u001B[0m, \u001B[38;5;34m512\u001B[0m)            │             \u001B[38;5;34m0\u001B[0m │\n├─────────────────────────────────┼────────────────────────┼───────────────┤\n│ dropout_53 (\u001B[38;5;33mDropout\u001B[0m)            │ (\u001B[38;5;45mNone\u001B[0m, \u001B[38;5;34m512\u001B[0m)            │             \u001B[38;5;34m0\u001B[0m │\n├─────────────────────────────────┼────────────────────────┼───────────────┤\n│ dense_68 (\u001B[38;5;33mDense\u001B[0m)                │ (\u001B[38;5;45mNone\u001B[0m, \u001B[38;5;34m256\u001B[0m)            │       \u001B[38;5;34m131,328\u001B[0m │\n├─────────────────────────────────┼────────────────────────┼───────────────┤\n│ dropout_54 (\u001B[38;5;33mDropout\u001B[0m)            │ (\u001B[38;5;45mNone\u001B[0m, \u001B[38;5;34m256\u001B[0m)            │             \u001B[38;5;34m0\u001B[0m │\n├─────────────────────────────────┼────────────────────────┼───────────────┤\n│ dense_69 (\u001B[38;5;33mDense\u001B[0m)                │ (\u001B[38;5;45mNone\u001B[0m, \u001B[38;5;34m128\u001B[0m)            │        \u001B[38;5;34m32,896\u001B[0m │\n├─────────────────────────────────┼────────────────────────┼───────────────┤\n│ dense_70 (\u001B[38;5;33mDense\u001B[0m)                │ (\u001B[38;5;45mNone\u001B[0m, \u001B[38;5;34m24\u001B[0m)             │         \u001B[38;5;34m3,096\u001B[0m │\n└─────────────────────────────────┴────────────────────────┴───────────────┘\n",
      "text/html": "<pre style=\"white-space:pre;overflow-x:auto;line-height:normal;font-family:Menlo,'DejaVu Sans Mono',consolas,'Courier New',monospace\">┏━━━━━━━━━━━━━━━━━━━━━━━━━━━━━━━━━┳━━━━━━━━━━━━━━━━━━━━━━━━┳━━━━━━━━━━━━━━━┓\n┃<span style=\"font-weight: bold\"> Layer (type)                    </span>┃<span style=\"font-weight: bold\"> Output Shape           </span>┃<span style=\"font-weight: bold\">       Param # </span>┃\n┡━━━━━━━━━━━━━━━━━━━━━━━━━━━━━━━━━╇━━━━━━━━━━━━━━━━━━━━━━━━╇━━━━━━━━━━━━━━━┩\n│ reshape_23 (<span style=\"color: #0087ff; text-decoration-color: #0087ff\">Reshape</span>)            │ (<span style=\"color: #00d7ff; text-decoration-color: #00d7ff\">None</span>, <span style=\"color: #00af00; text-decoration-color: #00af00\">172</span>, <span style=\"color: #00af00; text-decoration-color: #00af00\">1</span>)         │             <span style=\"color: #00af00; text-decoration-color: #00af00\">0</span> │\n├─────────────────────────────────┼────────────────────────┼───────────────┤\n│ conv1d_48 (<span style=\"color: #0087ff; text-decoration-color: #0087ff\">Conv1D</span>)              │ (<span style=\"color: #00d7ff; text-decoration-color: #00d7ff\">None</span>, <span style=\"color: #00af00; text-decoration-color: #00af00\">172</span>, <span style=\"color: #00af00; text-decoration-color: #00af00\">32</span>)        │           <span style=\"color: #00af00; text-decoration-color: #00af00\">128</span> │\n├─────────────────────────────────┼────────────────────────┼───────────────┤\n│ max_pooling1d_48 (<span style=\"color: #0087ff; text-decoration-color: #0087ff\">MaxPooling1D</span>) │ (<span style=\"color: #00d7ff; text-decoration-color: #00d7ff\">None</span>, <span style=\"color: #00af00; text-decoration-color: #00af00\">86</span>, <span style=\"color: #00af00; text-decoration-color: #00af00\">32</span>)         │             <span style=\"color: #00af00; text-decoration-color: #00af00\">0</span> │\n├─────────────────────────────────┼────────────────────────┼───────────────┤\n│ conv1d_49 (<span style=\"color: #0087ff; text-decoration-color: #0087ff\">Conv1D</span>)              │ (<span style=\"color: #00d7ff; text-decoration-color: #00d7ff\">None</span>, <span style=\"color: #00af00; text-decoration-color: #00af00\">86</span>, <span style=\"color: #00af00; text-decoration-color: #00af00\">64</span>)         │         <span style=\"color: #00af00; text-decoration-color: #00af00\">6,208</span> │\n├─────────────────────────────────┼────────────────────────┼───────────────┤\n│ max_pooling1d_49 (<span style=\"color: #0087ff; text-decoration-color: #0087ff\">MaxPooling1D</span>) │ (<span style=\"color: #00d7ff; text-decoration-color: #00d7ff\">None</span>, <span style=\"color: #00af00; text-decoration-color: #00af00\">8</span>, <span style=\"color: #00af00; text-decoration-color: #00af00\">64</span>)          │             <span style=\"color: #00af00; text-decoration-color: #00af00\">0</span> │\n├─────────────────────────────────┼────────────────────────┼───────────────┤\n│ conv1d_50 (<span style=\"color: #0087ff; text-decoration-color: #0087ff\">Conv1D</span>)              │ (<span style=\"color: #00d7ff; text-decoration-color: #00d7ff\">None</span>, <span style=\"color: #00af00; text-decoration-color: #00af00\">8</span>, <span style=\"color: #00af00; text-decoration-color: #00af00\">128</span>)         │        <span style=\"color: #00af00; text-decoration-color: #00af00\">24,704</span> │\n├─────────────────────────────────┼────────────────────────┼───────────────┤\n│ max_pooling1d_50 (<span style=\"color: #0087ff; text-decoration-color: #0087ff\">MaxPooling1D</span>) │ (<span style=\"color: #00d7ff; text-decoration-color: #00d7ff\">None</span>, <span style=\"color: #00af00; text-decoration-color: #00af00\">4</span>, <span style=\"color: #00af00; text-decoration-color: #00af00\">128</span>)         │             <span style=\"color: #00af00; text-decoration-color: #00af00\">0</span> │\n├─────────────────────────────────┼────────────────────────┼───────────────┤\n│ flatten_23 (<span style=\"color: #0087ff; text-decoration-color: #0087ff\">Flatten</span>)            │ (<span style=\"color: #00d7ff; text-decoration-color: #00d7ff\">None</span>, <span style=\"color: #00af00; text-decoration-color: #00af00\">512</span>)            │             <span style=\"color: #00af00; text-decoration-color: #00af00\">0</span> │\n├─────────────────────────────────┼────────────────────────┼───────────────┤\n│ dropout_53 (<span style=\"color: #0087ff; text-decoration-color: #0087ff\">Dropout</span>)            │ (<span style=\"color: #00d7ff; text-decoration-color: #00d7ff\">None</span>, <span style=\"color: #00af00; text-decoration-color: #00af00\">512</span>)            │             <span style=\"color: #00af00; text-decoration-color: #00af00\">0</span> │\n├─────────────────────────────────┼────────────────────────┼───────────────┤\n│ dense_68 (<span style=\"color: #0087ff; text-decoration-color: #0087ff\">Dense</span>)                │ (<span style=\"color: #00d7ff; text-decoration-color: #00d7ff\">None</span>, <span style=\"color: #00af00; text-decoration-color: #00af00\">256</span>)            │       <span style=\"color: #00af00; text-decoration-color: #00af00\">131,328</span> │\n├─────────────────────────────────┼────────────────────────┼───────────────┤\n│ dropout_54 (<span style=\"color: #0087ff; text-decoration-color: #0087ff\">Dropout</span>)            │ (<span style=\"color: #00d7ff; text-decoration-color: #00d7ff\">None</span>, <span style=\"color: #00af00; text-decoration-color: #00af00\">256</span>)            │             <span style=\"color: #00af00; text-decoration-color: #00af00\">0</span> │\n├─────────────────────────────────┼────────────────────────┼───────────────┤\n│ dense_69 (<span style=\"color: #0087ff; text-decoration-color: #0087ff\">Dense</span>)                │ (<span style=\"color: #00d7ff; text-decoration-color: #00d7ff\">None</span>, <span style=\"color: #00af00; text-decoration-color: #00af00\">128</span>)            │        <span style=\"color: #00af00; text-decoration-color: #00af00\">32,896</span> │\n├─────────────────────────────────┼────────────────────────┼───────────────┤\n│ dense_70 (<span style=\"color: #0087ff; text-decoration-color: #0087ff\">Dense</span>)                │ (<span style=\"color: #00d7ff; text-decoration-color: #00d7ff\">None</span>, <span style=\"color: #00af00; text-decoration-color: #00af00\">24</span>)             │         <span style=\"color: #00af00; text-decoration-color: #00af00\">3,096</span> │\n└─────────────────────────────────┴────────────────────────┴───────────────┘\n</pre>\n"
     },
     "metadata": {},
     "output_type": "display_data"
    },
    {
     "data": {
      "text/plain": "\u001B[1m Total params: \u001B[0m\u001B[38;5;34m198,360\u001B[0m (774.84 KB)\n",
      "text/html": "<pre style=\"white-space:pre;overflow-x:auto;line-height:normal;font-family:Menlo,'DejaVu Sans Mono',consolas,'Courier New',monospace\"><span style=\"font-weight: bold\"> Total params: </span><span style=\"color: #00af00; text-decoration-color: #00af00\">198,360</span> (774.84 KB)\n</pre>\n"
     },
     "metadata": {},
     "output_type": "display_data"
    },
    {
     "data": {
      "text/plain": "\u001B[1m Trainable params: \u001B[0m\u001B[38;5;34m198,360\u001B[0m (774.84 KB)\n",
      "text/html": "<pre style=\"white-space:pre;overflow-x:auto;line-height:normal;font-family:Menlo,'DejaVu Sans Mono',consolas,'Courier New',monospace\"><span style=\"font-weight: bold\"> Trainable params: </span><span style=\"color: #00af00; text-decoration-color: #00af00\">198,360</span> (774.84 KB)\n</pre>\n"
     },
     "metadata": {},
     "output_type": "display_data"
    },
    {
     "data": {
      "text/plain": "\u001B[1m Non-trainable params: \u001B[0m\u001B[38;5;34m0\u001B[0m (0.00 B)\n",
      "text/html": "<pre style=\"white-space:pre;overflow-x:auto;line-height:normal;font-family:Menlo,'DejaVu Sans Mono',consolas,'Courier New',monospace\"><span style=\"font-weight: bold\"> Non-trainable params: </span><span style=\"color: #00af00; text-decoration-color: #00af00\">0</span> (0.00 B)\n</pre>\n"
     },
     "metadata": {},
     "output_type": "display_data"
    }
   ],
   "source": [
    "model2.summary()"
   ],
   "metadata": {
    "collapsed": false
   }
  },
  {
   "cell_type": "code",
   "execution_count": 133,
   "outputs": [
    {
     "data": {
      "text/plain": "\u001B[1mModel: \"sequential_23\"\u001B[0m\n",
      "text/html": "<pre style=\"white-space:pre;overflow-x:auto;line-height:normal;font-family:Menlo,'DejaVu Sans Mono',consolas,'Courier New',monospace\"><span style=\"font-weight: bold\">Model: \"sequential_23\"</span>\n</pre>\n"
     },
     "metadata": {},
     "output_type": "display_data"
    },
    {
     "data": {
      "text/plain": "┏━━━━━━━━━━━━━━━━━━━━━━━━━━━━━━━━━┳━━━━━━━━━━━━━━━━━━━━━━━━┳━━━━━━━━━━━━━━━┓\n┃\u001B[1m \u001B[0m\u001B[1mLayer (type)                   \u001B[0m\u001B[1m \u001B[0m┃\u001B[1m \u001B[0m\u001B[1mOutput Shape          \u001B[0m\u001B[1m \u001B[0m┃\u001B[1m \u001B[0m\u001B[1m      Param #\u001B[0m\u001B[1m \u001B[0m┃\n┡━━━━━━━━━━━━━━━━━━━━━━━━━━━━━━━━━╇━━━━━━━━━━━━━━━━━━━━━━━━╇━━━━━━━━━━━━━━━┩\n│ reshape_24 (\u001B[38;5;33mReshape\u001B[0m)            │ (\u001B[38;5;45mNone\u001B[0m, \u001B[38;5;34m86\u001B[0m, \u001B[38;5;34m2\u001B[0m, \u001B[38;5;34m1\u001B[0m)       │             \u001B[38;5;34m0\u001B[0m │\n├─────────────────────────────────┼────────────────────────┼───────────────┤\n│ conv2d_19 (\u001B[38;5;33mConv2D\u001B[0m)              │ (\u001B[38;5;45mNone\u001B[0m, \u001B[38;5;34m86\u001B[0m, \u001B[38;5;34m2\u001B[0m, \u001B[38;5;34m32\u001B[0m)      │           \u001B[38;5;34m128\u001B[0m │\n├─────────────────────────────────┼────────────────────────┼───────────────┤\n│ max_pooling2d_19 (\u001B[38;5;33mMaxPooling2D\u001B[0m) │ (\u001B[38;5;45mNone\u001B[0m, \u001B[38;5;34m43\u001B[0m, \u001B[38;5;34m2\u001B[0m, \u001B[38;5;34m32\u001B[0m)      │             \u001B[38;5;34m0\u001B[0m │\n├─────────────────────────────────┼────────────────────────┼───────────────┤\n│ conv2d_20 (\u001B[38;5;33mConv2D\u001B[0m)              │ (\u001B[38;5;45mNone\u001B[0m, \u001B[38;5;34m43\u001B[0m, \u001B[38;5;34m2\u001B[0m, \u001B[38;5;34m64\u001B[0m)      │        \u001B[38;5;34m61,504\u001B[0m │\n├─────────────────────────────────┼────────────────────────┼───────────────┤\n│ max_pooling2d_20 (\u001B[38;5;33mMaxPooling2D\u001B[0m) │ (\u001B[38;5;45mNone\u001B[0m, \u001B[38;5;34m21\u001B[0m, \u001B[38;5;34m2\u001B[0m, \u001B[38;5;34m64\u001B[0m)      │             \u001B[38;5;34m0\u001B[0m │\n├─────────────────────────────────┼────────────────────────┼───────────────┤\n│ conv2d_21 (\u001B[38;5;33mConv2D\u001B[0m)              │ (\u001B[38;5;45mNone\u001B[0m, \u001B[38;5;34m21\u001B[0m, \u001B[38;5;34m2\u001B[0m, \u001B[38;5;34m128\u001B[0m)     │        \u001B[38;5;34m24,704\u001B[0m │\n├─────────────────────────────────┼────────────────────────┼───────────────┤\n│ max_pooling2d_21 (\u001B[38;5;33mMaxPooling2D\u001B[0m) │ (\u001B[38;5;45mNone\u001B[0m, \u001B[38;5;34m10\u001B[0m, \u001B[38;5;34m2\u001B[0m, \u001B[38;5;34m128\u001B[0m)     │             \u001B[38;5;34m0\u001B[0m │\n├─────────────────────────────────┼────────────────────────┼───────────────┤\n│ flatten_24 (\u001B[38;5;33mFlatten\u001B[0m)            │ (\u001B[38;5;45mNone\u001B[0m, \u001B[38;5;34m2560\u001B[0m)           │             \u001B[38;5;34m0\u001B[0m │\n├─────────────────────────────────┼────────────────────────┼───────────────┤\n│ dropout_55 (\u001B[38;5;33mDropout\u001B[0m)            │ (\u001B[38;5;45mNone\u001B[0m, \u001B[38;5;34m2560\u001B[0m)           │             \u001B[38;5;34m0\u001B[0m │\n├─────────────────────────────────┼────────────────────────┼───────────────┤\n│ dense_71 (\u001B[38;5;33mDense\u001B[0m)                │ (\u001B[38;5;45mNone\u001B[0m, \u001B[38;5;34m256\u001B[0m)            │       \u001B[38;5;34m655,616\u001B[0m │\n├─────────────────────────────────┼────────────────────────┼───────────────┤\n│ dropout_56 (\u001B[38;5;33mDropout\u001B[0m)            │ (\u001B[38;5;45mNone\u001B[0m, \u001B[38;5;34m256\u001B[0m)            │             \u001B[38;5;34m0\u001B[0m │\n├─────────────────────────────────┼────────────────────────┼───────────────┤\n│ dense_72 (\u001B[38;5;33mDense\u001B[0m)                │ (\u001B[38;5;45mNone\u001B[0m, \u001B[38;5;34m128\u001B[0m)            │        \u001B[38;5;34m32,896\u001B[0m │\n├─────────────────────────────────┼────────────────────────┼───────────────┤\n│ dropout_57 (\u001B[38;5;33mDropout\u001B[0m)            │ (\u001B[38;5;45mNone\u001B[0m, \u001B[38;5;34m128\u001B[0m)            │             \u001B[38;5;34m0\u001B[0m │\n├─────────────────────────────────┼────────────────────────┼───────────────┤\n│ dense_73 (\u001B[38;5;33mDense\u001B[0m)                │ (\u001B[38;5;45mNone\u001B[0m, \u001B[38;5;34m24\u001B[0m)             │         \u001B[38;5;34m3,096\u001B[0m │\n└─────────────────────────────────┴────────────────────────┴───────────────┘\n",
      "text/html": "<pre style=\"white-space:pre;overflow-x:auto;line-height:normal;font-family:Menlo,'DejaVu Sans Mono',consolas,'Courier New',monospace\">┏━━━━━━━━━━━━━━━━━━━━━━━━━━━━━━━━━┳━━━━━━━━━━━━━━━━━━━━━━━━┳━━━━━━━━━━━━━━━┓\n┃<span style=\"font-weight: bold\"> Layer (type)                    </span>┃<span style=\"font-weight: bold\"> Output Shape           </span>┃<span style=\"font-weight: bold\">       Param # </span>┃\n┡━━━━━━━━━━━━━━━━━━━━━━━━━━━━━━━━━╇━━━━━━━━━━━━━━━━━━━━━━━━╇━━━━━━━━━━━━━━━┩\n│ reshape_24 (<span style=\"color: #0087ff; text-decoration-color: #0087ff\">Reshape</span>)            │ (<span style=\"color: #00d7ff; text-decoration-color: #00d7ff\">None</span>, <span style=\"color: #00af00; text-decoration-color: #00af00\">86</span>, <span style=\"color: #00af00; text-decoration-color: #00af00\">2</span>, <span style=\"color: #00af00; text-decoration-color: #00af00\">1</span>)       │             <span style=\"color: #00af00; text-decoration-color: #00af00\">0</span> │\n├─────────────────────────────────┼────────────────────────┼───────────────┤\n│ conv2d_19 (<span style=\"color: #0087ff; text-decoration-color: #0087ff\">Conv2D</span>)              │ (<span style=\"color: #00d7ff; text-decoration-color: #00d7ff\">None</span>, <span style=\"color: #00af00; text-decoration-color: #00af00\">86</span>, <span style=\"color: #00af00; text-decoration-color: #00af00\">2</span>, <span style=\"color: #00af00; text-decoration-color: #00af00\">32</span>)      │           <span style=\"color: #00af00; text-decoration-color: #00af00\">128</span> │\n├─────────────────────────────────┼────────────────────────┼───────────────┤\n│ max_pooling2d_19 (<span style=\"color: #0087ff; text-decoration-color: #0087ff\">MaxPooling2D</span>) │ (<span style=\"color: #00d7ff; text-decoration-color: #00d7ff\">None</span>, <span style=\"color: #00af00; text-decoration-color: #00af00\">43</span>, <span style=\"color: #00af00; text-decoration-color: #00af00\">2</span>, <span style=\"color: #00af00; text-decoration-color: #00af00\">32</span>)      │             <span style=\"color: #00af00; text-decoration-color: #00af00\">0</span> │\n├─────────────────────────────────┼────────────────────────┼───────────────┤\n│ conv2d_20 (<span style=\"color: #0087ff; text-decoration-color: #0087ff\">Conv2D</span>)              │ (<span style=\"color: #00d7ff; text-decoration-color: #00d7ff\">None</span>, <span style=\"color: #00af00; text-decoration-color: #00af00\">43</span>, <span style=\"color: #00af00; text-decoration-color: #00af00\">2</span>, <span style=\"color: #00af00; text-decoration-color: #00af00\">64</span>)      │        <span style=\"color: #00af00; text-decoration-color: #00af00\">61,504</span> │\n├─────────────────────────────────┼────────────────────────┼───────────────┤\n│ max_pooling2d_20 (<span style=\"color: #0087ff; text-decoration-color: #0087ff\">MaxPooling2D</span>) │ (<span style=\"color: #00d7ff; text-decoration-color: #00d7ff\">None</span>, <span style=\"color: #00af00; text-decoration-color: #00af00\">21</span>, <span style=\"color: #00af00; text-decoration-color: #00af00\">2</span>, <span style=\"color: #00af00; text-decoration-color: #00af00\">64</span>)      │             <span style=\"color: #00af00; text-decoration-color: #00af00\">0</span> │\n├─────────────────────────────────┼────────────────────────┼───────────────┤\n│ conv2d_21 (<span style=\"color: #0087ff; text-decoration-color: #0087ff\">Conv2D</span>)              │ (<span style=\"color: #00d7ff; text-decoration-color: #00d7ff\">None</span>, <span style=\"color: #00af00; text-decoration-color: #00af00\">21</span>, <span style=\"color: #00af00; text-decoration-color: #00af00\">2</span>, <span style=\"color: #00af00; text-decoration-color: #00af00\">128</span>)     │        <span style=\"color: #00af00; text-decoration-color: #00af00\">24,704</span> │\n├─────────────────────────────────┼────────────────────────┼───────────────┤\n│ max_pooling2d_21 (<span style=\"color: #0087ff; text-decoration-color: #0087ff\">MaxPooling2D</span>) │ (<span style=\"color: #00d7ff; text-decoration-color: #00d7ff\">None</span>, <span style=\"color: #00af00; text-decoration-color: #00af00\">10</span>, <span style=\"color: #00af00; text-decoration-color: #00af00\">2</span>, <span style=\"color: #00af00; text-decoration-color: #00af00\">128</span>)     │             <span style=\"color: #00af00; text-decoration-color: #00af00\">0</span> │\n├─────────────────────────────────┼────────────────────────┼───────────────┤\n│ flatten_24 (<span style=\"color: #0087ff; text-decoration-color: #0087ff\">Flatten</span>)            │ (<span style=\"color: #00d7ff; text-decoration-color: #00d7ff\">None</span>, <span style=\"color: #00af00; text-decoration-color: #00af00\">2560</span>)           │             <span style=\"color: #00af00; text-decoration-color: #00af00\">0</span> │\n├─────────────────────────────────┼────────────────────────┼───────────────┤\n│ dropout_55 (<span style=\"color: #0087ff; text-decoration-color: #0087ff\">Dropout</span>)            │ (<span style=\"color: #00d7ff; text-decoration-color: #00d7ff\">None</span>, <span style=\"color: #00af00; text-decoration-color: #00af00\">2560</span>)           │             <span style=\"color: #00af00; text-decoration-color: #00af00\">0</span> │\n├─────────────────────────────────┼────────────────────────┼───────────────┤\n│ dense_71 (<span style=\"color: #0087ff; text-decoration-color: #0087ff\">Dense</span>)                │ (<span style=\"color: #00d7ff; text-decoration-color: #00d7ff\">None</span>, <span style=\"color: #00af00; text-decoration-color: #00af00\">256</span>)            │       <span style=\"color: #00af00; text-decoration-color: #00af00\">655,616</span> │\n├─────────────────────────────────┼────────────────────────┼───────────────┤\n│ dropout_56 (<span style=\"color: #0087ff; text-decoration-color: #0087ff\">Dropout</span>)            │ (<span style=\"color: #00d7ff; text-decoration-color: #00d7ff\">None</span>, <span style=\"color: #00af00; text-decoration-color: #00af00\">256</span>)            │             <span style=\"color: #00af00; text-decoration-color: #00af00\">0</span> │\n├─────────────────────────────────┼────────────────────────┼───────────────┤\n│ dense_72 (<span style=\"color: #0087ff; text-decoration-color: #0087ff\">Dense</span>)                │ (<span style=\"color: #00d7ff; text-decoration-color: #00d7ff\">None</span>, <span style=\"color: #00af00; text-decoration-color: #00af00\">128</span>)            │        <span style=\"color: #00af00; text-decoration-color: #00af00\">32,896</span> │\n├─────────────────────────────────┼────────────────────────┼───────────────┤\n│ dropout_57 (<span style=\"color: #0087ff; text-decoration-color: #0087ff\">Dropout</span>)            │ (<span style=\"color: #00d7ff; text-decoration-color: #00d7ff\">None</span>, <span style=\"color: #00af00; text-decoration-color: #00af00\">128</span>)            │             <span style=\"color: #00af00; text-decoration-color: #00af00\">0</span> │\n├─────────────────────────────────┼────────────────────────┼───────────────┤\n│ dense_73 (<span style=\"color: #0087ff; text-decoration-color: #0087ff\">Dense</span>)                │ (<span style=\"color: #00d7ff; text-decoration-color: #00d7ff\">None</span>, <span style=\"color: #00af00; text-decoration-color: #00af00\">24</span>)             │         <span style=\"color: #00af00; text-decoration-color: #00af00\">3,096</span> │\n└─────────────────────────────────┴────────────────────────┴───────────────┘\n</pre>\n"
     },
     "metadata": {},
     "output_type": "display_data"
    },
    {
     "data": {
      "text/plain": "\u001B[1m Total params: \u001B[0m\u001B[38;5;34m777,944\u001B[0m (2.97 MB)\n",
      "text/html": "<pre style=\"white-space:pre;overflow-x:auto;line-height:normal;font-family:Menlo,'DejaVu Sans Mono',consolas,'Courier New',monospace\"><span style=\"font-weight: bold\"> Total params: </span><span style=\"color: #00af00; text-decoration-color: #00af00\">777,944</span> (2.97 MB)\n</pre>\n"
     },
     "metadata": {},
     "output_type": "display_data"
    },
    {
     "data": {
      "text/plain": "\u001B[1m Trainable params: \u001B[0m\u001B[38;5;34m777,944\u001B[0m (2.97 MB)\n",
      "text/html": "<pre style=\"white-space:pre;overflow-x:auto;line-height:normal;font-family:Menlo,'DejaVu Sans Mono',consolas,'Courier New',monospace\"><span style=\"font-weight: bold\"> Trainable params: </span><span style=\"color: #00af00; text-decoration-color: #00af00\">777,944</span> (2.97 MB)\n</pre>\n"
     },
     "metadata": {},
     "output_type": "display_data"
    },
    {
     "data": {
      "text/plain": "\u001B[1m Non-trainable params: \u001B[0m\u001B[38;5;34m0\u001B[0m (0.00 B)\n",
      "text/html": "<pre style=\"white-space:pre;overflow-x:auto;line-height:normal;font-family:Menlo,'DejaVu Sans Mono',consolas,'Courier New',monospace\"><span style=\"font-weight: bold\"> Non-trainable params: </span><span style=\"color: #00af00; text-decoration-color: #00af00\">0</span> (0.00 B)\n</pre>\n"
     },
     "metadata": {},
     "output_type": "display_data"
    }
   ],
   "source": [
    "model3 = tf.keras.models.Sequential([\n",
    "    tf.keras.layers.Reshape((86, 2, 1), input_shape=(172, )),\n",
    "    tf.keras.layers.Conv2D(32, kernel_size=(3, 1), activation='relu', padding='same'),\n",
    "    tf.keras.layers.MaxPooling2D(pool_size=(2, 1)),\n",
    "    tf.keras.layers.Conv2D(64, kernel_size=(3, 10), activation='relu', padding='same'),\n",
    "    tf.keras.layers.MaxPooling2D(pool_size=(2, 1)),\n",
    "    tf.keras.layers.Conv2D(128, kernel_size=(3, 1), activation='relu', padding='same'),\n",
    "    tf.keras.layers.MaxPooling2D(pool_size=(2, 1)),\n",
    "    tf.keras.layers.Flatten(),\n",
    "    tf.keras.layers.Dropout(0.8),\n",
    "    tf.keras.layers.Dense(256, activation='relu'),\n",
    "    tf.keras.layers.Dropout(0.5),\n",
    "    tf.keras.layers.Dense(128, activation='relu'),\n",
    "    tf.keras.layers.Dropout(0.25),\n",
    "    tf.keras.layers.Dense(NUM_CLASSES, activation='softmax')\n",
    "])\n",
    "\n",
    "model3.summary()"
   ],
   "metadata": {
    "collapsed": false
   }
  },
  {
   "cell_type": "code",
   "execution_count": 134,
   "outputs": [],
   "source": [
    "# Model checkpoint callback\n",
    "cp_callback = tf.keras.callbacks.ModelCheckpoint(\n",
    "    model_save_path, verbose=1, save_weights_only=False)\n",
    "# Callback for early stopping\n",
    "es_callback = tf.keras.callbacks.EarlyStopping(patience=10, verbose=1)"
   ],
   "metadata": {
    "collapsed": false
   }
  },
  {
   "cell_type": "code",
   "execution_count": 135,
   "outputs": [],
   "source": [
    "# Model checkpoint callback\n",
    "cp_callback_test = tf.keras.callbacks.ModelCheckpoint(\n",
    "    model_save_path, verbose=1, save_weights_only=False)\n",
    "# Callback for early stopping\n",
    "es_callback_test = tf.keras.callbacks.EarlyStopping(patience=30, verbose=1)"
   ],
   "metadata": {
    "collapsed": false
   }
  },
  {
   "cell_type": "code",
   "execution_count": 136,
   "outputs": [],
   "source": [
    "# Model compilation\n",
    "model.compile(\n",
    "    optimizer='adam',\n",
    "    loss='sparse_categorical_crossentropy',\n",
    "    metrics=['accuracy']\n",
    ")"
   ],
   "metadata": {
    "collapsed": false
   }
  },
  {
   "cell_type": "code",
   "execution_count": 137,
   "outputs": [],
   "source": [
    "# Model compilation\n",
    "model2.compile(\n",
    "    optimizer='adam',\n",
    "    loss='sparse_categorical_crossentropy',\n",
    "    metrics=['accuracy']\n",
    ")"
   ],
   "metadata": {
    "collapsed": false
   }
  },
  {
   "cell_type": "code",
   "execution_count": 138,
   "outputs": [],
   "source": [
    "# Model compilation\n",
    "model3.compile(\n",
    "    optimizer='adam',\n",
    "    loss='sparse_categorical_crossentropy',\n",
    "    metrics=['accuracy']\n",
    ")"
   ],
   "metadata": {
    "collapsed": false
   }
  },
  {
   "cell_type": "code",
   "execution_count": 139,
   "outputs": [
    {
     "name": "stdout",
     "output_type": "stream",
     "text": [
      "Epoch 1/1000\n",
      "\u001B[1m788/788\u001B[0m \u001B[32m━━━━━━━━━━━━━━━━━━━━\u001B[0m\u001B[37m\u001B[0m \u001B[1m0s\u001B[0m 15ms/step - accuracy: 0.0729 - loss: 7.0657\n",
      "Epoch 1: saving model to model/keypoint_classifier/keypoint_classifier_glove.keras\n",
      "\u001B[1m788/788\u001B[0m \u001B[32m━━━━━━━━━━━━━━━━━━━━\u001B[0m\u001B[37m\u001B[0m \u001B[1m19s\u001B[0m 19ms/step - accuracy: 0.0730 - loss: 7.0617 - val_accuracy: 0.3394 - val_loss: 2.5092\n",
      "Epoch 2/1000\n",
      "\u001B[1m787/788\u001B[0m \u001B[32m━━━━━━━━━━━━━━━━━━━\u001B[0m\u001B[37m━\u001B[0m \u001B[1m0s\u001B[0m 14ms/step - accuracy: 0.1890 - loss: 2.5672\n",
      "Epoch 2: saving model to model/keypoint_classifier/keypoint_classifier_glove.keras\n",
      "\u001B[1m788/788\u001B[0m \u001B[32m━━━━━━━━━━━━━━━━━━━━\u001B[0m\u001B[37m\u001B[0m \u001B[1m12s\u001B[0m 16ms/step - accuracy: 0.1891 - loss: 2.5667 - val_accuracy: 0.5491 - val_loss: 1.4978\n",
      "Epoch 3/1000\n",
      "\u001B[1m785/788\u001B[0m \u001B[32m━━━━━━━━━━━━━━━━━━━\u001B[0m\u001B[37m━\u001B[0m \u001B[1m0s\u001B[0m 14ms/step - accuracy: 0.3562 - loss: 1.8345\n",
      "Epoch 3: saving model to model/keypoint_classifier/keypoint_classifier_glove.keras\n",
      "\u001B[1m788/788\u001B[0m \u001B[32m━━━━━━━━━━━━━━━━━━━━\u001B[0m\u001B[37m\u001B[0m \u001B[1m12s\u001B[0m 16ms/step - accuracy: 0.3564 - loss: 1.8338 - val_accuracy: 0.6883 - val_loss: 1.0607\n",
      "Epoch 4/1000\n",
      "\u001B[1m786/788\u001B[0m \u001B[32m━━━━━━━━━━━━━━━━━━━\u001B[0m\u001B[37m━\u001B[0m \u001B[1m0s\u001B[0m 13ms/step - accuracy: 0.4637 - loss: 1.5084\n",
      "Epoch 4: saving model to model/keypoint_classifier/keypoint_classifier_glove.keras\n",
      "\u001B[1m788/788\u001B[0m \u001B[32m━━━━━━━━━━━━━━━━━━━━\u001B[0m\u001B[37m\u001B[0m \u001B[1m12s\u001B[0m 16ms/step - accuracy: 0.4638 - loss: 1.5082 - val_accuracy: 0.6980 - val_loss: 0.9012\n",
      "Epoch 5/1000\n",
      "\u001B[1m785/788\u001B[0m \u001B[32m━━━━━━━━━━━━━━━━━━━\u001B[0m\u001B[37m━\u001B[0m \u001B[1m0s\u001B[0m 14ms/step - accuracy: 0.5241 - loss: 1.2910\n",
      "Epoch 5: saving model to model/keypoint_classifier/keypoint_classifier_glove.keras\n",
      "\u001B[1m788/788\u001B[0m \u001B[32m━━━━━━━━━━━━━━━━━━━━\u001B[0m\u001B[37m\u001B[0m \u001B[1m13s\u001B[0m 16ms/step - accuracy: 0.5242 - loss: 1.2908 - val_accuracy: 0.7609 - val_loss: 0.7347\n",
      "Epoch 6/1000\n",
      "\u001B[1m786/788\u001B[0m \u001B[32m━━━━━━━━━━━━━━━━━━━\u001B[0m\u001B[37m━\u001B[0m \u001B[1m0s\u001B[0m 14ms/step - accuracy: 0.5885 - loss: 1.1104\n",
      "Epoch 6: saving model to model/keypoint_classifier/keypoint_classifier_glove.keras\n",
      "\u001B[1m788/788\u001B[0m \u001B[32m━━━━━━━━━━━━━━━━━━━━\u001B[0m\u001B[37m\u001B[0m \u001B[1m13s\u001B[0m 16ms/step - accuracy: 0.5885 - loss: 1.1103 - val_accuracy: 0.7939 - val_loss: 0.5991\n",
      "Epoch 7/1000\n",
      "\u001B[1m786/788\u001B[0m \u001B[32m━━━━━━━━━━━━━━━━━━━\u001B[0m\u001B[37m━\u001B[0m \u001B[1m0s\u001B[0m 14ms/step - accuracy: 0.6181 - loss: 1.0453\n",
      "Epoch 7: saving model to model/keypoint_classifier/keypoint_classifier_glove.keras\n",
      "\u001B[1m788/788\u001B[0m \u001B[32m━━━━━━━━━━━━━━━━━━━━\u001B[0m\u001B[37m\u001B[0m \u001B[1m13s\u001B[0m 17ms/step - accuracy: 0.6181 - loss: 1.0453 - val_accuracy: 0.8243 - val_loss: 0.5012\n",
      "Epoch 8/1000\n",
      "\u001B[1m788/788\u001B[0m \u001B[32m━━━━━━━━━━━━━━━━━━━━\u001B[0m\u001B[37m\u001B[0m \u001B[1m0s\u001B[0m 16ms/step - accuracy: 0.6597 - loss: 0.9245\n",
      "Epoch 8: saving model to model/keypoint_classifier/keypoint_classifier_glove.keras\n",
      "\u001B[1m788/788\u001B[0m \u001B[32m━━━━━━━━━━━━━━━━━━━━\u001B[0m\u001B[37m\u001B[0m \u001B[1m16s\u001B[0m 20ms/step - accuracy: 0.6597 - loss: 0.9245 - val_accuracy: 0.8459 - val_loss: 0.4576\n",
      "Epoch 9/1000\n",
      "\u001B[1m785/788\u001B[0m \u001B[32m━━━━━━━━━━━━━━━━━━━\u001B[0m\u001B[37m━\u001B[0m \u001B[1m0s\u001B[0m 16ms/step - accuracy: 0.6877 - loss: 0.8455\n",
      "Epoch 9: saving model to model/keypoint_classifier/keypoint_classifier_glove.keras\n",
      "\u001B[1m788/788\u001B[0m \u001B[32m━━━━━━━━━━━━━━━━━━━━\u001B[0m\u001B[37m\u001B[0m \u001B[1m15s\u001B[0m 19ms/step - accuracy: 0.6878 - loss: 0.8454 - val_accuracy: 0.8947 - val_loss: 0.3502\n",
      "Epoch 10/1000\n",
      "\u001B[1m787/788\u001B[0m \u001B[32m━━━━━━━━━━━━━━━━━━━\u001B[0m\u001B[37m━\u001B[0m \u001B[1m0s\u001B[0m 16ms/step - accuracy: 0.7151 - loss: 0.7821\n",
      "Epoch 10: saving model to model/keypoint_classifier/keypoint_classifier_glove.keras\n",
      "\u001B[1m788/788\u001B[0m \u001B[32m━━━━━━━━━━━━━━━━━━━━\u001B[0m\u001B[37m\u001B[0m \u001B[1m15s\u001B[0m 19ms/step - accuracy: 0.7151 - loss: 0.7821 - val_accuracy: 0.8708 - val_loss: 1.5066\n",
      "Epoch 11/1000\n",
      "\u001B[1m788/788\u001B[0m \u001B[32m━━━━━━━━━━━━━━━━━━━━\u001B[0m\u001B[37m\u001B[0m \u001B[1m0s\u001B[0m 16ms/step - accuracy: 0.7257 - loss: 0.8680\n",
      "Epoch 11: saving model to model/keypoint_classifier/keypoint_classifier_glove.keras\n",
      "\u001B[1m788/788\u001B[0m \u001B[32m━━━━━━━━━━━━━━━━━━━━\u001B[0m\u001B[37m\u001B[0m \u001B[1m16s\u001B[0m 20ms/step - accuracy: 0.7257 - loss: 0.8679 - val_accuracy: 0.9085 - val_loss: 0.2973\n",
      "Epoch 12/1000\n",
      "\u001B[1m788/788\u001B[0m \u001B[32m━━━━━━━━━━━━━━━━━━━━\u001B[0m\u001B[37m\u001B[0m \u001B[1m0s\u001B[0m 14ms/step - accuracy: 0.7426 - loss: 0.7108\n",
      "Epoch 12: saving model to model/keypoint_classifier/keypoint_classifier_glove.keras\n",
      "\u001B[1m788/788\u001B[0m \u001B[32m━━━━━━━━━━━━━━━━━━━━\u001B[0m\u001B[37m\u001B[0m \u001B[1m13s\u001B[0m 16ms/step - accuracy: 0.7426 - loss: 0.7108 - val_accuracy: 0.9134 - val_loss: 0.2834\n",
      "Epoch 13/1000\n",
      "\u001B[1m788/788\u001B[0m \u001B[32m━━━━━━━━━━━━━━━━━━━━\u001B[0m\u001B[37m\u001B[0m \u001B[1m0s\u001B[0m 14ms/step - accuracy: 0.7563 - loss: 0.6618\n",
      "Epoch 13: saving model to model/keypoint_classifier/keypoint_classifier_glove.keras\n",
      "\u001B[1m788/788\u001B[0m \u001B[32m━━━━━━━━━━━━━━━━━━━━\u001B[0m\u001B[37m\u001B[0m \u001B[1m13s\u001B[0m 16ms/step - accuracy: 0.7563 - loss: 0.6618 - val_accuracy: 0.9205 - val_loss: 0.2389\n",
      "Epoch 14/1000\n",
      "\u001B[1m785/788\u001B[0m \u001B[32m━━━━━━━━━━━━━━━━━━━\u001B[0m\u001B[37m━\u001B[0m \u001B[1m0s\u001B[0m 14ms/step - accuracy: 0.7588 - loss: 0.6812\n",
      "Epoch 14: saving model to model/keypoint_classifier/keypoint_classifier_glove.keras\n",
      "\u001B[1m788/788\u001B[0m \u001B[32m━━━━━━━━━━━━━━━━━━━━\u001B[0m\u001B[37m\u001B[0m \u001B[1m13s\u001B[0m 16ms/step - accuracy: 0.7588 - loss: 0.6811 - val_accuracy: 0.9308 - val_loss: 0.2160\n",
      "Epoch 15/1000\n",
      "\u001B[1m787/788\u001B[0m \u001B[32m━━━━━━━━━━━━━━━━━━━\u001B[0m\u001B[37m━\u001B[0m \u001B[1m0s\u001B[0m 14ms/step - accuracy: 0.7831 - loss: 0.6015\n",
      "Epoch 15: saving model to model/keypoint_classifier/keypoint_classifier_glove.keras\n",
      "\u001B[1m788/788\u001B[0m \u001B[32m━━━━━━━━━━━━━━━━━━━━\u001B[0m\u001B[37m\u001B[0m \u001B[1m13s\u001B[0m 16ms/step - accuracy: 0.7831 - loss: 0.6015 - val_accuracy: 0.9403 - val_loss: 0.1969\n",
      "Epoch 16/1000\n",
      "\u001B[1m787/788\u001B[0m \u001B[32m━━━━━━━━━━━━━━━━━━━\u001B[0m\u001B[37m━\u001B[0m \u001B[1m0s\u001B[0m 15ms/step - accuracy: 0.7966 - loss: 0.5679\n",
      "Epoch 16: saving model to model/keypoint_classifier/keypoint_classifier_glove.keras\n",
      "\u001B[1m788/788\u001B[0m \u001B[32m━━━━━━━━━━━━━━━━━━━━\u001B[0m\u001B[37m\u001B[0m \u001B[1m14s\u001B[0m 18ms/step - accuracy: 0.7966 - loss: 0.5679 - val_accuracy: 0.9262 - val_loss: 0.2236\n",
      "Epoch 17/1000\n",
      "\u001B[1m788/788\u001B[0m \u001B[32m━━━━━━━━━━━━━━━━━━━━\u001B[0m\u001B[37m\u001B[0m \u001B[1m0s\u001B[0m 15ms/step - accuracy: 0.7958 - loss: 0.5749\n",
      "Epoch 17: saving model to model/keypoint_classifier/keypoint_classifier_glove.keras\n",
      "\u001B[1m788/788\u001B[0m \u001B[32m━━━━━━━━━━━━━━━━━━━━\u001B[0m\u001B[37m\u001B[0m \u001B[1m14s\u001B[0m 17ms/step - accuracy: 0.7958 - loss: 0.5749 - val_accuracy: 0.9407 - val_loss: 0.1929\n",
      "Epoch 18/1000\n",
      "\u001B[1m786/788\u001B[0m \u001B[32m━━━━━━━━━━━━━━━━━━━\u001B[0m\u001B[37m━\u001B[0m \u001B[1m0s\u001B[0m 14ms/step - accuracy: 0.8090 - loss: 0.5341\n",
      "Epoch 18: saving model to model/keypoint_classifier/keypoint_classifier_glove.keras\n",
      "\u001B[1m788/788\u001B[0m \u001B[32m━━━━━━━━━━━━━━━━━━━━\u001B[0m\u001B[37m\u001B[0m \u001B[1m14s\u001B[0m 17ms/step - accuracy: 0.8090 - loss: 0.5340 - val_accuracy: 0.9636 - val_loss: 0.1506\n",
      "Epoch 19/1000\n",
      "\u001B[1m787/788\u001B[0m \u001B[32m━━━━━━━━━━━━━━━━━━━\u001B[0m\u001B[37m━\u001B[0m \u001B[1m0s\u001B[0m 15ms/step - accuracy: 0.8159 - loss: 0.5142\n",
      "Epoch 19: saving model to model/keypoint_classifier/keypoint_classifier_glove.keras\n",
      "\u001B[1m788/788\u001B[0m \u001B[32m━━━━━━━━━━━━━━━━━━━━\u001B[0m\u001B[37m\u001B[0m \u001B[1m14s\u001B[0m 18ms/step - accuracy: 0.8159 - loss: 0.5143 - val_accuracy: 0.9580 - val_loss: 0.1497\n",
      "Epoch 20/1000\n",
      "\u001B[1m787/788\u001B[0m \u001B[32m━━━━━━━━━━━━━━━━━━━\u001B[0m\u001B[37m━\u001B[0m \u001B[1m0s\u001B[0m 14ms/step - accuracy: 0.8234 - loss: 0.4941\n",
      "Epoch 20: saving model to model/keypoint_classifier/keypoint_classifier_glove.keras\n",
      "\u001B[1m788/788\u001B[0m \u001B[32m━━━━━━━━━━━━━━━━━━━━\u001B[0m\u001B[37m\u001B[0m \u001B[1m13s\u001B[0m 16ms/step - accuracy: 0.8234 - loss: 0.4941 - val_accuracy: 0.9641 - val_loss: 0.1361\n",
      "Epoch 21/1000\n",
      "\u001B[1m784/788\u001B[0m \u001B[32m━━━━━━━━━━━━━━━━━━━\u001B[0m\u001B[37m━\u001B[0m \u001B[1m0s\u001B[0m 14ms/step - accuracy: 0.8332 - loss: 0.4707\n",
      "Epoch 21: saving model to model/keypoint_classifier/keypoint_classifier_glove.keras\n",
      "\u001B[1m788/788\u001B[0m \u001B[32m━━━━━━━━━━━━━━━━━━━━\u001B[0m\u001B[37m\u001B[0m \u001B[1m13s\u001B[0m 16ms/step - accuracy: 0.8332 - loss: 0.4707 - val_accuracy: 0.9672 - val_loss: 0.1245\n",
      "Epoch 22/1000\n",
      "\u001B[1m787/788\u001B[0m \u001B[32m━━━━━━━━━━━━━━━━━━━\u001B[0m\u001B[37m━\u001B[0m \u001B[1m0s\u001B[0m 14ms/step - accuracy: 0.8393 - loss: 0.4560\n",
      "Epoch 22: saving model to model/keypoint_classifier/keypoint_classifier_glove.keras\n",
      "\u001B[1m788/788\u001B[0m \u001B[32m━━━━━━━━━━━━━━━━━━━━\u001B[0m\u001B[37m\u001B[0m \u001B[1m13s\u001B[0m 16ms/step - accuracy: 0.8393 - loss: 0.4560 - val_accuracy: 0.9552 - val_loss: 0.1335\n",
      "Epoch 23/1000\n",
      "\u001B[1m788/788\u001B[0m \u001B[32m━━━━━━━━━━━━━━━━━━━━\u001B[0m\u001B[37m\u001B[0m \u001B[1m0s\u001B[0m 14ms/step - accuracy: 0.8210 - loss: 0.5234\n",
      "Epoch 23: saving model to model/keypoint_classifier/keypoint_classifier_glove.keras\n",
      "\u001B[1m788/788\u001B[0m \u001B[32m━━━━━━━━━━━━━━━━━━━━\u001B[0m\u001B[37m\u001B[0m \u001B[1m13s\u001B[0m 16ms/step - accuracy: 0.8210 - loss: 0.5233 - val_accuracy: 0.9716 - val_loss: 0.1121\n",
      "Epoch 24/1000\n",
      "\u001B[1m785/788\u001B[0m \u001B[32m━━━━━━━━━━━━━━━━━━━\u001B[0m\u001B[37m━\u001B[0m \u001B[1m0s\u001B[0m 14ms/step - accuracy: 0.8444 - loss: 0.4535\n",
      "Epoch 24: saving model to model/keypoint_classifier/keypoint_classifier_glove.keras\n",
      "\u001B[1m788/788\u001B[0m \u001B[32m━━━━━━━━━━━━━━━━━━━━\u001B[0m\u001B[37m\u001B[0m \u001B[1m13s\u001B[0m 16ms/step - accuracy: 0.8444 - loss: 0.4535 - val_accuracy: 0.9791 - val_loss: 0.1017\n",
      "Epoch 25/1000\n",
      "\u001B[1m787/788\u001B[0m \u001B[32m━━━━━━━━━━━━━━━━━━━\u001B[0m\u001B[37m━\u001B[0m \u001B[1m0s\u001B[0m 14ms/step - accuracy: 0.8510 - loss: 0.4232\n",
      "Epoch 25: saving model to model/keypoint_classifier/keypoint_classifier_glove.keras\n",
      "\u001B[1m788/788\u001B[0m \u001B[32m━━━━━━━━━━━━━━━━━━━━\u001B[0m\u001B[37m\u001B[0m \u001B[1m13s\u001B[0m 16ms/step - accuracy: 0.8510 - loss: 0.4232 - val_accuracy: 0.9748 - val_loss: 0.1047\n",
      "Epoch 26/1000\n",
      "\u001B[1m787/788\u001B[0m \u001B[32m━━━━━━━━━━━━━━━━━━━\u001B[0m\u001B[37m━\u001B[0m \u001B[1m0s\u001B[0m 14ms/step - accuracy: 0.8556 - loss: 0.4158\n",
      "Epoch 26: saving model to model/keypoint_classifier/keypoint_classifier_glove.keras\n",
      "\u001B[1m788/788\u001B[0m \u001B[32m━━━━━━━━━━━━━━━━━━━━\u001B[0m\u001B[37m\u001B[0m \u001B[1m13s\u001B[0m 17ms/step - accuracy: 0.8556 - loss: 0.4159 - val_accuracy: 0.9743 - val_loss: 0.1024\n",
      "Epoch 27/1000\n",
      "\u001B[1m786/788\u001B[0m \u001B[32m━━━━━━━━━━━━━━━━━━━\u001B[0m\u001B[37m━\u001B[0m \u001B[1m0s\u001B[0m 14ms/step - accuracy: 0.8606 - loss: 0.4079\n",
      "Epoch 27: saving model to model/keypoint_classifier/keypoint_classifier_glove.keras\n",
      "\u001B[1m788/788\u001B[0m \u001B[32m━━━━━━━━━━━━━━━━━━━━\u001B[0m\u001B[37m\u001B[0m \u001B[1m13s\u001B[0m 16ms/step - accuracy: 0.8606 - loss: 0.4079 - val_accuracy: 0.9812 - val_loss: 0.0871\n",
      "Epoch 28/1000\n",
      "\u001B[1m786/788\u001B[0m \u001B[32m━━━━━━━━━━━━━━━━━━━\u001B[0m\u001B[37m━\u001B[0m \u001B[1m0s\u001B[0m 14ms/step - accuracy: 0.8566 - loss: 0.4151\n",
      "Epoch 28: saving model to model/keypoint_classifier/keypoint_classifier_glove.keras\n",
      "\u001B[1m788/788\u001B[0m \u001B[32m━━━━━━━━━━━━━━━━━━━━\u001B[0m\u001B[37m\u001B[0m \u001B[1m13s\u001B[0m 16ms/step - accuracy: 0.8566 - loss: 0.4150 - val_accuracy: 0.9779 - val_loss: 0.0832\n",
      "Epoch 29/1000\n",
      "\u001B[1m785/788\u001B[0m \u001B[32m━━━━━━━━━━━━━━━━━━━\u001B[0m\u001B[37m━\u001B[0m \u001B[1m0s\u001B[0m 14ms/step - accuracy: 0.8644 - loss: 0.3945\n",
      "Epoch 29: saving model to model/keypoint_classifier/keypoint_classifier_glove.keras\n",
      "\u001B[1m788/788\u001B[0m \u001B[32m━━━━━━━━━━━━━━━━━━━━\u001B[0m\u001B[37m\u001B[0m \u001B[1m13s\u001B[0m 16ms/step - accuracy: 0.8644 - loss: 0.3945 - val_accuracy: 0.9818 - val_loss: 0.0848\n",
      "Epoch 30/1000\n",
      "\u001B[1m787/788\u001B[0m \u001B[32m━━━━━━━━━━━━━━━━━━━\u001B[0m\u001B[37m━\u001B[0m \u001B[1m0s\u001B[0m 14ms/step - accuracy: 0.8705 - loss: 0.3745\n",
      "Epoch 30: saving model to model/keypoint_classifier/keypoint_classifier_glove.keras\n",
      "\u001B[1m788/788\u001B[0m \u001B[32m━━━━━━━━━━━━━━━━━━━━\u001B[0m\u001B[37m\u001B[0m \u001B[1m13s\u001B[0m 16ms/step - accuracy: 0.8705 - loss: 0.3745 - val_accuracy: 0.9813 - val_loss: 0.0808\n",
      "Epoch 31/1000\n",
      "\u001B[1m788/788\u001B[0m \u001B[32m━━━━━━━━━━━━━━━━━━━━\u001B[0m\u001B[37m\u001B[0m \u001B[1m0s\u001B[0m 14ms/step - accuracy: 0.8722 - loss: 0.3714\n",
      "Epoch 31: saving model to model/keypoint_classifier/keypoint_classifier_glove.keras\n",
      "\u001B[1m788/788\u001B[0m \u001B[32m━━━━━━━━━━━━━━━━━━━━\u001B[0m\u001B[37m\u001B[0m \u001B[1m13s\u001B[0m 16ms/step - accuracy: 0.8722 - loss: 0.3714 - val_accuracy: 0.9847 - val_loss: 0.0793\n",
      "Epoch 32/1000\n",
      "\u001B[1m785/788\u001B[0m \u001B[32m━━━━━━━━━━━━━━━━━━━\u001B[0m\u001B[37m━\u001B[0m \u001B[1m0s\u001B[0m 14ms/step - accuracy: 0.8747 - loss: 0.3629\n",
      "Epoch 32: saving model to model/keypoint_classifier/keypoint_classifier_glove.keras\n",
      "\u001B[1m788/788\u001B[0m \u001B[32m━━━━━━━━━━━━━━━━━━━━\u001B[0m\u001B[37m\u001B[0m \u001B[1m13s\u001B[0m 16ms/step - accuracy: 0.8747 - loss: 0.3629 - val_accuracy: 0.9840 - val_loss: 0.0704\n",
      "Epoch 33/1000\n",
      "\u001B[1m786/788\u001B[0m \u001B[32m━━━━━━━━━━━━━━━━━━━\u001B[0m\u001B[37m━\u001B[0m \u001B[1m0s\u001B[0m 14ms/step - accuracy: 0.8811 - loss: 0.3508\n",
      "Epoch 33: saving model to model/keypoint_classifier/keypoint_classifier_glove.keras\n",
      "\u001B[1m788/788\u001B[0m \u001B[32m━━━━━━━━━━━━━━━━━━━━\u001B[0m\u001B[37m\u001B[0m \u001B[1m13s\u001B[0m 16ms/step - accuracy: 0.8811 - loss: 0.3508 - val_accuracy: 0.9853 - val_loss: 0.0774\n",
      "Epoch 34/1000\n",
      "\u001B[1m784/788\u001B[0m \u001B[32m━━━━━━━━━━━━━━━━━━━\u001B[0m\u001B[37m━\u001B[0m \u001B[1m0s\u001B[0m 14ms/step - accuracy: 0.8766 - loss: 0.3621\n",
      "Epoch 34: saving model to model/keypoint_classifier/keypoint_classifier_glove.keras\n",
      "\u001B[1m788/788\u001B[0m \u001B[32m━━━━━━━━━━━━━━━━━━━━\u001B[0m\u001B[37m\u001B[0m \u001B[1m13s\u001B[0m 16ms/step - accuracy: 0.8766 - loss: 0.3621 - val_accuracy: 0.9890 - val_loss: 0.0599\n",
      "Epoch 35/1000\n",
      "\u001B[1m787/788\u001B[0m \u001B[32m━━━━━━━━━━━━━━━━━━━\u001B[0m\u001B[37m━\u001B[0m \u001B[1m0s\u001B[0m 14ms/step - accuracy: 0.8807 - loss: 0.3513\n",
      "Epoch 35: saving model to model/keypoint_classifier/keypoint_classifier_glove.keras\n",
      "\u001B[1m788/788\u001B[0m \u001B[32m━━━━━━━━━━━━━━━━━━━━\u001B[0m\u001B[37m\u001B[0m \u001B[1m13s\u001B[0m 16ms/step - accuracy: 0.8807 - loss: 0.3512 - val_accuracy: 0.9805 - val_loss: 0.0715\n",
      "Epoch 36/1000\n",
      "\u001B[1m784/788\u001B[0m \u001B[32m━━━━━━━━━━━━━━━━━━━\u001B[0m\u001B[37m━\u001B[0m \u001B[1m0s\u001B[0m 14ms/step - accuracy: 0.8845 - loss: 0.3566\n",
      "Epoch 36: saving model to model/keypoint_classifier/keypoint_classifier_glove.keras\n",
      "\u001B[1m788/788\u001B[0m \u001B[32m━━━━━━━━━━━━━━━━━━━━\u001B[0m\u001B[37m\u001B[0m \u001B[1m13s\u001B[0m 17ms/step - accuracy: 0.8845 - loss: 0.3567 - val_accuracy: 0.9883 - val_loss: 0.0593\n",
      "Epoch 37/1000\n",
      "\u001B[1m787/788\u001B[0m \u001B[32m━━━━━━━━━━━━━━━━━━━\u001B[0m\u001B[37m━\u001B[0m \u001B[1m0s\u001B[0m 14ms/step - accuracy: 0.8877 - loss: 0.3299\n",
      "Epoch 37: saving model to model/keypoint_classifier/keypoint_classifier_glove.keras\n",
      "\u001B[1m788/788\u001B[0m \u001B[32m━━━━━━━━━━━━━━━━━━━━\u001B[0m\u001B[37m\u001B[0m \u001B[1m13s\u001B[0m 16ms/step - accuracy: 0.8877 - loss: 0.3299 - val_accuracy: 0.9867 - val_loss: 0.0654\n",
      "Epoch 38/1000\n",
      "\u001B[1m788/788\u001B[0m \u001B[32m━━━━━━━━━━━━━━━━━━━━\u001B[0m\u001B[37m\u001B[0m \u001B[1m0s\u001B[0m 14ms/step - accuracy: 0.8922 - loss: 0.3228\n",
      "Epoch 38: saving model to model/keypoint_classifier/keypoint_classifier_glove.keras\n",
      "\u001B[1m788/788\u001B[0m \u001B[32m━━━━━━━━━━━━━━━━━━━━\u001B[0m\u001B[37m\u001B[0m \u001B[1m13s\u001B[0m 16ms/step - accuracy: 0.8922 - loss: 0.3228 - val_accuracy: 0.9843 - val_loss: 0.0753\n",
      "Epoch 39/1000\n",
      "\u001B[1m787/788\u001B[0m \u001B[32m━━━━━━━━━━━━━━━━━━━\u001B[0m\u001B[37m━\u001B[0m \u001B[1m0s\u001B[0m 14ms/step - accuracy: 0.8875 - loss: 0.3324\n",
      "Epoch 39: saving model to model/keypoint_classifier/keypoint_classifier_glove.keras\n",
      "\u001B[1m788/788\u001B[0m \u001B[32m━━━━━━━━━━━━━━━━━━━━\u001B[0m\u001B[37m\u001B[0m \u001B[1m13s\u001B[0m 16ms/step - accuracy: 0.8875 - loss: 0.3324 - val_accuracy: 0.9872 - val_loss: 0.0537\n",
      "Epoch 40/1000\n",
      "\u001B[1m788/788\u001B[0m \u001B[32m━━━━━━━━━━━━━━━━━━━━\u001B[0m\u001B[37m\u001B[0m \u001B[1m0s\u001B[0m 14ms/step - accuracy: 0.8936 - loss: 0.3151\n",
      "Epoch 40: saving model to model/keypoint_classifier/keypoint_classifier_glove.keras\n",
      "\u001B[1m788/788\u001B[0m \u001B[32m━━━━━━━━━━━━━━━━━━━━\u001B[0m\u001B[37m\u001B[0m \u001B[1m13s\u001B[0m 16ms/step - accuracy: 0.8936 - loss: 0.3151 - val_accuracy: 0.9865 - val_loss: 0.0609\n",
      "Epoch 41/1000\n",
      "\u001B[1m787/788\u001B[0m \u001B[32m━━━━━━━━━━━━━━━━━━━\u001B[0m\u001B[37m━\u001B[0m \u001B[1m0s\u001B[0m 14ms/step - accuracy: 0.8874 - loss: 0.3455\n",
      "Epoch 41: saving model to model/keypoint_classifier/keypoint_classifier_glove.keras\n",
      "\u001B[1m788/788\u001B[0m \u001B[32m━━━━━━━━━━━━━━━━━━━━\u001B[0m\u001B[37m\u001B[0m \u001B[1m13s\u001B[0m 16ms/step - accuracy: 0.8874 - loss: 0.3455 - val_accuracy: 0.9864 - val_loss: 0.0562\n",
      "Epoch 42/1000\n",
      "\u001B[1m785/788\u001B[0m \u001B[32m━━━━━━━━━━━━━━━━━━━\u001B[0m\u001B[37m━\u001B[0m \u001B[1m0s\u001B[0m 14ms/step - accuracy: 0.8938 - loss: 0.3147\n",
      "Epoch 42: saving model to model/keypoint_classifier/keypoint_classifier_glove.keras\n",
      "\u001B[1m788/788\u001B[0m \u001B[32m━━━━━━━━━━━━━━━━━━━━\u001B[0m\u001B[37m\u001B[0m \u001B[1m13s\u001B[0m 16ms/step - accuracy: 0.8938 - loss: 0.3147 - val_accuracy: 0.9900 - val_loss: 0.0497\n",
      "Epoch 43/1000\n",
      "\u001B[1m787/788\u001B[0m \u001B[32m━━━━━━━━━━━━━━━━━━━\u001B[0m\u001B[37m━\u001B[0m \u001B[1m0s\u001B[0m 14ms/step - accuracy: 0.8988 - loss: 0.3006\n",
      "Epoch 43: saving model to model/keypoint_classifier/keypoint_classifier_glove.keras\n",
      "\u001B[1m788/788\u001B[0m \u001B[32m━━━━━━━━━━━━━━━━━━━━\u001B[0m\u001B[37m\u001B[0m \u001B[1m13s\u001B[0m 16ms/step - accuracy: 0.8988 - loss: 0.3006 - val_accuracy: 0.9895 - val_loss: 0.0573\n",
      "Epoch 44/1000\n",
      "\u001B[1m787/788\u001B[0m \u001B[32m━━━━━━━━━━━━━━━━━━━\u001B[0m\u001B[37m━\u001B[0m \u001B[1m0s\u001B[0m 14ms/step - accuracy: 0.8992 - loss: 0.3005\n",
      "Epoch 44: saving model to model/keypoint_classifier/keypoint_classifier_glove.keras\n",
      "\u001B[1m788/788\u001B[0m \u001B[32m━━━━━━━━━━━━━━━━━━━━\u001B[0m\u001B[37m\u001B[0m \u001B[1m13s\u001B[0m 16ms/step - accuracy: 0.8992 - loss: 0.3005 - val_accuracy: 0.9877 - val_loss: 0.0558\n",
      "Epoch 45/1000\n",
      "\u001B[1m785/788\u001B[0m \u001B[32m━━━━━━━━━━━━━━━━━━━\u001B[0m\u001B[37m━\u001B[0m \u001B[1m0s\u001B[0m 14ms/step - accuracy: 0.9005 - loss: 0.3015\n",
      "Epoch 45: saving model to model/keypoint_classifier/keypoint_classifier_glove.keras\n",
      "\u001B[1m788/788\u001B[0m \u001B[32m━━━━━━━━━━━━━━━━━━━━\u001B[0m\u001B[37m\u001B[0m \u001B[1m13s\u001B[0m 16ms/step - accuracy: 0.9005 - loss: 0.3016 - val_accuracy: 0.9862 - val_loss: 0.0620\n",
      "Epoch 46/1000\n",
      "\u001B[1m785/788\u001B[0m \u001B[32m━━━━━━━━━━━━━━━━━━━\u001B[0m\u001B[37m━\u001B[0m \u001B[1m0s\u001B[0m 14ms/step - accuracy: 0.8948 - loss: 0.3243\n",
      "Epoch 46: saving model to model/keypoint_classifier/keypoint_classifier_glove.keras\n",
      "\u001B[1m788/788\u001B[0m \u001B[32m━━━━━━━━━━━━━━━━━━━━\u001B[0m\u001B[37m\u001B[0m \u001B[1m13s\u001B[0m 16ms/step - accuracy: 0.8948 - loss: 0.3242 - val_accuracy: 0.9855 - val_loss: 0.0484\n",
      "Epoch 47/1000\n",
      "\u001B[1m785/788\u001B[0m \u001B[32m━━━━━━━━━━━━━━━━━━━\u001B[0m\u001B[37m━\u001B[0m \u001B[1m0s\u001B[0m 14ms/step - accuracy: 0.9017 - loss: 0.2944\n",
      "Epoch 47: saving model to model/keypoint_classifier/keypoint_classifier_glove.keras\n",
      "\u001B[1m788/788\u001B[0m \u001B[32m━━━━━━━━━━━━━━━━━━━━\u001B[0m\u001B[37m\u001B[0m \u001B[1m13s\u001B[0m 16ms/step - accuracy: 0.9017 - loss: 0.2943 - val_accuracy: 0.9876 - val_loss: 0.0452\n",
      "Epoch 48/1000\n",
      "\u001B[1m787/788\u001B[0m \u001B[32m━━━━━━━━━━━━━━━━━━━\u001B[0m\u001B[37m━\u001B[0m \u001B[1m0s\u001B[0m 14ms/step - accuracy: 0.9046 - loss: 0.2877\n",
      "Epoch 48: saving model to model/keypoint_classifier/keypoint_classifier_glove.keras\n",
      "\u001B[1m788/788\u001B[0m \u001B[32m━━━━━━━━━━━━━━━━━━━━\u001B[0m\u001B[37m\u001B[0m \u001B[1m13s\u001B[0m 16ms/step - accuracy: 0.9046 - loss: 0.2877 - val_accuracy: 0.9916 - val_loss: 0.0454\n",
      "Epoch 49/1000\n",
      "\u001B[1m786/788\u001B[0m \u001B[32m━━━━━━━━━━━━━━━━━━━\u001B[0m\u001B[37m━\u001B[0m \u001B[1m0s\u001B[0m 16ms/step - accuracy: 0.9034 - loss: 0.2884\n",
      "Epoch 49: saving model to model/keypoint_classifier/keypoint_classifier_glove.keras\n",
      "\u001B[1m788/788\u001B[0m \u001B[32m━━━━━━━━━━━━━━━━━━━━\u001B[0m\u001B[37m\u001B[0m \u001B[1m15s\u001B[0m 20ms/step - accuracy: 0.9034 - loss: 0.2884 - val_accuracy: 0.9907 - val_loss: 0.0388\n",
      "Epoch 50/1000\n",
      "\u001B[1m788/788\u001B[0m \u001B[32m━━━━━━━━━━━━━━━━━━━━\u001B[0m\u001B[37m\u001B[0m \u001B[1m0s\u001B[0m 16ms/step - accuracy: 0.9003 - loss: 0.3053\n",
      "Epoch 50: saving model to model/keypoint_classifier/keypoint_classifier_glove.keras\n",
      "\u001B[1m788/788\u001B[0m \u001B[32m━━━━━━━━━━━━━━━━━━━━\u001B[0m\u001B[37m\u001B[0m \u001B[1m15s\u001B[0m 19ms/step - accuracy: 0.9003 - loss: 0.3053 - val_accuracy: 0.9915 - val_loss: 0.0386\n",
      "Epoch 51/1000\n",
      "\u001B[1m786/788\u001B[0m \u001B[32m━━━━━━━━━━━━━━━━━━━\u001B[0m\u001B[37m━\u001B[0m \u001B[1m0s\u001B[0m 16ms/step - accuracy: 0.9094 - loss: 0.2766\n",
      "Epoch 51: saving model to model/keypoint_classifier/keypoint_classifier_glove.keras\n",
      "\u001B[1m788/788\u001B[0m \u001B[32m━━━━━━━━━━━━━━━━━━━━\u001B[0m\u001B[37m\u001B[0m \u001B[1m14s\u001B[0m 18ms/step - accuracy: 0.9093 - loss: 0.2766 - val_accuracy: 0.9937 - val_loss: 0.0445\n",
      "Epoch 52/1000\n",
      "\u001B[1m786/788\u001B[0m \u001B[32m━━━━━━━━━━━━━━━━━━━\u001B[0m\u001B[37m━\u001B[0m \u001B[1m0s\u001B[0m 16ms/step - accuracy: 0.9081 - loss: 0.2743\n",
      "Epoch 52: saving model to model/keypoint_classifier/keypoint_classifier_glove.keras\n",
      "\u001B[1m788/788\u001B[0m \u001B[32m━━━━━━━━━━━━━━━━━━━━\u001B[0m\u001B[37m\u001B[0m \u001B[1m15s\u001B[0m 19ms/step - accuracy: 0.9081 - loss: 0.2743 - val_accuracy: 0.9932 - val_loss: 0.0374\n",
      "Epoch 53/1000\n",
      "\u001B[1m785/788\u001B[0m \u001B[32m━━━━━━━━━━━━━━━━━━━\u001B[0m\u001B[37m━\u001B[0m \u001B[1m0s\u001B[0m 15ms/step - accuracy: 0.9095 - loss: 0.2695\n",
      "Epoch 53: saving model to model/keypoint_classifier/keypoint_classifier_glove.keras\n",
      "\u001B[1m788/788\u001B[0m \u001B[32m━━━━━━━━━━━━━━━━━━━━\u001B[0m\u001B[37m\u001B[0m \u001B[1m14s\u001B[0m 18ms/step - accuracy: 0.9095 - loss: 0.2696 - val_accuracy: 0.9920 - val_loss: 0.0407\n",
      "Epoch 54/1000\n",
      "\u001B[1m788/788\u001B[0m \u001B[32m━━━━━━━━━━━━━━━━━━━━\u001B[0m\u001B[37m\u001B[0m \u001B[1m0s\u001B[0m 15ms/step - accuracy: 0.9076 - loss: 0.2811\n",
      "Epoch 54: saving model to model/keypoint_classifier/keypoint_classifier_glove.keras\n",
      "\u001B[1m788/788\u001B[0m \u001B[32m━━━━━━━━━━━━━━━━━━━━\u001B[0m\u001B[37m\u001B[0m \u001B[1m15s\u001B[0m 19ms/step - accuracy: 0.9076 - loss: 0.2811 - val_accuracy: 0.9881 - val_loss: 0.0427\n",
      "Epoch 55/1000\n",
      "\u001B[1m785/788\u001B[0m \u001B[32m━━━━━━━━━━━━━━━━━━━\u001B[0m\u001B[37m━\u001B[0m \u001B[1m0s\u001B[0m 16ms/step - accuracy: 0.9071 - loss: 0.2849\n",
      "Epoch 55: saving model to model/keypoint_classifier/keypoint_classifier_glove.keras\n",
      "\u001B[1m788/788\u001B[0m \u001B[32m━━━━━━━━━━━━━━━━━━━━\u001B[0m\u001B[37m\u001B[0m \u001B[1m15s\u001B[0m 19ms/step - accuracy: 0.9071 - loss: 0.2849 - val_accuracy: 0.9893 - val_loss: 0.0459\n",
      "Epoch 56/1000\n",
      "\u001B[1m787/788\u001B[0m \u001B[32m━━━━━━━━━━━━━━━━━━━\u001B[0m\u001B[37m━\u001B[0m \u001B[1m0s\u001B[0m 16ms/step - accuracy: 0.9099 - loss: 0.2686\n",
      "Epoch 56: saving model to model/keypoint_classifier/keypoint_classifier_glove.keras\n",
      "\u001B[1m788/788\u001B[0m \u001B[32m━━━━━━━━━━━━━━━━━━━━\u001B[0m\u001B[37m\u001B[0m \u001B[1m14s\u001B[0m 18ms/step - accuracy: 0.9099 - loss: 0.2686 - val_accuracy: 0.9920 - val_loss: 0.0375\n",
      "Epoch 57/1000\n",
      "\u001B[1m784/788\u001B[0m \u001B[32m━━━━━━━━━━━━━━━━━━━\u001B[0m\u001B[37m━\u001B[0m \u001B[1m0s\u001B[0m 15ms/step - accuracy: 0.9106 - loss: 0.2671\n",
      "Epoch 57: saving model to model/keypoint_classifier/keypoint_classifier_glove.keras\n",
      "\u001B[1m788/788\u001B[0m \u001B[32m━━━━━━━━━━━━━━━━━━━━\u001B[0m\u001B[37m\u001B[0m \u001B[1m14s\u001B[0m 17ms/step - accuracy: 0.9106 - loss: 0.2671 - val_accuracy: 0.9900 - val_loss: 0.0522\n",
      "Epoch 58/1000\n",
      "\u001B[1m786/788\u001B[0m \u001B[32m━━━━━━━━━━━━━━━━━━━\u001B[0m\u001B[37m━\u001B[0m \u001B[1m0s\u001B[0m 13ms/step - accuracy: 0.9117 - loss: 0.2675\n",
      "Epoch 58: saving model to model/keypoint_classifier/keypoint_classifier_glove.keras\n",
      "\u001B[1m788/788\u001B[0m \u001B[32m━━━━━━━━━━━━━━━━━━━━\u001B[0m\u001B[37m\u001B[0m \u001B[1m12s\u001B[0m 15ms/step - accuracy: 0.9117 - loss: 0.2675 - val_accuracy: 0.9907 - val_loss: 0.0404\n",
      "Epoch 59/1000\n",
      "\u001B[1m785/788\u001B[0m \u001B[32m━━━━━━━━━━━━━━━━━━━\u001B[0m\u001B[37m━\u001B[0m \u001B[1m0s\u001B[0m 13ms/step - accuracy: 0.9079 - loss: 0.2883\n",
      "Epoch 59: saving model to model/keypoint_classifier/keypoint_classifier_glove.keras\n",
      "\u001B[1m788/788\u001B[0m \u001B[32m━━━━━━━━━━━━━━━━━━━━\u001B[0m\u001B[37m\u001B[0m \u001B[1m12s\u001B[0m 15ms/step - accuracy: 0.9079 - loss: 0.2882 - val_accuracy: 0.9911 - val_loss: 0.0327\n",
      "Epoch 60/1000\n",
      "\u001B[1m786/788\u001B[0m \u001B[32m━━━━━━━━━━━━━━━━━━━\u001B[0m\u001B[37m━\u001B[0m \u001B[1m0s\u001B[0m 15ms/step - accuracy: 0.9128 - loss: 0.2669\n",
      "Epoch 60: saving model to model/keypoint_classifier/keypoint_classifier_glove.keras\n",
      "\u001B[1m788/788\u001B[0m \u001B[32m━━━━━━━━━━━━━━━━━━━━\u001B[0m\u001B[37m\u001B[0m \u001B[1m14s\u001B[0m 18ms/step - accuracy: 0.9128 - loss: 0.2669 - val_accuracy: 0.9902 - val_loss: 0.0398\n",
      "Epoch 61/1000\n",
      "\u001B[1m787/788\u001B[0m \u001B[32m━━━━━━━━━━━━━━━━━━━\u001B[0m\u001B[37m━\u001B[0m \u001B[1m0s\u001B[0m 14ms/step - accuracy: 0.9158 - loss: 0.2581\n",
      "Epoch 61: saving model to model/keypoint_classifier/keypoint_classifier_glove.keras\n",
      "\u001B[1m788/788\u001B[0m \u001B[32m━━━━━━━━━━━━━━━━━━━━\u001B[0m\u001B[37m\u001B[0m \u001B[1m13s\u001B[0m 16ms/step - accuracy: 0.9158 - loss: 0.2581 - val_accuracy: 0.9930 - val_loss: 0.0314\n",
      "Epoch 62/1000\n",
      "\u001B[1m785/788\u001B[0m \u001B[32m━━━━━━━━━━━━━━━━━━━\u001B[0m\u001B[37m━\u001B[0m \u001B[1m0s\u001B[0m 14ms/step - accuracy: 0.9013 - loss: 0.3085\n",
      "Epoch 62: saving model to model/keypoint_classifier/keypoint_classifier_glove.keras\n",
      "\u001B[1m788/788\u001B[0m \u001B[32m━━━━━━━━━━━━━━━━━━━━\u001B[0m\u001B[37m\u001B[0m \u001B[1m13s\u001B[0m 17ms/step - accuracy: 0.9013 - loss: 0.3084 - val_accuracy: 0.9940 - val_loss: 0.0351\n",
      "Epoch 63/1000\n",
      "\u001B[1m787/788\u001B[0m \u001B[32m━━━━━━━━━━━━━━━━━━━\u001B[0m\u001B[37m━\u001B[0m \u001B[1m0s\u001B[0m 14ms/step - accuracy: 0.9177 - loss: 0.2547\n",
      "Epoch 63: saving model to model/keypoint_classifier/keypoint_classifier_glove.keras\n",
      "\u001B[1m788/788\u001B[0m \u001B[32m━━━━━━━━━━━━━━━━━━━━\u001B[0m\u001B[37m\u001B[0m \u001B[1m13s\u001B[0m 16ms/step - accuracy: 0.9177 - loss: 0.2547 - val_accuracy: 0.9907 - val_loss: 0.0419\n",
      "Epoch 64/1000\n",
      "\u001B[1m787/788\u001B[0m \u001B[32m━━━━━━━━━━━━━━━━━━━\u001B[0m\u001B[37m━\u001B[0m \u001B[1m0s\u001B[0m 15ms/step - accuracy: 0.9118 - loss: 0.2649\n",
      "Epoch 64: saving model to model/keypoint_classifier/keypoint_classifier_glove.keras\n",
      "\u001B[1m788/788\u001B[0m \u001B[32m━━━━━━━━━━━━━━━━━━━━\u001B[0m\u001B[37m\u001B[0m \u001B[1m14s\u001B[0m 17ms/step - accuracy: 0.9118 - loss: 0.2649 - val_accuracy: 0.9941 - val_loss: 0.0304\n",
      "Epoch 65/1000\n",
      "\u001B[1m785/788\u001B[0m \u001B[32m━━━━━━━━━━━━━━━━━━━\u001B[0m\u001B[37m━\u001B[0m \u001B[1m0s\u001B[0m 14ms/step - accuracy: 0.9177 - loss: 0.2541\n",
      "Epoch 65: saving model to model/keypoint_classifier/keypoint_classifier_glove.keras\n",
      "\u001B[1m788/788\u001B[0m \u001B[32m━━━━━━━━━━━━━━━━━━━━\u001B[0m\u001B[37m\u001B[0m \u001B[1m13s\u001B[0m 16ms/step - accuracy: 0.9177 - loss: 0.2541 - val_accuracy: 0.9915 - val_loss: 0.0404\n",
      "Epoch 66/1000\n",
      "\u001B[1m785/788\u001B[0m \u001B[32m━━━━━━━━━━━━━━━━━━━\u001B[0m\u001B[37m━\u001B[0m \u001B[1m0s\u001B[0m 17ms/step - accuracy: 0.9181 - loss: 0.2474\n",
      "Epoch 66: saving model to model/keypoint_classifier/keypoint_classifier_glove.keras\n",
      "\u001B[1m788/788\u001B[0m \u001B[32m━━━━━━━━━━━━━━━━━━━━\u001B[0m\u001B[37m\u001B[0m \u001B[1m15s\u001B[0m 19ms/step - accuracy: 0.9181 - loss: 0.2474 - val_accuracy: 0.9920 - val_loss: 0.0336\n",
      "Epoch 67/1000\n",
      "\u001B[1m787/788\u001B[0m \u001B[32m━━━━━━━━━━━━━━━━━━━\u001B[0m\u001B[37m━\u001B[0m \u001B[1m0s\u001B[0m 15ms/step - accuracy: 0.9187 - loss: 0.2489\n",
      "Epoch 67: saving model to model/keypoint_classifier/keypoint_classifier_glove.keras\n",
      "\u001B[1m788/788\u001B[0m \u001B[32m━━━━━━━━━━━━━━━━━━━━\u001B[0m\u001B[37m\u001B[0m \u001B[1m15s\u001B[0m 19ms/step - accuracy: 0.9187 - loss: 0.2489 - val_accuracy: 0.9915 - val_loss: 0.0333\n",
      "Epoch 68/1000\n",
      "\u001B[1m786/788\u001B[0m \u001B[32m━━━━━━━━━━━━━━━━━━━\u001B[0m\u001B[37m━\u001B[0m \u001B[1m0s\u001B[0m 14ms/step - accuracy: 0.9215 - loss: 0.2383\n",
      "Epoch 68: saving model to model/keypoint_classifier/keypoint_classifier_glove.keras\n",
      "\u001B[1m788/788\u001B[0m \u001B[32m━━━━━━━━━━━━━━━━━━━━\u001B[0m\u001B[37m\u001B[0m \u001B[1m12s\u001B[0m 16ms/step - accuracy: 0.9215 - loss: 0.2383 - val_accuracy: 0.9896 - val_loss: 0.0343\n",
      "Epoch 69/1000\n",
      "\u001B[1m786/788\u001B[0m \u001B[32m━━━━━━━━━━━━━━━━━━━\u001B[0m\u001B[37m━\u001B[0m \u001B[1m0s\u001B[0m 13ms/step - accuracy: 0.9208 - loss: 0.2419\n",
      "Epoch 69: saving model to model/keypoint_classifier/keypoint_classifier_glove.keras\n",
      "\u001B[1m788/788\u001B[0m \u001B[32m━━━━━━━━━━━━━━━━━━━━\u001B[0m\u001B[37m\u001B[0m \u001B[1m12s\u001B[0m 15ms/step - accuracy: 0.9208 - loss: 0.2419 - val_accuracy: 0.9879 - val_loss: 0.0481\n",
      "Epoch 70/1000\n",
      "\u001B[1m786/788\u001B[0m \u001B[32m━━━━━━━━━━━━━━━━━━━\u001B[0m\u001B[37m━\u001B[0m \u001B[1m0s\u001B[0m 13ms/step - accuracy: 0.9192 - loss: 0.2454\n",
      "Epoch 70: saving model to model/keypoint_classifier/keypoint_classifier_glove.keras\n",
      "\u001B[1m788/788\u001B[0m \u001B[32m━━━━━━━━━━━━━━━━━━━━\u001B[0m\u001B[37m\u001B[0m \u001B[1m12s\u001B[0m 15ms/step - accuracy: 0.9192 - loss: 0.2454 - val_accuracy: 0.9929 - val_loss: 0.0359\n",
      "Epoch 71/1000\n",
      "\u001B[1m788/788\u001B[0m \u001B[32m━━━━━━━━━━━━━━━━━━━━\u001B[0m\u001B[37m\u001B[0m \u001B[1m0s\u001B[0m 13ms/step - accuracy: 0.9204 - loss: 0.2451\n",
      "Epoch 71: saving model to model/keypoint_classifier/keypoint_classifier_glove.keras\n",
      "\u001B[1m788/788\u001B[0m \u001B[32m━━━━━━━━━━━━━━━━━━━━\u001B[0m\u001B[37m\u001B[0m \u001B[1m12s\u001B[0m 15ms/step - accuracy: 0.9204 - loss: 0.2451 - val_accuracy: 0.9942 - val_loss: 0.0267\n",
      "Epoch 72/1000\n",
      "\u001B[1m788/788\u001B[0m \u001B[32m━━━━━━━━━━━━━━━━━━━━\u001B[0m\u001B[37m\u001B[0m \u001B[1m0s\u001B[0m 13ms/step - accuracy: 0.9242 - loss: 0.2375\n",
      "Epoch 72: saving model to model/keypoint_classifier/keypoint_classifier_glove.keras\n",
      "\u001B[1m788/788\u001B[0m \u001B[32m━━━━━━━━━━━━━━━━━━━━\u001B[0m\u001B[37m\u001B[0m \u001B[1m12s\u001B[0m 15ms/step - accuracy: 0.9242 - loss: 0.2375 - val_accuracy: 0.9922 - val_loss: 0.0344\n",
      "Epoch 73/1000\n",
      "\u001B[1m784/788\u001B[0m \u001B[32m━━━━━━━━━━━━━━━━━━━\u001B[0m\u001B[37m━\u001B[0m \u001B[1m0s\u001B[0m 13ms/step - accuracy: 0.9232 - loss: 0.2397\n",
      "Epoch 73: saving model to model/keypoint_classifier/keypoint_classifier_glove.keras\n",
      "\u001B[1m788/788\u001B[0m \u001B[32m━━━━━━━━━━━━━━━━━━━━\u001B[0m\u001B[37m\u001B[0m \u001B[1m12s\u001B[0m 15ms/step - accuracy: 0.9232 - loss: 0.2397 - val_accuracy: 0.9924 - val_loss: 0.0362\n",
      "Epoch 74/1000\n",
      "\u001B[1m784/788\u001B[0m \u001B[32m━━━━━━━━━━━━━━━━━━━\u001B[0m\u001B[37m━\u001B[0m \u001B[1m0s\u001B[0m 13ms/step - accuracy: 0.9176 - loss: 0.2580\n",
      "Epoch 74: saving model to model/keypoint_classifier/keypoint_classifier_glove.keras\n",
      "\u001B[1m788/788\u001B[0m \u001B[32m━━━━━━━━━━━━━━━━━━━━\u001B[0m\u001B[37m\u001B[0m \u001B[1m12s\u001B[0m 15ms/step - accuracy: 0.9176 - loss: 0.2579 - val_accuracy: 0.9907 - val_loss: 0.0371\n",
      "Epoch 75/1000\n",
      "\u001B[1m786/788\u001B[0m \u001B[32m━━━━━━━━━━━━━━━━━━━\u001B[0m\u001B[37m━\u001B[0m \u001B[1m0s\u001B[0m 15ms/step - accuracy: 0.9224 - loss: 0.2405\n",
      "Epoch 75: saving model to model/keypoint_classifier/keypoint_classifier_glove.keras\n",
      "\u001B[1m788/788\u001B[0m \u001B[32m━━━━━━━━━━━━━━━━━━━━\u001B[0m\u001B[37m\u001B[0m \u001B[1m13s\u001B[0m 17ms/step - accuracy: 0.9224 - loss: 0.2405 - val_accuracy: 0.9911 - val_loss: 0.0306\n",
      "Epoch 76/1000\n",
      "\u001B[1m787/788\u001B[0m \u001B[32m━━━━━━━━━━━━━━━━━━━\u001B[0m\u001B[37m━\u001B[0m \u001B[1m0s\u001B[0m 13ms/step - accuracy: 0.9237 - loss: 0.2330\n",
      "Epoch 76: saving model to model/keypoint_classifier/keypoint_classifier_glove.keras\n",
      "\u001B[1m788/788\u001B[0m \u001B[32m━━━━━━━━━━━━━━━━━━━━\u001B[0m\u001B[37m\u001B[0m \u001B[1m12s\u001B[0m 16ms/step - accuracy: 0.9237 - loss: 0.2330 - val_accuracy: 0.9885 - val_loss: 0.0470\n",
      "Epoch 77/1000\n",
      "\u001B[1m787/788\u001B[0m \u001B[32m━━━━━━━━━━━━━━━━━━━\u001B[0m\u001B[37m━\u001B[0m \u001B[1m0s\u001B[0m 14ms/step - accuracy: 0.9145 - loss: 0.2667\n",
      "Epoch 77: saving model to model/keypoint_classifier/keypoint_classifier_glove.keras\n",
      "\u001B[1m788/788\u001B[0m \u001B[32m━━━━━━━━━━━━━━━━━━━━\u001B[0m\u001B[37m\u001B[0m \u001B[1m14s\u001B[0m 18ms/step - accuracy: 0.9145 - loss: 0.2667 - val_accuracy: 0.9920 - val_loss: 0.0376\n",
      "Epoch 78/1000\n",
      "\u001B[1m788/788\u001B[0m \u001B[32m━━━━━━━━━━━━━━━━━━━━\u001B[0m\u001B[37m\u001B[0m \u001B[1m0s\u001B[0m 18ms/step - accuracy: 0.9262 - loss: 0.2276\n",
      "Epoch 78: saving model to model/keypoint_classifier/keypoint_classifier_glove.keras\n",
      "\u001B[1m788/788\u001B[0m \u001B[32m━━━━━━━━━━━━━━━━━━━━\u001B[0m\u001B[37m\u001B[0m \u001B[1m16s\u001B[0m 21ms/step - accuracy: 0.9262 - loss: 0.2276 - val_accuracy: 0.9939 - val_loss: 0.0352\n",
      "Epoch 79/1000\n",
      "\u001B[1m785/788\u001B[0m \u001B[32m━━━━━━━━━━━━━━━━━━━\u001B[0m\u001B[37m━\u001B[0m \u001B[1m0s\u001B[0m 15ms/step - accuracy: 0.9263 - loss: 0.2278\n",
      "Epoch 79: saving model to model/keypoint_classifier/keypoint_classifier_glove.keras\n",
      "\u001B[1m788/788\u001B[0m \u001B[32m━━━━━━━━━━━━━━━━━━━━\u001B[0m\u001B[37m\u001B[0m \u001B[1m14s\u001B[0m 18ms/step - accuracy: 0.9263 - loss: 0.2277 - val_accuracy: 0.9881 - val_loss: 0.2202\n",
      "Epoch 80/1000\n",
      "\u001B[1m785/788\u001B[0m \u001B[32m━━━━━━━━━━━━━━━━━━━\u001B[0m\u001B[37m━\u001B[0m \u001B[1m0s\u001B[0m 15ms/step - accuracy: 0.9109 - loss: 0.2950\n",
      "Epoch 80: saving model to model/keypoint_classifier/keypoint_classifier_glove.keras\n",
      "\u001B[1m788/788\u001B[0m \u001B[32m━━━━━━━━━━━━━━━━━━━━\u001B[0m\u001B[37m\u001B[0m \u001B[1m14s\u001B[0m 17ms/step - accuracy: 0.9109 - loss: 0.2948 - val_accuracy: 0.9912 - val_loss: 0.0345\n",
      "Epoch 81/1000\n",
      "\u001B[1m785/788\u001B[0m \u001B[32m━━━━━━━━━━━━━━━━━━━\u001B[0m\u001B[37m━\u001B[0m \u001B[1m0s\u001B[0m 15ms/step - accuracy: 0.9234 - loss: 0.2371\n",
      "Epoch 81: saving model to model/keypoint_classifier/keypoint_classifier_glove.keras\n",
      "\u001B[1m788/788\u001B[0m \u001B[32m━━━━━━━━━━━━━━━━━━━━\u001B[0m\u001B[37m\u001B[0m \u001B[1m13s\u001B[0m 17ms/step - accuracy: 0.9234 - loss: 0.2370 - val_accuracy: 0.9945 - val_loss: 0.0297\n",
      "Epoch 81: early stopping\n"
     ]
    }
   ],
   "source": [
    "\n",
    "history = model.fit(\n",
    "    X_train,\n",
    "    y_train,\n",
    "    epochs=1000,\n",
    "    batch_size=128,\n",
    "    validation_data=(X_validation, y_validation),\n",
    "    callbacks=[cp_callback, es_callback]\n",
    ")"
   ],
   "metadata": {
    "collapsed": false
   }
  },
  {
   "cell_type": "code",
   "execution_count": null,
   "outputs": [],
   "source": [
    "history2 = model2.fit(\n",
    "    X_train,\n",
    "    y_train,\n",
    "    epochs = 1000,\n",
    "    batch_size = 64,\n",
    "    validation_data = (X_validation, y_validation),\n",
    "    callbacks = [cp_callback_test, es_callback_test]\n",
    ")"
   ],
   "metadata": {
    "collapsed": false,
    "pycharm": {
     "is_executing": true
    }
   }
  },
  {
   "cell_type": "code",
   "execution_count": null,
   "outputs": [],
   "source": [
    "history3 = model3.fit(\n",
    "    X_train,\n",
    "    y_train,\n",
    "    epochs = 1000,\n",
    "    batch_size = 64,\n",
    "    validation_data = (X_validation, y_validation),\n",
    "    callbacks = [cp_callback_test, es_callback_test]\n",
    ")"
   ],
   "metadata": {
    "collapsed": false,
    "pycharm": {
     "is_executing": true
    }
   }
  },
  {
   "cell_type": "code",
   "execution_count": 141,
   "outputs": [
    {
     "name": "stdout",
     "output_type": "stream",
     "text": [
      "\u001B[1m600/600\u001B[0m \u001B[32m━━━━━━━━━━━━━━━━━━━━\u001B[0m\u001B[37m\u001B[0m \u001B[1m2s\u001B[0m 2ms/step - accuracy: 0.8211 - loss: 0.5393\n"
     ]
    }
   ],
   "source": [
    "# Model evaluation\n",
    "val_loss, val_acc = model.evaluate(X_test, y_test, batch_size = 4)"
   ],
   "metadata": {
    "collapsed": false
   }
  },
  {
   "cell_type": "code",
   "execution_count": null,
   "outputs": [],
   "source": [
    "val_loss2, vall_acc2 = model2.evaluate(X_test, y_test, batch_size=128)"
   ],
   "metadata": {
    "collapsed": false
   }
  },
  {
   "cell_type": "code",
   "execution_count": null,
   "outputs": [],
   "source": [
    "val_loss3, vall_acc3 = model3.evaluate(X_test, y_test, batch_size=128)"
   ],
   "metadata": {
    "collapsed": false
   }
  },
  {
   "cell_type": "code",
   "execution_count": null,
   "outputs": [],
   "source": [
    "import pandas as pd\n",
    "import seaborn as sns\n",
    "import matplotlib.pyplot as plt\n",
    "from sklearn.metrics import confusion_matrix, classification_report\n",
    "\n",
    "def print_confusion_matrix(y_true, y_pred, report=True):\n",
    "    labels = sorted(list(set(y_true)))\n",
    "    cmx_data = confusion_matrix(y_true, y_pred, labels=labels)\n",
    "\n",
    "    df_cmx = pd.DataFrame(cmx_data, index=labels, columns=labels)\n",
    "\n",
    "    fig, ax = plt.subplots(figsize=(7, 6))\n",
    "    sns.heatmap(df_cmx, annot=True, fmt='g' ,square=False)\n",
    "    ax.set_ylim(len(set(y_true)), 0)\n",
    "    plt.show()\n",
    "\n",
    "    if report:\n",
    "        print('Classification Report')\n",
    "        print(classification_report(y_test, y_pred))\n",
    "\n",
    "Y_pred = model.predict(X_test)\n",
    "y_pred = np.argmax(Y_pred, axis=1)\n",
    "\n",
    "print_confusion_matrix(y_test, y_pred)"
   ],
   "metadata": {
    "collapsed": false
   }
  },
  {
   "cell_type": "code",
   "execution_count": 29,
   "outputs": [
    {
     "data": {
      "text/plain": "<Figure size 640x480 with 1 Axes>",
      "image/png": "[encoded data removed]"
     },
     "metadata": {},
     "output_type": "display_data"
    }
   ],
   "source": [
    "plt.plot(history.history['loss'])\n",
    "plt.plot(history.history['val_loss'])\n",
    "plt.title('Model loss')\n",
    "plt.ylabel('Loss')\n",
    "plt.xlabel('Epoch')\n",
    "plt.legend(['Train', 'Validation'], loc='upper left')\n",
    "plt.show()"
   ],
   "metadata": {
    "collapsed": false
   }
  },
  {
   "cell_type": "code",
   "execution_count": 30,
   "outputs": [
    {
     "data": {
      "text/plain": "<Figure size 1200x600 with 2 Axes>",
      "image/png": "[encoded data removed]"
     },
     "metadata": {},
     "output_type": "display_data"
    }
   ],
   "source": [
    "plt.figure(figsize=(12, 6))\n",
    "\n",
    "# Plot training & validation loss values\n",
    "plt.subplot(2, 1, 1)\n",
    "plt.plot(history.history['loss'])\n",
    "plt.plot(history.history['val_loss'])\n",
    "plt.title('Model loss')\n",
    "plt.xlabel('Epoch')\n",
    "plt.ylabel('Loss')\n",
    "plt.legend(['Train', 'Validation'], loc='upper left')\n",
    "\n",
    "# Plot training & validation accuracy and F1 score values\n",
    "plt.subplot(2, 1, 2)\n",
    "plt.plot(history.history['accuracy'])\n",
    "plt.plot(history.history['val_accuracy'])\n",
    "plt.title('Model metrics')\n",
    "plt.xlabel('Epoch')\n",
    "plt.ylabel('Metric Value')\n",
    "plt.legend(['Train Accuracy', 'Validation Accuracy', 'F1 Score'], loc='upper left')\n",
    "\n",
    "plt.tight_layout()\n",
    "plt.show()"
   ],
   "metadata": {
    "collapsed": false
   }
  },
  {
   "cell_type": "code",
   "execution_count": 31,
   "outputs": [
    {
     "name": "stdout",
     "output_type": "stream",
     "text": [
      "Shape of X_train: (13440, 172)\n",
      "Shape of y_train: (13440,)\n"
     ]
    },
    {
     "name": "stderr",
     "output_type": "stream",
     "text": [
      "C:\\thesis\\venv\\lib\\site-packages\\sklearn\\linear_model\\_logistic.py:469: ConvergenceWarning: lbfgs failed to converge (status=1):\n",
      "STOP: TOTAL NO. of ITERATIONS REACHED LIMIT.\n",
      "\n",
      "Increase the number of iterations (max_iter) or scale the data as shown in:\n",
      "    https://scikit-learn.org/stable/modules/preprocessing.html\n",
      "Please also refer to the documentation for alternative solver options:\n",
      "    https://scikit-learn.org/stable/modules/linear_model.html#logistic-regression\n",
      "  n_iter_i = _check_optimize_result(\n"
     ]
    },
    {
     "name": "stdout",
     "output_type": "stream",
     "text": [
      "Voting Classifier Accuracy: 0.21916666666666668\n"
     ]
    }
   ],
   "source": [
    "from sklearn.ensemble import VotingClassifier\n",
    "from sklearn.linear_model import LogisticRegression\n",
    "from sklearn.tree import DecisionTreeClassifier\n",
    "from sklearn.svm import SVC\n",
    "from sklearn.datasets import make_classification\n",
    "from sklearn.model_selection import train_test_split\n",
    "from sklearn.metrics import accuracy_score\n",
    "\n",
    "# Define base classifiers\n",
    "classifier1 = LogisticRegression()\n",
    "classifier2 = DecisionTreeClassifier()\n",
    "classifier3 = SVC(probability=True)\n",
    "\n",
    "print(\"Shape of X_train:\", X_train.shape)\n",
    "print(\"Shape of y_train:\", y_train.shape)\n",
    "\n",
    "# Create a voting classifier\n",
    "voting_classifier = VotingClassifier(estimators=[\n",
    "    ('lr', classifier1),\n",
    "    ('dt', classifier2),\n",
    "    ('svc', classifier3)\n",
    "], voting='hard')  # Change to 'soft' for soft voting\n",
    "\n",
    "# Train the voting classifier\n",
    "voting_classifier.fit(X_train, y_train)\n",
    "\n",
    "# Evaluate the voting classifier\n",
    "y_pred = voting_classifier.predict(X_test)\n",
    "accuracy = accuracy_score(y_test, y_pred)\n",
    "print(\"Voting Classifier Accuracy:\", accuracy)\n"
   ],
   "metadata": {
    "collapsed": false
   }
  },
  {
   "cell_type": "code",
   "execution_count": null,
   "outputs": [],
   "source": [],
   "metadata": {
    "collapsed": false,
    "pycharm": {
     "is_executing": true
    }
   }
  },
  {
   "cell_type": "code",
   "execution_count": null,
   "outputs": [],
   "source": [],
   "metadata": {
    "collapsed": false
   }
  }
 ],
 "metadata": {
  "kernelspec": {
   "display_name": "Python 3",
   "language": "python",
   "name": "python3"
  },
  "language_info": {
   "codemirror_mode": {
    "name": "ipython",
    "version": 2
   },
   "file_extension": ".py",
   "mimetype": "text/x-python",
   "name": "python",
   "nbconvert_exporter": "python",
   "pygments_lexer": "ipython2",
   "version": "2.7.6"
  }
 },
 "nbformat": 4,
 "nbformat_minor": 0
}
