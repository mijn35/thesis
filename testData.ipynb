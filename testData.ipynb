{
 "cells": [
  {
   "cell_type": "code",
   "execution_count": 1,
   "outputs": [
    {
     "name": "stdout",
     "output_type": "stream",
     "text": [
      "WARNING:tensorflow:From C:\\gesture_recognition_by_image\\venv\\lib\\site-packages\\keras\\src\\losses.py:2976: The name tf.losses.sparse_softmax_cross_entropy is deprecated. Please use tf.compat.v1.losses.sparse_softmax_cross_entropy instead.\n",
      "\n"
     ]
    }
   ],
   "source": [
    "import csv\n",
    "\n",
    "import numpy as np\n",
    "import tensorflow as tf\n",
    "from tensorflow import keras\n",
    "from sklearn.model_selection import train_test_split\n",
    "import pandas as pd\n",
    "import matplotlib.pyplot as plt\n",
    "\n",
    "RANDOM_SEED = 42"
   ],
   "metadata": {
    "collapsed": false
   }
  },
  {
   "cell_type": "code",
   "execution_count": 22,
   "outputs": [],
   "source": [
    "dataset = 'data.csv'\n",
    "#model_save_path = 'model/keypoint_classifier/keypoint_classifier.hdf5'\n",
    "#tflite_save_path = 'model/keypoint_classifier/keypoint_classifier.tflite'\n",
    "model_save_path = 'new_datahand_classifier.hdf5'\n",
    "tflite_save_path = 'new_datahand_classifier.tflite'"
   ],
   "metadata": {
    "collapsed": false
   }
  },
  {
   "cell_type": "code",
   "execution_count": 23,
   "outputs": [],
   "source": [
    "NUM_CLASSES = 24"
   ],
   "metadata": {
    "collapsed": false
   }
  },
  {
   "cell_type": "code",
   "execution_count": 24,
   "outputs": [
    {
     "name": "stdout",
     "output_type": "stream",
     "text": [
      "0    0,0,0,0,-3.519914,0.050068,3.621712,-6.490975,...\n",
      "Name: 0, dtype: object\n",
      "0    0,0,0,0,-3.519914,0.050068,3.621712,-6.498184,...\n",
      "Name: 1, dtype: object\n",
      "The input shape of your array is: (1215, 1)\n"
     ]
    }
   ],
   "source": [
    "arr = pd.read_csv(dataset, header=None, delimiter=\";\")\n",
    "# check the shape\n",
    "input_shape = arr.shape\n",
    "print(arr.iloc[0])\n",
    "print(arr.iloc[1])\n",
    "print(f\"The input shape of your array is: {input_shape}\")"
   ],
   "metadata": {
    "collapsed": false
   }
  },
  {
   "cell_type": "code",
   "execution_count": 27,
   "outputs": [],
   "source": [
    "X_dataset = np.loadtxt(dataset, delimiter=',', dtype='float32', usecols=list(range(1, 365)))\n",
    "y_dataset = np.loadtxt(dataset, delimiter=',', dtype='int32', usecols=(0))\n",
    "X_train, X_test, y_train, y_test = train_test_split(X_dataset, y_dataset, train_size=0.75, random_state=RANDOM_SEED)"
   ],
   "metadata": {
    "collapsed": false
   }
  },
  {
   "cell_type": "code",
   "execution_count": 28,
   "outputs": [],
   "source": [
    "model = tf.keras.models.Sequential([\n",
    "    tf.keras.layers.Reshape((182, 2, 1), input_shape=(364, )),\n",
    "    tf.keras.layers.Conv2D(32, kernel_size=(3, 1), activation='relu', padding='same'),\n",
    "    tf.keras.layers.MaxPooling2D(pool_size=(2, 1)),\n",
    "    tf.keras.layers.Conv2D(64, kernel_size=(3, 1), activation='relu', padding='same'),\n",
    "    tf.keras.layers.MaxPooling2D(pool_size=(2, 1)),\n",
    "    tf.keras.layers.Flatten(),\n",
    "    #tf.keras.layers.Dropout(0.2),\n",
    "    tf.keras.layers.Dense(128, activation='relu'),\n",
    "    #tf.keras.layers.Dropout(0.4),\n",
    "    tf.keras.layers.Dense(64, activation='relu'),\n",
    "    tf.keras.layers.Dense(NUM_CLASSES, activation='softmax')\n",
    "])"
   ],
   "metadata": {
    "collapsed": false
   }
  },
  {
   "cell_type": "code",
   "execution_count": 29,
   "outputs": [
    {
     "name": "stdout",
     "output_type": "stream",
     "text": [
      "Model: \"sequential_2\"\n",
      "_________________________________________________________________\n",
      " Layer (type)                Output Shape              Param #   \n",
      "=================================================================\n",
      " reshape_2 (Reshape)         (None, 182, 2, 1)         0         \n",
      "                                                                 \n",
      " conv2d_4 (Conv2D)           (None, 182, 2, 32)        128       \n",
      "                                                                 \n",
      " max_pooling2d_4 (MaxPoolin  (None, 91, 2, 32)         0         \n",
      " g2D)                                                            \n",
      "                                                                 \n",
      " conv2d_5 (Conv2D)           (None, 91, 2, 64)         6208      \n",
      "                                                                 \n",
      " max_pooling2d_5 (MaxPoolin  (None, 45, 2, 64)         0         \n",
      " g2D)                                                            \n",
      "                                                                 \n",
      " flatten_2 (Flatten)         (None, 5760)              0         \n",
      "                                                                 \n",
      " dense_6 (Dense)             (None, 128)               737408    \n",
      "                                                                 \n",
      " dense_7 (Dense)             (None, 64)                8256      \n",
      "                                                                 \n",
      " dense_8 (Dense)             (None, 24)                1560      \n",
      "                                                                 \n",
      "=================================================================\n",
      "Total params: 753560 (2.87 MB)\n",
      "Trainable params: 753560 (2.87 MB)\n",
      "Non-trainable params: 0 (0.00 Byte)\n",
      "_________________________________________________________________\n"
     ]
    }
   ],
   "source": [
    "model.summary()"
   ],
   "metadata": {
    "collapsed": false
   }
  },
  {
   "cell_type": "code",
   "execution_count": 30,
   "outputs": [],
   "source": [
    "# Model checkpoint callback\n",
    "cp_callback = tf.keras.callbacks.ModelCheckpoint(\n",
    "    model_save_path, verbose=1, save_weights_only=False)\n",
    "# Callback for early stopping\n",
    "es_callback = tf.keras.callbacks.EarlyStopping(patience=20, verbose=1)"
   ],
   "metadata": {
    "collapsed": false
   }
  },
  {
   "cell_type": "code",
   "execution_count": 31,
   "outputs": [],
   "source": [
    "# Model compilation\n",
    "model.compile(\n",
    "    optimizer='adam',\n",
    "    loss='sparse_categorical_crossentropy',\n",
    "    metrics=['accuracy']\n",
    ")"
   ],
   "metadata": {
    "collapsed": false
   }
  },
  {
   "cell_type": "code",
   "execution_count": 32,
   "outputs": [
    {
     "name": "stdout",
     "output_type": "stream",
     "text": [
      "Epoch 1/1000\n",
      "8/8 [==============================] - ETA: 0s - loss: 25.6591 - accuracy: 0.1405\n",
      "Epoch 1: saving model to new_datahand_classifier.hdf5\n",
      "8/8 [==============================] - 2s 61ms/step - loss: 25.6591 - accuracy: 0.1405 - val_loss: 13.5247 - val_accuracy: 0.2434\n",
      "Epoch 2/1000\n",
      "7/8 [=========================>....] - ETA: 0s - loss: 7.2775 - accuracy: 0.3114"
     ]
    },
    {
     "name": "stderr",
     "output_type": "stream",
     "text": [
      "C:\\gesture_recognition_by_image\\venv\\lib\\site-packages\\keras\\src\\engine\\training.py:3103: UserWarning: You are saving your model as an HDF5 file via `model.save()`. This file format is considered legacy. We recommend using instead the native Keras format, e.g. `model.save('my_model.keras')`.\n",
      "  saving_api.save_model(\n"
     ]
    },
    {
     "name": "stdout",
     "output_type": "stream",
     "text": [
      "\n",
      "Epoch 2: saving model to new_datahand_classifier.hdf5\n",
      "8/8 [==============================] - 0s 30ms/step - loss: 7.2318 - accuracy: 0.3117 - val_loss: 4.1865 - val_accuracy: 0.4112\n",
      "Epoch 3/1000\n",
      "7/8 [=========================>....] - ETA: 0s - loss: 2.8375 - accuracy: 0.4944\n",
      "Epoch 3: saving model to new_datahand_classifier.hdf5\n",
      "8/8 [==============================] - 0s 31ms/step - loss: 2.8525 - accuracy: 0.4951 - val_loss: 2.4416 - val_accuracy: 0.5954\n",
      "Epoch 4/1000\n",
      "7/8 [=========================>....] - ETA: 0s - loss: 1.4488 - accuracy: 0.6540\n",
      "Epoch 4: saving model to new_datahand_classifier.hdf5\n",
      "8/8 [==============================] - 0s 31ms/step - loss: 1.4447 - accuracy: 0.6564 - val_loss: 1.5867 - val_accuracy: 0.7237\n",
      "Epoch 5/1000\n",
      "7/8 [=========================>....] - ETA: 0s - loss: 0.8753 - accuracy: 0.7857\n",
      "Epoch 5: saving model to new_datahand_classifier.hdf5\n",
      "8/8 [==============================] - 0s 31ms/step - loss: 0.8775 - accuracy: 0.7838 - val_loss: 1.4262 - val_accuracy: 0.7599\n",
      "Epoch 6/1000\n",
      "7/8 [=========================>....] - ETA: 0s - loss: 0.4748 - accuracy: 0.8895\n",
      "Epoch 6: saving model to new_datahand_classifier.hdf5\n",
      "8/8 [==============================] - 0s 31ms/step - loss: 0.4697 - accuracy: 0.8913 - val_loss: 0.8363 - val_accuracy: 0.8651\n",
      "Epoch 7/1000\n",
      "7/8 [=========================>....] - ETA: 0s - loss: 0.2702 - accuracy: 0.9408\n",
      "Epoch 7: saving model to new_datahand_classifier.hdf5\n",
      "8/8 [==============================] - 0s 30ms/step - loss: 0.2663 - accuracy: 0.9418 - val_loss: 0.7983 - val_accuracy: 0.8849\n",
      "Epoch 8/1000\n",
      "7/8 [=========================>....] - ETA: 0s - loss: 0.1795 - accuracy: 0.9632\n",
      "Epoch 8: saving model to new_datahand_classifier.hdf5\n",
      "8/8 [==============================] - 0s 29ms/step - loss: 0.1782 - accuracy: 0.9638 - val_loss: 0.9767 - val_accuracy: 0.9178\n",
      "Epoch 9/1000\n",
      "7/8 [=========================>....] - ETA: 0s - loss: 0.3883 - accuracy: 0.9855\n",
      "Epoch 9: saving model to new_datahand_classifier.hdf5\n",
      "8/8 [==============================] - 0s 29ms/step - loss: 0.3825 - accuracy: 0.9857 - val_loss: 0.6516 - val_accuracy: 0.9243\n",
      "Epoch 10/1000\n",
      "7/8 [=========================>....] - ETA: 0s - loss: 0.3098 - accuracy: 0.9788\n",
      "Epoch 10: saving model to new_datahand_classifier.hdf5\n",
      "8/8 [==============================] - 0s 29ms/step - loss: 0.3056 - accuracy: 0.9791 - val_loss: 0.5277 - val_accuracy: 0.9375\n",
      "Epoch 11/1000\n",
      "7/8 [=========================>....] - ETA: 0s - loss: 0.0547 - accuracy: 0.9933\n",
      "Epoch 11: saving model to new_datahand_classifier.hdf5\n",
      "8/8 [==============================] - 0s 29ms/step - loss: 0.0543 - accuracy: 0.9934 - val_loss: 0.4860 - val_accuracy: 0.9507\n",
      "Epoch 12/1000\n",
      "7/8 [=========================>....] - ETA: 0s - loss: 0.0362 - accuracy: 0.9967\n",
      "Epoch 12: saving model to new_datahand_classifier.hdf5\n",
      "8/8 [==============================] - 0s 31ms/step - loss: 0.0359 - accuracy: 0.9967 - val_loss: 1.5613 - val_accuracy: 0.9276\n",
      "Epoch 13/1000\n",
      "8/8 [==============================] - ETA: 0s - loss: 0.2279 - accuracy: 0.9945\n",
      "Epoch 13: saving model to new_datahand_classifier.hdf5\n",
      "8/8 [==============================] - 0s 32ms/step - loss: 0.2279 - accuracy: 0.9945 - val_loss: 0.6186 - val_accuracy: 0.9441\n",
      "Epoch 14/1000\n",
      "7/8 [=========================>....] - ETA: 0s - loss: 0.2061 - accuracy: 0.9944\n",
      "Epoch 14: saving model to new_datahand_classifier.hdf5\n",
      "8/8 [==============================] - 0s 29ms/step - loss: 0.2032 - accuracy: 0.9945 - val_loss: 0.8075 - val_accuracy: 0.9441\n",
      "Epoch 15/1000\n",
      "7/8 [=========================>....] - ETA: 0s - loss: 0.1544 - accuracy: 0.9955\n",
      "Epoch 15: saving model to new_datahand_classifier.hdf5\n",
      "8/8 [==============================] - 0s 29ms/step - loss: 0.1521 - accuracy: 0.9956 - val_loss: 0.7140 - val_accuracy: 0.9441\n",
      "Epoch 16/1000\n",
      "6/8 [=====================>........] - ETA: 0s - loss: 0.0512 - accuracy: 0.9961\n",
      "Epoch 16: saving model to new_datahand_classifier.hdf5\n",
      "8/8 [==============================] - 0s 31ms/step - loss: 0.0453 - accuracy: 0.9967 - val_loss: 0.6686 - val_accuracy: 0.9539\n",
      "Epoch 17/1000\n",
      "7/8 [=========================>....] - ETA: 0s - loss: 0.0202 - accuracy: 0.9967\n",
      "Epoch 17: saving model to new_datahand_classifier.hdf5\n",
      "8/8 [==============================] - 0s 29ms/step - loss: 0.0200 - accuracy: 0.9967 - val_loss: 0.7776 - val_accuracy: 0.9408\n",
      "Epoch 18/1000\n",
      "7/8 [=========================>....] - ETA: 0s - loss: 0.0089 - accuracy: 1.0000\n",
      "Epoch 18: saving model to new_datahand_classifier.hdf5\n",
      "8/8 [==============================] - 0s 29ms/step - loss: 0.0088 - accuracy: 1.0000 - val_loss: 0.7801 - val_accuracy: 0.9507\n",
      "Epoch 19/1000\n",
      "7/8 [=========================>....] - ETA: 0s - loss: 0.0077 - accuracy: 0.9989\n",
      "Epoch 19: saving model to new_datahand_classifier.hdf5\n",
      "8/8 [==============================] - 0s 31ms/step - loss: 0.0076 - accuracy: 0.9989 - val_loss: 0.7354 - val_accuracy: 0.9474\n",
      "Epoch 20/1000\n",
      "7/8 [=========================>....] - ETA: 0s - loss: 0.0053 - accuracy: 1.0000\n",
      "Epoch 20: saving model to new_datahand_classifier.hdf5\n",
      "8/8 [==============================] - 0s 30ms/step - loss: 0.0053 - accuracy: 1.0000 - val_loss: 0.6997 - val_accuracy: 0.9507\n",
      "Epoch 21/1000\n",
      "7/8 [=========================>....] - ETA: 0s - loss: 0.0044 - accuracy: 1.0000\n",
      "Epoch 21: saving model to new_datahand_classifier.hdf5\n",
      "8/8 [==============================] - 0s 29ms/step - loss: 0.0044 - accuracy: 1.0000 - val_loss: 0.6882 - val_accuracy: 0.9507\n",
      "Epoch 22/1000\n",
      "7/8 [=========================>....] - ETA: 0s - loss: 0.0039 - accuracy: 1.0000\n",
      "Epoch 22: saving model to new_datahand_classifier.hdf5\n",
      "8/8 [==============================] - 0s 30ms/step - loss: 0.0039 - accuracy: 1.0000 - val_loss: 0.6845 - val_accuracy: 0.9507\n",
      "Epoch 23/1000\n",
      "7/8 [=========================>....] - ETA: 0s - loss: 0.0034 - accuracy: 1.0000\n",
      "Epoch 23: saving model to new_datahand_classifier.hdf5\n",
      "8/8 [==============================] - 0s 30ms/step - loss: 0.0034 - accuracy: 1.0000 - val_loss: 0.6708 - val_accuracy: 0.9507\n",
      "Epoch 24/1000\n",
      "7/8 [=========================>....] - ETA: 0s - loss: 0.0030 - accuracy: 1.0000\n",
      "Epoch 24: saving model to new_datahand_classifier.hdf5\n",
      "8/8 [==============================] - 0s 29ms/step - loss: 0.0029 - accuracy: 1.0000 - val_loss: 0.6630 - val_accuracy: 0.9507\n",
      "Epoch 25/1000\n",
      "7/8 [=========================>....] - ETA: 0s - loss: 0.0027 - accuracy: 1.0000\n",
      "Epoch 25: saving model to new_datahand_classifier.hdf5\n",
      "8/8 [==============================] - 0s 30ms/step - loss: 0.0026 - accuracy: 1.0000 - val_loss: 0.6584 - val_accuracy: 0.9507\n",
      "Epoch 26/1000\n",
      "6/8 [=====================>........] - ETA: 0s - loss: 0.0025 - accuracy: 1.0000\n",
      "Epoch 26: saving model to new_datahand_classifier.hdf5\n",
      "8/8 [==============================] - 0s 32ms/step - loss: 0.0024 - accuracy: 1.0000 - val_loss: 0.6530 - val_accuracy: 0.9507\n",
      "Epoch 27/1000\n",
      "7/8 [=========================>....] - ETA: 0s - loss: 0.0022 - accuracy: 1.0000\n",
      "Epoch 27: saving model to new_datahand_classifier.hdf5\n",
      "8/8 [==============================] - 0s 29ms/step - loss: 0.0022 - accuracy: 1.0000 - val_loss: 0.6482 - val_accuracy: 0.9507\n",
      "Epoch 28/1000\n",
      "7/8 [=========================>....] - ETA: 0s - loss: 0.0021 - accuracy: 1.0000\n",
      "Epoch 28: saving model to new_datahand_classifier.hdf5\n",
      "8/8 [==============================] - 0s 30ms/step - loss: 0.0021 - accuracy: 1.0000 - val_loss: 0.6424 - val_accuracy: 0.9507\n",
      "Epoch 29/1000\n",
      "7/8 [=========================>....] - ETA: 0s - loss: 0.0019 - accuracy: 1.0000\n",
      "Epoch 29: saving model to new_datahand_classifier.hdf5\n",
      "8/8 [==============================] - 0s 30ms/step - loss: 0.0019 - accuracy: 1.0000 - val_loss: 0.6392 - val_accuracy: 0.9507\n",
      "Epoch 30/1000\n",
      "7/8 [=========================>....] - ETA: 0s - loss: 0.0018 - accuracy: 1.0000\n",
      "Epoch 30: saving model to new_datahand_classifier.hdf5\n",
      "8/8 [==============================] - 0s 30ms/step - loss: 0.0018 - accuracy: 1.0000 - val_loss: 0.6348 - val_accuracy: 0.9507\n",
      "Epoch 31/1000\n",
      "7/8 [=========================>....] - ETA: 0s - loss: 0.0017 - accuracy: 1.0000\n",
      "Epoch 31: saving model to new_datahand_classifier.hdf5\n",
      "8/8 [==============================] - 0s 29ms/step - loss: 0.0017 - accuracy: 1.0000 - val_loss: 0.6271 - val_accuracy: 0.9539\n",
      "Epoch 31: early stopping\n"
     ]
    }
   ],
   "source": [
    "history = model.fit(\n",
    "    X_train,\n",
    "    y_train,\n",
    "    epochs=1000,\n",
    "    batch_size=128,\n",
    "    validation_data=(X_test, y_test),\n",
    "    callbacks=[cp_callback, es_callback]\n",
    ")"
   ],
   "metadata": {
    "collapsed": false
   }
  },
  {
   "cell_type": "code",
   "execution_count": 33,
   "outputs": [
    {
     "name": "stdout",
     "output_type": "stream",
     "text": [
      "3/3 [==============================] - 0s 6ms/step - loss: 0.6271 - accuracy: 0.9539\n"
     ]
    }
   ],
   "source": [
    "# Model evaluation\n",
    "val_loss, val_acc = model.evaluate(X_test, y_test, batch_size=128)"
   ],
   "metadata": {
    "collapsed": false
   }
  },
  {
   "cell_type": "code",
   "execution_count": null,
   "outputs": [],
   "source": [],
   "metadata": {
    "collapsed": false
   }
  }
 ],
 "metadata": {
  "kernelspec": {
   "display_name": "Python 3",
   "language": "python",
   "name": "python3"
  },
  "language_info": {
   "codemirror_mode": {
    "name": "ipython",
    "version": 2
   },
   "file_extension": ".py",
   "mimetype": "text/x-python",
   "name": "python",
   "nbconvert_exporter": "python",
   "pygments_lexer": "ipython2",
   "version": "2.7.6"
  }
 },
 "nbformat": 4,
 "nbformat_minor": 0
}
