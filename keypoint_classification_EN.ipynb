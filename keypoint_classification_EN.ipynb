{
 "nbformat": 4,
 "nbformat_minor": 0,
 "metadata": {
  "kernelspec": {
   "display_name": "Python 3",
   "language": "python",
   "name": "python3"
  },
  "language_info": {
   "codemirror_mode": {
    "name": "ipython",
    "version": 3
   },
   "file_extension": ".py",
   "mimetype": "text/x-python",
   "name": "python",
   "nbconvert_exporter": "python",
   "pygments_lexer": "ipython3",
   "version": "3.8.5"
  },
  "colab": {
   "name": "keypoint_classification_EN.ipynb",
   "provenance": [],
   "collapsed_sections": [],
   "toc_visible": true
  },
  "accelerator": "GPU"
 },
 "cells": [
  {
   "cell_type": "code",
   "metadata": {
    "id": "igMyGnjE9hEp"
   },
   "source": [
    "import csv\n",
    "\n",
    "import numpy as np\n",
    "import tensorflow as tf\n",
    "from tensorflow import keras\n",
    "from sklearn.model_selection import train_test_split\n",
    "\n",
    "RANDOM_SEED = 42"
   ],
   "execution_count": 1,
   "outputs": [
    {
     "name": "stdout",
     "output_type": "stream",
     "text": [
      "WARNING:tensorflow:From C:\\gesture_recognition_by_image\\venv\\lib\\site-packages\\keras\\src\\losses.py:2976: The name tf.losses.sparse_softmax_cross_entropy is deprecated. Please use tf.compat.v1.losses.sparse_softmax_cross_entropy instead.\n",
      "\n"
     ]
    }
   ]
  },
  {
   "cell_type": "markdown",
   "metadata": {
    "id": "t2HDvhIu9hEr"
   },
   "source": [
    "# Specify each path"
   ]
  },
  {
   "cell_type": "code",
   "metadata": {
    "id": "9NvZP2Zn9hEy"
   },
   "source": [
    "dataset = 'model/keypoint_classifier/keypoint.csv'\n",
    "model_save_path = 'model/keypoint_classifier/keypoint_classifier.hdf5'\n",
    "tflite_save_path = 'model/keypoint_classifier/keypoint_classifier.tflite'"
   ],
   "execution_count": 2,
   "outputs": []
  },
  {
   "cell_type": "markdown",
   "metadata": {
    "id": "s5oMH7x19hEz"
   },
   "source": [
    "# Set number of classes"
   ]
  },
  {
   "cell_type": "code",
   "metadata": {
    "id": "du4kodXL9hEz"
   },
   "source": [
    "NUM_CLASSES = 26"
   ],
   "execution_count": 3,
   "outputs": []
  },
  {
   "cell_type": "markdown",
   "metadata": {
    "id": "XjnL0uso9hEz"
   },
   "source": [
    "# Dataset reading"
   ]
  },
  {
   "cell_type": "code",
   "metadata": {
    "id": "QT5ZqtEz9hE0"
   },
   "source": [
    "X_dataset = np.loadtxt(dataset, delimiter=',', dtype='float32', usecols=list(range(1, (21 * 2) + 1)))"
   ],
   "execution_count": 4,
   "outputs": []
  },
  {
   "cell_type": "code",
   "metadata": {
    "id": "QmoKFsp49hE0"
   },
   "source": [
    "y_dataset = np.loadtxt(dataset, delimiter=',', dtype='int32', usecols=(0))"
   ],
   "execution_count": 5,
   "outputs": []
  },
  {
   "cell_type": "code",
   "metadata": {
    "id": "xQU7JTZ_9hE0"
   },
   "source": [
    "X_train, X_test, y_train, y_test = train_test_split(X_dataset, y_dataset, train_size=0.75, random_state=RANDOM_SEED)"
   ],
   "execution_count": 6,
   "outputs": []
  },
  {
   "cell_type": "markdown",
   "metadata": {
    "id": "mxK_lETT9hE0"
   },
   "source": [
    "# Model building"
   ]
  },
  {
   "cell_type": "code",
   "metadata": {
    "id": "vHBmUf1t9hE1"
   },
   "source": [
    "model = tf.keras.models.Sequential([\n",
    "    tf.keras.layers.Input((21 * 2, )),\n",
    "    tf.keras.layers.Dropout(0.2),\n",
    "    tf.keras.layers.Dense(20, activation='relu'),\n",
    "    tf.keras.layers.Dropout(0.4),\n",
    "    tf.keras.layers.Dense(10, activation='relu'),\n",
    "    tf.keras.layers.Dense(NUM_CLASSES, activation='softmax')\n",
    "])"
   ],
   "execution_count": 7,
   "outputs": [
    {
     "name": "stdout",
     "output_type": "stream",
     "text": [
      "WARNING:tensorflow:From C:\\gesture_recognition_by_image\\venv\\lib\\site-packages\\keras\\src\\backend.py:1398: The name tf.executing_eagerly_outside_functions is deprecated. Please use tf.compat.v1.executing_eagerly_outside_functions instead.\n",
      "\n"
     ]
    }
   ]
  },
  {
   "cell_type": "code",
   "metadata": {
    "id": "ypqky9tc9hE1",
    "colab": {
     "base_uri": "https://localhost:8080/"
    },
    "outputId": "5db082bb-30e3-4110-bf63-a1ee777ecd46"
   },
   "source": [
    "model.summary()  # tf.keras.utils.plot_model(model, show_shapes=True)"
   ],
   "execution_count": 8,
   "outputs": [
    {
     "name": "stdout",
     "output_type": "stream",
     "text": [
      "Model: \"sequential\"\n",
      "_________________________________________________________________\n",
      " Layer (type)                Output Shape              Param #   \n",
      "=================================================================\n",
      " dropout (Dropout)           (None, 42)                0         \n",
      "                                                                 \n",
      " dense (Dense)               (None, 20)                860       \n",
      "                                                                 \n",
      " dropout_1 (Dropout)         (None, 20)                0         \n",
      "                                                                 \n",
      " dense_1 (Dense)             (None, 10)                210       \n",
      "                                                                 \n",
      " dense_2 (Dense)             (None, 26)                286       \n",
      "                                                                 \n",
      "=================================================================\n",
      "Total params: 1356 (5.30 KB)\n",
      "Trainable params: 1356 (5.30 KB)\n",
      "Non-trainable params: 0 (0.00 Byte)\n",
      "_________________________________________________________________\n"
     ]
    }
   ]
  },
  {
   "cell_type": "code",
   "metadata": {
    "id": "MbMjOflQ9hE1"
   },
   "source": [
    "# Model checkpoint callback\n",
    "cp_callback = tf.keras.callbacks.ModelCheckpoint(\n",
    "    model_save_path, verbose=1, save_weights_only=False)\n",
    "# Callback for early stopping\n",
    "es_callback = tf.keras.callbacks.EarlyStopping(patience=20, verbose=1)"
   ],
   "execution_count": 9,
   "outputs": []
  },
  {
   "cell_type": "code",
   "metadata": {
    "id": "c3Dac0M_9hE2"
   },
   "source": [
    "# Model compilation\n",
    "model.compile(\n",
    "    optimizer='adam',\n",
    "    loss='sparse_categorical_crossentropy',\n",
    "    metrics=['accuracy']\n",
    ")"
   ],
   "execution_count": 10,
   "outputs": [
    {
     "name": "stdout",
     "output_type": "stream",
     "text": [
      "WARNING:tensorflow:From C:\\gesture_recognition_by_image\\venv\\lib\\site-packages\\keras\\src\\optimizers\\__init__.py:309: The name tf.train.Optimizer is deprecated. Please use tf.compat.v1.train.Optimizer instead.\n",
      "\n"
     ]
    }
   ]
  },
  {
   "cell_type": "markdown",
   "metadata": {
    "id": "7XI0j1Iu9hE2"
   },
   "source": [
    "# Model training"
   ]
  },
  {
   "cell_type": "code",
   "metadata": {
    "scrolled": true,
    "id": "WirBl-JE9hE3",
    "colab": {
     "base_uri": "https://localhost:8080/"
    },
    "outputId": "71b30ca2-8294-4d9d-8aa2-800d90d399de"
   },
   "source": [
    "model.fit(\n",
    "    X_train,\n",
    "    y_train,\n",
    "    epochs=1000,\n",
    "    batch_size=128,\n",
    "    validation_data=(X_test, y_test),\n",
    "    callbacks=[cp_callback, es_callback]\n",
    ")"
   ],
   "execution_count": 11,
   "outputs": [
    {
     "name": "stdout",
     "output_type": "stream",
     "text": [
      "Epoch 1/1000\n",
      "WARNING:tensorflow:From C:\\gesture_recognition_by_image\\venv\\lib\\site-packages\\keras\\src\\utils\\tf_utils.py:492: The name tf.ragged.RaggedTensorValue is deprecated. Please use tf.compat.v1.ragged.RaggedTensorValue instead.\n",
      "\n",
      "WARNING:tensorflow:From C:\\gesture_recognition_by_image\\venv\\lib\\site-packages\\keras\\src\\engine\\base_layer_utils.py:384: The name tf.executing_eagerly_outside_functions is deprecated. Please use tf.compat.v1.executing_eagerly_outside_functions instead.\n",
      "\n",
      "163/175 [==========================>...] - ETA: 0s - loss: 2.8028 - accuracy: 0.1759\n",
      "Epoch 1: saving model to model/keypoint_classifier\\keypoint_classifier.hdf5\n",
      "175/175 [==============================] - 3s 6ms/step - loss: 2.7698 - accuracy: 0.1852 - val_loss: 2.1511 - val_accuracy: 0.3743\n",
      "Epoch 2/1000\n",
      " 36/175 [=====>........................] - ETA: 0s - loss: 2.2536 - accuracy: 0.3322"
     ]
    },
    {
     "name": "stderr",
     "output_type": "stream",
     "text": [
      "C:\\gesture_recognition_by_image\\venv\\lib\\site-packages\\keras\\src\\engine\\training.py:3103: UserWarning: You are saving your model as an HDF5 file via `model.save()`. This file format is considered legacy. We recommend using instead the native Keras format, e.g. `model.save('my_model.keras')`.\n",
      "  saving_api.save_model(\n"
     ]
    },
    {
     "name": "stdout",
     "output_type": "stream",
     "text": [
      "171/175 [============================>.] - ETA: 0s - loss: 2.0266 - accuracy: 0.3995\n",
      "Epoch 2: saving model to model/keypoint_classifier\\keypoint_classifier.hdf5\n",
      "175/175 [==============================] - 1s 4ms/step - loss: 2.0243 - accuracy: 0.4003 - val_loss: 1.5892 - val_accuracy: 0.6493\n",
      "Epoch 3/1000\n",
      "162/175 [==========================>...] - ETA: 0s - loss: 1.6871 - accuracy: 0.5004\n",
      "Epoch 3: saving model to model/keypoint_classifier\\keypoint_classifier.hdf5\n",
      "175/175 [==============================] - 1s 5ms/step - loss: 1.6772 - accuracy: 0.5024 - val_loss: 1.2537 - val_accuracy: 0.7085\n",
      "Epoch 4/1000\n",
      "171/175 [============================>.] - ETA: 0s - loss: 1.4684 - accuracy: 0.5597\n",
      "Epoch 4: saving model to model/keypoint_classifier\\keypoint_classifier.hdf5\n",
      "175/175 [==============================] - 1s 7ms/step - loss: 1.4669 - accuracy: 0.5603 - val_loss: 1.0375 - val_accuracy: 0.7271\n",
      "Epoch 5/1000\n",
      "169/175 [===========================>..] - ETA: 0s - loss: 1.3391 - accuracy: 0.5865\n",
      "Epoch 5: saving model to model/keypoint_classifier\\keypoint_classifier.hdf5\n",
      "175/175 [==============================] - 1s 7ms/step - loss: 1.3355 - accuracy: 0.5875 - val_loss: 0.9112 - val_accuracy: 0.7395\n",
      "Epoch 6/1000\n",
      "161/175 [==========================>...] - ETA: 0s - loss: 1.2512 - accuracy: 0.6087\n",
      "Epoch 6: saving model to model/keypoint_classifier\\keypoint_classifier.hdf5\n",
      "175/175 [==============================] - 1s 5ms/step - loss: 1.2490 - accuracy: 0.6094 - val_loss: 0.8259 - val_accuracy: 0.7469\n",
      "Epoch 7/1000\n",
      "169/175 [===========================>..] - ETA: 0s - loss: 1.1949 - accuracy: 0.6227\n",
      "Epoch 7: saving model to model/keypoint_classifier\\keypoint_classifier.hdf5\n",
      "175/175 [==============================] - 1s 4ms/step - loss: 1.1940 - accuracy: 0.6233 - val_loss: 0.7839 - val_accuracy: 0.7660\n",
      "Epoch 8/1000\n",
      "161/175 [==========================>...] - ETA: 0s - loss: 1.1445 - accuracy: 0.6343\n",
      "Epoch 8: saving model to model/keypoint_classifier\\keypoint_classifier.hdf5\n",
      "175/175 [==============================] - 1s 6ms/step - loss: 1.1416 - accuracy: 0.6351 - val_loss: 0.7242 - val_accuracy: 0.7713\n",
      "Epoch 9/1000\n",
      "173/175 [============================>.] - ETA: 0s - loss: 1.1092 - accuracy: 0.6446\n",
      "Epoch 9: saving model to model/keypoint_classifier\\keypoint_classifier.hdf5\n",
      "175/175 [==============================] - 1s 7ms/step - loss: 1.1084 - accuracy: 0.6446 - val_loss: 0.6889 - val_accuracy: 0.7775\n",
      "Epoch 10/1000\n",
      "175/175 [==============================] - ETA: 0s - loss: 1.0817 - accuracy: 0.6484\n",
      "Epoch 10: saving model to model/keypoint_classifier\\keypoint_classifier.hdf5\n",
      "175/175 [==============================] - 1s 7ms/step - loss: 1.0817 - accuracy: 0.6484 - val_loss: 0.6665 - val_accuracy: 0.7935\n",
      "Epoch 11/1000\n",
      "170/175 [============================>.] - ETA: 0s - loss: 1.0600 - accuracy: 0.6556\n",
      "Epoch 11: saving model to model/keypoint_classifier\\keypoint_classifier.hdf5\n",
      "175/175 [==============================] - 1s 6ms/step - loss: 1.0582 - accuracy: 0.6564 - val_loss: 0.6369 - val_accuracy: 0.7901\n",
      "Epoch 12/1000\n",
      "173/175 [============================>.] - ETA: 0s - loss: 1.0291 - accuracy: 0.6634\n",
      "Epoch 12: saving model to model/keypoint_classifier\\keypoint_classifier.hdf5\n",
      "175/175 [==============================] - 1s 5ms/step - loss: 1.0296 - accuracy: 0.6633 - val_loss: 0.6112 - val_accuracy: 0.7966\n",
      "Epoch 13/1000\n",
      "175/175 [==============================] - ETA: 0s - loss: 1.0085 - accuracy: 0.6715\n",
      "Epoch 13: saving model to model/keypoint_classifier\\keypoint_classifier.hdf5\n",
      "175/175 [==============================] - 1s 4ms/step - loss: 1.0085 - accuracy: 0.6715 - val_loss: 0.5972 - val_accuracy: 0.8246\n",
      "Epoch 14/1000\n",
      "167/175 [===========================>..] - ETA: 0s - loss: 1.0068 - accuracy: 0.6715\n",
      "Epoch 14: saving model to model/keypoint_classifier\\keypoint_classifier.hdf5\n",
      "175/175 [==============================] - 1s 6ms/step - loss: 1.0021 - accuracy: 0.6725 - val_loss: 0.5796 - val_accuracy: 0.8227\n",
      "Epoch 15/1000\n",
      "158/175 [==========================>...] - ETA: 0s - loss: 0.9897 - accuracy: 0.6728\n",
      "Epoch 15: saving model to model/keypoint_classifier\\keypoint_classifier.hdf5\n",
      "175/175 [==============================] - 1s 4ms/step - loss: 0.9867 - accuracy: 0.6738 - val_loss: 0.5633 - val_accuracy: 0.8180\n",
      "Epoch 16/1000\n",
      "164/175 [===========================>..] - ETA: 0s - loss: 0.9722 - accuracy: 0.6837\n",
      "Epoch 16: saving model to model/keypoint_classifier\\keypoint_classifier.hdf5\n",
      "175/175 [==============================] - 1s 4ms/step - loss: 0.9714 - accuracy: 0.6840 - val_loss: 0.5461 - val_accuracy: 0.8380\n",
      "Epoch 17/1000\n",
      "173/175 [============================>.] - ETA: 0s - loss: 0.9646 - accuracy: 0.6831\n",
      "Epoch 17: saving model to model/keypoint_classifier\\keypoint_classifier.hdf5\n",
      "175/175 [==============================] - 1s 7ms/step - loss: 0.9649 - accuracy: 0.6829 - val_loss: 0.5437 - val_accuracy: 0.8339\n",
      "Epoch 18/1000\n",
      "168/175 [===========================>..] - ETA: 0s - loss: 0.9588 - accuracy: 0.6852\n",
      "Epoch 18: saving model to model/keypoint_classifier\\keypoint_classifier.hdf5\n",
      "175/175 [==============================] - 1s 7ms/step - loss: 0.9570 - accuracy: 0.6856 - val_loss: 0.5316 - val_accuracy: 0.8469\n",
      "Epoch 19/1000\n",
      "165/175 [===========================>..] - ETA: 0s - loss: 0.9518 - accuracy: 0.6899\n",
      "Epoch 19: saving model to model/keypoint_classifier\\keypoint_classifier.hdf5\n",
      "175/175 [==============================] - 1s 6ms/step - loss: 0.9508 - accuracy: 0.6899 - val_loss: 0.5235 - val_accuracy: 0.8200\n",
      "Epoch 20/1000\n",
      "174/175 [============================>.] - ETA: 0s - loss: 0.9348 - accuracy: 0.6910\n",
      "Epoch 20: saving model to model/keypoint_classifier\\keypoint_classifier.hdf5\n",
      "175/175 [==============================] - 1s 6ms/step - loss: 0.9346 - accuracy: 0.6911 - val_loss: 0.5116 - val_accuracy: 0.8463\n",
      "Epoch 21/1000\n",
      "169/175 [===========================>..] - ETA: 0s - loss: 0.9204 - accuracy: 0.6953\n",
      "Epoch 21: saving model to model/keypoint_classifier\\keypoint_classifier.hdf5\n",
      "175/175 [==============================] - 1s 7ms/step - loss: 0.9229 - accuracy: 0.6947 - val_loss: 0.5108 - val_accuracy: 0.8496\n",
      "Epoch 22/1000\n",
      "171/175 [============================>.] - ETA: 0s - loss: 0.9216 - accuracy: 0.6976\n",
      "Epoch 22: saving model to model/keypoint_classifier\\keypoint_classifier.hdf5\n",
      "175/175 [==============================] - 1s 6ms/step - loss: 0.9211 - accuracy: 0.6974 - val_loss: 0.5066 - val_accuracy: 0.8496\n",
      "Epoch 23/1000\n",
      "171/175 [============================>.] - ETA: 0s - loss: 0.9258 - accuracy: 0.6954\n",
      "Epoch 23: saving model to model/keypoint_classifier\\keypoint_classifier.hdf5\n",
      "175/175 [==============================] - 1s 4ms/step - loss: 0.9270 - accuracy: 0.6952 - val_loss: 0.4998 - val_accuracy: 0.8489\n",
      "Epoch 24/1000\n",
      "164/175 [===========================>..] - ETA: 0s - loss: 0.9078 - accuracy: 0.7001\n",
      "Epoch 24: saving model to model/keypoint_classifier\\keypoint_classifier.hdf5\n",
      "175/175 [==============================] - 1s 5ms/step - loss: 0.9054 - accuracy: 0.7017 - val_loss: 0.4996 - val_accuracy: 0.8429\n",
      "Epoch 25/1000\n",
      "164/175 [===========================>..] - ETA: 0s - loss: 0.9115 - accuracy: 0.6987\n",
      "Epoch 25: saving model to model/keypoint_classifier\\keypoint_classifier.hdf5\n",
      "175/175 [==============================] - 1s 5ms/step - loss: 0.9100 - accuracy: 0.6990 - val_loss: 0.4896 - val_accuracy: 0.8512\n",
      "Epoch 26/1000\n",
      "161/175 [==========================>...] - ETA: 0s - loss: 0.9089 - accuracy: 0.6989\n",
      "Epoch 26: saving model to model/keypoint_classifier\\keypoint_classifier.hdf5\n",
      "175/175 [==============================] - 1s 4ms/step - loss: 0.9090 - accuracy: 0.6993 - val_loss: 0.4877 - val_accuracy: 0.8605\n",
      "Epoch 27/1000\n",
      "172/175 [============================>.] - ETA: 0s - loss: 0.8848 - accuracy: 0.7091\n",
      "Epoch 27: saving model to model/keypoint_classifier\\keypoint_classifier.hdf5\n",
      "175/175 [==============================] - 1s 7ms/step - loss: 0.8855 - accuracy: 0.7088 - val_loss: 0.4727 - val_accuracy: 0.8569\n",
      "Epoch 28/1000\n",
      "174/175 [============================>.] - ETA: 0s - loss: 0.8925 - accuracy: 0.7038\n",
      "Epoch 28: saving model to model/keypoint_classifier\\keypoint_classifier.hdf5\n",
      "175/175 [==============================] - 1s 4ms/step - loss: 0.8925 - accuracy: 0.7039 - val_loss: 0.4757 - val_accuracy: 0.8569\n",
      "Epoch 29/1000\n",
      "174/175 [============================>.] - ETA: 0s - loss: 0.8830 - accuracy: 0.7084\n",
      "Epoch 29: saving model to model/keypoint_classifier\\keypoint_classifier.hdf5\n",
      "175/175 [==============================] - 1s 8ms/step - loss: 0.8832 - accuracy: 0.7083 - val_loss: 0.4674 - val_accuracy: 0.8613\n",
      "Epoch 30/1000\n",
      "169/175 [===========================>..] - ETA: 0s - loss: 0.8723 - accuracy: 0.7117\n",
      "Epoch 30: saving model to model/keypoint_classifier\\keypoint_classifier.hdf5\n",
      "175/175 [==============================] - 2s 9ms/step - loss: 0.8714 - accuracy: 0.7118 - val_loss: 0.4651 - val_accuracy: 0.8625\n",
      "Epoch 31/1000\n",
      "168/175 [===========================>..] - ETA: 0s - loss: 0.8645 - accuracy: 0.7154\n",
      "Epoch 31: saving model to model/keypoint_classifier\\keypoint_classifier.hdf5\n",
      "175/175 [==============================] - 1s 4ms/step - loss: 0.8663 - accuracy: 0.7149 - val_loss: 0.4553 - val_accuracy: 0.8604\n",
      "Epoch 32/1000\n",
      "170/175 [============================>.] - ETA: 0s - loss: 0.8714 - accuracy: 0.7145\n",
      "Epoch 32: saving model to model/keypoint_classifier\\keypoint_classifier.hdf5\n",
      "175/175 [==============================] - 1s 4ms/step - loss: 0.8710 - accuracy: 0.7148 - val_loss: 0.4628 - val_accuracy: 0.8609\n",
      "Epoch 33/1000\n",
      "156/175 [=========================>....] - ETA: 0s - loss: 0.8714 - accuracy: 0.7107\n",
      "Epoch 33: saving model to model/keypoint_classifier\\keypoint_classifier.hdf5\n",
      "175/175 [==============================] - 1s 4ms/step - loss: 0.8689 - accuracy: 0.7118 - val_loss: 0.4532 - val_accuracy: 0.8632\n",
      "Epoch 34/1000\n",
      "175/175 [==============================] - ETA: 0s - loss: 0.8622 - accuracy: 0.7157\n",
      "Epoch 34: saving model to model/keypoint_classifier\\keypoint_classifier.hdf5\n",
      "175/175 [==============================] - 1s 6ms/step - loss: 0.8622 - accuracy: 0.7157 - val_loss: 0.4549 - val_accuracy: 0.8586\n",
      "Epoch 35/1000\n",
      "168/175 [===========================>..] - ETA: 0s - loss: 0.8497 - accuracy: 0.7175\n",
      "Epoch 35: saving model to model/keypoint_classifier\\keypoint_classifier.hdf5\n",
      "175/175 [==============================] - 1s 6ms/step - loss: 0.8485 - accuracy: 0.7176 - val_loss: 0.4440 - val_accuracy: 0.8651\n",
      "Epoch 36/1000\n",
      "160/175 [==========================>...] - ETA: 0s - loss: 0.8648 - accuracy: 0.7120\n",
      "Epoch 36: saving model to model/keypoint_classifier\\keypoint_classifier.hdf5\n",
      "175/175 [==============================] - 1s 4ms/step - loss: 0.8615 - accuracy: 0.7127 - val_loss: 0.4455 - val_accuracy: 0.8733\n",
      "Epoch 37/1000\n",
      "174/175 [============================>.] - ETA: 0s - loss: 0.8568 - accuracy: 0.7170\n",
      "Epoch 37: saving model to model/keypoint_classifier\\keypoint_classifier.hdf5\n",
      "175/175 [==============================] - 1s 8ms/step - loss: 0.8572 - accuracy: 0.7168 - val_loss: 0.4488 - val_accuracy: 0.8608\n",
      "Epoch 38/1000\n",
      "168/175 [===========================>..] - ETA: 0s - loss: 0.8419 - accuracy: 0.7186\n",
      "Epoch 38: saving model to model/keypoint_classifier\\keypoint_classifier.hdf5\n",
      "175/175 [==============================] - 1s 4ms/step - loss: 0.8424 - accuracy: 0.7188 - val_loss: 0.4433 - val_accuracy: 0.8616\n",
      "Epoch 39/1000\n",
      "165/175 [===========================>..] - ETA: 0s - loss: 0.8526 - accuracy: 0.7184\n",
      "Epoch 39: saving model to model/keypoint_classifier\\keypoint_classifier.hdf5\n",
      "175/175 [==============================] - 1s 5ms/step - loss: 0.8511 - accuracy: 0.7179 - val_loss: 0.4460 - val_accuracy: 0.8720\n",
      "Epoch 40/1000\n",
      "173/175 [============================>.] - ETA: 0s - loss: 0.8410 - accuracy: 0.7188\n",
      "Epoch 40: saving model to model/keypoint_classifier\\keypoint_classifier.hdf5\n",
      "175/175 [==============================] - 1s 5ms/step - loss: 0.8415 - accuracy: 0.7188 - val_loss: 0.4351 - val_accuracy: 0.8651\n",
      "Epoch 41/1000\n",
      "166/175 [===========================>..] - ETA: 0s - loss: 0.8337 - accuracy: 0.7228\n",
      "Epoch 41: saving model to model/keypoint_classifier\\keypoint_classifier.hdf5\n",
      "175/175 [==============================] - 1s 5ms/step - loss: 0.8330 - accuracy: 0.7228 - val_loss: 0.4349 - val_accuracy: 0.8810\n",
      "Epoch 42/1000\n",
      "168/175 [===========================>..] - ETA: 0s - loss: 0.8398 - accuracy: 0.7205\n",
      "Epoch 42: saving model to model/keypoint_classifier\\keypoint_classifier.hdf5\n",
      "175/175 [==============================] - 1s 8ms/step - loss: 0.8415 - accuracy: 0.7197 - val_loss: 0.4334 - val_accuracy: 0.8628\n",
      "Epoch 43/1000\n",
      "171/175 [============================>.] - ETA: 0s - loss: 0.8347 - accuracy: 0.7203\n",
      "Epoch 43: saving model to model/keypoint_classifier\\keypoint_classifier.hdf5\n",
      "175/175 [==============================] - 2s 9ms/step - loss: 0.8338 - accuracy: 0.7204 - val_loss: 0.4289 - val_accuracy: 0.8702\n",
      "Epoch 44/1000\n",
      "156/175 [=========================>....] - ETA: 0s - loss: 0.8504 - accuracy: 0.7177\n",
      "Epoch 44: saving model to model/keypoint_classifier\\keypoint_classifier.hdf5\n",
      "175/175 [==============================] - 1s 8ms/step - loss: 0.8474 - accuracy: 0.7189 - val_loss: 0.4317 - val_accuracy: 0.8736\n",
      "Epoch 45/1000\n",
      "174/175 [============================>.] - ETA: 0s - loss: 0.8339 - accuracy: 0.7229\n",
      "Epoch 45: saving model to model/keypoint_classifier\\keypoint_classifier.hdf5\n",
      "175/175 [==============================] - 1s 8ms/step - loss: 0.8340 - accuracy: 0.7228 - val_loss: 0.4229 - val_accuracy: 0.8791\n",
      "Epoch 46/1000\n",
      "172/175 [============================>.] - ETA: 0s - loss: 0.8118 - accuracy: 0.7273\n",
      "Epoch 46: saving model to model/keypoint_classifier\\keypoint_classifier.hdf5\n",
      "175/175 [==============================] - 1s 7ms/step - loss: 0.8125 - accuracy: 0.7275 - val_loss: 0.4236 - val_accuracy: 0.8741\n",
      "Epoch 47/1000\n",
      "174/175 [============================>.] - ETA: 0s - loss: 0.8169 - accuracy: 0.7259\n",
      "Epoch 47: saving model to model/keypoint_classifier\\keypoint_classifier.hdf5\n",
      "175/175 [==============================] - 1s 8ms/step - loss: 0.8169 - accuracy: 0.7259 - val_loss: 0.4175 - val_accuracy: 0.8630\n",
      "Epoch 48/1000\n",
      "166/175 [===========================>..] - ETA: 0s - loss: 0.8223 - accuracy: 0.7252\n",
      "Epoch 48: saving model to model/keypoint_classifier\\keypoint_classifier.hdf5\n",
      "175/175 [==============================] - 1s 4ms/step - loss: 0.8187 - accuracy: 0.7263 - val_loss: 0.4165 - val_accuracy: 0.8720\n",
      "Epoch 49/1000\n",
      "172/175 [============================>.] - ETA: 0s - loss: 0.8229 - accuracy: 0.7277\n",
      "Epoch 49: saving model to model/keypoint_classifier\\keypoint_classifier.hdf5\n",
      "175/175 [==============================] - 1s 6ms/step - loss: 0.8225 - accuracy: 0.7275 - val_loss: 0.4231 - val_accuracy: 0.8741\n",
      "Epoch 50/1000\n",
      "169/175 [===========================>..] - ETA: 0s - loss: 0.8131 - accuracy: 0.7297\n",
      "Epoch 50: saving model to model/keypoint_classifier\\keypoint_classifier.hdf5\n",
      "175/175 [==============================] - 1s 4ms/step - loss: 0.8162 - accuracy: 0.7285 - val_loss: 0.4181 - val_accuracy: 0.8732\n",
      "Epoch 51/1000\n",
      "171/175 [============================>.] - ETA: 0s - loss: 0.8147 - accuracy: 0.7310\n",
      "Epoch 51: saving model to model/keypoint_classifier\\keypoint_classifier.hdf5\n",
      "175/175 [==============================] - 1s 6ms/step - loss: 0.8142 - accuracy: 0.7311 - val_loss: 0.4132 - val_accuracy: 0.8732\n",
      "Epoch 52/1000\n",
      "168/175 [===========================>..] - ETA: 0s - loss: 0.8125 - accuracy: 0.7303\n",
      "Epoch 52: saving model to model/keypoint_classifier\\keypoint_classifier.hdf5\n",
      "175/175 [==============================] - 1s 7ms/step - loss: 0.8141 - accuracy: 0.7308 - val_loss: 0.4210 - val_accuracy: 0.8625\n",
      "Epoch 53/1000\n",
      "172/175 [============================>.] - ETA: 0s - loss: 0.8060 - accuracy: 0.7316\n",
      "Epoch 53: saving model to model/keypoint_classifier\\keypoint_classifier.hdf5\n",
      "175/175 [==============================] - 2s 9ms/step - loss: 0.8067 - accuracy: 0.7313 - val_loss: 0.4093 - val_accuracy: 0.8747\n",
      "Epoch 54/1000\n",
      "171/175 [============================>.] - ETA: 0s - loss: 0.8056 - accuracy: 0.7317\n",
      "Epoch 54: saving model to model/keypoint_classifier\\keypoint_classifier.hdf5\n",
      "175/175 [==============================] - 1s 7ms/step - loss: 0.8046 - accuracy: 0.7319 - val_loss: 0.4112 - val_accuracy: 0.8755\n",
      "Epoch 55/1000\n",
      "167/175 [===========================>..] - ETA: 0s - loss: 0.8028 - accuracy: 0.7316\n",
      "Epoch 55: saving model to model/keypoint_classifier\\keypoint_classifier.hdf5\n",
      "175/175 [==============================] - 1s 7ms/step - loss: 0.8022 - accuracy: 0.7308 - val_loss: 0.4038 - val_accuracy: 0.8732\n",
      "Epoch 56/1000\n",
      "170/175 [============================>.] - ETA: 0s - loss: 0.8151 - accuracy: 0.7285\n",
      "Epoch 56: saving model to model/keypoint_classifier\\keypoint_classifier.hdf5\n",
      "175/175 [==============================] - 1s 7ms/step - loss: 0.8134 - accuracy: 0.7292 - val_loss: 0.4046 - val_accuracy: 0.8747\n",
      "Epoch 57/1000\n",
      "170/175 [============================>.] - ETA: 0s - loss: 0.8095 - accuracy: 0.7319\n",
      "Epoch 57: saving model to model/keypoint_classifier\\keypoint_classifier.hdf5\n",
      "175/175 [==============================] - 2s 9ms/step - loss: 0.8091 - accuracy: 0.7327 - val_loss: 0.4046 - val_accuracy: 0.8827\n",
      "Epoch 58/1000\n",
      "175/175 [==============================] - ETA: 0s - loss: 0.8046 - accuracy: 0.7307\n",
      "Epoch 58: saving model to model/keypoint_classifier\\keypoint_classifier.hdf5\n",
      "175/175 [==============================] - 1s 8ms/step - loss: 0.8046 - accuracy: 0.7307 - val_loss: 0.4033 - val_accuracy: 0.8811\n",
      "Epoch 59/1000\n",
      "163/175 [==========================>...] - ETA: 0s - loss: 0.8026 - accuracy: 0.7288\n",
      "Epoch 59: saving model to model/keypoint_classifier\\keypoint_classifier.hdf5\n",
      "175/175 [==============================] - 1s 7ms/step - loss: 0.8012 - accuracy: 0.7291 - val_loss: 0.4029 - val_accuracy: 0.8702\n",
      "Epoch 60/1000\n",
      "175/175 [==============================] - ETA: 0s - loss: 0.7974 - accuracy: 0.7350\n",
      "Epoch 60: saving model to model/keypoint_classifier\\keypoint_classifier.hdf5\n",
      "175/175 [==============================] - 2s 9ms/step - loss: 0.7974 - accuracy: 0.7350 - val_loss: 0.3956 - val_accuracy: 0.8764\n",
      "Epoch 61/1000\n",
      "169/175 [===========================>..] - ETA: 0s - loss: 0.8030 - accuracy: 0.7319\n",
      "Epoch 61: saving model to model/keypoint_classifier\\keypoint_classifier.hdf5\n",
      "175/175 [==============================] - 1s 5ms/step - loss: 0.8029 - accuracy: 0.7316 - val_loss: 0.3937 - val_accuracy: 0.8783\n",
      "Epoch 62/1000\n",
      "174/175 [============================>.] - ETA: 0s - loss: 0.8067 - accuracy: 0.7309\n",
      "Epoch 62: saving model to model/keypoint_classifier\\keypoint_classifier.hdf5\n",
      "175/175 [==============================] - 1s 4ms/step - loss: 0.8067 - accuracy: 0.7308 - val_loss: 0.4059 - val_accuracy: 0.8783\n",
      "Epoch 63/1000\n",
      "169/175 [===========================>..] - ETA: 0s - loss: 0.7969 - accuracy: 0.7308\n",
      "Epoch 63: saving model to model/keypoint_classifier\\keypoint_classifier.hdf5\n",
      "175/175 [==============================] - 1s 7ms/step - loss: 0.7978 - accuracy: 0.7303 - val_loss: 0.4034 - val_accuracy: 0.8730\n",
      "Epoch 64/1000\n",
      "171/175 [============================>.] - ETA: 0s - loss: 0.7968 - accuracy: 0.7311\n",
      "Epoch 64: saving model to model/keypoint_classifier\\keypoint_classifier.hdf5\n",
      "175/175 [==============================] - 2s 10ms/step - loss: 0.7957 - accuracy: 0.7318 - val_loss: 0.3965 - val_accuracy: 0.8751\n",
      "Epoch 65/1000\n",
      "173/175 [============================>.] - ETA: 0s - loss: 0.7999 - accuracy: 0.7338\n",
      "Epoch 65: saving model to model/keypoint_classifier\\keypoint_classifier.hdf5\n",
      "175/175 [==============================] - 1s 5ms/step - loss: 0.7996 - accuracy: 0.7338 - val_loss: 0.4064 - val_accuracy: 0.8721\n",
      "Epoch 66/1000\n",
      "174/175 [============================>.] - ETA: 0s - loss: 0.7816 - accuracy: 0.7371\n",
      "Epoch 66: saving model to model/keypoint_classifier\\keypoint_classifier.hdf5\n",
      "175/175 [==============================] - 1s 9ms/step - loss: 0.7816 - accuracy: 0.7371 - val_loss: 0.3969 - val_accuracy: 0.8624\n",
      "Epoch 67/1000\n",
      "171/175 [============================>.] - ETA: 0s - loss: 0.7866 - accuracy: 0.7354\n",
      "Epoch 67: saving model to model/keypoint_classifier\\keypoint_classifier.hdf5\n",
      "175/175 [==============================] - 2s 9ms/step - loss: 0.7868 - accuracy: 0.7354 - val_loss: 0.3945 - val_accuracy: 0.8870\n",
      "Epoch 68/1000\n",
      "174/175 [============================>.] - ETA: 0s - loss: 0.7858 - accuracy: 0.7383\n",
      "Epoch 68: saving model to model/keypoint_classifier\\keypoint_classifier.hdf5\n",
      "175/175 [==============================] - 2s 9ms/step - loss: 0.7858 - accuracy: 0.7382 - val_loss: 0.3955 - val_accuracy: 0.8759\n",
      "Epoch 69/1000\n",
      "173/175 [============================>.] - ETA: 0s - loss: 0.7868 - accuracy: 0.7347\n",
      "Epoch 69: saving model to model/keypoint_classifier\\keypoint_classifier.hdf5\n",
      "175/175 [==============================] - 2s 10ms/step - loss: 0.7871 - accuracy: 0.7347 - val_loss: 0.4016 - val_accuracy: 0.8721\n",
      "Epoch 70/1000\n",
      "169/175 [===========================>..] - ETA: 0s - loss: 0.7931 - accuracy: 0.7348\n",
      "Epoch 70: saving model to model/keypoint_classifier\\keypoint_classifier.hdf5\n",
      "175/175 [==============================] - 1s 7ms/step - loss: 0.7923 - accuracy: 0.7353 - val_loss: 0.3943 - val_accuracy: 0.8792\n",
      "Epoch 71/1000\n",
      "175/175 [==============================] - ETA: 0s - loss: 0.7917 - accuracy: 0.7350\n",
      "Epoch 71: saving model to model/keypoint_classifier\\keypoint_classifier.hdf5\n",
      "175/175 [==============================] - 1s 5ms/step - loss: 0.7917 - accuracy: 0.7350 - val_loss: 0.3946 - val_accuracy: 0.8757\n",
      "Epoch 72/1000\n",
      "173/175 [============================>.] - ETA: 0s - loss: 0.7858 - accuracy: 0.7381\n",
      "Epoch 72: saving model to model/keypoint_classifier\\keypoint_classifier.hdf5\n",
      "175/175 [==============================] - 2s 9ms/step - loss: 0.7854 - accuracy: 0.7385 - val_loss: 0.3907 - val_accuracy: 0.8752\n",
      "Epoch 73/1000\n",
      "175/175 [==============================] - ETA: 0s - loss: 0.7892 - accuracy: 0.7366\n",
      "Epoch 73: saving model to model/keypoint_classifier\\keypoint_classifier.hdf5\n",
      "175/175 [==============================] - 2s 9ms/step - loss: 0.7892 - accuracy: 0.7366 - val_loss: 0.3949 - val_accuracy: 0.8783\n",
      "Epoch 74/1000\n",
      "171/175 [============================>.] - ETA: 0s - loss: 0.7879 - accuracy: 0.7361\n",
      "Epoch 74: saving model to model/keypoint_classifier\\keypoint_classifier.hdf5\n",
      "175/175 [==============================] - 2s 9ms/step - loss: 0.7873 - accuracy: 0.7364 - val_loss: 0.3909 - val_accuracy: 0.8834\n",
      "Epoch 75/1000\n",
      "170/175 [============================>.] - ETA: 0s - loss: 0.7927 - accuracy: 0.7348\n",
      "Epoch 75: saving model to model/keypoint_classifier\\keypoint_classifier.hdf5\n",
      "175/175 [==============================] - 1s 8ms/step - loss: 0.7908 - accuracy: 0.7364 - val_loss: 0.3896 - val_accuracy: 0.8763\n",
      "Epoch 76/1000\n",
      "174/175 [============================>.] - ETA: 0s - loss: 0.7823 - accuracy: 0.7390\n",
      "Epoch 76: saving model to model/keypoint_classifier\\keypoint_classifier.hdf5\n",
      "175/175 [==============================] - 1s 5ms/step - loss: 0.7822 - accuracy: 0.7389 - val_loss: 0.3868 - val_accuracy: 0.8748\n",
      "Epoch 77/1000\n",
      "174/175 [============================>.] - ETA: 0s - loss: 0.7807 - accuracy: 0.7396\n",
      "Epoch 77: saving model to model/keypoint_classifier\\keypoint_classifier.hdf5\n",
      "175/175 [==============================] - 2s 9ms/step - loss: 0.7808 - accuracy: 0.7396 - val_loss: 0.3803 - val_accuracy: 0.8901\n",
      "Epoch 78/1000\n",
      "174/175 [============================>.] - ETA: 0s - loss: 0.7670 - accuracy: 0.7422\n",
      "Epoch 78: saving model to model/keypoint_classifier\\keypoint_classifier.hdf5\n",
      "175/175 [==============================] - 2s 9ms/step - loss: 0.7668 - accuracy: 0.7423 - val_loss: 0.3868 - val_accuracy: 0.8724\n",
      "Epoch 79/1000\n",
      "159/175 [==========================>...] - ETA: 0s - loss: 0.7833 - accuracy: 0.7403\n",
      "Epoch 79: saving model to model/keypoint_classifier\\keypoint_classifier.hdf5\n",
      "175/175 [==============================] - 1s 7ms/step - loss: 0.7821 - accuracy: 0.7413 - val_loss: 0.3871 - val_accuracy: 0.8846\n",
      "Epoch 80/1000\n",
      "175/175 [==============================] - ETA: 0s - loss: 0.7771 - accuracy: 0.7416\n",
      "Epoch 80: saving model to model/keypoint_classifier\\keypoint_classifier.hdf5\n",
      "175/175 [==============================] - 1s 6ms/step - loss: 0.7771 - accuracy: 0.7416 - val_loss: 0.3787 - val_accuracy: 0.8889\n",
      "Epoch 81/1000\n",
      "170/175 [============================>.] - ETA: 0s - loss: 0.7662 - accuracy: 0.7459\n",
      "Epoch 81: saving model to model/keypoint_classifier\\keypoint_classifier.hdf5\n",
      "175/175 [==============================] - 2s 9ms/step - loss: 0.7655 - accuracy: 0.7464 - val_loss: 0.3796 - val_accuracy: 0.8876\n",
      "Epoch 82/1000\n",
      "175/175 [==============================] - ETA: 0s - loss: 0.7818 - accuracy: 0.7390\n",
      "Epoch 82: saving model to model/keypoint_classifier\\keypoint_classifier.hdf5\n",
      "175/175 [==============================] - 2s 9ms/step - loss: 0.7818 - accuracy: 0.7390 - val_loss: 0.3826 - val_accuracy: 0.8736\n",
      "Epoch 83/1000\n",
      "168/175 [===========================>..] - ETA: 0s - loss: 0.7634 - accuracy: 0.7467\n",
      "Epoch 83: saving model to model/keypoint_classifier\\keypoint_classifier.hdf5\n",
      "175/175 [==============================] - 2s 9ms/step - loss: 0.7626 - accuracy: 0.7472 - val_loss: 0.3736 - val_accuracy: 0.8880\n",
      "Epoch 84/1000\n",
      "169/175 [===========================>..] - ETA: 0s - loss: 0.7696 - accuracy: 0.7447\n",
      "Epoch 84: saving model to model/keypoint_classifier\\keypoint_classifier.hdf5\n",
      "175/175 [==============================] - 1s 7ms/step - loss: 0.7692 - accuracy: 0.7443 - val_loss: 0.3816 - val_accuracy: 0.8779\n",
      "Epoch 85/1000\n",
      "171/175 [============================>.] - ETA: 0s - loss: 0.7625 - accuracy: 0.7453\n",
      "Epoch 85: saving model to model/keypoint_classifier\\keypoint_classifier.hdf5\n",
      "175/175 [==============================] - 2s 9ms/step - loss: 0.7637 - accuracy: 0.7447 - val_loss: 0.3770 - val_accuracy: 0.8786\n",
      "Epoch 86/1000\n",
      "173/175 [============================>.] - ETA: 0s - loss: 0.7767 - accuracy: 0.7411\n",
      "Epoch 86: saving model to model/keypoint_classifier\\keypoint_classifier.hdf5\n",
      "175/175 [==============================] - 1s 5ms/step - loss: 0.7769 - accuracy: 0.7411 - val_loss: 0.3764 - val_accuracy: 0.8803\n",
      "Epoch 87/1000\n",
      "172/175 [============================>.] - ETA: 0s - loss: 0.7604 - accuracy: 0.7448\n",
      "Epoch 87: saving model to model/keypoint_classifier\\keypoint_classifier.hdf5\n",
      "175/175 [==============================] - 2s 9ms/step - loss: 0.7602 - accuracy: 0.7450 - val_loss: 0.3722 - val_accuracy: 0.8868\n",
      "Epoch 88/1000\n",
      "174/175 [============================>.] - ETA: 0s - loss: 0.7569 - accuracy: 0.7480\n",
      "Epoch 88: saving model to model/keypoint_classifier\\keypoint_classifier.hdf5\n",
      "175/175 [==============================] - 2s 9ms/step - loss: 0.7569 - accuracy: 0.7480 - val_loss: 0.3745 - val_accuracy: 0.8806\n",
      "Epoch 89/1000\n",
      "171/175 [============================>.] - ETA: 0s - loss: 0.7606 - accuracy: 0.7447\n",
      "Epoch 89: saving model to model/keypoint_classifier\\keypoint_classifier.hdf5\n",
      "175/175 [==============================] - 2s 9ms/step - loss: 0.7594 - accuracy: 0.7450 - val_loss: 0.3715 - val_accuracy: 0.8813\n",
      "Epoch 90/1000\n",
      "166/175 [===========================>..] - ETA: 0s - loss: 0.7617 - accuracy: 0.7533\n",
      "Epoch 90: saving model to model/keypoint_classifier\\keypoint_classifier.hdf5\n",
      "175/175 [==============================] - 1s 6ms/step - loss: 0.7627 - accuracy: 0.7525 - val_loss: 0.3689 - val_accuracy: 0.8814\n",
      "Epoch 91/1000\n",
      "174/175 [============================>.] - ETA: 0s - loss: 0.7668 - accuracy: 0.7454\n",
      "Epoch 91: saving model to model/keypoint_classifier\\keypoint_classifier.hdf5\n",
      "175/175 [==============================] - 2s 10ms/step - loss: 0.7667 - accuracy: 0.7454 - val_loss: 0.3734 - val_accuracy: 0.8799\n",
      "Epoch 92/1000\n",
      "170/175 [============================>.] - ETA: 0s - loss: 0.7646 - accuracy: 0.7442\n",
      "Epoch 92: saving model to model/keypoint_classifier\\keypoint_classifier.hdf5\n",
      "175/175 [==============================] - 2s 9ms/step - loss: 0.7644 - accuracy: 0.7442 - val_loss: 0.3705 - val_accuracy: 0.8822\n",
      "Epoch 93/1000\n",
      "160/175 [==========================>...] - ETA: 0s - loss: 0.7666 - accuracy: 0.7453\n",
      "Epoch 93: saving model to model/keypoint_classifier\\keypoint_classifier.hdf5\n",
      "175/175 [==============================] - 1s 8ms/step - loss: 0.7707 - accuracy: 0.7448 - val_loss: 0.3774 - val_accuracy: 0.8771\n",
      "Epoch 94/1000\n",
      "166/175 [===========================>..] - ETA: 0s - loss: 0.7599 - accuracy: 0.7449\n",
      "Epoch 94: saving model to model/keypoint_classifier\\keypoint_classifier.hdf5\n",
      "175/175 [==============================] - 1s 4ms/step - loss: 0.7607 - accuracy: 0.7443 - val_loss: 0.3706 - val_accuracy: 0.8841\n",
      "Epoch 95/1000\n",
      "163/175 [==========================>...] - ETA: 0s - loss: 0.7600 - accuracy: 0.7479\n",
      "Epoch 95: saving model to model/keypoint_classifier\\keypoint_classifier.hdf5\n",
      "175/175 [==============================] - 1s 4ms/step - loss: 0.7589 - accuracy: 0.7488 - val_loss: 0.3662 - val_accuracy: 0.8880\n",
      "Epoch 96/1000\n",
      "158/175 [==========================>...] - ETA: 0s - loss: 0.7519 - accuracy: 0.7453\n",
      "Epoch 96: saving model to model/keypoint_classifier\\keypoint_classifier.hdf5\n",
      "175/175 [==============================] - 1s 4ms/step - loss: 0.7492 - accuracy: 0.7468 - val_loss: 0.3676 - val_accuracy: 0.8783\n",
      "Epoch 97/1000\n",
      "175/175 [==============================] - ETA: 0s - loss: 0.7580 - accuracy: 0.7460\n",
      "Epoch 97: saving model to model/keypoint_classifier\\keypoint_classifier.hdf5\n",
      "175/175 [==============================] - 1s 6ms/step - loss: 0.7580 - accuracy: 0.7460 - val_loss: 0.3713 - val_accuracy: 0.8861\n",
      "Epoch 98/1000\n",
      "162/175 [==========================>...] - ETA: 0s - loss: 0.7538 - accuracy: 0.7491\n",
      "Epoch 98: saving model to model/keypoint_classifier\\keypoint_classifier.hdf5\n",
      "175/175 [==============================] - 2s 9ms/step - loss: 0.7496 - accuracy: 0.7497 - val_loss: 0.3666 - val_accuracy: 0.8880\n",
      "Epoch 99/1000\n",
      "175/175 [==============================] - ETA: 0s - loss: 0.7642 - accuracy: 0.7446\n",
      "Epoch 99: saving model to model/keypoint_classifier\\keypoint_classifier.hdf5\n",
      "175/175 [==============================] - 1s 8ms/step - loss: 0.7642 - accuracy: 0.7446 - val_loss: 0.3683 - val_accuracy: 0.8900\n",
      "Epoch 100/1000\n",
      "167/175 [===========================>..] - ETA: 0s - loss: 0.7609 - accuracy: 0.7462\n",
      "Epoch 100: saving model to model/keypoint_classifier\\keypoint_classifier.hdf5\n",
      "175/175 [==============================] - 1s 6ms/step - loss: 0.7602 - accuracy: 0.7466 - val_loss: 0.3742 - val_accuracy: 0.8799\n",
      "Epoch 101/1000\n",
      "174/175 [============================>.] - ETA: 0s - loss: 0.7533 - accuracy: 0.7503\n",
      "Epoch 101: saving model to model/keypoint_classifier\\keypoint_classifier.hdf5\n",
      "175/175 [==============================] - 1s 6ms/step - loss: 0.7534 - accuracy: 0.7503 - val_loss: 0.3667 - val_accuracy: 0.8767\n",
      "Epoch 102/1000\n",
      "175/175 [==============================] - ETA: 0s - loss: 0.7591 - accuracy: 0.7474\n",
      "Epoch 102: saving model to model/keypoint_classifier\\keypoint_classifier.hdf5\n",
      "175/175 [==============================] - 1s 8ms/step - loss: 0.7591 - accuracy: 0.7474 - val_loss: 0.3684 - val_accuracy: 0.8807\n",
      "Epoch 103/1000\n",
      "175/175 [==============================] - ETA: 0s - loss: 0.7533 - accuracy: 0.7485\n",
      "Epoch 103: saving model to model/keypoint_classifier\\keypoint_classifier.hdf5\n",
      "175/175 [==============================] - 2s 9ms/step - loss: 0.7533 - accuracy: 0.7485 - val_loss: 0.3696 - val_accuracy: 0.8737\n",
      "Epoch 104/1000\n",
      "169/175 [===========================>..] - ETA: 0s - loss: 0.7599 - accuracy: 0.7489\n",
      "Epoch 104: saving model to model/keypoint_classifier\\keypoint_classifier.hdf5\n",
      "175/175 [==============================] - 1s 4ms/step - loss: 0.7588 - accuracy: 0.7485 - val_loss: 0.3696 - val_accuracy: 0.8897\n",
      "Epoch 105/1000\n",
      "168/175 [===========================>..] - ETA: 0s - loss: 0.7466 - accuracy: 0.7528\n",
      "Epoch 105: saving model to model/keypoint_classifier\\keypoint_classifier.hdf5\n",
      "175/175 [==============================] - 2s 9ms/step - loss: 0.7481 - accuracy: 0.7522 - val_loss: 0.3664 - val_accuracy: 0.8787\n",
      "Epoch 106/1000\n",
      "171/175 [============================>.] - ETA: 0s - loss: 0.7478 - accuracy: 0.7534\n",
      "Epoch 106: saving model to model/keypoint_classifier\\keypoint_classifier.hdf5\n",
      "175/175 [==============================] - 1s 8ms/step - loss: 0.7473 - accuracy: 0.7531 - val_loss: 0.3672 - val_accuracy: 0.8864\n",
      "Epoch 107/1000\n",
      "167/175 [===========================>..] - ETA: 0s - loss: 0.7544 - accuracy: 0.7505\n",
      "Epoch 107: saving model to model/keypoint_classifier\\keypoint_classifier.hdf5\n",
      "175/175 [==============================] - 1s 6ms/step - loss: 0.7530 - accuracy: 0.7504 - val_loss: 0.3638 - val_accuracy: 0.8821\n",
      "Epoch 108/1000\n",
      "175/175 [==============================] - ETA: 0s - loss: 0.7479 - accuracy: 0.7527\n",
      "Epoch 108: saving model to model/keypoint_classifier\\keypoint_classifier.hdf5\n",
      "175/175 [==============================] - 1s 7ms/step - loss: 0.7479 - accuracy: 0.7527 - val_loss: 0.3667 - val_accuracy: 0.8787\n",
      "Epoch 109/1000\n",
      "173/175 [============================>.] - ETA: 0s - loss: 0.7424 - accuracy: 0.7555\n",
      "Epoch 109: saving model to model/keypoint_classifier\\keypoint_classifier.hdf5\n",
      "175/175 [==============================] - 2s 9ms/step - loss: 0.7421 - accuracy: 0.7556 - val_loss: 0.3598 - val_accuracy: 0.8873\n",
      "Epoch 110/1000\n",
      "163/175 [==========================>...] - ETA: 0s - loss: 0.7538 - accuracy: 0.7490\n",
      "Epoch 110: saving model to model/keypoint_classifier\\keypoint_classifier.hdf5\n",
      "175/175 [==============================] - 1s 7ms/step - loss: 0.7523 - accuracy: 0.7493 - val_loss: 0.3605 - val_accuracy: 0.8885\n",
      "Epoch 111/1000\n",
      "171/175 [============================>.] - ETA: 0s - loss: 0.7436 - accuracy: 0.7522\n",
      "Epoch 111: saving model to model/keypoint_classifier\\keypoint_classifier.hdf5\n",
      "175/175 [==============================] - 1s 8ms/step - loss: 0.7441 - accuracy: 0.7519 - val_loss: 0.3632 - val_accuracy: 0.8915\n",
      "Epoch 112/1000\n",
      "172/175 [============================>.] - ETA: 0s - loss: 0.7442 - accuracy: 0.7551\n",
      "Epoch 112: saving model to model/keypoint_classifier\\keypoint_classifier.hdf5\n",
      "175/175 [==============================] - 1s 8ms/step - loss: 0.7435 - accuracy: 0.7552 - val_loss: 0.3673 - val_accuracy: 0.8787\n",
      "Epoch 113/1000\n",
      "170/175 [============================>.] - ETA: 0s - loss: 0.7488 - accuracy: 0.7492\n",
      "Epoch 113: saving model to model/keypoint_classifier\\keypoint_classifier.hdf5\n",
      "175/175 [==============================] - 1s 5ms/step - loss: 0.7483 - accuracy: 0.7499 - val_loss: 0.3651 - val_accuracy: 0.8830\n",
      "Epoch 114/1000\n",
      "174/175 [============================>.] - ETA: 0s - loss: 0.7434 - accuracy: 0.7511\n",
      "Epoch 114: saving model to model/keypoint_classifier\\keypoint_classifier.hdf5\n",
      "175/175 [==============================] - 1s 8ms/step - loss: 0.7435 - accuracy: 0.7511 - val_loss: 0.3541 - val_accuracy: 0.8951\n",
      "Epoch 115/1000\n",
      "170/175 [============================>.] - ETA: 0s - loss: 0.7362 - accuracy: 0.7554\n",
      "Epoch 115: saving model to model/keypoint_classifier\\keypoint_classifier.hdf5\n",
      "175/175 [==============================] - 1s 6ms/step - loss: 0.7364 - accuracy: 0.7553 - val_loss: 0.3621 - val_accuracy: 0.8838\n",
      "Epoch 116/1000\n",
      "170/175 [============================>.] - ETA: 0s - loss: 0.7411 - accuracy: 0.7532\n",
      "Epoch 116: saving model to model/keypoint_classifier\\keypoint_classifier.hdf5\n",
      "175/175 [==============================] - 1s 7ms/step - loss: 0.7404 - accuracy: 0.7531 - val_loss: 0.3579 - val_accuracy: 0.8928\n",
      "Epoch 117/1000\n",
      "162/175 [==========================>...] - ETA: 0s - loss: 0.7456 - accuracy: 0.7527\n",
      "Epoch 117: saving model to model/keypoint_classifier\\keypoint_classifier.hdf5\n",
      "175/175 [==============================] - 1s 7ms/step - loss: 0.7434 - accuracy: 0.7530 - val_loss: 0.3532 - val_accuracy: 0.8900\n",
      "Epoch 118/1000\n",
      "171/175 [============================>.] - ETA: 0s - loss: 0.7417 - accuracy: 0.7533\n",
      "Epoch 118: saving model to model/keypoint_classifier\\keypoint_classifier.hdf5\n",
      "175/175 [==============================] - 2s 9ms/step - loss: 0.7412 - accuracy: 0.7531 - val_loss: 0.3580 - val_accuracy: 0.8895\n",
      "Epoch 119/1000\n",
      "172/175 [============================>.] - ETA: 0s - loss: 0.7281 - accuracy: 0.7563\n",
      "Epoch 119: saving model to model/keypoint_classifier\\keypoint_classifier.hdf5\n",
      "175/175 [==============================] - 1s 8ms/step - loss: 0.7268 - accuracy: 0.7568 - val_loss: 0.3582 - val_accuracy: 0.8911\n",
      "Epoch 120/1000\n",
      "170/175 [============================>.] - ETA: 0s - loss: 0.7364 - accuracy: 0.7534\n",
      "Epoch 120: saving model to model/keypoint_classifier\\keypoint_classifier.hdf5\n",
      "175/175 [==============================] - 1s 7ms/step - loss: 0.7362 - accuracy: 0.7532 - val_loss: 0.3596 - val_accuracy: 0.8767\n",
      "Epoch 121/1000\n",
      "158/175 [==========================>...] - ETA: 0s - loss: 0.7450 - accuracy: 0.7477\n",
      "Epoch 121: saving model to model/keypoint_classifier\\keypoint_classifier.hdf5\n",
      "175/175 [==============================] - 1s 4ms/step - loss: 0.7449 - accuracy: 0.7491 - val_loss: 0.3597 - val_accuracy: 0.8870\n",
      "Epoch 122/1000\n",
      "173/175 [============================>.] - ETA: 0s - loss: 0.7423 - accuracy: 0.7530\n",
      "Epoch 122: saving model to model/keypoint_classifier\\keypoint_classifier.hdf5\n",
      "175/175 [==============================] - 1s 5ms/step - loss: 0.7424 - accuracy: 0.7528 - val_loss: 0.3633 - val_accuracy: 0.8887\n",
      "Epoch 123/1000\n",
      "162/175 [==========================>...] - ETA: 0s - loss: 0.7424 - accuracy: 0.7516\n",
      "Epoch 123: saving model to model/keypoint_classifier\\keypoint_classifier.hdf5\n",
      "175/175 [==============================] - 1s 4ms/step - loss: 0.7430 - accuracy: 0.7510 - val_loss: 0.3603 - val_accuracy: 0.8866\n",
      "Epoch 124/1000\n",
      "172/175 [============================>.] - ETA: 0s - loss: 0.7370 - accuracy: 0.7519\n",
      "Epoch 124: saving model to model/keypoint_classifier\\keypoint_classifier.hdf5\n",
      "175/175 [==============================] - 1s 4ms/step - loss: 0.7371 - accuracy: 0.7516 - val_loss: 0.3669 - val_accuracy: 0.8747\n",
      "Epoch 125/1000\n",
      "161/175 [==========================>...] - ETA: 0s - loss: 0.7366 - accuracy: 0.7563\n",
      "Epoch 125: saving model to model/keypoint_classifier\\keypoint_classifier.hdf5\n",
      "175/175 [==============================] - 1s 4ms/step - loss: 0.7354 - accuracy: 0.7562 - val_loss: 0.3616 - val_accuracy: 0.8833\n",
      "Epoch 126/1000\n",
      "160/175 [==========================>...] - ETA: 0s - loss: 0.7293 - accuracy: 0.7576\n",
      "Epoch 126: saving model to model/keypoint_classifier\\keypoint_classifier.hdf5\n",
      "175/175 [==============================] - 1s 5ms/step - loss: 0.7271 - accuracy: 0.7576 - val_loss: 0.3636 - val_accuracy: 0.8790\n",
      "Epoch 127/1000\n",
      "170/175 [============================>.] - ETA: 0s - loss: 0.7390 - accuracy: 0.7542\n",
      "Epoch 127: saving model to model/keypoint_classifier\\keypoint_classifier.hdf5\n",
      "175/175 [==============================] - 1s 7ms/step - loss: 0.7392 - accuracy: 0.7545 - val_loss: 0.3557 - val_accuracy: 0.8837\n",
      "Epoch 128/1000\n",
      "164/175 [===========================>..] - ETA: 0s - loss: 0.7322 - accuracy: 0.7568\n",
      "Epoch 128: saving model to model/keypoint_classifier\\keypoint_classifier.hdf5\n",
      "175/175 [==============================] - 1s 8ms/step - loss: 0.7354 - accuracy: 0.7566 - val_loss: 0.3642 - val_accuracy: 0.8838\n",
      "Epoch 129/1000\n",
      "171/175 [============================>.] - ETA: 0s - loss: 0.7232 - accuracy: 0.7569\n",
      "Epoch 129: saving model to model/keypoint_classifier\\keypoint_classifier.hdf5\n",
      "175/175 [==============================] - 1s 8ms/step - loss: 0.7229 - accuracy: 0.7567 - val_loss: 0.3460 - val_accuracy: 0.8873\n",
      "Epoch 130/1000\n",
      "168/175 [===========================>..] - ETA: 0s - loss: 0.7372 - accuracy: 0.7557\n",
      "Epoch 130: saving model to model/keypoint_classifier\\keypoint_classifier.hdf5\n",
      "175/175 [==============================] - 2s 9ms/step - loss: 0.7362 - accuracy: 0.7554 - val_loss: 0.3607 - val_accuracy: 0.8814\n",
      "Epoch 131/1000\n",
      "166/175 [===========================>..] - ETA: 0s - loss: 0.7344 - accuracy: 0.7578\n",
      "Epoch 131: saving model to model/keypoint_classifier\\keypoint_classifier.hdf5\n",
      "175/175 [==============================] - 1s 6ms/step - loss: 0.7370 - accuracy: 0.7567 - val_loss: 0.3642 - val_accuracy: 0.8778\n",
      "Epoch 132/1000\n",
      "174/175 [============================>.] - ETA: 0s - loss: 0.7273 - accuracy: 0.7581\n",
      "Epoch 132: saving model to model/keypoint_classifier\\keypoint_classifier.hdf5\n",
      "175/175 [==============================] - 1s 7ms/step - loss: 0.7278 - accuracy: 0.7580 - val_loss: 0.3577 - val_accuracy: 0.8751\n",
      "Epoch 133/1000\n",
      "162/175 [==========================>...] - ETA: 0s - loss: 0.7168 - accuracy: 0.7621\n",
      "Epoch 133: saving model to model/keypoint_classifier\\keypoint_classifier.hdf5\n",
      "175/175 [==============================] - 1s 6ms/step - loss: 0.7174 - accuracy: 0.7617 - val_loss: 0.3608 - val_accuracy: 0.8822\n",
      "Epoch 134/1000\n",
      "169/175 [===========================>..] - ETA: 0s - loss: 0.7218 - accuracy: 0.7583\n",
      "Epoch 134: saving model to model/keypoint_classifier\\keypoint_classifier.hdf5\n",
      "175/175 [==============================] - 1s 4ms/step - loss: 0.7220 - accuracy: 0.7586 - val_loss: 0.3646 - val_accuracy: 0.8764\n",
      "Epoch 135/1000\n",
      "173/175 [============================>.] - ETA: 0s - loss: 0.7305 - accuracy: 0.7575\n",
      "Epoch 135: saving model to model/keypoint_classifier\\keypoint_classifier.hdf5\n",
      "175/175 [==============================] - 1s 7ms/step - loss: 0.7294 - accuracy: 0.7577 - val_loss: 0.3528 - val_accuracy: 0.8845\n",
      "Epoch 136/1000\n",
      "172/175 [============================>.] - ETA: 0s - loss: 0.7249 - accuracy: 0.7614\n",
      "Epoch 136: saving model to model/keypoint_classifier\\keypoint_classifier.hdf5\n",
      "175/175 [==============================] - 1s 4ms/step - loss: 0.7261 - accuracy: 0.7610 - val_loss: 0.3692 - val_accuracy: 0.8756\n",
      "Epoch 137/1000\n",
      "162/175 [==========================>...] - ETA: 0s - loss: 0.7319 - accuracy: 0.7597\n",
      "Epoch 137: saving model to model/keypoint_classifier\\keypoint_classifier.hdf5\n",
      "175/175 [==============================] - 1s 5ms/step - loss: 0.7287 - accuracy: 0.7616 - val_loss: 0.3513 - val_accuracy: 0.8876\n",
      "Epoch 138/1000\n",
      "171/175 [============================>.] - ETA: 0s - loss: 0.7247 - accuracy: 0.7611\n",
      "Epoch 138: saving model to model/keypoint_classifier\\keypoint_classifier.hdf5\n",
      "175/175 [==============================] - 1s 7ms/step - loss: 0.7244 - accuracy: 0.7610 - val_loss: 0.3506 - val_accuracy: 0.8815\n",
      "Epoch 139/1000\n",
      "174/175 [============================>.] - ETA: 0s - loss: 0.7211 - accuracy: 0.7644\n",
      "Epoch 139: saving model to model/keypoint_classifier\\keypoint_classifier.hdf5\n",
      "175/175 [==============================] - 1s 8ms/step - loss: 0.7213 - accuracy: 0.7643 - val_loss: 0.3521 - val_accuracy: 0.8806\n",
      "Epoch 140/1000\n",
      "174/175 [============================>.] - ETA: 0s - loss: 0.7203 - accuracy: 0.7620\n",
      "Epoch 140: saving model to model/keypoint_classifier\\keypoint_classifier.hdf5\n",
      "175/175 [==============================] - 1s 8ms/step - loss: 0.7200 - accuracy: 0.7622 - val_loss: 0.3552 - val_accuracy: 0.8787\n",
      "Epoch 141/1000\n",
      "171/175 [============================>.] - ETA: 0s - loss: 0.7341 - accuracy: 0.7547\n",
      "Epoch 141: saving model to model/keypoint_classifier\\keypoint_classifier.hdf5\n",
      "175/175 [==============================] - 1s 9ms/step - loss: 0.7332 - accuracy: 0.7548 - val_loss: 0.3477 - val_accuracy: 0.8860\n",
      "Epoch 142/1000\n",
      "162/175 [==========================>...] - ETA: 0s - loss: 0.7194 - accuracy: 0.7638\n",
      "Epoch 142: saving model to model/keypoint_classifier\\keypoint_classifier.hdf5\n",
      "175/175 [==============================] - 1s 5ms/step - loss: 0.7166 - accuracy: 0.7649 - val_loss: 0.3561 - val_accuracy: 0.8815\n",
      "Epoch 143/1000\n",
      "162/175 [==========================>...] - ETA: 0s - loss: 0.7223 - accuracy: 0.7604\n",
      "Epoch 143: saving model to model/keypoint_classifier\\keypoint_classifier.hdf5\n",
      "175/175 [==============================] - 1s 5ms/step - loss: 0.7213 - accuracy: 0.7608 - val_loss: 0.3524 - val_accuracy: 0.8827\n",
      "Epoch 144/1000\n",
      "166/175 [===========================>..] - ETA: 0s - loss: 0.7198 - accuracy: 0.7628\n",
      "Epoch 144: saving model to model/keypoint_classifier\\keypoint_classifier.hdf5\n",
      "175/175 [==============================] - 1s 7ms/step - loss: 0.7231 - accuracy: 0.7617 - val_loss: 0.3555 - val_accuracy: 0.8656\n",
      "Epoch 145/1000\n",
      "166/175 [===========================>..] - ETA: 0s - loss: 0.7196 - accuracy: 0.7626\n",
      "Epoch 145: saving model to model/keypoint_classifier\\keypoint_classifier.hdf5\n",
      "175/175 [==============================] - 1s 4ms/step - loss: 0.7203 - accuracy: 0.7625 - val_loss: 0.3492 - val_accuracy: 0.8864\n",
      "Epoch 146/1000\n",
      "170/175 [============================>.] - ETA: 0s - loss: 0.7135 - accuracy: 0.7640\n",
      "Epoch 146: saving model to model/keypoint_classifier\\keypoint_classifier.hdf5\n",
      "175/175 [==============================] - 1s 7ms/step - loss: 0.7127 - accuracy: 0.7641 - val_loss: 0.3473 - val_accuracy: 0.8905\n",
      "Epoch 147/1000\n",
      "166/175 [===========================>..] - ETA: 0s - loss: 0.7114 - accuracy: 0.7620\n",
      "Epoch 147: saving model to model/keypoint_classifier\\keypoint_classifier.hdf5\n",
      "175/175 [==============================] - 1s 4ms/step - loss: 0.7110 - accuracy: 0.7619 - val_loss: 0.3493 - val_accuracy: 0.8841\n",
      "Epoch 148/1000\n",
      "173/175 [============================>.] - ETA: 0s - loss: 0.7100 - accuracy: 0.7610\n",
      "Epoch 148: saving model to model/keypoint_classifier\\keypoint_classifier.hdf5\n",
      "175/175 [==============================] - 2s 9ms/step - loss: 0.7107 - accuracy: 0.7609 - val_loss: 0.3502 - val_accuracy: 0.8817\n",
      "Epoch 149/1000\n",
      "169/175 [===========================>..] - ETA: 0s - loss: 0.7057 - accuracy: 0.7659\n",
      "Epoch 149: saving model to model/keypoint_classifier\\keypoint_classifier.hdf5\n",
      "175/175 [==============================] - 1s 5ms/step - loss: 0.7064 - accuracy: 0.7645 - val_loss: 0.3503 - val_accuracy: 0.8772\n",
      "Epoch 149: early stopping\n"
     ]
    },
    {
     "data": {
      "text/plain": "<keras.src.callbacks.History at 0x20b8cee3700>"
     },
     "execution_count": 11,
     "metadata": {},
     "output_type": "execute_result"
    }
   ]
  },
  {
   "cell_type": "code",
   "metadata": {
    "id": "pxvb2Y299hE3",
    "colab": {
     "base_uri": "https://localhost:8080/"
    },
    "outputId": "59eb3185-2e37-4b9e-bc9d-ab1b8ac29b7f"
   },
   "source": [
    "# Model evaluation\n",
    "val_loss, val_acc = model.evaluate(X_test, y_test, batch_size=128)"
   ],
   "execution_count": 12,
   "outputs": [
    {
     "name": "stdout",
     "output_type": "stream",
     "text": [
      "59/59 [==============================] - 0s 3ms/step - loss: 0.3503 - accuracy: 0.8772\n"
     ]
    }
   ]
  },
  {
   "cell_type": "code",
   "metadata": {
    "id": "RBkmDeUW9hE4"
   },
   "source": [
    "# Loading the saved model\n",
    "model = tf.keras.models.load_model(model_save_path)"
   ],
   "execution_count": 13,
   "outputs": []
  },
  {
   "cell_type": "code",
   "metadata": {
    "id": "tFz9Tb0I9hE4",
    "colab": {
     "base_uri": "https://localhost:8080/"
    },
    "outputId": "1c3b3528-54ae-4ee2-ab04-77429211cbef"
   },
   "source": [
    "# Inference test\n",
    "predict_result = model.predict(np.array([X_test[0]]))\n",
    "print(np.squeeze(predict_result))\n",
    "print(np.argmax(np.squeeze(predict_result)))"
   ],
   "execution_count": 14,
   "outputs": [
    {
     "name": "stdout",
     "output_type": "stream",
     "text": [
      "1/1 [==============================] - 0s 140ms/step\n",
      "[5.04587909e-08 4.21059509e-13 9.85140681e-01 7.14880764e-04\n",
      " 3.70387179e-13 1.21073863e-04 2.89165931e-15 8.95901542e-36\n",
      " 9.98720191e-25 1.97887672e-19 0.00000000e+00 6.17786766e-10\n",
      " 1.00971282e-12 1.51625969e-11 1.40231326e-02 2.97962378e-26\n",
      " 2.32586856e-26 0.00000000e+00 8.60850426e-14 2.09431505e-07\n",
      " 0.00000000e+00 0.00000000e+00 1.58322875e-24 1.16730009e-19\n",
      " 7.24340997e-13 1.08666470e-37]\n",
      "2\n"
     ]
    }
   ]
  },
  {
   "cell_type": "markdown",
   "metadata": {
    "id": "S3U4yNWx9hE4"
   },
   "source": [
    "# Confusion matrix"
   ]
  },
  {
   "cell_type": "code",
   "metadata": {
    "id": "AP1V6SCk9hE5",
    "colab": {
     "base_uri": "https://localhost:8080/",
     "height": 582
    },
    "outputId": "08e41a80-7a4a-4619-8125-ecc371368d19"
   },
   "source": [
    "import pandas as pd\n",
    "import seaborn as sns\n",
    "import matplotlib.pyplot as plt\n",
    "from sklearn.metrics import confusion_matrix, classification_report\n",
    "\n",
    "def print_confusion_matrix(y_true, y_pred, report=True):\n",
    "    labels = sorted(list(set(y_true)))\n",
    "    cmx_data = confusion_matrix(y_true, y_pred, labels=labels)\n",
    "    \n",
    "    df_cmx = pd.DataFrame(cmx_data, index=labels, columns=labels)\n",
    " \n",
    "    fig, ax = plt.subplots(figsize=(7, 6))\n",
    "    sns.heatmap(df_cmx, annot=True, fmt='g' ,square=False)\n",
    "    ax.set_ylim(len(set(y_true)), 0)\n",
    "    plt.show()\n",
    "    \n",
    "    if report:\n",
    "        print('Classification Report')\n",
    "        print(classification_report(y_test, y_pred))\n",
    "\n",
    "Y_pred = model.predict(X_test)\n",
    "y_pred = np.argmax(Y_pred, axis=1)\n",
    "\n",
    "print_confusion_matrix(y_test, y_pred)"
   ],
   "execution_count": 15,
   "outputs": [
    {
     "name": "stdout",
     "output_type": "stream",
     "text": [
      "233/233 [==============================] - 1s 4ms/step\n"
     ]
    },
    {
     "data": {
      "text/plain": "<Figure size 700x600 with 2 Axes>",
      "image/png": "[encoded data removed]"
     },
     "metadata": {},
     "output_type": "display_data"
    },
    {
     "name": "stdout",
     "output_type": "stream",
     "text": [
      "Classification Report\n",
      "              precision    recall  f1-score   support\n",
      "\n",
      "           0       0.82      1.00      0.90       694\n",
      "           1       0.93      1.00      0.96       736\n",
      "           2       0.96      0.97      0.96       780\n",
      "           3       0.93      0.99      0.96       760\n",
      "           4       0.85      0.99      0.91       768\n",
      "           5       0.99      0.96      0.97       786\n",
      "           6       0.99      0.99      0.99       780\n",
      "           7       0.98      0.99      0.99       123\n",
      "           8       0.93      0.86      0.89       134\n",
      "           9       0.92      0.94      0.93       126\n",
      "          10       1.00      0.03      0.07       148\n",
      "          11       0.99      1.00      1.00       110\n",
      "          12       0.69      0.83      0.75        70\n",
      "          13       0.74      0.55      0.63        56\n",
      "          14       0.91      0.65      0.76       140\n",
      "          15       0.93      0.65      0.76       152\n",
      "          16       0.68      0.94      0.79       122\n",
      "          17       0.93      0.65      0.76       140\n",
      "          18       0.00      0.00      0.00       139\n",
      "          19       1.00      0.07      0.13       118\n",
      "          20       0.29      0.52      0.37       153\n",
      "          21       0.40      0.60      0.48       134\n",
      "          22       1.00      0.61      0.75       137\n",
      "          23       1.00      0.67      0.80       122\n",
      "\n",
      "    accuracy                           0.88      7428\n",
      "   macro avg       0.83      0.73      0.73      7428\n",
      "weighted avg       0.88      0.88      0.86      7428\n",
      "\n"
     ]
    },
    {
     "name": "stderr",
     "output_type": "stream",
     "text": [
      "C:\\gesture_recognition_by_image\\venv\\lib\\site-packages\\sklearn\\metrics\\_classification.py:1471: UndefinedMetricWarning: Precision and F-score are ill-defined and being set to 0.0 in labels with no predicted samples. Use `zero_division` parameter to control this behavior.\n",
      "  _warn_prf(average, modifier, msg_start, len(result))\n",
      "C:\\gesture_recognition_by_image\\venv\\lib\\site-packages\\sklearn\\metrics\\_classification.py:1471: UndefinedMetricWarning: Precision and F-score are ill-defined and being set to 0.0 in labels with no predicted samples. Use `zero_division` parameter to control this behavior.\n",
      "  _warn_prf(average, modifier, msg_start, len(result))\n",
      "C:\\gesture_recognition_by_image\\venv\\lib\\site-packages\\sklearn\\metrics\\_classification.py:1471: UndefinedMetricWarning: Precision and F-score are ill-defined and being set to 0.0 in labels with no predicted samples. Use `zero_division` parameter to control this behavior.\n",
      "  _warn_prf(average, modifier, msg_start, len(result))\n"
     ]
    }
   ]
  },
  {
   "cell_type": "markdown",
   "metadata": {
    "id": "FNP6aqzc9hE5"
   },
   "source": [
    "# Convert to model for Tensorflow-Lite"
   ]
  },
  {
   "cell_type": "code",
   "metadata": {
    "id": "ODjnYyld9hE6"
   },
   "source": [
    "# Save as a model dedicated to inference\n",
    "model.save(model_save_path, include_optimizer=False)"
   ],
   "execution_count": 16,
   "outputs": [
    {
     "name": "stderr",
     "output_type": "stream",
     "text": [
      "C:\\gesture_recognition_by_image\\venv\\lib\\site-packages\\keras\\src\\engine\\training.py:3103: UserWarning: You are saving your model as an HDF5 file via `model.save()`. This file format is considered legacy. We recommend using instead the native Keras format, e.g. `model.save('my_model.keras')`.\n",
      "  saving_api.save_model(\n"
     ]
    }
   ]
  },
  {
   "cell_type": "code",
   "metadata": {
    "id": "zRfuK8Y59hE6",
    "colab": {
     "base_uri": "https://localhost:8080/"
    },
    "outputId": "a4ca585c-b5d5-4244-8291-8674063209bb"
   },
   "source": [
    "# Transform model (quantization)\n",
    "\n",
    "converter = tf.lite.TFLiteConverter.from_keras_model(model)\n",
    "converter.optimizations = [tf.lite.Optimize.DEFAULT]\n",
    "tflite_quantized_model = converter.convert()\n",
    "\n",
    "open(tflite_save_path, 'wb').write(tflite_quantized_model)"
   ],
   "execution_count": 17,
   "outputs": [
    {
     "name": "stdout",
     "output_type": "stream",
     "text": [
      "INFO:tensorflow:Assets written to: C:\\Users\\joren\\AppData\\Local\\Temp\\tmp8w2yw5_6\\assets\n"
     ]
    },
    {
     "name": "stderr",
     "output_type": "stream",
     "text": [
      "INFO:tensorflow:Assets written to: C:\\Users\\joren\\AppData\\Local\\Temp\\tmp8w2yw5_6\\assets\n"
     ]
    },
    {
     "data": {
      "text/plain": "7512"
     },
     "execution_count": 17,
     "metadata": {},
     "output_type": "execute_result"
    }
   ]
  },
  {
   "cell_type": "markdown",
   "metadata": {
    "id": "CHBPBXdx9hE6"
   },
   "source": [
    "# Inference test"
   ]
  },
  {
   "cell_type": "code",
   "metadata": {
    "id": "mGAzLocO9hE7"
   },
   "source": [
    "interpreter = tf.lite.Interpreter(model_path=tflite_save_path)\n",
    "interpreter.allocate_tensors()"
   ],
   "execution_count": 18,
   "outputs": []
  },
  {
   "cell_type": "code",
   "metadata": {
    "id": "oQuDK8YS9hE7"
   },
   "source": [
    "# Get I / O tensor\n",
    "input_details = interpreter.get_input_details()\n",
    "output_details = interpreter.get_output_details()"
   ],
   "execution_count": 19,
   "outputs": []
  },
  {
   "cell_type": "code",
   "metadata": {
    "id": "2_ixAf_l9hE7"
   },
   "source": [
    "interpreter.set_tensor(input_details[0]['index'], np.array([X_test[0]]))"
   ],
   "execution_count": 20,
   "outputs": []
  },
  {
   "cell_type": "code",
   "metadata": {
    "scrolled": true,
    "id": "s4FoAnuc9hE7",
    "colab": {
     "base_uri": "https://localhost:8080/"
    },
    "outputId": "91f18257-8d8b-4ef3-c558-e9b5f94fabbf"
   },
   "source": [
    "%%time\n",
    "# Inference implementation\n",
    "interpreter.invoke()\n",
    "tflite_results = interpreter.get_tensor(output_details[0]['index'])"
   ],
   "execution_count": 21,
   "outputs": [
    {
     "name": "stdout",
     "output_type": "stream",
     "text": [
      "CPU times: total: 0 ns\n",
      "Wall time: 0 ns\n"
     ]
    }
   ]
  },
  {
   "cell_type": "code",
   "metadata": {
    "id": "vONjp19J9hE8",
    "colab": {
     "base_uri": "https://localhost:8080/"
    },
    "outputId": "77205e24-fd00-42c4-f7b6-e06e527c2cba"
   },
   "source": [
    "print(np.squeeze(tflite_results))\n",
    "print(np.argmax(np.squeeze(tflite_results)))"
   ],
   "execution_count": 22,
   "outputs": [
    {
     "name": "stdout",
     "output_type": "stream",
     "text": [
      "[5.0458500e-08 4.2105710e-13 9.8514068e-01 7.1488210e-04 3.7038360e-13\n",
      " 1.2107364e-04 2.8916371e-15 8.9588769e-36 9.9870491e-25 1.9788538e-19\n",
      " 0.0000000e+00 6.1778316e-10 1.0097032e-12 1.5162479e-11 1.4023119e-02\n",
      " 2.9795890e-26 2.3258504e-26 0.0000000e+00 8.6084379e-14 2.0943050e-07\n",
      " 0.0000000e+00 0.0000000e+00 1.5832043e-24 1.1672910e-19 7.2433682e-13\n",
      " 1.0866479e-37]\n",
      "2\n"
     ]
    }
   ]
  },
  {
   "cell_type": "code",
   "execution_count": null,
   "outputs": [],
   "source": [],
   "metadata": {
    "collapsed": false
   }
  }
 ]
}
