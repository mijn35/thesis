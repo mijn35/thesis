{
 "cells": [
  {
   "cell_type": "code",
   "execution_count": 58,
   "outputs": [],
   "source": [
    "import csv\n",
    "\n",
    "import numpy as np\n",
    "import os\n",
    "import tensorflow as tf\n",
    "from tensorflow import keras\n",
    "from sklearn.model_selection import train_test_split\n",
    "import matplotlib.pyplot as plt\n",
    "\n",
    "RANDOM_SEED = 42"
   ],
   "metadata": {
    "collapsed": false
   }
  },
  {
   "cell_type": "markdown",
   "source": [
    "# Specify each path"
   ],
   "metadata": {
    "collapsed": false
   }
  },
  {
   "cell_type": "code",
   "execution_count": 59,
   "outputs": [],
   "source": [
    "dataset_testGood = 'camera_data_test/hand_landmarks_goodTest.csv'\n",
    "dataset_testDark = 'camera_data_test/hand_landmarks_darkTest.csv'\n",
    "dataset_hand_after_sign= 'camera_data_test/hand_landmarks_hand_behind_hand.csv'\n",
    "model_save_path = 'camera_classifier.keras'\n",
    "tflite_save_path = 'camera_classifier.tflite'"
   ],
   "metadata": {
    "collapsed": false
   }
  },
  {
   "cell_type": "markdown",
   "source": [
    "# Set number of classes"
   ],
   "metadata": {
    "collapsed": false
   }
  },
  {
   "cell_type": "code",
   "execution_count": 60,
   "outputs": [],
   "source": [
    "NUM_CLASSES = 26"
   ],
   "metadata": {
    "collapsed": false
   }
  },
  {
   "cell_type": "markdown",
   "source": [
    "# Dataset reading"
   ],
   "metadata": {
    "collapsed": false
   }
  },
  {
   "cell_type": "code",
   "execution_count": 61,
   "outputs": [],
   "source": [
    "# Directory containing CSV files\n",
    "directory = 'camera_data'\n",
    "\n",
    "# Initialize an empty list to store data from all files\n",
    "data = []\n",
    "\n",
    "# Loop through each file in the directory\n",
    "for filename in os.listdir(directory):\n",
    "    if filename.endswith(\".csv\"):\n",
    "        file_path = os.path.join(directory, filename)\n",
    "        # Load data from each file and append to the list\n",
    "        data.append(np.loadtxt(file_path, delimiter=',', dtype='float32', usecols=list(range(1, (21 * 2) + 1))))\n",
    "\n",
    "# Concatenate data from all files along the first axis\n",
    "X_dataset = np.concatenate(data, axis=0)\n",
    "X_testGood = np.loadtxt(dataset_testGood, delimiter=',', dtype='float32', usecols=list(range(1, (21 * 2) + 1)))\n",
    "X_testDark = np.loadtxt(dataset_testDark, delimiter=',', dtype='float32', usecols=list(range(1, (21 * 2) + 1)))\n",
    "X_test_hand_behind = np.loadtxt(dataset_hand_after_sign, delimiter=',', dtype='float32', usecols=list(range(1, (21 * 2) + 1)))"
   ],
   "metadata": {
    "collapsed": false
   }
  },
  {
   "cell_type": "code",
   "execution_count": 62,
   "outputs": [],
   "source": [
    "# Directory containing CSV files\n",
    "directory = 'camera_data'\n",
    "\n",
    "# Initialize an empty list to store data from all files\n",
    "data = []\n",
    "\n",
    "# Loop through each file in the directory\n",
    "for filename in os.listdir(directory):\n",
    "    if filename.endswith(\".csv\"):\n",
    "        file_path = os.path.join(directory, filename)\n",
    "        # Load data from each file and append to the list\n",
    "        data.append(np.loadtxt(file_path, delimiter=',', dtype='float32', usecols=(0)))\n",
    "\n",
    "# Concatenate data from all files along the first axis\n",
    "y_dataset = np.concatenate(data, axis=0)\n",
    "y_testGood = np.loadtxt(dataset_testGood, delimiter=',', dtype='int32', usecols=(0))\n",
    "y_testDark = np.loadtxt(dataset_testDark, delimiter=',', dtype='int32', usecols=(0))\n",
    "y_test_hand_behind = np.loadtxt(dataset_hand_after_sign, delimiter=',', dtype='float32', usecols=(0))"
   ],
   "metadata": {
    "collapsed": false
   }
  },
  {
   "cell_type": "code",
   "execution_count": 63,
   "outputs": [
    {
     "name": "stdout",
     "output_type": "stream",
     "text": [
      "X_dataset shape: (26399, 42)\n",
      "y_dataset shape: (26399,)\n",
      "----------------------------------\n",
      "X_test_dataset_good shape: (2400, 42)\n",
      "y_test_dataset_good shape: (2400,)\n",
      "----------------------------------\n",
      "X_test_dataset_dark shape: (2400, 42)\n",
      "y_test_dataset_dark shape: (2400,)\n"
     ]
    }
   ],
   "source": [
    "print(\"X_dataset shape: \" + X_dataset.shape.__str__())\n",
    "print(\"y_dataset shape: \" + y_dataset.shape.__str__())\n",
    "print(\"----------------------------------\")\n",
    "print(\"X_test_dataset_good shape: \" + X_testGood.shape.__str__())\n",
    "print(\"y_test_dataset_good shape: \" + y_testGood.shape.__str__())\n",
    "print(\"----------------------------------\")\n",
    "print(\"X_test_dataset_dark shape: \" + X_testDark.shape.__str__())\n",
    "print(\"y_test_dataset_dark shape: \" + y_testDark.shape.__str__())\n"
   ],
   "metadata": {
    "collapsed": false
   }
  },
  {
   "cell_type": "code",
   "execution_count": 64,
   "outputs": [],
   "source": [
    "X_train, X_validation, y_train, y_validation = train_test_split(X_dataset, y_dataset, train_size=0.70, random_state=RANDOM_SEED)"
   ],
   "metadata": {
    "collapsed": false
   }
  },
  {
   "cell_type": "code",
   "execution_count": 65,
   "outputs": [
    {
     "name": "stdout",
     "output_type": "stream",
     "text": [
      "[[ 0.          0.          0.13946587 ... -0.6706231  -0.3620178\n",
      "  -0.79821956]\n",
      " [ 0.          0.         -0.26041666 ... -0.6197917  -0.47916666\n",
      "  -0.49739584]\n",
      " [ 0.          0.          0.2993197  ... -0.585034    0.30612245\n",
      "  -0.4727891 ]\n",
      " ...\n",
      " [ 0.          0.          0.21645021 ... -0.47619048 -0.08658009\n",
      "  -0.4025974 ]\n",
      " [ 0.          0.         -0.1891892  ... -0.5243243  -0.42162162\n",
      "  -0.45945945]\n",
      " [ 0.          0.          0.129771   ... -0.37150127 -0.09160306\n",
      "  -0.30025446]]\n"
     ]
    }
   ],
   "source": [
    "print(X_train)"
   ],
   "metadata": {
    "collapsed": false
   }
  },
  {
   "cell_type": "markdown",
   "source": [
    "# Model building"
   ],
   "metadata": {
    "collapsed": false
   }
  },
  {
   "cell_type": "code",
   "execution_count": 66,
   "outputs": [],
   "source": [
    "model = tf.keras.models.Sequential([\n",
    "    tf.keras.layers.Reshape((21, 2, 1), input_shape=(21 * 2, )),\n",
    "    tf.keras.layers.Conv2D(32, kernel_size=(3, 1), activation='relu', padding='same'),\n",
    "    tf.keras.layers.MaxPooling2D(pool_size=(2, 1)),\n",
    "    tf.keras.layers.Conv2D(64, kernel_size=(3, 1), activation='relu', padding='same'),\n",
    "    tf.keras.layers.MaxPooling2D(pool_size=(2, 1)),\n",
    "    tf.keras.layers.Conv2D(128, kernel_size=(3, 1), activation='relu', padding='same'),\n",
    "    tf.keras.layers.MaxPooling2D(pool_size=(2, 1)),\n",
    "    tf.keras.layers.Flatten(),\n",
    "    tf.keras.layers.Dropout(0.2),\n",
    "    tf.keras.layers.Dense(256, activation='relu'),\n",
    "    tf.keras.layers.Dropout(0.4),\n",
    "    tf.keras.layers.Dense(128, activation='relu'),\n",
    "    tf.keras.layers.Dense(NUM_CLASSES, activation='softmax')\n",
    "])"
   ],
   "metadata": {
    "collapsed": false
   }
  },
  {
   "cell_type": "code",
   "execution_count": 67,
   "outputs": [
    {
     "name": "stdout",
     "output_type": "stream",
     "text": [
      "Model: \"sequential_3\"\n",
      "_________________________________________________________________\n",
      " Layer (type)                Output Shape              Param #   \n",
      "=================================================================\n",
      " reshape_3 (Reshape)         (None, 21, 2, 1)          0         \n",
      "                                                                 \n",
      " conv2d_9 (Conv2D)           (None, 21, 2, 32)         128       \n",
      "                                                                 \n",
      " max_pooling2d_9 (MaxPoolin  (None, 10, 2, 32)         0         \n",
      " g2D)                                                            \n",
      "                                                                 \n",
      " conv2d_10 (Conv2D)          (None, 10, 2, 64)         6208      \n",
      "                                                                 \n",
      " max_pooling2d_10 (MaxPooli  (None, 5, 2, 64)          0         \n",
      " ng2D)                                                           \n",
      "                                                                 \n",
      " conv2d_11 (Conv2D)          (None, 5, 2, 128)         24704     \n",
      "                                                                 \n",
      " max_pooling2d_11 (MaxPooli  (None, 2, 2, 128)         0         \n",
      " ng2D)                                                           \n",
      "                                                                 \n",
      " flatten_3 (Flatten)         (None, 512)               0         \n",
      "                                                                 \n",
      " dropout_6 (Dropout)         (None, 512)               0         \n",
      "                                                                 \n",
      " dense_9 (Dense)             (None, 256)               131328    \n",
      "                                                                 \n",
      " dropout_7 (Dropout)         (None, 256)               0         \n",
      "                                                                 \n",
      " dense_10 (Dense)            (None, 128)               32896     \n",
      "                                                                 \n",
      " dense_11 (Dense)            (None, 26)                3354      \n",
      "                                                                 \n",
      "=================================================================\n",
      "Total params: 198618 (775.85 KB)\n",
      "Trainable params: 198618 (775.85 KB)\n",
      "Non-trainable params: 0 (0.00 Byte)\n",
      "_________________________________________________________________\n"
     ]
    }
   ],
   "source": [
    "model.summary()  # tf.keras.utils.plot_model(model, show_shapes=True)"
   ],
   "metadata": {
    "collapsed": false
   }
  },
  {
   "cell_type": "code",
   "execution_count": 68,
   "outputs": [],
   "source": [
    "# Model checkpoint callback\n",
    "cp_callback = tf.keras.callbacks.ModelCheckpoint(\n",
    "    model_save_path, verbose=1, save_weights_only=False)\n",
    "# Callback for early stopping\n",
    "es_callback = tf.keras.callbacks.EarlyStopping(patience=5, verbose=1)"
   ],
   "metadata": {
    "collapsed": false
   }
  },
  {
   "cell_type": "code",
   "execution_count": 69,
   "outputs": [],
   "source": [
    "# Model compilation\n",
    "model.compile(\n",
    "    optimizer='adam',\n",
    "    loss='sparse_categorical_crossentropy',\n",
    "    metrics=['accuracy']\n",
    ")"
   ],
   "metadata": {
    "collapsed": false
   }
  },
  {
   "cell_type": "markdown",
   "source": [
    "# Model training"
   ],
   "metadata": {
    "collapsed": false
   }
  },
  {
   "cell_type": "code",
   "execution_count": 70,
   "outputs": [
    {
     "name": "stdout",
     "output_type": "stream",
     "text": [
      "Epoch 1/1000\n",
      "145/145 [==============================] - ETA: 0s - loss: 1.8386 - accuracy: 0.4234\n",
      "Epoch 1: saving model to camera_classifier.keras\n",
      "145/145 [==============================] - 3s 13ms/step - loss: 1.8386 - accuracy: 0.4234 - val_loss: 0.5896 - val_accuracy: 0.8278\n",
      "Epoch 2/1000\n",
      "144/145 [============================>.] - ETA: 0s - loss: 0.5484 - accuracy: 0.8171\n",
      "Epoch 2: saving model to camera_classifier.keras\n",
      "145/145 [==============================] - 2s 12ms/step - loss: 0.5478 - accuracy: 0.8172 - val_loss: 0.3058 - val_accuracy: 0.9042\n",
      "Epoch 3/1000\n",
      "142/145 [============================>.] - ETA: 0s - loss: 0.3350 - accuracy: 0.8873\n",
      "Epoch 3: saving model to camera_classifier.keras\n",
      "145/145 [==============================] - 2s 12ms/step - loss: 0.3329 - accuracy: 0.8879 - val_loss: 0.1667 - val_accuracy: 0.9468\n",
      "Epoch 4/1000\n",
      "143/145 [============================>.] - ETA: 0s - loss: 0.2334 - accuracy: 0.9206\n",
      "Epoch 4: saving model to camera_classifier.keras\n",
      "145/145 [==============================] - 2s 12ms/step - loss: 0.2328 - accuracy: 0.9207 - val_loss: 0.1220 - val_accuracy: 0.9663\n",
      "Epoch 5/1000\n",
      "145/145 [==============================] - ETA: 0s - loss: 0.1630 - accuracy: 0.9453\n",
      "Epoch 5: saving model to camera_classifier.keras\n",
      "145/145 [==============================] - 2s 12ms/step - loss: 0.1630 - accuracy: 0.9453 - val_loss: 0.0864 - val_accuracy: 0.9754\n",
      "Epoch 6/1000\n",
      "145/145 [==============================] - ETA: 0s - loss: 0.1294 - accuracy: 0.9578\n",
      "Epoch 6: saving model to camera_classifier.keras\n",
      "145/145 [==============================] - 2s 12ms/step - loss: 0.1294 - accuracy: 0.9578 - val_loss: 0.0592 - val_accuracy: 0.9826\n",
      "Epoch 7/1000\n",
      "142/145 [============================>.] - ETA: 0s - loss: 0.1068 - accuracy: 0.9640\n",
      "Epoch 7: saving model to camera_classifier.keras\n",
      "145/145 [==============================] - 2s 11ms/step - loss: 0.1066 - accuracy: 0.9642 - val_loss: 0.0534 - val_accuracy: 0.9870\n",
      "Epoch 8/1000\n",
      "144/145 [============================>.] - ETA: 0s - loss: 0.0818 - accuracy: 0.9742\n",
      "Epoch 8: saving model to camera_classifier.keras\n",
      "145/145 [==============================] - 2s 12ms/step - loss: 0.0822 - accuracy: 0.9742 - val_loss: 0.0376 - val_accuracy: 0.9908\n",
      "Epoch 9/1000\n",
      "143/145 [============================>.] - ETA: 0s - loss: 0.0677 - accuracy: 0.9796\n",
      "Epoch 9: saving model to camera_classifier.keras\n",
      "145/145 [==============================] - 2s 11ms/step - loss: 0.0685 - accuracy: 0.9792 - val_loss: 0.0349 - val_accuracy: 0.9902\n",
      "Epoch 10/1000\n",
      "141/145 [============================>.] - ETA: 0s - loss: 0.0577 - accuracy: 0.9814\n",
      "Epoch 10: saving model to camera_classifier.keras\n",
      "145/145 [==============================] - 2s 11ms/step - loss: 0.0572 - accuracy: 0.9815 - val_loss: 0.0268 - val_accuracy: 0.9939\n",
      "Epoch 11/1000\n",
      "142/145 [============================>.] - ETA: 0s - loss: 0.0533 - accuracy: 0.9838\n",
      "Epoch 11: saving model to camera_classifier.keras\n",
      "145/145 [==============================] - 2s 12ms/step - loss: 0.0533 - accuracy: 0.9838 - val_loss: 0.0243 - val_accuracy: 0.9938\n",
      "Epoch 12/1000\n",
      "144/145 [============================>.] - ETA: 0s - loss: 0.0457 - accuracy: 0.9844\n",
      "Epoch 12: saving model to camera_classifier.keras\n",
      "145/145 [==============================] - 2s 12ms/step - loss: 0.0457 - accuracy: 0.9844 - val_loss: 0.0219 - val_accuracy: 0.9963\n",
      "Epoch 13/1000\n",
      "145/145 [==============================] - ETA: 0s - loss: 0.0395 - accuracy: 0.9875\n",
      "Epoch 13: saving model to camera_classifier.keras\n",
      "145/145 [==============================] - 2s 11ms/step - loss: 0.0395 - accuracy: 0.9875 - val_loss: 0.0199 - val_accuracy: 0.9958\n",
      "Epoch 14/1000\n",
      "143/145 [============================>.] - ETA: 0s - loss: 0.0336 - accuracy: 0.9902\n",
      "Epoch 14: saving model to camera_classifier.keras\n",
      "145/145 [==============================] - 2s 12ms/step - loss: 0.0336 - accuracy: 0.9902 - val_loss: 0.0171 - val_accuracy: 0.9955\n",
      "Epoch 15/1000\n",
      "144/145 [============================>.] - ETA: 0s - loss: 0.0353 - accuracy: 0.9892\n",
      "Epoch 15: saving model to camera_classifier.keras\n",
      "145/145 [==============================] - 2s 12ms/step - loss: 0.0356 - accuracy: 0.9892 - val_loss: 0.0145 - val_accuracy: 0.9967\n",
      "Epoch 16/1000\n",
      "140/145 [===========================>..] - ETA: 0s - loss: 0.0313 - accuracy: 0.9901\n",
      "Epoch 16: saving model to camera_classifier.keras\n",
      "145/145 [==============================] - 2s 12ms/step - loss: 0.0314 - accuracy: 0.9899 - val_loss: 0.0166 - val_accuracy: 0.9961\n",
      "Epoch 17/1000\n",
      "144/145 [============================>.] - ETA: 0s - loss: 0.0322 - accuracy: 0.9905\n",
      "Epoch 17: saving model to camera_classifier.keras\n",
      "145/145 [==============================] - 2s 12ms/step - loss: 0.0321 - accuracy: 0.9905 - val_loss: 0.0126 - val_accuracy: 0.9979\n",
      "Epoch 18/1000\n",
      "145/145 [==============================] - ETA: 0s - loss: 0.0291 - accuracy: 0.9911\n",
      "Epoch 18: saving model to camera_classifier.keras\n",
      "145/145 [==============================] - 2s 12ms/step - loss: 0.0291 - accuracy: 0.9911 - val_loss: 0.0222 - val_accuracy: 0.9944\n",
      "Epoch 19/1000\n",
      "142/145 [============================>.] - ETA: 0s - loss: 0.0242 - accuracy: 0.9926\n",
      "Epoch 19: saving model to camera_classifier.keras\n",
      "145/145 [==============================] - 2s 12ms/step - loss: 0.0243 - accuracy: 0.9926 - val_loss: 0.0153 - val_accuracy: 0.9961\n",
      "Epoch 20/1000\n",
      "144/145 [============================>.] - ETA: 0s - loss: 0.0271 - accuracy: 0.9909\n",
      "Epoch 20: saving model to camera_classifier.keras\n",
      "145/145 [==============================] - 2s 12ms/step - loss: 0.0270 - accuracy: 0.9909 - val_loss: 0.0249 - val_accuracy: 0.9939\n",
      "Epoch 21/1000\n",
      "144/145 [============================>.] - ETA: 0s - loss: 0.0218 - accuracy: 0.9936\n",
      "Epoch 21: saving model to camera_classifier.keras\n",
      "145/145 [==============================] - 2s 12ms/step - loss: 0.0218 - accuracy: 0.9936 - val_loss: 0.0104 - val_accuracy: 0.9976\n",
      "Epoch 22/1000\n",
      "143/145 [============================>.] - ETA: 0s - loss: 0.0181 - accuracy: 0.9949\n",
      "Epoch 22: saving model to camera_classifier.keras\n",
      "145/145 [==============================] - 2s 12ms/step - loss: 0.0180 - accuracy: 0.9950 - val_loss: 0.0091 - val_accuracy: 0.9984\n",
      "Epoch 23/1000\n",
      "145/145 [==============================] - ETA: 0s - loss: 0.0166 - accuracy: 0.9945\n",
      "Epoch 23: saving model to camera_classifier.keras\n",
      "145/145 [==============================] - 2s 12ms/step - loss: 0.0166 - accuracy: 0.9945 - val_loss: 0.0106 - val_accuracy: 0.9979\n",
      "Epoch 24/1000\n",
      "144/145 [============================>.] - ETA: 0s - loss: 0.0250 - accuracy: 0.9919\n",
      "Epoch 24: saving model to camera_classifier.keras\n",
      "145/145 [==============================] - 2s 12ms/step - loss: 0.0249 - accuracy: 0.9919 - val_loss: 0.0109 - val_accuracy: 0.9975\n",
      "Epoch 25/1000\n",
      "145/145 [==============================] - ETA: 0s - loss: 0.0151 - accuracy: 0.9962\n",
      "Epoch 25: saving model to camera_classifier.keras\n",
      "145/145 [==============================] - 2s 12ms/step - loss: 0.0151 - accuracy: 0.9962 - val_loss: 0.0086 - val_accuracy: 0.9981\n",
      "Epoch 26/1000\n",
      "143/145 [============================>.] - ETA: 0s - loss: 0.0183 - accuracy: 0.9953\n",
      "Epoch 26: saving model to camera_classifier.keras\n",
      "145/145 [==============================] - 2s 12ms/step - loss: 0.0182 - accuracy: 0.9953 - val_loss: 0.0108 - val_accuracy: 0.9977\n",
      "Epoch 27/1000\n",
      "142/145 [============================>.] - ETA: 0s - loss: 0.0190 - accuracy: 0.9930\n",
      "Epoch 27: saving model to camera_classifier.keras\n",
      "145/145 [==============================] - 2s 13ms/step - loss: 0.0190 - accuracy: 0.9930 - val_loss: 0.0126 - val_accuracy: 0.9971\n",
      "Epoch 28/1000\n",
      "143/145 [============================>.] - ETA: 0s - loss: 0.0217 - accuracy: 0.9938\n",
      "Epoch 28: saving model to camera_classifier.keras\n",
      "145/145 [==============================] - 2s 12ms/step - loss: 0.0216 - accuracy: 0.9938 - val_loss: 0.0186 - val_accuracy: 0.9949\n",
      "Epoch 29/1000\n",
      "144/145 [============================>.] - ETA: 0s - loss: 0.0235 - accuracy: 0.9923\n",
      "Epoch 29: saving model to camera_classifier.keras\n",
      "145/145 [==============================] - 2s 12ms/step - loss: 0.0234 - accuracy: 0.9923 - val_loss: 0.0154 - val_accuracy: 0.9972\n",
      "Epoch 30/1000\n",
      "143/145 [============================>.] - ETA: 0s - loss: 0.0170 - accuracy: 0.9953\n",
      "Epoch 30: saving model to camera_classifier.keras\n",
      "145/145 [==============================] - 2s 12ms/step - loss: 0.0169 - accuracy: 0.9952 - val_loss: 0.0101 - val_accuracy: 0.9982\n",
      "Epoch 30: early stopping\n"
     ]
    }
   ],
   "source": [
    "history = model.fit(\n",
    "    X_train,\n",
    "    y_train,\n",
    "    epochs=1000,\n",
    "    batch_size=128,\n",
    "    validation_data=(X_validation, y_validation),\n",
    "    callbacks=[cp_callback, es_callback]\n",
    ")"
   ],
   "metadata": {
    "collapsed": false
   }
  },
  {
   "cell_type": "code",
   "execution_count": 71,
   "outputs": [
    {
     "name": "stdout",
     "output_type": "stream",
     "text": [
      "19/19 [==============================] - 0s 4ms/step - loss: 0.2307 - accuracy: 0.9262\n"
     ]
    }
   ],
   "source": [
    "# Model evaluation\n",
    "val_loss, val_acc = model.evaluate(X_testGood, y_testGood, batch_size=128)"
   ],
   "metadata": {
    "collapsed": false
   }
  },
  {
   "cell_type": "code",
   "execution_count": 72,
   "outputs": [
    {
     "name": "stdout",
     "output_type": "stream",
     "text": [
      "19/19 [==============================] - 0s 4ms/step - loss: 0.6761 - accuracy: 0.8750\n"
     ]
    }
   ],
   "source": [
    "# Model evaluation\n",
    "val_loss, val_acc = model.evaluate(X_testDark, y_testDark, batch_size=128)"
   ],
   "metadata": {
    "collapsed": false
   }
  },
  {
   "cell_type": "code",
   "execution_count": 73,
   "outputs": [
    {
     "name": "stdout",
     "output_type": "stream",
     "text": [
      "19/19 [==============================] - 0s 4ms/step - loss: 4.9972 - accuracy: 0.6454\n"
     ]
    }
   ],
   "source": [
    "val_loss, val_acc = model.evaluate(X_test_hand_behind, y_test_hand_behind, batch_size=128)"
   ],
   "metadata": {
    "collapsed": false
   }
  },
  {
   "cell_type": "code",
   "execution_count": 74,
   "outputs": [],
   "source": [
    "# Loading the saved model\n",
    "model = tf.keras.models.load_model(model_save_path)"
   ],
   "metadata": {
    "collapsed": false
   }
  },
  {
   "cell_type": "code",
   "execution_count": 75,
   "outputs": [
    {
     "name": "stdout",
     "output_type": "stream",
     "text": [
      "1/1 [==============================] - 0s 87ms/step\n",
      "[1.0000000e+00 0.0000000e+00 1.7183875e-29 5.2512651e-25 5.6419908e-36\n",
      " 0.0000000e+00 3.7893881e-27 2.2652452e-25 7.6871820e-31 1.2484657e-32\n",
      " 3.5586079e-26 4.2244492e-20 1.6086726e-25 5.3961549e-18 2.9903546e-27\n",
      " 1.2603086e-17 1.4868099e-16 0.0000000e+00 1.1088544e-33 4.8942754e-15\n",
      " 8.2056127e-34 1.2851318e-32 6.2305895e-24 4.4288994e-16 6.1970877e-19\n",
      " 1.1472922e-32]\n",
      "0\n"
     ]
    }
   ],
   "source": [
    "# Inference test\n",
    "predict_result = model.predict(np.array([X_testGood[0]]))\n",
    "print(np.squeeze(predict_result))\n",
    "print(np.argmax(np.squeeze(predict_result)))"
   ],
   "metadata": {
    "collapsed": false
   }
  },
  {
   "cell_type": "markdown",
   "source": [
    "# Confusion matrix"
   ],
   "metadata": {
    "collapsed": false
   }
  },
  {
   "cell_type": "code",
   "execution_count": 76,
   "outputs": [
    {
     "name": "stdout",
     "output_type": "stream",
     "text": [
      "75/75 [==============================] - 0s 3ms/step\n"
     ]
    },
    {
     "data": {
      "text/plain": "<Figure size 700x600 with 2 Axes>",
      "image/png": "[encoded data removed]"
     },
     "metadata": {},
     "output_type": "display_data"
    },
    {
     "name": "stdout",
     "output_type": "stream",
     "text": [
      "Classification Report\n",
      "              precision    recall  f1-score   support\n",
      "\n",
      "           0       1.00      1.00      1.00       100\n",
      "           1       1.00      1.00      1.00       100\n",
      "           2       1.00      1.00      1.00       100\n",
      "           3       1.00      1.00      1.00       100\n",
      "           4       1.00      1.00      1.00       100\n",
      "           5       1.00      1.00      1.00       100\n",
      "           6       1.00      1.00      1.00       100\n",
      "           7       0.52      0.54      0.53       100\n",
      "           8       1.00      1.00      1.00       100\n",
      "          10       1.00      1.00      1.00       100\n",
      "          11       0.69      1.00      0.82       100\n",
      "          12       1.00      1.00      1.00       100\n",
      "          13       1.00      1.00      1.00       100\n",
      "          14       1.00      1.00      1.00       100\n",
      "          15       1.00      0.51      0.68       100\n",
      "          16       1.00      1.00      1.00       100\n",
      "          17       0.60      0.68      0.64       100\n",
      "          18       1.00      1.00      1.00       100\n",
      "          19       1.00      1.00      1.00       100\n",
      "          20       0.61      0.50      0.55       100\n",
      "          21       1.00      1.00      1.00       100\n",
      "          22       1.00      1.00      1.00       100\n",
      "          23       0.95      1.00      0.98       100\n",
      "          24       1.00      1.00      1.00       100\n",
      "\n",
      "    accuracy                           0.93      2400\n",
      "   macro avg       0.93      0.93      0.92      2400\n",
      "weighted avg       0.93      0.93      0.92      2400\n",
      "\n"
     ]
    }
   ],
   "source": [
    "import pandas as pd\n",
    "import seaborn as sns\n",
    "import matplotlib.pyplot as plt\n",
    "from sklearn.metrics import confusion_matrix, classification_report\n",
    "\n",
    "def print_confusion_matrix(y_true, y_pred, report=True):\n",
    "    labels = sorted(list(set(y_true)))\n",
    "    cmx_data = confusion_matrix(y_true, y_pred, labels=labels)\n",
    "\n",
    "    df_cmx = pd.DataFrame(cmx_data, index=labels, columns=labels)\n",
    "\n",
    "    fig, ax = plt.subplots(figsize=(7, 6))\n",
    "    sns.heatmap(df_cmx, annot=True, fmt='g' ,square=False)\n",
    "    ax.set_ylim(len(set(y_true)), 0)\n",
    "    plt.show()\n",
    "\n",
    "    if report:\n",
    "        print('Classification Report')\n",
    "        print(classification_report(y_testGood, y_pred))\n",
    "\n",
    "Y_pred = model.predict(X_testGood)\n",
    "y_pred = np.argmax(Y_pred, axis=1)\n",
    "\n",
    "print_confusion_matrix(y_testGood, y_pred)"
   ],
   "metadata": {
    "collapsed": false
   }
  },
  {
   "cell_type": "markdown",
   "source": [
    "# Convert to model for Tensorflow-Lite"
   ],
   "metadata": {
    "collapsed": false
   }
  },
  {
   "cell_type": "code",
   "execution_count": 77,
   "outputs": [
    {
     "name": "stdout",
     "output_type": "stream",
     "text": [
      "INFO:tensorflow:Assets written to: testkeras\\assets\n"
     ]
    },
    {
     "name": "stderr",
     "output_type": "stream",
     "text": [
      "INFO:tensorflow:Assets written to: testkeras\\assets\n"
     ]
    }
   ],
   "source": [
    "tf.saved_model.save(model, \"testkeras\")"
   ],
   "metadata": {
    "collapsed": false
   }
  },
  {
   "cell_type": "code",
   "execution_count": 78,
   "outputs": [
    {
     "name": "stdout",
     "output_type": "stream",
     "text": [
      "INFO:tensorflow:Assets written to: C:\\Users\\joren\\AppData\\Local\\Temp\\tmp_2373rye\\assets\n"
     ]
    },
    {
     "name": "stderr",
     "output_type": "stream",
     "text": [
      "INFO:tensorflow:Assets written to: C:\\Users\\joren\\AppData\\Local\\Temp\\tmp_2373rye\\assets\n"
     ]
    }
   ],
   "source": [
    "# Transform model (quantization)\n",
    "\n",
    "converter = tf.lite.TFLiteConverter.from_keras_model(model)\n",
    "#converter.optimizations = [tf.lite.Optimize.DEFAULT]\n",
    "tflite_quantized_model = converter.convert()\n",
    "\n",
    "with open(tflite_save_path, 'wb') as f:\n",
    "    f.write(tflite_quantized_model)"
   ],
   "metadata": {
    "collapsed": false
   }
  },
  {
   "cell_type": "markdown",
   "source": [
    "# Inference test"
   ],
   "metadata": {
    "collapsed": false
   }
  },
  {
   "cell_type": "code",
   "execution_count": 79,
   "outputs": [],
   "source": [
    "interpreter = tf.lite.Interpreter(model_path=tflite_save_path)\n",
    "interpreter.allocate_tensors()"
   ],
   "metadata": {
    "collapsed": false
   }
  },
  {
   "cell_type": "code",
   "execution_count": 80,
   "outputs": [],
   "source": [
    "# Get I / O tensor\n",
    "input_details = interpreter.get_input_details()\n",
    "output_details = interpreter.get_output_details()"
   ],
   "metadata": {
    "collapsed": false
   }
  },
  {
   "cell_type": "code",
   "execution_count": 81,
   "outputs": [],
   "source": [
    "interpreter.set_tensor(input_details[0]['index'], np.array([X_testGood[0]]))"
   ],
   "metadata": {
    "collapsed": false
   }
  },
  {
   "cell_type": "code",
   "execution_count": 82,
   "outputs": [
    {
     "name": "stdout",
     "output_type": "stream",
     "text": [
      "CPU times: total: 0 ns\n",
      "Wall time: 934 µs\n"
     ]
    }
   ],
   "source": [
    "%%time\n",
    "# Inference implementation\n",
    "interpreter.invoke()\n",
    "tflite_results = interpreter.get_tensor(output_details[0]['index'])"
   ],
   "metadata": {
    "collapsed": false
   }
  },
  {
   "cell_type": "code",
   "execution_count": 83,
   "outputs": [
    {
     "name": "stdout",
     "output_type": "stream",
     "text": [
      "[1.0000000e+00 2.5223372e-44 1.7184132e-29 5.2513046e-25 5.6420759e-36\n",
      " 2.8025969e-45 3.7894313e-27 2.2652624e-25 7.6872981e-31 1.2484845e-32\n",
      " 3.5586480e-26 4.2245128e-20 1.6086969e-25 5.3962157e-18 2.9903997e-27\n",
      " 1.2603277e-17 1.4868266e-16 3.7345865e-40 1.1088710e-33 4.8943309e-15\n",
      " 8.2057358e-34 1.2851511e-32 6.2306601e-24 4.4289328e-16 6.1971818e-19\n",
      " 1.1473095e-32]\n",
      "0\n"
     ]
    }
   ],
   "source": [
    "print(np.squeeze(tflite_results))\n",
    "print(np.argmax(np.squeeze(tflite_results)))"
   ],
   "metadata": {
    "collapsed": false
   }
  },
  {
   "cell_type": "code",
   "execution_count": 84,
   "outputs": [
    {
     "data": {
      "text/plain": "<Figure size 1200x600 with 2 Axes>",
      "image/png": "[encoded data removed]"
     },
     "metadata": {},
     "output_type": "display_data"
    }
   ],
   "source": [
    "plt.figure(figsize=(12, 6))\n",
    "\n",
    "# Plot training & validation loss values\n",
    "plt.subplot(2, 1, 1)\n",
    "plt.plot(history.history['loss'])\n",
    "plt.plot(history.history['val_loss'])\n",
    "plt.title('Model loss')\n",
    "plt.xlabel('Epoch')\n",
    "plt.ylabel('Loss')\n",
    "plt.legend(['Train', 'Validation'], loc='upper left')\n",
    "\n",
    "# Plot training & validation accuracy and F1 score values\n",
    "plt.subplot(2, 1, 2)\n",
    "plt.plot(history.history['accuracy'])\n",
    "plt.plot(history.history['val_accuracy'])\n",
    "plt.title('Model metrics')\n",
    "plt.xlabel('Epoch')\n",
    "plt.ylabel('Metric Value')\n",
    "plt.legend(['Train Accuracy', 'Validation Accuracy', 'F1 Score'], loc='upper left')\n",
    "\n",
    "plt.tight_layout()\n",
    "plt.show()"
   ],
   "metadata": {
    "collapsed": false
   }
  }
 ],
 "metadata": {
  "kernelspec": {
   "display_name": "Python 3",
   "language": "python",
   "name": "python3"
  },
  "language_info": {
   "codemirror_mode": {
    "name": "ipython",
    "version": 2
   },
   "file_extension": ".py",
   "mimetype": "text/x-python",
   "name": "python",
   "nbconvert_exporter": "python",
   "pygments_lexer": "ipython2",
   "version": "2.7.6"
  }
 },
 "nbformat": 4,
 "nbformat_minor": 0
}
