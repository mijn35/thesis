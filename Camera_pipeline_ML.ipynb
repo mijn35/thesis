{
 "cells": [
  {
   "cell_type": "code",
   "execution_count": 85,
   "outputs": [],
   "source": [
    "import csv\n",
    "\n",
    "import numpy as np\n",
    "import os\n",
    "import tensorflow as tf\n",
    "from tensorflow import keras\n",
    "from sklearn.model_selection import train_test_split\n",
    "import matplotlib.pyplot as plt\n",
    "\n",
    "RANDOM_SEED = 42"
   ],
   "metadata": {
    "collapsed": false
   }
  },
  {
   "cell_type": "markdown",
   "source": [
    "# Specify each path"
   ],
   "metadata": {
    "collapsed": false
   }
  },
  {
   "cell_type": "code",
   "execution_count": 86,
   "outputs": [],
   "source": [
    "dataset_testGood = 'camera_data_test/hand_landmarks_goodTest.csv'\n",
    "dataset_testDark = 'camera_data_test/hand_landmarks_darkTest.csv'\n",
    "dataset_hand_after_sign= 'camera_data_test/hand_landmarks_hand_behind_hand.csv'\n",
    "model_save_path = 'camera_classifier.keras'\n",
    "tflite_save_path = 'camera_classifier.tflite'"
   ],
   "metadata": {
    "collapsed": false
   }
  },
  {
   "cell_type": "markdown",
   "source": [
    "# Set number of classes"
   ],
   "metadata": {
    "collapsed": false
   }
  },
  {
   "cell_type": "code",
   "execution_count": 106,
   "outputs": [],
   "source": [
    "NUM_CLASSES = 24"
   ],
   "metadata": {
    "collapsed": false
   }
  },
  {
   "cell_type": "markdown",
   "source": [
    "# Dataset reading"
   ],
   "metadata": {
    "collapsed": false
   }
  },
  {
   "cell_type": "code",
   "execution_count": 128,
   "outputs": [],
   "source": [
    "# Directory containing CSV files\n",
    "directory = 'camera_data'\n",
    "\n",
    "# Initialize an empty list to store data from all files\n",
    "data = []\n",
    "\n",
    "# Loop through each file in the directory\n",
    "for filename in os.listdir(directory):\n",
    "    if filename.endswith(\".csv\"):\n",
    "        file_path = os.path.join(directory, filename)\n",
    "        # Load data from each file and append to the list\n",
    "        data.append(np.loadtxt(file_path, delimiter=',', dtype='float32', usecols=list(range(1, (21 * 2) + 1))))\n",
    "\n",
    "# Concatenate data from all files along the first axis\n",
    "X_dataset = np.concatenate(data, axis=0)\n",
    "X_testGood = np.loadtxt(dataset_testGood, delimiter=',', dtype='float32', usecols=list(range(1, (21 * 2) + 1)))\n",
    "X_testDark = np.loadtxt(dataset_testDark, delimiter=',', dtype='float32', usecols=list(range(1, (21 * 2) + 1)))\n",
    "X_test_hand_behind = np.loadtxt(dataset_hand_after_sign, delimiter=',', dtype='float32', usecols=list(range(1, (21 * 2) + 1)))"
   ],
   "metadata": {
    "collapsed": false
   }
  },
  {
   "cell_type": "code",
   "execution_count": 129,
   "outputs": [],
   "source": [
    "# Directory containing CSV files\n",
    "directory = 'camera_data'\n",
    "\n",
    "# Initialize an empty list to store data from all files\n",
    "data = []\n",
    "\n",
    "# Loop through each file in the directory\n",
    "for filename in os.listdir(directory):\n",
    "    if filename.endswith(\".csv\"):\n",
    "        file_path = os.path.join(directory, filename)\n",
    "        # Load data from each file and append to the list\n",
    "        data.append(np.loadtxt(file_path, delimiter=',', dtype='float32', usecols=(0)))\n",
    "\n",
    "# Concatenate data from all files along the first axis\n",
    "y_dataset = np.concatenate(data, axis=0)\n",
    "y_testGood = np.loadtxt(dataset_testGood, delimiter=',', dtype='int32', usecols=(0))\n",
    "y_testDark = np.loadtxt(dataset_testDark, delimiter=',', dtype='int32', usecols=(0))\n",
    "y_test_hand_behind = np.loadtxt(dataset_hand_after_sign, delimiter=',', dtype='float32', usecols=(0))\n",
    "\n",
    "def adjust_labels(labels):\n",
    "    return np.where(labels >= 10, labels - 1, labels)\n",
    "\n",
    "y_dataset = adjust_labels(y_dataset)\n",
    "y_testGood = adjust_labels(y_testGood)\n",
    "y_testDark = adjust_labels(y_testDark)\n",
    "y_test_hand_behind = adjust_labels(y_test_hand_behind)"
   ],
   "metadata": {
    "collapsed": false
   }
  },
  {
   "cell_type": "code",
   "execution_count": 130,
   "outputs": [
    {
     "name": "stdout",
     "output_type": "stream",
     "text": [
      "X_dataset shape: (26400, 42)\n",
      "y_dataset shape: (26400,)\n",
      "----------------------------------\n",
      "X_test_dataset_good shape: (2400, 42)\n",
      "y_test_dataset_good shape: (2400,)\n",
      "----------------------------------\n",
      "X_test_dataset_dark shape: (2400, 42)\n",
      "y_test_dataset_dark shape: (2400,)\n"
     ]
    }
   ],
   "source": [
    "print(\"X_dataset shape: \" + X_dataset.shape.__str__())\n",
    "print(\"y_dataset shape: \" + y_dataset.shape.__str__())\n",
    "print(\"----------------------------------\")\n",
    "print(\"X_test_dataset_good shape: \" + X_testGood.shape.__str__())\n",
    "print(\"y_test_dataset_good shape: \" + y_testGood.shape.__str__())\n",
    "print(\"----------------------------------\")\n",
    "print(\"X_test_dataset_dark shape: \" + X_testDark.shape.__str__())\n",
    "print(\"y_test_dataset_dark shape: \" + y_testDark.shape.__str__())\n"
   ],
   "metadata": {
    "collapsed": false
   }
  },
  {
   "cell_type": "code",
   "execution_count": 131,
   "outputs": [],
   "source": [
    "X_train, X_validation, y_train, y_validation = train_test_split(X_dataset, y_dataset, train_size=0.70, random_state=RANDOM_SEED)"
   ],
   "metadata": {
    "collapsed": false
   }
  },
  {
   "cell_type": "code",
   "execution_count": 132,
   "outputs": [
    {
     "name": "stdout",
     "output_type": "stream",
     "text": [
      "[[ 0.          0.         -0.14244185 ... -0.71802324  0.10465116\n",
      "  -0.81395346]\n",
      " [ 0.          0.         -0.35887095 ... -0.6895161  -0.9153226\n",
      "  -0.6330645 ]\n",
      " [ 0.          0.          0.13946587 ... -0.6706231  -0.3620178\n",
      "  -0.79821956]\n",
      " ...\n",
      " [ 0.          0.          0.21645021 ... -0.47619048 -0.08658009\n",
      "  -0.4025974 ]\n",
      " [ 0.          0.         -0.1891892  ... -0.5243243  -0.42162162\n",
      "  -0.45945945]\n",
      " [ 0.          0.          0.12944162 ... -0.37055838 -0.09390863\n",
      "  -0.2994924 ]]\n"
     ]
    }
   ],
   "source": [
    "print(X_train)"
   ],
   "metadata": {
    "collapsed": false
   }
  },
  {
   "cell_type": "markdown",
   "source": [
    "# Model building"
   ],
   "metadata": {
    "collapsed": false
   }
  },
  {
   "cell_type": "code",
   "execution_count": 133,
   "outputs": [],
   "source": [
    "model = tf.keras.models.Sequential([\n",
    "    tf.keras.layers.Reshape((21, 2, 1), input_shape=(21 * 2, )),\n",
    "    tf.keras.layers.Conv2D(32, kernel_size=(3, 1), activation='relu', padding='same'),\n",
    "    tf.keras.layers.MaxPooling2D(pool_size=(2, 1)),\n",
    "    tf.keras.layers.Conv2D(64, kernel_size=(3, 1), activation='relu', padding='same'),\n",
    "    tf.keras.layers.MaxPooling2D(pool_size=(2, 1)),\n",
    "    tf.keras.layers.Conv2D(128, kernel_size=(3, 1), activation='relu', padding='same'),\n",
    "    tf.keras.layers.MaxPooling2D(pool_size=(2, 1)),\n",
    "    tf.keras.layers.Flatten(),\n",
    "    tf.keras.layers.Dropout(0.2),\n",
    "    tf.keras.layers.Dense(256, activation='relu'),\n",
    "    tf.keras.layers.Dropout(0.4),\n",
    "    tf.keras.layers.Dense(128, activation='relu'),\n",
    "    tf.keras.layers.Dense(NUM_CLASSES, activation='softmax')\n",
    "])"
   ],
   "metadata": {
    "collapsed": false
   }
  },
  {
   "cell_type": "code",
   "execution_count": 134,
   "outputs": [
    {
     "name": "stdout",
     "output_type": "stream",
     "text": [
      "Model: \"sequential_6\"\n",
      "_________________________________________________________________\n",
      " Layer (type)                Output Shape              Param #   \n",
      "=================================================================\n",
      " reshape_6 (Reshape)         (None, 21, 2, 1)          0         \n",
      "                                                                 \n",
      " conv2d_18 (Conv2D)          (None, 21, 2, 32)         128       \n",
      "                                                                 \n",
      " max_pooling2d_18 (MaxPooli  (None, 10, 2, 32)         0         \n",
      " ng2D)                                                           \n",
      "                                                                 \n",
      " conv2d_19 (Conv2D)          (None, 10, 2, 64)         6208      \n",
      "                                                                 \n",
      " max_pooling2d_19 (MaxPooli  (None, 5, 2, 64)          0         \n",
      " ng2D)                                                           \n",
      "                                                                 \n",
      " conv2d_20 (Conv2D)          (None, 5, 2, 128)         24704     \n",
      "                                                                 \n",
      " max_pooling2d_20 (MaxPooli  (None, 2, 2, 128)         0         \n",
      " ng2D)                                                           \n",
      "                                                                 \n",
      " flatten_6 (Flatten)         (None, 512)               0         \n",
      "                                                                 \n",
      " dropout_12 (Dropout)        (None, 512)               0         \n",
      "                                                                 \n",
      " dense_18 (Dense)            (None, 256)               131328    \n",
      "                                                                 \n",
      " dropout_13 (Dropout)        (None, 256)               0         \n",
      "                                                                 \n",
      " dense_19 (Dense)            (None, 128)               32896     \n",
      "                                                                 \n",
      " dense_20 (Dense)            (None, 24)                3096      \n",
      "                                                                 \n",
      "=================================================================\n",
      "Total params: 198360 (774.84 KB)\n",
      "Trainable params: 198360 (774.84 KB)\n",
      "Non-trainable params: 0 (0.00 Byte)\n",
      "_________________________________________________________________\n"
     ]
    }
   ],
   "source": [
    "model.summary()  # tf.keras.utils.plot_model(model, show_shapes=True)"
   ],
   "metadata": {
    "collapsed": false
   }
  },
  {
   "cell_type": "code",
   "execution_count": 135,
   "outputs": [],
   "source": [
    "# Model checkpoint callback\n",
    "cp_callback = tf.keras.callbacks.ModelCheckpoint(\n",
    "    model_save_path, verbose=1, save_weights_only=False)\n",
    "# Callback for early stopping\n",
    "es_callback = tf.keras.callbacks.EarlyStopping(patience=5, verbose=1)"
   ],
   "metadata": {
    "collapsed": false
   }
  },
  {
   "cell_type": "code",
   "execution_count": 136,
   "outputs": [],
   "source": [
    "# Model compilation\n",
    "model.compile(\n",
    "    optimizer='adam',\n",
    "    loss='sparse_categorical_crossentropy',\n",
    "    metrics=['accuracy']\n",
    ")"
   ],
   "metadata": {
    "collapsed": false
   }
  },
  {
   "cell_type": "markdown",
   "source": [
    "# Model training"
   ],
   "metadata": {
    "collapsed": false
   }
  },
  {
   "cell_type": "code",
   "execution_count": 137,
   "outputs": [
    {
     "name": "stdout",
     "output_type": "stream",
     "text": [
      "Epoch 1/1000\n",
      "141/145 [============================>.] - ETA: 0s - loss: 1.8530 - accuracy: 0.4237\n",
      "Epoch 1: saving model to camera_classifier.keras\n",
      "145/145 [==============================] - 20s 126ms/step - loss: 1.8260 - accuracy: 0.4323 - val_loss: 0.5748 - val_accuracy: 0.8208\n",
      "Epoch 2/1000\n",
      "141/145 [============================>.] - ETA: 0s - loss: 0.5365 - accuracy: 0.8190\n",
      "Epoch 2: saving model to camera_classifier.keras\n",
      "145/145 [==============================] - 2s 16ms/step - loss: 0.5316 - accuracy: 0.8202 - val_loss: 0.2589 - val_accuracy: 0.9241\n",
      "Epoch 3/1000\n",
      "140/145 [===========================>..] - ETA: 0s - loss: 0.3084 - accuracy: 0.8975\n",
      "Epoch 3: saving model to camera_classifier.keras\n",
      "145/145 [==============================] - 2s 14ms/step - loss: 0.3066 - accuracy: 0.8983 - val_loss: 0.1526 - val_accuracy: 0.9484\n",
      "Epoch 4/1000\n",
      "145/145 [==============================] - ETA: 0s - loss: 0.2048 - accuracy: 0.9312\n",
      "Epoch 4: saving model to camera_classifier.keras\n",
      "145/145 [==============================] - 2s 13ms/step - loss: 0.2048 - accuracy: 0.9312 - val_loss: 0.1148 - val_accuracy: 0.9636\n",
      "Epoch 5/1000\n",
      "142/145 [============================>.] - ETA: 0s - loss: 0.1525 - accuracy: 0.9497\n",
      "Epoch 5: saving model to camera_classifier.keras\n",
      "145/145 [==============================] - 2s 13ms/step - loss: 0.1524 - accuracy: 0.9495 - val_loss: 0.0749 - val_accuracy: 0.9783\n",
      "Epoch 6/1000\n",
      "144/145 [============================>.] - ETA: 0s - loss: 0.1167 - accuracy: 0.9619\n",
      "Epoch 6: saving model to camera_classifier.keras\n",
      "145/145 [==============================] - 2s 13ms/step - loss: 0.1168 - accuracy: 0.9619 - val_loss: 0.0598 - val_accuracy: 0.9802\n",
      "Epoch 7/1000\n",
      "144/145 [============================>.] - ETA: 0s - loss: 0.0911 - accuracy: 0.9708\n",
      "Epoch 7: saving model to camera_classifier.keras\n",
      "145/145 [==============================] - 2s 13ms/step - loss: 0.0910 - accuracy: 0.9708 - val_loss: 0.0460 - val_accuracy: 0.9867\n",
      "Epoch 8/1000\n",
      "143/145 [============================>.] - ETA: 0s - loss: 0.0715 - accuracy: 0.9780\n",
      "Epoch 8: saving model to camera_classifier.keras\n",
      "145/145 [==============================] - 2s 12ms/step - loss: 0.0714 - accuracy: 0.9781 - val_loss: 0.0383 - val_accuracy: 0.9905\n",
      "Epoch 9/1000\n",
      "140/145 [===========================>..] - ETA: 0s - loss: 0.0606 - accuracy: 0.9790\n",
      "Epoch 9: saving model to camera_classifier.keras\n",
      "145/145 [==============================] - 2s 13ms/step - loss: 0.0606 - accuracy: 0.9790 - val_loss: 0.0304 - val_accuracy: 0.9926\n",
      "Epoch 10/1000\n",
      "140/145 [===========================>..] - ETA: 0s - loss: 0.0491 - accuracy: 0.9851\n",
      "Epoch 10: saving model to camera_classifier.keras\n",
      "145/145 [==============================] - 2s 13ms/step - loss: 0.0487 - accuracy: 0.9851 - val_loss: 0.0306 - val_accuracy: 0.9915\n",
      "Epoch 11/1000\n",
      "143/145 [============================>.] - ETA: 0s - loss: 0.0463 - accuracy: 0.9859\n",
      "Epoch 11: saving model to camera_classifier.keras\n",
      "145/145 [==============================] - 2s 13ms/step - loss: 0.0464 - accuracy: 0.9859 - val_loss: 0.0241 - val_accuracy: 0.9956\n",
      "Epoch 12/1000\n",
      "144/145 [============================>.] - ETA: 0s - loss: 0.0387 - accuracy: 0.9881\n",
      "Epoch 12: saving model to camera_classifier.keras\n",
      "145/145 [==============================] - 2s 14ms/step - loss: 0.0388 - accuracy: 0.9880 - val_loss: 0.0238 - val_accuracy: 0.9939\n",
      "Epoch 13/1000\n",
      "144/145 [============================>.] - ETA: 0s - loss: 0.0380 - accuracy: 0.9880\n",
      "Epoch 13: saving model to camera_classifier.keras\n",
      "145/145 [==============================] - 2s 17ms/step - loss: 0.0381 - accuracy: 0.9879 - val_loss: 0.0205 - val_accuracy: 0.9956\n",
      "Epoch 14/1000\n",
      "141/145 [============================>.] - ETA: 0s - loss: 0.0341 - accuracy: 0.9894\n",
      "Epoch 14: saving model to camera_classifier.keras\n",
      "145/145 [==============================] - 2s 14ms/step - loss: 0.0339 - accuracy: 0.9893 - val_loss: 0.0170 - val_accuracy: 0.9970\n",
      "Epoch 15/1000\n",
      "142/145 [============================>.] - ETA: 0s - loss: 0.0299 - accuracy: 0.9906\n",
      "Epoch 15: saving model to camera_classifier.keras\n",
      "145/145 [==============================] - 2s 16ms/step - loss: 0.0299 - accuracy: 0.9905 - val_loss: 0.0189 - val_accuracy: 0.9966\n",
      "Epoch 16/1000\n",
      "142/145 [============================>.] - ETA: 0s - loss: 0.0247 - accuracy: 0.9920\n",
      "Epoch 16: saving model to camera_classifier.keras\n",
      "145/145 [==============================] - 2s 13ms/step - loss: 0.0250 - accuracy: 0.9920 - val_loss: 0.0180 - val_accuracy: 0.9957\n",
      "Epoch 17/1000\n",
      "144/145 [============================>.] - ETA: 0s - loss: 0.0282 - accuracy: 0.9909\n",
      "Epoch 17: saving model to camera_classifier.keras\n",
      "145/145 [==============================] - 2s 13ms/step - loss: 0.0284 - accuracy: 0.9908 - val_loss: 0.0261 - val_accuracy: 0.9914\n",
      "Epoch 18/1000\n",
      "142/145 [============================>.] - ETA: 0s - loss: 0.0256 - accuracy: 0.9922\n",
      "Epoch 18: saving model to camera_classifier.keras\n",
      "145/145 [==============================] - 2s 13ms/step - loss: 0.0259 - accuracy: 0.9920 - val_loss: 0.0156 - val_accuracy: 0.9963\n",
      "Epoch 19/1000\n",
      "142/145 [============================>.] - ETA: 0s - loss: 0.0239 - accuracy: 0.9927\n",
      "Epoch 19: saving model to camera_classifier.keras\n",
      "145/145 [==============================] - 2s 13ms/step - loss: 0.0240 - accuracy: 0.9927 - val_loss: 0.0144 - val_accuracy: 0.9976\n",
      "Epoch 20/1000\n",
      "145/145 [==============================] - ETA: 0s - loss: 0.0206 - accuracy: 0.9940\n",
      "Epoch 20: saving model to camera_classifier.keras\n",
      "145/145 [==============================] - 2s 14ms/step - loss: 0.0206 - accuracy: 0.9940 - val_loss: 0.0119 - val_accuracy: 0.9977\n",
      "Epoch 21/1000\n",
      "141/145 [============================>.] - ETA: 0s - loss: 0.0256 - accuracy: 0.9919\n",
      "Epoch 21: saving model to camera_classifier.keras\n",
      "145/145 [==============================] - 2s 13ms/step - loss: 0.0256 - accuracy: 0.9918 - val_loss: 0.0134 - val_accuracy: 0.9971\n",
      "Epoch 22/1000\n",
      "143/145 [============================>.] - ETA: 0s - loss: 0.0246 - accuracy: 0.9926\n",
      "Epoch 22: saving model to camera_classifier.keras\n",
      "145/145 [==============================] - 2s 13ms/step - loss: 0.0244 - accuracy: 0.9927 - val_loss: 0.0129 - val_accuracy: 0.9977\n",
      "Epoch 23/1000\n",
      "143/145 [============================>.] - ETA: 0s - loss: 0.0193 - accuracy: 0.9943\n",
      "Epoch 23: saving model to camera_classifier.keras\n",
      "145/145 [==============================] - 2s 14ms/step - loss: 0.0193 - accuracy: 0.9944 - val_loss: 0.0150 - val_accuracy: 0.9966\n",
      "Epoch 24/1000\n",
      "143/145 [============================>.] - ETA: 0s - loss: 0.0155 - accuracy: 0.9952\n",
      "Epoch 24: saving model to camera_classifier.keras\n",
      "145/145 [==============================] - 2s 16ms/step - loss: 0.0155 - accuracy: 0.9951 - val_loss: 0.0117 - val_accuracy: 0.9979\n",
      "Epoch 25/1000\n",
      "143/145 [============================>.] - ETA: 0s - loss: 0.0185 - accuracy: 0.9940\n",
      "Epoch 25: saving model to camera_classifier.keras\n",
      "145/145 [==============================] - 2s 14ms/step - loss: 0.0185 - accuracy: 0.9940 - val_loss: 0.0127 - val_accuracy: 0.9975\n",
      "Epoch 26/1000\n",
      "143/145 [============================>.] - ETA: 0s - loss: 0.0183 - accuracy: 0.9941\n",
      "Epoch 26: saving model to camera_classifier.keras\n",
      "145/145 [==============================] - 2s 13ms/step - loss: 0.0182 - accuracy: 0.9940 - val_loss: 0.0084 - val_accuracy: 0.9980\n",
      "Epoch 27/1000\n",
      "142/145 [============================>.] - ETA: 0s - loss: 0.0166 - accuracy: 0.9947\n",
      "Epoch 27: saving model to camera_classifier.keras\n",
      "145/145 [==============================] - 2s 14ms/step - loss: 0.0171 - accuracy: 0.9946 - val_loss: 0.0112 - val_accuracy: 0.9977\n",
      "Epoch 28/1000\n",
      "145/145 [==============================] - ETA: 0s - loss: 0.0153 - accuracy: 0.9951\n",
      "Epoch 28: saving model to camera_classifier.keras\n",
      "145/145 [==============================] - 2s 13ms/step - loss: 0.0153 - accuracy: 0.9951 - val_loss: 0.0132 - val_accuracy: 0.9971\n",
      "Epoch 29/1000\n",
      "142/145 [============================>.] - ETA: 0s - loss: 0.0161 - accuracy: 0.9946\n",
      "Epoch 29: saving model to camera_classifier.keras\n",
      "145/145 [==============================] - 2s 13ms/step - loss: 0.0161 - accuracy: 0.9946 - val_loss: 0.0086 - val_accuracy: 0.9979\n",
      "Epoch 30/1000\n",
      "143/145 [============================>.] - ETA: 0s - loss: 0.0160 - accuracy: 0.9949\n",
      "Epoch 30: saving model to camera_classifier.keras\n",
      "145/145 [==============================] - 2s 13ms/step - loss: 0.0158 - accuracy: 0.9950 - val_loss: 0.0118 - val_accuracy: 0.9972\n",
      "Epoch 31/1000\n",
      "142/145 [============================>.] - ETA: 0s - loss: 0.0201 - accuracy: 0.9937\n",
      "Epoch 31: saving model to camera_classifier.keras\n",
      "145/145 [==============================] - 2s 13ms/step - loss: 0.0202 - accuracy: 0.9937 - val_loss: 0.0124 - val_accuracy: 0.9966\n",
      "Epoch 31: early stopping\n"
     ]
    }
   ],
   "source": [
    "history = model.fit(\n",
    "    X_train,\n",
    "    y_train,\n",
    "    epochs=1000,\n",
    "    batch_size=128,\n",
    "    validation_data=(X_validation, y_validation),\n",
    "    callbacks=[cp_callback, es_callback]\n",
    ")"
   ],
   "metadata": {
    "collapsed": false
   }
  },
  {
   "cell_type": "code",
   "execution_count": 138,
   "outputs": [
    {
     "name": "stdout",
     "output_type": "stream",
     "text": [
      "19/19 [==============================] - 0s 4ms/step - loss: 0.0556 - accuracy: 0.9712\n"
     ]
    }
   ],
   "source": [
    "# Model evaluation\n",
    "val_loss, val_acc = model.evaluate(X_testGood, y_testGood, batch_size=128)"
   ],
   "metadata": {
    "collapsed": false
   }
  },
  {
   "cell_type": "code",
   "execution_count": 139,
   "outputs": [
    {
     "name": "stdout",
     "output_type": "stream",
     "text": [
      "19/19 [==============================] - 0s 4ms/step - loss: 0.5284 - accuracy: 0.9021\n"
     ]
    }
   ],
   "source": [
    "# Model evaluation\n",
    "val_loss, val_acc = model.evaluate(X_testDark, y_testDark, batch_size=128)"
   ],
   "metadata": {
    "collapsed": false
   }
  },
  {
   "cell_type": "code",
   "execution_count": 140,
   "outputs": [
    {
     "name": "stdout",
     "output_type": "stream",
     "text": [
      "19/19 [==============================] - 0s 4ms/step - loss: 5.1221 - accuracy: 0.6783\n"
     ]
    }
   ],
   "source": [
    "val_loss, val_acc = model.evaluate(X_test_hand_behind, y_test_hand_behind, batch_size=128)"
   ],
   "metadata": {
    "collapsed": false
   }
  },
  {
   "cell_type": "code",
   "execution_count": 141,
   "outputs": [],
   "source": [
    "# Loading the saved model\n",
    "model = tf.keras.models.load_model(model_save_path)"
   ],
   "metadata": {
    "collapsed": false
   }
  },
  {
   "cell_type": "code",
   "execution_count": 142,
   "outputs": [
    {
     "name": "stdout",
     "output_type": "stream",
     "text": [
      "1/1 [==============================] - 0s 97ms/step\n",
      "[1.0000000e+00 0.0000000e+00 3.8243204e-31 1.6042207e-36 3.7975596e-37\n",
      " 0.0000000e+00 8.0187884e-30 1.1754457e-31 5.6828263e-32 4.7614984e-30\n",
      " 4.0404820e-27 6.5696341e-22 2.0461127e-24 1.5415237e-35 1.6437315e-27\n",
      " 4.7166753e-18 0.0000000e+00 7.7861337e-32 1.0295295e-16 2.4496267e-37\n",
      " 0.0000000e+00 1.4561565e-24 2.1131039e-22 8.7525776e-18]\n",
      "0\n"
     ]
    }
   ],
   "source": [
    "# Inference test\n",
    "predict_result = model.predict(np.array([X_testGood[0]]))\n",
    "print(np.squeeze(predict_result))\n",
    "print(np.argmax(np.squeeze(predict_result)))"
   ],
   "metadata": {
    "collapsed": false
   }
  },
  {
   "cell_type": "markdown",
   "source": [
    "# Confusion matrix"
   ],
   "metadata": {
    "collapsed": false
   }
  },
  {
   "cell_type": "code",
   "execution_count": 143,
   "outputs": [
    {
     "name": "stdout",
     "output_type": "stream",
     "text": [
      "75/75 [==============================] - 0s 3ms/step\n"
     ]
    },
    {
     "data": {
      "text/plain": "<Figure size 700x600 with 2 Axes>",
      "image/png": "[encoded data removed]"
     },
     "metadata": {},
     "output_type": "display_data"
    },
    {
     "name": "stdout",
     "output_type": "stream",
     "text": [
      "Classification Report\n",
      "              precision    recall  f1-score   support\n",
      "\n",
      "           0       1.00      1.00      1.00       100\n",
      "           1       1.00      1.00      1.00       100\n",
      "           2       1.00      1.00      1.00       100\n",
      "           3       1.00      1.00      1.00       100\n",
      "           4       1.00      1.00      1.00       100\n",
      "           5       1.00      1.00      1.00       100\n",
      "           6       1.00      1.00      1.00       100\n",
      "           7       1.00      0.75      0.86       100\n",
      "           8       1.00      1.00      1.00       100\n",
      "           9       1.00      0.89      0.94       100\n",
      "          10       1.00      1.00      1.00       100\n",
      "          11       1.00      1.00      1.00       100\n",
      "          12       1.00      1.00      1.00       100\n",
      "          13       1.00      1.00      1.00       100\n",
      "          14       1.00      1.00      1.00       100\n",
      "          15       1.00      1.00      1.00       100\n",
      "          16       0.66      0.87      0.75       100\n",
      "          17       1.00      1.00      1.00       100\n",
      "          18       1.00      1.00      1.00       100\n",
      "          19       0.86      0.80      0.83       100\n",
      "          20       0.90      1.00      0.95       100\n",
      "          21       1.00      1.00      1.00       100\n",
      "          22       1.00      1.00      1.00       100\n",
      "          23       1.00      1.00      1.00       100\n",
      "\n",
      "    accuracy                           0.97      2400\n",
      "   macro avg       0.98      0.97      0.97      2400\n",
      "weighted avg       0.98      0.97      0.97      2400\n",
      "\n"
     ]
    }
   ],
   "source": [
    "import pandas as pd\n",
    "import seaborn as sns\n",
    "import matplotlib.pyplot as plt\n",
    "from sklearn.metrics import confusion_matrix, classification_report\n",
    "\n",
    "def print_confusion_matrix(y_true, y_pred, report=True):\n",
    "    labels = sorted(list(set(y_true)))\n",
    "    cmx_data = confusion_matrix(y_true, y_pred, labels=labels)\n",
    "\n",
    "    df_cmx = pd.DataFrame(cmx_data, index=labels, columns=labels)\n",
    "\n",
    "    fig, ax = plt.subplots(figsize=(7, 6))\n",
    "    sns.heatmap(df_cmx, annot=True, fmt='g' ,square=False)\n",
    "    ax.set_ylim(len(set(y_true)), 0)\n",
    "    plt.show()\n",
    "\n",
    "    if report:\n",
    "        print('Classification Report')\n",
    "        print(classification_report(y_testGood, y_pred))\n",
    "\n",
    "Y_pred = model.predict(X_testGood)\n",
    "y_pred = np.argmax(Y_pred, axis=1)\n",
    "\n",
    "print_confusion_matrix(y_testGood, y_pred)"
   ],
   "metadata": {
    "collapsed": false
   }
  },
  {
   "cell_type": "markdown",
   "source": [
    "# Convert to model for Tensorflow-Lite"
   ],
   "metadata": {
    "collapsed": false
   }
  },
  {
   "cell_type": "code",
   "execution_count": 144,
   "outputs": [
    {
     "name": "stdout",
     "output_type": "stream",
     "text": [
      "INFO:tensorflow:Assets written to: testkeras\\assets\n"
     ]
    },
    {
     "name": "stderr",
     "output_type": "stream",
     "text": [
      "INFO:tensorflow:Assets written to: testkeras\\assets\n"
     ]
    }
   ],
   "source": [
    "tf.saved_model.save(model, \"testkeras\")"
   ],
   "metadata": {
    "collapsed": false
   }
  },
  {
   "cell_type": "code",
   "execution_count": 145,
   "outputs": [
    {
     "name": "stdout",
     "output_type": "stream",
     "text": [
      "INFO:tensorflow:Assets written to: C:\\Users\\joren\\AppData\\Local\\Temp\\tmp4yaxids3\\assets\n"
     ]
    },
    {
     "name": "stderr",
     "output_type": "stream",
     "text": [
      "INFO:tensorflow:Assets written to: C:\\Users\\joren\\AppData\\Local\\Temp\\tmp4yaxids3\\assets\n"
     ]
    }
   ],
   "source": [
    "# Transform model (quantization)\n",
    "\n",
    "converter = tf.lite.TFLiteConverter.from_keras_model(model)\n",
    "#converter.optimizations = [tf.lite.Optimize.DEFAULT]\n",
    "tflite_quantized_model = converter.convert()\n",
    "\n",
    "with open(tflite_save_path, 'wb') as f:\n",
    "    f.write(tflite_quantized_model)"
   ],
   "metadata": {
    "collapsed": false
   }
  },
  {
   "cell_type": "markdown",
   "source": [
    "# Inference test"
   ],
   "metadata": {
    "collapsed": false
   }
  },
  {
   "cell_type": "code",
   "execution_count": 146,
   "outputs": [],
   "source": [
    "interpreter = tf.lite.Interpreter(model_path=tflite_save_path)\n",
    "interpreter.allocate_tensors()"
   ],
   "metadata": {
    "collapsed": false
   }
  },
  {
   "cell_type": "code",
   "execution_count": 147,
   "outputs": [],
   "source": [
    "# Get I / O tensor\n",
    "input_details = interpreter.get_input_details()\n",
    "output_details = interpreter.get_output_details()"
   ],
   "metadata": {
    "collapsed": false
   }
  },
  {
   "cell_type": "code",
   "execution_count": 148,
   "outputs": [],
   "source": [
    "interpreter.set_tensor(input_details[0]['index'], np.array([X_testGood[0]]))"
   ],
   "metadata": {
    "collapsed": false
   }
  },
  {
   "cell_type": "code",
   "execution_count": 149,
   "outputs": [
    {
     "name": "stdout",
     "output_type": "stream",
     "text": [
      "CPU times: total: 0 ns\n",
      "Wall time: 1.01 ms\n"
     ]
    }
   ],
   "source": [
    "%%time\n",
    "# Inference implementation\n",
    "interpreter.invoke()\n",
    "tflite_results = interpreter.get_tensor(output_details[0]['index'])"
   ],
   "metadata": {
    "collapsed": false
   }
  },
  {
   "cell_type": "code",
   "execution_count": 150,
   "outputs": [
    {
     "name": "stdout",
     "output_type": "stream",
     "text": [
      "[1.00000000e+00 1.54058753e-41 3.82437801e-31 1.60423267e-36\n",
      " 3.79758789e-37 4.56543040e-42 8.01884706e-30 1.17546344e-31\n",
      " 5.68282576e-32 4.76153340e-30 4.04054325e-27 6.56968310e-22\n",
      " 2.04612809e-24 1.54153500e-35 1.64375020e-27 4.71671041e-18\n",
      " 8.40779079e-45 7.78619187e-32 1.02953334e-16 2.44966321e-37\n",
      " 3.43318124e-43 1.45616752e-24 2.11311161e-22 8.75264373e-18]\n",
      "0\n"
     ]
    }
   ],
   "source": [
    "print(np.squeeze(tflite_results))\n",
    "print(np.argmax(np.squeeze(tflite_results)))"
   ],
   "metadata": {
    "collapsed": false
   }
  },
  {
   "cell_type": "code",
   "execution_count": 151,
   "outputs": [
    {
     "data": {
      "text/plain": "<Figure size 1200x600 with 2 Axes>",
      "image/png": "[encoded data removed]"
     },
     "metadata": {},
     "output_type": "display_data"
    }
   ],
   "source": [
    "plt.figure(figsize=(12, 6))\n",
    "\n",
    "# Plot training & validation loss values\n",
    "plt.subplot(2, 1, 1)\n",
    "plt.plot(history.history['loss'])\n",
    "plt.plot(history.history['val_loss'])\n",
    "plt.title('Model loss')\n",
    "plt.xlabel('Epoch')\n",
    "plt.ylabel('Loss')\n",
    "plt.legend(['Train', 'Validation'], loc='upper left')\n",
    "\n",
    "# Plot training & validation accuracy and F1 score values\n",
    "plt.subplot(2, 1, 2)\n",
    "plt.plot(history.history['accuracy'])\n",
    "plt.plot(history.history['val_accuracy'])\n",
    "plt.title('Model metrics')\n",
    "plt.xlabel('Epoch')\n",
    "plt.ylabel('Metric Value')\n",
    "plt.legend(['Train Accuracy', 'Validation Accuracy', 'F1 Score'], loc='upper left')\n",
    "\n",
    "plt.tight_layout()\n",
    "plt.show()"
   ],
   "metadata": {
    "collapsed": false
   }
  },
  {
   "cell_type": "code",
   "execution_count": null,
   "outputs": [],
   "source": [],
   "metadata": {
    "collapsed": false,
    "pycharm": {
     "is_executing": true
    }
   }
  },
  {
   "cell_type": "code",
   "execution_count": null,
   "outputs": [],
   "source": [],
   "metadata": {
    "collapsed": false,
    "pycharm": {
     "is_executing": true
    }
   }
  },
  {
   "cell_type": "code",
   "execution_count": 151,
   "outputs": [],
   "source": [],
   "metadata": {
    "collapsed": false
   }
  }
 ],
 "metadata": {
  "kernelspec": {
   "display_name": "Python 3",
   "language": "python",
   "name": "python3"
  },
  "language_info": {
   "codemirror_mode": {
    "name": "ipython",
    "version": 2
   },
   "file_extension": ".py",
   "mimetype": "text/x-python",
   "name": "python",
   "nbconvert_exporter": "python",
   "pygments_lexer": "ipython2",
   "version": "2.7.6"
  }
 },
 "nbformat": 4,
 "nbformat_minor": 0
}
