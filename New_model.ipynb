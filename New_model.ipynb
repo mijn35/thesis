{
 "cells": [
  {
   "cell_type": "code",
   "execution_count": 1,
   "outputs": [
    {
     "name": "stdout",
     "output_type": "stream",
     "text": [
      "WARNING:tensorflow:From C:\\gesture_recognition_by_image\\venv\\lib\\site-packages\\keras\\src\\losses.py:2976: The name tf.losses.sparse_softmax_cross_entropy is deprecated. Please use tf.compat.v1.losses.sparse_softmax_cross_entropy instead.\n",
      "\n"
     ]
    }
   ],
   "source": [
    "import csv\n",
    "\n",
    "import numpy as np\n",
    "import tensorflow as tf\n",
    "from tensorflow import keras\n",
    "from sklearn.model_selection import train_test_split\n",
    "import matplotlib.pyplot as plt\n",
    "\n",
    "RANDOM_SEED = 42"
   ],
   "metadata": {
    "collapsed": false
   }
  },
  {
   "cell_type": "markdown",
   "source": [
    "# Specify each path"
   ],
   "metadata": {
    "collapsed": false
   }
  },
  {
   "cell_type": "code",
   "execution_count": 2,
   "outputs": [],
   "source": [
    "dataset = 'hand_landmarks_end.csv'\n",
    "#model_save_path = 'model/keypoint_classifier/keypoint_classifier.hdf5'\n",
    "#tflite_save_path = 'model/keypoint_classifier/keypoint_classifier.tflite'\n",
    "model_save_path = 'new_hand_classifier.hdf5'\n",
    "tflite_save_path = 'new_hand_classifier.tflite'"
   ],
   "metadata": {
    "collapsed": false
   }
  },
  {
   "cell_type": "markdown",
   "source": [
    "# Set number of classes"
   ],
   "metadata": {
    "collapsed": false
   }
  },
  {
   "cell_type": "code",
   "execution_count": 3,
   "outputs": [],
   "source": [
    "NUM_CLASSES = 26"
   ],
   "metadata": {
    "collapsed": false
   }
  },
  {
   "cell_type": "markdown",
   "source": [
    "# Dataset reading"
   ],
   "metadata": {
    "collapsed": false
   }
  },
  {
   "cell_type": "code",
   "execution_count": 4,
   "outputs": [],
   "source": [
    "X_dataset = np.loadtxt(dataset, delimiter=',', dtype='float32', usecols=list(range(1, (21 * 2) + 1)))"
   ],
   "metadata": {
    "collapsed": false
   }
  },
  {
   "cell_type": "code",
   "execution_count": 5,
   "outputs": [],
   "source": [
    "y_dataset = np.loadtxt(dataset, delimiter=',', dtype='int32', usecols=(0))"
   ],
   "metadata": {
    "collapsed": false
   }
  },
  {
   "cell_type": "code",
   "execution_count": 6,
   "outputs": [],
   "source": [
    "X_train, X, y_train, y = train_test_split(X_dataset, y_dataset, train_size=0.70, random_state=RANDOM_SEED)\n",
    "X_test, X_validation, y_test, y_validation = train_test_split(X, y, train_size=0.70, random_state=RANDOM_SEED)"
   ],
   "metadata": {
    "collapsed": false
   }
  },
  {
   "cell_type": "markdown",
   "source": [
    "# Model building"
   ],
   "metadata": {
    "collapsed": false
   }
  },
  {
   "cell_type": "code",
   "execution_count": 7,
   "outputs": [
    {
     "name": "stdout",
     "output_type": "stream",
     "text": [
      "WARNING:tensorflow:From C:\\gesture_recognition_by_image\\venv\\lib\\site-packages\\keras\\src\\backend.py:873: The name tf.get_default_graph is deprecated. Please use tf.compat.v1.get_default_graph instead.\n",
      "\n",
      "WARNING:tensorflow:From C:\\gesture_recognition_by_image\\venv\\lib\\site-packages\\keras\\src\\layers\\pooling\\max_pooling2d.py:161: The name tf.nn.max_pool is deprecated. Please use tf.nn.max_pool2d instead.\n",
      "\n"
     ]
    }
   ],
   "source": [
    "model = tf.keras.models.Sequential([\n",
    "    tf.keras.layers.Reshape((21, 2, 1), input_shape=(21 * 2, )),\n",
    "    tf.keras.layers.Conv2D(32, kernel_size=(3, 1), activation='relu', padding='same'),\n",
    "    tf.keras.layers.MaxPooling2D(pool_size=(2, 1)),\n",
    "    tf.keras.layers.Conv2D(64, kernel_size=(3, 1), activation='relu', padding='same'),\n",
    "    tf.keras.layers.MaxPooling2D(pool_size=(2, 1)),\n",
    "    tf.keras.layers.Flatten(),\n",
    "    tf.keras.layers.Dropout(0.2),\n",
    "    tf.keras.layers.Dense(128, activation='relu'),\n",
    "    tf.keras.layers.Dropout(0.4),\n",
    "    tf.keras.layers.Dense(64, activation='relu'),\n",
    "    tf.keras.layers.Dense(NUM_CLASSES, activation='softmax')\n",
    "])"
   ],
   "metadata": {
    "collapsed": false
   }
  },
  {
   "cell_type": "code",
   "execution_count": 8,
   "outputs": [
    {
     "name": "stdout",
     "output_type": "stream",
     "text": [
      "Model: \"sequential\"\n",
      "_________________________________________________________________\n",
      " Layer (type)                Output Shape              Param #   \n",
      "=================================================================\n",
      " reshape (Reshape)           (None, 21, 2, 1)          0         \n",
      "                                                                 \n",
      " conv2d (Conv2D)             (None, 21, 2, 32)         128       \n",
      "                                                                 \n",
      " max_pooling2d (MaxPooling2  (None, 10, 2, 32)         0         \n",
      " D)                                                              \n",
      "                                                                 \n",
      " conv2d_1 (Conv2D)           (None, 10, 2, 64)         6208      \n",
      "                                                                 \n",
      " max_pooling2d_1 (MaxPoolin  (None, 5, 2, 64)          0         \n",
      " g2D)                                                            \n",
      "                                                                 \n",
      " flatten (Flatten)           (None, 640)               0         \n",
      "                                                                 \n",
      " dropout (Dropout)           (None, 640)               0         \n",
      "                                                                 \n",
      " dense (Dense)               (None, 128)               82048     \n",
      "                                                                 \n",
      " dropout_1 (Dropout)         (None, 128)               0         \n",
      "                                                                 \n",
      " dense_1 (Dense)             (None, 64)                8256      \n",
      "                                                                 \n",
      " dense_2 (Dense)             (None, 26)                1690      \n",
      "                                                                 \n",
      "=================================================================\n",
      "Total params: 98330 (384.10 KB)\n",
      "Trainable params: 98330 (384.10 KB)\n",
      "Non-trainable params: 0 (0.00 Byte)\n",
      "_________________________________________________________________\n"
     ]
    }
   ],
   "source": [
    "model.summary()  # tf.keras.utils.plot_model(model, show_shapes=True)"
   ],
   "metadata": {
    "collapsed": false
   }
  },
  {
   "cell_type": "code",
   "execution_count": 9,
   "outputs": [],
   "source": [
    "# Model checkpoint callback\n",
    "cp_callback = tf.keras.callbacks.ModelCheckpoint(\n",
    "    model_save_path, verbose=1, save_weights_only=False)\n",
    "# Callback for early stopping\n",
    "es_callback = tf.keras.callbacks.EarlyStopping(patience=20, verbose=1)"
   ],
   "metadata": {
    "collapsed": false
   }
  },
  {
   "cell_type": "code",
   "execution_count": 10,
   "outputs": [
    {
     "name": "stdout",
     "output_type": "stream",
     "text": [
      "WARNING:tensorflow:From C:\\gesture_recognition_by_image\\venv\\lib\\site-packages\\keras\\src\\optimizers\\__init__.py:309: The name tf.train.Optimizer is deprecated. Please use tf.compat.v1.train.Optimizer instead.\n",
      "\n"
     ]
    }
   ],
   "source": [
    "# Model compilation\n",
    "model.compile(\n",
    "    optimizer='adam',\n",
    "    loss='sparse_categorical_crossentropy',\n",
    "    metrics=['accuracy']\n",
    ")"
   ],
   "metadata": {
    "collapsed": false
   }
  },
  {
   "cell_type": "markdown",
   "source": [
    "# Model training"
   ],
   "metadata": {
    "collapsed": false
   }
  },
  {
   "cell_type": "code",
   "execution_count": 11,
   "outputs": [
    {
     "name": "stdout",
     "output_type": "stream",
     "text": [
      "Epoch 1/1000\n",
      "WARNING:tensorflow:From C:\\gesture_recognition_by_image\\venv\\lib\\site-packages\\keras\\src\\utils\\tf_utils.py:492: The name tf.ragged.RaggedTensorValue is deprecated. Please use tf.compat.v1.ragged.RaggedTensorValue instead.\n",
      "\n",
      "WARNING:tensorflow:From C:\\gesture_recognition_by_image\\venv\\lib\\site-packages\\keras\\src\\engine\\base_layer_utils.py:384: The name tf.executing_eagerly_outside_functions is deprecated. Please use tf.compat.v1.executing_eagerly_outside_functions instead.\n",
      "\n",
      "48/53 [==========================>...] - ETA: 0s - loss: 2.8248 - accuracy: 0.1427\n",
      "Epoch 1: saving model to new_hand_classifier.hdf5\n",
      "53/53 [==============================] - 3s 17ms/step - loss: 2.7627 - accuracy: 0.1560 - val_loss: 1.8347 - val_accuracy: 0.4532\n",
      "Epoch 2/1000\n",
      "14/53 [======>.......................] - ETA: 0s - loss: 1.9072 - accuracy: 0.3711"
     ]
    },
    {
     "name": "stderr",
     "output_type": "stream",
     "text": [
      "C:\\gesture_recognition_by_image\\venv\\lib\\site-packages\\keras\\src\\engine\\training.py:3103: UserWarning: You are saving your model as an HDF5 file via `model.save()`. This file format is considered legacy. We recommend using instead the native Keras format, e.g. `model.save('my_model.keras')`.\n",
      "  saving_api.save_model(\n"
     ]
    },
    {
     "name": "stdout",
     "output_type": "stream",
     "text": [
      "49/53 [==========================>...] - ETA: 0s - loss: 1.5330 - accuracy: 0.4815\n",
      "Epoch 2: saving model to new_hand_classifier.hdf5\n",
      "53/53 [==============================] - 1s 10ms/step - loss: 1.5069 - accuracy: 0.4874 - val_loss: 0.7762 - val_accuracy: 0.8104\n",
      "Epoch 3/1000\n",
      "50/53 [===========================>..] - ETA: 0s - loss: 0.8453 - accuracy: 0.7030\n",
      "Epoch 3: saving model to new_hand_classifier.hdf5\n",
      "53/53 [==============================] - 1s 11ms/step - loss: 0.8355 - accuracy: 0.7058 - val_loss: 0.4010 - val_accuracy: 0.8821\n",
      "Epoch 4/1000\n",
      "47/53 [=========================>....] - ETA: 0s - loss: 0.5646 - accuracy: 0.8037\n",
      "Epoch 4: saving model to new_hand_classifier.hdf5\n",
      "53/53 [==============================] - 1s 12ms/step - loss: 0.5539 - accuracy: 0.8061 - val_loss: 0.2405 - val_accuracy: 0.9595\n",
      "Epoch 5/1000\n",
      "51/53 [===========================>..] - ETA: 0s - loss: 0.4156 - accuracy: 0.8511\n",
      "Epoch 5: saving model to new_hand_classifier.hdf5\n",
      "53/53 [==============================] - 1s 11ms/step - loss: 0.4140 - accuracy: 0.8518 - val_loss: 0.1815 - val_accuracy: 0.9584\n",
      "Epoch 6/1000\n",
      "52/53 [============================>.] - ETA: 0s - loss: 0.3223 - accuracy: 0.8837\n",
      "Epoch 6: saving model to new_hand_classifier.hdf5\n",
      "53/53 [==============================] - 1s 12ms/step - loss: 0.3218 - accuracy: 0.8836 - val_loss: 0.1584 - val_accuracy: 0.9584\n",
      "Epoch 7/1000\n",
      "52/53 [============================>.] - ETA: 0s - loss: 0.2724 - accuracy: 0.9010\n",
      "Epoch 7: saving model to new_hand_classifier.hdf5\n",
      "53/53 [==============================] - 1s 12ms/step - loss: 0.2724 - accuracy: 0.9012 - val_loss: 0.1128 - val_accuracy: 0.9746\n",
      "Epoch 8/1000\n",
      "50/53 [===========================>..] - ETA: 0s - loss: 0.2185 - accuracy: 0.9231\n",
      "Epoch 8: saving model to new_hand_classifier.hdf5\n",
      "53/53 [==============================] - 1s 11ms/step - loss: 0.2210 - accuracy: 0.9234 - val_loss: 0.0902 - val_accuracy: 0.9931\n",
      "Epoch 9/1000\n",
      "53/53 [==============================] - ETA: 0s - loss: 0.1945 - accuracy: 0.9354\n",
      "Epoch 9: saving model to new_hand_classifier.hdf5\n",
      "53/53 [==============================] - 1s 11ms/step - loss: 0.1945 - accuracy: 0.9354 - val_loss: 0.0745 - val_accuracy: 0.9803\n",
      "Epoch 10/1000\n",
      "53/53 [==============================] - ETA: 0s - loss: 0.1656 - accuracy: 0.9435\n",
      "Epoch 10: saving model to new_hand_classifier.hdf5\n",
      "53/53 [==============================] - 1s 12ms/step - loss: 0.1656 - accuracy: 0.9435 - val_loss: 0.0658 - val_accuracy: 0.9873\n",
      "Epoch 11/1000\n",
      "53/53 [==============================] - ETA: 0s - loss: 0.1394 - accuracy: 0.9519\n",
      "Epoch 11: saving model to new_hand_classifier.hdf5\n",
      "53/53 [==============================] - 1s 12ms/step - loss: 0.1394 - accuracy: 0.9519 - val_loss: 0.0535 - val_accuracy: 0.9861\n",
      "Epoch 12/1000\n",
      "53/53 [==============================] - ETA: 0s - loss: 0.1285 - accuracy: 0.9560\n",
      "Epoch 12: saving model to new_hand_classifier.hdf5\n",
      "53/53 [==============================] - 1s 12ms/step - loss: 0.1285 - accuracy: 0.9560 - val_loss: 0.0496 - val_accuracy: 0.9884\n",
      "Epoch 13/1000\n",
      "49/53 [==========================>...] - ETA: 0s - loss: 0.1155 - accuracy: 0.9598\n",
      "Epoch 13: saving model to new_hand_classifier.hdf5\n",
      "53/53 [==============================] - 1s 13ms/step - loss: 0.1160 - accuracy: 0.9601 - val_loss: 0.0543 - val_accuracy: 0.9780\n",
      "Epoch 14/1000\n",
      "49/53 [==========================>...] - ETA: 0s - loss: 0.1047 - accuracy: 0.9656\n",
      "Epoch 14: saving model to new_hand_classifier.hdf5\n",
      "53/53 [==============================] - 1s 11ms/step - loss: 0.1045 - accuracy: 0.9664 - val_loss: 0.0438 - val_accuracy: 0.9769\n",
      "Epoch 15/1000\n",
      "53/53 [==============================] - ETA: 0s - loss: 0.0943 - accuracy: 0.9693\n",
      "Epoch 15: saving model to new_hand_classifier.hdf5\n",
      "53/53 [==============================] - 1s 13ms/step - loss: 0.0943 - accuracy: 0.9693 - val_loss: 0.0331 - val_accuracy: 0.9942\n",
      "Epoch 16/1000\n",
      "49/53 [==========================>...] - ETA: 0s - loss: 0.0853 - accuracy: 0.9740\n",
      "Epoch 16: saving model to new_hand_classifier.hdf5\n",
      "53/53 [==============================] - 1s 12ms/step - loss: 0.0836 - accuracy: 0.9747 - val_loss: 0.0419 - val_accuracy: 0.9780\n",
      "Epoch 17/1000\n",
      "49/53 [==========================>...] - ETA: 0s - loss: 0.0796 - accuracy: 0.9734\n",
      "Epoch 17: saving model to new_hand_classifier.hdf5\n",
      "53/53 [==============================] - 1s 11ms/step - loss: 0.0782 - accuracy: 0.9737 - val_loss: 0.0267 - val_accuracy: 0.9965\n",
      "Epoch 18/1000\n",
      "52/53 [============================>.] - ETA: 0s - loss: 0.0719 - accuracy: 0.9779\n",
      "Epoch 18: saving model to new_hand_classifier.hdf5\n",
      "53/53 [==============================] - 1s 10ms/step - loss: 0.0717 - accuracy: 0.9780 - val_loss: 0.0265 - val_accuracy: 0.9954\n",
      "Epoch 19/1000\n",
      "53/53 [==============================] - ETA: 0s - loss: 0.0701 - accuracy: 0.9790\n",
      "Epoch 19: saving model to new_hand_classifier.hdf5\n",
      "53/53 [==============================] - 1s 11ms/step - loss: 0.0701 - accuracy: 0.9790 - val_loss: 0.0226 - val_accuracy: 0.9954\n",
      "Epoch 20/1000\n",
      "51/53 [===========================>..] - ETA: 0s - loss: 0.0603 - accuracy: 0.9822\n",
      "Epoch 20: saving model to new_hand_classifier.hdf5\n",
      "53/53 [==============================] - 1s 11ms/step - loss: 0.0597 - accuracy: 0.9823 - val_loss: 0.0250 - val_accuracy: 0.9954\n",
      "Epoch 21/1000\n",
      "51/53 [===========================>..] - ETA: 0s - loss: 0.0543 - accuracy: 0.9831\n",
      "Epoch 21: saving model to new_hand_classifier.hdf5\n",
      "53/53 [==============================] - 1s 11ms/step - loss: 0.0537 - accuracy: 0.9835 - val_loss: 0.0215 - val_accuracy: 0.9965\n",
      "Epoch 22/1000\n",
      "49/53 [==========================>...] - ETA: 0s - loss: 0.0531 - accuracy: 0.9845\n",
      "Epoch 22: saving model to new_hand_classifier.hdf5\n",
      "53/53 [==============================] - 1s 10ms/step - loss: 0.0525 - accuracy: 0.9850 - val_loss: 0.0157 - val_accuracy: 0.9954\n",
      "Epoch 23/1000\n",
      "48/53 [==========================>...] - ETA: 0s - loss: 0.0473 - accuracy: 0.9868\n",
      "Epoch 23: saving model to new_hand_classifier.hdf5\n",
      "53/53 [==============================] - 1s 11ms/step - loss: 0.0468 - accuracy: 0.9869 - val_loss: 0.0143 - val_accuracy: 0.9965\n",
      "Epoch 24/1000\n",
      "50/53 [===========================>..] - ETA: 0s - loss: 0.0507 - accuracy: 0.9855\n",
      "Epoch 24: saving model to new_hand_classifier.hdf5\n",
      "53/53 [==============================] - 1s 13ms/step - loss: 0.0503 - accuracy: 0.9856 - val_loss: 0.0136 - val_accuracy: 0.9954\n",
      "Epoch 25/1000\n",
      "53/53 [==============================] - ETA: 0s - loss: 0.0431 - accuracy: 0.9881\n",
      "Epoch 25: saving model to new_hand_classifier.hdf5\n",
      "53/53 [==============================] - 1s 10ms/step - loss: 0.0431 - accuracy: 0.9881 - val_loss: 0.0213 - val_accuracy: 0.9942\n",
      "Epoch 26/1000\n",
      "50/53 [===========================>..] - ETA: 0s - loss: 0.0382 - accuracy: 0.9895\n",
      "Epoch 26: saving model to new_hand_classifier.hdf5\n",
      "53/53 [==============================] - 1s 11ms/step - loss: 0.0382 - accuracy: 0.9894 - val_loss: 0.0133 - val_accuracy: 0.9965\n",
      "Epoch 27/1000\n",
      "48/53 [==========================>...] - ETA: 0s - loss: 0.0356 - accuracy: 0.9897\n",
      "Epoch 27: saving model to new_hand_classifier.hdf5\n",
      "53/53 [==============================] - 1s 11ms/step - loss: 0.0369 - accuracy: 0.9896 - val_loss: 0.0158 - val_accuracy: 0.9965\n",
      "Epoch 28/1000\n",
      "47/53 [=========================>....] - ETA: 0s - loss: 0.0365 - accuracy: 0.9902\n",
      "Epoch 28: saving model to new_hand_classifier.hdf5\n",
      "53/53 [==============================] - 1s 10ms/step - loss: 0.0377 - accuracy: 0.9891 - val_loss: 0.0126 - val_accuracy: 0.9942\n",
      "Epoch 29/1000\n",
      "49/53 [==========================>...] - ETA: 0s - loss: 0.0330 - accuracy: 0.9912\n",
      "Epoch 29: saving model to new_hand_classifier.hdf5\n",
      "53/53 [==============================] - 1s 10ms/step - loss: 0.0330 - accuracy: 0.9912 - val_loss: 0.0110 - val_accuracy: 0.9954\n",
      "Epoch 30/1000\n",
      "48/53 [==========================>...] - ETA: 0s - loss: 0.0378 - accuracy: 0.9876\n",
      "Epoch 30: saving model to new_hand_classifier.hdf5\n",
      "53/53 [==============================] - 1s 11ms/step - loss: 0.0374 - accuracy: 0.9882 - val_loss: 0.0169 - val_accuracy: 0.9954\n",
      "Epoch 31/1000\n",
      "50/53 [===========================>..] - ETA: 0s - loss: 0.0286 - accuracy: 0.9923\n",
      "Epoch 31: saving model to new_hand_classifier.hdf5\n",
      "53/53 [==============================] - 1s 11ms/step - loss: 0.0288 - accuracy: 0.9923 - val_loss: 0.0147 - val_accuracy: 0.9954\n",
      "Epoch 32/1000\n",
      "51/53 [===========================>..] - ETA: 0s - loss: 0.0328 - accuracy: 0.9903\n",
      "Epoch 32: saving model to new_hand_classifier.hdf5\n",
      "53/53 [==============================] - 1s 11ms/step - loss: 0.0324 - accuracy: 0.9905 - val_loss: 0.0181 - val_accuracy: 0.9954\n",
      "Epoch 33/1000\n",
      "50/53 [===========================>..] - ETA: 0s - loss: 0.0259 - accuracy: 0.9920\n",
      "Epoch 33: saving model to new_hand_classifier.hdf5\n",
      "53/53 [==============================] - 1s 11ms/step - loss: 0.0265 - accuracy: 0.9918 - val_loss: 0.0125 - val_accuracy: 0.9965\n",
      "Epoch 34/1000\n",
      "52/53 [============================>.] - ETA: 0s - loss: 0.0326 - accuracy: 0.9911\n",
      "Epoch 34: saving model to new_hand_classifier.hdf5\n",
      "53/53 [==============================] - 1s 11ms/step - loss: 0.0326 - accuracy: 0.9911 - val_loss: 0.0117 - val_accuracy: 0.9942\n",
      "Epoch 35/1000\n",
      "50/53 [===========================>..] - ETA: 0s - loss: 0.0257 - accuracy: 0.9931\n",
      "Epoch 35: saving model to new_hand_classifier.hdf5\n",
      "53/53 [==============================] - 1s 12ms/step - loss: 0.0259 - accuracy: 0.9930 - val_loss: 0.0141 - val_accuracy: 0.9942\n",
      "Epoch 36/1000\n",
      "48/53 [==========================>...] - ETA: 0s - loss: 0.0216 - accuracy: 0.9941\n",
      "Epoch 36: saving model to new_hand_classifier.hdf5\n",
      "53/53 [==============================] - 1s 10ms/step - loss: 0.0213 - accuracy: 0.9943 - val_loss: 0.0098 - val_accuracy: 0.9977\n",
      "Epoch 37/1000\n",
      "49/53 [==========================>...] - ETA: 0s - loss: 0.0219 - accuracy: 0.9946\n",
      "Epoch 37: saving model to new_hand_classifier.hdf5\n",
      "53/53 [==============================] - 1s 10ms/step - loss: 0.0223 - accuracy: 0.9940 - val_loss: 0.0125 - val_accuracy: 0.9965\n",
      "Epoch 38/1000\n",
      "53/53 [==============================] - ETA: 0s - loss: 0.0272 - accuracy: 0.9927\n",
      "Epoch 38: saving model to new_hand_classifier.hdf5\n",
      "53/53 [==============================] - 1s 10ms/step - loss: 0.0272 - accuracy: 0.9927 - val_loss: 0.0118 - val_accuracy: 0.9965\n",
      "Epoch 39/1000\n",
      "50/53 [===========================>..] - ETA: 0s - loss: 0.0214 - accuracy: 0.9945\n",
      "Epoch 39: saving model to new_hand_classifier.hdf5\n",
      "53/53 [==============================] - 1s 11ms/step - loss: 0.0212 - accuracy: 0.9946 - val_loss: 0.0119 - val_accuracy: 0.9965\n",
      "Epoch 40/1000\n",
      "49/53 [==========================>...] - ETA: 0s - loss: 0.0237 - accuracy: 0.9938\n",
      "Epoch 40: saving model to new_hand_classifier.hdf5\n",
      "53/53 [==============================] - 1s 10ms/step - loss: 0.0238 - accuracy: 0.9937 - val_loss: 0.0088 - val_accuracy: 0.9965\n",
      "Epoch 41/1000\n",
      "49/53 [==========================>...] - ETA: 0s - loss: 0.0197 - accuracy: 0.9944\n",
      "Epoch 41: saving model to new_hand_classifier.hdf5\n",
      "53/53 [==============================] - 1s 11ms/step - loss: 0.0188 - accuracy: 0.9948 - val_loss: 0.0098 - val_accuracy: 0.9977\n",
      "Epoch 42/1000\n",
      "47/53 [=========================>....] - ETA: 0s - loss: 0.0242 - accuracy: 0.9924\n",
      "Epoch 42: saving model to new_hand_classifier.hdf5\n",
      "53/53 [==============================] - 1s 10ms/step - loss: 0.0241 - accuracy: 0.9926 - val_loss: 0.0098 - val_accuracy: 0.9977\n",
      "Epoch 43/1000\n",
      "50/53 [===========================>..] - ETA: 0s - loss: 0.0224 - accuracy: 0.9947\n",
      "Epoch 43: saving model to new_hand_classifier.hdf5\n",
      "53/53 [==============================] - 1s 11ms/step - loss: 0.0223 - accuracy: 0.9945 - val_loss: 0.0080 - val_accuracy: 0.9965\n",
      "Epoch 44/1000\n",
      "49/53 [==========================>...] - ETA: 0s - loss: 0.0218 - accuracy: 0.9938\n",
      "Epoch 44: saving model to new_hand_classifier.hdf5\n",
      "53/53 [==============================] - 1s 11ms/step - loss: 0.0224 - accuracy: 0.9935 - val_loss: 0.0102 - val_accuracy: 0.9965\n",
      "Epoch 45/1000\n",
      "52/53 [============================>.] - ETA: 0s - loss: 0.0233 - accuracy: 0.9929\n",
      "Epoch 45: saving model to new_hand_classifier.hdf5\n",
      "53/53 [==============================] - 0s 9ms/step - loss: 0.0231 - accuracy: 0.9930 - val_loss: 0.0131 - val_accuracy: 0.9977\n",
      "Epoch 46/1000\n",
      "47/53 [=========================>....] - ETA: 0s - loss: 0.0209 - accuracy: 0.9953\n",
      "Epoch 46: saving model to new_hand_classifier.hdf5\n",
      "53/53 [==============================] - 1s 11ms/step - loss: 0.0227 - accuracy: 0.9946 - val_loss: 0.0080 - val_accuracy: 0.9977\n",
      "Epoch 47/1000\n",
      "48/53 [==========================>...] - ETA: 0s - loss: 0.0285 - accuracy: 0.9920\n",
      "Epoch 47: saving model to new_hand_classifier.hdf5\n",
      "53/53 [==============================] - 1s 11ms/step - loss: 0.0285 - accuracy: 0.9920 - val_loss: 0.0113 - val_accuracy: 0.9965\n",
      "Epoch 48/1000\n",
      "48/53 [==========================>...] - ETA: 0s - loss: 0.0176 - accuracy: 0.9954\n",
      "Epoch 48: saving model to new_hand_classifier.hdf5\n",
      "53/53 [==============================] - 1s 12ms/step - loss: 0.0171 - accuracy: 0.9955 - val_loss: 0.0082 - val_accuracy: 0.9965\n",
      "Epoch 49/1000\n",
      "53/53 [==============================] - ETA: 0s - loss: 0.0175 - accuracy: 0.9955\n",
      "Epoch 49: saving model to new_hand_classifier.hdf5\n",
      "53/53 [==============================] - 1s 11ms/step - loss: 0.0175 - accuracy: 0.9955 - val_loss: 0.0080 - val_accuracy: 0.9965\n",
      "Epoch 50/1000\n",
      "53/53 [==============================] - ETA: 0s - loss: 0.0187 - accuracy: 0.9943\n",
      "Epoch 50: saving model to new_hand_classifier.hdf5\n",
      "53/53 [==============================] - 1s 12ms/step - loss: 0.0187 - accuracy: 0.9943 - val_loss: 0.0085 - val_accuracy: 0.9977\n",
      "Epoch 51/1000\n",
      "53/53 [==============================] - ETA: 0s - loss: 0.0168 - accuracy: 0.9957\n",
      "Epoch 51: saving model to new_hand_classifier.hdf5\n",
      "53/53 [==============================] - 1s 12ms/step - loss: 0.0168 - accuracy: 0.9957 - val_loss: 0.0123 - val_accuracy: 0.9977\n",
      "Epoch 52/1000\n",
      "53/53 [==============================] - ETA: 0s - loss: 0.0150 - accuracy: 0.9957\n",
      "Epoch 52: saving model to new_hand_classifier.hdf5\n",
      "53/53 [==============================] - 1s 10ms/step - loss: 0.0150 - accuracy: 0.9957 - val_loss: 0.0072 - val_accuracy: 0.9977\n",
      "Epoch 53/1000\n",
      "49/53 [==========================>...] - ETA: 0s - loss: 0.0160 - accuracy: 0.9946\n",
      "Epoch 53: saving model to new_hand_classifier.hdf5\n",
      "53/53 [==============================] - 1s 11ms/step - loss: 0.0153 - accuracy: 0.9949 - val_loss: 0.0086 - val_accuracy: 0.9977\n",
      "Epoch 54/1000\n",
      "51/53 [===========================>..] - ETA: 0s - loss: 0.0207 - accuracy: 0.9945\n",
      "Epoch 54: saving model to new_hand_classifier.hdf5\n",
      "53/53 [==============================] - 1s 11ms/step - loss: 0.0201 - accuracy: 0.9946 - val_loss: 0.0109 - val_accuracy: 0.9977\n",
      "Epoch 55/1000\n",
      "53/53 [==============================] - ETA: 0s - loss: 0.0210 - accuracy: 0.9933\n",
      "Epoch 55: saving model to new_hand_classifier.hdf5\n",
      "53/53 [==============================] - 1s 12ms/step - loss: 0.0210 - accuracy: 0.9933 - val_loss: 0.0056 - val_accuracy: 0.9977\n",
      "Epoch 56/1000\n",
      "48/53 [==========================>...] - ETA: 0s - loss: 0.0162 - accuracy: 0.9954\n",
      "Epoch 56: saving model to new_hand_classifier.hdf5\n",
      "53/53 [==============================] - 1s 10ms/step - loss: 0.0157 - accuracy: 0.9954 - val_loss: 0.0093 - val_accuracy: 0.9977\n",
      "Epoch 57/1000\n",
      "53/53 [==============================] - ETA: 0s - loss: 0.0139 - accuracy: 0.9955\n",
      "Epoch 57: saving model to new_hand_classifier.hdf5\n",
      "53/53 [==============================] - 1s 10ms/step - loss: 0.0139 - accuracy: 0.9955 - val_loss: 0.0059 - val_accuracy: 0.9977\n",
      "Epoch 58/1000\n",
      "53/53 [==============================] - ETA: 0s - loss: 0.0110 - accuracy: 0.9970\n",
      "Epoch 58: saving model to new_hand_classifier.hdf5\n",
      "53/53 [==============================] - 1s 11ms/step - loss: 0.0110 - accuracy: 0.9970 - val_loss: 0.0053 - val_accuracy: 1.0000\n",
      "Epoch 59/1000\n",
      "49/53 [==========================>...] - ETA: 0s - loss: 0.0145 - accuracy: 0.9963\n",
      "Epoch 59: saving model to new_hand_classifier.hdf5\n",
      "53/53 [==============================] - 1s 11ms/step - loss: 0.0143 - accuracy: 0.9961 - val_loss: 0.0058 - val_accuracy: 0.9977\n",
      "Epoch 60/1000\n",
      "49/53 [==========================>...] - ETA: 0s - loss: 0.0122 - accuracy: 0.9960\n",
      "Epoch 60: saving model to new_hand_classifier.hdf5\n",
      "53/53 [==============================] - 1s 10ms/step - loss: 0.0117 - accuracy: 0.9963 - val_loss: 0.0052 - val_accuracy: 0.9977\n",
      "Epoch 61/1000\n",
      "51/53 [===========================>..] - ETA: 0s - loss: 0.0107 - accuracy: 0.9966\n",
      "Epoch 61: saving model to new_hand_classifier.hdf5\n",
      "53/53 [==============================] - 1s 10ms/step - loss: 0.0107 - accuracy: 0.9966 - val_loss: 0.0039 - val_accuracy: 0.9988\n",
      "Epoch 62/1000\n",
      "50/53 [===========================>..] - ETA: 0s - loss: 0.0138 - accuracy: 0.9958\n",
      "Epoch 62: saving model to new_hand_classifier.hdf5\n",
      "53/53 [==============================] - 1s 10ms/step - loss: 0.0137 - accuracy: 0.9958 - val_loss: 0.0045 - val_accuracy: 1.0000\n",
      "Epoch 63/1000\n",
      "48/53 [==========================>...] - ETA: 0s - loss: 0.0177 - accuracy: 0.9950\n",
      "Epoch 63: saving model to new_hand_classifier.hdf5\n",
      "53/53 [==============================] - 1s 10ms/step - loss: 0.0173 - accuracy: 0.9951 - val_loss: 0.0052 - val_accuracy: 0.9965\n",
      "Epoch 64/1000\n",
      "50/53 [===========================>..] - ETA: 0s - loss: 0.0111 - accuracy: 0.9966\n",
      "Epoch 64: saving model to new_hand_classifier.hdf5\n",
      "53/53 [==============================] - 1s 10ms/step - loss: 0.0108 - accuracy: 0.9967 - val_loss: 0.0084 - val_accuracy: 0.9977\n",
      "Epoch 65/1000\n",
      "48/53 [==========================>...] - ETA: 0s - loss: 0.0152 - accuracy: 0.9954\n",
      "Epoch 65: saving model to new_hand_classifier.hdf5\n",
      "53/53 [==============================] - 1s 11ms/step - loss: 0.0162 - accuracy: 0.9951 - val_loss: 0.0061 - val_accuracy: 0.9965\n",
      "Epoch 66/1000\n",
      "50/53 [===========================>..] - ETA: 0s - loss: 0.0157 - accuracy: 0.9955\n",
      "Epoch 66: saving model to new_hand_classifier.hdf5\n",
      "53/53 [==============================] - 1s 11ms/step - loss: 0.0171 - accuracy: 0.9952 - val_loss: 0.0110 - val_accuracy: 0.9977\n",
      "Epoch 67/1000\n",
      "47/53 [=========================>....] - ETA: 0s - loss: 0.0143 - accuracy: 0.9960\n",
      "Epoch 67: saving model to new_hand_classifier.hdf5\n",
      "53/53 [==============================] - 1s 10ms/step - loss: 0.0138 - accuracy: 0.9961 - val_loss: 0.0054 - val_accuracy: 0.9977\n",
      "Epoch 68/1000\n",
      "47/53 [=========================>....] - ETA: 0s - loss: 0.0211 - accuracy: 0.9927\n",
      "Epoch 68: saving model to new_hand_classifier.hdf5\n",
      "53/53 [==============================] - 1s 9ms/step - loss: 0.0203 - accuracy: 0.9930 - val_loss: 0.0047 - val_accuracy: 0.9977\n",
      "Epoch 69/1000\n",
      "49/53 [==========================>...] - ETA: 0s - loss: 0.0140 - accuracy: 0.9955\n",
      "Epoch 69: saving model to new_hand_classifier.hdf5\n",
      "53/53 [==============================] - 1s 10ms/step - loss: 0.0134 - accuracy: 0.9958 - val_loss: 0.0060 - val_accuracy: 0.9977\n",
      "Epoch 70/1000\n",
      "51/53 [===========================>..] - ETA: 0s - loss: 0.0119 - accuracy: 0.9971\n",
      "Epoch 70: saving model to new_hand_classifier.hdf5\n",
      "53/53 [==============================] - 1s 11ms/step - loss: 0.0118 - accuracy: 0.9970 - val_loss: 0.0046 - val_accuracy: 0.9977\n",
      "Epoch 71/1000\n",
      "48/53 [==========================>...] - ETA: 0s - loss: 0.0109 - accuracy: 0.9959\n",
      "Epoch 71: saving model to new_hand_classifier.hdf5\n",
      "53/53 [==============================] - 1s 11ms/step - loss: 0.0115 - accuracy: 0.9960 - val_loss: 0.0029 - val_accuracy: 0.9988\n",
      "Epoch 72/1000\n",
      "49/53 [==========================>...] - ETA: 0s - loss: 0.0101 - accuracy: 0.9967\n",
      "Epoch 72: saving model to new_hand_classifier.hdf5\n",
      "53/53 [==============================] - 1s 11ms/step - loss: 0.0106 - accuracy: 0.9966 - val_loss: 0.0027 - val_accuracy: 0.9977\n",
      "Epoch 73/1000\n",
      "53/53 [==============================] - ETA: 0s - loss: 0.0120 - accuracy: 0.9958\n",
      "Epoch 73: saving model to new_hand_classifier.hdf5\n",
      "53/53 [==============================] - 1s 12ms/step - loss: 0.0120 - accuracy: 0.9958 - val_loss: 0.0027 - val_accuracy: 0.9988\n",
      "Epoch 74/1000\n",
      "50/53 [===========================>..] - ETA: 0s - loss: 0.0130 - accuracy: 0.9972\n",
      "Epoch 74: saving model to new_hand_classifier.hdf5\n",
      "53/53 [==============================] - 1s 11ms/step - loss: 0.0125 - accuracy: 0.9973 - val_loss: 0.0031 - val_accuracy: 0.9977\n",
      "Epoch 75/1000\n",
      "49/53 [==========================>...] - ETA: 0s - loss: 0.0157 - accuracy: 0.9943\n",
      "Epoch 75: saving model to new_hand_classifier.hdf5\n",
      "53/53 [==============================] - 1s 11ms/step - loss: 0.0155 - accuracy: 0.9943 - val_loss: 0.0065 - val_accuracy: 0.9977\n",
      "Epoch 76/1000\n",
      "53/53 [==============================] - ETA: 0s - loss: 0.0133 - accuracy: 0.9966\n",
      "Epoch 76: saving model to new_hand_classifier.hdf5\n",
      "53/53 [==============================] - 1s 10ms/step - loss: 0.0133 - accuracy: 0.9966 - val_loss: 0.0041 - val_accuracy: 0.9977\n",
      "Epoch 77/1000\n",
      "53/53 [==============================] - ETA: 0s - loss: 0.0137 - accuracy: 0.9946\n",
      "Epoch 77: saving model to new_hand_classifier.hdf5\n",
      "53/53 [==============================] - 1s 10ms/step - loss: 0.0137 - accuracy: 0.9946 - val_loss: 0.0068 - val_accuracy: 0.9977\n",
      "Epoch 78/1000\n",
      "52/53 [============================>.] - ETA: 0s - loss: 0.0108 - accuracy: 0.9971\n",
      "Epoch 78: saving model to new_hand_classifier.hdf5\n",
      "53/53 [==============================] - 1s 12ms/step - loss: 0.0107 - accuracy: 0.9972 - val_loss: 0.0027 - val_accuracy: 0.9988\n",
      "Epoch 79/1000\n",
      "48/53 [==========================>...] - ETA: 0s - loss: 0.0098 - accuracy: 0.9971\n",
      "Epoch 79: saving model to new_hand_classifier.hdf5\n",
      "53/53 [==============================] - 1s 12ms/step - loss: 0.0104 - accuracy: 0.9967 - val_loss: 0.0062 - val_accuracy: 0.9977\n",
      "Epoch 80/1000\n",
      "51/53 [===========================>..] - ETA: 0s - loss: 0.0099 - accuracy: 0.9972\n",
      "Epoch 80: saving model to new_hand_classifier.hdf5\n",
      "53/53 [==============================] - 1s 11ms/step - loss: 0.0097 - accuracy: 0.9973 - val_loss: 0.0028 - val_accuracy: 0.9977\n",
      "Epoch 81/1000\n",
      "49/53 [==========================>...] - ETA: 0s - loss: 0.0082 - accuracy: 0.9973\n",
      "Epoch 81: saving model to new_hand_classifier.hdf5\n",
      "53/53 [==============================] - 1s 11ms/step - loss: 0.0083 - accuracy: 0.9973 - val_loss: 0.0027 - val_accuracy: 0.9977\n",
      "Epoch 82/1000\n",
      "48/53 [==========================>...] - ETA: 0s - loss: 0.0124 - accuracy: 0.9959\n",
      "Epoch 82: saving model to new_hand_classifier.hdf5\n",
      "53/53 [==============================] - 1s 10ms/step - loss: 0.0122 - accuracy: 0.9961 - val_loss: 0.0062 - val_accuracy: 0.9965\n",
      "Epoch 83/1000\n",
      "50/53 [===========================>..] - ETA: 0s - loss: 0.0088 - accuracy: 0.9973\n",
      "Epoch 83: saving model to new_hand_classifier.hdf5\n",
      "53/53 [==============================] - 1s 11ms/step - loss: 0.0091 - accuracy: 0.9972 - val_loss: 0.0021 - val_accuracy: 0.9988\n",
      "Epoch 84/1000\n",
      "50/53 [===========================>..] - ETA: 0s - loss: 0.0114 - accuracy: 0.9967\n",
      "Epoch 84: saving model to new_hand_classifier.hdf5\n",
      "53/53 [==============================] - 1s 10ms/step - loss: 0.0113 - accuracy: 0.9969 - val_loss: 0.0024 - val_accuracy: 0.9988\n",
      "Epoch 85/1000\n",
      "49/53 [==========================>...] - ETA: 0s - loss: 0.0082 - accuracy: 0.9978\n",
      "Epoch 85: saving model to new_hand_classifier.hdf5\n",
      "53/53 [==============================] - 1s 11ms/step - loss: 0.0079 - accuracy: 0.9978 - val_loss: 0.0038 - val_accuracy: 0.9977\n",
      "Epoch 86/1000\n",
      "52/53 [============================>.] - ETA: 0s - loss: 0.0085 - accuracy: 0.9968\n",
      "Epoch 86: saving model to new_hand_classifier.hdf5\n",
      "53/53 [==============================] - 1s 11ms/step - loss: 0.0084 - accuracy: 0.9969 - val_loss: 0.0016 - val_accuracy: 0.9988\n",
      "Epoch 87/1000\n",
      "52/53 [============================>.] - ETA: 0s - loss: 0.0083 - accuracy: 0.9982\n",
      "Epoch 87: saving model to new_hand_classifier.hdf5\n",
      "53/53 [==============================] - 1s 10ms/step - loss: 0.0083 - accuracy: 0.9982 - val_loss: 0.0025 - val_accuracy: 0.9977\n",
      "Epoch 88/1000\n",
      "49/53 [==========================>...] - ETA: 0s - loss: 0.0082 - accuracy: 0.9978\n",
      "Epoch 88: saving model to new_hand_classifier.hdf5\n",
      "53/53 [==============================] - 1s 10ms/step - loss: 0.0078 - accuracy: 0.9979 - val_loss: 0.0044 - val_accuracy: 0.9977\n",
      "Epoch 89/1000\n",
      "49/53 [==========================>...] - ETA: 0s - loss: 0.0094 - accuracy: 0.9971\n",
      "Epoch 89: saving model to new_hand_classifier.hdf5\n",
      "53/53 [==============================] - 1s 10ms/step - loss: 0.0092 - accuracy: 0.9972 - val_loss: 0.0017 - val_accuracy: 1.0000\n",
      "Epoch 90/1000\n",
      "48/53 [==========================>...] - ETA: 0s - loss: 0.0082 - accuracy: 0.9979\n",
      "Epoch 90: saving model to new_hand_classifier.hdf5\n",
      "53/53 [==============================] - 1s 10ms/step - loss: 0.0079 - accuracy: 0.9979 - val_loss: 0.0048 - val_accuracy: 0.9977\n",
      "Epoch 91/1000\n",
      "46/53 [=========================>....] - ETA: 0s - loss: 0.0071 - accuracy: 0.9978\n",
      "Epoch 91: saving model to new_hand_classifier.hdf5\n",
      "53/53 [==============================] - 0s 9ms/step - loss: 0.0073 - accuracy: 0.9976 - val_loss: 0.0040 - val_accuracy: 0.9977\n",
      "Epoch 92/1000\n",
      "48/53 [==========================>...] - ETA: 0s - loss: 0.0089 - accuracy: 0.9980\n",
      "Epoch 92: saving model to new_hand_classifier.hdf5\n",
      "53/53 [==============================] - 1s 10ms/step - loss: 0.0099 - accuracy: 0.9973 - val_loss: 0.0021 - val_accuracy: 0.9988\n",
      "Epoch 93/1000\n",
      "50/53 [===========================>..] - ETA: 0s - loss: 0.0153 - accuracy: 0.9937\n",
      "Epoch 93: saving model to new_hand_classifier.hdf5\n",
      "53/53 [==============================] - 1s 11ms/step - loss: 0.0149 - accuracy: 0.9939 - val_loss: 0.0024 - val_accuracy: 0.9988\n",
      "Epoch 94/1000\n",
      "50/53 [===========================>..] - ETA: 0s - loss: 0.0087 - accuracy: 0.9975\n",
      "Epoch 94: saving model to new_hand_classifier.hdf5\n",
      "53/53 [==============================] - 1s 11ms/step - loss: 0.0086 - accuracy: 0.9976 - val_loss: 0.0027 - val_accuracy: 0.9977\n",
      "Epoch 95/1000\n",
      "50/53 [===========================>..] - ETA: 0s - loss: 0.0076 - accuracy: 0.9972\n",
      "Epoch 95: saving model to new_hand_classifier.hdf5\n",
      "53/53 [==============================] - 1s 11ms/step - loss: 0.0076 - accuracy: 0.9972 - val_loss: 0.0075 - val_accuracy: 0.9977\n",
      "Epoch 96/1000\n",
      "49/53 [==========================>...] - ETA: 0s - loss: 0.0117 - accuracy: 0.9967\n",
      "Epoch 96: saving model to new_hand_classifier.hdf5\n",
      "53/53 [==============================] - 1s 11ms/step - loss: 0.0112 - accuracy: 0.9967 - val_loss: 0.0074 - val_accuracy: 0.9977\n",
      "Epoch 97/1000\n",
      "52/53 [============================>.] - ETA: 0s - loss: 0.0096 - accuracy: 0.9965\n",
      "Epoch 97: saving model to new_hand_classifier.hdf5\n",
      "53/53 [==============================] - 1s 10ms/step - loss: 0.0095 - accuracy: 0.9966 - val_loss: 0.0025 - val_accuracy: 0.9988\n",
      "Epoch 98/1000\n",
      "51/53 [===========================>..] - ETA: 0s - loss: 0.0148 - accuracy: 0.9951\n",
      "Epoch 98: saving model to new_hand_classifier.hdf5\n",
      "53/53 [==============================] - 1s 11ms/step - loss: 0.0145 - accuracy: 0.9952 - val_loss: 0.0028 - val_accuracy: 0.9977\n",
      "Epoch 99/1000\n",
      "49/53 [==========================>...] - ETA: 0s - loss: 0.0085 - accuracy: 0.9976\n",
      "Epoch 99: saving model to new_hand_classifier.hdf5\n",
      "53/53 [==============================] - 0s 9ms/step - loss: 0.0081 - accuracy: 0.9978 - val_loss: 0.0014 - val_accuracy: 1.0000\n",
      "Epoch 100/1000\n",
      "50/53 [===========================>..] - ETA: 0s - loss: 0.0100 - accuracy: 0.9967\n",
      "Epoch 100: saving model to new_hand_classifier.hdf5\n",
      "53/53 [==============================] - 1s 10ms/step - loss: 0.0097 - accuracy: 0.9969 - val_loss: 0.0021 - val_accuracy: 0.9977\n",
      "Epoch 101/1000\n",
      "49/53 [==========================>...] - ETA: 0s - loss: 0.0098 - accuracy: 0.9973\n",
      "Epoch 101: saving model to new_hand_classifier.hdf5\n",
      "53/53 [==============================] - 1s 11ms/step - loss: 0.0096 - accuracy: 0.9972 - val_loss: 0.0025 - val_accuracy: 0.9988\n",
      "Epoch 102/1000\n",
      "49/53 [==========================>...] - ETA: 0s - loss: 0.0052 - accuracy: 0.9981\n",
      "Epoch 102: saving model to new_hand_classifier.hdf5\n",
      "53/53 [==============================] - 1s 11ms/step - loss: 0.0054 - accuracy: 0.9981 - val_loss: 0.0033 - val_accuracy: 0.9977\n",
      "Epoch 103/1000\n",
      "51/53 [===========================>..] - ETA: 0s - loss: 0.0099 - accuracy: 0.9966\n",
      "Epoch 103: saving model to new_hand_classifier.hdf5\n",
      "53/53 [==============================] - 1s 12ms/step - loss: 0.0097 - accuracy: 0.9967 - val_loss: 7.8853e-04 - val_accuracy: 1.0000\n",
      "Epoch 104/1000\n",
      "53/53 [==============================] - ETA: 0s - loss: 0.0089 - accuracy: 0.9973\n",
      "Epoch 104: saving model to new_hand_classifier.hdf5\n",
      "53/53 [==============================] - 1s 10ms/step - loss: 0.0089 - accuracy: 0.9973 - val_loss: 0.0016 - val_accuracy: 1.0000\n",
      "Epoch 105/1000\n",
      "48/53 [==========================>...] - ETA: 0s - loss: 0.0057 - accuracy: 0.9982\n",
      "Epoch 105: saving model to new_hand_classifier.hdf5\n",
      "53/53 [==============================] - 1s 11ms/step - loss: 0.0058 - accuracy: 0.9982 - val_loss: 0.0024 - val_accuracy: 0.9977\n",
      "Epoch 106/1000\n",
      "51/53 [===========================>..] - ETA: 0s - loss: 0.0059 - accuracy: 0.9985\n",
      "Epoch 106: saving model to new_hand_classifier.hdf5\n",
      "53/53 [==============================] - 1s 11ms/step - loss: 0.0060 - accuracy: 0.9984 - val_loss: 9.1639e-04 - val_accuracy: 1.0000\n",
      "Epoch 107/1000\n",
      "48/53 [==========================>...] - ETA: 0s - loss: 0.0078 - accuracy: 0.9974\n",
      "Epoch 107: saving model to new_hand_classifier.hdf5\n",
      "53/53 [==============================] - 1s 10ms/step - loss: 0.0075 - accuracy: 0.9975 - val_loss: 0.0019 - val_accuracy: 0.9988\n",
      "Epoch 108/1000\n",
      "53/53 [==============================] - ETA: 0s - loss: 0.0046 - accuracy: 0.9987\n",
      "Epoch 108: saving model to new_hand_classifier.hdf5\n",
      "53/53 [==============================] - 1s 10ms/step - loss: 0.0046 - accuracy: 0.9987 - val_loss: 9.9557e-04 - val_accuracy: 1.0000\n",
      "Epoch 109/1000\n",
      "51/53 [===========================>..] - ETA: 0s - loss: 0.0061 - accuracy: 0.9989\n",
      "Epoch 109: saving model to new_hand_classifier.hdf5\n",
      "53/53 [==============================] - 1s 11ms/step - loss: 0.0065 - accuracy: 0.9988 - val_loss: 0.0088 - val_accuracy: 0.9977\n",
      "Epoch 110/1000\n",
      "52/53 [============================>.] - ETA: 0s - loss: 0.0065 - accuracy: 0.9974\n",
      "Epoch 110: saving model to new_hand_classifier.hdf5\n",
      "53/53 [==============================] - 1s 11ms/step - loss: 0.0065 - accuracy: 0.9975 - val_loss: 3.0926e-04 - val_accuracy: 1.0000\n",
      "Epoch 111/1000\n",
      "48/53 [==========================>...] - ETA: 0s - loss: 0.0122 - accuracy: 0.9954\n",
      "Epoch 111: saving model to new_hand_classifier.hdf5\n",
      "53/53 [==============================] - 1s 11ms/step - loss: 0.0119 - accuracy: 0.9955 - val_loss: 0.0039 - val_accuracy: 0.9977\n",
      "Epoch 112/1000\n",
      "49/53 [==========================>...] - ETA: 0s - loss: 0.0070 - accuracy: 0.9976\n",
      "Epoch 112: saving model to new_hand_classifier.hdf5\n",
      "53/53 [==============================] - 1s 12ms/step - loss: 0.0068 - accuracy: 0.9978 - val_loss: 9.1118e-04 - val_accuracy: 1.0000\n",
      "Epoch 113/1000\n",
      "49/53 [==========================>...] - ETA: 0s - loss: 0.0046 - accuracy: 0.9989\n",
      "Epoch 113: saving model to new_hand_classifier.hdf5\n",
      "53/53 [==============================] - 1s 10ms/step - loss: 0.0049 - accuracy: 0.9987 - val_loss: 0.0021 - val_accuracy: 0.9988\n",
      "Epoch 114/1000\n",
      "48/53 [==========================>...] - ETA: 0s - loss: 0.0063 - accuracy: 0.9977\n",
      "Epoch 114: saving model to new_hand_classifier.hdf5\n",
      "53/53 [==============================] - 1s 10ms/step - loss: 0.0061 - accuracy: 0.9979 - val_loss: 4.6137e-04 - val_accuracy: 1.0000\n",
      "Epoch 115/1000\n",
      "51/53 [===========================>..] - ETA: 0s - loss: 0.0095 - accuracy: 0.9971\n",
      "Epoch 115: saving model to new_hand_classifier.hdf5\n",
      "53/53 [==============================] - 1s 11ms/step - loss: 0.0095 - accuracy: 0.9970 - val_loss: 8.3157e-04 - val_accuracy: 1.0000\n",
      "Epoch 116/1000\n",
      "48/53 [==========================>...] - ETA: 0s - loss: 0.0073 - accuracy: 0.9976\n",
      "Epoch 116: saving model to new_hand_classifier.hdf5\n",
      "53/53 [==============================] - 1s 10ms/step - loss: 0.0069 - accuracy: 0.9976 - val_loss: 9.5832e-04 - val_accuracy: 1.0000\n",
      "Epoch 117/1000\n",
      "49/53 [==========================>...] - ETA: 0s - loss: 0.0075 - accuracy: 0.9976\n",
      "Epoch 117: saving model to new_hand_classifier.hdf5\n",
      "53/53 [==============================] - 1s 11ms/step - loss: 0.0073 - accuracy: 0.9978 - val_loss: 8.3097e-04 - val_accuracy: 1.0000\n",
      "Epoch 118/1000\n",
      "47/53 [=========================>....] - ETA: 0s - loss: 0.0050 - accuracy: 0.9983\n",
      "Epoch 118: saving model to new_hand_classifier.hdf5\n",
      "53/53 [==============================] - 1s 10ms/step - loss: 0.0054 - accuracy: 0.9982 - val_loss: 0.0016 - val_accuracy: 0.9988\n",
      "Epoch 119/1000\n",
      "48/53 [==========================>...] - ETA: 0s - loss: 0.0066 - accuracy: 0.9984\n",
      "Epoch 119: saving model to new_hand_classifier.hdf5\n",
      "53/53 [==============================] - 1s 10ms/step - loss: 0.0067 - accuracy: 0.9984 - val_loss: 6.1224e-04 - val_accuracy: 1.0000\n",
      "Epoch 120/1000\n",
      "52/53 [============================>.] - ETA: 0s - loss: 0.0045 - accuracy: 0.9985\n",
      "Epoch 120: saving model to new_hand_classifier.hdf5\n",
      "53/53 [==============================] - 1s 11ms/step - loss: 0.0044 - accuracy: 0.9985 - val_loss: 3.7320e-04 - val_accuracy: 1.0000\n",
      "Epoch 121/1000\n",
      "49/53 [==========================>...] - ETA: 0s - loss: 0.0064 - accuracy: 0.9978\n",
      "Epoch 121: saving model to new_hand_classifier.hdf5\n",
      "53/53 [==============================] - 1s 10ms/step - loss: 0.0061 - accuracy: 0.9979 - val_loss: 0.0041 - val_accuracy: 0.9977\n",
      "Epoch 122/1000\n",
      "49/53 [==========================>...] - ETA: 0s - loss: 0.0072 - accuracy: 0.9981\n",
      "Epoch 122: saving model to new_hand_classifier.hdf5\n",
      "53/53 [==============================] - 1s 11ms/step - loss: 0.0069 - accuracy: 0.9982 - val_loss: 0.0041 - val_accuracy: 0.9977\n",
      "Epoch 123/1000\n",
      "51/53 [===========================>..] - ETA: 0s - loss: 0.0071 - accuracy: 0.9972\n",
      "Epoch 123: saving model to new_hand_classifier.hdf5\n",
      "53/53 [==============================] - 1s 12ms/step - loss: 0.0069 - accuracy: 0.9973 - val_loss: 2.5048e-04 - val_accuracy: 1.0000\n",
      "Epoch 124/1000\n",
      "53/53 [==============================] - ETA: 0s - loss: 0.0082 - accuracy: 0.9975\n",
      "Epoch 124: saving model to new_hand_classifier.hdf5\n",
      "53/53 [==============================] - 1s 10ms/step - loss: 0.0082 - accuracy: 0.9975 - val_loss: 0.0013 - val_accuracy: 1.0000\n",
      "Epoch 125/1000\n",
      "48/53 [==========================>...] - ETA: 0s - loss: 0.0097 - accuracy: 0.9969\n",
      "Epoch 125: saving model to new_hand_classifier.hdf5\n",
      "53/53 [==============================] - 1s 10ms/step - loss: 0.0097 - accuracy: 0.9970 - val_loss: 5.5422e-04 - val_accuracy: 1.0000\n",
      "Epoch 126/1000\n",
      "52/53 [============================>.] - ETA: 0s - loss: 0.0098 - accuracy: 0.9970\n",
      "Epoch 126: saving model to new_hand_classifier.hdf5\n",
      "53/53 [==============================] - 1s 10ms/step - loss: 0.0098 - accuracy: 0.9970 - val_loss: 0.0035 - val_accuracy: 0.9977\n",
      "Epoch 127/1000\n",
      "52/53 [============================>.] - ETA: 0s - loss: 0.0070 - accuracy: 0.9979\n",
      "Epoch 127: saving model to new_hand_classifier.hdf5\n",
      "53/53 [==============================] - 1s 10ms/step - loss: 0.0070 - accuracy: 0.9979 - val_loss: 0.0021 - val_accuracy: 0.9988\n",
      "Epoch 128/1000\n",
      "53/53 [==============================] - ETA: 0s - loss: 0.0051 - accuracy: 0.9988\n",
      "Epoch 128: saving model to new_hand_classifier.hdf5\n",
      "53/53 [==============================] - 1s 10ms/step - loss: 0.0051 - accuracy: 0.9988 - val_loss: 6.7110e-04 - val_accuracy: 1.0000\n",
      "Epoch 129/1000\n",
      "49/53 [==========================>...] - ETA: 0s - loss: 0.0054 - accuracy: 0.9978\n",
      "Epoch 129: saving model to new_hand_classifier.hdf5\n",
      "53/53 [==============================] - 1s 10ms/step - loss: 0.0051 - accuracy: 0.9979 - val_loss: 0.0032 - val_accuracy: 0.9977\n",
      "Epoch 130/1000\n",
      "52/53 [============================>.] - ETA: 0s - loss: 0.0036 - accuracy: 0.9992\n",
      "Epoch 130: saving model to new_hand_classifier.hdf5\n",
      "53/53 [==============================] - 1s 10ms/step - loss: 0.0036 - accuracy: 0.9993 - val_loss: 0.0016 - val_accuracy: 0.9988\n",
      "Epoch 131/1000\n",
      "51/53 [===========================>..] - ETA: 0s - loss: 0.0038 - accuracy: 0.9986\n",
      "Epoch 131: saving model to new_hand_classifier.hdf5\n",
      "53/53 [==============================] - 1s 10ms/step - loss: 0.0037 - accuracy: 0.9987 - val_loss: 0.0015 - val_accuracy: 1.0000\n",
      "Epoch 132/1000\n",
      "48/53 [==========================>...] - ETA: 0s - loss: 0.0027 - accuracy: 0.9990\n",
      "Epoch 132: saving model to new_hand_classifier.hdf5\n",
      "53/53 [==============================] - 1s 10ms/step - loss: 0.0027 - accuracy: 0.9991 - val_loss: 3.1483e-04 - val_accuracy: 1.0000\n",
      "Epoch 133/1000\n",
      "47/53 [=========================>....] - ETA: 0s - loss: 0.0069 - accuracy: 0.9978\n",
      "Epoch 133: saving model to new_hand_classifier.hdf5\n",
      "53/53 [==============================] - 1s 10ms/step - loss: 0.0070 - accuracy: 0.9976 - val_loss: 0.0020 - val_accuracy: 0.9988\n",
      "Epoch 134/1000\n",
      "50/53 [===========================>..] - ETA: 0s - loss: 0.0072 - accuracy: 0.9970\n",
      "Epoch 134: saving model to new_hand_classifier.hdf5\n",
      "53/53 [==============================] - 1s 10ms/step - loss: 0.0074 - accuracy: 0.9969 - val_loss: 6.7771e-04 - val_accuracy: 1.0000\n",
      "Epoch 135/1000\n",
      "51/53 [===========================>..] - ETA: 0s - loss: 0.0045 - accuracy: 0.9983\n",
      "Epoch 135: saving model to new_hand_classifier.hdf5\n",
      "53/53 [==============================] - 0s 9ms/step - loss: 0.0045 - accuracy: 0.9984 - val_loss: 0.0122 - val_accuracy: 0.9977\n",
      "Epoch 136/1000\n",
      "49/53 [==========================>...] - ETA: 0s - loss: 0.0045 - accuracy: 0.9986\n",
      "Epoch 136: saving model to new_hand_classifier.hdf5\n",
      "53/53 [==============================] - 1s 10ms/step - loss: 0.0044 - accuracy: 0.9985 - val_loss: 0.0011 - val_accuracy: 1.0000\n",
      "Epoch 137/1000\n",
      "48/53 [==========================>...] - ETA: 0s - loss: 0.0092 - accuracy: 0.9964\n",
      "Epoch 137: saving model to new_hand_classifier.hdf5\n",
      "53/53 [==============================] - 1s 11ms/step - loss: 0.0086 - accuracy: 0.9966 - val_loss: 0.0050 - val_accuracy: 0.9977\n",
      "Epoch 138/1000\n",
      "48/53 [==========================>...] - ETA: 0s - loss: 0.0040 - accuracy: 0.9984\n",
      "Epoch 138: saving model to new_hand_classifier.hdf5\n",
      "53/53 [==============================] - 1s 10ms/step - loss: 0.0042 - accuracy: 0.9984 - val_loss: 3.6770e-04 - val_accuracy: 1.0000\n",
      "Epoch 139/1000\n",
      "48/53 [==========================>...] - ETA: 0s - loss: 0.0055 - accuracy: 0.9984\n",
      "Epoch 139: saving model to new_hand_classifier.hdf5\n",
      "53/53 [==============================] - 1s 10ms/step - loss: 0.0055 - accuracy: 0.9982 - val_loss: 0.0010 - val_accuracy: 1.0000\n",
      "Epoch 140/1000\n",
      "48/53 [==========================>...] - ETA: 0s - loss: 0.0043 - accuracy: 0.9989\n",
      "Epoch 140: saving model to new_hand_classifier.hdf5\n",
      "53/53 [==============================] - 1s 12ms/step - loss: 0.0049 - accuracy: 0.9985 - val_loss: 0.0022 - val_accuracy: 0.9977\n",
      "Epoch 141/1000\n",
      "47/53 [=========================>....] - ETA: 0s - loss: 0.0047 - accuracy: 0.9983\n",
      "Epoch 141: saving model to new_hand_classifier.hdf5\n",
      "53/53 [==============================] - 1s 11ms/step - loss: 0.0046 - accuracy: 0.9984 - val_loss: 3.8620e-04 - val_accuracy: 1.0000\n",
      "Epoch 142/1000\n",
      "50/53 [===========================>..] - ETA: 0s - loss: 0.0052 - accuracy: 0.9981\n",
      "Epoch 142: saving model to new_hand_classifier.hdf5\n",
      "53/53 [==============================] - 1s 11ms/step - loss: 0.0055 - accuracy: 0.9981 - val_loss: 9.6812e-05 - val_accuracy: 1.0000\n",
      "Epoch 143/1000\n",
      "53/53 [==============================] - ETA: 0s - loss: 0.0072 - accuracy: 0.9982\n",
      "Epoch 143: saving model to new_hand_classifier.hdf5\n",
      "53/53 [==============================] - 0s 9ms/step - loss: 0.0072 - accuracy: 0.9982 - val_loss: 2.6066e-04 - val_accuracy: 1.0000\n",
      "Epoch 144/1000\n",
      "50/53 [===========================>..] - ETA: 0s - loss: 0.0038 - accuracy: 0.9987\n",
      "Epoch 144: saving model to new_hand_classifier.hdf5\n",
      "53/53 [==============================] - 1s 11ms/step - loss: 0.0038 - accuracy: 0.9987 - val_loss: 0.0015 - val_accuracy: 1.0000\n",
      "Epoch 145/1000\n",
      "49/53 [==========================>...] - ETA: 0s - loss: 0.0030 - accuracy: 0.9989\n",
      "Epoch 145: saving model to new_hand_classifier.hdf5\n",
      "53/53 [==============================] - 1s 11ms/step - loss: 0.0046 - accuracy: 0.9985 - val_loss: 0.0026 - val_accuracy: 0.9977\n",
      "Epoch 146/1000\n",
      "50/53 [===========================>..] - ETA: 0s - loss: 0.0044 - accuracy: 0.9987\n",
      "Epoch 146: saving model to new_hand_classifier.hdf5\n",
      "53/53 [==============================] - 1s 11ms/step - loss: 0.0043 - accuracy: 0.9988 - val_loss: 9.1381e-04 - val_accuracy: 1.0000\n",
      "Epoch 147/1000\n",
      "51/53 [===========================>..] - ETA: 0s - loss: 0.0052 - accuracy: 0.9985\n",
      "Epoch 147: saving model to new_hand_classifier.hdf5\n",
      "53/53 [==============================] - 1s 11ms/step - loss: 0.0051 - accuracy: 0.9985 - val_loss: 1.2996e-04 - val_accuracy: 1.0000\n",
      "Epoch 148/1000\n",
      "48/53 [==========================>...] - ETA: 0s - loss: 0.0048 - accuracy: 0.9985\n",
      "Epoch 148: saving model to new_hand_classifier.hdf5\n",
      "53/53 [==============================] - 1s 11ms/step - loss: 0.0046 - accuracy: 0.9985 - val_loss: 0.0057 - val_accuracy: 0.9977\n",
      "Epoch 149/1000\n",
      "50/53 [===========================>..] - ETA: 0s - loss: 0.0062 - accuracy: 0.9981\n",
      "Epoch 149: saving model to new_hand_classifier.hdf5\n",
      "53/53 [==============================] - 1s 10ms/step - loss: 0.0059 - accuracy: 0.9982 - val_loss: 3.5614e-04 - val_accuracy: 1.0000\n",
      "Epoch 150/1000\n",
      "49/53 [==========================>...] - ETA: 0s - loss: 0.0068 - accuracy: 0.9974\n",
      "Epoch 150: saving model to new_hand_classifier.hdf5\n",
      "53/53 [==============================] - 1s 10ms/step - loss: 0.0064 - accuracy: 0.9976 - val_loss: 0.0035 - val_accuracy: 0.9977\n",
      "Epoch 151/1000\n",
      "47/53 [=========================>....] - ETA: 0s - loss: 0.0055 - accuracy: 0.9978\n",
      "Epoch 151: saving model to new_hand_classifier.hdf5\n",
      "53/53 [==============================] - 1s 10ms/step - loss: 0.0056 - accuracy: 0.9978 - val_loss: 1.9867e-04 - val_accuracy: 1.0000\n",
      "Epoch 152/1000\n",
      "53/53 [==============================] - ETA: 0s - loss: 0.0027 - accuracy: 0.9993\n",
      "Epoch 152: saving model to new_hand_classifier.hdf5\n",
      "53/53 [==============================] - 1s 10ms/step - loss: 0.0027 - accuracy: 0.9993 - val_loss: 0.0026 - val_accuracy: 0.9988\n",
      "Epoch 153/1000\n",
      "53/53 [==============================] - ETA: 0s - loss: 0.0032 - accuracy: 0.9990\n",
      "Epoch 153: saving model to new_hand_classifier.hdf5\n",
      "53/53 [==============================] - 1s 10ms/step - loss: 0.0032 - accuracy: 0.9990 - val_loss: 2.0516e-04 - val_accuracy: 1.0000\n",
      "Epoch 154/1000\n",
      "47/53 [=========================>....] - ETA: 0s - loss: 0.0045 - accuracy: 0.9980\n",
      "Epoch 154: saving model to new_hand_classifier.hdf5\n",
      "53/53 [==============================] - 1s 10ms/step - loss: 0.0045 - accuracy: 0.9981 - val_loss: 0.0011 - val_accuracy: 0.9988\n",
      "Epoch 155/1000\n",
      "51/53 [===========================>..] - ETA: 0s - loss: 0.0032 - accuracy: 0.9989\n",
      "Epoch 155: saving model to new_hand_classifier.hdf5\n",
      "53/53 [==============================] - 1s 11ms/step - loss: 0.0031 - accuracy: 0.9990 - val_loss: 7.4289e-04 - val_accuracy: 1.0000\n",
      "Epoch 156/1000\n",
      "53/53 [==============================] - ETA: 0s - loss: 0.0037 - accuracy: 0.9987\n",
      "Epoch 156: saving model to new_hand_classifier.hdf5\n",
      "53/53 [==============================] - 1s 11ms/step - loss: 0.0037 - accuracy: 0.9987 - val_loss: 2.0859e-04 - val_accuracy: 1.0000\n",
      "Epoch 157/1000\n",
      "50/53 [===========================>..] - ETA: 0s - loss: 0.0072 - accuracy: 0.9980\n",
      "Epoch 157: saving model to new_hand_classifier.hdf5\n",
      "53/53 [==============================] - 1s 9ms/step - loss: 0.0071 - accuracy: 0.9979 - val_loss: 0.0021 - val_accuracy: 0.9988\n",
      "Epoch 158/1000\n",
      "48/53 [==========================>...] - ETA: 0s - loss: 0.0058 - accuracy: 0.9985\n",
      "Epoch 158: saving model to new_hand_classifier.hdf5\n",
      "53/53 [==============================] - 1s 10ms/step - loss: 0.0056 - accuracy: 0.9985 - val_loss: 2.7499e-04 - val_accuracy: 1.0000\n",
      "Epoch 159/1000\n",
      "53/53 [==============================] - ETA: 0s - loss: 0.0086 - accuracy: 0.9973\n",
      "Epoch 159: saving model to new_hand_classifier.hdf5\n",
      "53/53 [==============================] - 1s 13ms/step - loss: 0.0086 - accuracy: 0.9973 - val_loss: 0.0013 - val_accuracy: 0.9988\n",
      "Epoch 160/1000\n",
      "53/53 [==============================] - ETA: 0s - loss: 0.0034 - accuracy: 0.9990\n",
      "Epoch 160: saving model to new_hand_classifier.hdf5\n",
      "53/53 [==============================] - 1s 13ms/step - loss: 0.0034 - accuracy: 0.9990 - val_loss: 0.0021 - val_accuracy: 0.9988\n",
      "Epoch 161/1000\n",
      "49/53 [==========================>...] - ETA: 0s - loss: 0.0052 - accuracy: 0.9981\n",
      "Epoch 161: saving model to new_hand_classifier.hdf5\n",
      "53/53 [==============================] - 1s 11ms/step - loss: 0.0054 - accuracy: 0.9981 - val_loss: 6.6542e-05 - val_accuracy: 1.0000\n",
      "Epoch 162/1000\n",
      "51/53 [===========================>..] - ETA: 0s - loss: 0.0065 - accuracy: 0.9977\n",
      "Epoch 162: saving model to new_hand_classifier.hdf5\n",
      "53/53 [==============================] - 1s 11ms/step - loss: 0.0073 - accuracy: 0.9976 - val_loss: 0.0011 - val_accuracy: 0.9988\n",
      "Epoch 163/1000\n",
      "47/53 [=========================>....] - ETA: 0s - loss: 0.0049 - accuracy: 0.9982\n",
      "Epoch 163: saving model to new_hand_classifier.hdf5\n",
      "53/53 [==============================] - 1s 10ms/step - loss: 0.0047 - accuracy: 0.9984 - val_loss: 4.3604e-05 - val_accuracy: 1.0000\n",
      "Epoch 164/1000\n",
      "52/53 [============================>.] - ETA: 0s - loss: 0.0074 - accuracy: 0.9974\n",
      "Epoch 164: saving model to new_hand_classifier.hdf5\n",
      "53/53 [==============================] - 1s 10ms/step - loss: 0.0073 - accuracy: 0.9975 - val_loss: 1.1892e-04 - val_accuracy: 1.0000\n",
      "Epoch 165/1000\n",
      "49/53 [==========================>...] - ETA: 0s - loss: 0.0039 - accuracy: 0.9987\n",
      "Epoch 165: saving model to new_hand_classifier.hdf5\n",
      "53/53 [==============================] - 1s 11ms/step - loss: 0.0037 - accuracy: 0.9988 - val_loss: 2.2646e-05 - val_accuracy: 1.0000\n",
      "Epoch 166/1000\n",
      "52/53 [============================>.] - ETA: 0s - loss: 0.0020 - accuracy: 0.9995\n",
      "Epoch 166: saving model to new_hand_classifier.hdf5\n",
      "53/53 [==============================] - 1s 13ms/step - loss: 0.0020 - accuracy: 0.9996 - val_loss: 1.9969e-05 - val_accuracy: 1.0000\n",
      "Epoch 167/1000\n",
      "51/53 [===========================>..] - ETA: 0s - loss: 0.0030 - accuracy: 0.9989\n",
      "Epoch 167: saving model to new_hand_classifier.hdf5\n",
      "53/53 [==============================] - 1s 10ms/step - loss: 0.0030 - accuracy: 0.9990 - val_loss: 3.7749e-05 - val_accuracy: 1.0000\n",
      "Epoch 168/1000\n",
      "48/53 [==========================>...] - ETA: 0s - loss: 0.0050 - accuracy: 0.9985\n",
      "Epoch 168: saving model to new_hand_classifier.hdf5\n",
      "53/53 [==============================] - 1s 10ms/step - loss: 0.0052 - accuracy: 0.9984 - val_loss: 0.0017 - val_accuracy: 0.9988\n",
      "Epoch 169/1000\n",
      "49/53 [==========================>...] - ETA: 0s - loss: 0.0027 - accuracy: 0.9990\n",
      "Epoch 169: saving model to new_hand_classifier.hdf5\n",
      "53/53 [==============================] - 1s 11ms/step - loss: 0.0027 - accuracy: 0.9991 - val_loss: 2.2951e-04 - val_accuracy: 1.0000\n",
      "Epoch 170/1000\n",
      "51/53 [===========================>..] - ETA: 0s - loss: 0.0024 - accuracy: 0.9994\n",
      "Epoch 170: saving model to new_hand_classifier.hdf5\n",
      "53/53 [==============================] - 1s 11ms/step - loss: 0.0023 - accuracy: 0.9994 - val_loss: 0.0023 - val_accuracy: 0.9988\n",
      "Epoch 171/1000\n",
      "50/53 [===========================>..] - ETA: 0s - loss: 0.0070 - accuracy: 0.9981\n",
      "Epoch 171: saving model to new_hand_classifier.hdf5\n",
      "53/53 [==============================] - 1s 10ms/step - loss: 0.0072 - accuracy: 0.9981 - val_loss: 4.2217e-04 - val_accuracy: 1.0000\n",
      "Epoch 172/1000\n",
      "51/53 [===========================>..] - ETA: 0s - loss: 0.0040 - accuracy: 0.9985\n",
      "Epoch 172: saving model to new_hand_classifier.hdf5\n",
      "53/53 [==============================] - 1s 11ms/step - loss: 0.0039 - accuracy: 0.9985 - val_loss: 3.4229e-05 - val_accuracy: 1.0000\n",
      "Epoch 173/1000\n",
      "50/53 [===========================>..] - ETA: 0s - loss: 0.0088 - accuracy: 0.9973\n",
      "Epoch 173: saving model to new_hand_classifier.hdf5\n",
      "53/53 [==============================] - 1s 10ms/step - loss: 0.0088 - accuracy: 0.9972 - val_loss: 2.0343e-04 - val_accuracy: 1.0000\n",
      "Epoch 174/1000\n",
      "49/53 [==========================>...] - ETA: 0s - loss: 0.0087 - accuracy: 0.9965\n",
      "Epoch 174: saving model to new_hand_classifier.hdf5\n",
      "53/53 [==============================] - 1s 10ms/step - loss: 0.0083 - accuracy: 0.9966 - val_loss: 2.4244e-04 - val_accuracy: 1.0000\n",
      "Epoch 175/1000\n",
      "52/53 [============================>.] - ETA: 0s - loss: 0.0052 - accuracy: 0.9982\n",
      "Epoch 175: saving model to new_hand_classifier.hdf5\n",
      "53/53 [==============================] - 1s 10ms/step - loss: 0.0052 - accuracy: 0.9982 - val_loss: 5.6838e-05 - val_accuracy: 1.0000\n",
      "Epoch 176/1000\n",
      "48/53 [==========================>...] - ETA: 0s - loss: 0.0035 - accuracy: 0.9990\n",
      "Epoch 176: saving model to new_hand_classifier.hdf5\n",
      "53/53 [==============================] - 1s 10ms/step - loss: 0.0039 - accuracy: 0.9990 - val_loss: 1.0512e-04 - val_accuracy: 1.0000\n",
      "Epoch 177/1000\n",
      "51/53 [===========================>..] - ETA: 0s - loss: 0.0056 - accuracy: 0.9983\n",
      "Epoch 177: saving model to new_hand_classifier.hdf5\n",
      "53/53 [==============================] - 1s 11ms/step - loss: 0.0055 - accuracy: 0.9984 - val_loss: 5.2864e-05 - val_accuracy: 1.0000\n",
      "Epoch 178/1000\n",
      "52/53 [============================>.] - ETA: 0s - loss: 0.0059 - accuracy: 0.9983\n",
      "Epoch 178: saving model to new_hand_classifier.hdf5\n",
      "53/53 [==============================] - 1s 10ms/step - loss: 0.0059 - accuracy: 0.9984 - val_loss: 1.0467e-04 - val_accuracy: 1.0000\n",
      "Epoch 179/1000\n",
      "47/53 [=========================>....] - ETA: 0s - loss: 0.0026 - accuracy: 0.9988\n",
      "Epoch 179: saving model to new_hand_classifier.hdf5\n",
      "53/53 [==============================] - 1s 10ms/step - loss: 0.0024 - accuracy: 0.9990 - val_loss: 3.4230e-05 - val_accuracy: 1.0000\n",
      "Epoch 180/1000\n",
      "48/53 [==========================>...] - ETA: 0s - loss: 0.0055 - accuracy: 0.9979\n",
      "Epoch 180: saving model to new_hand_classifier.hdf5\n",
      "53/53 [==============================] - 1s 10ms/step - loss: 0.0054 - accuracy: 0.9979 - val_loss: 0.0023 - val_accuracy: 0.9988\n",
      "Epoch 181/1000\n",
      "49/53 [==========================>...] - ETA: 0s - loss: 0.0034 - accuracy: 0.9994\n",
      "Epoch 181: saving model to new_hand_classifier.hdf5\n",
      "53/53 [==============================] - 1s 11ms/step - loss: 0.0033 - accuracy: 0.9994 - val_loss: 1.2937e-04 - val_accuracy: 1.0000\n",
      "Epoch 182/1000\n",
      "50/53 [===========================>..] - ETA: 0s - loss: 0.0042 - accuracy: 0.9991\n",
      "Epoch 182: saving model to new_hand_classifier.hdf5\n",
      "53/53 [==============================] - 1s 11ms/step - loss: 0.0042 - accuracy: 0.9991 - val_loss: 4.2240e-05 - val_accuracy: 1.0000\n",
      "Epoch 183/1000\n",
      "53/53 [==============================] - ETA: 0s - loss: 0.0029 - accuracy: 0.9988\n",
      "Epoch 183: saving model to new_hand_classifier.hdf5\n",
      "53/53 [==============================] - 1s 10ms/step - loss: 0.0029 - accuracy: 0.9988 - val_loss: 1.9380e-04 - val_accuracy: 1.0000\n",
      "Epoch 184/1000\n",
      "51/53 [===========================>..] - ETA: 0s - loss: 0.0037 - accuracy: 0.9988\n",
      "Epoch 184: saving model to new_hand_classifier.hdf5\n",
      "53/53 [==============================] - 1s 11ms/step - loss: 0.0041 - accuracy: 0.9987 - val_loss: 0.0012 - val_accuracy: 1.0000\n",
      "Epoch 185/1000\n",
      "50/53 [===========================>..] - ETA: 0s - loss: 0.0032 - accuracy: 0.9987\n",
      "Epoch 185: saving model to new_hand_classifier.hdf5\n",
      "53/53 [==============================] - 1s 10ms/step - loss: 0.0034 - accuracy: 0.9987 - val_loss: 2.4068e-05 - val_accuracy: 1.0000\n",
      "Epoch 186/1000\n",
      "50/53 [===========================>..] - ETA: 0s - loss: 0.0031 - accuracy: 0.9989\n",
      "Epoch 186: saving model to new_hand_classifier.hdf5\n",
      "53/53 [==============================] - 1s 11ms/step - loss: 0.0030 - accuracy: 0.9990 - val_loss: 4.1208e-05 - val_accuracy: 1.0000\n",
      "Epoch 186: early stopping\n"
     ]
    }
   ],
   "source": [
    "history = model.fit(\n",
    "    X_train,\n",
    "    y_train,\n",
    "    epochs=1000,\n",
    "    batch_size=128,\n",
    "    validation_data=(X_validation, y_validation),\n",
    "    callbacks=[cp_callback, es_callback]\n",
    ")"
   ],
   "metadata": {
    "collapsed": false
   }
  },
  {
   "cell_type": "code",
   "execution_count": 12,
   "outputs": [
    {
     "name": "stdout",
     "output_type": "stream",
     "text": [
      "16/16 [==============================] - 0s 5ms/step - loss: 3.3606e-04 - accuracy: 1.0000\n"
     ]
    }
   ],
   "source": [
    "# Model evaluation\n",
    "val_loss, val_acc = model.evaluate(X_test, y_test, batch_size=128)"
   ],
   "metadata": {
    "collapsed": false
   }
  },
  {
   "cell_type": "code",
   "execution_count": 13,
   "outputs": [],
   "source": [
    "# Loading the saved model\n",
    "model = tf.keras.models.load_model(model_save_path)"
   ],
   "metadata": {
    "collapsed": false
   }
  },
  {
   "cell_type": "code",
   "execution_count": 14,
   "outputs": [
    {
     "name": "stdout",
     "output_type": "stream",
     "text": [
      "1/1 [==============================] - 0s 311ms/step\n",
      "[2.46625419e-33 4.26254155e-06 9.99995708e-01 6.54887657e-14\n",
      " 2.25843094e-11 4.65699392e-14 1.71845047e-12 4.27253841e-17\n",
      " 1.14250624e-22 1.50739026e-17 1.36355766e-36 5.07200239e-25\n",
      " 2.31965267e-18 1.04081954e-22 1.55032514e-15 4.67719382e-21\n",
      " 1.32802297e-22 3.08071250e-13 3.96556198e-29 1.59578167e-25\n",
      " 9.67050238e-31 3.49584031e-25 1.59561434e-21 2.13769980e-16\n",
      " 2.52401791e-25 3.68886782e-24]\n",
      "2\n"
     ]
    }
   ],
   "source": [
    "# Inference test\n",
    "predict_result = model.predict(np.array([X_test[0]]))\n",
    "print(np.squeeze(predict_result))\n",
    "print(np.argmax(np.squeeze(predict_result)))"
   ],
   "metadata": {
    "collapsed": false
   }
  },
  {
   "cell_type": "markdown",
   "source": [
    "# Confusion matrix"
   ],
   "metadata": {
    "collapsed": false
   }
  },
  {
   "cell_type": "code",
   "execution_count": 15,
   "outputs": [
    {
     "name": "stdout",
     "output_type": "stream",
     "text": [
      "63/63 [==============================] - 0s 4ms/step\n"
     ]
    },
    {
     "data": {
      "text/plain": "<Figure size 700x600 with 2 Axes>",
      "image/png": "[encoded data removed]"
     },
     "metadata": {},
     "output_type": "display_data"
    },
    {
     "name": "stdout",
     "output_type": "stream",
     "text": [
      "Classification Report\n",
      "              precision    recall  f1-score   support\n",
      "\n",
      "           0       1.00      1.00      1.00        85\n",
      "           1       1.00      1.00      1.00        89\n",
      "           2       1.00      1.00      1.00        69\n",
      "           3       1.00      1.00      1.00        77\n",
      "           4       1.00      1.00      1.00        78\n",
      "           5       1.00      1.00      1.00        73\n",
      "           6       1.00      1.00      1.00        78\n",
      "           7       1.00      1.00      1.00        84\n",
      "           8       1.00      1.00      1.00        92\n",
      "          10       1.00      1.00      1.00        90\n",
      "          11       1.00      1.00      1.00        93\n",
      "          12       1.00      1.00      1.00        77\n",
      "          13       1.00      1.00      1.00       101\n",
      "          14       1.00      1.00      1.00        83\n",
      "          15       1.00      1.00      1.00        91\n",
      "          16       1.00      1.00      1.00        91\n",
      "          17       1.00      1.00      1.00        76\n",
      "          18       1.00      1.00      1.00        81\n",
      "          19       1.00      1.00      1.00        97\n",
      "          20       1.00      1.00      1.00        73\n",
      "          21       1.00      1.00      1.00        96\n",
      "          22       1.00      1.00      1.00        80\n",
      "          23       1.00      1.00      1.00        78\n",
      "          24       1.00      1.00      1.00        83\n",
      "\n",
      "    accuracy                           1.00      2015\n",
      "   macro avg       1.00      1.00      1.00      2015\n",
      "weighted avg       1.00      1.00      1.00      2015\n",
      "\n"
     ]
    }
   ],
   "source": [
    "import pandas as pd\n",
    "import seaborn as sns\n",
    "import matplotlib.pyplot as plt\n",
    "from sklearn.metrics import confusion_matrix, classification_report\n",
    "\n",
    "def print_confusion_matrix(y_true, y_pred, report=True):\n",
    "    labels = sorted(list(set(y_true)))\n",
    "    cmx_data = confusion_matrix(y_true, y_pred, labels=labels)\n",
    "\n",
    "    df_cmx = pd.DataFrame(cmx_data, index=labels, columns=labels)\n",
    "\n",
    "    fig, ax = plt.subplots(figsize=(7, 6))\n",
    "    sns.heatmap(df_cmx, annot=True, fmt='g' ,square=False)\n",
    "    ax.set_ylim(len(set(y_true)), 0)\n",
    "    plt.show()\n",
    "\n",
    "    if report:\n",
    "        print('Classification Report')\n",
    "        print(classification_report(y_test, y_pred))\n",
    "\n",
    "Y_pred = model.predict(X_test)\n",
    "y_pred = np.argmax(Y_pred, axis=1)\n",
    "\n",
    "print_confusion_matrix(y_test, y_pred)"
   ],
   "metadata": {
    "collapsed": false
   }
  },
  {
   "cell_type": "markdown",
   "source": [
    "# Convert to model for Tensorflow-Lite"
   ],
   "metadata": {
    "collapsed": false
   }
  },
  {
   "cell_type": "code",
   "execution_count": 16,
   "outputs": [
    {
     "name": "stderr",
     "output_type": "stream",
     "text": [
      "C:\\gesture_recognition_by_image\\venv\\lib\\site-packages\\keras\\src\\engine\\training.py:3103: UserWarning: You are saving your model as an HDF5 file via `model.save()`. This file format is considered legacy. We recommend using instead the native Keras format, e.g. `model.save('my_model.keras')`.\n",
      "  saving_api.save_model(\n"
     ]
    }
   ],
   "source": [
    "# Save as a model dedicated to inference\n",
    "model.save(model_save_path, include_optimizer=False)"
   ],
   "metadata": {
    "collapsed": false
   }
  },
  {
   "cell_type": "code",
   "execution_count": 17,
   "outputs": [
    {
     "name": "stdout",
     "output_type": "stream",
     "text": [
      "INFO:tensorflow:Assets written to: C:\\Users\\joren\\AppData\\Local\\Temp\\tmp4p98ub3b\\assets\n"
     ]
    },
    {
     "name": "stderr",
     "output_type": "stream",
     "text": [
      "INFO:tensorflow:Assets written to: C:\\Users\\joren\\AppData\\Local\\Temp\\tmp4p98ub3b\\assets\n"
     ]
    },
    {
     "data": {
      "text/plain": "105472"
     },
     "execution_count": 17,
     "metadata": {},
     "output_type": "execute_result"
    }
   ],
   "source": [
    "# Transform model (quantization)\n",
    "\n",
    "converter = tf.lite.TFLiteConverter.from_keras_model(model)\n",
    "converter.optimizations = [tf.lite.Optimize.DEFAULT]\n",
    "tflite_quantized_model = converter.convert()\n",
    "\n",
    "open(tflite_save_path, 'wb').write(tflite_quantized_model)"
   ],
   "metadata": {
    "collapsed": false
   }
  },
  {
   "cell_type": "markdown",
   "source": [
    "# Inference test"
   ],
   "metadata": {
    "collapsed": false
   }
  },
  {
   "cell_type": "code",
   "execution_count": 18,
   "outputs": [],
   "source": [
    "interpreter = tf.lite.Interpreter(model_path=tflite_save_path)\n",
    "interpreter.allocate_tensors()"
   ],
   "metadata": {
    "collapsed": false
   }
  },
  {
   "cell_type": "code",
   "execution_count": 19,
   "outputs": [],
   "source": [
    "# Get I / O tensor\n",
    "input_details = interpreter.get_input_details()\n",
    "output_details = interpreter.get_output_details()"
   ],
   "metadata": {
    "collapsed": false
   }
  },
  {
   "cell_type": "code",
   "execution_count": 20,
   "outputs": [],
   "source": [
    "interpreter.set_tensor(input_details[0]['index'], np.array([X_test[0]]))"
   ],
   "metadata": {
    "collapsed": false
   }
  },
  {
   "cell_type": "code",
   "execution_count": 21,
   "outputs": [
    {
     "name": "stdout",
     "output_type": "stream",
     "text": [
      "CPU times: total: 0 ns\n",
      "Wall time: 7.54 ms\n"
     ]
    }
   ],
   "source": [
    "%%time\n",
    "# Inference implementation\n",
    "interpreter.invoke()\n",
    "tflite_results = interpreter.get_tensor(output_details[0]['index'])"
   ],
   "metadata": {
    "collapsed": false
   }
  },
  {
   "cell_type": "code",
   "execution_count": 22,
   "outputs": [
    {
     "name": "stdout",
     "output_type": "stream",
     "text": [
      "[2.08954168e-33 3.55228985e-06 9.99996424e-01 6.18953199e-14\n",
      " 1.77923856e-11 3.63852726e-14 1.60643276e-12 3.55372739e-17\n",
      " 1.03148031e-22 1.14298510e-17 1.42286115e-36 4.30573791e-25\n",
      " 1.86610685e-18 7.75327081e-23 1.60706163e-15 4.75052572e-21\n",
      " 1.16977924e-22 2.40214722e-13 3.19320990e-29 1.67651123e-25\n",
      " 6.82130861e-31 3.15250117e-25 1.37121050e-21 2.45951236e-16\n",
      " 2.11198871e-25 3.37978146e-24]\n",
      "2\n"
     ]
    }
   ],
   "source": [
    "print(np.squeeze(tflite_results))\n",
    "print(np.argmax(np.squeeze(tflite_results)))"
   ],
   "metadata": {
    "collapsed": false
   }
  },
  {
   "cell_type": "code",
   "execution_count": 23,
   "outputs": [
    {
     "name": "stderr",
     "output_type": "stream",
     "text": [
      "C:\\gesture_recognition_by_image\\venv\\lib\\site-packages\\keras\\src\\engine\\training.py:3103: UserWarning: You are saving your model as an HDF5 file via `model.save()`. This file format is considered legacy. We recommend using instead the native Keras format, e.g. `model.save('my_model.keras')`.\n",
      "  saving_api.save_model(\n"
     ]
    },
    {
     "name": "stdout",
     "output_type": "stream",
     "text": [
      "INFO:tensorflow:Assets written to: C:\\Users\\joren\\AppData\\Local\\Temp\\tmpm7f72lbj\\assets\n"
     ]
    },
    {
     "name": "stderr",
     "output_type": "stream",
     "text": [
      "INFO:tensorflow:Assets written to: C:\\Users\\joren\\AppData\\Local\\Temp\\tmpm7f72lbj\\assets\n"
     ]
    }
   ],
   "source": [
    "# Save the model\n",
    "model.save(model_save_path, include_optimizer=False)\n",
    "\n",
    "# Convert the model to TensorFlow Lite\n",
    "converter = tf.lite.TFLiteConverter.from_keras_model(model)\n",
    "converter.optimizations = [tf.lite.Optimize.DEFAULT]\n",
    "tflite_quantized_model = converter.convert()\n",
    "\n",
    "# Write the TFLite file\n",
    "with open(tflite_save_path, 'wb') as f:\n",
    "    f.write(tflite_quantized_model)"
   ],
   "metadata": {
    "collapsed": false
   }
  },
  {
   "cell_type": "markdown",
   "source": [
    "#### Loss  (cost)"
   ],
   "metadata": {
    "collapsed": false
   }
  },
  {
   "cell_type": "code",
   "execution_count": 24,
   "outputs": [
    {
     "data": {
      "text/plain": "<Figure size 640x480 with 1 Axes>",
      "image/png": "[encoded data removed]"
     },
     "metadata": {},
     "output_type": "display_data"
    }
   ],
   "source": [
    "plt.plot(history.history['loss'])\n",
    "plt.plot(history.history['val_loss'])\n",
    "plt.title('Model loss')\n",
    "plt.ylabel('Loss')\n",
    "plt.xlabel('Epoch')\n",
    "plt.legend(['Train', 'Validation'], loc='upper left')\n",
    "plt.show()"
   ],
   "metadata": {
    "collapsed": false
   }
  },
  {
   "cell_type": "code",
   "execution_count": 25,
   "outputs": [
    {
     "data": {
      "text/plain": "<Figure size 1200x600 with 2 Axes>",
      "image/png": "[encoded data removed]"
     },
     "metadata": {},
     "output_type": "display_data"
    }
   ],
   "source": [
    "plt.figure(figsize=(12, 6))\n",
    "\n",
    "# Plot training & validation loss values\n",
    "plt.subplot(2, 1, 1)\n",
    "plt.plot(history.history['loss'])\n",
    "plt.plot(history.history['val_loss'])\n",
    "plt.title('Model loss')\n",
    "plt.xlabel('Epoch')\n",
    "plt.ylabel('Loss')\n",
    "plt.legend(['Train', 'Validation'], loc='upper left')\n",
    "\n",
    "# Plot training & validation accuracy and F1 score values\n",
    "plt.subplot(2, 1, 2)\n",
    "plt.plot(history.history['accuracy'])\n",
    "plt.plot(history.history['val_accuracy'])\n",
    "plt.title('Model metrics')\n",
    "plt.xlabel('Epoch')\n",
    "plt.ylabel('Metric Value')\n",
    "plt.legend(['Train Accuracy', 'Validation Accuracy', 'F1 Score'], loc='upper left')\n",
    "\n",
    "plt.tight_layout()\n",
    "plt.show()"
   ],
   "metadata": {
    "collapsed": false
   }
  },
  {
   "cell_type": "code",
   "execution_count": 26,
   "outputs": [
    {
     "data": {
      "text/plain": "<Figure size 640x480 with 1 Axes>",
      "image/png": "[encoded data removed]"
     },
     "metadata": {},
     "output_type": "display_data"
    }
   ],
   "source": [
    "plt.plot(history.history['loss'], label='train')\n",
    "plt.plot(history.history['val_loss'], label='val')\n",
    "plt.title('Learning Curve')\n",
    "plt.xlabel('Epochs')\n",
    "plt.ylabel('Loss')\n",
    "plt.legend()\n",
    "plt.show()"
   ],
   "metadata": {
    "collapsed": false
   }
  },
  {
   "cell_type": "code",
   "execution_count": null,
   "outputs": [],
   "source": [],
   "metadata": {
    "collapsed": false
   }
  }
 ],
 "metadata": {
  "kernelspec": {
   "display_name": "Python 3",
   "language": "python",
   "name": "python3"
  },
  "language_info": {
   "codemirror_mode": {
    "name": "ipython",
    "version": 2
   },
   "file_extension": ".py",
   "mimetype": "text/x-python",
   "name": "python",
   "nbconvert_exporter": "python",
   "pygments_lexer": "ipython2",
   "version": "2.7.6"
  }
 },
 "nbformat": 4,
 "nbformat_minor": 0
}
