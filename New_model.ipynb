{
 "cells": [
  {
   "cell_type": "code",
   "execution_count": 1,
   "outputs": [],
   "source": [
    "import csv\n",
    "\n",
    "import numpy as np\n",
    "import os\n",
    "import tensorflow as tf\n",
    "from tensorflow import keras\n",
    "from sklearn.model_selection import train_test_split\n",
    "import matplotlib.pyplot as plt\n",
    "\n",
    "RANDOM_SEED = 42"
   ],
   "metadata": {
    "collapsed": false
   }
  },
  {
   "cell_type": "markdown",
   "source": [
    "# Specify each path"
   ],
   "metadata": {
    "collapsed": false
   }
  },
  {
   "cell_type": "code",
   "execution_count": 2,
   "outputs": [],
   "source": [
    "#dataset_joren = 'camara_data/hand_landmarks_joren_family.csv'\n",
    "#dataset_joren_grandparents = 'camara_data/hand_landmarks_moeke.csv'\n",
    "dataset_testGood = 'camera_data_test/hand_landmarks_goodTest.csv'\n",
    "dataset_testBad = 'camera_data_test/hand_landmarks_badTest.csv'\n",
    "dataset_testDark = 'camera_data_test/hand_landmarks_darkTest.csv'\n",
    "model_save_path = 'new_hand_classifier.keras'\n",
    "tflite_save_path = 'new_hand_classifier.tflite'"
   ],
   "metadata": {
    "collapsed": false
   }
  },
  {
   "cell_type": "markdown",
   "source": [
    "# Set number of classes"
   ],
   "metadata": {
    "collapsed": false
   }
  },
  {
   "cell_type": "code",
   "execution_count": 3,
   "outputs": [],
   "source": [
    "NUM_CLASSES = 26"
   ],
   "metadata": {
    "collapsed": false
   }
  },
  {
   "cell_type": "markdown",
   "source": [
    "# Dataset reading"
   ],
   "metadata": {
    "collapsed": false
   }
  },
  {
   "cell_type": "code",
   "execution_count": 4,
   "outputs": [],
   "source": [
    "# Directory containing CSV files\n",
    "directory = 'camera_data'\n",
    "\n",
    "# Initialize an empty list to store data from all files\n",
    "data = []\n",
    "\n",
    "# Loop through each file in the directory\n",
    "for filename in os.listdir(directory):\n",
    "    if filename.endswith(\".csv\"):\n",
    "        file_path = os.path.join(directory, filename)\n",
    "        # Load data from each file and append to the list\n",
    "        data.append(np.loadtxt(file_path, delimiter=',', dtype='float32', usecols=list(range(1, (21 * 2) + 1))))\n",
    "\n",
    "# Concatenate data from all files along the first axis\n",
    "X_dataset = np.concatenate(data, axis=0)\n",
    "X_testGood = np.loadtxt(dataset_testGood, delimiter=',', dtype='float32', usecols=list(range(1, (21 * 2) + 1)))\n",
    "X_testBad = np.loadtxt(dataset_testBad, delimiter=',', dtype='float32', usecols=list(range(1, (21 * 2) + 1)))\n",
    "X_testDark = np.loadtxt(dataset_testDark, delimiter=',', dtype='float32', usecols=list(range(1, (21 * 2) + 1)))"
   ],
   "metadata": {
    "collapsed": false
   }
  },
  {
   "cell_type": "code",
   "execution_count": 5,
   "outputs": [],
   "source": [
    "# Directory containing CSV files\n",
    "directory = 'camera_data'\n",
    "\n",
    "# Initialize an empty list to store data from all files\n",
    "data = []\n",
    "\n",
    "# Loop through each file in the directory\n",
    "for filename in os.listdir(directory):\n",
    "    if filename.endswith(\".csv\"):\n",
    "        file_path = os.path.join(directory, filename)\n",
    "        # Load data from each file and append to the list\n",
    "        data.append(np.loadtxt(file_path, delimiter=',', dtype='float32', usecols=(0)))\n",
    "\n",
    "# Concatenate data from all files along the first axis\n",
    "y_dataset = np.concatenate(data, axis=0)\n",
    "y_testGood = np.loadtxt(dataset_testGood, delimiter=',', dtype='int32', usecols=(0))\n",
    "y_testBad = np.loadtxt(dataset_testBad, delimiter=',', dtype='int32', usecols=(0))\n",
    "y_testDark = np.loadtxt(dataset_testDark, delimiter=',', dtype='int32', usecols=(0))"
   ],
   "metadata": {
    "collapsed": false
   }
  },
  {
   "cell_type": "code",
   "execution_count": 6,
   "outputs": [
    {
     "name": "stdout",
     "output_type": "stream",
     "text": [
      "X_dataset shape: (19200, 42)\n",
      "y_dataset shape: (19200,)\n",
      "----------------------------------\n",
      "X_test_dataset_good shape: (2400, 42)\n",
      "y_test_dataset_good shape: (2400,)\n",
      "----------------------------------\n",
      "X_test_dataset_bad shape: (2400, 42)\n",
      "y_test_dataset_bad shape: (2400,)\n",
      "----------------------------------\n",
      "X_test_dataset_dark shape: (2400, 42)\n",
      "y_test_dataset_dark shape: (2400,)\n"
     ]
    }
   ],
   "source": [
    "print(\"X_dataset shape: \" + X_dataset.shape.__str__())\n",
    "print(\"y_dataset shape: \" + y_dataset.shape.__str__())\n",
    "print(\"----------------------------------\")\n",
    "print(\"X_test_dataset_good shape: \" + X_testGood.shape.__str__())\n",
    "print(\"y_test_dataset_good shape: \" + y_testGood.shape.__str__())\n",
    "print(\"----------------------------------\")\n",
    "print(\"X_test_dataset_bad shape: \" + X_testBad.shape.__str__())\n",
    "print(\"y_test_dataset_bad shape: \" + y_testBad.shape.__str__())\n",
    "print(\"----------------------------------\")\n",
    "print(\"X_test_dataset_dark shape: \" + X_testDark.shape.__str__())\n",
    "print(\"y_test_dataset_dark shape: \" + y_testDark.shape.__str__())\n"
   ],
   "metadata": {
    "collapsed": false
   }
  },
  {
   "cell_type": "code",
   "execution_count": 7,
   "outputs": [],
   "source": [
    "X_train, X_validation, y_train, y_validation = train_test_split(X_dataset, y_dataset, train_size=0.70, random_state=RANDOM_SEED)"
   ],
   "metadata": {
    "collapsed": false
   }
  },
  {
   "cell_type": "code",
   "execution_count": 8,
   "outputs": [
    {
     "name": "stdout",
     "output_type": "stream",
     "text": [
      "[[ 0.          0.          0.18723404 ... -0.8808511  -0.12340426\n",
      "  -1.        ]\n",
      " [ 0.          0.          0.09646302 ... -0.35369775  0.26688102\n",
      "  -0.3215434 ]\n",
      " [ 0.          0.         -0.10497238 ...  0.5082873   0.44751382\n",
      "   0.41436464]\n",
      " ...\n",
      " [ 0.          0.         -0.1130137  ...  0.68835616  0.46575344\n",
      "   0.8458904 ]\n",
      " [ 0.          0.          0.16956522 ... -0.31304348 -0.05652174\n",
      "  -0.25652173]\n",
      " [ 0.          0.          0.1691843  ... -0.6676737   0.23564954\n",
      "  -0.6344411 ]]\n"
     ]
    }
   ],
   "source": [
    "print(X_train)"
   ],
   "metadata": {
    "collapsed": false
   }
  },
  {
   "cell_type": "markdown",
   "source": [
    "# Model building"
   ],
   "metadata": {
    "collapsed": false
   }
  },
  {
   "cell_type": "code",
   "execution_count": 9,
   "outputs": [
    {
     "name": "stdout",
     "output_type": "stream",
     "text": [
      "Feature 0: Score = nan\n",
      "Feature 1: Score = nan\n",
      "Feature 2: Score = 2.3407979011535645\n",
      "Feature 3: Score = 774.1659545898438\n",
      "Feature 4: Score = 3.7496492862701416\n",
      "Feature 5: Score = 899.2771606445312\n",
      "Feature 6: Score = 5.4164838790893555\n",
      "Feature 7: Score = 1002.3370361328125\n",
      "Feature 8: Score = 5.917410850524902\n",
      "Feature 9: Score = 1041.9844970703125\n",
      "Feature 10: Score = 12.02907943725586\n",
      "Feature 11: Score = 532.8719482421875\n",
      "Feature 12: Score = 8.99458122253418\n",
      "Feature 13: Score = 1036.7926025390625\n",
      "Feature 14: Score = 7.895073890686035\n",
      "Feature 15: Score = 1394.1888427734375\n",
      "Feature 16: Score = 8.310308456420898\n",
      "Feature 17: Score = 1816.0086669921875\n",
      "Feature 18: Score = 19.303176879882812\n",
      "Feature 19: Score = 505.4371643066406\n",
      "Feature 20: Score = 12.042290687561035\n",
      "Feature 21: Score = 1205.220458984375\n",
      "Feature 22: Score = 6.4197773933410645\n",
      "Feature 23: Score = 1708.598388671875\n",
      "Feature 24: Score = 4.364501476287842\n",
      "Feature 25: Score = 2216.578857421875\n",
      "Feature 26: Score = 17.700498580932617\n",
      "Feature 27: Score = 584.7717895507812\n",
      "Feature 28: Score = 11.139684677124023\n",
      "Feature 29: Score = 1230.75390625\n",
      "Feature 30: Score = 6.866504192352295\n",
      "Feature 31: Score = 1451.5262451171875\n",
      "Feature 32: Score = 4.93947696685791\n",
      "Feature 33: Score = 1508.3858642578125\n",
      "Feature 34: Score = 10.375407218933105\n",
      "Feature 35: Score = 650.890380859375\n",
      "Feature 36: Score = 8.856096267700195\n",
      "Feature 37: Score = 1251.685302734375\n",
      "Feature 38: Score = 6.842260837554932\n",
      "Feature 39: Score = 1715.908935546875\n",
      "Feature 40: Score = 5.637180805206299\n",
      "Feature 41: Score = 2019.177978515625\n"
     ]
    },
    {
     "name": "stderr",
     "output_type": "stream",
     "text": [
      "C:\\thesis\\venv\\lib\\site-packages\\sklearn\\feature_selection\\_univariate_selection.py:112: UserWarning: Features [0 1] are constant.\n",
      "  warnings.warn(\"Features %s are constant.\" % constant_features_idx, UserWarning)\n",
      "C:\\thesis\\venv\\lib\\site-packages\\sklearn\\feature_selection\\_univariate_selection.py:113: RuntimeWarning: invalid value encountered in divide\n",
      "  f = msb / msw\n"
     ]
    }
   ],
   "source": [
    "from sklearn.feature_selection import SelectKBest\n",
    "from sklearn.feature_selection import f_classif\n",
    "\n",
    "# Perform feature selection\n",
    "selector = SelectKBest(score_func=f_classif, k='all')\n",
    "X_train_selected = selector.fit_transform(X_train, y_train)\n",
    "X_validation_selected = selector.transform(X_validation)\n",
    "\n",
    "# Get feature scores\n",
    "feature_scores = selector.scores_\n",
    "\n",
    "# Get indices of selected features\n",
    "selected_indices = selector.get_support(indices=True)\n",
    "\n",
    "# Print feature scores and their corresponding indices\n",
    "for i, score in enumerate(feature_scores):\n",
    "    if i in selected_indices:\n",
    "        print(f\"Feature {i}: Score = {score}\")"
   ],
   "metadata": {
    "collapsed": false
   }
  },
  {
   "cell_type": "code",
   "execution_count": 10,
   "outputs": [
    {
     "name": "stderr",
     "output_type": "stream",
     "text": [
      "C:\\thesis\\venv\\lib\\site-packages\\keras\\src\\layers\\reshaping\\reshape.py:39: UserWarning: Do not pass an `input_shape`/`input_dim` argument to a layer. When using Sequential models, prefer using an `Input(shape)` object as the first layer in the model instead.\n",
      "  super().__init__(**kwargs)\n"
     ]
    }
   ],
   "source": [
    "model = tf.keras.models.Sequential([\n",
    "    tf.keras.layers.Reshape((21, 2, 1), input_shape=(21 * 2, )),\n",
    "    tf.keras.layers.Conv2D(64, kernel_size=(3, 1), activation='relu', padding='same'),\n",
    "    tf.keras.layers.MaxPooling2D(pool_size=(2, 1)),\n",
    "    tf.keras.layers.Conv2D(128, kernel_size=(3, 1), activation='relu', padding='same'),\n",
    "    tf.keras.layers.MaxPooling2D(pool_size=(2, 1)),\n",
    "    tf.keras.layers.Flatten(),\n",
    "    tf.keras.layers.Dropout(0.2),\n",
    "    tf.keras.layers.Dense(256, activation='relu'),\n",
    "    tf.keras.layers.Dropout(0.4),\n",
    "    tf.keras.layers.Dense(256, activation='relu'),\n",
    "    tf.keras.layers.Dense(256, activation='relu'),\n",
    "    tf.keras.layers.Dense(64, activation='relu'),\n",
    "    tf.keras.layers.Dense(NUM_CLASSES, activation='softmax')\n",
    "])"
   ],
   "metadata": {
    "collapsed": false
   }
  },
  {
   "cell_type": "code",
   "execution_count": 11,
   "outputs": [
    {
     "data": {
      "text/plain": "\u001B[1mModel: \"sequential\"\u001B[0m\n",
      "text/html": "<pre style=\"white-space:pre;overflow-x:auto;line-height:normal;font-family:Menlo,'DejaVu Sans Mono',consolas,'Courier New',monospace\"><span style=\"font-weight: bold\">Model: \"sequential\"</span>\n</pre>\n"
     },
     "metadata": {},
     "output_type": "display_data"
    },
    {
     "data": {
      "text/plain": "┏━━━━━━━━━━━━━━━━━━━━━━━━━━━━━━━━━┳━━━━━━━━━━━━━━━━━━━━━━━━┳━━━━━━━━━━━━━━━┓\n┃\u001B[1m \u001B[0m\u001B[1mLayer (type)                   \u001B[0m\u001B[1m \u001B[0m┃\u001B[1m \u001B[0m\u001B[1mOutput Shape          \u001B[0m\u001B[1m \u001B[0m┃\u001B[1m \u001B[0m\u001B[1m      Param #\u001B[0m\u001B[1m \u001B[0m┃\n┡━━━━━━━━━━━━━━━━━━━━━━━━━━━━━━━━━╇━━━━━━━━━━━━━━━━━━━━━━━━╇━━━━━━━━━━━━━━━┩\n│ reshape (\u001B[38;5;33mReshape\u001B[0m)               │ (\u001B[38;5;45mNone\u001B[0m, \u001B[38;5;34m21\u001B[0m, \u001B[38;5;34m2\u001B[0m, \u001B[38;5;34m1\u001B[0m)       │             \u001B[38;5;34m0\u001B[0m │\n├─────────────────────────────────┼────────────────────────┼───────────────┤\n│ conv2d (\u001B[38;5;33mConv2D\u001B[0m)                 │ (\u001B[38;5;45mNone\u001B[0m, \u001B[38;5;34m21\u001B[0m, \u001B[38;5;34m2\u001B[0m, \u001B[38;5;34m64\u001B[0m)      │           \u001B[38;5;34m256\u001B[0m │\n├─────────────────────────────────┼────────────────────────┼───────────────┤\n│ max_pooling2d (\u001B[38;5;33mMaxPooling2D\u001B[0m)    │ (\u001B[38;5;45mNone\u001B[0m, \u001B[38;5;34m10\u001B[0m, \u001B[38;5;34m2\u001B[0m, \u001B[38;5;34m64\u001B[0m)      │             \u001B[38;5;34m0\u001B[0m │\n├─────────────────────────────────┼────────────────────────┼───────────────┤\n│ conv2d_1 (\u001B[38;5;33mConv2D\u001B[0m)               │ (\u001B[38;5;45mNone\u001B[0m, \u001B[38;5;34m10\u001B[0m, \u001B[38;5;34m2\u001B[0m, \u001B[38;5;34m128\u001B[0m)     │        \u001B[38;5;34m24,704\u001B[0m │\n├─────────────────────────────────┼────────────────────────┼───────────────┤\n│ max_pooling2d_1 (\u001B[38;5;33mMaxPooling2D\u001B[0m)  │ (\u001B[38;5;45mNone\u001B[0m, \u001B[38;5;34m5\u001B[0m, \u001B[38;5;34m2\u001B[0m, \u001B[38;5;34m128\u001B[0m)      │             \u001B[38;5;34m0\u001B[0m │\n├─────────────────────────────────┼────────────────────────┼───────────────┤\n│ flatten (\u001B[38;5;33mFlatten\u001B[0m)               │ (\u001B[38;5;45mNone\u001B[0m, \u001B[38;5;34m1280\u001B[0m)           │             \u001B[38;5;34m0\u001B[0m │\n├─────────────────────────────────┼────────────────────────┼───────────────┤\n│ dropout (\u001B[38;5;33mDropout\u001B[0m)               │ (\u001B[38;5;45mNone\u001B[0m, \u001B[38;5;34m1280\u001B[0m)           │             \u001B[38;5;34m0\u001B[0m │\n├─────────────────────────────────┼────────────────────────┼───────────────┤\n│ dense (\u001B[38;5;33mDense\u001B[0m)                   │ (\u001B[38;5;45mNone\u001B[0m, \u001B[38;5;34m256\u001B[0m)            │       \u001B[38;5;34m327,936\u001B[0m │\n├─────────────────────────────────┼────────────────────────┼───────────────┤\n│ dropout_1 (\u001B[38;5;33mDropout\u001B[0m)             │ (\u001B[38;5;45mNone\u001B[0m, \u001B[38;5;34m256\u001B[0m)            │             \u001B[38;5;34m0\u001B[0m │\n├─────────────────────────────────┼────────────────────────┼───────────────┤\n│ dense_1 (\u001B[38;5;33mDense\u001B[0m)                 │ (\u001B[38;5;45mNone\u001B[0m, \u001B[38;5;34m256\u001B[0m)            │        \u001B[38;5;34m65,792\u001B[0m │\n├─────────────────────────────────┼────────────────────────┼───────────────┤\n│ dense_2 (\u001B[38;5;33mDense\u001B[0m)                 │ (\u001B[38;5;45mNone\u001B[0m, \u001B[38;5;34m256\u001B[0m)            │        \u001B[38;5;34m65,792\u001B[0m │\n├─────────────────────────────────┼────────────────────────┼───────────────┤\n│ dense_3 (\u001B[38;5;33mDense\u001B[0m)                 │ (\u001B[38;5;45mNone\u001B[0m, \u001B[38;5;34m64\u001B[0m)             │        \u001B[38;5;34m16,448\u001B[0m │\n├─────────────────────────────────┼────────────────────────┼───────────────┤\n│ dense_4 (\u001B[38;5;33mDense\u001B[0m)                 │ (\u001B[38;5;45mNone\u001B[0m, \u001B[38;5;34m26\u001B[0m)             │         \u001B[38;5;34m1,690\u001B[0m │\n└─────────────────────────────────┴────────────────────────┴───────────────┘\n",
      "text/html": "<pre style=\"white-space:pre;overflow-x:auto;line-height:normal;font-family:Menlo,'DejaVu Sans Mono',consolas,'Courier New',monospace\">┏━━━━━━━━━━━━━━━━━━━━━━━━━━━━━━━━━┳━━━━━━━━━━━━━━━━━━━━━━━━┳━━━━━━━━━━━━━━━┓\n┃<span style=\"font-weight: bold\"> Layer (type)                    </span>┃<span style=\"font-weight: bold\"> Output Shape           </span>┃<span style=\"font-weight: bold\">       Param # </span>┃\n┡━━━━━━━━━━━━━━━━━━━━━━━━━━━━━━━━━╇━━━━━━━━━━━━━━━━━━━━━━━━╇━━━━━━━━━━━━━━━┩\n│ reshape (<span style=\"color: #0087ff; text-decoration-color: #0087ff\">Reshape</span>)               │ (<span style=\"color: #00d7ff; text-decoration-color: #00d7ff\">None</span>, <span style=\"color: #00af00; text-decoration-color: #00af00\">21</span>, <span style=\"color: #00af00; text-decoration-color: #00af00\">2</span>, <span style=\"color: #00af00; text-decoration-color: #00af00\">1</span>)       │             <span style=\"color: #00af00; text-decoration-color: #00af00\">0</span> │\n├─────────────────────────────────┼────────────────────────┼───────────────┤\n│ conv2d (<span style=\"color: #0087ff; text-decoration-color: #0087ff\">Conv2D</span>)                 │ (<span style=\"color: #00d7ff; text-decoration-color: #00d7ff\">None</span>, <span style=\"color: #00af00; text-decoration-color: #00af00\">21</span>, <span style=\"color: #00af00; text-decoration-color: #00af00\">2</span>, <span style=\"color: #00af00; text-decoration-color: #00af00\">64</span>)      │           <span style=\"color: #00af00; text-decoration-color: #00af00\">256</span> │\n├─────────────────────────────────┼────────────────────────┼───────────────┤\n│ max_pooling2d (<span style=\"color: #0087ff; text-decoration-color: #0087ff\">MaxPooling2D</span>)    │ (<span style=\"color: #00d7ff; text-decoration-color: #00d7ff\">None</span>, <span style=\"color: #00af00; text-decoration-color: #00af00\">10</span>, <span style=\"color: #00af00; text-decoration-color: #00af00\">2</span>, <span style=\"color: #00af00; text-decoration-color: #00af00\">64</span>)      │             <span style=\"color: #00af00; text-decoration-color: #00af00\">0</span> │\n├─────────────────────────────────┼────────────────────────┼───────────────┤\n│ conv2d_1 (<span style=\"color: #0087ff; text-decoration-color: #0087ff\">Conv2D</span>)               │ (<span style=\"color: #00d7ff; text-decoration-color: #00d7ff\">None</span>, <span style=\"color: #00af00; text-decoration-color: #00af00\">10</span>, <span style=\"color: #00af00; text-decoration-color: #00af00\">2</span>, <span style=\"color: #00af00; text-decoration-color: #00af00\">128</span>)     │        <span style=\"color: #00af00; text-decoration-color: #00af00\">24,704</span> │\n├─────────────────────────────────┼────────────────────────┼───────────────┤\n│ max_pooling2d_1 (<span style=\"color: #0087ff; text-decoration-color: #0087ff\">MaxPooling2D</span>)  │ (<span style=\"color: #00d7ff; text-decoration-color: #00d7ff\">None</span>, <span style=\"color: #00af00; text-decoration-color: #00af00\">5</span>, <span style=\"color: #00af00; text-decoration-color: #00af00\">2</span>, <span style=\"color: #00af00; text-decoration-color: #00af00\">128</span>)      │             <span style=\"color: #00af00; text-decoration-color: #00af00\">0</span> │\n├─────────────────────────────────┼────────────────────────┼───────────────┤\n│ flatten (<span style=\"color: #0087ff; text-decoration-color: #0087ff\">Flatten</span>)               │ (<span style=\"color: #00d7ff; text-decoration-color: #00d7ff\">None</span>, <span style=\"color: #00af00; text-decoration-color: #00af00\">1280</span>)           │             <span style=\"color: #00af00; text-decoration-color: #00af00\">0</span> │\n├─────────────────────────────────┼────────────────────────┼───────────────┤\n│ dropout (<span style=\"color: #0087ff; text-decoration-color: #0087ff\">Dropout</span>)               │ (<span style=\"color: #00d7ff; text-decoration-color: #00d7ff\">None</span>, <span style=\"color: #00af00; text-decoration-color: #00af00\">1280</span>)           │             <span style=\"color: #00af00; text-decoration-color: #00af00\">0</span> │\n├─────────────────────────────────┼────────────────────────┼───────────────┤\n│ dense (<span style=\"color: #0087ff; text-decoration-color: #0087ff\">Dense</span>)                   │ (<span style=\"color: #00d7ff; text-decoration-color: #00d7ff\">None</span>, <span style=\"color: #00af00; text-decoration-color: #00af00\">256</span>)            │       <span style=\"color: #00af00; text-decoration-color: #00af00\">327,936</span> │\n├─────────────────────────────────┼────────────────────────┼───────────────┤\n│ dropout_1 (<span style=\"color: #0087ff; text-decoration-color: #0087ff\">Dropout</span>)             │ (<span style=\"color: #00d7ff; text-decoration-color: #00d7ff\">None</span>, <span style=\"color: #00af00; text-decoration-color: #00af00\">256</span>)            │             <span style=\"color: #00af00; text-decoration-color: #00af00\">0</span> │\n├─────────────────────────────────┼────────────────────────┼───────────────┤\n│ dense_1 (<span style=\"color: #0087ff; text-decoration-color: #0087ff\">Dense</span>)                 │ (<span style=\"color: #00d7ff; text-decoration-color: #00d7ff\">None</span>, <span style=\"color: #00af00; text-decoration-color: #00af00\">256</span>)            │        <span style=\"color: #00af00; text-decoration-color: #00af00\">65,792</span> │\n├─────────────────────────────────┼────────────────────────┼───────────────┤\n│ dense_2 (<span style=\"color: #0087ff; text-decoration-color: #0087ff\">Dense</span>)                 │ (<span style=\"color: #00d7ff; text-decoration-color: #00d7ff\">None</span>, <span style=\"color: #00af00; text-decoration-color: #00af00\">256</span>)            │        <span style=\"color: #00af00; text-decoration-color: #00af00\">65,792</span> │\n├─────────────────────────────────┼────────────────────────┼───────────────┤\n│ dense_3 (<span style=\"color: #0087ff; text-decoration-color: #0087ff\">Dense</span>)                 │ (<span style=\"color: #00d7ff; text-decoration-color: #00d7ff\">None</span>, <span style=\"color: #00af00; text-decoration-color: #00af00\">64</span>)             │        <span style=\"color: #00af00; text-decoration-color: #00af00\">16,448</span> │\n├─────────────────────────────────┼────────────────────────┼───────────────┤\n│ dense_4 (<span style=\"color: #0087ff; text-decoration-color: #0087ff\">Dense</span>)                 │ (<span style=\"color: #00d7ff; text-decoration-color: #00d7ff\">None</span>, <span style=\"color: #00af00; text-decoration-color: #00af00\">26</span>)             │         <span style=\"color: #00af00; text-decoration-color: #00af00\">1,690</span> │\n└─────────────────────────────────┴────────────────────────┴───────────────┘\n</pre>\n"
     },
     "metadata": {},
     "output_type": "display_data"
    },
    {
     "data": {
      "text/plain": "\u001B[1m Total params: \u001B[0m\u001B[38;5;34m502,618\u001B[0m (1.92 MB)\n",
      "text/html": "<pre style=\"white-space:pre;overflow-x:auto;line-height:normal;font-family:Menlo,'DejaVu Sans Mono',consolas,'Courier New',monospace\"><span style=\"font-weight: bold\"> Total params: </span><span style=\"color: #00af00; text-decoration-color: #00af00\">502,618</span> (1.92 MB)\n</pre>\n"
     },
     "metadata": {},
     "output_type": "display_data"
    },
    {
     "data": {
      "text/plain": "\u001B[1m Trainable params: \u001B[0m\u001B[38;5;34m502,618\u001B[0m (1.92 MB)\n",
      "text/html": "<pre style=\"white-space:pre;overflow-x:auto;line-height:normal;font-family:Menlo,'DejaVu Sans Mono',consolas,'Courier New',monospace\"><span style=\"font-weight: bold\"> Trainable params: </span><span style=\"color: #00af00; text-decoration-color: #00af00\">502,618</span> (1.92 MB)\n</pre>\n"
     },
     "metadata": {},
     "output_type": "display_data"
    },
    {
     "data": {
      "text/plain": "\u001B[1m Non-trainable params: \u001B[0m\u001B[38;5;34m0\u001B[0m (0.00 B)\n",
      "text/html": "<pre style=\"white-space:pre;overflow-x:auto;line-height:normal;font-family:Menlo,'DejaVu Sans Mono',consolas,'Courier New',monospace\"><span style=\"font-weight: bold\"> Non-trainable params: </span><span style=\"color: #00af00; text-decoration-color: #00af00\">0</span> (0.00 B)\n</pre>\n"
     },
     "metadata": {},
     "output_type": "display_data"
    }
   ],
   "source": [
    "model.summary()  # tf.keras.utils.plot_model(model, show_shapes=True)"
   ],
   "metadata": {
    "collapsed": false
   }
  },
  {
   "cell_type": "code",
   "execution_count": 12,
   "outputs": [],
   "source": [
    "# Model checkpoint callback\n",
    "cp_callback = tf.keras.callbacks.ModelCheckpoint(\n",
    "    model_save_path, verbose=1, save_weights_only=False)\n",
    "# Callback for early stopping\n",
    "es_callback = tf.keras.callbacks.EarlyStopping(patience=20, verbose=1)"
   ],
   "metadata": {
    "collapsed": false
   }
  },
  {
   "cell_type": "code",
   "execution_count": 13,
   "outputs": [],
   "source": [
    "# Model compilation\n",
    "model.compile(\n",
    "    optimizer='adam',\n",
    "    loss='sparse_categorical_crossentropy',\n",
    "    metrics=['accuracy']\n",
    ")"
   ],
   "metadata": {
    "collapsed": false
   }
  },
  {
   "cell_type": "markdown",
   "source": [
    "# Model training"
   ],
   "metadata": {
    "collapsed": false
   }
  },
  {
   "cell_type": "code",
   "execution_count": 14,
   "outputs": [
    {
     "name": "stdout",
     "output_type": "stream",
     "text": [
      "Epoch 1/1000\n",
      "\u001B[1m101/105\u001B[0m \u001B[32m━━━━━━━━━━━━━━━━━━━\u001B[0m\u001B[37m━\u001B[0m \u001B[1m0s\u001B[0m 12ms/step - accuracy: 0.2198 - loss: 2.5443\n",
      "Epoch 1: saving model to new_hand_classifier.keras\n",
      "\u001B[1m105/105\u001B[0m \u001B[32m━━━━━━━━━━━━━━━━━━━━\u001B[0m\u001B[37m\u001B[0m \u001B[1m4s\u001B[0m 16ms/step - accuracy: 0.2281 - loss: 2.5123 - val_accuracy: 0.7639 - val_loss: 0.7248\n",
      "Epoch 2/1000\n",
      "\u001B[1m104/105\u001B[0m \u001B[32m━━━━━━━━━━━━━━━━━━━\u001B[0m\u001B[37m━\u001B[0m \u001B[1m0s\u001B[0m 12ms/step - accuracy: 0.7456 - loss: 0.7265\n",
      "Epoch 2: saving model to new_hand_classifier.keras\n",
      "\u001B[1m105/105\u001B[0m \u001B[32m━━━━━━━━━━━━━━━━━━━━\u001B[0m\u001B[37m\u001B[0m \u001B[1m2s\u001B[0m 15ms/step - accuracy: 0.7463 - loss: 0.7244 - val_accuracy: 0.8849 - val_loss: 0.3272\n",
      "Epoch 3/1000\n",
      "\u001B[1m104/105\u001B[0m \u001B[32m━━━━━━━━━━━━━━━━━━━\u001B[0m\u001B[37m━\u001B[0m \u001B[1m0s\u001B[0m 12ms/step - accuracy: 0.8578 - loss: 0.3913\n",
      "Epoch 3: saving model to new_hand_classifier.keras\n",
      "\u001B[1m105/105\u001B[0m \u001B[32m━━━━━━━━━━━━━━━━━━━━\u001B[0m\u001B[37m\u001B[0m \u001B[1m2s\u001B[0m 14ms/step - accuracy: 0.8581 - loss: 0.3905 - val_accuracy: 0.9450 - val_loss: 0.1615\n",
      "Epoch 4/1000\n",
      "\u001B[1m104/105\u001B[0m \u001B[32m━━━━━━━━━━━━━━━━━━━\u001B[0m\u001B[37m━\u001B[0m \u001B[1m0s\u001B[0m 13ms/step - accuracy: 0.9184 - loss: 0.2353\n",
      "Epoch 4: saving model to new_hand_classifier.keras\n",
      "\u001B[1m105/105\u001B[0m \u001B[32m━━━━━━━━━━━━━━━━━━━━\u001B[0m\u001B[37m\u001B[0m \u001B[1m2s\u001B[0m 16ms/step - accuracy: 0.9186 - loss: 0.2348 - val_accuracy: 0.9812 - val_loss: 0.0810\n",
      "Epoch 5/1000\n",
      "\u001B[1m102/105\u001B[0m \u001B[32m━━━━━━━━━━━━━━━━━━━\u001B[0m\u001B[37m━\u001B[0m \u001B[1m0s\u001B[0m 12ms/step - accuracy: 0.9392 - loss: 0.1713\n",
      "Epoch 5: saving model to new_hand_classifier.keras\n",
      "\u001B[1m105/105\u001B[0m \u001B[32m━━━━━━━━━━━━━━━━━━━━\u001B[0m\u001B[37m\u001B[0m \u001B[1m2s\u001B[0m 14ms/step - accuracy: 0.9394 - loss: 0.1708 - val_accuracy: 0.9785 - val_loss: 0.0718\n",
      "Epoch 6/1000\n",
      "\u001B[1m104/105\u001B[0m \u001B[32m━━━━━━━━━━━━━━━━━━━\u001B[0m\u001B[37m━\u001B[0m \u001B[1m0s\u001B[0m 13ms/step - accuracy: 0.9593 - loss: 0.1170\n",
      "Epoch 6: saving model to new_hand_classifier.keras\n",
      "\u001B[1m105/105\u001B[0m \u001B[32m━━━━━━━━━━━━━━━━━━━━\u001B[0m\u001B[37m\u001B[0m \u001B[1m2s\u001B[0m 15ms/step - accuracy: 0.9593 - loss: 0.1170 - val_accuracy: 0.9920 - val_loss: 0.0422\n",
      "Epoch 7/1000\n",
      "\u001B[1m105/105\u001B[0m \u001B[32m━━━━━━━━━━━━━━━━━━━━\u001B[0m\u001B[37m\u001B[0m \u001B[1m0s\u001B[0m 12ms/step - accuracy: 0.9633 - loss: 0.1022\n",
      "Epoch 7: saving model to new_hand_classifier.keras\n",
      "\u001B[1m105/105\u001B[0m \u001B[32m━━━━━━━━━━━━━━━━━━━━\u001B[0m\u001B[37m\u001B[0m \u001B[1m2s\u001B[0m 14ms/step - accuracy: 0.9634 - loss: 0.1021 - val_accuracy: 0.9884 - val_loss: 0.0407\n",
      "Epoch 8/1000\n",
      "\u001B[1m105/105\u001B[0m \u001B[32m━━━━━━━━━━━━━━━━━━━━\u001B[0m\u001B[37m\u001B[0m \u001B[1m0s\u001B[0m 12ms/step - accuracy: 0.9694 - loss: 0.0921\n",
      "Epoch 8: saving model to new_hand_classifier.keras\n",
      "\u001B[1m105/105\u001B[0m \u001B[32m━━━━━━━━━━━━━━━━━━━━\u001B[0m\u001B[37m\u001B[0m \u001B[1m2s\u001B[0m 14ms/step - accuracy: 0.9694 - loss: 0.0921 - val_accuracy: 0.9944 - val_loss: 0.0315\n",
      "Epoch 9/1000\n",
      "\u001B[1m103/105\u001B[0m \u001B[32m━━━━━━━━━━━━━━━━━━━\u001B[0m\u001B[37m━\u001B[0m \u001B[1m0s\u001B[0m 13ms/step - accuracy: 0.9752 - loss: 0.0720\n",
      "Epoch 9: saving model to new_hand_classifier.keras\n",
      "\u001B[1m105/105\u001B[0m \u001B[32m━━━━━━━━━━━━━━━━━━━━\u001B[0m\u001B[37m\u001B[0m \u001B[1m2s\u001B[0m 16ms/step - accuracy: 0.9752 - loss: 0.0718 - val_accuracy: 0.9927 - val_loss: 0.0257\n",
      "Epoch 10/1000\n",
      "\u001B[1m102/105\u001B[0m \u001B[32m━━━━━━━━━━━━━━━━━━━\u001B[0m\u001B[37m━\u001B[0m \u001B[1m0s\u001B[0m 11ms/step - accuracy: 0.9838 - loss: 0.0527\n",
      "Epoch 10: saving model to new_hand_classifier.keras\n",
      "\u001B[1m105/105\u001B[0m \u001B[32m━━━━━━━━━━━━━━━━━━━━\u001B[0m\u001B[37m\u001B[0m \u001B[1m2s\u001B[0m 14ms/step - accuracy: 0.9838 - loss: 0.0527 - val_accuracy: 0.9937 - val_loss: 0.0243\n",
      "Epoch 11/1000\n",
      "\u001B[1m103/105\u001B[0m \u001B[32m━━━━━━━━━━━━━━━━━━━\u001B[0m\u001B[37m━\u001B[0m \u001B[1m0s\u001B[0m 12ms/step - accuracy: 0.9840 - loss: 0.0500\n",
      "Epoch 11: saving model to new_hand_classifier.keras\n",
      "\u001B[1m105/105\u001B[0m \u001B[32m━━━━━━━━━━━━━━━━━━━━\u001B[0m\u001B[37m\u001B[0m \u001B[1m2s\u001B[0m 15ms/step - accuracy: 0.9840 - loss: 0.0500 - val_accuracy: 0.9983 - val_loss: 0.0157\n",
      "Epoch 12/1000\n",
      "\u001B[1m102/105\u001B[0m \u001B[32m━━━━━━━━━━━━━━━━━━━\u001B[0m\u001B[37m━\u001B[0m \u001B[1m0s\u001B[0m 12ms/step - accuracy: 0.9819 - loss: 0.0549\n",
      "Epoch 12: saving model to new_hand_classifier.keras\n",
      "\u001B[1m105/105\u001B[0m \u001B[32m━━━━━━━━━━━━━━━━━━━━\u001B[0m\u001B[37m\u001B[0m \u001B[1m1s\u001B[0m 14ms/step - accuracy: 0.9820 - loss: 0.0546 - val_accuracy: 0.9983 - val_loss: 0.0098\n",
      "Epoch 13/1000\n",
      "\u001B[1m103/105\u001B[0m \u001B[32m━━━━━━━━━━━━━━━━━━━\u001B[0m\u001B[37m━\u001B[0m \u001B[1m0s\u001B[0m 12ms/step - accuracy: 0.9875 - loss: 0.0412\n",
      "Epoch 13: saving model to new_hand_classifier.keras\n",
      "\u001B[1m105/105\u001B[0m \u001B[32m━━━━━━━━━━━━━━━━━━━━\u001B[0m\u001B[37m\u001B[0m \u001B[1m2s\u001B[0m 14ms/step - accuracy: 0.9875 - loss: 0.0412 - val_accuracy: 0.9972 - val_loss: 0.0133\n",
      "Epoch 14/1000\n",
      "\u001B[1m101/105\u001B[0m \u001B[32m━━━━━━━━━━━━━━━━━━━\u001B[0m\u001B[37m━\u001B[0m \u001B[1m0s\u001B[0m 13ms/step - accuracy: 0.9881 - loss: 0.0385\n",
      "Epoch 14: saving model to new_hand_classifier.keras\n",
      "\u001B[1m105/105\u001B[0m \u001B[32m━━━━━━━━━━━━━━━━━━━━\u001B[0m\u001B[37m\u001B[0m \u001B[1m2s\u001B[0m 16ms/step - accuracy: 0.9880 - loss: 0.0386 - val_accuracy: 0.9986 - val_loss: 0.0084\n",
      "Epoch 15/1000\n",
      "\u001B[1m102/105\u001B[0m \u001B[32m━━━━━━━━━━━━━━━━━━━\u001B[0m\u001B[37m━\u001B[0m \u001B[1m0s\u001B[0m 11ms/step - accuracy: 0.9900 - loss: 0.0324\n",
      "Epoch 15: saving model to new_hand_classifier.keras\n",
      "\u001B[1m105/105\u001B[0m \u001B[32m━━━━━━━━━━━━━━━━━━━━\u001B[0m\u001B[37m\u001B[0m \u001B[1m1s\u001B[0m 13ms/step - accuracy: 0.9900 - loss: 0.0323 - val_accuracy: 0.9986 - val_loss: 0.0079\n",
      "Epoch 16/1000\n",
      "\u001B[1m104/105\u001B[0m \u001B[32m━━━━━━━━━━━━━━━━━━━\u001B[0m\u001B[37m━\u001B[0m \u001B[1m0s\u001B[0m 11ms/step - accuracy: 0.9924 - loss: 0.0266\n",
      "Epoch 16: saving model to new_hand_classifier.keras\n",
      "\u001B[1m105/105\u001B[0m \u001B[32m━━━━━━━━━━━━━━━━━━━━\u001B[0m\u001B[37m\u001B[0m \u001B[1m1s\u001B[0m 14ms/step - accuracy: 0.9923 - loss: 0.0267 - val_accuracy: 0.9969 - val_loss: 0.0114\n",
      "Epoch 17/1000\n",
      "\u001B[1m103/105\u001B[0m \u001B[32m━━━━━━━━━━━━━━━━━━━\u001B[0m\u001B[37m━\u001B[0m \u001B[1m0s\u001B[0m 11ms/step - accuracy: 0.9919 - loss: 0.0253\n",
      "Epoch 17: saving model to new_hand_classifier.keras\n",
      "\u001B[1m105/105\u001B[0m \u001B[32m━━━━━━━━━━━━━━━━━━━━\u001B[0m\u001B[37m\u001B[0m \u001B[1m1s\u001B[0m 14ms/step - accuracy: 0.9918 - loss: 0.0255 - val_accuracy: 0.9984 - val_loss: 0.0117\n",
      "Epoch 18/1000\n",
      "\u001B[1m105/105\u001B[0m \u001B[32m━━━━━━━━━━━━━━━━━━━━\u001B[0m\u001B[37m\u001B[0m \u001B[1m0s\u001B[0m 11ms/step - accuracy: 0.9903 - loss: 0.0325\n",
      "Epoch 18: saving model to new_hand_classifier.keras\n",
      "\u001B[1m105/105\u001B[0m \u001B[32m━━━━━━━━━━━━━━━━━━━━\u001B[0m\u001B[37m\u001B[0m \u001B[1m1s\u001B[0m 14ms/step - accuracy: 0.9903 - loss: 0.0325 - val_accuracy: 0.9970 - val_loss: 0.0122\n",
      "Epoch 19/1000\n",
      "\u001B[1m104/105\u001B[0m \u001B[32m━━━━━━━━━━━━━━━━━━━\u001B[0m\u001B[37m━\u001B[0m \u001B[1m0s\u001B[0m 14ms/step - accuracy: 0.9912 - loss: 0.0320\n",
      "Epoch 19: saving model to new_hand_classifier.keras\n",
      "\u001B[1m105/105\u001B[0m \u001B[32m━━━━━━━━━━━━━━━━━━━━\u001B[0m\u001B[37m\u001B[0m \u001B[1m2s\u001B[0m 16ms/step - accuracy: 0.9912 - loss: 0.0320 - val_accuracy: 0.9983 - val_loss: 0.0075\n",
      "Epoch 20/1000\n",
      "\u001B[1m105/105\u001B[0m \u001B[32m━━━━━━━━━━━━━━━━━━━━\u001B[0m\u001B[37m\u001B[0m \u001B[1m0s\u001B[0m 12ms/step - accuracy: 0.9924 - loss: 0.0228\n",
      "Epoch 20: saving model to new_hand_classifier.keras\n",
      "\u001B[1m105/105\u001B[0m \u001B[32m━━━━━━━━━━━━━━━━━━━━\u001B[0m\u001B[37m\u001B[0m \u001B[1m2s\u001B[0m 14ms/step - accuracy: 0.9924 - loss: 0.0228 - val_accuracy: 0.9991 - val_loss: 0.0074\n",
      "Epoch 21/1000\n",
      "\u001B[1m105/105\u001B[0m \u001B[32m━━━━━━━━━━━━━━━━━━━━\u001B[0m\u001B[37m\u001B[0m \u001B[1m0s\u001B[0m 12ms/step - accuracy: 0.9896 - loss: 0.0392\n",
      "Epoch 21: saving model to new_hand_classifier.keras\n",
      "\u001B[1m105/105\u001B[0m \u001B[32m━━━━━━━━━━━━━━━━━━━━\u001B[0m\u001B[37m\u001B[0m \u001B[1m2s\u001B[0m 14ms/step - accuracy: 0.9896 - loss: 0.0392 - val_accuracy: 0.9986 - val_loss: 0.0083\n",
      "Epoch 22/1000\n",
      "\u001B[1m101/105\u001B[0m \u001B[32m━━━━━━━━━━━━━━━━━━━\u001B[0m\u001B[37m━\u001B[0m \u001B[1m0s\u001B[0m 11ms/step - accuracy: 0.9912 - loss: 0.0273\n",
      "Epoch 22: saving model to new_hand_classifier.keras\n",
      "\u001B[1m105/105\u001B[0m \u001B[32m━━━━━━━━━━━━━━━━━━━━\u001B[0m\u001B[37m\u001B[0m \u001B[1m1s\u001B[0m 14ms/step - accuracy: 0.9911 - loss: 0.0275 - val_accuracy: 0.9986 - val_loss: 0.0078\n",
      "Epoch 23/1000\n",
      "\u001B[1m103/105\u001B[0m \u001B[32m━━━━━━━━━━━━━━━━━━━\u001B[0m\u001B[37m━\u001B[0m \u001B[1m0s\u001B[0m 13ms/step - accuracy: 0.9909 - loss: 0.0298\n",
      "Epoch 23: saving model to new_hand_classifier.keras\n",
      "\u001B[1m105/105\u001B[0m \u001B[32m━━━━━━━━━━━━━━━━━━━━\u001B[0m\u001B[37m\u001B[0m \u001B[1m2s\u001B[0m 15ms/step - accuracy: 0.9909 - loss: 0.0298 - val_accuracy: 0.9988 - val_loss: 0.0058\n",
      "Epoch 24/1000\n",
      "\u001B[1m105/105\u001B[0m \u001B[32m━━━━━━━━━━━━━━━━━━━━\u001B[0m\u001B[37m\u001B[0m \u001B[1m0s\u001B[0m 11ms/step - accuracy: 0.9933 - loss: 0.0187\n",
      "Epoch 24: saving model to new_hand_classifier.keras\n",
      "\u001B[1m105/105\u001B[0m \u001B[32m━━━━━━━━━━━━━━━━━━━━\u001B[0m\u001B[37m\u001B[0m \u001B[1m1s\u001B[0m 14ms/step - accuracy: 0.9933 - loss: 0.0187 - val_accuracy: 0.9993 - val_loss: 0.0048\n",
      "Epoch 25/1000\n",
      "\u001B[1m105/105\u001B[0m \u001B[32m━━━━━━━━━━━━━━━━━━━━\u001B[0m\u001B[37m\u001B[0m \u001B[1m0s\u001B[0m 11ms/step - accuracy: 0.9934 - loss: 0.0208\n",
      "Epoch 25: saving model to new_hand_classifier.keras\n",
      "\u001B[1m105/105\u001B[0m \u001B[32m━━━━━━━━━━━━━━━━━━━━\u001B[0m\u001B[37m\u001B[0m \u001B[1m1s\u001B[0m 14ms/step - accuracy: 0.9934 - loss: 0.0208 - val_accuracy: 0.9990 - val_loss: 0.0058\n",
      "Epoch 26/1000\n",
      "\u001B[1m102/105\u001B[0m \u001B[32m━━━━━━━━━━━━━━━━━━━\u001B[0m\u001B[37m━\u001B[0m \u001B[1m0s\u001B[0m 12ms/step - accuracy: 0.9955 - loss: 0.0143\n",
      "Epoch 26: saving model to new_hand_classifier.keras\n",
      "\u001B[1m105/105\u001B[0m \u001B[32m━━━━━━━━━━━━━━━━━━━━\u001B[0m\u001B[37m\u001B[0m \u001B[1m2s\u001B[0m 14ms/step - accuracy: 0.9955 - loss: 0.0144 - val_accuracy: 0.9986 - val_loss: 0.0079\n",
      "Epoch 27/1000\n",
      "\u001B[1m101/105\u001B[0m \u001B[32m━━━━━━━━━━━━━━━━━━━\u001B[0m\u001B[37m━\u001B[0m \u001B[1m0s\u001B[0m 11ms/step - accuracy: 0.9934 - loss: 0.0231\n",
      "Epoch 27: saving model to new_hand_classifier.keras\n",
      "\u001B[1m105/105\u001B[0m \u001B[32m━━━━━━━━━━━━━━━━━━━━\u001B[0m\u001B[37m\u001B[0m \u001B[1m1s\u001B[0m 13ms/step - accuracy: 0.9933 - loss: 0.0233 - val_accuracy: 0.9990 - val_loss: 0.0091\n",
      "Epoch 28/1000\n",
      "\u001B[1m104/105\u001B[0m \u001B[32m━━━━━━━━━━━━━━━━━━━\u001B[0m\u001B[37m━\u001B[0m \u001B[1m0s\u001B[0m 13ms/step - accuracy: 0.9910 - loss: 0.0319\n",
      "Epoch 28: saving model to new_hand_classifier.keras\n",
      "\u001B[1m105/105\u001B[0m \u001B[32m━━━━━━━━━━━━━━━━━━━━\u001B[0m\u001B[37m\u001B[0m \u001B[1m2s\u001B[0m 16ms/step - accuracy: 0.9910 - loss: 0.0317 - val_accuracy: 0.9988 - val_loss: 0.0048\n",
      "Epoch 29/1000\n",
      "\u001B[1m101/105\u001B[0m \u001B[32m━━━━━━━━━━━━━━━━━━━\u001B[0m\u001B[37m━\u001B[0m \u001B[1m0s\u001B[0m 11ms/step - accuracy: 0.9937 - loss: 0.0192\n",
      "Epoch 29: saving model to new_hand_classifier.keras\n",
      "\u001B[1m105/105\u001B[0m \u001B[32m━━━━━━━━━━━━━━━━━━━━\u001B[0m\u001B[37m\u001B[0m \u001B[1m2s\u001B[0m 14ms/step - accuracy: 0.9937 - loss: 0.0193 - val_accuracy: 0.9995 - val_loss: 0.0045\n",
      "Epoch 30/1000\n",
      "\u001B[1m103/105\u001B[0m \u001B[32m━━━━━━━━━━━━━━━━━━━\u001B[0m\u001B[37m━\u001B[0m \u001B[1m0s\u001B[0m 13ms/step - accuracy: 0.9957 - loss: 0.0125\n",
      "Epoch 30: saving model to new_hand_classifier.keras\n",
      "\u001B[1m105/105\u001B[0m \u001B[32m━━━━━━━━━━━━━━━━━━━━\u001B[0m\u001B[37m\u001B[0m \u001B[1m2s\u001B[0m 15ms/step - accuracy: 0.9957 - loss: 0.0125 - val_accuracy: 0.9988 - val_loss: 0.0076\n",
      "Epoch 31/1000\n",
      "\u001B[1m101/105\u001B[0m \u001B[32m━━━━━━━━━━━━━━━━━━━\u001B[0m\u001B[37m━\u001B[0m \u001B[1m0s\u001B[0m 11ms/step - accuracy: 0.9947 - loss: 0.0155\n",
      "Epoch 31: saving model to new_hand_classifier.keras\n",
      "\u001B[1m105/105\u001B[0m \u001B[32m━━━━━━━━━━━━━━━━━━━━\u001B[0m\u001B[37m\u001B[0m \u001B[1m1s\u001B[0m 13ms/step - accuracy: 0.9946 - loss: 0.0157 - val_accuracy: 0.9990 - val_loss: 0.0073\n",
      "Epoch 32/1000\n",
      "\u001B[1m101/105\u001B[0m \u001B[32m━━━━━━━━━━━━━━━━━━━\u001B[0m\u001B[37m━\u001B[0m \u001B[1m0s\u001B[0m 13ms/step - accuracy: 0.9949 - loss: 0.0172\n",
      "Epoch 32: saving model to new_hand_classifier.keras\n",
      "\u001B[1m105/105\u001B[0m \u001B[32m━━━━━━━━━━━━━━━━━━━━\u001B[0m\u001B[37m\u001B[0m \u001B[1m2s\u001B[0m 16ms/step - accuracy: 0.9949 - loss: 0.0172 - val_accuracy: 0.9983 - val_loss: 0.0101\n",
      "Epoch 33/1000\n",
      "\u001B[1m105/105\u001B[0m \u001B[32m━━━━━━━━━━━━━━━━━━━━\u001B[0m\u001B[37m\u001B[0m \u001B[1m0s\u001B[0m 11ms/step - accuracy: 0.9950 - loss: 0.0126\n",
      "Epoch 33: saving model to new_hand_classifier.keras\n",
      "\u001B[1m105/105\u001B[0m \u001B[32m━━━━━━━━━━━━━━━━━━━━\u001B[0m\u001B[37m\u001B[0m \u001B[1m1s\u001B[0m 14ms/step - accuracy: 0.9950 - loss: 0.0127 - val_accuracy: 0.9986 - val_loss: 0.0082\n",
      "Epoch 34/1000\n",
      "\u001B[1m104/105\u001B[0m \u001B[32m━━━━━━━━━━━━━━━━━━━\u001B[0m\u001B[37m━\u001B[0m \u001B[1m0s\u001B[0m 11ms/step - accuracy: 0.9939 - loss: 0.0156\n",
      "Epoch 34: saving model to new_hand_classifier.keras\n",
      "\u001B[1m105/105\u001B[0m \u001B[32m━━━━━━━━━━━━━━━━━━━━\u001B[0m\u001B[37m\u001B[0m \u001B[1m1s\u001B[0m 14ms/step - accuracy: 0.9939 - loss: 0.0156 - val_accuracy: 0.9939 - val_loss: 0.0254\n",
      "Epoch 35/1000\n",
      "\u001B[1m105/105\u001B[0m \u001B[32m━━━━━━━━━━━━━━━━━━━━\u001B[0m\u001B[37m\u001B[0m \u001B[1m0s\u001B[0m 11ms/step - accuracy: 0.9954 - loss: 0.0178\n",
      "Epoch 35: saving model to new_hand_classifier.keras\n",
      "\u001B[1m105/105\u001B[0m \u001B[32m━━━━━━━━━━━━━━━━━━━━\u001B[0m\u001B[37m\u001B[0m \u001B[1m1s\u001B[0m 14ms/step - accuracy: 0.9954 - loss: 0.0178 - val_accuracy: 0.9995 - val_loss: 0.0037\n",
      "Epoch 36/1000\n",
      "\u001B[1m105/105\u001B[0m \u001B[32m━━━━━━━━━━━━━━━━━━━━\u001B[0m\u001B[37m\u001B[0m \u001B[1m0s\u001B[0m 12ms/step - accuracy: 0.9944 - loss: 0.0192\n",
      "Epoch 36: saving model to new_hand_classifier.keras\n",
      "\u001B[1m105/105\u001B[0m \u001B[32m━━━━━━━━━━━━━━━━━━━━\u001B[0m\u001B[37m\u001B[0m \u001B[1m2s\u001B[0m 15ms/step - accuracy: 0.9944 - loss: 0.0192 - val_accuracy: 0.9981 - val_loss: 0.0106\n",
      "Epoch 37/1000\n",
      "\u001B[1m103/105\u001B[0m \u001B[32m━━━━━━━━━━━━━━━━━━━\u001B[0m\u001B[37m━\u001B[0m \u001B[1m0s\u001B[0m 11ms/step - accuracy: 0.9967 - loss: 0.0114\n",
      "Epoch 37: saving model to new_hand_classifier.keras\n",
      "\u001B[1m105/105\u001B[0m \u001B[32m━━━━━━━━━━━━━━━━━━━━\u001B[0m\u001B[37m\u001B[0m \u001B[1m1s\u001B[0m 14ms/step - accuracy: 0.9967 - loss: 0.0115 - val_accuracy: 0.9991 - val_loss: 0.0047\n",
      "Epoch 38/1000\n",
      "\u001B[1m104/105\u001B[0m \u001B[32m━━━━━━━━━━━━━━━━━━━\u001B[0m\u001B[37m━\u001B[0m \u001B[1m0s\u001B[0m 13ms/step - accuracy: 0.9935 - loss: 0.0192\n",
      "Epoch 38: saving model to new_hand_classifier.keras\n",
      "\u001B[1m105/105\u001B[0m \u001B[32m━━━━━━━━━━━━━━━━━━━━\u001B[0m\u001B[37m\u001B[0m \u001B[1m2s\u001B[0m 16ms/step - accuracy: 0.9935 - loss: 0.0192 - val_accuracy: 0.9990 - val_loss: 0.0088\n",
      "Epoch 39/1000\n",
      "\u001B[1m103/105\u001B[0m \u001B[32m━━━━━━━━━━━━━━━━━━━\u001B[0m\u001B[37m━\u001B[0m \u001B[1m0s\u001B[0m 11ms/step - accuracy: 0.9893 - loss: 0.0304\n",
      "Epoch 39: saving model to new_hand_classifier.keras\n",
      "\u001B[1m105/105\u001B[0m \u001B[32m━━━━━━━━━━━━━━━━━━━━\u001B[0m\u001B[37m\u001B[0m \u001B[1m1s\u001B[0m 14ms/step - accuracy: 0.9894 - loss: 0.0304 - val_accuracy: 0.9979 - val_loss: 0.0098\n",
      "Epoch 40/1000\n",
      "\u001B[1m103/105\u001B[0m \u001B[32m━━━━━━━━━━━━━━━━━━━\u001B[0m\u001B[37m━\u001B[0m \u001B[1m0s\u001B[0m 12ms/step - accuracy: 0.9951 - loss: 0.0145\n",
      "Epoch 40: saving model to new_hand_classifier.keras\n",
      "\u001B[1m105/105\u001B[0m \u001B[32m━━━━━━━━━━━━━━━━━━━━\u001B[0m\u001B[37m\u001B[0m \u001B[1m2s\u001B[0m 15ms/step - accuracy: 0.9951 - loss: 0.0145 - val_accuracy: 0.9995 - val_loss: 0.0044\n",
      "Epoch 41/1000\n",
      "\u001B[1m101/105\u001B[0m \u001B[32m━━━━━━━━━━━━━━━━━━━\u001B[0m\u001B[37m━\u001B[0m \u001B[1m0s\u001B[0m 12ms/step - accuracy: 0.9945 - loss: 0.0156\n",
      "Epoch 41: saving model to new_hand_classifier.keras\n",
      "\u001B[1m105/105\u001B[0m \u001B[32m━━━━━━━━━━━━━━━━━━━━\u001B[0m\u001B[37m\u001B[0m \u001B[1m2s\u001B[0m 14ms/step - accuracy: 0.9945 - loss: 0.0157 - val_accuracy: 0.9986 - val_loss: 0.0082\n",
      "Epoch 42/1000\n",
      "\u001B[1m105/105\u001B[0m \u001B[32m━━━━━━━━━━━━━━━━━━━━\u001B[0m\u001B[37m\u001B[0m \u001B[1m0s\u001B[0m 11ms/step - accuracy: 0.9947 - loss: 0.0186\n",
      "Epoch 42: saving model to new_hand_classifier.keras\n",
      "\u001B[1m105/105\u001B[0m \u001B[32m━━━━━━━━━━━━━━━━━━━━\u001B[0m\u001B[37m\u001B[0m \u001B[1m1s\u001B[0m 14ms/step - accuracy: 0.9947 - loss: 0.0185 - val_accuracy: 0.9995 - val_loss: 0.0037\n",
      "Epoch 43/1000\n",
      "\u001B[1m101/105\u001B[0m \u001B[32m━━━━━━━━━━━━━━━━━━━\u001B[0m\u001B[37m━\u001B[0m \u001B[1m0s\u001B[0m 11ms/step - accuracy: 0.9978 - loss: 0.0071\n",
      "Epoch 43: saving model to new_hand_classifier.keras\n",
      "\u001B[1m105/105\u001B[0m \u001B[32m━━━━━━━━━━━━━━━━━━━━\u001B[0m\u001B[37m\u001B[0m \u001B[1m1s\u001B[0m 14ms/step - accuracy: 0.9977 - loss: 0.0074 - val_accuracy: 0.9974 - val_loss: 0.0089\n",
      "Epoch 44/1000\n",
      "\u001B[1m104/105\u001B[0m \u001B[32m━━━━━━━━━━━━━━━━━━━\u001B[0m\u001B[37m━\u001B[0m \u001B[1m0s\u001B[0m 13ms/step - accuracy: 0.9928 - loss: 0.0191\n",
      "Epoch 44: saving model to new_hand_classifier.keras\n",
      "\u001B[1m105/105\u001B[0m \u001B[32m━━━━━━━━━━━━━━━━━━━━\u001B[0m\u001B[37m\u001B[0m \u001B[1m2s\u001B[0m 16ms/step - accuracy: 0.9928 - loss: 0.0191 - val_accuracy: 0.9990 - val_loss: 0.0060\n",
      "Epoch 45/1000\n",
      "\u001B[1m104/105\u001B[0m \u001B[32m━━━━━━━━━━━━━━━━━━━\u001B[0m\u001B[37m━\u001B[0m \u001B[1m0s\u001B[0m 11ms/step - accuracy: 0.9957 - loss: 0.0133\n",
      "Epoch 45: saving model to new_hand_classifier.keras\n",
      "\u001B[1m105/105\u001B[0m \u001B[32m━━━━━━━━━━━━━━━━━━━━\u001B[0m\u001B[37m\u001B[0m \u001B[1m1s\u001B[0m 14ms/step - accuracy: 0.9957 - loss: 0.0133 - val_accuracy: 0.9995 - val_loss: 0.0033\n",
      "Epoch 46/1000\n",
      "\u001B[1m103/105\u001B[0m \u001B[32m━━━━━━━━━━━━━━━━━━━\u001B[0m\u001B[37m━\u001B[0m \u001B[1m0s\u001B[0m 11ms/step - accuracy: 0.9978 - loss: 0.0073\n",
      "Epoch 46: saving model to new_hand_classifier.keras\n",
      "\u001B[1m105/105\u001B[0m \u001B[32m━━━━━━━━━━━━━━━━━━━━\u001B[0m\u001B[37m\u001B[0m \u001B[1m1s\u001B[0m 14ms/step - accuracy: 0.9978 - loss: 0.0074 - val_accuracy: 0.9997 - val_loss: 0.0034\n",
      "Epoch 47/1000\n",
      "\u001B[1m104/105\u001B[0m \u001B[32m━━━━━━━━━━━━━━━━━━━\u001B[0m\u001B[37m━\u001B[0m \u001B[1m0s\u001B[0m 11ms/step - accuracy: 0.9962 - loss: 0.0091\n",
      "Epoch 47: saving model to new_hand_classifier.keras\n",
      "\u001B[1m105/105\u001B[0m \u001B[32m━━━━━━━━━━━━━━━━━━━━\u001B[0m\u001B[37m\u001B[0m \u001B[1m1s\u001B[0m 14ms/step - accuracy: 0.9962 - loss: 0.0092 - val_accuracy: 0.9988 - val_loss: 0.0052\n",
      "Epoch 48/1000\n",
      "\u001B[1m104/105\u001B[0m \u001B[32m━━━━━━━━━━━━━━━━━━━\u001B[0m\u001B[37m━\u001B[0m \u001B[1m0s\u001B[0m 13ms/step - accuracy: 0.9949 - loss: 0.0139\n",
      "Epoch 48: saving model to new_hand_classifier.keras\n",
      "\u001B[1m105/105\u001B[0m \u001B[32m━━━━━━━━━━━━━━━━━━━━\u001B[0m\u001B[37m\u001B[0m \u001B[1m2s\u001B[0m 16ms/step - accuracy: 0.9949 - loss: 0.0139 - val_accuracy: 0.9991 - val_loss: 0.0056\n",
      "Epoch 49/1000\n",
      "\u001B[1m101/105\u001B[0m \u001B[32m━━━━━━━━━━━━━━━━━━━\u001B[0m\u001B[37m━\u001B[0m \u001B[1m0s\u001B[0m 12ms/step - accuracy: 0.9954 - loss: 0.0150\n",
      "Epoch 49: saving model to new_hand_classifier.keras\n",
      "\u001B[1m105/105\u001B[0m \u001B[32m━━━━━━━━━━━━━━━━━━━━\u001B[0m\u001B[37m\u001B[0m \u001B[1m2s\u001B[0m 15ms/step - accuracy: 0.9953 - loss: 0.0151 - val_accuracy: 0.9993 - val_loss: 0.0050\n",
      "Epoch 50/1000\n",
      "\u001B[1m105/105\u001B[0m \u001B[32m━━━━━━━━━━━━━━━━━━━━\u001B[0m\u001B[37m\u001B[0m \u001B[1m0s\u001B[0m 11ms/step - accuracy: 0.9950 - loss: 0.0146\n",
      "Epoch 50: saving model to new_hand_classifier.keras\n",
      "\u001B[1m105/105\u001B[0m \u001B[32m━━━━━━━━━━━━━━━━━━━━\u001B[0m\u001B[37m\u001B[0m \u001B[1m1s\u001B[0m 14ms/step - accuracy: 0.9950 - loss: 0.0146 - val_accuracy: 0.9991 - val_loss: 0.0058\n",
      "Epoch 51/1000\n",
      "\u001B[1m102/105\u001B[0m \u001B[32m━━━━━━━━━━━━━━━━━━━\u001B[0m\u001B[37m━\u001B[0m \u001B[1m0s\u001B[0m 11ms/step - accuracy: 0.9929 - loss: 0.0239\n",
      "Epoch 51: saving model to new_hand_classifier.keras\n",
      "\u001B[1m105/105\u001B[0m \u001B[32m━━━━━━━━━━━━━━━━━━━━\u001B[0m\u001B[37m\u001B[0m \u001B[1m1s\u001B[0m 13ms/step - accuracy: 0.9930 - loss: 0.0238 - val_accuracy: 0.9988 - val_loss: 0.0053\n",
      "Epoch 52/1000\n",
      "\u001B[1m103/105\u001B[0m \u001B[32m━━━━━━━━━━━━━━━━━━━\u001B[0m\u001B[37m━\u001B[0m \u001B[1m0s\u001B[0m 13ms/step - accuracy: 0.9930 - loss: 0.0212\n",
      "Epoch 52: saving model to new_hand_classifier.keras\n",
      "\u001B[1m105/105\u001B[0m \u001B[32m━━━━━━━━━━━━━━━━━━━━\u001B[0m\u001B[37m\u001B[0m \u001B[1m2s\u001B[0m 16ms/step - accuracy: 0.9931 - loss: 0.0212 - val_accuracy: 0.9991 - val_loss: 0.0057\n",
      "Epoch 53/1000\n",
      "\u001B[1m105/105\u001B[0m \u001B[32m━━━━━━━━━━━━━━━━━━━━\u001B[0m\u001B[37m\u001B[0m \u001B[1m0s\u001B[0m 11ms/step - accuracy: 0.9957 - loss: 0.0148\n",
      "Epoch 53: saving model to new_hand_classifier.keras\n",
      "\u001B[1m105/105\u001B[0m \u001B[32m━━━━━━━━━━━━━━━━━━━━\u001B[0m\u001B[37m\u001B[0m \u001B[1m1s\u001B[0m 14ms/step - accuracy: 0.9957 - loss: 0.0148 - val_accuracy: 0.9990 - val_loss: 0.0080\n",
      "Epoch 54/1000\n",
      "\u001B[1m102/105\u001B[0m \u001B[32m━━━━━━━━━━━━━━━━━━━\u001B[0m\u001B[37m━\u001B[0m \u001B[1m0s\u001B[0m 11ms/step - accuracy: 0.9974 - loss: 0.0082\n",
      "Epoch 54: saving model to new_hand_classifier.keras\n",
      "\u001B[1m105/105\u001B[0m \u001B[32m━━━━━━━━━━━━━━━━━━━━\u001B[0m\u001B[37m\u001B[0m \u001B[1m1s\u001B[0m 14ms/step - accuracy: 0.9974 - loss: 0.0083 - val_accuracy: 0.9976 - val_loss: 0.0114\n",
      "Epoch 55/1000\n",
      "\u001B[1m104/105\u001B[0m \u001B[32m━━━━━━━━━━━━━━━━━━━\u001B[0m\u001B[37m━\u001B[0m \u001B[1m0s\u001B[0m 11ms/step - accuracy: 0.9960 - loss: 0.0116\n",
      "Epoch 55: saving model to new_hand_classifier.keras\n",
      "\u001B[1m105/105\u001B[0m \u001B[32m━━━━━━━━━━━━━━━━━━━━\u001B[0m\u001B[37m\u001B[0m \u001B[1m1s\u001B[0m 13ms/step - accuracy: 0.9960 - loss: 0.0116 - val_accuracy: 0.9991 - val_loss: 0.0064\n",
      "Epoch 56/1000\n",
      "\u001B[1m101/105\u001B[0m \u001B[32m━━━━━━━━━━━━━━━━━━━\u001B[0m\u001B[37m━\u001B[0m \u001B[1m0s\u001B[0m 13ms/step - accuracy: 0.9945 - loss: 0.0170\n",
      "Epoch 56: saving model to new_hand_classifier.keras\n",
      "\u001B[1m105/105\u001B[0m \u001B[32m━━━━━━━━━━━━━━━━━━━━\u001B[0m\u001B[37m\u001B[0m \u001B[1m2s\u001B[0m 15ms/step - accuracy: 0.9946 - loss: 0.0169 - val_accuracy: 0.9991 - val_loss: 0.0064\n",
      "Epoch 57/1000\n",
      "\u001B[1m101/105\u001B[0m \u001B[32m━━━━━━━━━━━━━━━━━━━\u001B[0m\u001B[37m━\u001B[0m \u001B[1m0s\u001B[0m 11ms/step - accuracy: 0.9963 - loss: 0.0141\n",
      "Epoch 57: saving model to new_hand_classifier.keras\n",
      "\u001B[1m105/105\u001B[0m \u001B[32m━━━━━━━━━━━━━━━━━━━━\u001B[0m\u001B[37m\u001B[0m \u001B[1m1s\u001B[0m 13ms/step - accuracy: 0.9963 - loss: 0.0140 - val_accuracy: 0.9991 - val_loss: 0.0040\n",
      "Epoch 58/1000\n",
      "\u001B[1m105/105\u001B[0m \u001B[32m━━━━━━━━━━━━━━━━━━━━\u001B[0m\u001B[37m\u001B[0m \u001B[1m0s\u001B[0m 11ms/step - accuracy: 0.9960 - loss: 0.0107\n",
      "Epoch 58: saving model to new_hand_classifier.keras\n",
      "\u001B[1m105/105\u001B[0m \u001B[32m━━━━━━━━━━━━━━━━━━━━\u001B[0m\u001B[37m\u001B[0m \u001B[1m1s\u001B[0m 14ms/step - accuracy: 0.9960 - loss: 0.0108 - val_accuracy: 0.9991 - val_loss: 0.0054\n",
      "Epoch 59/1000\n",
      "\u001B[1m101/105\u001B[0m \u001B[32m━━━━━━━━━━━━━━━━━━━\u001B[0m\u001B[37m━\u001B[0m \u001B[1m0s\u001B[0m 11ms/step - accuracy: 0.9972 - loss: 0.0087\n",
      "Epoch 59: saving model to new_hand_classifier.keras\n",
      "\u001B[1m105/105\u001B[0m \u001B[32m━━━━━━━━━━━━━━━━━━━━\u001B[0m\u001B[37m\u001B[0m \u001B[1m1s\u001B[0m 14ms/step - accuracy: 0.9972 - loss: 0.0088 - val_accuracy: 0.9993 - val_loss: 0.0054\n",
      "Epoch 60/1000\n",
      "\u001B[1m103/105\u001B[0m \u001B[32m━━━━━━━━━━━━━━━━━━━\u001B[0m\u001B[37m━\u001B[0m \u001B[1m0s\u001B[0m 12ms/step - accuracy: 0.9979 - loss: 0.0078\n",
      "Epoch 60: saving model to new_hand_classifier.keras\n",
      "\u001B[1m105/105\u001B[0m \u001B[32m━━━━━━━━━━━━━━━━━━━━\u001B[0m\u001B[37m\u001B[0m \u001B[1m2s\u001B[0m 15ms/step - accuracy: 0.9979 - loss: 0.0078 - val_accuracy: 0.9995 - val_loss: 0.0082\n",
      "Epoch 61/1000\n",
      "\u001B[1m103/105\u001B[0m \u001B[32m━━━━━━━━━━━━━━━━━━━\u001B[0m\u001B[37m━\u001B[0m \u001B[1m0s\u001B[0m 11ms/step - accuracy: 0.9979 - loss: 0.0070\n",
      "Epoch 61: saving model to new_hand_classifier.keras\n",
      "\u001B[1m105/105\u001B[0m \u001B[32m━━━━━━━━━━━━━━━━━━━━\u001B[0m\u001B[37m\u001B[0m \u001B[1m1s\u001B[0m 13ms/step - accuracy: 0.9979 - loss: 0.0070 - val_accuracy: 0.9990 - val_loss: 0.0108\n",
      "Epoch 62/1000\n",
      "\u001B[1m105/105\u001B[0m \u001B[32m━━━━━━━━━━━━━━━━━━━━\u001B[0m\u001B[37m\u001B[0m \u001B[1m0s\u001B[0m 11ms/step - accuracy: 0.9977 - loss: 0.0070\n",
      "Epoch 62: saving model to new_hand_classifier.keras\n",
      "\u001B[1m105/105\u001B[0m \u001B[32m━━━━━━━━━━━━━━━━━━━━\u001B[0m\u001B[37m\u001B[0m \u001B[1m1s\u001B[0m 14ms/step - accuracy: 0.9976 - loss: 0.0071 - val_accuracy: 0.9995 - val_loss: 0.0052\n",
      "Epoch 63/1000\n",
      "\u001B[1m105/105\u001B[0m \u001B[32m━━━━━━━━━━━━━━━━━━━━\u001B[0m\u001B[37m\u001B[0m \u001B[1m0s\u001B[0m 13ms/step - accuracy: 0.9967 - loss: 0.0097\n",
      "Epoch 63: saving model to new_hand_classifier.keras\n",
      "\u001B[1m105/105\u001B[0m \u001B[32m━━━━━━━━━━━━━━━━━━━━\u001B[0m\u001B[37m\u001B[0m \u001B[1m2s\u001B[0m 15ms/step - accuracy: 0.9967 - loss: 0.0097 - val_accuracy: 0.9974 - val_loss: 0.0080\n",
      "Epoch 64/1000\n",
      "\u001B[1m101/105\u001B[0m \u001B[32m━━━━━━━━━━━━━━━━━━━\u001B[0m\u001B[37m━\u001B[0m \u001B[1m0s\u001B[0m 11ms/step - accuracy: 0.9970 - loss: 0.0107\n",
      "Epoch 64: saving model to new_hand_classifier.keras\n",
      "\u001B[1m105/105\u001B[0m \u001B[32m━━━━━━━━━━━━━━━━━━━━\u001B[0m\u001B[37m\u001B[0m \u001B[1m1s\u001B[0m 14ms/step - accuracy: 0.9970 - loss: 0.0106 - val_accuracy: 0.9995 - val_loss: 0.0045\n",
      "Epoch 65/1000\n",
      "\u001B[1m105/105\u001B[0m \u001B[32m━━━━━━━━━━━━━━━━━━━━\u001B[0m\u001B[37m\u001B[0m \u001B[1m0s\u001B[0m 11ms/step - accuracy: 0.9973 - loss: 0.0102\n",
      "Epoch 65: saving model to new_hand_classifier.keras\n",
      "\u001B[1m105/105\u001B[0m \u001B[32m━━━━━━━━━━━━━━━━━━━━\u001B[0m\u001B[37m\u001B[0m \u001B[1m1s\u001B[0m 14ms/step - accuracy: 0.9973 - loss: 0.0102 - val_accuracy: 0.9995 - val_loss: 0.0053\n",
      "Epoch 65: early stopping\n"
     ]
    }
   ],
   "source": [
    "history = model.fit(\n",
    "    X_train,\n",
    "    y_train,\n",
    "    epochs=1000,\n",
    "    batch_size=128,\n",
    "    validation_data=(X_validation, y_validation),\n",
    "    callbacks=[cp_callback, es_callback]\n",
    ")"
   ],
   "metadata": {
    "collapsed": false
   }
  },
  {
   "cell_type": "code",
   "execution_count": 15,
   "outputs": [
    {
     "name": "stdout",
     "output_type": "stream",
     "text": [
      "\u001B[1m19/19\u001B[0m \u001B[32m━━━━━━━━━━━━━━━━━━━━\u001B[0m\u001B[37m\u001B[0m \u001B[1m0s\u001B[0m 5ms/step - accuracy: 0.9452 - loss: 0.1680\n"
     ]
    }
   ],
   "source": [
    "# Model evaluation\n",
    "val_loss, val_acc = model.evaluate(X_testGood, y_testGood, batch_size=128)"
   ],
   "metadata": {
    "collapsed": false
   }
  },
  {
   "cell_type": "code",
   "execution_count": 16,
   "outputs": [
    {
     "name": "stdout",
     "output_type": "stream",
     "text": [
      "\u001B[1m19/19\u001B[0m \u001B[32m━━━━━━━━━━━━━━━━━━━━\u001B[0m\u001B[37m\u001B[0m \u001B[1m0s\u001B[0m 4ms/step - accuracy: 0.7574 - loss: 1.5956\n"
     ]
    }
   ],
   "source": [
    "# Model evaluation\n",
    "val_loss, val_acc = model.evaluate(X_testBad, y_testBad, batch_size=128)"
   ],
   "metadata": {
    "collapsed": false
   }
  },
  {
   "cell_type": "code",
   "execution_count": 17,
   "outputs": [
    {
     "name": "stdout",
     "output_type": "stream",
     "text": [
      "\u001B[1m19/19\u001B[0m \u001B[32m━━━━━━━━━━━━━━━━━━━━\u001B[0m\u001B[37m\u001B[0m \u001B[1m0s\u001B[0m 5ms/step - accuracy: 0.9089 - loss: 0.8037\n"
     ]
    }
   ],
   "source": [
    "# Model evaluation\n",
    "val_loss, val_acc = model.evaluate(X_testDark, y_testDark, batch_size=128)"
   ],
   "metadata": {
    "collapsed": false
   }
  },
  {
   "cell_type": "code",
   "execution_count": 17,
   "outputs": [],
   "source": [],
   "metadata": {
    "collapsed": false
   }
  },
  {
   "cell_type": "code",
   "execution_count": 18,
   "outputs": [],
   "source": [
    "# Loading the saved model\n",
    "model = tf.keras.models.load_model(model_save_path)"
   ],
   "metadata": {
    "collapsed": false
   }
  },
  {
   "cell_type": "code",
   "execution_count": 19,
   "outputs": [
    {
     "name": "stdout",
     "output_type": "stream",
     "text": [
      "\u001B[1m1/1\u001B[0m \u001B[32m━━━━━━━━━━━━━━━━━━━━\u001B[0m\u001B[37m\u001B[0m \u001B[1m0s\u001B[0m 97ms/step\n",
      "[1.0000000e+00 3.1740803e-38 2.9222954e-21 5.7832562e-30 1.3477849e-37\n",
      " 7.7636012e-30 3.0165246e-18 8.9862640e-24 8.9107780e-34 8.6551104e-30\n",
      " 2.0142920e-23 9.2064391e-28 1.7235628e-19 1.9959416e-16 1.9541774e-27\n",
      " 1.3987073e-15 3.1282136e-13 7.0393191e-38 6.4129762e-20 1.4228755e-16\n",
      " 1.8792147e-26 2.4435996e-35 4.2957961e-17 2.5917299e-27 4.1824162e-15\n",
      " 4.4334568e-34]\n",
      "0\n"
     ]
    }
   ],
   "source": [
    "# Inference test\n",
    "predict_result = model.predict(np.array([X_testGood[0]]))\n",
    "print(np.squeeze(predict_result))\n",
    "print(np.argmax(np.squeeze(predict_result)))"
   ],
   "metadata": {
    "collapsed": false
   }
  },
  {
   "cell_type": "markdown",
   "source": [
    "# Confusion matrix"
   ],
   "metadata": {
    "collapsed": false
   }
  },
  {
   "cell_type": "code",
   "execution_count": 20,
   "outputs": [
    {
     "name": "stdout",
     "output_type": "stream",
     "text": [
      "\u001B[1m75/75\u001B[0m \u001B[32m━━━━━━━━━━━━━━━━━━━━\u001B[0m\u001B[37m\u001B[0m \u001B[1m0s\u001B[0m 3ms/step\n"
     ]
    },
    {
     "data": {
      "text/plain": "<Figure size 700x600 with 2 Axes>",
      "image/png": "[encoded data removed]"
     },
     "metadata": {},
     "output_type": "display_data"
    },
    {
     "name": "stdout",
     "output_type": "stream",
     "text": [
      "Classification Report\n",
      "              precision    recall  f1-score   support\n",
      "\n",
      "           0       1.00      1.00      1.00       100\n",
      "           1       1.00      1.00      1.00       100\n",
      "           2       1.00      1.00      1.00       100\n",
      "           3       1.00      1.00      1.00       100\n",
      "           4       1.00      1.00      1.00       100\n",
      "           5       1.00      1.00      1.00       100\n",
      "           6       1.00      1.00      1.00       100\n",
      "           7       1.00      1.00      1.00       100\n",
      "           8       1.00      1.00      1.00       100\n",
      "          10       1.00      0.50      0.67       100\n",
      "          11       1.00      1.00      1.00       100\n",
      "          12       1.00      1.00      1.00       100\n",
      "          13       1.00      1.00      1.00       100\n",
      "          14       1.00      1.00      1.00       100\n",
      "          15       1.00      1.00      1.00       100\n",
      "          16       1.00      1.00      1.00       100\n",
      "          17       1.00      0.55      0.71       100\n",
      "          18       1.00      1.00      1.00       100\n",
      "          19       1.00      1.00      1.00       100\n",
      "          20       0.69      1.00      0.82       100\n",
      "          21       0.67      1.00      0.80       100\n",
      "          22       1.00      1.00      1.00       100\n",
      "          23       1.00      1.00      1.00       100\n",
      "          24       1.00      1.00      1.00       100\n",
      "\n",
      "    accuracy                           0.96      2400\n",
      "   macro avg       0.97      0.96      0.96      2400\n",
      "weighted avg       0.97      0.96      0.96      2400\n",
      "\n"
     ]
    }
   ],
   "source": [
    "import pandas as pd\n",
    "import seaborn as sns\n",
    "import matplotlib.pyplot as plt\n",
    "from sklearn.metrics import confusion_matrix, classification_report\n",
    "\n",
    "def print_confusion_matrix(y_true, y_pred, report=True):\n",
    "    labels = sorted(list(set(y_true)))\n",
    "    cmx_data = confusion_matrix(y_true, y_pred, labels=labels)\n",
    "\n",
    "    df_cmx = pd.DataFrame(cmx_data, index=labels, columns=labels)\n",
    "\n",
    "    fig, ax = plt.subplots(figsize=(7, 6))\n",
    "    sns.heatmap(df_cmx, annot=True, fmt='g' ,square=False)\n",
    "    ax.set_ylim(len(set(y_true)), 0)\n",
    "    plt.show()\n",
    "\n",
    "    if report:\n",
    "        print('Classification Report')\n",
    "        print(classification_report(y_testGood, y_pred))\n",
    "\n",
    "Y_pred = model.predict(X_testGood)\n",
    "y_pred = np.argmax(Y_pred, axis=1)\n",
    "\n",
    "print_confusion_matrix(y_testGood, y_pred)"
   ],
   "metadata": {
    "collapsed": false
   }
  },
  {
   "cell_type": "markdown",
   "source": [
    "# Convert to model for Tensorflow-Lite"
   ],
   "metadata": {
    "collapsed": false
   }
  },
  {
   "cell_type": "code",
   "execution_count": 21,
   "outputs": [],
   "source": [
    "# Save as a model dedicated to inference\n",
    "model.save(model_save_path, include_optimizer=False)"
   ],
   "metadata": {
    "collapsed": false
   }
  },
  {
   "cell_type": "code",
   "execution_count": null,
   "outputs": [
    {
     "name": "stdout",
     "output_type": "stream",
     "text": [
      "INFO:tensorflow:Assets written to: C:\\Users\\joren\\AppData\\Local\\Temp\\tmpq2wy_zhk\\assets\n"
     ]
    },
    {
     "name": "stderr",
     "output_type": "stream",
     "text": [
      "INFO:tensorflow:Assets written to: C:\\Users\\joren\\AppData\\Local\\Temp\\tmpq2wy_zhk\\assets\n"
     ]
    }
   ],
   "source": [
    "# Transform model (quantization)\n",
    "\n",
    "converter = tf.lite.TFLiteConverter.from_keras_model(model)\n",
    "converter.optimizations = [tf.lite.Optimize.DEFAULT]\n",
    "tflite_quantized_model = converter.convert()\n",
    "\n",
    "open(tflite_save_path, 'wb').write(tflite_quantized_model)"
   ],
   "metadata": {
    "collapsed": false,
    "pycharm": {
     "is_executing": true
    }
   }
  },
  {
   "cell_type": "markdown",
   "source": [
    "# Inference test"
   ],
   "metadata": {
    "collapsed": false
   }
  },
  {
   "cell_type": "code",
   "execution_count": null,
   "outputs": [],
   "source": [
    "interpreter = tf.lite.Interpreter(model_path=tflite_save_path)\n",
    "interpreter.allocate_tensors()"
   ],
   "metadata": {
    "collapsed": false,
    "pycharm": {
     "is_executing": true
    }
   }
  },
  {
   "cell_type": "code",
   "execution_count": null,
   "outputs": [],
   "source": [
    "# Get I / O tensor\n",
    "input_details = interpreter.get_input_details()\n",
    "output_details = interpreter.get_output_details()"
   ],
   "metadata": {
    "collapsed": false,
    "pycharm": {
     "is_executing": true
    }
   }
  },
  {
   "cell_type": "code",
   "execution_count": null,
   "outputs": [],
   "source": [
    "interpreter.set_tensor(input_details[0]['index'], np.array([X_testGood[0]]))"
   ],
   "metadata": {
    "collapsed": false,
    "pycharm": {
     "is_executing": true
    }
   }
  },
  {
   "cell_type": "code",
   "execution_count": null,
   "outputs": [],
   "source": [
    "%%time\n",
    "# Inference implementation\n",
    "interpreter.invoke()\n",
    "tflite_results = interpreter.get_tensor(output_details[0]['index'])"
   ],
   "metadata": {
    "collapsed": false,
    "pycharm": {
     "is_executing": true
    }
   }
  },
  {
   "cell_type": "code",
   "execution_count": null,
   "outputs": [],
   "source": [
    "print(np.squeeze(tflite_results))\n",
    "print(np.argmax(np.squeeze(tflite_results)))"
   ],
   "metadata": {
    "collapsed": false,
    "pycharm": {
     "is_executing": true
    }
   }
  },
  {
   "cell_type": "code",
   "execution_count": null,
   "outputs": [],
   "source": [
    "# Save the model\n",
    "model.save(model_save_path, include_optimizer=False)\n",
    "\n",
    "# Convert the model to TensorFlow Lite\n",
    "converter = tf.lite.TFLiteConverter.from_keras_model(model)\n",
    "converter.optimizations = [tf.lite.Optimize.DEFAULT]\n",
    "tflite_quantized_model = converter.convert()\n",
    "\n",
    "# Write the TFLite file\n",
    "with open(tflite_save_path, 'wb') as f:\n",
    "    f.write(tflite_quantized_model)"
   ],
   "metadata": {
    "collapsed": false,
    "pycharm": {
     "is_executing": true
    }
   }
  },
  {
   "cell_type": "markdown",
   "source": [
    "#### Loss  (cost)"
   ],
   "metadata": {
    "collapsed": false
   }
  },
  {
   "cell_type": "code",
   "execution_count": null,
   "outputs": [],
   "source": [
    "plt.plot(history.history['loss'])\n",
    "plt.plot(history.history['val_loss'])\n",
    "plt.title('Model loss')\n",
    "plt.ylabel('Loss')\n",
    "plt.xlabel('Epoch')\n",
    "plt.legend(['Train', 'Validation'], loc='upper left')\n",
    "plt.show()"
   ],
   "metadata": {
    "collapsed": false,
    "pycharm": {
     "is_executing": true
    }
   }
  },
  {
   "cell_type": "code",
   "execution_count": null,
   "outputs": [],
   "source": [
    "plt.figure(figsize=(12, 6))\n",
    "\n",
    "# Plot training & validation loss values\n",
    "plt.subplot(2, 1, 1)\n",
    "plt.plot(history.history['loss'])\n",
    "plt.plot(history.history['val_loss'])\n",
    "plt.title('Model loss')\n",
    "plt.xlabel('Epoch')\n",
    "plt.ylabel('Loss')\n",
    "plt.legend(['Train', 'Validation'], loc='upper left')\n",
    "\n",
    "# Plot training & validation accuracy and F1 score values\n",
    "plt.subplot(2, 1, 2)\n",
    "plt.plot(history.history['accuracy'])\n",
    "plt.plot(history.history['val_accuracy'])\n",
    "plt.title('Model metrics')\n",
    "plt.xlabel('Epoch')\n",
    "plt.ylabel('Metric Value')\n",
    "plt.legend(['Train Accuracy', 'Validation Accuracy', 'F1 Score'], loc='upper left')\n",
    "\n",
    "plt.tight_layout()\n",
    "plt.show()"
   ],
   "metadata": {
    "collapsed": false,
    "pycharm": {
     "is_executing": true
    }
   }
  },
  {
   "cell_type": "code",
   "execution_count": null,
   "outputs": [],
   "source": [
    "plt.plot(history.history['loss'], label='train')\n",
    "plt.plot(history.history['val_loss'], label='val')\n",
    "plt.title('Learning Curve')\n",
    "plt.xlabel('Epochs')\n",
    "plt.ylabel('Loss')\n",
    "plt.legend()\n",
    "plt.show()"
   ],
   "metadata": {
    "collapsed": false,
    "pycharm": {
     "is_executing": true
    }
   }
  },
  {
   "cell_type": "code",
   "execution_count": null,
   "outputs": [],
   "source": [],
   "metadata": {
    "collapsed": false,
    "pycharm": {
     "is_executing": true
    }
   }
  },
  {
   "cell_type": "code",
   "execution_count": null,
   "outputs": [],
   "source": [],
   "metadata": {
    "collapsed": false,
    "pycharm": {
     "is_executing": true
    }
   }
  },
  {
   "cell_type": "code",
   "execution_count": null,
   "outputs": [],
   "source": [],
   "metadata": {
    "collapsed": false
   }
  }
 ],
 "metadata": {
  "kernelspec": {
   "display_name": "Python 3",
   "language": "python",
   "name": "python3"
  },
  "language_info": {
   "codemirror_mode": {
    "name": "ipython",
    "version": 2
   },
   "file_extension": ".py",
   "mimetype": "text/x-python",
   "name": "python",
   "nbconvert_exporter": "python",
   "pygments_lexer": "ipython2",
   "version": "2.7.6"
  }
 },
 "nbformat": 4,
 "nbformat_minor": 0
}
