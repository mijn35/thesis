{
 "cells": [
  {
   "cell_type": "code",
   "execution_count": 2,
   "outputs": [],
   "source": [
    "import csv\n",
    "\n",
    "import numpy as np\n",
    "import tensorflow as tf\n",
    "from tensorflow import keras\n",
    "from sklearn.model_selection import train_test_split\n",
    "import matplotlib.pyplot as plt\n",
    "\n",
    "RANDOM_SEED = 42"
   ],
   "metadata": {
    "collapsed": false
   }
  },
  {
   "cell_type": "markdown",
   "source": [
    "# Specify each path"
   ],
   "metadata": {
    "collapsed": false
   }
  },
  {
   "cell_type": "code",
   "execution_count": 3,
   "outputs": [],
   "source": [
    "dataset = 'hand_landmarks_end.csv'\n",
    "#model_save_path = 'model/keypoint_classifier/keypoint_classifier.hdf5'\n",
    "#tflite_save_path = 'model/keypoint_classifier/keypoint_classifier.tflite'\n",
    "model_save_path = 'new_hand_classifier.hdf5'\n",
    "tflite_save_path = 'new_hand_classifier.tflite'"
   ],
   "metadata": {
    "collapsed": false
   }
  },
  {
   "cell_type": "markdown",
   "source": [
    "# Set number of classes"
   ],
   "metadata": {
    "collapsed": false
   }
  },
  {
   "cell_type": "code",
   "execution_count": 4,
   "outputs": [],
   "source": [
    "NUM_CLASSES = 26"
   ],
   "metadata": {
    "collapsed": false
   }
  },
  {
   "cell_type": "markdown",
   "source": [
    "# Dataset reading"
   ],
   "metadata": {
    "collapsed": false
   }
  },
  {
   "cell_type": "code",
   "execution_count": 5,
   "outputs": [],
   "source": [
    "X_dataset = np.loadtxt(dataset, delimiter=',', dtype='float32', usecols=list(range(1, (21 * 2) + 1)))"
   ],
   "metadata": {
    "collapsed": false
   }
  },
  {
   "cell_type": "code",
   "execution_count": 6,
   "outputs": [],
   "source": [
    "y_dataset = np.loadtxt(dataset, delimiter=',', dtype='int32', usecols=(0))"
   ],
   "metadata": {
    "collapsed": false
   }
  },
  {
   "cell_type": "code",
   "execution_count": 7,
   "outputs": [],
   "source": [
    "X_train, X_test, y_train, y_test = train_test_split(X_dataset, y_dataset, train_size=0.75, random_state=RANDOM_SEED)"
   ],
   "metadata": {
    "collapsed": false
   }
  },
  {
   "cell_type": "markdown",
   "source": [
    "# Model building"
   ],
   "metadata": {
    "collapsed": false
   }
  },
  {
   "cell_type": "code",
   "execution_count": 8,
   "outputs": [
    {
     "name": "stdout",
     "output_type": "stream",
     "text": [
      "WARNING:tensorflow:From C:\\gesture_recognition_by_image\\venv\\lib\\site-packages\\keras\\src\\backend.py:873: The name tf.get_default_graph is deprecated. Please use tf.compat.v1.get_default_graph instead.\n",
      "\n",
      "WARNING:tensorflow:From C:\\gesture_recognition_by_image\\venv\\lib\\site-packages\\keras\\src\\layers\\pooling\\max_pooling2d.py:161: The name tf.nn.max_pool is deprecated. Please use tf.nn.max_pool2d instead.\n",
      "\n"
     ]
    }
   ],
   "source": [
    "model = tf.keras.models.Sequential([\n",
    "    tf.keras.layers.Reshape((21, 2, 1), input_shape=(21 * 2, )),\n",
    "    tf.keras.layers.Conv2D(32, kernel_size=(3, 1), activation='relu', padding='same'),\n",
    "    tf.keras.layers.MaxPooling2D(pool_size=(2, 1)),\n",
    "    tf.keras.layers.Conv2D(64, kernel_size=(3, 1), activation='relu', padding='same'),\n",
    "    tf.keras.layers.MaxPooling2D(pool_size=(2, 1)),\n",
    "    tf.keras.layers.Flatten(),\n",
    "    tf.keras.layers.Dropout(0.2),\n",
    "    tf.keras.layers.Dense(128, activation='relu'),\n",
    "    tf.keras.layers.Dropout(0.4),\n",
    "    tf.keras.layers.Dense(64, activation='relu'),\n",
    "    tf.keras.layers.Dense(NUM_CLASSES, activation='softmax')\n",
    "])"
   ],
   "metadata": {
    "collapsed": false
   }
  },
  {
   "cell_type": "code",
   "execution_count": 9,
   "outputs": [
    {
     "name": "stdout",
     "output_type": "stream",
     "text": [
      "Model: \"sequential\"\n",
      "_________________________________________________________________\n",
      " Layer (type)                Output Shape              Param #   \n",
      "=================================================================\n",
      " reshape (Reshape)           (None, 21, 2, 1)          0         \n",
      "                                                                 \n",
      " conv2d (Conv2D)             (None, 21, 2, 32)         128       \n",
      "                                                                 \n",
      " max_pooling2d (MaxPooling2  (None, 10, 2, 32)         0         \n",
      " D)                                                              \n",
      "                                                                 \n",
      " conv2d_1 (Conv2D)           (None, 10, 2, 64)         6208      \n",
      "                                                                 \n",
      " max_pooling2d_1 (MaxPoolin  (None, 5, 2, 64)          0         \n",
      " g2D)                                                            \n",
      "                                                                 \n",
      " flatten (Flatten)           (None, 640)               0         \n",
      "                                                                 \n",
      " dropout (Dropout)           (None, 640)               0         \n",
      "                                                                 \n",
      " dense (Dense)               (None, 128)               82048     \n",
      "                                                                 \n",
      " dropout_1 (Dropout)         (None, 128)               0         \n",
      "                                                                 \n",
      " dense_1 (Dense)             (None, 64)                8256      \n",
      "                                                                 \n",
      " dense_2 (Dense)             (None, 26)                1690      \n",
      "                                                                 \n",
      "=================================================================\n",
      "Total params: 98330 (384.10 KB)\n",
      "Trainable params: 98330 (384.10 KB)\n",
      "Non-trainable params: 0 (0.00 Byte)\n",
      "_________________________________________________________________\n"
     ]
    }
   ],
   "source": [
    "model.summary()  # tf.keras.utils.plot_model(model, show_shapes=True)"
   ],
   "metadata": {
    "collapsed": false
   }
  },
  {
   "cell_type": "code",
   "execution_count": 10,
   "outputs": [],
   "source": [
    "# Model checkpoint callback\n",
    "cp_callback = tf.keras.callbacks.ModelCheckpoint(\n",
    "    model_save_path, verbose=1, save_weights_only=False)\n",
    "# Callback for early stopping\n",
    "es_callback = tf.keras.callbacks.EarlyStopping(patience=20, verbose=1)"
   ],
   "metadata": {
    "collapsed": false
   }
  },
  {
   "cell_type": "code",
   "execution_count": 11,
   "outputs": [
    {
     "name": "stdout",
     "output_type": "stream",
     "text": [
      "WARNING:tensorflow:From C:\\gesture_recognition_by_image\\venv\\lib\\site-packages\\keras\\src\\optimizers\\__init__.py:309: The name tf.train.Optimizer is deprecated. Please use tf.compat.v1.train.Optimizer instead.\n",
      "\n"
     ]
    }
   ],
   "source": [
    "# Model compilation\n",
    "model.compile(\n",
    "    optimizer='adam',\n",
    "    loss='sparse_categorical_crossentropy',\n",
    "    metrics=['accuracy']\n",
    ")"
   ],
   "metadata": {
    "collapsed": false
   }
  },
  {
   "cell_type": "markdown",
   "source": [
    "# Model training"
   ],
   "metadata": {
    "collapsed": false
   }
  },
  {
   "cell_type": "code",
   "execution_count": 12,
   "outputs": [
    {
     "name": "stdout",
     "output_type": "stream",
     "text": [
      "Epoch 1/1000\n",
      "WARNING:tensorflow:From C:\\gesture_recognition_by_image\\venv\\lib\\site-packages\\keras\\src\\utils\\tf_utils.py:492: The name tf.ragged.RaggedTensorValue is deprecated. Please use tf.compat.v1.ragged.RaggedTensorValue instead.\n",
      "\n",
      "WARNING:tensorflow:From C:\\gesture_recognition_by_image\\venv\\lib\\site-packages\\keras\\src\\engine\\base_layer_utils.py:384: The name tf.executing_eagerly_outside_functions is deprecated. Please use tf.compat.v1.executing_eagerly_outside_functions instead.\n",
      "\n",
      "42/43 [============================>.] - ETA: 0s - loss: 2.9123 - accuracy: 0.1261\n",
      "Epoch 1: saving model to new_hand_classifier.hdf5\n",
      "43/43 [==============================] - 2s 20ms/step - loss: 2.9105 - accuracy: 0.1263 - val_loss: 2.2488 - val_accuracy: 0.3411\n",
      "Epoch 2/1000\n",
      "16/43 [==========>...................] - ETA: 0s - loss: 2.1958 - accuracy: 0.2974"
     ]
    },
    {
     "name": "stderr",
     "output_type": "stream",
     "text": [
      "C:\\gesture_recognition_by_image\\venv\\lib\\site-packages\\keras\\src\\engine\\training.py:3103: UserWarning: You are saving your model as an HDF5 file via `model.save()`. This file format is considered legacy. We recommend using instead the native Keras format, e.g. `model.save('my_model.keras')`.\n",
      "  saving_api.save_model(\n"
     ]
    },
    {
     "name": "stdout",
     "output_type": "stream",
     "text": [
      "37/43 [========================>.....] - ETA: 0s - loss: 1.9672 - accuracy: 0.3625\n",
      "Epoch 2: saving model to new_hand_classifier.hdf5\n",
      "43/43 [==============================] - 0s 10ms/step - loss: 1.9054 - accuracy: 0.3826 - val_loss: 1.2222 - val_accuracy: 0.6694\n",
      "Epoch 3/1000\n",
      "40/43 [==========================>...] - ETA: 0s - loss: 1.1339 - accuracy: 0.6057\n",
      "Epoch 3: saving model to new_hand_classifier.hdf5\n",
      "43/43 [==============================] - 0s 10ms/step - loss: 1.1230 - accuracy: 0.6096 - val_loss: 0.5533 - val_accuracy: 0.8811\n",
      "Epoch 4/1000\n",
      "38/43 [=========================>....] - ETA: 0s - loss: 0.6808 - accuracy: 0.7802\n",
      "Epoch 4: saving model to new_hand_classifier.hdf5\n",
      "43/43 [==============================] - 0s 10ms/step - loss: 0.6739 - accuracy: 0.7819 - val_loss: 0.2918 - val_accuracy: 0.9578\n",
      "Epoch 5/1000\n",
      "43/43 [==============================] - ETA: 0s - loss: 0.4600 - accuracy: 0.8543\n",
      "Epoch 5: saving model to new_hand_classifier.hdf5\n",
      "43/43 [==============================] - 0s 10ms/step - loss: 0.4600 - accuracy: 0.8543 - val_loss: 0.1897 - val_accuracy: 0.9561\n",
      "Epoch 6/1000\n",
      "38/43 [=========================>....] - ETA: 0s - loss: 0.3276 - accuracy: 0.8943\n",
      "Epoch 6: saving model to new_hand_classifier.hdf5\n",
      "43/43 [==============================] - 0s 10ms/step - loss: 0.3244 - accuracy: 0.8956 - val_loss: 0.1389 - val_accuracy: 0.9883\n",
      "Epoch 7/1000\n",
      "40/43 [==========================>...] - ETA: 0s - loss: 0.2631 - accuracy: 0.9137\n",
      "Epoch 7: saving model to new_hand_classifier.hdf5\n",
      "43/43 [==============================] - 0s 9ms/step - loss: 0.2601 - accuracy: 0.9146 - val_loss: 0.1102 - val_accuracy: 0.9800\n",
      "Epoch 8/1000\n",
      "43/43 [==============================] - ETA: 0s - loss: 0.2077 - accuracy: 0.9339\n",
      "Epoch 8: saving model to new_hand_classifier.hdf5\n",
      "43/43 [==============================] - 0s 11ms/step - loss: 0.2077 - accuracy: 0.9339 - val_loss: 0.0705 - val_accuracy: 0.9883\n",
      "Epoch 9/1000\n",
      "36/43 [========================>.....] - ETA: 0s - loss: 0.1744 - accuracy: 0.9453\n",
      "Epoch 9: saving model to new_hand_classifier.hdf5\n",
      "43/43 [==============================] - 0s 10ms/step - loss: 0.1724 - accuracy: 0.9444 - val_loss: 0.0539 - val_accuracy: 0.9967\n",
      "Epoch 10/1000\n",
      "39/43 [==========================>...] - ETA: 0s - loss: 0.1413 - accuracy: 0.9595\n",
      "Epoch 10: saving model to new_hand_classifier.hdf5\n",
      "43/43 [==============================] - 0s 10ms/step - loss: 0.1395 - accuracy: 0.9598 - val_loss: 0.0432 - val_accuracy: 0.9956\n",
      "Epoch 11/1000\n",
      "40/43 [==========================>...] - ETA: 0s - loss: 0.1235 - accuracy: 0.9648\n",
      "Epoch 11: saving model to new_hand_classifier.hdf5\n",
      "43/43 [==============================] - 0s 9ms/step - loss: 0.1231 - accuracy: 0.9650 - val_loss: 0.0341 - val_accuracy: 0.9967\n",
      "Epoch 12/1000\n",
      "35/43 [=======================>......] - ETA: 0s - loss: 0.1042 - accuracy: 0.9674\n",
      "Epoch 12: saving model to new_hand_classifier.hdf5\n",
      "43/43 [==============================] - 0s 11ms/step - loss: 0.1046 - accuracy: 0.9676 - val_loss: 0.0299 - val_accuracy: 0.9967\n",
      "Epoch 13/1000\n",
      "42/43 [============================>.] - ETA: 0s - loss: 0.1078 - accuracy: 0.9661\n",
      "Epoch 13: saving model to new_hand_classifier.hdf5\n",
      "43/43 [==============================] - 0s 11ms/step - loss: 0.1080 - accuracy: 0.9661 - val_loss: 0.0243 - val_accuracy: 0.9972\n",
      "Epoch 14/1000\n",
      "37/43 [========================>.....] - ETA: 0s - loss: 0.0866 - accuracy: 0.9774\n",
      "Epoch 14: saving model to new_hand_classifier.hdf5\n",
      "43/43 [==============================] - 0s 11ms/step - loss: 0.0869 - accuracy: 0.9780 - val_loss: 0.0192 - val_accuracy: 0.9972\n",
      "Epoch 15/1000\n",
      "41/43 [===========================>..] - ETA: 0s - loss: 0.0704 - accuracy: 0.9800\n",
      "Epoch 15: saving model to new_hand_classifier.hdf5\n",
      "43/43 [==============================] - 1s 14ms/step - loss: 0.0713 - accuracy: 0.9793 - val_loss: 0.0153 - val_accuracy: 0.9983\n",
      "Epoch 16/1000\n",
      "39/43 [==========================>...] - ETA: 0s - loss: 0.0731 - accuracy: 0.9778\n",
      "Epoch 16: saving model to new_hand_classifier.hdf5\n",
      "43/43 [==============================] - 0s 11ms/step - loss: 0.0710 - accuracy: 0.9783 - val_loss: 0.0131 - val_accuracy: 0.9972\n",
      "Epoch 17/1000\n",
      "39/43 [==========================>...] - ETA: 0s - loss: 0.0657 - accuracy: 0.9812\n",
      "Epoch 17: saving model to new_hand_classifier.hdf5\n",
      "43/43 [==============================] - 0s 10ms/step - loss: 0.0637 - accuracy: 0.9819 - val_loss: 0.0128 - val_accuracy: 0.9972\n",
      "Epoch 18/1000\n",
      "39/43 [==========================>...] - ETA: 0s - loss: 0.0526 - accuracy: 0.9852\n",
      "Epoch 18: saving model to new_hand_classifier.hdf5\n",
      "43/43 [==============================] - 0s 10ms/step - loss: 0.0523 - accuracy: 0.9852 - val_loss: 0.0110 - val_accuracy: 0.9972\n",
      "Epoch 19/1000\n",
      "35/43 [=======================>......] - ETA: 0s - loss: 0.0453 - accuracy: 0.9873\n",
      "Epoch 19: saving model to new_hand_classifier.hdf5\n",
      "43/43 [==============================] - 0s 9ms/step - loss: 0.0466 - accuracy: 0.9874 - val_loss: 0.0113 - val_accuracy: 0.9983\n",
      "Epoch 20/1000\n",
      "40/43 [==========================>...] - ETA: 0s - loss: 0.0507 - accuracy: 0.9857\n",
      "Epoch 20: saving model to new_hand_classifier.hdf5\n",
      "43/43 [==============================] - 0s 10ms/step - loss: 0.0498 - accuracy: 0.9857 - val_loss: 0.0102 - val_accuracy: 0.9983\n",
      "Epoch 21/1000\n",
      "40/43 [==========================>...] - ETA: 0s - loss: 0.0439 - accuracy: 0.9873\n",
      "Epoch 21: saving model to new_hand_classifier.hdf5\n",
      "43/43 [==============================] - 0s 10ms/step - loss: 0.0449 - accuracy: 0.9867 - val_loss: 0.0104 - val_accuracy: 0.9978\n",
      "Epoch 22/1000\n",
      "39/43 [==========================>...] - ETA: 0s - loss: 0.0428 - accuracy: 0.9872\n",
      "Epoch 22: saving model to new_hand_classifier.hdf5\n",
      "43/43 [==============================] - 0s 10ms/step - loss: 0.0434 - accuracy: 0.9870 - val_loss: 0.0081 - val_accuracy: 0.9978\n",
      "Epoch 23/1000\n",
      "41/43 [===========================>..] - ETA: 0s - loss: 0.0440 - accuracy: 0.9876\n",
      "Epoch 23: saving model to new_hand_classifier.hdf5\n",
      "43/43 [==============================] - 0s 11ms/step - loss: 0.0436 - accuracy: 0.9878 - val_loss: 0.0157 - val_accuracy: 0.9978\n",
      "Epoch 24/1000\n",
      "41/43 [===========================>..] - ETA: 0s - loss: 0.0424 - accuracy: 0.9882\n",
      "Epoch 24: saving model to new_hand_classifier.hdf5\n",
      "43/43 [==============================] - 1s 16ms/step - loss: 0.0423 - accuracy: 0.9881 - val_loss: 0.0116 - val_accuracy: 0.9978\n",
      "Epoch 25/1000\n",
      "43/43 [==============================] - ETA: 0s - loss: 0.0417 - accuracy: 0.9874\n",
      "Epoch 25: saving model to new_hand_classifier.hdf5\n",
      "43/43 [==============================] - 1s 16ms/step - loss: 0.0417 - accuracy: 0.9874 - val_loss: 0.0069 - val_accuracy: 0.9983\n",
      "Epoch 26/1000\n",
      "40/43 [==========================>...] - ETA: 0s - loss: 0.0412 - accuracy: 0.9891\n",
      "Epoch 26: saving model to new_hand_classifier.hdf5\n",
      "43/43 [==============================] - 1s 14ms/step - loss: 0.0406 - accuracy: 0.9893 - val_loss: 0.0076 - val_accuracy: 0.9983\n",
      "Epoch 27/1000\n",
      "43/43 [==============================] - ETA: 0s - loss: 0.0348 - accuracy: 0.9881\n",
      "Epoch 27: saving model to new_hand_classifier.hdf5\n",
      "43/43 [==============================] - 1s 12ms/step - loss: 0.0348 - accuracy: 0.9881 - val_loss: 0.0064 - val_accuracy: 0.9989\n",
      "Epoch 28/1000\n",
      "40/43 [==========================>...] - ETA: 0s - loss: 0.0365 - accuracy: 0.9895\n",
      "Epoch 28: saving model to new_hand_classifier.hdf5\n",
      "43/43 [==============================] - 0s 11ms/step - loss: 0.0355 - accuracy: 0.9896 - val_loss: 0.0056 - val_accuracy: 0.9983\n",
      "Epoch 29/1000\n",
      "43/43 [==============================] - ETA: 0s - loss: 0.0222 - accuracy: 0.9946\n",
      "Epoch 29: saving model to new_hand_classifier.hdf5\n",
      "43/43 [==============================] - 0s 11ms/step - loss: 0.0222 - accuracy: 0.9946 - val_loss: 0.0067 - val_accuracy: 0.9978\n",
      "Epoch 30/1000\n",
      "42/43 [============================>.] - ETA: 0s - loss: 0.0270 - accuracy: 0.9918\n",
      "Epoch 30: saving model to new_hand_classifier.hdf5\n",
      "43/43 [==============================] - 0s 11ms/step - loss: 0.0270 - accuracy: 0.9919 - val_loss: 0.0073 - val_accuracy: 0.9983\n",
      "Epoch 31/1000\n",
      "39/43 [==========================>...] - ETA: 0s - loss: 0.0244 - accuracy: 0.9932\n",
      "Epoch 31: saving model to new_hand_classifier.hdf5\n",
      "43/43 [==============================] - 0s 10ms/step - loss: 0.0240 - accuracy: 0.9931 - val_loss: 0.0052 - val_accuracy: 0.9983\n",
      "Epoch 32/1000\n",
      "36/43 [========================>.....] - ETA: 0s - loss: 0.0216 - accuracy: 0.9928\n",
      "Epoch 32: saving model to new_hand_classifier.hdf5\n",
      "43/43 [==============================] - 0s 10ms/step - loss: 0.0244 - accuracy: 0.9924 - val_loss: 0.0051 - val_accuracy: 0.9989\n",
      "Epoch 33/1000\n",
      "40/43 [==========================>...] - ETA: 0s - loss: 0.0277 - accuracy: 0.9920\n",
      "Epoch 33: saving model to new_hand_classifier.hdf5\n",
      "43/43 [==============================] - 0s 10ms/step - loss: 0.0280 - accuracy: 0.9919 - val_loss: 0.0046 - val_accuracy: 0.9983\n",
      "Epoch 34/1000\n",
      "36/43 [========================>.....] - ETA: 0s - loss: 0.0296 - accuracy: 0.9918\n",
      "Epoch 34: saving model to new_hand_classifier.hdf5\n",
      "43/43 [==============================] - 0s 10ms/step - loss: 0.0286 - accuracy: 0.9920 - val_loss: 0.0050 - val_accuracy: 0.9989\n",
      "Epoch 35/1000\n",
      "40/43 [==========================>...] - ETA: 0s - loss: 0.0221 - accuracy: 0.9930\n",
      "Epoch 35: saving model to new_hand_classifier.hdf5\n",
      "43/43 [==============================] - 1s 15ms/step - loss: 0.0219 - accuracy: 0.9930 - val_loss: 0.0041 - val_accuracy: 0.9989\n",
      "Epoch 36/1000\n",
      "39/43 [==========================>...] - ETA: 0s - loss: 0.0209 - accuracy: 0.9938\n",
      "Epoch 36: saving model to new_hand_classifier.hdf5\n",
      "43/43 [==============================] - 1s 21ms/step - loss: 0.0208 - accuracy: 0.9941 - val_loss: 0.0038 - val_accuracy: 0.9983\n",
      "Epoch 37/1000\n",
      "41/43 [===========================>..] - ETA: 0s - loss: 0.0240 - accuracy: 0.9943\n",
      "Epoch 37: saving model to new_hand_classifier.hdf5\n",
      "43/43 [==============================] - 1s 20ms/step - loss: 0.0242 - accuracy: 0.9941 - val_loss: 0.0035 - val_accuracy: 0.9989\n",
      "Epoch 38/1000\n",
      "42/43 [============================>.] - ETA: 0s - loss: 0.0204 - accuracy: 0.9946\n",
      "Epoch 38: saving model to new_hand_classifier.hdf5\n",
      "43/43 [==============================] - 1s 14ms/step - loss: 0.0207 - accuracy: 0.9944 - val_loss: 0.0024 - val_accuracy: 0.9994\n",
      "Epoch 39/1000\n",
      "38/43 [=========================>....] - ETA: 0s - loss: 0.0217 - accuracy: 0.9942\n",
      "Epoch 39: saving model to new_hand_classifier.hdf5\n",
      "43/43 [==============================] - 1s 15ms/step - loss: 0.0212 - accuracy: 0.9943 - val_loss: 0.0033 - val_accuracy: 0.9989\n",
      "Epoch 40/1000\n",
      "42/43 [============================>.] - ETA: 0s - loss: 0.0181 - accuracy: 0.9946\n",
      "Epoch 40: saving model to new_hand_classifier.hdf5\n",
      "43/43 [==============================] - 1s 19ms/step - loss: 0.0180 - accuracy: 0.9946 - val_loss: 0.0065 - val_accuracy: 0.9983\n",
      "Epoch 41/1000\n",
      "43/43 [==============================] - ETA: 0s - loss: 0.0187 - accuracy: 0.9944\n",
      "Epoch 41: saving model to new_hand_classifier.hdf5\n",
      "43/43 [==============================] - 1s 16ms/step - loss: 0.0187 - accuracy: 0.9944 - val_loss: 0.0034 - val_accuracy: 0.9989\n",
      "Epoch 42/1000\n",
      "41/43 [===========================>..] - ETA: 0s - loss: 0.0209 - accuracy: 0.9935\n",
      "Epoch 42: saving model to new_hand_classifier.hdf5\n",
      "43/43 [==============================] - 1s 18ms/step - loss: 0.0211 - accuracy: 0.9933 - val_loss: 0.0041 - val_accuracy: 0.9989\n",
      "Epoch 43/1000\n",
      "39/43 [==========================>...] - ETA: 0s - loss: 0.0189 - accuracy: 0.9938\n",
      "Epoch 43: saving model to new_hand_classifier.hdf5\n",
      "43/43 [==============================] - 1s 15ms/step - loss: 0.0185 - accuracy: 0.9941 - val_loss: 0.0054 - val_accuracy: 0.9989\n",
      "Epoch 44/1000\n",
      "40/43 [==========================>...] - ETA: 0s - loss: 0.0163 - accuracy: 0.9949\n",
      "Epoch 44: saving model to new_hand_classifier.hdf5\n",
      "43/43 [==============================] - 1s 13ms/step - loss: 0.0160 - accuracy: 0.9952 - val_loss: 0.0059 - val_accuracy: 0.9989\n",
      "Epoch 45/1000\n",
      "42/43 [============================>.] - ETA: 0s - loss: 0.0171 - accuracy: 0.9953\n",
      "Epoch 45: saving model to new_hand_classifier.hdf5\n",
      "43/43 [==============================] - 1s 18ms/step - loss: 0.0170 - accuracy: 0.9954 - val_loss: 0.0025 - val_accuracy: 0.9989\n",
      "Epoch 46/1000\n",
      "39/43 [==========================>...] - ETA: 0s - loss: 0.0146 - accuracy: 0.9956\n",
      "Epoch 46: saving model to new_hand_classifier.hdf5\n",
      "43/43 [==============================] - 1s 16ms/step - loss: 0.0147 - accuracy: 0.9954 - val_loss: 0.0027 - val_accuracy: 0.9989\n",
      "Epoch 47/1000\n",
      "43/43 [==============================] - ETA: 0s - loss: 0.0104 - accuracy: 0.9974\n",
      "Epoch 47: saving model to new_hand_classifier.hdf5\n",
      "43/43 [==============================] - 1s 17ms/step - loss: 0.0104 - accuracy: 0.9974 - val_loss: 0.0034 - val_accuracy: 0.9989\n",
      "Epoch 48/1000\n",
      "42/43 [============================>.] - ETA: 0s - loss: 0.0125 - accuracy: 0.9961\n",
      "Epoch 48: saving model to new_hand_classifier.hdf5\n",
      "43/43 [==============================] - 1s 15ms/step - loss: 0.0125 - accuracy: 0.9961 - val_loss: 0.0036 - val_accuracy: 0.9994\n",
      "Epoch 49/1000\n",
      "42/43 [============================>.] - ETA: 0s - loss: 0.0163 - accuracy: 0.9950\n",
      "Epoch 49: saving model to new_hand_classifier.hdf5\n",
      "43/43 [==============================] - 1s 14ms/step - loss: 0.0163 - accuracy: 0.9950 - val_loss: 0.0062 - val_accuracy: 0.9983\n",
      "Epoch 50/1000\n",
      "39/43 [==========================>...] - ETA: 0s - loss: 0.0170 - accuracy: 0.9940\n",
      "Epoch 50: saving model to new_hand_classifier.hdf5\n",
      "43/43 [==============================] - 1s 13ms/step - loss: 0.0171 - accuracy: 0.9941 - val_loss: 0.0022 - val_accuracy: 0.9989\n",
      "Epoch 51/1000\n",
      "39/43 [==========================>...] - ETA: 0s - loss: 0.0126 - accuracy: 0.9968\n",
      "Epoch 51: saving model to new_hand_classifier.hdf5\n",
      "43/43 [==============================] - 1s 14ms/step - loss: 0.0121 - accuracy: 0.9969 - val_loss: 0.0034 - val_accuracy: 0.9989\n",
      "Epoch 52/1000\n",
      "42/43 [============================>.] - ETA: 0s - loss: 0.0164 - accuracy: 0.9950\n",
      "Epoch 52: saving model to new_hand_classifier.hdf5\n",
      "43/43 [==============================] - 1s 16ms/step - loss: 0.0163 - accuracy: 0.9950 - val_loss: 0.0059 - val_accuracy: 0.9983\n",
      "Epoch 53/1000\n",
      "40/43 [==========================>...] - ETA: 0s - loss: 0.0140 - accuracy: 0.9959\n",
      "Epoch 53: saving model to new_hand_classifier.hdf5\n",
      "43/43 [==============================] - 1s 15ms/step - loss: 0.0136 - accuracy: 0.9961 - val_loss: 0.0028 - val_accuracy: 0.9989\n",
      "Epoch 54/1000\n",
      "42/43 [============================>.] - ETA: 0s - loss: 0.0128 - accuracy: 0.9967\n",
      "Epoch 54: saving model to new_hand_classifier.hdf5\n",
      "43/43 [==============================] - 1s 18ms/step - loss: 0.0127 - accuracy: 0.9967 - val_loss: 0.0013 - val_accuracy: 0.9994\n",
      "Epoch 55/1000\n",
      "40/43 [==========================>...] - ETA: 0s - loss: 0.0145 - accuracy: 0.9953\n",
      "Epoch 55: saving model to new_hand_classifier.hdf5\n",
      "43/43 [==============================] - 1s 18ms/step - loss: 0.0144 - accuracy: 0.9954 - val_loss: 0.0037 - val_accuracy: 0.9989\n",
      "Epoch 56/1000\n",
      "39/43 [==========================>...] - ETA: 0s - loss: 0.0132 - accuracy: 0.9962\n",
      "Epoch 56: saving model to new_hand_classifier.hdf5\n",
      "43/43 [==============================] - 1s 15ms/step - loss: 0.0148 - accuracy: 0.9959 - val_loss: 0.0028 - val_accuracy: 0.9994\n",
      "Epoch 57/1000\n",
      "41/43 [===========================>..] - ETA: 0s - loss: 0.0154 - accuracy: 0.9962\n",
      "Epoch 57: saving model to new_hand_classifier.hdf5\n",
      "43/43 [==============================] - 1s 14ms/step - loss: 0.0151 - accuracy: 0.9963 - val_loss: 0.0036 - val_accuracy: 0.9989\n",
      "Epoch 58/1000\n",
      "43/43 [==============================] - ETA: 0s - loss: 0.0116 - accuracy: 0.9965\n",
      "Epoch 58: saving model to new_hand_classifier.hdf5\n",
      "43/43 [==============================] - 1s 15ms/step - loss: 0.0116 - accuracy: 0.9965 - val_loss: 0.0025 - val_accuracy: 0.9989\n",
      "Epoch 59/1000\n",
      "37/43 [========================>.....] - ETA: 0s - loss: 0.0129 - accuracy: 0.9958\n",
      "Epoch 59: saving model to new_hand_classifier.hdf5\n",
      "43/43 [==============================] - 1s 13ms/step - loss: 0.0124 - accuracy: 0.9959 - val_loss: 0.0016 - val_accuracy: 0.9989\n",
      "Epoch 60/1000\n",
      "38/43 [=========================>....] - ETA: 0s - loss: 0.0147 - accuracy: 0.9957\n",
      "Epoch 60: saving model to new_hand_classifier.hdf5\n",
      "43/43 [==============================] - 1s 15ms/step - loss: 0.0147 - accuracy: 0.9954 - val_loss: 0.0017 - val_accuracy: 0.9989\n",
      "Epoch 61/1000\n",
      "38/43 [=========================>....] - ETA: 0s - loss: 0.0118 - accuracy: 0.9967\n",
      "Epoch 61: saving model to new_hand_classifier.hdf5\n",
      "43/43 [==============================] - 1s 14ms/step - loss: 0.0112 - accuracy: 0.9969 - val_loss: 0.0072 - val_accuracy: 0.9978\n",
      "Epoch 62/1000\n",
      "42/43 [============================>.] - ETA: 0s - loss: 0.0143 - accuracy: 0.9963\n",
      "Epoch 62: saving model to new_hand_classifier.hdf5\n",
      "43/43 [==============================] - 1s 15ms/step - loss: 0.0143 - accuracy: 0.9963 - val_loss: 0.0017 - val_accuracy: 1.0000\n",
      "Epoch 63/1000\n",
      "38/43 [=========================>....] - ETA: 0s - loss: 0.0137 - accuracy: 0.9959\n",
      "Epoch 63: saving model to new_hand_classifier.hdf5\n",
      "43/43 [==============================] - 1s 13ms/step - loss: 0.0134 - accuracy: 0.9957 - val_loss: 0.0029 - val_accuracy: 0.9989\n",
      "Epoch 64/1000\n",
      "37/43 [========================>.....] - ETA: 0s - loss: 0.0164 - accuracy: 0.9949\n",
      "Epoch 64: saving model to new_hand_classifier.hdf5\n",
      "43/43 [==============================] - 1s 15ms/step - loss: 0.0154 - accuracy: 0.9950 - val_loss: 0.0013 - val_accuracy: 0.9994\n",
      "Epoch 65/1000\n",
      "43/43 [==============================] - ETA: 0s - loss: 0.0115 - accuracy: 0.9957\n",
      "Epoch 65: saving model to new_hand_classifier.hdf5\n",
      "43/43 [==============================] - 1s 15ms/step - loss: 0.0115 - accuracy: 0.9957 - val_loss: 0.0013 - val_accuracy: 1.0000\n",
      "Epoch 66/1000\n",
      "39/43 [==========================>...] - ETA: 0s - loss: 0.0112 - accuracy: 0.9962\n",
      "Epoch 66: saving model to new_hand_classifier.hdf5\n",
      "43/43 [==============================] - 1s 15ms/step - loss: 0.0115 - accuracy: 0.9961 - val_loss: 0.0014 - val_accuracy: 0.9994\n",
      "Epoch 67/1000\n",
      "41/43 [===========================>..] - ETA: 0s - loss: 0.0113 - accuracy: 0.9968\n",
      "Epoch 67: saving model to new_hand_classifier.hdf5\n",
      "43/43 [==============================] - 1s 17ms/step - loss: 0.0112 - accuracy: 0.9967 - val_loss: 9.4070e-04 - val_accuracy: 0.9994\n",
      "Epoch 68/1000\n",
      "41/43 [===========================>..] - ETA: 0s - loss: 0.0091 - accuracy: 0.9970\n",
      "Epoch 68: saving model to new_hand_classifier.hdf5\n",
      "43/43 [==============================] - 1s 16ms/step - loss: 0.0089 - accuracy: 0.9970 - val_loss: 5.7263e-04 - val_accuracy: 1.0000\n",
      "Epoch 69/1000\n",
      "40/43 [==========================>...] - ETA: 0s - loss: 0.0099 - accuracy: 0.9969\n",
      "Epoch 69: saving model to new_hand_classifier.hdf5\n",
      "43/43 [==============================] - 1s 20ms/step - loss: 0.0095 - accuracy: 0.9970 - val_loss: 0.0016 - val_accuracy: 0.9994\n",
      "Epoch 70/1000\n",
      "38/43 [=========================>....] - ETA: 0s - loss: 0.0127 - accuracy: 0.9957\n",
      "Epoch 70: saving model to new_hand_classifier.hdf5\n",
      "43/43 [==============================] - 1s 17ms/step - loss: 0.0125 - accuracy: 0.9954 - val_loss: 0.0026 - val_accuracy: 0.9989\n",
      "Epoch 71/1000\n",
      "41/43 [===========================>..] - ETA: 0s - loss: 0.0107 - accuracy: 0.9966\n",
      "Epoch 71: saving model to new_hand_classifier.hdf5\n",
      "43/43 [==============================] - 1s 20ms/step - loss: 0.0105 - accuracy: 0.9967 - val_loss: 0.0053 - val_accuracy: 0.9983\n",
      "Epoch 72/1000\n",
      "41/43 [===========================>..] - ETA: 0s - loss: 0.0097 - accuracy: 0.9973\n",
      "Epoch 72: saving model to new_hand_classifier.hdf5\n",
      "43/43 [==============================] - 1s 23ms/step - loss: 0.0095 - accuracy: 0.9974 - val_loss: 6.7490e-04 - val_accuracy: 1.0000\n",
      "Epoch 73/1000\n",
      "39/43 [==========================>...] - ETA: 0s - loss: 0.0070 - accuracy: 0.9980\n",
      "Epoch 73: saving model to new_hand_classifier.hdf5\n",
      "43/43 [==============================] - 1s 18ms/step - loss: 0.0078 - accuracy: 0.9976 - val_loss: 0.0015 - val_accuracy: 0.9989\n",
      "Epoch 74/1000\n",
      "43/43 [==============================] - ETA: 0s - loss: 0.0136 - accuracy: 0.9956\n",
      "Epoch 74: saving model to new_hand_classifier.hdf5\n",
      "43/43 [==============================] - 1s 20ms/step - loss: 0.0136 - accuracy: 0.9956 - val_loss: 0.0014 - val_accuracy: 0.9994\n",
      "Epoch 75/1000\n",
      "38/43 [=========================>....] - ETA: 0s - loss: 0.0099 - accuracy: 0.9963\n",
      "Epoch 75: saving model to new_hand_classifier.hdf5\n",
      "43/43 [==============================] - 1s 14ms/step - loss: 0.0094 - accuracy: 0.9967 - val_loss: 7.4183e-04 - val_accuracy: 1.0000\n",
      "Epoch 76/1000\n",
      "40/43 [==========================>...] - ETA: 0s - loss: 0.0107 - accuracy: 0.9967\n",
      "Epoch 76: saving model to new_hand_classifier.hdf5\n",
      "43/43 [==============================] - 1s 15ms/step - loss: 0.0103 - accuracy: 0.9969 - val_loss: 0.0049 - val_accuracy: 0.9983\n",
      "Epoch 77/1000\n",
      "38/43 [=========================>....] - ETA: 0s - loss: 0.0074 - accuracy: 0.9979\n",
      "Epoch 77: saving model to new_hand_classifier.hdf5\n",
      "43/43 [==============================] - 1s 15ms/step - loss: 0.0074 - accuracy: 0.9980 - val_loss: 4.0011e-04 - val_accuracy: 1.0000\n",
      "Epoch 78/1000\n",
      "41/43 [===========================>..] - ETA: 0s - loss: 0.0103 - accuracy: 0.9971\n",
      "Epoch 78: saving model to new_hand_classifier.hdf5\n",
      "43/43 [==============================] - 1s 14ms/step - loss: 0.0123 - accuracy: 0.9969 - val_loss: 8.9440e-04 - val_accuracy: 0.9994\n",
      "Epoch 79/1000\n",
      "38/43 [=========================>....] - ETA: 0s - loss: 0.0091 - accuracy: 0.9969\n",
      "Epoch 79: saving model to new_hand_classifier.hdf5\n",
      "43/43 [==============================] - 1s 14ms/step - loss: 0.0094 - accuracy: 0.9967 - val_loss: 9.6864e-04 - val_accuracy: 0.9994\n",
      "Epoch 80/1000\n",
      "42/43 [============================>.] - ETA: 0s - loss: 0.0127 - accuracy: 0.9972\n",
      "Epoch 80: saving model to new_hand_classifier.hdf5\n",
      "43/43 [==============================] - 1s 14ms/step - loss: 0.0126 - accuracy: 0.9972 - val_loss: 0.0020 - val_accuracy: 0.9989\n",
      "Epoch 81/1000\n",
      "42/43 [============================>.] - ETA: 0s - loss: 0.0106 - accuracy: 0.9967\n",
      "Epoch 81: saving model to new_hand_classifier.hdf5\n",
      "43/43 [==============================] - 1s 15ms/step - loss: 0.0107 - accuracy: 0.9965 - val_loss: 0.0010 - val_accuracy: 1.0000\n",
      "Epoch 82/1000\n",
      "39/43 [==========================>...] - ETA: 0s - loss: 0.0097 - accuracy: 0.9972\n",
      "Epoch 82: saving model to new_hand_classifier.hdf5\n",
      "43/43 [==============================] - 1s 19ms/step - loss: 0.0095 - accuracy: 0.9972 - val_loss: 0.0013 - val_accuracy: 0.9994\n",
      "Epoch 83/1000\n",
      "40/43 [==========================>...] - ETA: 0s - loss: 0.0083 - accuracy: 0.9973\n",
      "Epoch 83: saving model to new_hand_classifier.hdf5\n",
      "43/43 [==============================] - 1s 19ms/step - loss: 0.0084 - accuracy: 0.9970 - val_loss: 0.0040 - val_accuracy: 0.9989\n",
      "Epoch 84/1000\n",
      "39/43 [==========================>...] - ETA: 0s - loss: 0.0074 - accuracy: 0.9978\n",
      "Epoch 84: saving model to new_hand_classifier.hdf5\n",
      "43/43 [==============================] - 1s 16ms/step - loss: 0.0070 - accuracy: 0.9980 - val_loss: 8.0743e-04 - val_accuracy: 0.9994\n",
      "Epoch 85/1000\n",
      "40/43 [==========================>...] - ETA: 0s - loss: 0.0075 - accuracy: 0.9977\n",
      "Epoch 85: saving model to new_hand_classifier.hdf5\n",
      "43/43 [==============================] - 1s 16ms/step - loss: 0.0087 - accuracy: 0.9974 - val_loss: 0.0013 - val_accuracy: 1.0000\n",
      "Epoch 86/1000\n",
      "39/43 [==========================>...] - ETA: 0s - loss: 0.0091 - accuracy: 0.9964\n",
      "Epoch 86: saving model to new_hand_classifier.hdf5\n",
      "43/43 [==============================] - 1s 14ms/step - loss: 0.0094 - accuracy: 0.9963 - val_loss: 0.0013 - val_accuracy: 0.9989\n",
      "Epoch 87/1000\n",
      "41/43 [===========================>..] - ETA: 0s - loss: 0.0097 - accuracy: 0.9973\n",
      "Epoch 87: saving model to new_hand_classifier.hdf5\n",
      "43/43 [==============================] - 1s 13ms/step - loss: 0.0097 - accuracy: 0.9972 - val_loss: 7.4035e-04 - val_accuracy: 0.9994\n",
      "Epoch 88/1000\n",
      "43/43 [==============================] - ETA: 0s - loss: 0.0089 - accuracy: 0.9980\n",
      "Epoch 88: saving model to new_hand_classifier.hdf5\n",
      "43/43 [==============================] - 1s 13ms/step - loss: 0.0089 - accuracy: 0.9980 - val_loss: 0.0020 - val_accuracy: 0.9989\n",
      "Epoch 89/1000\n",
      "38/43 [=========================>....] - ETA: 0s - loss: 0.0063 - accuracy: 0.9981\n",
      "Epoch 89: saving model to new_hand_classifier.hdf5\n",
      "43/43 [==============================] - 1s 14ms/step - loss: 0.0063 - accuracy: 0.9981 - val_loss: 0.0010 - val_accuracy: 0.9994\n",
      "Epoch 90/1000\n",
      "42/43 [============================>.] - ETA: 0s - loss: 0.0099 - accuracy: 0.9955\n",
      "Epoch 90: saving model to new_hand_classifier.hdf5\n",
      "43/43 [==============================] - 1s 13ms/step - loss: 0.0100 - accuracy: 0.9956 - val_loss: 0.0026 - val_accuracy: 0.9989\n",
      "Epoch 91/1000\n",
      "38/43 [=========================>....] - ETA: 0s - loss: 0.0183 - accuracy: 0.9947\n",
      "Epoch 91: saving model to new_hand_classifier.hdf5\n",
      "43/43 [==============================] - 1s 14ms/step - loss: 0.0172 - accuracy: 0.9950 - val_loss: 0.0021 - val_accuracy: 0.9989\n",
      "Epoch 92/1000\n",
      "43/43 [==============================] - ETA: 0s - loss: 0.0129 - accuracy: 0.9963\n",
      "Epoch 92: saving model to new_hand_classifier.hdf5\n",
      "43/43 [==============================] - 1s 13ms/step - loss: 0.0129 - accuracy: 0.9963 - val_loss: 5.3390e-04 - val_accuracy: 1.0000\n",
      "Epoch 93/1000\n",
      "39/43 [==========================>...] - ETA: 0s - loss: 0.0087 - accuracy: 0.9970\n",
      "Epoch 93: saving model to new_hand_classifier.hdf5\n",
      "43/43 [==============================] - 1s 14ms/step - loss: 0.0085 - accuracy: 0.9972 - val_loss: 6.9151e-04 - val_accuracy: 1.0000\n",
      "Epoch 94/1000\n",
      "41/43 [===========================>..] - ETA: 0s - loss: 0.0102 - accuracy: 0.9968\n",
      "Epoch 94: saving model to new_hand_classifier.hdf5\n",
      "43/43 [==============================] - 1s 13ms/step - loss: 0.0105 - accuracy: 0.9967 - val_loss: 0.0020 - val_accuracy: 0.9989\n",
      "Epoch 95/1000\n",
      "40/43 [==========================>...] - ETA: 0s - loss: 0.0101 - accuracy: 0.9963\n",
      "Epoch 95: saving model to new_hand_classifier.hdf5\n",
      "43/43 [==============================] - 1s 13ms/step - loss: 0.0099 - accuracy: 0.9965 - val_loss: 7.7969e-04 - val_accuracy: 0.9994\n",
      "Epoch 96/1000\n",
      "42/43 [============================>.] - ETA: 0s - loss: 0.0084 - accuracy: 0.9970\n",
      "Epoch 96: saving model to new_hand_classifier.hdf5\n",
      "43/43 [==============================] - 1s 14ms/step - loss: 0.0084 - accuracy: 0.9970 - val_loss: 0.0014 - val_accuracy: 0.9989\n",
      "Epoch 97/1000\n",
      "41/43 [===========================>..] - ETA: 0s - loss: 0.0063 - accuracy: 0.9983\n",
      "Epoch 97: saving model to new_hand_classifier.hdf5\n",
      "43/43 [==============================] - 1s 15ms/step - loss: 0.0066 - accuracy: 0.9981 - val_loss: 2.0117e-04 - val_accuracy: 1.0000\n",
      "Epoch 98/1000\n",
      "39/43 [==========================>...] - ETA: 0s - loss: 0.0090 - accuracy: 0.9968\n",
      "Epoch 98: saving model to new_hand_classifier.hdf5\n",
      "43/43 [==============================] - 1s 15ms/step - loss: 0.0087 - accuracy: 0.9969 - val_loss: 0.0020 - val_accuracy: 0.9989\n",
      "Epoch 99/1000\n",
      "39/43 [==========================>...] - ETA: 0s - loss: 0.0050 - accuracy: 0.9988\n",
      "Epoch 99: saving model to new_hand_classifier.hdf5\n",
      "43/43 [==============================] - 1s 13ms/step - loss: 0.0049 - accuracy: 0.9989 - val_loss: 0.0011 - val_accuracy: 0.9994\n",
      "Epoch 100/1000\n",
      "42/43 [============================>.] - ETA: 0s - loss: 0.0091 - accuracy: 0.9965\n",
      "Epoch 100: saving model to new_hand_classifier.hdf5\n",
      "43/43 [==============================] - 1s 13ms/step - loss: 0.0096 - accuracy: 0.9963 - val_loss: 3.0012e-04 - val_accuracy: 1.0000\n",
      "Epoch 101/1000\n",
      "39/43 [==========================>...] - ETA: 0s - loss: 0.0163 - accuracy: 0.9962\n",
      "Epoch 101: saving model to new_hand_classifier.hdf5\n",
      "43/43 [==============================] - 1s 13ms/step - loss: 0.0157 - accuracy: 0.9963 - val_loss: 3.8306e-04 - val_accuracy: 1.0000\n",
      "Epoch 102/1000\n",
      "41/43 [===========================>..] - ETA: 0s - loss: 0.0068 - accuracy: 0.9977\n",
      "Epoch 102: saving model to new_hand_classifier.hdf5\n",
      "43/43 [==============================] - 1s 13ms/step - loss: 0.0070 - accuracy: 0.9976 - val_loss: 1.5534e-04 - val_accuracy: 1.0000\n",
      "Epoch 103/1000\n",
      "40/43 [==========================>...] - ETA: 0s - loss: 0.0060 - accuracy: 0.9984\n",
      "Epoch 103: saving model to new_hand_classifier.hdf5\n",
      "43/43 [==============================] - 1s 13ms/step - loss: 0.0059 - accuracy: 0.9983 - val_loss: 4.1826e-04 - val_accuracy: 1.0000\n",
      "Epoch 104/1000\n",
      "37/43 [========================>.....] - ETA: 0s - loss: 0.0043 - accuracy: 0.9983\n",
      "Epoch 104: saving model to new_hand_classifier.hdf5\n",
      "43/43 [==============================] - 1s 13ms/step - loss: 0.0052 - accuracy: 0.9981 - val_loss: 3.2008e-04 - val_accuracy: 1.0000\n",
      "Epoch 105/1000\n",
      "43/43 [==============================] - ETA: 0s - loss: 0.0059 - accuracy: 0.9978\n",
      "Epoch 105: saving model to new_hand_classifier.hdf5\n",
      "43/43 [==============================] - 1s 14ms/step - loss: 0.0059 - accuracy: 0.9978 - val_loss: 3.0849e-04 - val_accuracy: 1.0000\n",
      "Epoch 106/1000\n",
      "42/43 [============================>.] - ETA: 0s - loss: 0.0052 - accuracy: 0.9985\n",
      "Epoch 106: saving model to new_hand_classifier.hdf5\n",
      "43/43 [==============================] - 1s 14ms/step - loss: 0.0052 - accuracy: 0.9985 - val_loss: 1.7365e-04 - val_accuracy: 1.0000\n",
      "Epoch 107/1000\n",
      "43/43 [==============================] - ETA: 0s - loss: 0.0077 - accuracy: 0.9981\n",
      "Epoch 107: saving model to new_hand_classifier.hdf5\n",
      "43/43 [==============================] - 1s 16ms/step - loss: 0.0077 - accuracy: 0.9981 - val_loss: 0.0014 - val_accuracy: 0.9994\n",
      "Epoch 108/1000\n",
      "40/43 [==========================>...] - ETA: 0s - loss: 0.0098 - accuracy: 0.9965\n",
      "Epoch 108: saving model to new_hand_classifier.hdf5\n",
      "43/43 [==============================] - 1s 17ms/step - loss: 0.0099 - accuracy: 0.9965 - val_loss: 6.0528e-04 - val_accuracy: 1.0000\n",
      "Epoch 109/1000\n",
      "41/43 [===========================>..] - ETA: 0s - loss: 0.0067 - accuracy: 0.9977\n",
      "Epoch 109: saving model to new_hand_classifier.hdf5\n",
      "43/43 [==============================] - 1s 16ms/step - loss: 0.0069 - accuracy: 0.9976 - val_loss: 1.9240e-04 - val_accuracy: 1.0000\n",
      "Epoch 110/1000\n",
      "40/43 [==========================>...] - ETA: 0s - loss: 0.0067 - accuracy: 0.9980\n",
      "Epoch 110: saving model to new_hand_classifier.hdf5\n",
      "43/43 [==============================] - 1s 14ms/step - loss: 0.0067 - accuracy: 0.9980 - val_loss: 2.0416e-04 - val_accuracy: 1.0000\n",
      "Epoch 111/1000\n",
      "36/43 [========================>.....] - ETA: 0s - loss: 0.0098 - accuracy: 0.9974\n",
      "Epoch 111: saving model to new_hand_classifier.hdf5\n",
      "43/43 [==============================] - 1s 12ms/step - loss: 0.0093 - accuracy: 0.9974 - val_loss: 2.5006e-04 - val_accuracy: 1.0000\n",
      "Epoch 112/1000\n",
      "43/43 [==============================] - ETA: 0s - loss: 0.0082 - accuracy: 0.9976\n",
      "Epoch 112: saving model to new_hand_classifier.hdf5\n",
      "43/43 [==============================] - 1s 14ms/step - loss: 0.0082 - accuracy: 0.9976 - val_loss: 6.0219e-04 - val_accuracy: 1.0000\n",
      "Epoch 113/1000\n",
      "41/43 [===========================>..] - ETA: 0s - loss: 0.0239 - accuracy: 0.9933\n",
      "Epoch 113: saving model to new_hand_classifier.hdf5\n",
      "43/43 [==============================] - 1s 14ms/step - loss: 0.0235 - accuracy: 0.9933 - val_loss: 6.2962e-04 - val_accuracy: 1.0000\n",
      "Epoch 114/1000\n",
      "40/43 [==========================>...] - ETA: 0s - loss: 0.0082 - accuracy: 0.9975\n",
      "Epoch 114: saving model to new_hand_classifier.hdf5\n",
      "43/43 [==============================] - 1s 14ms/step - loss: 0.0089 - accuracy: 0.9972 - val_loss: 4.9629e-04 - val_accuracy: 1.0000\n",
      "Epoch 115/1000\n",
      "39/43 [==========================>...] - ETA: 0s - loss: 0.0081 - accuracy: 0.9978\n",
      "Epoch 115: saving model to new_hand_classifier.hdf5\n",
      "43/43 [==============================] - 1s 13ms/step - loss: 0.0083 - accuracy: 0.9976 - val_loss: 1.5714e-04 - val_accuracy: 1.0000\n",
      "Epoch 116/1000\n",
      "39/43 [==========================>...] - ETA: 0s - loss: 0.0118 - accuracy: 0.9960\n",
      "Epoch 116: saving model to new_hand_classifier.hdf5\n",
      "43/43 [==============================] - 1s 12ms/step - loss: 0.0111 - accuracy: 0.9963 - val_loss: 0.0011 - val_accuracy: 0.9994\n",
      "Epoch 117/1000\n",
      "42/43 [============================>.] - ETA: 0s - loss: 0.0090 - accuracy: 0.9967\n",
      "Epoch 117: saving model to new_hand_classifier.hdf5\n",
      "43/43 [==============================] - 1s 14ms/step - loss: 0.0090 - accuracy: 0.9967 - val_loss: 1.6502e-04 - val_accuracy: 1.0000\n",
      "Epoch 118/1000\n",
      "43/43 [==============================] - ETA: 0s - loss: 0.0055 - accuracy: 0.9985\n",
      "Epoch 118: saving model to new_hand_classifier.hdf5\n",
      "43/43 [==============================] - 1s 14ms/step - loss: 0.0055 - accuracy: 0.9985 - val_loss: 9.8734e-05 - val_accuracy: 1.0000\n",
      "Epoch 119/1000\n",
      "42/43 [============================>.] - ETA: 0s - loss: 0.0067 - accuracy: 0.9980\n",
      "Epoch 119: saving model to new_hand_classifier.hdf5\n",
      "43/43 [==============================] - 1s 24ms/step - loss: 0.0067 - accuracy: 0.9980 - val_loss: 8.2087e-04 - val_accuracy: 1.0000\n",
      "Epoch 120/1000\n",
      "41/43 [===========================>..] - ETA: 0s - loss: 0.0046 - accuracy: 0.9989\n",
      "Epoch 120: saving model to new_hand_classifier.hdf5\n",
      "43/43 [==============================] - 1s 17ms/step - loss: 0.0045 - accuracy: 0.9989 - val_loss: 8.5515e-05 - val_accuracy: 1.0000\n",
      "Epoch 121/1000\n",
      "39/43 [==========================>...] - ETA: 0s - loss: 0.0061 - accuracy: 0.9982\n",
      "Epoch 121: saving model to new_hand_classifier.hdf5\n",
      "43/43 [==============================] - 1s 16ms/step - loss: 0.0057 - accuracy: 0.9983 - val_loss: 3.0050e-04 - val_accuracy: 1.0000\n",
      "Epoch 122/1000\n",
      "41/43 [===========================>..] - ETA: 0s - loss: 0.0031 - accuracy: 0.9989\n",
      "Epoch 122: saving model to new_hand_classifier.hdf5\n",
      "43/43 [==============================] - 1s 13ms/step - loss: 0.0030 - accuracy: 0.9989 - val_loss: 6.8198e-05 - val_accuracy: 1.0000\n",
      "Epoch 123/1000\n",
      "41/43 [===========================>..] - ETA: 0s - loss: 0.0040 - accuracy: 0.9977\n",
      "Epoch 123: saving model to new_hand_classifier.hdf5\n",
      "43/43 [==============================] - 1s 14ms/step - loss: 0.0038 - accuracy: 0.9978 - val_loss: 2.6680e-04 - val_accuracy: 1.0000\n",
      "Epoch 124/1000\n",
      "40/43 [==========================>...] - ETA: 0s - loss: 0.0045 - accuracy: 0.9982\n",
      "Epoch 124: saving model to new_hand_classifier.hdf5\n",
      "43/43 [==============================] - 1s 12ms/step - loss: 0.0045 - accuracy: 0.9983 - val_loss: 6.3118e-05 - val_accuracy: 1.0000\n",
      "Epoch 125/1000\n",
      "37/43 [========================>.....] - ETA: 0s - loss: 0.0032 - accuracy: 0.9987\n",
      "Epoch 125: saving model to new_hand_classifier.hdf5\n",
      "43/43 [==============================] - 1s 14ms/step - loss: 0.0050 - accuracy: 0.9983 - val_loss: 1.6222e-04 - val_accuracy: 1.0000\n",
      "Epoch 126/1000\n",
      "39/43 [==========================>...] - ETA: 0s - loss: 0.0048 - accuracy: 0.9990\n",
      "Epoch 126: saving model to new_hand_classifier.hdf5\n",
      "43/43 [==============================] - 1s 12ms/step - loss: 0.0046 - accuracy: 0.9991 - val_loss: 7.4084e-05 - val_accuracy: 1.0000\n",
      "Epoch 127/1000\n",
      "42/43 [============================>.] - ETA: 0s - loss: 0.0067 - accuracy: 0.9980\n",
      "Epoch 127: saving model to new_hand_classifier.hdf5\n",
      "43/43 [==============================] - 1s 15ms/step - loss: 0.0067 - accuracy: 0.9980 - val_loss: 4.0226e-04 - val_accuracy: 1.0000\n",
      "Epoch 128/1000\n",
      "40/43 [==========================>...] - ETA: 0s - loss: 0.0020 - accuracy: 0.9998\n",
      "Epoch 128: saving model to new_hand_classifier.hdf5\n",
      "43/43 [==============================] - 1s 16ms/step - loss: 0.0019 - accuracy: 0.9998 - val_loss: 2.4335e-04 - val_accuracy: 1.0000\n",
      "Epoch 129/1000\n",
      "39/43 [==========================>...] - ETA: 0s - loss: 0.0066 - accuracy: 0.9972\n",
      "Epoch 129: saving model to new_hand_classifier.hdf5\n",
      "43/43 [==============================] - 1s 14ms/step - loss: 0.0064 - accuracy: 0.9974 - val_loss: 0.0016 - val_accuracy: 0.9994\n",
      "Epoch 130/1000\n",
      "39/43 [==========================>...] - ETA: 0s - loss: 0.0068 - accuracy: 0.9984\n",
      "Epoch 130: saving model to new_hand_classifier.hdf5\n",
      "43/43 [==============================] - 1s 14ms/step - loss: 0.0064 - accuracy: 0.9985 - val_loss: 2.5975e-04 - val_accuracy: 1.0000\n",
      "Epoch 131/1000\n",
      "42/43 [============================>.] - ETA: 0s - loss: 0.0041 - accuracy: 0.9983\n",
      "Epoch 131: saving model to new_hand_classifier.hdf5\n",
      "43/43 [==============================] - 1s 13ms/step - loss: 0.0041 - accuracy: 0.9983 - val_loss: 1.1263e-04 - val_accuracy: 1.0000\n",
      "Epoch 132/1000\n",
      "42/43 [============================>.] - ETA: 0s - loss: 0.0073 - accuracy: 0.9967\n",
      "Epoch 132: saving model to new_hand_classifier.hdf5\n",
      "43/43 [==============================] - 0s 11ms/step - loss: 0.0076 - accuracy: 0.9965 - val_loss: 3.1254e-04 - val_accuracy: 1.0000\n",
      "Epoch 133/1000\n",
      "43/43 [==============================] - ETA: 0s - loss: 0.0108 - accuracy: 0.9969\n",
      "Epoch 133: saving model to new_hand_classifier.hdf5\n",
      "43/43 [==============================] - 0s 11ms/step - loss: 0.0108 - accuracy: 0.9969 - val_loss: 6.5379e-04 - val_accuracy: 0.9994\n",
      "Epoch 134/1000\n",
      "42/43 [============================>.] - ETA: 0s - loss: 0.0043 - accuracy: 0.9991\n",
      "Epoch 134: saving model to new_hand_classifier.hdf5\n",
      "43/43 [==============================] - 1s 14ms/step - loss: 0.0043 - accuracy: 0.9991 - val_loss: 9.3556e-05 - val_accuracy: 1.0000\n",
      "Epoch 135/1000\n",
      "41/43 [===========================>..] - ETA: 0s - loss: 0.0068 - accuracy: 0.9977\n",
      "Epoch 135: saving model to new_hand_classifier.hdf5\n",
      "43/43 [==============================] - 1s 14ms/step - loss: 0.0067 - accuracy: 0.9978 - val_loss: 1.3821e-04 - val_accuracy: 1.0000\n",
      "Epoch 136/1000\n",
      "41/43 [===========================>..] - ETA: 0s - loss: 0.0034 - accuracy: 0.9987\n",
      "Epoch 136: saving model to new_hand_classifier.hdf5\n",
      "43/43 [==============================] - 1s 13ms/step - loss: 0.0040 - accuracy: 0.9985 - val_loss: 9.6430e-05 - val_accuracy: 1.0000\n",
      "Epoch 137/1000\n",
      "40/43 [==========================>...] - ETA: 0s - loss: 0.0043 - accuracy: 0.9980\n",
      "Epoch 137: saving model to new_hand_classifier.hdf5\n",
      "43/43 [==============================] - 1s 13ms/step - loss: 0.0041 - accuracy: 0.9981 - val_loss: 2.1960e-04 - val_accuracy: 1.0000\n",
      "Epoch 138/1000\n",
      "37/43 [========================>.....] - ETA: 0s - loss: 0.0042 - accuracy: 0.9981\n",
      "Epoch 138: saving model to new_hand_classifier.hdf5\n",
      "43/43 [==============================] - 1s 13ms/step - loss: 0.0043 - accuracy: 0.9981 - val_loss: 9.8170e-05 - val_accuracy: 1.0000\n",
      "Epoch 139/1000\n",
      "42/43 [============================>.] - ETA: 0s - loss: 0.0064 - accuracy: 0.9980\n",
      "Epoch 139: saving model to new_hand_classifier.hdf5\n",
      "43/43 [==============================] - 1s 13ms/step - loss: 0.0065 - accuracy: 0.9980 - val_loss: 1.4381e-04 - val_accuracy: 1.0000\n",
      "Epoch 140/1000\n",
      "43/43 [==============================] - ETA: 0s - loss: 0.0094 - accuracy: 0.9967\n",
      "Epoch 140: saving model to new_hand_classifier.hdf5\n",
      "43/43 [==============================] - 1s 14ms/step - loss: 0.0094 - accuracy: 0.9967 - val_loss: 7.7523e-05 - val_accuracy: 1.0000\n",
      "Epoch 141/1000\n",
      "41/43 [===========================>..] - ETA: 0s - loss: 0.0098 - accuracy: 0.9962\n",
      "Epoch 141: saving model to new_hand_classifier.hdf5\n",
      "43/43 [==============================] - 1s 17ms/step - loss: 0.0096 - accuracy: 0.9963 - val_loss: 1.9651e-04 - val_accuracy: 1.0000\n",
      "Epoch 142/1000\n",
      "39/43 [==========================>...] - ETA: 0s - loss: 0.0097 - accuracy: 0.9968\n",
      "Epoch 142: saving model to new_hand_classifier.hdf5\n",
      "43/43 [==============================] - 1s 15ms/step - loss: 0.0095 - accuracy: 0.9969 - val_loss: 2.9549e-04 - val_accuracy: 1.0000\n",
      "Epoch 143/1000\n",
      "42/43 [============================>.] - ETA: 0s - loss: 0.0071 - accuracy: 0.9983\n",
      "Epoch 143: saving model to new_hand_classifier.hdf5\n",
      "43/43 [==============================] - 1s 17ms/step - loss: 0.0071 - accuracy: 0.9983 - val_loss: 5.5949e-05 - val_accuracy: 1.0000\n",
      "Epoch 144/1000\n",
      "38/43 [=========================>....] - ETA: 0s - loss: 0.0061 - accuracy: 0.9981\n",
      "Epoch 144: saving model to new_hand_classifier.hdf5\n",
      "43/43 [==============================] - 1s 15ms/step - loss: 0.0057 - accuracy: 0.9983 - val_loss: 1.8397e-04 - val_accuracy: 1.0000\n",
      "Epoch 145/1000\n",
      "39/43 [==========================>...] - ETA: 0s - loss: 0.0033 - accuracy: 0.9990\n",
      "Epoch 145: saving model to new_hand_classifier.hdf5\n",
      "43/43 [==============================] - 1s 15ms/step - loss: 0.0032 - accuracy: 0.9991 - val_loss: 5.4511e-05 - val_accuracy: 1.0000\n",
      "Epoch 146/1000\n",
      "43/43 [==============================] - ETA: 0s - loss: 0.0064 - accuracy: 0.9980\n",
      "Epoch 146: saving model to new_hand_classifier.hdf5\n",
      "43/43 [==============================] - 1s 13ms/step - loss: 0.0064 - accuracy: 0.9980 - val_loss: 8.1625e-05 - val_accuracy: 1.0000\n",
      "Epoch 147/1000\n",
      "41/43 [===========================>..] - ETA: 0s - loss: 0.0059 - accuracy: 0.9979\n",
      "Epoch 147: saving model to new_hand_classifier.hdf5\n",
      "43/43 [==============================] - 1s 13ms/step - loss: 0.0061 - accuracy: 0.9978 - val_loss: 0.0013 - val_accuracy: 0.9994\n",
      "Epoch 148/1000\n",
      "40/43 [==========================>...] - ETA: 0s - loss: 0.0054 - accuracy: 0.9977\n",
      "Epoch 148: saving model to new_hand_classifier.hdf5\n",
      "43/43 [==============================] - 1s 14ms/step - loss: 0.0052 - accuracy: 0.9978 - val_loss: 1.3172e-04 - val_accuracy: 1.0000\n",
      "Epoch 149/1000\n",
      "40/43 [==========================>...] - ETA: 0s - loss: 0.0033 - accuracy: 0.9988\n",
      "Epoch 149: saving model to new_hand_classifier.hdf5\n",
      "43/43 [==============================] - 1s 15ms/step - loss: 0.0033 - accuracy: 0.9987 - val_loss: 1.2592e-04 - val_accuracy: 1.0000\n",
      "Epoch 150/1000\n",
      "39/43 [==========================>...] - ETA: 0s - loss: 0.0030 - accuracy: 0.9992\n",
      "Epoch 150: saving model to new_hand_classifier.hdf5\n",
      "43/43 [==============================] - 1s 15ms/step - loss: 0.0032 - accuracy: 0.9989 - val_loss: 7.7646e-04 - val_accuracy: 0.9994\n",
      "Epoch 151/1000\n",
      "40/43 [==========================>...] - ETA: 0s - loss: 0.0046 - accuracy: 0.9979\n",
      "Epoch 151: saving model to new_hand_classifier.hdf5\n",
      "43/43 [==============================] - 1s 14ms/step - loss: 0.0046 - accuracy: 0.9980 - val_loss: 9.6826e-05 - val_accuracy: 1.0000\n",
      "Epoch 152/1000\n",
      "36/43 [========================>.....] - ETA: 0s - loss: 0.0038 - accuracy: 0.9983\n",
      "Epoch 152: saving model to new_hand_classifier.hdf5\n",
      "43/43 [==============================] - 1s 12ms/step - loss: 0.0037 - accuracy: 0.9983 - val_loss: 5.6918e-05 - val_accuracy: 1.0000\n",
      "Epoch 153/1000\n",
      "40/43 [==========================>...] - ETA: 0s - loss: 0.0026 - accuracy: 0.9990\n",
      "Epoch 153: saving model to new_hand_classifier.hdf5\n",
      "43/43 [==============================] - 1s 14ms/step - loss: 0.0027 - accuracy: 0.9989 - val_loss: 2.5276e-05 - val_accuracy: 1.0000\n",
      "Epoch 154/1000\n",
      "41/43 [===========================>..] - ETA: 0s - loss: 0.0025 - accuracy: 0.9992\n",
      "Epoch 154: saving model to new_hand_classifier.hdf5\n",
      "43/43 [==============================] - 1s 14ms/step - loss: 0.0025 - accuracy: 0.9993 - val_loss: 5.5543e-05 - val_accuracy: 1.0000\n",
      "Epoch 155/1000\n",
      "41/43 [===========================>..] - ETA: 0s - loss: 0.0073 - accuracy: 0.9973\n",
      "Epoch 155: saving model to new_hand_classifier.hdf5\n",
      "43/43 [==============================] - 1s 14ms/step - loss: 0.0073 - accuracy: 0.9972 - val_loss: 0.0037 - val_accuracy: 0.9989\n",
      "Epoch 156/1000\n",
      "38/43 [=========================>....] - ETA: 0s - loss: 0.0043 - accuracy: 0.9977\n",
      "Epoch 156: saving model to new_hand_classifier.hdf5\n",
      "43/43 [==============================] - 1s 13ms/step - loss: 0.0042 - accuracy: 0.9980 - val_loss: 1.7840e-05 - val_accuracy: 1.0000\n",
      "Epoch 157/1000\n",
      "41/43 [===========================>..] - ETA: 0s - loss: 0.0025 - accuracy: 0.9987\n",
      "Epoch 157: saving model to new_hand_classifier.hdf5\n",
      "43/43 [==============================] - 1s 13ms/step - loss: 0.0027 - accuracy: 0.9985 - val_loss: 5.5535e-05 - val_accuracy: 1.0000\n",
      "Epoch 158/1000\n",
      "41/43 [===========================>..] - ETA: 0s - loss: 0.0061 - accuracy: 0.9983\n",
      "Epoch 158: saving model to new_hand_classifier.hdf5\n",
      "43/43 [==============================] - 0s 12ms/step - loss: 0.0060 - accuracy: 0.9983 - val_loss: 1.9782e-05 - val_accuracy: 1.0000\n",
      "Epoch 159/1000\n",
      "42/43 [============================>.] - ETA: 0s - loss: 0.0056 - accuracy: 0.9983\n",
      "Epoch 159: saving model to new_hand_classifier.hdf5\n",
      "43/43 [==============================] - 0s 12ms/step - loss: 0.0056 - accuracy: 0.9983 - val_loss: 5.6552e-05 - val_accuracy: 1.0000\n",
      "Epoch 160/1000\n",
      "40/43 [==========================>...] - ETA: 0s - loss: 0.0024 - accuracy: 0.9992\n",
      "Epoch 160: saving model to new_hand_classifier.hdf5\n",
      "43/43 [==============================] - 1s 12ms/step - loss: 0.0023 - accuracy: 0.9993 - val_loss: 1.4754e-05 - val_accuracy: 1.0000\n",
      "Epoch 161/1000\n",
      "41/43 [===========================>..] - ETA: 0s - loss: 0.0021 - accuracy: 0.9996\n",
      "Epoch 161: saving model to new_hand_classifier.hdf5\n",
      "43/43 [==============================] - 0s 12ms/step - loss: 0.0020 - accuracy: 0.9996 - val_loss: 3.6637e-05 - val_accuracy: 1.0000\n",
      "Epoch 162/1000\n",
      "37/43 [========================>.....] - ETA: 0s - loss: 0.0037 - accuracy: 0.9987\n",
      "Epoch 162: saving model to new_hand_classifier.hdf5\n",
      "43/43 [==============================] - 0s 11ms/step - loss: 0.0033 - accuracy: 0.9989 - val_loss: 8.7006e-05 - val_accuracy: 1.0000\n",
      "Epoch 163/1000\n",
      "39/43 [==========================>...] - ETA: 0s - loss: 0.0037 - accuracy: 0.9988\n",
      "Epoch 163: saving model to new_hand_classifier.hdf5\n",
      "43/43 [==============================] - 1s 12ms/step - loss: 0.0040 - accuracy: 0.9983 - val_loss: 1.6245e-04 - val_accuracy: 1.0000\n",
      "Epoch 164/1000\n",
      "40/43 [==========================>...] - ETA: 0s - loss: 0.0024 - accuracy: 0.9990\n",
      "Epoch 164: saving model to new_hand_classifier.hdf5\n",
      "43/43 [==============================] - 1s 12ms/step - loss: 0.0023 - accuracy: 0.9991 - val_loss: 1.9799e-05 - val_accuracy: 1.0000\n",
      "Epoch 165/1000\n",
      "41/43 [===========================>..] - ETA: 0s - loss: 0.0033 - accuracy: 0.9987\n",
      "Epoch 165: saving model to new_hand_classifier.hdf5\n",
      "43/43 [==============================] - 1s 14ms/step - loss: 0.0032 - accuracy: 0.9987 - val_loss: 2.4168e-05 - val_accuracy: 1.0000\n",
      "Epoch 166/1000\n",
      "41/43 [===========================>..] - ETA: 0s - loss: 0.0045 - accuracy: 0.9985\n",
      "Epoch 166: saving model to new_hand_classifier.hdf5\n",
      "43/43 [==============================] - 1s 28ms/step - loss: 0.0048 - accuracy: 0.9983 - val_loss: 6.4906e-05 - val_accuracy: 1.0000\n",
      "Epoch 167/1000\n",
      "42/43 [============================>.] - ETA: 0s - loss: 0.0034 - accuracy: 0.9991\n",
      "Epoch 167: saving model to new_hand_classifier.hdf5\n",
      "43/43 [==============================] - 1s 20ms/step - loss: 0.0034 - accuracy: 0.9991 - val_loss: 3.3517e-05 - val_accuracy: 1.0000\n",
      "Epoch 168/1000\n",
      "43/43 [==============================] - ETA: 0s - loss: 0.0041 - accuracy: 0.9989\n",
      "Epoch 168: saving model to new_hand_classifier.hdf5\n",
      "43/43 [==============================] - 1s 27ms/step - loss: 0.0041 - accuracy: 0.9989 - val_loss: 1.1726e-04 - val_accuracy: 1.0000\n",
      "Epoch 169/1000\n",
      "39/43 [==========================>...] - ETA: 0s - loss: 0.0066 - accuracy: 0.9982\n",
      "Epoch 169: saving model to new_hand_classifier.hdf5\n",
      "43/43 [==============================] - 1s 19ms/step - loss: 0.0076 - accuracy: 0.9974 - val_loss: 2.1378e-05 - val_accuracy: 1.0000\n",
      "Epoch 170/1000\n",
      "43/43 [==============================] - ETA: 0s - loss: 0.0118 - accuracy: 0.9959\n",
      "Epoch 170: saving model to new_hand_classifier.hdf5\n",
      "43/43 [==============================] - 1s 20ms/step - loss: 0.0118 - accuracy: 0.9959 - val_loss: 1.2752e-04 - val_accuracy: 1.0000\n",
      "Epoch 171/1000\n",
      "43/43 [==============================] - ETA: 0s - loss: 0.0035 - accuracy: 0.9993\n",
      "Epoch 171: saving model to new_hand_classifier.hdf5\n",
      "43/43 [==============================] - 1s 19ms/step - loss: 0.0035 - accuracy: 0.9993 - val_loss: 1.4778e-05 - val_accuracy: 1.0000\n",
      "Epoch 172/1000\n",
      "42/43 [============================>.] - ETA: 0s - loss: 0.0025 - accuracy: 0.9994\n",
      "Epoch 172: saving model to new_hand_classifier.hdf5\n",
      "43/43 [==============================] - 1s 18ms/step - loss: 0.0025 - accuracy: 0.9994 - val_loss: 6.8174e-05 - val_accuracy: 1.0000\n",
      "Epoch 173/1000\n",
      "38/43 [=========================>....] - ETA: 0s - loss: 0.0043 - accuracy: 0.9988\n",
      "Epoch 173: saving model to new_hand_classifier.hdf5\n",
      "43/43 [==============================] - 1s 18ms/step - loss: 0.0069 - accuracy: 0.9983 - val_loss: 1.5720e-05 - val_accuracy: 1.0000\n",
      "Epoch 174/1000\n",
      "42/43 [============================>.] - ETA: 0s - loss: 0.0044 - accuracy: 0.9993\n",
      "Epoch 174: saving model to new_hand_classifier.hdf5\n",
      "43/43 [==============================] - 1s 15ms/step - loss: 0.0044 - accuracy: 0.9993 - val_loss: 9.9906e-06 - val_accuracy: 1.0000\n",
      "Epoch 175/1000\n",
      "40/43 [==========================>...] - ETA: 0s - loss: 0.0066 - accuracy: 0.9977\n",
      "Epoch 175: saving model to new_hand_classifier.hdf5\n",
      "43/43 [==============================] - 1s 14ms/step - loss: 0.0065 - accuracy: 0.9976 - val_loss: 3.4743e-04 - val_accuracy: 1.0000\n",
      "Epoch 176/1000\n",
      "42/43 [============================>.] - ETA: 0s - loss: 0.0017 - accuracy: 0.9998\n",
      "Epoch 176: saving model to new_hand_classifier.hdf5\n",
      "43/43 [==============================] - 1s 13ms/step - loss: 0.0017 - accuracy: 0.9998 - val_loss: 2.6508e-04 - val_accuracy: 1.0000\n",
      "Epoch 177/1000\n",
      "43/43 [==============================] - ETA: 0s - loss: 0.0038 - accuracy: 0.9983\n",
      "Epoch 177: saving model to new_hand_classifier.hdf5\n",
      "43/43 [==============================] - 1s 22ms/step - loss: 0.0038 - accuracy: 0.9983 - val_loss: 7.2367e-05 - val_accuracy: 1.0000\n",
      "Epoch 178/1000\n",
      "43/43 [==============================] - ETA: 0s - loss: 0.0041 - accuracy: 0.9983\n",
      "Epoch 178: saving model to new_hand_classifier.hdf5\n",
      "43/43 [==============================] - 1s 14ms/step - loss: 0.0041 - accuracy: 0.9983 - val_loss: 4.7154e-05 - val_accuracy: 1.0000\n",
      "Epoch 179/1000\n",
      "42/43 [============================>.] - ETA: 0s - loss: 0.0023 - accuracy: 0.9996\n",
      "Epoch 179: saving model to new_hand_classifier.hdf5\n",
      "43/43 [==============================] - 0s 11ms/step - loss: 0.0023 - accuracy: 0.9996 - val_loss: 3.0500e-05 - val_accuracy: 1.0000\n",
      "Epoch 180/1000\n",
      "42/43 [============================>.] - ETA: 0s - loss: 0.0022 - accuracy: 0.9991\n",
      "Epoch 180: saving model to new_hand_classifier.hdf5\n",
      "43/43 [==============================] - 0s 11ms/step - loss: 0.0021 - accuracy: 0.9991 - val_loss: 8.1948e-05 - val_accuracy: 1.0000\n",
      "Epoch 181/1000\n",
      "41/43 [===========================>..] - ETA: 0s - loss: 0.0045 - accuracy: 0.9983\n",
      "Epoch 181: saving model to new_hand_classifier.hdf5\n",
      "43/43 [==============================] - 1s 14ms/step - loss: 0.0045 - accuracy: 0.9983 - val_loss: 3.3870e-04 - val_accuracy: 1.0000\n",
      "Epoch 182/1000\n",
      "37/43 [========================>.....] - ETA: 0s - loss: 0.0035 - accuracy: 0.9987\n",
      "Epoch 182: saving model to new_hand_classifier.hdf5\n",
      "43/43 [==============================] - 1s 12ms/step - loss: 0.0040 - accuracy: 0.9987 - val_loss: 3.0513e-06 - val_accuracy: 1.0000\n",
      "Epoch 183/1000\n",
      "40/43 [==========================>...] - ETA: 0s - loss: 0.0029 - accuracy: 0.9992\n",
      "Epoch 183: saving model to new_hand_classifier.hdf5\n",
      "43/43 [==============================] - 0s 12ms/step - loss: 0.0030 - accuracy: 0.9991 - val_loss: 1.1289e-05 - val_accuracy: 1.0000\n",
      "Epoch 184/1000\n",
      "42/43 [============================>.] - ETA: 0s - loss: 0.0024 - accuracy: 0.9994\n",
      "Epoch 184: saving model to new_hand_classifier.hdf5\n",
      "43/43 [==============================] - 0s 11ms/step - loss: 0.0024 - accuracy: 0.9994 - val_loss: 2.1178e-04 - val_accuracy: 1.0000\n",
      "Epoch 185/1000\n",
      "40/43 [==========================>...] - ETA: 0s - loss: 0.0044 - accuracy: 0.9986\n",
      "Epoch 185: saving model to new_hand_classifier.hdf5\n",
      "43/43 [==============================] - 0s 11ms/step - loss: 0.0043 - accuracy: 0.9987 - val_loss: 8.2902e-06 - val_accuracy: 1.0000\n",
      "Epoch 186/1000\n",
      "41/43 [===========================>..] - ETA: 0s - loss: 0.0026 - accuracy: 0.9983\n",
      "Epoch 186: saving model to new_hand_classifier.hdf5\n",
      "43/43 [==============================] - 1s 12ms/step - loss: 0.0025 - accuracy: 0.9983 - val_loss: 0.0015 - val_accuracy: 0.9994\n",
      "Epoch 187/1000\n",
      "41/43 [===========================>..] - ETA: 0s - loss: 0.0047 - accuracy: 0.9985\n",
      "Epoch 187: saving model to new_hand_classifier.hdf5\n",
      "43/43 [==============================] - 0s 11ms/step - loss: 0.0046 - accuracy: 0.9985 - val_loss: 1.4396e-05 - val_accuracy: 1.0000\n",
      "Epoch 188/1000\n",
      "43/43 [==============================] - ETA: 0s - loss: 0.0088 - accuracy: 0.9983\n",
      "Epoch 188: saving model to new_hand_classifier.hdf5\n",
      "43/43 [==============================] - 0s 11ms/step - loss: 0.0088 - accuracy: 0.9983 - val_loss: 2.1167e-05 - val_accuracy: 1.0000\n",
      "Epoch 189/1000\n",
      "39/43 [==========================>...] - ETA: 0s - loss: 0.0083 - accuracy: 0.9972\n",
      "Epoch 189: saving model to new_hand_classifier.hdf5\n",
      "43/43 [==============================] - 0s 12ms/step - loss: 0.0096 - accuracy: 0.9972 - val_loss: 5.1415e-04 - val_accuracy: 0.9994\n",
      "Epoch 190/1000\n",
      "36/43 [========================>.....] - ETA: 0s - loss: 0.0062 - accuracy: 0.9978\n",
      "Epoch 190: saving model to new_hand_classifier.hdf5\n",
      "43/43 [==============================] - 0s 11ms/step - loss: 0.0054 - accuracy: 0.9981 - val_loss: 2.4131e-05 - val_accuracy: 1.0000\n",
      "Epoch 191/1000\n",
      "42/43 [============================>.] - ETA: 0s - loss: 0.0033 - accuracy: 0.9989\n",
      "Epoch 191: saving model to new_hand_classifier.hdf5\n",
      "43/43 [==============================] - 0s 10ms/step - loss: 0.0033 - accuracy: 0.9989 - val_loss: 3.5181e-05 - val_accuracy: 1.0000\n",
      "Epoch 192/1000\n",
      "41/43 [===========================>..] - ETA: 0s - loss: 0.0074 - accuracy: 0.9971\n",
      "Epoch 192: saving model to new_hand_classifier.hdf5\n",
      "43/43 [==============================] - 1s 12ms/step - loss: 0.0072 - accuracy: 0.9972 - val_loss: 4.1403e-05 - val_accuracy: 1.0000\n",
      "Epoch 193/1000\n",
      "39/43 [==========================>...] - ETA: 0s - loss: 0.0030 - accuracy: 0.9988\n",
      "Epoch 193: saving model to new_hand_classifier.hdf5\n",
      "43/43 [==============================] - 1s 18ms/step - loss: 0.0028 - accuracy: 0.9989 - val_loss: 6.5439e-06 - val_accuracy: 1.0000\n",
      "Epoch 194/1000\n",
      "43/43 [==============================] - ETA: 0s - loss: 0.0025 - accuracy: 0.9989\n",
      "Epoch 194: saving model to new_hand_classifier.hdf5\n",
      "43/43 [==============================] - 1s 23ms/step - loss: 0.0025 - accuracy: 0.9989 - val_loss: 0.0021 - val_accuracy: 0.9994\n",
      "Epoch 195/1000\n",
      "40/43 [==========================>...] - ETA: 0s - loss: 0.0055 - accuracy: 0.9990\n",
      "Epoch 195: saving model to new_hand_classifier.hdf5\n",
      "43/43 [==============================] - 1s 15ms/step - loss: 0.0052 - accuracy: 0.9991 - val_loss: 1.9292e-05 - val_accuracy: 1.0000\n",
      "Epoch 196/1000\n",
      "39/43 [==========================>...] - ETA: 0s - loss: 0.0048 - accuracy: 0.9984\n",
      "Epoch 196: saving model to new_hand_classifier.hdf5\n",
      "43/43 [==============================] - 1s 20ms/step - loss: 0.0045 - accuracy: 0.9985 - val_loss: 1.4182e-04 - val_accuracy: 1.0000\n",
      "Epoch 197/1000\n",
      "40/43 [==========================>...] - ETA: 0s - loss: 0.0045 - accuracy: 0.9982\n",
      "Epoch 197: saving model to new_hand_classifier.hdf5\n",
      "43/43 [==============================] - 1s 24ms/step - loss: 0.0043 - accuracy: 0.9983 - val_loss: 6.5126e-05 - val_accuracy: 1.0000\n",
      "Epoch 198/1000\n",
      "43/43 [==============================] - ETA: 0s - loss: 0.0065 - accuracy: 0.9974\n",
      "Epoch 198: saving model to new_hand_classifier.hdf5\n",
      "43/43 [==============================] - 1s 23ms/step - loss: 0.0065 - accuracy: 0.9974 - val_loss: 8.8848e-04 - val_accuracy: 0.9994\n",
      "Epoch 199/1000\n",
      "41/43 [===========================>..] - ETA: 0s - loss: 0.0067 - accuracy: 0.9983\n",
      "Epoch 199: saving model to new_hand_classifier.hdf5\n",
      "43/43 [==============================] - 1s 20ms/step - loss: 0.0067 - accuracy: 0.9983 - val_loss: 5.3058e-05 - val_accuracy: 1.0000\n",
      "Epoch 200/1000\n",
      "39/43 [==========================>...] - ETA: 0s - loss: 0.0031 - accuracy: 0.9992\n",
      "Epoch 200: saving model to new_hand_classifier.hdf5\n",
      "43/43 [==============================] - 1s 22ms/step - loss: 0.0033 - accuracy: 0.9991 - val_loss: 6.2847e-05 - val_accuracy: 1.0000\n",
      "Epoch 201/1000\n",
      "42/43 [============================>.] - ETA: 0s - loss: 0.0050 - accuracy: 0.9980\n",
      "Epoch 201: saving model to new_hand_classifier.hdf5\n",
      "43/43 [==============================] - 1s 24ms/step - loss: 0.0050 - accuracy: 0.9980 - val_loss: 4.6229e-04 - val_accuracy: 1.0000\n",
      "Epoch 202/1000\n",
      "40/43 [==========================>...] - ETA: 0s - loss: 0.0021 - accuracy: 0.9994\n",
      "Epoch 202: saving model to new_hand_classifier.hdf5\n",
      "43/43 [==============================] - 1s 28ms/step - loss: 0.0022 - accuracy: 0.9993 - val_loss: 8.3791e-06 - val_accuracy: 1.0000\n",
      "Epoch 202: early stopping\n"
     ]
    }
   ],
   "source": [
    "history = model.fit(\n",
    "    X_train,\n",
    "    y_train,\n",
    "    epochs=1000,\n",
    "    batch_size=128,\n",
    "    validation_data=(X_test, y_test),\n",
    "    callbacks=[cp_callback, es_callback]\n",
    ")"
   ],
   "metadata": {
    "collapsed": false
   }
  },
  {
   "cell_type": "code",
   "execution_count": 13,
   "outputs": [
    {
     "name": "stdout",
     "output_type": "stream",
     "text": [
      "15/15 [==============================] - 0s 9ms/step - loss: 8.3791e-06 - accuracy: 1.0000\n"
     ]
    }
   ],
   "source": [
    "# Model evaluation\n",
    "val_loss, val_acc = model.evaluate(X_test, y_test, batch_size=128)"
   ],
   "metadata": {
    "collapsed": false
   }
  },
  {
   "cell_type": "code",
   "execution_count": 14,
   "outputs": [],
   "source": [
    "# Loading the saved model\n",
    "model = tf.keras.models.load_model(model_save_path)"
   ],
   "metadata": {
    "collapsed": false
   }
  },
  {
   "cell_type": "code",
   "execution_count": 15,
   "outputs": [
    {
     "name": "stdout",
     "output_type": "stream",
     "text": [
      "1/1 [==============================] - 0s 233ms/step\n",
      "[1.3415910e-14 1.6205433e-11 5.4456998e-11 6.7051477e-12 6.5374975e-18\n",
      " 1.3438630e-21 3.7834838e-10 3.7499958e-11 1.2881606e-16 1.5313497e-26\n",
      " 2.9339044e-19 5.0547616e-23 4.1436651e-24 6.5919097e-27 1.0000000e+00\n",
      " 5.7801403e-17 2.2246696e-26 8.6069976e-17 8.7380031e-17 7.8323836e-09\n",
      " 9.1544508e-32 3.1227619e-30 1.4200511e-15 1.5566652e-17 3.4978461e-12\n",
      " 4.6951815e-20]\n",
      "14\n"
     ]
    }
   ],
   "source": [
    "# Inference test\n",
    "predict_result = model.predict(np.array([X_test[0]]))\n",
    "print(np.squeeze(predict_result))\n",
    "print(np.argmax(np.squeeze(predict_result)))"
   ],
   "metadata": {
    "collapsed": false
   }
  },
  {
   "cell_type": "markdown",
   "source": [
    "# Confusion matrix"
   ],
   "metadata": {
    "collapsed": false
   }
  },
  {
   "cell_type": "code",
   "execution_count": 16,
   "outputs": [
    {
     "name": "stdout",
     "output_type": "stream",
     "text": [
      "57/57 [==============================] - 0s 4ms/step\n"
     ]
    },
    {
     "data": {
      "text/plain": "<Figure size 700x600 with 2 Axes>",
      "image/png": "[encoded data removed]"
     },
     "metadata": {},
     "output_type": "display_data"
    },
    {
     "name": "stdout",
     "output_type": "stream",
     "text": [
      "Classification Report\n",
      "              precision    recall  f1-score   support\n",
      "\n",
      "           0       1.00      1.00      1.00        77\n",
      "           1       1.00      1.00      1.00        78\n",
      "           2       1.00      1.00      1.00        78\n",
      "           3       1.00      1.00      1.00        84\n",
      "           4       1.00      1.00      1.00        88\n",
      "           5       1.00      1.00      1.00        84\n",
      "           6       1.00      1.00      1.00        84\n",
      "           7       1.00      1.00      1.00        71\n",
      "           8       1.00      1.00      1.00        70\n",
      "          10       1.00      1.00      1.00        75\n",
      "          11       1.00      1.00      1.00        80\n",
      "          12       1.00      1.00      1.00        63\n",
      "          13       1.00      1.00      1.00        71\n",
      "          14       1.00      1.00      1.00        69\n",
      "          15       1.00      1.00      1.00        79\n",
      "          16       1.00      1.00      1.00        77\n",
      "          17       1.00      1.00      1.00        58\n",
      "          18       1.00      1.00      1.00        71\n",
      "          19       1.00      1.00      1.00        73\n",
      "          20       1.00      1.00      1.00        79\n",
      "          21       1.00      1.00      1.00        81\n",
      "          22       1.00      1.00      1.00        76\n",
      "          23       1.00      1.00      1.00        65\n",
      "          24       1.00      1.00      1.00        69\n",
      "\n",
      "    accuracy                           1.00      1800\n",
      "   macro avg       1.00      1.00      1.00      1800\n",
      "weighted avg       1.00      1.00      1.00      1800\n",
      "\n"
     ]
    }
   ],
   "source": [
    "import pandas as pd\n",
    "import seaborn as sns\n",
    "import matplotlib.pyplot as plt\n",
    "from sklearn.metrics import confusion_matrix, classification_report\n",
    "\n",
    "def print_confusion_matrix(y_true, y_pred, report=True):\n",
    "    labels = sorted(list(set(y_true)))\n",
    "    cmx_data = confusion_matrix(y_true, y_pred, labels=labels)\n",
    "\n",
    "    df_cmx = pd.DataFrame(cmx_data, index=labels, columns=labels)\n",
    "\n",
    "    fig, ax = plt.subplots(figsize=(7, 6))\n",
    "    sns.heatmap(df_cmx, annot=True, fmt='g' ,square=False)\n",
    "    ax.set_ylim(len(set(y_true)), 0)\n",
    "    plt.show()\n",
    "\n",
    "    if report:\n",
    "        print('Classification Report')\n",
    "        print(classification_report(y_test, y_pred))\n",
    "\n",
    "Y_pred = model.predict(X_test)\n",
    "y_pred = np.argmax(Y_pred, axis=1)\n",
    "\n",
    "print_confusion_matrix(y_test, y_pred)"
   ],
   "metadata": {
    "collapsed": false
   }
  },
  {
   "cell_type": "markdown",
   "source": [
    "# Convert to model for Tensorflow-Lite"
   ],
   "metadata": {
    "collapsed": false
   }
  },
  {
   "cell_type": "code",
   "execution_count": 17,
   "outputs": [
    {
     "name": "stderr",
     "output_type": "stream",
     "text": [
      "C:\\gesture_recognition_by_image\\venv\\lib\\site-packages\\keras\\src\\engine\\training.py:3103: UserWarning: You are saving your model as an HDF5 file via `model.save()`. This file format is considered legacy. We recommend using instead the native Keras format, e.g. `model.save('my_model.keras')`.\n",
      "  saving_api.save_model(\n"
     ]
    }
   ],
   "source": [
    "# Save as a model dedicated to inference\n",
    "model.save(model_save_path, include_optimizer=False)"
   ],
   "metadata": {
    "collapsed": false
   }
  },
  {
   "cell_type": "code",
   "execution_count": 18,
   "outputs": [
    {
     "name": "stdout",
     "output_type": "stream",
     "text": [
      "INFO:tensorflow:Assets written to: C:\\Users\\joren\\AppData\\Local\\Temp\\tmpj17xu4g0\\assets\n"
     ]
    },
    {
     "name": "stderr",
     "output_type": "stream",
     "text": [
      "INFO:tensorflow:Assets written to: C:\\Users\\joren\\AppData\\Local\\Temp\\tmpj17xu4g0\\assets\n"
     ]
    },
    {
     "data": {
      "text/plain": "105472"
     },
     "execution_count": 18,
     "metadata": {},
     "output_type": "execute_result"
    }
   ],
   "source": [
    "# Transform model (quantization)\n",
    "\n",
    "converter = tf.lite.TFLiteConverter.from_keras_model(model)\n",
    "converter.optimizations = [tf.lite.Optimize.DEFAULT]\n",
    "tflite_quantized_model = converter.convert()\n",
    "\n",
    "open(tflite_save_path, 'wb').write(tflite_quantized_model)"
   ],
   "metadata": {
    "collapsed": false
   }
  },
  {
   "cell_type": "markdown",
   "source": [
    "# Inference test"
   ],
   "metadata": {
    "collapsed": false
   }
  },
  {
   "cell_type": "code",
   "execution_count": 19,
   "outputs": [],
   "source": [
    "interpreter = tf.lite.Interpreter(model_path=tflite_save_path)\n",
    "interpreter.allocate_tensors()"
   ],
   "metadata": {
    "collapsed": false
   }
  },
  {
   "cell_type": "code",
   "execution_count": 20,
   "outputs": [],
   "source": [
    "# Get I / O tensor\n",
    "input_details = interpreter.get_input_details()\n",
    "output_details = interpreter.get_output_details()"
   ],
   "metadata": {
    "collapsed": false
   }
  },
  {
   "cell_type": "code",
   "execution_count": 21,
   "outputs": [],
   "source": [
    "interpreter.set_tensor(input_details[0]['index'], np.array([X_test[0]]))"
   ],
   "metadata": {
    "collapsed": false
   }
  },
  {
   "cell_type": "code",
   "execution_count": 22,
   "outputs": [
    {
     "name": "stdout",
     "output_type": "stream",
     "text": [
      "CPU times: total: 0 ns\n",
      "Wall time: 0 ns\n"
     ]
    }
   ],
   "source": [
    "%%time\n",
    "# Inference implementation\n",
    "interpreter.invoke()\n",
    "tflite_results = interpreter.get_tensor(output_details[0]['index'])"
   ],
   "metadata": {
    "collapsed": false
   }
  },
  {
   "cell_type": "code",
   "execution_count": 23,
   "outputs": [
    {
     "name": "stdout",
     "output_type": "stream",
     "text": [
      "[1.2638346e-14 1.8529862e-11 6.6824636e-11 8.4625631e-12 7.0981725e-18\n",
      " 1.2850751e-21 4.1488976e-10 3.9278407e-11 1.4197090e-16 1.7609933e-26\n",
      " 3.1494209e-19 5.4082164e-23 4.7393675e-24 7.1534022e-27 1.0000000e+00\n",
      " 6.8451022e-17 2.6681833e-26 9.9170657e-17 8.2547847e-17 7.0772641e-09\n",
      " 1.1683643e-31 3.3982443e-30 1.5846104e-15 1.7199782e-17 3.5034343e-12\n",
      " 4.9241506e-20]\n",
      "14\n"
     ]
    }
   ],
   "source": [
    "print(np.squeeze(tflite_results))\n",
    "print(np.argmax(np.squeeze(tflite_results)))"
   ],
   "metadata": {
    "collapsed": false
   }
  },
  {
   "cell_type": "code",
   "execution_count": 24,
   "outputs": [
    {
     "name": "stderr",
     "output_type": "stream",
     "text": [
      "C:\\gesture_recognition_by_image\\venv\\lib\\site-packages\\keras\\src\\engine\\training.py:3103: UserWarning: You are saving your model as an HDF5 file via `model.save()`. This file format is considered legacy. We recommend using instead the native Keras format, e.g. `model.save('my_model.keras')`.\n",
      "  saving_api.save_model(\n"
     ]
    },
    {
     "name": "stdout",
     "output_type": "stream",
     "text": [
      "INFO:tensorflow:Assets written to: C:\\Users\\joren\\AppData\\Local\\Temp\\tmphm97ql6j\\assets\n"
     ]
    },
    {
     "name": "stderr",
     "output_type": "stream",
     "text": [
      "INFO:tensorflow:Assets written to: C:\\Users\\joren\\AppData\\Local\\Temp\\tmphm97ql6j\\assets\n"
     ]
    }
   ],
   "source": [
    "# Save the model\n",
    "model.save(model_save_path, include_optimizer=False)\n",
    "\n",
    "# Convert the model to TensorFlow Lite\n",
    "converter = tf.lite.TFLiteConverter.from_keras_model(model)\n",
    "converter.optimizations = [tf.lite.Optimize.DEFAULT]\n",
    "tflite_quantized_model = converter.convert()\n",
    "\n",
    "# Write the TFLite file\n",
    "with open(tflite_save_path, 'wb') as f:\n",
    "    f.write(tflite_quantized_model)"
   ],
   "metadata": {
    "collapsed": false
   }
  },
  {
   "cell_type": "markdown",
   "source": [
    "#### Loss  (cost)"
   ],
   "metadata": {
    "collapsed": false
   }
  },
  {
   "cell_type": "code",
   "execution_count": 25,
   "outputs": [
    {
     "data": {
      "text/plain": "<Figure size 640x480 with 1 Axes>",
      "image/png": "[encoded data removed]"
     },
     "metadata": {},
     "output_type": "display_data"
    }
   ],
   "source": [
    "plt.plot(history.history['loss'])\n",
    "plt.plot(history.history['val_loss'])\n",
    "plt.title('Model loss')\n",
    "plt.ylabel('Loss')\n",
    "plt.xlabel('Epoch')\n",
    "plt.legend(['Train', 'Validation'], loc='upper left')\n",
    "plt.show()"
   ],
   "metadata": {
    "collapsed": false
   }
  },
  {
   "cell_type": "code",
   "execution_count": 26,
   "outputs": [
    {
     "data": {
      "text/plain": "<Figure size 1200x600 with 2 Axes>",
      "image/png": "[encoded data removed]"
     },
     "metadata": {},
     "output_type": "display_data"
    }
   ],
   "source": [
    "plt.figure(figsize=(12, 6))\n",
    "\n",
    "# Plot training & validation loss values\n",
    "plt.subplot(2, 1, 1)\n",
    "plt.plot(history.history['loss'])\n",
    "plt.plot(history.history['val_loss'])\n",
    "plt.title('Model loss')\n",
    "plt.xlabel('Epoch')\n",
    "plt.ylabel('Loss')\n",
    "plt.legend(['Train', 'Validation'], loc='upper left')\n",
    "\n",
    "# Plot training & validation accuracy and F1 score values\n",
    "plt.subplot(2, 1, 2)\n",
    "plt.plot(history.history['accuracy'])\n",
    "plt.plot(history.history['val_accuracy'])\n",
    "plt.title('Model metrics')\n",
    "plt.xlabel('Epoch')\n",
    "plt.ylabel('Metric Value')\n",
    "plt.legend(['Train Accuracy', 'Validation Accuracy', 'F1 Score'], loc='upper left')\n",
    "\n",
    "plt.tight_layout()\n",
    "plt.show()"
   ],
   "metadata": {
    "collapsed": false
   }
  },
  {
   "cell_type": "code",
   "execution_count": 27,
   "outputs": [
    {
     "data": {
      "text/plain": "<Figure size 640x480 with 1 Axes>",
      "image/png": "[encoded data removed]"
     },
     "metadata": {},
     "output_type": "display_data"
    }
   ],
   "source": [
    "plt.plot(history.history['loss'], label='train')\n",
    "plt.plot(history.history['val_loss'], label='val')\n",
    "plt.title('Learning Curve')\n",
    "plt.xlabel('Epochs')\n",
    "plt.ylabel('Loss')\n",
    "plt.legend()\n",
    "plt.show()"
   ],
   "metadata": {
    "collapsed": false
   }
  },
  {
   "cell_type": "code",
   "execution_count": null,
   "outputs": [],
   "source": [],
   "metadata": {
    "collapsed": false
   }
  }
 ],
 "metadata": {
  "kernelspec": {
   "display_name": "Python 3",
   "language": "python",
   "name": "python3"
  },
  "language_info": {
   "codemirror_mode": {
    "name": "ipython",
    "version": 2
   },
   "file_extension": ".py",
   "mimetype": "text/x-python",
   "name": "python",
   "nbconvert_exporter": "python",
   "pygments_lexer": "ipython2",
   "version": "2.7.6"
  }
 },
 "nbformat": 4,
 "nbformat_minor": 0
}
