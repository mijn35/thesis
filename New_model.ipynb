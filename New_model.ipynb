{
 "cells": [
  {
   "cell_type": "code",
   "execution_count": 2,
   "outputs": [],
   "source": [
    "import csv\n",
    "\n",
    "import numpy as np\n",
    "import tensorflow as tf\n",
    "from tensorflow import keras\n",
    "from sklearn.model_selection import train_test_split\n",
    "\n",
    "RANDOM_SEED = 42"
   ],
   "metadata": {
    "collapsed": false
   }
  },
  {
   "cell_type": "markdown",
   "source": [
    "# Specify each path"
   ],
   "metadata": {
    "collapsed": false
   }
  },
  {
   "cell_type": "code",
   "execution_count": 3,
   "outputs": [],
   "source": [
    "dataset = 'hand_landmarks.csv'\n",
    "#model_save_path = 'model/keypoint_classifier/keypoint_classifier.hdf5'\n",
    "#tflite_save_path = 'model/keypoint_classifier/keypoint_classifier.tflite'\n",
    "model_save_path = 'new_hand_classifier.hdf5'\n",
    "tflite_save_path = 'new_hand_classifier.tflite'"
   ],
   "metadata": {
    "collapsed": false
   }
  },
  {
   "cell_type": "markdown",
   "source": [
    "# Set number of classes"
   ],
   "metadata": {
    "collapsed": false
   }
  },
  {
   "cell_type": "code",
   "execution_count": 4,
   "outputs": [],
   "source": [
    "NUM_CLASSES = 26"
   ],
   "metadata": {
    "collapsed": false
   }
  },
  {
   "cell_type": "markdown",
   "source": [
    "# Dataset reading"
   ],
   "metadata": {
    "collapsed": false
   }
  },
  {
   "cell_type": "code",
   "execution_count": 5,
   "outputs": [],
   "source": [
    "X_dataset = np.loadtxt(dataset, delimiter=',', dtype='float32', usecols=list(range(1, (21 * 2) + 1)))"
   ],
   "metadata": {
    "collapsed": false
   }
  },
  {
   "cell_type": "code",
   "execution_count": 6,
   "outputs": [],
   "source": [
    "y_dataset = np.loadtxt(dataset, delimiter=',', dtype='int32', usecols=(0))"
   ],
   "metadata": {
    "collapsed": false
   }
  },
  {
   "cell_type": "code",
   "execution_count": 7,
   "outputs": [],
   "source": [
    "X_train, X_test, y_train, y_test = train_test_split(X_dataset, y_dataset, train_size=0.75, random_state=RANDOM_SEED)"
   ],
   "metadata": {
    "collapsed": false
   }
  },
  {
   "cell_type": "markdown",
   "source": [
    "# Model building"
   ],
   "metadata": {
    "collapsed": false
   }
  },
  {
   "cell_type": "code",
   "execution_count": 10,
   "outputs": [],
   "source": [
    "model = tf.keras.models.Sequential([\n",
    "    tf.keras.layers.Reshape((21, 2, 1), input_shape=(21 * 2, )),\n",
    "    tf.keras.layers.Conv2D(32, kernel_size=(3, 1), activation='relu', padding='same'),\n",
    "    tf.keras.layers.MaxPooling2D(pool_size=(2, 1)),\n",
    "    tf.keras.layers.Conv2D(64, kernel_size=(3, 1), activation='relu', padding='same'),\n",
    "    tf.keras.layers.MaxPooling2D(pool_size=(2, 1)),\n",
    "    tf.keras.layers.Flatten(),\n",
    "    tf.keras.layers.Dropout(0.2),\n",
    "    tf.keras.layers.Dense(128, activation='relu'),\n",
    "    tf.keras.layers.Dropout(0.4),\n",
    "    tf.keras.layers.Dense(64, activation='relu'),\n",
    "    tf.keras.layers.Dense(NUM_CLASSES, activation='softmax')\n",
    "])"
   ],
   "metadata": {
    "collapsed": false
   }
  },
  {
   "cell_type": "code",
   "execution_count": 11,
   "outputs": [
    {
     "name": "stdout",
     "output_type": "stream",
     "text": [
      "Model: \"sequential_2\"\n",
      "_________________________________________________________________\n",
      " Layer (type)                Output Shape              Param #   \n",
      "=================================================================\n",
      " reshape_2 (Reshape)         (None, 21, 2, 1)          0         \n",
      "                                                                 \n",
      " conv2d_4 (Conv2D)           (None, 21, 2, 32)         128       \n",
      "                                                                 \n",
      " max_pooling2d_4 (MaxPoolin  (None, 10, 2, 32)         0         \n",
      " g2D)                                                            \n",
      "                                                                 \n",
      " conv2d_5 (Conv2D)           (None, 10, 2, 64)         6208      \n",
      "                                                                 \n",
      " max_pooling2d_5 (MaxPoolin  (None, 5, 2, 64)          0         \n",
      " g2D)                                                            \n",
      "                                                                 \n",
      " flatten_2 (Flatten)         (None, 640)               0         \n",
      "                                                                 \n",
      " dropout_4 (Dropout)         (None, 640)               0         \n",
      "                                                                 \n",
      " dense_6 (Dense)             (None, 128)               82048     \n",
      "                                                                 \n",
      " dropout_5 (Dropout)         (None, 128)               0         \n",
      "                                                                 \n",
      " dense_7 (Dense)             (None, 64)                8256      \n",
      "                                                                 \n",
      " dense_8 (Dense)             (None, 26)                1690      \n",
      "                                                                 \n",
      "=================================================================\n",
      "Total params: 98330 (384.10 KB)\n",
      "Trainable params: 98330 (384.10 KB)\n",
      "Non-trainable params: 0 (0.00 Byte)\n",
      "_________________________________________________________________\n"
     ]
    }
   ],
   "source": [
    "model.summary()  # tf.keras.utils.plot_model(model, show_shapes=True)"
   ],
   "metadata": {
    "collapsed": false
   }
  },
  {
   "cell_type": "code",
   "execution_count": 12,
   "outputs": [],
   "source": [
    "# Model checkpoint callback\n",
    "cp_callback = tf.keras.callbacks.ModelCheckpoint(\n",
    "    model_save_path, verbose=1, save_weights_only=False)\n",
    "# Callback for early stopping\n",
    "es_callback = tf.keras.callbacks.EarlyStopping(patience=20, verbose=1)"
   ],
   "metadata": {
    "collapsed": false
   }
  },
  {
   "cell_type": "code",
   "execution_count": 13,
   "outputs": [
    {
     "name": "stdout",
     "output_type": "stream",
     "text": [
      "WARNING:tensorflow:From C:\\gesture_recognition_by_image\\venv\\lib\\site-packages\\keras\\src\\optimizers\\__init__.py:309: The name tf.train.Optimizer is deprecated. Please use tf.compat.v1.train.Optimizer instead.\n",
      "\n"
     ]
    }
   ],
   "source": [
    "# Model compilation\n",
    "model.compile(\n",
    "    optimizer='adam',\n",
    "    loss='sparse_categorical_crossentropy',\n",
    "    metrics=['accuracy']\n",
    ")"
   ],
   "metadata": {
    "collapsed": false
   }
  },
  {
   "cell_type": "markdown",
   "source": [
    "# Model training"
   ],
   "metadata": {
    "collapsed": false
   }
  },
  {
   "cell_type": "code",
   "execution_count": 14,
   "outputs": [
    {
     "name": "stdout",
     "output_type": "stream",
     "text": [
      "Epoch 1/1000\n",
      "WARNING:tensorflow:From C:\\gesture_recognition_by_image\\venv\\lib\\site-packages\\keras\\src\\utils\\tf_utils.py:492: The name tf.ragged.RaggedTensorValue is deprecated. Please use tf.compat.v1.ragged.RaggedTensorValue instead.\n",
      "\n",
      "WARNING:tensorflow:From C:\\gesture_recognition_by_image\\venv\\lib\\site-packages\\keras\\src\\engine\\base_layer_utils.py:384: The name tf.executing_eagerly_outside_functions is deprecated. Please use tf.compat.v1.executing_eagerly_outside_functions instead.\n",
      "\n",
      "22/29 [=====================>........] - ETA: 0s - loss: 3.0013 - accuracy: 0.1669\n",
      "Epoch 1: saving model to new_hand_classifier.hdf5\n",
      "29/29 [==============================] - 1s 13ms/step - loss: 2.8599 - accuracy: 0.2025 - val_loss: 1.9694 - val_accuracy: 0.5008\n",
      "Epoch 2/1000\n",
      "21/29 [====================>.........] - ETA: 0s - loss: 1.8465 - accuracy: 0.4010"
     ]
    },
    {
     "name": "stderr",
     "output_type": "stream",
     "text": [
      "C:\\gesture_recognition_by_image\\venv\\lib\\site-packages\\keras\\src\\engine\\training.py:3103: UserWarning: You are saving your model as an HDF5 file via `model.save()`. This file format is considered legacy. We recommend using instead the native Keras format, e.g. `model.save('my_model.keras')`.\n",
      "  saving_api.save_model(\n"
     ]
    },
    {
     "name": "stdout",
     "output_type": "stream",
     "text": [
      "\n",
      "Epoch 2: saving model to new_hand_classifier.hdf5\n",
      "29/29 [==============================] - 0s 7ms/step - loss: 1.7256 - accuracy: 0.4378 - val_loss: 0.9357 - val_accuracy: 0.8142\n",
      "Epoch 3/1000\n",
      "24/29 [=======================>......] - ETA: 0s - loss: 1.0508 - accuracy: 0.6520\n",
      "Epoch 3: saving model to new_hand_classifier.hdf5\n",
      "29/29 [==============================] - 0s 7ms/step - loss: 1.0105 - accuracy: 0.6669 - val_loss: 0.3930 - val_accuracy: 0.9750\n",
      "Epoch 4/1000\n",
      "22/29 [=====================>........] - ETA: 0s - loss: 0.6206 - accuracy: 0.7937\n",
      "Epoch 4: saving model to new_hand_classifier.hdf5\n",
      "29/29 [==============================] - 0s 8ms/step - loss: 0.5854 - accuracy: 0.8061 - val_loss: 0.1767 - val_accuracy: 0.9800\n",
      "Epoch 5/1000\n",
      "26/29 [=========================>....] - ETA: 0s - loss: 0.3507 - accuracy: 0.8912\n",
      "Epoch 5: saving model to new_hand_classifier.hdf5\n",
      "29/29 [==============================] - 0s 8ms/step - loss: 0.3417 - accuracy: 0.8931 - val_loss: 0.0942 - val_accuracy: 0.9958\n",
      "Epoch 6/1000\n",
      "22/29 [=====================>........] - ETA: 0s - loss: 0.2566 - accuracy: 0.9165\n",
      "Epoch 6: saving model to new_hand_classifier.hdf5\n",
      "29/29 [==============================] - 0s 7ms/step - loss: 0.2454 - accuracy: 0.9208 - val_loss: 0.0637 - val_accuracy: 0.9983\n",
      "Epoch 7/1000\n",
      "21/29 [====================>.........] - ETA: 0s - loss: 0.1818 - accuracy: 0.9438\n",
      "Epoch 7: saving model to new_hand_classifier.hdf5\n",
      "29/29 [==============================] - 0s 7ms/step - loss: 0.1786 - accuracy: 0.9439 - val_loss: 0.0441 - val_accuracy: 0.9983\n",
      "Epoch 8/1000\n",
      "21/29 [====================>.........] - ETA: 0s - loss: 0.1289 - accuracy: 0.9628\n",
      "Epoch 8: saving model to new_hand_classifier.hdf5\n",
      "29/29 [==============================] - 0s 7ms/step - loss: 0.1258 - accuracy: 0.9608 - val_loss: 0.0353 - val_accuracy: 0.9858\n",
      "Epoch 9/1000\n",
      "22/29 [=====================>........] - ETA: 0s - loss: 0.1064 - accuracy: 0.9691\n",
      "Epoch 9: saving model to new_hand_classifier.hdf5\n",
      "29/29 [==============================] - 0s 7ms/step - loss: 0.1073 - accuracy: 0.9694 - val_loss: 0.0230 - val_accuracy: 0.9942\n",
      "Epoch 10/1000\n",
      "28/29 [===========================>..] - ETA: 0s - loss: 0.0832 - accuracy: 0.9788\n",
      "Epoch 10: saving model to new_hand_classifier.hdf5\n",
      "29/29 [==============================] - 0s 8ms/step - loss: 0.0829 - accuracy: 0.9789 - val_loss: 0.0123 - val_accuracy: 1.0000\n",
      "Epoch 11/1000\n",
      "20/29 [===================>..........] - ETA: 0s - loss: 0.0659 - accuracy: 0.9820\n",
      "Epoch 11: saving model to new_hand_classifier.hdf5\n",
      "29/29 [==============================] - 0s 7ms/step - loss: 0.0688 - accuracy: 0.9797 - val_loss: 0.0110 - val_accuracy: 1.0000\n",
      "Epoch 12/1000\n",
      "20/29 [===================>..........] - ETA: 0s - loss: 0.0602 - accuracy: 0.9840\n",
      "Epoch 12: saving model to new_hand_classifier.hdf5\n",
      "29/29 [==============================] - 0s 7ms/step - loss: 0.0589 - accuracy: 0.9836 - val_loss: 0.0080 - val_accuracy: 1.0000\n",
      "Epoch 13/1000\n",
      "28/29 [===========================>..] - ETA: 0s - loss: 0.0524 - accuracy: 0.9852\n",
      "Epoch 13: saving model to new_hand_classifier.hdf5\n",
      "29/29 [==============================] - 0s 8ms/step - loss: 0.0523 - accuracy: 0.9853 - val_loss: 0.0091 - val_accuracy: 1.0000\n",
      "Epoch 14/1000\n",
      "22/29 [=====================>........] - ETA: 0s - loss: 0.0471 - accuracy: 0.9869\n",
      "Epoch 14: saving model to new_hand_classifier.hdf5\n",
      "29/29 [==============================] - 0s 7ms/step - loss: 0.0459 - accuracy: 0.9872 - val_loss: 0.0049 - val_accuracy: 1.0000\n",
      "Epoch 15/1000\n",
      "21/29 [====================>.........] - ETA: 0s - loss: 0.0317 - accuracy: 0.9929\n",
      "Epoch 15: saving model to new_hand_classifier.hdf5\n",
      "29/29 [==============================] - 0s 7ms/step - loss: 0.0313 - accuracy: 0.9931 - val_loss: 0.0031 - val_accuracy: 1.0000\n",
      "Epoch 16/1000\n",
      "20/29 [===================>..........] - ETA: 0s - loss: 0.0358 - accuracy: 0.9902\n",
      "Epoch 16: saving model to new_hand_classifier.hdf5\n",
      "29/29 [==============================] - 0s 7ms/step - loss: 0.0371 - accuracy: 0.9894 - val_loss: 0.0040 - val_accuracy: 1.0000\n",
      "Epoch 17/1000\n",
      "21/29 [====================>.........] - ETA: 0s - loss: 0.0306 - accuracy: 0.9933\n",
      "Epoch 17: saving model to new_hand_classifier.hdf5\n",
      "29/29 [==============================] - 0s 8ms/step - loss: 0.0306 - accuracy: 0.9936 - val_loss: 0.0022 - val_accuracy: 1.0000\n",
      "Epoch 18/1000\n",
      "29/29 [==============================] - ETA: 0s - loss: 0.0269 - accuracy: 0.9925\n",
      "Epoch 18: saving model to new_hand_classifier.hdf5\n",
      "29/29 [==============================] - 0s 8ms/step - loss: 0.0269 - accuracy: 0.9925 - val_loss: 0.0019 - val_accuracy: 1.0000\n",
      "Epoch 19/1000\n",
      "22/29 [=====================>........] - ETA: 0s - loss: 0.0239 - accuracy: 0.9929\n",
      "Epoch 19: saving model to new_hand_classifier.hdf5\n",
      "29/29 [==============================] - 0s 7ms/step - loss: 0.0227 - accuracy: 0.9942 - val_loss: 0.0019 - val_accuracy: 1.0000\n",
      "Epoch 20/1000\n",
      "21/29 [====================>.........] - ETA: 0s - loss: 0.0234 - accuracy: 0.9944\n",
      "Epoch 20: saving model to new_hand_classifier.hdf5\n",
      "29/29 [==============================] - 0s 7ms/step - loss: 0.0220 - accuracy: 0.9944 - val_loss: 0.0017 - val_accuracy: 1.0000\n",
      "Epoch 21/1000\n",
      "21/29 [====================>.........] - ETA: 0s - loss: 0.0180 - accuracy: 0.9944\n",
      "Epoch 21: saving model to new_hand_classifier.hdf5\n",
      "29/29 [==============================] - 0s 9ms/step - loss: 0.0190 - accuracy: 0.9939 - val_loss: 7.8783e-04 - val_accuracy: 1.0000\n",
      "Epoch 22/1000\n",
      "26/29 [=========================>....] - ETA: 0s - loss: 0.0154 - accuracy: 0.9958\n",
      "Epoch 22: saving model to new_hand_classifier.hdf5\n",
      "29/29 [==============================] - 0s 12ms/step - loss: 0.0160 - accuracy: 0.9956 - val_loss: 0.0013 - val_accuracy: 1.0000\n",
      "Epoch 23/1000\n",
      "23/29 [======================>.......] - ETA: 0s - loss: 0.0171 - accuracy: 0.9959\n",
      "Epoch 23: saving model to new_hand_classifier.hdf5\n",
      "29/29 [==============================] - 0s 11ms/step - loss: 0.0168 - accuracy: 0.9961 - val_loss: 0.0015 - val_accuracy: 1.0000\n",
      "Epoch 24/1000\n",
      "25/29 [========================>.....] - ETA: 0s - loss: 0.0147 - accuracy: 0.9969\n",
      "Epoch 24: saving model to new_hand_classifier.hdf5\n",
      "29/29 [==============================] - 0s 9ms/step - loss: 0.0140 - accuracy: 0.9972 - val_loss: 6.9246e-04 - val_accuracy: 1.0000\n",
      "Epoch 25/1000\n",
      "29/29 [==============================] - ETA: 0s - loss: 0.0220 - accuracy: 0.9922\n",
      "Epoch 25: saving model to new_hand_classifier.hdf5\n",
      "29/29 [==============================] - 0s 9ms/step - loss: 0.0220 - accuracy: 0.9922 - val_loss: 0.0039 - val_accuracy: 1.0000\n",
      "Epoch 26/1000\n",
      "29/29 [==============================] - ETA: 0s - loss: 0.0154 - accuracy: 0.9972\n",
      "Epoch 26: saving model to new_hand_classifier.hdf5\n",
      "29/29 [==============================] - 0s 8ms/step - loss: 0.0154 - accuracy: 0.9972 - val_loss: 4.0259e-04 - val_accuracy: 1.0000\n",
      "Epoch 27/1000\n",
      "23/29 [======================>.......] - ETA: 0s - loss: 0.0156 - accuracy: 0.9956\n",
      "Epoch 27: saving model to new_hand_classifier.hdf5\n",
      "29/29 [==============================] - 0s 11ms/step - loss: 0.0151 - accuracy: 0.9958 - val_loss: 6.8397e-04 - val_accuracy: 1.0000\n",
      "Epoch 28/1000\n",
      "24/29 [=======================>......] - ETA: 0s - loss: 0.0120 - accuracy: 0.9971\n",
      "Epoch 28: saving model to new_hand_classifier.hdf5\n",
      "29/29 [==============================] - 0s 9ms/step - loss: 0.0109 - accuracy: 0.9975 - val_loss: 2.6434e-04 - val_accuracy: 1.0000\n",
      "Epoch 29/1000\n",
      "24/29 [=======================>......] - ETA: 0s - loss: 0.0103 - accuracy: 0.9984\n",
      "Epoch 29: saving model to new_hand_classifier.hdf5\n",
      "29/29 [==============================] - 0s 9ms/step - loss: 0.0116 - accuracy: 0.9975 - val_loss: 1.7822e-04 - val_accuracy: 1.0000\n",
      "Epoch 30/1000\n",
      "20/29 [===================>..........] - ETA: 0s - loss: 0.0086 - accuracy: 0.9984\n",
      "Epoch 30: saving model to new_hand_classifier.hdf5\n",
      "29/29 [==============================] - 0s 8ms/step - loss: 0.0091 - accuracy: 0.9981 - val_loss: 1.4056e-04 - val_accuracy: 1.0000\n",
      "Epoch 31/1000\n",
      "23/29 [======================>.......] - ETA: 0s - loss: 0.0099 - accuracy: 0.9980\n",
      "Epoch 31: saving model to new_hand_classifier.hdf5\n",
      "29/29 [==============================] - 0s 7ms/step - loss: 0.0102 - accuracy: 0.9978 - val_loss: 1.5080e-04 - val_accuracy: 1.0000\n",
      "Epoch 32/1000\n",
      "26/29 [=========================>....] - ETA: 0s - loss: 0.0080 - accuracy: 0.9994\n",
      "Epoch 32: saving model to new_hand_classifier.hdf5\n",
      "29/29 [==============================] - 0s 8ms/step - loss: 0.0080 - accuracy: 0.9992 - val_loss: 1.5809e-04 - val_accuracy: 1.0000\n",
      "Epoch 33/1000\n",
      "29/29 [==============================] - ETA: 0s - loss: 0.0101 - accuracy: 0.9972\n",
      "Epoch 33: saving model to new_hand_classifier.hdf5\n",
      "29/29 [==============================] - 0s 8ms/step - loss: 0.0101 - accuracy: 0.9972 - val_loss: 9.8305e-05 - val_accuracy: 1.0000\n",
      "Epoch 34/1000\n",
      "25/29 [========================>.....] - ETA: 0s - loss: 0.0087 - accuracy: 0.9984\n",
      "Epoch 34: saving model to new_hand_classifier.hdf5\n",
      "29/29 [==============================] - 0s 9ms/step - loss: 0.0107 - accuracy: 0.9972 - val_loss: 7.6819e-05 - val_accuracy: 1.0000\n",
      "Epoch 35/1000\n",
      "26/29 [=========================>....] - ETA: 0s - loss: 0.0088 - accuracy: 0.9994\n",
      "Epoch 35: saving model to new_hand_classifier.hdf5\n",
      "29/29 [==============================] - 0s 9ms/step - loss: 0.0085 - accuracy: 0.9994 - val_loss: 3.4118e-04 - val_accuracy: 1.0000\n",
      "Epoch 36/1000\n",
      "26/29 [=========================>....] - ETA: 0s - loss: 0.0063 - accuracy: 0.9979\n",
      "Epoch 36: saving model to new_hand_classifier.hdf5\n",
      "29/29 [==============================] - 0s 9ms/step - loss: 0.0063 - accuracy: 0.9981 - val_loss: 8.8712e-05 - val_accuracy: 1.0000\n",
      "Epoch 37/1000\n",
      "23/29 [======================>.......] - ETA: 0s - loss: 0.0038 - accuracy: 0.9997\n",
      "Epoch 37: saving model to new_hand_classifier.hdf5\n",
      "29/29 [==============================] - 0s 9ms/step - loss: 0.0044 - accuracy: 0.9994 - val_loss: 2.7111e-04 - val_accuracy: 1.0000\n",
      "Epoch 38/1000\n",
      "24/29 [=======================>......] - ETA: 0s - loss: 0.0078 - accuracy: 0.9980\n",
      "Epoch 38: saving model to new_hand_classifier.hdf5\n",
      "29/29 [==============================] - 0s 9ms/step - loss: 0.0083 - accuracy: 0.9978 - val_loss: 5.2307e-05 - val_accuracy: 1.0000\n",
      "Epoch 39/1000\n",
      "29/29 [==============================] - ETA: 0s - loss: 0.0082 - accuracy: 0.9975\n",
      "Epoch 39: saving model to new_hand_classifier.hdf5\n",
      "29/29 [==============================] - 0s 8ms/step - loss: 0.0082 - accuracy: 0.9975 - val_loss: 5.5799e-05 - val_accuracy: 1.0000\n",
      "Epoch 40/1000\n",
      "26/29 [=========================>....] - ETA: 0s - loss: 0.0050 - accuracy: 0.9994\n",
      "Epoch 40: saving model to new_hand_classifier.hdf5\n",
      "29/29 [==============================] - 0s 9ms/step - loss: 0.0050 - accuracy: 0.9994 - val_loss: 3.8292e-05 - val_accuracy: 1.0000\n",
      "Epoch 41/1000\n",
      "28/29 [===========================>..] - ETA: 0s - loss: 0.0066 - accuracy: 0.9983\n",
      "Epoch 41: saving model to new_hand_classifier.hdf5\n",
      "29/29 [==============================] - 0s 9ms/step - loss: 0.0066 - accuracy: 0.9983 - val_loss: 5.3520e-05 - val_accuracy: 1.0000\n",
      "Epoch 42/1000\n",
      "26/29 [=========================>....] - ETA: 0s - loss: 0.0085 - accuracy: 0.9967\n",
      "Epoch 42: saving model to new_hand_classifier.hdf5\n",
      "29/29 [==============================] - 0s 9ms/step - loss: 0.0088 - accuracy: 0.9964 - val_loss: 1.0568e-04 - val_accuracy: 1.0000\n",
      "Epoch 43/1000\n",
      "23/29 [======================>.......] - ETA: 0s - loss: 0.0099 - accuracy: 0.9973\n",
      "Epoch 43: saving model to new_hand_classifier.hdf5\n",
      "29/29 [==============================] - 0s 10ms/step - loss: 0.0093 - accuracy: 0.9975 - val_loss: 1.6941e-04 - val_accuracy: 1.0000\n",
      "Epoch 44/1000\n",
      "23/29 [======================>.......] - ETA: 0s - loss: 0.0055 - accuracy: 0.9983\n",
      "Epoch 44: saving model to new_hand_classifier.hdf5\n",
      "29/29 [==============================] - 0s 10ms/step - loss: 0.0050 - accuracy: 0.9986 - val_loss: 3.9867e-05 - val_accuracy: 1.0000\n",
      "Epoch 45/1000\n",
      "20/29 [===================>..........] - ETA: 0s - loss: 0.0072 - accuracy: 0.9980\n",
      "Epoch 45: saving model to new_hand_classifier.hdf5\n",
      "29/29 [==============================] - 0s 8ms/step - loss: 0.0063 - accuracy: 0.9983 - val_loss: 1.0126e-04 - val_accuracy: 1.0000\n",
      "Epoch 46/1000\n",
      "24/29 [=======================>......] - ETA: 0s - loss: 0.0061 - accuracy: 0.9987\n",
      "Epoch 46: saving model to new_hand_classifier.hdf5\n",
      "29/29 [==============================] - 0s 8ms/step - loss: 0.0071 - accuracy: 0.9986 - val_loss: 3.7065e-05 - val_accuracy: 1.0000\n",
      "Epoch 47/1000\n",
      "29/29 [==============================] - ETA: 0s - loss: 0.0042 - accuracy: 0.9992\n",
      "Epoch 47: saving model to new_hand_classifier.hdf5\n",
      "29/29 [==============================] - 0s 8ms/step - loss: 0.0042 - accuracy: 0.9992 - val_loss: 2.5740e-05 - val_accuracy: 1.0000\n",
      "Epoch 48/1000\n",
      "26/29 [=========================>....] - ETA: 0s - loss: 0.0035 - accuracy: 0.9991\n",
      "Epoch 48: saving model to new_hand_classifier.hdf5\n",
      "29/29 [==============================] - 0s 9ms/step - loss: 0.0034 - accuracy: 0.9992 - val_loss: 3.2273e-05 - val_accuracy: 1.0000\n",
      "Epoch 49/1000\n",
      "23/29 [======================>.......] - ETA: 0s - loss: 0.0024 - accuracy: 0.9997\n",
      "Epoch 49: saving model to new_hand_classifier.hdf5\n",
      "29/29 [==============================] - 0s 10ms/step - loss: 0.0023 - accuracy: 0.9997 - val_loss: 1.4493e-05 - val_accuracy: 1.0000\n",
      "Epoch 50/1000\n",
      "23/29 [======================>.......] - ETA: 0s - loss: 0.0057 - accuracy: 0.9983\n",
      "Epoch 50: saving model to new_hand_classifier.hdf5\n",
      "29/29 [==============================] - 0s 9ms/step - loss: 0.0051 - accuracy: 0.9986 - val_loss: 7.2288e-05 - val_accuracy: 1.0000\n",
      "Epoch 51/1000\n",
      "26/29 [=========================>....] - ETA: 0s - loss: 0.0076 - accuracy: 0.9964\n",
      "Epoch 51: saving model to new_hand_classifier.hdf5\n",
      "29/29 [==============================] - 0s 9ms/step - loss: 0.0074 - accuracy: 0.9967 - val_loss: 4.4036e-05 - val_accuracy: 1.0000\n",
      "Epoch 52/1000\n",
      "25/29 [========================>.....] - ETA: 0s - loss: 0.0043 - accuracy: 0.9987\n",
      "Epoch 52: saving model to new_hand_classifier.hdf5\n",
      "29/29 [==============================] - 0s 9ms/step - loss: 0.0043 - accuracy: 0.9989 - val_loss: 7.3579e-05 - val_accuracy: 1.0000\n",
      "Epoch 53/1000\n",
      "25/29 [========================>.....] - ETA: 0s - loss: 0.0045 - accuracy: 0.9984\n",
      "Epoch 53: saving model to new_hand_classifier.hdf5\n",
      "29/29 [==============================] - 0s 9ms/step - loss: 0.0051 - accuracy: 0.9983 - val_loss: 2.9657e-05 - val_accuracy: 1.0000\n",
      "Epoch 54/1000\n",
      "21/29 [====================>.........] - ETA: 0s - loss: 0.0044 - accuracy: 0.9981\n",
      "Epoch 54: saving model to new_hand_classifier.hdf5\n",
      "29/29 [==============================] - 0s 8ms/step - loss: 0.0042 - accuracy: 0.9983 - val_loss: 2.0028e-05 - val_accuracy: 1.0000\n",
      "Epoch 55/1000\n",
      "25/29 [========================>.....] - ETA: 0s - loss: 0.0064 - accuracy: 0.9981\n",
      "Epoch 55: saving model to new_hand_classifier.hdf5\n",
      "29/29 [==============================] - 0s 8ms/step - loss: 0.0061 - accuracy: 0.9983 - val_loss: 7.2730e-05 - val_accuracy: 1.0000\n",
      "Epoch 56/1000\n",
      "27/29 [==========================>...] - ETA: 0s - loss: 0.0060 - accuracy: 0.9983\n",
      "Epoch 56: saving model to new_hand_classifier.hdf5\n",
      "29/29 [==============================] - 0s 8ms/step - loss: 0.0061 - accuracy: 0.9981 - val_loss: 4.6222e-05 - val_accuracy: 1.0000\n",
      "Epoch 57/1000\n",
      "25/29 [========================>.....] - ETA: 0s - loss: 0.0066 - accuracy: 0.9984\n",
      "Epoch 57: saving model to new_hand_classifier.hdf5\n",
      "29/29 [==============================] - 0s 8ms/step - loss: 0.0062 - accuracy: 0.9986 - val_loss: 2.2009e-04 - val_accuracy: 1.0000\n",
      "Epoch 58/1000\n",
      "26/29 [=========================>....] - ETA: 0s - loss: 0.0079 - accuracy: 0.9979\n",
      "Epoch 58: saving model to new_hand_classifier.hdf5\n",
      "29/29 [==============================] - 0s 8ms/step - loss: 0.0074 - accuracy: 0.9981 - val_loss: 3.0831e-05 - val_accuracy: 1.0000\n",
      "Epoch 59/1000\n",
      "23/29 [======================>.......] - ETA: 0s - loss: 0.0047 - accuracy: 0.9986\n",
      "Epoch 59: saving model to new_hand_classifier.hdf5\n",
      "29/29 [==============================] - 0s 9ms/step - loss: 0.0043 - accuracy: 0.9989 - val_loss: 1.9229e-05 - val_accuracy: 1.0000\n",
      "Epoch 60/1000\n",
      "25/29 [========================>.....] - ETA: 0s - loss: 0.0050 - accuracy: 0.9984\n",
      "Epoch 60: saving model to new_hand_classifier.hdf5\n",
      "29/29 [==============================] - 0s 9ms/step - loss: 0.0046 - accuracy: 0.9986 - val_loss: 1.4759e-05 - val_accuracy: 1.0000\n",
      "Epoch 61/1000\n",
      "22/29 [=====================>........] - ETA: 0s - loss: 0.0018 - accuracy: 0.9996\n",
      "Epoch 61: saving model to new_hand_classifier.hdf5\n",
      "29/29 [==============================] - 0s 10ms/step - loss: 0.0022 - accuracy: 0.9994 - val_loss: 1.3892e-05 - val_accuracy: 1.0000\n",
      "Epoch 62/1000\n",
      "27/29 [==========================>...] - ETA: 0s - loss: 0.0030 - accuracy: 0.9991\n",
      "Epoch 62: saving model to new_hand_classifier.hdf5\n",
      "29/29 [==============================] - 0s 9ms/step - loss: 0.0029 - accuracy: 0.9992 - val_loss: 6.0392e-06 - val_accuracy: 1.0000\n",
      "Epoch 63/1000\n",
      "28/29 [===========================>..] - ETA: 0s - loss: 0.0028 - accuracy: 0.9992\n",
      "Epoch 63: saving model to new_hand_classifier.hdf5\n",
      "29/29 [==============================] - 0s 8ms/step - loss: 0.0028 - accuracy: 0.9992 - val_loss: 1.0984e-05 - val_accuracy: 1.0000\n",
      "Epoch 64/1000\n",
      "28/29 [===========================>..] - ETA: 0s - loss: 0.0030 - accuracy: 0.9989\n",
      "Epoch 64: saving model to new_hand_classifier.hdf5\n",
      "29/29 [==============================] - 0s 8ms/step - loss: 0.0029 - accuracy: 0.9989 - val_loss: 7.6102e-06 - val_accuracy: 1.0000\n",
      "Epoch 65/1000\n",
      "25/29 [========================>.....] - ETA: 0s - loss: 0.0032 - accuracy: 0.9997\n",
      "Epoch 65: saving model to new_hand_classifier.hdf5\n",
      "29/29 [==============================] - 0s 9ms/step - loss: 0.0060 - accuracy: 0.9992 - val_loss: 8.5244e-06 - val_accuracy: 1.0000\n",
      "Epoch 66/1000\n",
      "27/29 [==========================>...] - ETA: 0s - loss: 0.0078 - accuracy: 0.9980\n",
      "Epoch 66: saving model to new_hand_classifier.hdf5\n",
      "29/29 [==============================] - 0s 9ms/step - loss: 0.0076 - accuracy: 0.9981 - val_loss: 1.1009e-05 - val_accuracy: 1.0000\n",
      "Epoch 67/1000\n",
      "26/29 [=========================>....] - ETA: 0s - loss: 0.0034 - accuracy: 0.9991\n",
      "Epoch 67: saving model to new_hand_classifier.hdf5\n",
      "29/29 [==============================] - 0s 8ms/step - loss: 0.0033 - accuracy: 0.9992 - val_loss: 6.5059e-06 - val_accuracy: 1.0000\n",
      "Epoch 68/1000\n",
      "24/29 [=======================>......] - ETA: 0s - loss: 0.0010 - accuracy: 1.0000\n",
      "Epoch 68: saving model to new_hand_classifier.hdf5\n",
      "29/29 [==============================] - 0s 9ms/step - loss: 0.0012 - accuracy: 1.0000 - val_loss: 4.1416e-06 - val_accuracy: 1.0000\n",
      "Epoch 69/1000\n",
      "26/29 [=========================>....] - ETA: 0s - loss: 0.0019 - accuracy: 0.9997\n",
      "Epoch 69: saving model to new_hand_classifier.hdf5\n",
      "29/29 [==============================] - 0s 9ms/step - loss: 0.0020 - accuracy: 0.9997 - val_loss: 4.7534e-06 - val_accuracy: 1.0000\n",
      "Epoch 70/1000\n",
      "26/29 [=========================>....] - ETA: 0s - loss: 0.0015 - accuracy: 0.9997\n",
      "Epoch 70: saving model to new_hand_classifier.hdf5\n",
      "29/29 [==============================] - 0s 9ms/step - loss: 0.0015 - accuracy: 0.9997 - val_loss: 5.1655e-06 - val_accuracy: 1.0000\n",
      "Epoch 71/1000\n",
      "24/29 [=======================>......] - ETA: 0s - loss: 0.0012 - accuracy: 0.9997\n",
      "Epoch 71: saving model to new_hand_classifier.hdf5\n",
      "29/29 [==============================] - 0s 9ms/step - loss: 0.0012 - accuracy: 0.9997 - val_loss: 2.8868e-06 - val_accuracy: 1.0000\n",
      "Epoch 72/1000\n",
      "26/29 [=========================>....] - ETA: 0s - loss: 0.0018 - accuracy: 0.9994\n",
      "Epoch 72: saving model to new_hand_classifier.hdf5\n",
      "29/29 [==============================] - 0s 9ms/step - loss: 0.0018 - accuracy: 0.9994 - val_loss: 5.1224e-06 - val_accuracy: 1.0000\n",
      "Epoch 73/1000\n",
      "28/29 [===========================>..] - ETA: 0s - loss: 0.0022 - accuracy: 0.9994\n",
      "Epoch 73: saving model to new_hand_classifier.hdf5\n",
      "29/29 [==============================] - 0s 9ms/step - loss: 0.0022 - accuracy: 0.9994 - val_loss: 4.7642e-06 - val_accuracy: 1.0000\n",
      "Epoch 74/1000\n",
      "28/29 [===========================>..] - ETA: 0s - loss: 0.0023 - accuracy: 0.9992\n",
      "Epoch 74: saving model to new_hand_classifier.hdf5\n",
      "29/29 [==============================] - 0s 8ms/step - loss: 0.0024 - accuracy: 0.9992 - val_loss: 5.9288e-06 - val_accuracy: 1.0000\n",
      "Epoch 75/1000\n",
      "23/29 [======================>.......] - ETA: 0s - loss: 0.0033 - accuracy: 0.9990\n",
      "Epoch 75: saving model to new_hand_classifier.hdf5\n",
      "29/29 [==============================] - 0s 10ms/step - loss: 0.0048 - accuracy: 0.9986 - val_loss: 4.6648e-06 - val_accuracy: 1.0000\n",
      "Epoch 76/1000\n",
      "27/29 [==========================>...] - ETA: 0s - loss: 0.0027 - accuracy: 0.9994\n",
      "Epoch 76: saving model to new_hand_classifier.hdf5\n",
      "29/29 [==============================] - 0s 10ms/step - loss: 0.0026 - accuracy: 0.9994 - val_loss: 7.0296e-06 - val_accuracy: 1.0000\n",
      "Epoch 77/1000\n",
      "25/29 [========================>.....] - ETA: 0s - loss: 0.0013 - accuracy: 1.0000\n",
      "Epoch 77: saving model to new_hand_classifier.hdf5\n",
      "29/29 [==============================] - 0s 9ms/step - loss: 0.0014 - accuracy: 0.9997 - val_loss: 7.3649e-06 - val_accuracy: 1.0000\n",
      "Epoch 78/1000\n",
      "27/29 [==========================>...] - ETA: 0s - loss: 0.0013 - accuracy: 1.0000\n",
      "Epoch 78: saving model to new_hand_classifier.hdf5\n",
      "29/29 [==============================] - 0s 9ms/step - loss: 0.0013 - accuracy: 1.0000 - val_loss: 5.3473e-06 - val_accuracy: 1.0000\n",
      "Epoch 79/1000\n",
      "25/29 [========================>.....] - ETA: 0s - loss: 0.0013 - accuracy: 1.0000    \n",
      "Epoch 79: saving model to new_hand_classifier.hdf5\n",
      "29/29 [==============================] - 0s 9ms/step - loss: 0.0013 - accuracy: 1.0000 - val_loss: 2.6508e-06 - val_accuracy: 1.0000\n",
      "Epoch 80/1000\n",
      "25/29 [========================>.....] - ETA: 0s - loss: 0.0030 - accuracy: 0.9997\n",
      "Epoch 80: saving model to new_hand_classifier.hdf5\n",
      "29/29 [==============================] - 0s 9ms/step - loss: 0.0028 - accuracy: 0.9997 - val_loss: 1.9221e-04 - val_accuracy: 1.0000\n",
      "Epoch 81/1000\n",
      "25/29 [========================>.....] - ETA: 0s - loss: 0.0050 - accuracy: 0.9975\n",
      "Epoch 81: saving model to new_hand_classifier.hdf5\n",
      "29/29 [==============================] - 0s 9ms/step - loss: 0.0048 - accuracy: 0.9978 - val_loss: 7.5759e-06 - val_accuracy: 1.0000\n",
      "Epoch 82/1000\n",
      "28/29 [===========================>..] - ETA: 0s - loss: 0.0019 - accuracy: 0.9997\n",
      "Epoch 82: saving model to new_hand_classifier.hdf5\n",
      "29/29 [==============================] - 0s 9ms/step - loss: 0.0019 - accuracy: 0.9997 - val_loss: 3.4772e-06 - val_accuracy: 1.0000\n",
      "Epoch 83/1000\n",
      "27/29 [==========================>...] - ETA: 0s - loss: 0.0053 - accuracy: 0.9994\n",
      "Epoch 83: saving model to new_hand_classifier.hdf5\n",
      "29/29 [==============================] - 0s 8ms/step - loss: 0.0051 - accuracy: 0.9994 - val_loss: 2.8640e-06 - val_accuracy: 1.0000\n",
      "Epoch 84/1000\n",
      "26/29 [=========================>....] - ETA: 0s - loss: 0.0049 - accuracy: 0.9979\n",
      "Epoch 84: saving model to new_hand_classifier.hdf5\n",
      "29/29 [==============================] - 0s 9ms/step - loss: 0.0048 - accuracy: 0.9981 - val_loss: 1.4424e-04 - val_accuracy: 1.0000\n",
      "Epoch 85/1000\n",
      "29/29 [==============================] - ETA: 0s - loss: 0.0049 - accuracy: 0.9983\n",
      "Epoch 85: saving model to new_hand_classifier.hdf5\n",
      "29/29 [==============================] - 0s 9ms/step - loss: 0.0049 - accuracy: 0.9983 - val_loss: 3.4699e-06 - val_accuracy: 1.0000\n",
      "Epoch 86/1000\n",
      "29/29 [==============================] - ETA: 0s - loss: 0.0036 - accuracy: 0.9986\n",
      "Epoch 86: saving model to new_hand_classifier.hdf5\n",
      "29/29 [==============================] - 0s 8ms/step - loss: 0.0036 - accuracy: 0.9986 - val_loss: 3.5843e-06 - val_accuracy: 1.0000\n",
      "Epoch 87/1000\n",
      "29/29 [==============================] - ETA: 0s - loss: 0.0025 - accuracy: 0.9994\n",
      "Epoch 87: saving model to new_hand_classifier.hdf5\n",
      "29/29 [==============================] - 0s 8ms/step - loss: 0.0025 - accuracy: 0.9994 - val_loss: 4.5708e-06 - val_accuracy: 1.0000\n",
      "Epoch 88/1000\n",
      "28/29 [===========================>..] - ETA: 0s - loss: 0.0012 - accuracy: 0.9997\n",
      "Epoch 88: saving model to new_hand_classifier.hdf5\n",
      "29/29 [==============================] - 0s 9ms/step - loss: 0.0012 - accuracy: 0.9997 - val_loss: 2.4938e-06 - val_accuracy: 1.0000\n",
      "Epoch 89/1000\n",
      "25/29 [========================>.....] - ETA: 0s - loss: 0.0017 - accuracy: 0.9994\n",
      "Epoch 89: saving model to new_hand_classifier.hdf5\n",
      "29/29 [==============================] - 0s 9ms/step - loss: 0.0019 - accuracy: 0.9994 - val_loss: 1.9219e-06 - val_accuracy: 1.0000\n",
      "Epoch 90/1000\n",
      "21/29 [====================>.........] - ETA: 0s - loss: 0.0026 - accuracy: 0.9989\n",
      "Epoch 90: saving model to new_hand_classifier.hdf5\n",
      "29/29 [==============================] - 0s 8ms/step - loss: 0.0042 - accuracy: 0.9986 - val_loss: 8.8777e-06 - val_accuracy: 1.0000\n",
      "Epoch 91/1000\n",
      "28/29 [===========================>..] - ETA: 0s - loss: 0.0012 - accuracy: 1.0000\n",
      "Epoch 91: saving model to new_hand_classifier.hdf5\n",
      "29/29 [==============================] - 0s 8ms/step - loss: 0.0012 - accuracy: 1.0000 - val_loss: 2.2575e-06 - val_accuracy: 1.0000\n",
      "Epoch 92/1000\n",
      "28/29 [===========================>..] - ETA: 0s - loss: 0.0023 - accuracy: 0.9992\n",
      "Epoch 92: saving model to new_hand_classifier.hdf5\n",
      "29/29 [==============================] - 0s 8ms/step - loss: 0.0023 - accuracy: 0.9992 - val_loss: 1.7141e-05 - val_accuracy: 1.0000\n",
      "Epoch 93/1000\n",
      "29/29 [==============================] - ETA: 0s - loss: 0.0051 - accuracy: 0.9981\n",
      "Epoch 93: saving model to new_hand_classifier.hdf5\n",
      "29/29 [==============================] - 0s 8ms/step - loss: 0.0051 - accuracy: 0.9981 - val_loss: 5.2785e-06 - val_accuracy: 1.0000\n",
      "Epoch 94/1000\n",
      "25/29 [========================>.....] - ETA: 0s - loss: 0.0025 - accuracy: 0.9991\n",
      "Epoch 94: saving model to new_hand_classifier.hdf5\n",
      "29/29 [==============================] - 0s 9ms/step - loss: 0.0024 - accuracy: 0.9992 - val_loss: 1.5171e-06 - val_accuracy: 1.0000\n",
      "Epoch 95/1000\n",
      "27/29 [==========================>...] - ETA: 0s - loss: 0.0013 - accuracy: 0.9994    \n",
      "Epoch 95: saving model to new_hand_classifier.hdf5\n",
      "29/29 [==============================] - 0s 9ms/step - loss: 0.0012 - accuracy: 0.9994 - val_loss: 5.3212e-06 - val_accuracy: 1.0000\n",
      "Epoch 96/1000\n",
      "21/29 [====================>.........] - ETA: 0s - loss: 0.0020 - accuracy: 0.9996\n",
      "Epoch 96: saving model to new_hand_classifier.hdf5\n",
      "29/29 [==============================] - 0s 11ms/step - loss: 0.0019 - accuracy: 0.9997 - val_loss: 1.5770e-06 - val_accuracy: 1.0000\n",
      "Epoch 97/1000\n",
      "25/29 [========================>.....] - ETA: 0s - loss: 0.0044 - accuracy: 0.9984\n",
      "Epoch 97: saving model to new_hand_classifier.hdf5\n",
      "29/29 [==============================] - 0s 12ms/step - loss: 0.0040 - accuracy: 0.9986 - val_loss: 4.1364e-06 - val_accuracy: 1.0000\n",
      "Epoch 98/1000\n",
      "25/29 [========================>.....] - ETA: 0s - loss: 0.0023 - accuracy: 0.9994\n",
      "Epoch 98: saving model to new_hand_classifier.hdf5\n",
      "29/29 [==============================] - 0s 9ms/step - loss: 0.0022 - accuracy: 0.9994 - val_loss: 9.1857e-06 - val_accuracy: 1.0000\n",
      "Epoch 99/1000\n",
      "24/29 [=======================>......] - ETA: 0s - loss: 0.0025 - accuracy: 0.9993\n",
      "Epoch 99: saving model to new_hand_classifier.hdf5\n",
      "29/29 [==============================] - 0s 9ms/step - loss: 0.0035 - accuracy: 0.9992 - val_loss: 1.8339e-06 - val_accuracy: 1.0000\n",
      "Epoch 100/1000\n",
      "25/29 [========================>.....] - ETA: 0s - loss: 0.0029 - accuracy: 0.9994\n",
      "Epoch 100: saving model to new_hand_classifier.hdf5\n",
      "29/29 [==============================] - 0s 9ms/step - loss: 0.0028 - accuracy: 0.9994 - val_loss: 1.1683e-06 - val_accuracy: 1.0000\n",
      "Epoch 101/1000\n",
      "26/29 [=========================>....] - ETA: 0s - loss: 0.0030 - accuracy: 0.9991\n",
      "Epoch 101: saving model to new_hand_classifier.hdf5\n",
      "29/29 [==============================] - 0s 9ms/step - loss: 0.0036 - accuracy: 0.9989 - val_loss: 7.7104e-04 - val_accuracy: 0.9992\n",
      "Epoch 102/1000\n",
      "27/29 [==========================>...] - ETA: 0s - loss: 0.0052 - accuracy: 0.9986\n",
      "Epoch 102: saving model to new_hand_classifier.hdf5\n",
      "29/29 [==============================] - 0s 8ms/step - loss: 0.0050 - accuracy: 0.9986 - val_loss: 2.2181e-04 - val_accuracy: 1.0000\n",
      "Epoch 103/1000\n",
      "25/29 [========================>.....] - ETA: 0s - loss: 0.0025 - accuracy: 0.9994\n",
      "Epoch 103: saving model to new_hand_classifier.hdf5\n",
      "29/29 [==============================] - 0s 9ms/step - loss: 0.0024 - accuracy: 0.9994 - val_loss: 2.7208e-06 - val_accuracy: 1.0000\n",
      "Epoch 104/1000\n",
      "28/29 [===========================>..] - ETA: 0s - loss: 0.0013 - accuracy: 0.9997\n",
      "Epoch 104: saving model to new_hand_classifier.hdf5\n",
      "29/29 [==============================] - 0s 8ms/step - loss: 0.0013 - accuracy: 0.9997 - val_loss: 2.0293e-06 - val_accuracy: 1.0000\n",
      "Epoch 105/1000\n",
      "27/29 [==========================>...] - ETA: 0s - loss: 0.0023 - accuracy: 0.9991\n",
      "Epoch 105: saving model to new_hand_classifier.hdf5\n",
      "29/29 [==============================] - 0s 8ms/step - loss: 0.0023 - accuracy: 0.9992 - val_loss: 1.4892e-05 - val_accuracy: 1.0000\n",
      "Epoch 106/1000\n",
      "28/29 [===========================>..] - ETA: 0s - loss: 0.0013 - accuracy: 0.9994\n",
      "Epoch 106: saving model to new_hand_classifier.hdf5\n",
      "29/29 [==============================] - 0s 8ms/step - loss: 0.0013 - accuracy: 0.9994 - val_loss: 2.8612e-05 - val_accuracy: 1.0000\n",
      "Epoch 107/1000\n",
      "20/29 [===================>..........] - ETA: 0s - loss: 0.0011 - accuracy: 0.9996    \n",
      "Epoch 107: saving model to new_hand_classifier.hdf5\n",
      "29/29 [==============================] - 0s 7ms/step - loss: 8.1883e-04 - accuracy: 0.9997 - val_loss: 1.4147e-06 - val_accuracy: 1.0000\n",
      "Epoch 108/1000\n",
      "20/29 [===================>..........] - ETA: 0s - loss: 0.0017 - accuracy: 0.9992\n",
      "Epoch 108: saving model to new_hand_classifier.hdf5\n",
      "29/29 [==============================] - 0s 7ms/step - loss: 0.0016 - accuracy: 0.9992 - val_loss: 1.5613e-06 - val_accuracy: 1.0000\n",
      "Epoch 109/1000\n",
      "27/29 [==========================>...] - ETA: 0s - loss: 0.0038 - accuracy: 0.9988\n",
      "Epoch 109: saving model to new_hand_classifier.hdf5\n",
      "29/29 [==============================] - 0s 9ms/step - loss: 0.0037 - accuracy: 0.9989 - val_loss: 2.4847e-06 - val_accuracy: 1.0000\n",
      "Epoch 110/1000\n",
      "28/29 [===========================>..] - ETA: 0s - loss: 0.0025 - accuracy: 0.9994\n",
      "Epoch 110: saving model to new_hand_classifier.hdf5\n",
      "29/29 [==============================] - 0s 8ms/step - loss: 0.0025 - accuracy: 0.9994 - val_loss: 7.7384e-07 - val_accuracy: 1.0000\n",
      "Epoch 111/1000\n",
      "29/29 [==============================] - ETA: 0s - loss: 5.9861e-04 - accuracy: 1.0000\n",
      "Epoch 111: saving model to new_hand_classifier.hdf5\n",
      "29/29 [==============================] - 0s 8ms/step - loss: 5.9861e-04 - accuracy: 1.0000 - val_loss: 8.4686e-07 - val_accuracy: 1.0000\n",
      "Epoch 112/1000\n",
      "20/29 [===================>..........] - ETA: 0s - loss: 6.8033e-04 - accuracy: 1.0000\n",
      "Epoch 112: saving model to new_hand_classifier.hdf5\n",
      "29/29 [==============================] - 0s 8ms/step - loss: 6.0969e-04 - accuracy: 1.0000 - val_loss: 3.1709e-07 - val_accuracy: 1.0000\n",
      "Epoch 113/1000\n",
      "20/29 [===================>..........] - ETA: 0s - loss: 0.0010 - accuracy: 0.9996    \n",
      "Epoch 113: saving model to new_hand_classifier.hdf5\n",
      "29/29 [==============================] - 0s 7ms/step - loss: 0.0017 - accuracy: 0.9994 - val_loss: 6.8078e-07 - val_accuracy: 1.0000\n",
      "Epoch 114/1000\n",
      "20/29 [===================>..........] - ETA: 0s - loss: 8.9186e-04 - accuracy: 0.9996\n",
      "Epoch 114: saving model to new_hand_classifier.hdf5\n",
      "29/29 [==============================] - 0s 7ms/step - loss: 9.3468e-04 - accuracy: 0.9997 - val_loss: 5.9920e-07 - val_accuracy: 1.0000\n",
      "Epoch 115/1000\n",
      "19/29 [==================>...........] - ETA: 0s - loss: 3.3082e-04 - accuracy: 1.0000\n",
      "Epoch 115: saving model to new_hand_classifier.hdf5\n",
      "29/29 [==============================] - 0s 8ms/step - loss: 0.0019 - accuracy: 0.9997 - val_loss: 3.0388e-07 - val_accuracy: 1.0000\n",
      "Epoch 116/1000\n",
      "28/29 [===========================>..] - ETA: 0s - loss: 0.0015 - accuracy: 0.9994\n",
      "Epoch 116: saving model to new_hand_classifier.hdf5\n",
      "29/29 [==============================] - 0s 8ms/step - loss: 0.0015 - accuracy: 0.9994 - val_loss: 1.6890e-06 - val_accuracy: 1.0000\n",
      "Epoch 117/1000\n",
      "20/29 [===================>..........] - ETA: 0s - loss: 6.7865e-04 - accuracy: 1.0000\n",
      "Epoch 117: saving model to new_hand_classifier.hdf5\n",
      "29/29 [==============================] - 0s 8ms/step - loss: 5.4751e-04 - accuracy: 1.0000 - val_loss: 5.7661e-07 - val_accuracy: 1.0000\n",
      "Epoch 118/1000\n",
      "21/29 [====================>.........] - ETA: 0s - loss: 0.0024 - accuracy: 0.9993\n",
      "Epoch 118: saving model to new_hand_classifier.hdf5\n",
      "29/29 [==============================] - 0s 7ms/step - loss: 0.0020 - accuracy: 0.9994 - val_loss: 1.6664e-06 - val_accuracy: 1.0000\n",
      "Epoch 119/1000\n",
      "29/29 [==============================] - ETA: 0s - loss: 0.0034 - accuracy: 0.9992\n",
      "Epoch 119: saving model to new_hand_classifier.hdf5\n",
      "29/29 [==============================] - 0s 8ms/step - loss: 0.0034 - accuracy: 0.9992 - val_loss: 2.0200e-04 - val_accuracy: 1.0000\n",
      "Epoch 120/1000\n",
      "20/29 [===================>..........] - ETA: 0s - loss: 0.0024 - accuracy: 0.9992\n",
      "Epoch 120: saving model to new_hand_classifier.hdf5\n",
      "29/29 [==============================] - 0s 7ms/step - loss: 0.0020 - accuracy: 0.9994 - val_loss: 5.3564e-07 - val_accuracy: 1.0000\n",
      "Epoch 121/1000\n",
      "21/29 [====================>.........] - ETA: 0s - loss: 0.0011 - accuracy: 0.9993    \n",
      "Epoch 121: saving model to new_hand_classifier.hdf5\n",
      "29/29 [==============================] - 0s 8ms/step - loss: 0.0018 - accuracy: 0.9992 - val_loss: 4.1574e-07 - val_accuracy: 1.0000\n",
      "Epoch 122/1000\n",
      "21/29 [====================>.........] - ETA: 0s - loss: 6.6589e-04 - accuracy: 1.0000\n",
      "Epoch 122: saving model to new_hand_classifier.hdf5\n",
      "29/29 [==============================] - 0s 7ms/step - loss: 7.3079e-04 - accuracy: 1.0000 - val_loss: 3.7928e-07 - val_accuracy: 1.0000\n",
      "Epoch 123/1000\n",
      "28/29 [===========================>..] - ETA: 0s - loss: 5.6935e-04 - accuracy: 1.0000\n",
      "Epoch 123: saving model to new_hand_classifier.hdf5\n",
      "29/29 [==============================] - 0s 8ms/step - loss: 5.6825e-04 - accuracy: 1.0000 - val_loss: 3.1699e-07 - val_accuracy: 1.0000\n",
      "Epoch 124/1000\n",
      "21/29 [====================>.........] - ETA: 0s - loss: 4.9730e-04 - accuracy: 1.0000\n",
      "Epoch 124: saving model to new_hand_classifier.hdf5\n",
      "29/29 [==============================] - 0s 7ms/step - loss: 5.5460e-04 - accuracy: 1.0000 - val_loss: 2.5898e-07 - val_accuracy: 1.0000\n",
      "Epoch 125/1000\n",
      "28/29 [===========================>..] - ETA: 0s - loss: 2.6067e-04 - accuracy: 1.0000\n",
      "Epoch 125: saving model to new_hand_classifier.hdf5\n",
      "29/29 [==============================] - 0s 8ms/step - loss: 2.5989e-04 - accuracy: 1.0000 - val_loss: 2.0255e-07 - val_accuracy: 1.0000\n",
      "Epoch 126/1000\n",
      "22/29 [=====================>........] - ETA: 0s - loss: 0.0019 - accuracy: 0.9993\n",
      "Epoch 126: saving model to new_hand_classifier.hdf5\n",
      "29/29 [==============================] - 0s 8ms/step - loss: 0.0026 - accuracy: 0.9989 - val_loss: 4.6909e-07 - val_accuracy: 1.0000\n",
      "Epoch 127/1000\n",
      "27/29 [==========================>...] - ETA: 0s - loss: 0.0016 - accuracy: 0.9994    \n",
      "Epoch 127: saving model to new_hand_classifier.hdf5\n",
      "29/29 [==============================] - 0s 9ms/step - loss: 0.0017 - accuracy: 0.9994 - val_loss: 5.6982e-06 - val_accuracy: 1.0000\n",
      "Epoch 128/1000\n",
      "26/29 [=========================>....] - ETA: 0s - loss: 0.0025 - accuracy: 0.9991\n",
      "Epoch 128: saving model to new_hand_classifier.hdf5\n",
      "29/29 [==============================] - 0s 9ms/step - loss: 0.0024 - accuracy: 0.9992 - val_loss: 4.7660e-06 - val_accuracy: 1.0000\n",
      "Epoch 129/1000\n",
      "25/29 [========================>.....] - ETA: 0s - loss: 9.7492e-04 - accuracy: 0.9997\n",
      "Epoch 129: saving model to new_hand_classifier.hdf5\n",
      "29/29 [==============================] - 0s 9ms/step - loss: 9.3010e-04 - accuracy: 0.9997 - val_loss: 9.7655e-07 - val_accuracy: 1.0000\n",
      "Epoch 130/1000\n",
      "27/29 [==========================>...] - ETA: 0s - loss: 0.0040 - accuracy: 0.9986\n",
      "Epoch 130: saving model to new_hand_classifier.hdf5\n",
      "29/29 [==============================] - 0s 8ms/step - loss: 0.0040 - accuracy: 0.9986 - val_loss: 3.0218e-06 - val_accuracy: 1.0000\n",
      "Epoch 131/1000\n",
      "29/29 [==============================] - ETA: 0s - loss: 0.0010 - accuracy: 1.0000    \n",
      "Epoch 131: saving model to new_hand_classifier.hdf5\n",
      "29/29 [==============================] - 0s 8ms/step - loss: 0.0010 - accuracy: 1.0000 - val_loss: 3.0838e-06 - val_accuracy: 1.0000\n",
      "Epoch 132/1000\n",
      "20/29 [===================>..........] - ETA: 0s - loss: 0.0060 - accuracy: 0.9984\n",
      "Epoch 132: saving model to new_hand_classifier.hdf5\n",
      "29/29 [==============================] - 0s 8ms/step - loss: 0.0051 - accuracy: 0.9983 - val_loss: 1.0680e-06 - val_accuracy: 1.0000\n",
      "Epoch 133/1000\n",
      "20/29 [===================>..........] - ETA: 0s - loss: 0.0029 - accuracy: 0.9988\n",
      "Epoch 133: saving model to new_hand_classifier.hdf5\n",
      "29/29 [==============================] - 0s 7ms/step - loss: 0.0037 - accuracy: 0.9989 - val_loss: 1.1234e-05 - val_accuracy: 1.0000\n",
      "Epoch 134/1000\n",
      "26/29 [=========================>....] - ETA: 0s - loss: 0.0072 - accuracy: 0.9985\n",
      "Epoch 134: saving model to new_hand_classifier.hdf5\n",
      "29/29 [==============================] - 0s 8ms/step - loss: 0.0071 - accuracy: 0.9986 - val_loss: 0.0021 - val_accuracy: 0.9992\n",
      "Epoch 135/1000\n",
      "18/29 [=================>............] - ETA: 0s - loss: 0.0049 - accuracy: 0.9974\n",
      "Epoch 135: saving model to new_hand_classifier.hdf5\n",
      "29/29 [==============================] - 0s 8ms/step - loss: 0.0037 - accuracy: 0.9983 - val_loss: 1.8041e-06 - val_accuracy: 1.0000\n",
      "Epoch 136/1000\n",
      "20/29 [===================>..........] - ETA: 0s - loss: 0.0041 - accuracy: 0.9980\n",
      "Epoch 136: saving model to new_hand_classifier.hdf5\n",
      "29/29 [==============================] - 0s 7ms/step - loss: 0.0035 - accuracy: 0.9986 - val_loss: 4.3937e-06 - val_accuracy: 1.0000\n",
      "Epoch 137/1000\n",
      "28/29 [===========================>..] - ETA: 0s - loss: 0.0024 - accuracy: 0.9997\n",
      "Epoch 137: saving model to new_hand_classifier.hdf5\n",
      "29/29 [==============================] - 0s 8ms/step - loss: 0.0024 - accuracy: 0.9997 - val_loss: 6.2311e-06 - val_accuracy: 1.0000\n",
      "Epoch 138/1000\n",
      "28/29 [===========================>..] - ETA: 0s - loss: 6.6859e-04 - accuracy: 1.0000\n",
      "Epoch 138: saving model to new_hand_classifier.hdf5\n",
      "29/29 [==============================] - 0s 8ms/step - loss: 6.6569e-04 - accuracy: 1.0000 - val_loss: 9.1218e-07 - val_accuracy: 1.0000\n",
      "Epoch 139/1000\n",
      "20/29 [===================>..........] - ETA: 0s - loss: 5.5468e-04 - accuracy: 1.0000\n",
      "Epoch 139: saving model to new_hand_classifier.hdf5\n",
      "29/29 [==============================] - 0s 8ms/step - loss: 5.0843e-04 - accuracy: 1.0000 - val_loss: 5.9900e-07 - val_accuracy: 1.0000\n",
      "Epoch 140/1000\n",
      "22/29 [=====================>........] - ETA: 0s - loss: 0.0025 - accuracy: 0.9996    \n",
      "Epoch 140: saving model to new_hand_classifier.hdf5\n",
      "29/29 [==============================] - 0s 8ms/step - loss: 0.0024 - accuracy: 0.9997 - val_loss: 1.4497e-06 - val_accuracy: 1.0000\n",
      "Epoch 141/1000\n",
      "29/29 [==============================] - ETA: 0s - loss: 3.8285e-04 - accuracy: 1.0000\n",
      "Epoch 141: saving model to new_hand_classifier.hdf5\n",
      "29/29 [==============================] - 0s 8ms/step - loss: 3.8285e-04 - accuracy: 1.0000 - val_loss: 2.8958e-07 - val_accuracy: 1.0000\n",
      "Epoch 142/1000\n",
      "18/29 [=================>............] - ETA: 0s - loss: 3.6010e-04 - accuracy: 1.0000\n",
      "Epoch 142: saving model to new_hand_classifier.hdf5\n",
      "29/29 [==============================] - 0s 8ms/step - loss: 3.1252e-04 - accuracy: 1.0000 - val_loss: 2.5600e-07 - val_accuracy: 1.0000\n",
      "Epoch 143/1000\n",
      "20/29 [===================>..........] - ETA: 0s - loss: 5.6474e-04 - accuracy: 1.0000\n",
      "Epoch 143: saving model to new_hand_classifier.hdf5\n",
      "29/29 [==============================] - 0s 8ms/step - loss: 5.8349e-04 - accuracy: 1.0000 - val_loss: 3.6378e-07 - val_accuracy: 1.0000\n",
      "Epoch 144/1000\n",
      "29/29 [==============================] - ETA: 0s - loss: 0.0018 - accuracy: 0.9994\n",
      "Epoch 144: saving model to new_hand_classifier.hdf5\n",
      "29/29 [==============================] - 0s 8ms/step - loss: 0.0018 - accuracy: 0.9994 - val_loss: 3.8569e-06 - val_accuracy: 1.0000\n",
      "Epoch 145/1000\n",
      "28/29 [===========================>..] - ETA: 0s - loss: 0.0010 - accuracy: 0.9997    \n",
      "Epoch 145: saving model to new_hand_classifier.hdf5\n",
      "29/29 [==============================] - 0s 8ms/step - loss: 0.0010 - accuracy: 0.9997 - val_loss: 1.3937e-06 - val_accuracy: 1.0000\n",
      "Epoch 145: early stopping\n"
     ]
    },
    {
     "data": {
      "text/plain": "<keras.src.callbacks.History at 0x24f7781caf0>"
     },
     "execution_count": 14,
     "metadata": {},
     "output_type": "execute_result"
    }
   ],
   "source": [
    "model.fit(\n",
    "    X_train,\n",
    "    y_train,\n",
    "    epochs=1000,\n",
    "    batch_size=128,\n",
    "    validation_data=(X_test, y_test),\n",
    "    callbacks=[cp_callback, es_callback]\n",
    ")"
   ],
   "metadata": {
    "collapsed": false
   }
  },
  {
   "cell_type": "code",
   "execution_count": 15,
   "outputs": [
    {
     "name": "stdout",
     "output_type": "stream",
     "text": [
      "10/10 [==============================] - 0s 2ms/step - loss: 1.3937e-06 - accuracy: 1.0000\n"
     ]
    }
   ],
   "source": [
    "# Model evaluation\n",
    "val_loss, val_acc = model.evaluate(X_test, y_test, batch_size=128)"
   ],
   "metadata": {
    "collapsed": false
   }
  },
  {
   "cell_type": "code",
   "execution_count": 16,
   "outputs": [],
   "source": [
    "# Loading the saved model\n",
    "model = tf.keras.models.load_model(model_save_path)"
   ],
   "metadata": {
    "collapsed": false
   }
  },
  {
   "cell_type": "code",
   "execution_count": 17,
   "outputs": [
    {
     "name": "stdout",
     "output_type": "stream",
     "text": [
      "1/1 [==============================] - 0s 113ms/step\n",
      "[0.0000000e+00 4.4233748e-25 1.0000000e+00 2.8301858e-19 4.4347185e-22\n",
      " 2.2582945e-22 1.0634626e-17 4.7198125e-23 1.6321731e-26 8.4153335e-36\n",
      " 0.0000000e+00 1.4605465e-23 1.2982340e-16 1.5730135e-27 1.9501063e-13\n",
      " 1.7855905e-17 9.6040249e-34 0.0000000e+00 1.7620894e-33 0.0000000e+00\n",
      " 1.0421751e-29 1.4243174e-27 4.4631859e-27 1.2088852e-20 1.0192990e-31\n",
      " 4.3244726e-31]\n",
      "2\n"
     ]
    }
   ],
   "source": [
    "# Inference test\n",
    "predict_result = model.predict(np.array([X_test[0]]))\n",
    "print(np.squeeze(predict_result))\n",
    "print(np.argmax(np.squeeze(predict_result)))"
   ],
   "metadata": {
    "collapsed": false
   }
  },
  {
   "cell_type": "markdown",
   "source": [
    "# Confusion matrix"
   ],
   "metadata": {
    "collapsed": false
   }
  },
  {
   "cell_type": "code",
   "execution_count": 18,
   "outputs": [
    {
     "name": "stdout",
     "output_type": "stream",
     "text": [
      "38/38 [==============================] - 0s 3ms/step\n"
     ]
    },
    {
     "data": {
      "text/plain": "<Figure size 700x600 with 2 Axes>",
      "image/png": "[encoded data removed]"
     },
     "metadata": {},
     "output_type": "display_data"
    },
    {
     "name": "stdout",
     "output_type": "stream",
     "text": [
      "Classification Report\n",
      "              precision    recall  f1-score   support\n",
      "\n",
      "           0       1.00      1.00      1.00        61\n",
      "           1       1.00      1.00      1.00        49\n",
      "           2       1.00      1.00      1.00        60\n",
      "           3       1.00      1.00      1.00        50\n",
      "           4       1.00      1.00      1.00        44\n",
      "           5       1.00      1.00      1.00        60\n",
      "           6       1.00      1.00      1.00        41\n",
      "           7       1.00      1.00      1.00        56\n",
      "           8       1.00      1.00      1.00        45\n",
      "          10       1.00      1.00      1.00        46\n",
      "          11       1.00      1.00      1.00        42\n",
      "          12       1.00      1.00      1.00        50\n",
      "          13       1.00      1.00      1.00        66\n",
      "          14       1.00      1.00      1.00        42\n",
      "          15       1.00      1.00      1.00        42\n",
      "          16       1.00      1.00      1.00        59\n",
      "          17       1.00      1.00      1.00        46\n",
      "          18       1.00      1.00      1.00        51\n",
      "          19       1.00      1.00      1.00        50\n",
      "          20       1.00      1.00      1.00        45\n",
      "          21       1.00      1.00      1.00        45\n",
      "          22       1.00      1.00      1.00        52\n",
      "          23       1.00      1.00      1.00        51\n",
      "          24       1.00      1.00      1.00        47\n",
      "\n",
      "    accuracy                           1.00      1200\n",
      "   macro avg       1.00      1.00      1.00      1200\n",
      "weighted avg       1.00      1.00      1.00      1200\n",
      "\n"
     ]
    }
   ],
   "source": [
    "import pandas as pd\n",
    "import seaborn as sns\n",
    "import matplotlib.pyplot as plt\n",
    "from sklearn.metrics import confusion_matrix, classification_report\n",
    "\n",
    "def print_confusion_matrix(y_true, y_pred, report=True):\n",
    "    labels = sorted(list(set(y_true)))\n",
    "    cmx_data = confusion_matrix(y_true, y_pred, labels=labels)\n",
    "\n",
    "    df_cmx = pd.DataFrame(cmx_data, index=labels, columns=labels)\n",
    "\n",
    "    fig, ax = plt.subplots(figsize=(7, 6))\n",
    "    sns.heatmap(df_cmx, annot=True, fmt='g' ,square=False)\n",
    "    ax.set_ylim(len(set(y_true)), 0)\n",
    "    plt.show()\n",
    "\n",
    "    if report:\n",
    "        print('Classification Report')\n",
    "        print(classification_report(y_test, y_pred))\n",
    "\n",
    "Y_pred = model.predict(X_test)\n",
    "y_pred = np.argmax(Y_pred, axis=1)\n",
    "\n",
    "print_confusion_matrix(y_test, y_pred)"
   ],
   "metadata": {
    "collapsed": false
   }
  },
  {
   "cell_type": "markdown",
   "source": [
    "# Convert to model for Tensorflow-Lite"
   ],
   "metadata": {
    "collapsed": false
   }
  },
  {
   "cell_type": "code",
   "execution_count": 29,
   "outputs": [
    {
     "name": "stderr",
     "output_type": "stream",
     "text": [
      "C:\\gesture_recognition_by_image\\venv\\lib\\site-packages\\keras\\src\\engine\\training.py:3103: UserWarning: You are saving your model as an HDF5 file via `model.save()`. This file format is considered legacy. We recommend using instead the native Keras format, e.g. `model.save('my_model.keras')`.\n",
      "  saving_api.save_model(\n"
     ]
    }
   ],
   "source": [
    "# Save as a model dedicated to inference\n",
    "model.save(model_save_path, include_optimizer=False)"
   ],
   "metadata": {
    "collapsed": false
   }
  },
  {
   "cell_type": "code",
   "execution_count": 30,
   "outputs": [
    {
     "name": "stdout",
     "output_type": "stream",
     "text": [
      "INFO:tensorflow:Assets written to: C:\\Users\\joren\\AppData\\Local\\Temp\\tmpv334e02h\\assets\n"
     ]
    },
    {
     "name": "stderr",
     "output_type": "stream",
     "text": [
      "INFO:tensorflow:Assets written to: C:\\Users\\joren\\AppData\\Local\\Temp\\tmpv334e02h\\assets\n"
     ]
    },
    {
     "data": {
      "text/plain": "105600"
     },
     "execution_count": 30,
     "metadata": {},
     "output_type": "execute_result"
    }
   ],
   "source": [
    "# Transform model (quantization)\n",
    "\n",
    "converter = tf.lite.TFLiteConverter.from_keras_model(model)\n",
    "converter.optimizations = [tf.lite.Optimize.DEFAULT]\n",
    "tflite_quantized_model = converter.convert()\n",
    "\n",
    "open(tflite_save_path, 'wb').write(tflite_quantized_model)"
   ],
   "metadata": {
    "collapsed": false
   }
  },
  {
   "cell_type": "markdown",
   "source": [
    "# Inference test"
   ],
   "metadata": {
    "collapsed": false
   }
  },
  {
   "cell_type": "code",
   "execution_count": 21,
   "outputs": [],
   "source": [
    "interpreter = tf.lite.Interpreter(model_path=tflite_save_path)\n",
    "interpreter.allocate_tensors()"
   ],
   "metadata": {
    "collapsed": false
   }
  },
  {
   "cell_type": "code",
   "execution_count": 22,
   "outputs": [],
   "source": [
    "# Get I / O tensor\n",
    "input_details = interpreter.get_input_details()\n",
    "output_details = interpreter.get_output_details()"
   ],
   "metadata": {
    "collapsed": false
   }
  },
  {
   "cell_type": "code",
   "execution_count": 23,
   "outputs": [],
   "source": [
    "interpreter.set_tensor(input_details[0]['index'], np.array([X_test[0]]))"
   ],
   "metadata": {
    "collapsed": false
   }
  },
  {
   "cell_type": "code",
   "execution_count": 24,
   "outputs": [
    {
     "name": "stdout",
     "output_type": "stream",
     "text": [
      "CPU times: total: 0 ns\n",
      "Wall time: 0 ns\n"
     ]
    }
   ],
   "source": [
    "%%time\n",
    "# Inference implementation\n",
    "interpreter.invoke()\n",
    "tflite_results = interpreter.get_tensor(output_details[0]['index'])"
   ],
   "metadata": {
    "collapsed": false
   }
  },
  {
   "cell_type": "code",
   "execution_count": 25,
   "outputs": [
    {
     "name": "stdout",
     "output_type": "stream",
     "text": [
      "[7.2867520e-44 5.0437962e-25 1.0000000e+00 4.5585122e-19 4.6977028e-22\n",
      " 2.4639178e-22 1.0823957e-17 7.1030298e-23 1.7996894e-26 9.5519118e-36\n",
      " 8.2961073e-41 1.7472919e-23 1.5366181e-16 1.8685981e-27 2.2490413e-13\n",
      " 2.2956138e-17 1.2499945e-33 1.8439686e-41 1.9384829e-33 3.7008292e-41\n",
      " 1.2872580e-29 1.6883567e-27 6.4354252e-27 1.4524313e-20 9.3185669e-32\n",
      " 5.6540051e-31]\n",
      "2\n"
     ]
    }
   ],
   "source": [
    "print(np.squeeze(tflite_results))\n",
    "print(np.argmax(np.squeeze(tflite_results)))"
   ],
   "metadata": {
    "collapsed": false
   }
  },
  {
   "cell_type": "code",
   "execution_count": 26,
   "outputs": [
    {
     "name": "stderr",
     "output_type": "stream",
     "text": [
      "C:\\gesture_recognition_by_image\\venv\\lib\\site-packages\\keras\\src\\engine\\training.py:3103: UserWarning: You are saving your model as an HDF5 file via `model.save()`. This file format is considered legacy. We recommend using instead the native Keras format, e.g. `model.save('my_model.keras')`.\n",
      "  saving_api.save_model(\n"
     ]
    },
    {
     "name": "stdout",
     "output_type": "stream",
     "text": [
      "INFO:tensorflow:Assets written to: C:\\Users\\joren\\AppData\\Local\\Temp\\tmph27wmkwp\\assets\n"
     ]
    },
    {
     "name": "stderr",
     "output_type": "stream",
     "text": [
      "INFO:tensorflow:Assets written to: C:\\Users\\joren\\AppData\\Local\\Temp\\tmph27wmkwp\\assets\n"
     ]
    }
   ],
   "source": [
    "# Save the model\n",
    "model.save(model_save_path, include_optimizer=False)\n",
    "\n",
    "# Convert the model to TensorFlow Lite\n",
    "converter = tf.lite.TFLiteConverter.from_keras_model(model)\n",
    "converter.optimizations = [tf.lite.Optimize.DEFAULT]\n",
    "tflite_quantized_model = converter.convert()\n",
    "\n",
    "# Write the TFLite file\n",
    "with open(tflite_save_path, 'wb') as f:\n",
    "    f.write(tflite_quantized_model)"
   ],
   "metadata": {
    "collapsed": false
   }
  },
  {
   "cell_type": "code",
   "execution_count": null,
   "outputs": [],
   "source": [],
   "metadata": {
    "collapsed": false
   }
  }
 ],
 "metadata": {
  "kernelspec": {
   "display_name": "Python 3",
   "language": "python",
   "name": "python3"
  },
  "language_info": {
   "codemirror_mode": {
    "name": "ipython",
    "version": 2
   },
   "file_extension": ".py",
   "mimetype": "text/x-python",
   "name": "python",
   "nbconvert_exporter": "python",
   "pygments_lexer": "ipython2",
   "version": "2.7.6"
  }
 },
 "nbformat": 4,
 "nbformat_minor": 0
}
