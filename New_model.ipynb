{
 "cells": [
  {
   "cell_type": "code",
   "execution_count": 41,
   "outputs": [],
   "source": [
    "import csv\n",
    "\n",
    "import numpy as np\n",
    "import tensorflow as tf\n",
    "from tensorflow import keras\n",
    "from sklearn.model_selection import train_test_split\n",
    "import matplotlib.pyplot as plt\n",
    "\n",
    "RANDOM_SEED = 42"
   ],
   "metadata": {
    "collapsed": false
   }
  },
  {
   "cell_type": "markdown",
   "source": [
    "# Specify each path"
   ],
   "metadata": {
    "collapsed": false
   }
  },
  {
   "cell_type": "code",
   "execution_count": 42,
   "outputs": [],
   "source": [
    "dataset = 'hand_landmarks_end.csv'\n",
    "#model_save_path = 'model/keypoint_classifier/keypoint_classifier.hdf5'\n",
    "#tflite_save_path = 'model/keypoint_classifier/keypoint_classifier.tflite'\n",
    "model_save_path = 'new_hand_classifier.hdf5'\n",
    "tflite_save_path = 'new_hand_classifier.tflite'"
   ],
   "metadata": {
    "collapsed": false
   }
  },
  {
   "cell_type": "markdown",
   "source": [
    "# Set number of classes"
   ],
   "metadata": {
    "collapsed": false
   }
  },
  {
   "cell_type": "code",
   "execution_count": 32,
   "outputs": [],
   "source": [
    "NUM_CLASSES = 26"
   ],
   "metadata": {
    "collapsed": false
   }
  },
  {
   "cell_type": "markdown",
   "source": [
    "# Dataset reading"
   ],
   "metadata": {
    "collapsed": false
   }
  },
  {
   "cell_type": "code",
   "execution_count": 33,
   "outputs": [],
   "source": [
    "X_dataset = np.loadtxt(dataset, delimiter=',', dtype='float32', usecols=list(range(1, (21 * 2) + 1)))"
   ],
   "metadata": {
    "collapsed": false
   }
  },
  {
   "cell_type": "code",
   "execution_count": 34,
   "outputs": [],
   "source": [
    "y_dataset = np.loadtxt(dataset, delimiter=',', dtype='int32', usecols=(0))"
   ],
   "metadata": {
    "collapsed": false
   }
  },
  {
   "cell_type": "code",
   "execution_count": 35,
   "outputs": [],
   "source": [
    "X_train, X_test, y_train, y_test = train_test_split(X_dataset, y_dataset, train_size=0.75, random_state=RANDOM_SEED)"
   ],
   "metadata": {
    "collapsed": false
   }
  },
  {
   "cell_type": "markdown",
   "source": [
    "# Model building"
   ],
   "metadata": {
    "collapsed": false
   }
  },
  {
   "cell_type": "code",
   "execution_count": 36,
   "outputs": [],
   "source": [
    "model = tf.keras.models.Sequential([\n",
    "    tf.keras.layers.Reshape((21, 2, 1), input_shape=(21 * 2, )),\n",
    "    tf.keras.layers.Conv2D(32, kernel_size=(3, 1), activation='relu', padding='same'),\n",
    "    tf.keras.layers.MaxPooling2D(pool_size=(2, 1)),\n",
    "    tf.keras.layers.Conv2D(64, kernel_size=(3, 1), activation='relu', padding='same'),\n",
    "    tf.keras.layers.MaxPooling2D(pool_size=(2, 1)),\n",
    "    tf.keras.layers.Flatten(),\n",
    "    tf.keras.layers.Dropout(0.2),\n",
    "    tf.keras.layers.Dense(128, activation='relu'),\n",
    "    tf.keras.layers.Dropout(0.4),\n",
    "    tf.keras.layers.Dense(64, activation='relu'),\n",
    "    tf.keras.layers.Dense(NUM_CLASSES, activation='softmax')\n",
    "])"
   ],
   "metadata": {
    "collapsed": false
   }
  },
  {
   "cell_type": "code",
   "execution_count": 37,
   "outputs": [
    {
     "name": "stdout",
     "output_type": "stream",
     "text": [
      "Model: \"sequential_1\"\n",
      "_________________________________________________________________\n",
      " Layer (type)                Output Shape              Param #   \n",
      "=================================================================\n",
      " reshape_1 (Reshape)         (None, 21, 2, 1)          0         \n",
      "                                                                 \n",
      " conv2d_2 (Conv2D)           (None, 21, 2, 32)         128       \n",
      "                                                                 \n",
      " max_pooling2d_2 (MaxPoolin  (None, 10, 2, 32)         0         \n",
      " g2D)                                                            \n",
      "                                                                 \n",
      " conv2d_3 (Conv2D)           (None, 10, 2, 64)         6208      \n",
      "                                                                 \n",
      " max_pooling2d_3 (MaxPoolin  (None, 5, 2, 64)          0         \n",
      " g2D)                                                            \n",
      "                                                                 \n",
      " flatten_1 (Flatten)         (None, 640)               0         \n",
      "                                                                 \n",
      " dropout_2 (Dropout)         (None, 640)               0         \n",
      "                                                                 \n",
      " dense_3 (Dense)             (None, 128)               82048     \n",
      "                                                                 \n",
      " dropout_3 (Dropout)         (None, 128)               0         \n",
      "                                                                 \n",
      " dense_4 (Dense)             (None, 64)                8256      \n",
      "                                                                 \n",
      " dense_5 (Dense)             (None, 26)                1690      \n",
      "                                                                 \n",
      "=================================================================\n",
      "Total params: 98330 (384.10 KB)\n",
      "Trainable params: 98330 (384.10 KB)\n",
      "Non-trainable params: 0 (0.00 Byte)\n",
      "_________________________________________________________________\n"
     ]
    }
   ],
   "source": [
    "model.summary()  # tf.keras.utils.plot_model(model, show_shapes=True)"
   ],
   "metadata": {
    "collapsed": false
   }
  },
  {
   "cell_type": "code",
   "execution_count": 38,
   "outputs": [],
   "source": [
    "# Model checkpoint callback\n",
    "cp_callback = tf.keras.callbacks.ModelCheckpoint(\n",
    "    model_save_path, verbose=1, save_weights_only=False)\n",
    "# Callback for early stopping\n",
    "es_callback = tf.keras.callbacks.EarlyStopping(patience=20, verbose=1)"
   ],
   "metadata": {
    "collapsed": false
   }
  },
  {
   "cell_type": "code",
   "execution_count": 39,
   "outputs": [],
   "source": [
    "# Model compilation\n",
    "model.compile(\n",
    "    optimizer='adam',\n",
    "    loss='sparse_categorical_crossentropy',\n",
    "    metrics=['accuracy']\n",
    ")"
   ],
   "metadata": {
    "collapsed": false
   }
  },
  {
   "cell_type": "markdown",
   "source": [
    "# Model training"
   ],
   "metadata": {
    "collapsed": false
   }
  },
  {
   "cell_type": "code",
   "execution_count": 40,
   "outputs": [
    {
     "name": "stdout",
     "output_type": "stream",
     "text": [
      "Epoch 1/1000\n",
      "28/29 [===========================>..] - ETA: 0s - loss: 3.0011 - accuracy: 0.1189\n",
      "Epoch 1: saving model to new_hand_classifier.hdf5\n",
      "29/29 [==============================] - 1s 15ms/step - loss: 2.9996 - accuracy: 0.1186 - val_loss: 2.5307 - val_accuracy: 0.1975\n",
      "Epoch 2/1000\n",
      "27/29 [==========================>...] - ETA: 0s - loss: 2.2688 - accuracy: 0.2703"
     ]
    },
    {
     "name": "stderr",
     "output_type": "stream",
     "text": [
      "C:\\gesture_recognition_by_image\\venv\\lib\\site-packages\\keras\\src\\engine\\training.py:3103: UserWarning: You are saving your model as an HDF5 file via `model.save()`. This file format is considered legacy. We recommend using instead the native Keras format, e.g. `model.save('my_model.keras')`.\n",
      "  saving_api.save_model(\n"
     ]
    },
    {
     "name": "stdout",
     "output_type": "stream",
     "text": [
      "\n",
      "Epoch 2: saving model to new_hand_classifier.hdf5\n",
      "29/29 [==============================] - 0s 9ms/step - loss: 2.2527 - accuracy: 0.2756 - val_loss: 1.6739 - val_accuracy: 0.4550\n",
      "Epoch 3/1000\n",
      "28/29 [===========================>..] - ETA: 0s - loss: 1.6262 - accuracy: 0.4453\n",
      "Epoch 3: saving model to new_hand_classifier.hdf5\n",
      "29/29 [==============================] - 0s 9ms/step - loss: 1.6232 - accuracy: 0.4464 - val_loss: 1.0220 - val_accuracy: 0.7358\n",
      "Epoch 4/1000\n",
      "26/29 [=========================>....] - ETA: 0s - loss: 1.1431 - accuracy: 0.6019\n",
      "Epoch 4: saving model to new_hand_classifier.hdf5\n",
      "29/29 [==============================] - 0s 9ms/step - loss: 1.1262 - accuracy: 0.6081 - val_loss: 0.6455 - val_accuracy: 0.8000\n",
      "Epoch 5/1000\n",
      "23/29 [======================>.......] - ETA: 0s - loss: 0.8190 - accuracy: 0.7140\n",
      "Epoch 5: saving model to new_hand_classifier.hdf5\n",
      "29/29 [==============================] - 0s 9ms/step - loss: 0.8030 - accuracy: 0.7219 - val_loss: 0.4143 - val_accuracy: 0.9025\n",
      "Epoch 6/1000\n",
      "26/29 [=========================>....] - ETA: 0s - loss: 0.6006 - accuracy: 0.8023\n",
      "Epoch 6: saving model to new_hand_classifier.hdf5\n",
      "29/29 [==============================] - 0s 9ms/step - loss: 0.5989 - accuracy: 0.8031 - val_loss: 0.2908 - val_accuracy: 0.8983\n",
      "Epoch 7/1000\n",
      "27/29 [==========================>...] - ETA: 0s - loss: 0.4454 - accuracy: 0.8524\n",
      "Epoch 7: saving model to new_hand_classifier.hdf5\n",
      "29/29 [==============================] - 0s 9ms/step - loss: 0.4479 - accuracy: 0.8519 - val_loss: 0.1952 - val_accuracy: 0.9525\n",
      "Epoch 8/1000\n",
      "28/29 [===========================>..] - ETA: 0s - loss: 0.3757 - accuracy: 0.8689\n",
      "Epoch 8: saving model to new_hand_classifier.hdf5\n",
      "29/29 [==============================] - 0s 8ms/step - loss: 0.3746 - accuracy: 0.8694 - val_loss: 0.1557 - val_accuracy: 0.9725\n",
      "Epoch 9/1000\n",
      "28/29 [===========================>..] - ETA: 0s - loss: 0.2887 - accuracy: 0.9057\n",
      "Epoch 9: saving model to new_hand_classifier.hdf5\n",
      "29/29 [==============================] - 0s 9ms/step - loss: 0.2898 - accuracy: 0.9050 - val_loss: 0.1247 - val_accuracy: 0.9725\n",
      "Epoch 10/1000\n",
      "26/29 [=========================>....] - ETA: 0s - loss: 0.2512 - accuracy: 0.9162\n",
      "Epoch 10: saving model to new_hand_classifier.hdf5\n",
      "29/29 [==============================] - 0s 10ms/step - loss: 0.2498 - accuracy: 0.9169 - val_loss: 0.0967 - val_accuracy: 0.9742\n",
      "Epoch 11/1000\n",
      "20/29 [===================>..........] - ETA: 0s - loss: 0.2237 - accuracy: 0.9246\n",
      "Epoch 11: saving model to new_hand_classifier.hdf5\n",
      "29/29 [==============================] - 0s 8ms/step - loss: 0.2203 - accuracy: 0.9236 - val_loss: 0.0918 - val_accuracy: 0.9742\n",
      "Epoch 12/1000\n",
      "26/29 [=========================>....] - ETA: 0s - loss: 0.1938 - accuracy: 0.9366\n",
      "Epoch 12: saving model to new_hand_classifier.hdf5\n",
      "29/29 [==============================] - 0s 9ms/step - loss: 0.1932 - accuracy: 0.9367 - val_loss: 0.0693 - val_accuracy: 0.9892\n",
      "Epoch 13/1000\n",
      "26/29 [=========================>....] - ETA: 0s - loss: 0.1773 - accuracy: 0.9429\n",
      "Epoch 13: saving model to new_hand_classifier.hdf5\n",
      "29/29 [==============================] - 0s 9ms/step - loss: 0.1727 - accuracy: 0.9444 - val_loss: 0.0552 - val_accuracy: 0.9900\n",
      "Epoch 14/1000\n",
      "28/29 [===========================>..] - ETA: 0s - loss: 0.1520 - accuracy: 0.9473\n",
      "Epoch 14: saving model to new_hand_classifier.hdf5\n",
      "29/29 [==============================] - 0s 9ms/step - loss: 0.1523 - accuracy: 0.9472 - val_loss: 0.0466 - val_accuracy: 0.9892\n",
      "Epoch 15/1000\n",
      "28/29 [===========================>..] - ETA: 0s - loss: 0.1329 - accuracy: 0.9587\n",
      "Epoch 15: saving model to new_hand_classifier.hdf5\n",
      "29/29 [==============================] - 0s 9ms/step - loss: 0.1330 - accuracy: 0.9586 - val_loss: 0.0462 - val_accuracy: 0.9892\n",
      "Epoch 16/1000\n",
      "23/29 [======================>.......] - ETA: 0s - loss: 0.1196 - accuracy: 0.9616\n",
      "Epoch 16: saving model to new_hand_classifier.hdf5\n",
      "29/29 [==============================] - 0s 10ms/step - loss: 0.1160 - accuracy: 0.9644 - val_loss: 0.0303 - val_accuracy: 0.9917\n",
      "Epoch 17/1000\n",
      "24/29 [=======================>......] - ETA: 0s - loss: 0.1184 - accuracy: 0.9674\n",
      "Epoch 17: saving model to new_hand_classifier.hdf5\n",
      "29/29 [==============================] - 0s 10ms/step - loss: 0.1130 - accuracy: 0.9692 - val_loss: 0.0317 - val_accuracy: 1.0000\n",
      "Epoch 18/1000\n",
      "26/29 [=========================>....] - ETA: 0s - loss: 0.0930 - accuracy: 0.9775\n",
      "Epoch 18: saving model to new_hand_classifier.hdf5\n",
      "29/29 [==============================] - 0s 9ms/step - loss: 0.0970 - accuracy: 0.9761 - val_loss: 0.0250 - val_accuracy: 1.0000\n",
      "Epoch 19/1000\n",
      "28/29 [===========================>..] - ETA: 0s - loss: 0.0909 - accuracy: 0.9704\n",
      "Epoch 19: saving model to new_hand_classifier.hdf5\n",
      "29/29 [==============================] - 0s 8ms/step - loss: 0.0906 - accuracy: 0.9706 - val_loss: 0.0187 - val_accuracy: 1.0000\n",
      "Epoch 20/1000\n",
      "25/29 [========================>.....] - ETA: 0s - loss: 0.0815 - accuracy: 0.9800\n",
      "Epoch 20: saving model to new_hand_classifier.hdf5\n",
      "29/29 [==============================] - 0s 9ms/step - loss: 0.0796 - accuracy: 0.9797 - val_loss: 0.0144 - val_accuracy: 1.0000\n",
      "Epoch 21/1000\n",
      "25/29 [========================>.....] - ETA: 0s - loss: 0.0770 - accuracy: 0.9769\n",
      "Epoch 21: saving model to new_hand_classifier.hdf5\n",
      "29/29 [==============================] - 0s 9ms/step - loss: 0.0749 - accuracy: 0.9778 - val_loss: 0.0133 - val_accuracy: 1.0000\n",
      "Epoch 22/1000\n",
      "27/29 [==========================>...] - ETA: 0s - loss: 0.0674 - accuracy: 0.9795\n",
      "Epoch 22: saving model to new_hand_classifier.hdf5\n",
      "29/29 [==============================] - 0s 8ms/step - loss: 0.0673 - accuracy: 0.9800 - val_loss: 0.0092 - val_accuracy: 1.0000\n",
      "Epoch 23/1000\n",
      "28/29 [===========================>..] - ETA: 0s - loss: 0.0573 - accuracy: 0.9852\n",
      "Epoch 23: saving model to new_hand_classifier.hdf5\n",
      "29/29 [==============================] - 0s 9ms/step - loss: 0.0572 - accuracy: 0.9853 - val_loss: 0.0080 - val_accuracy: 1.0000\n",
      "Epoch 24/1000\n",
      "26/29 [=========================>....] - ETA: 0s - loss: 0.0586 - accuracy: 0.9835\n",
      "Epoch 24: saving model to new_hand_classifier.hdf5\n",
      "29/29 [==============================] - 0s 9ms/step - loss: 0.0571 - accuracy: 0.9842 - val_loss: 0.0088 - val_accuracy: 1.0000\n",
      "Epoch 25/1000\n",
      "27/29 [==========================>...] - ETA: 0s - loss: 0.0579 - accuracy: 0.9823\n",
      "Epoch 25: saving model to new_hand_classifier.hdf5\n",
      "29/29 [==============================] - 0s 9ms/step - loss: 0.0570 - accuracy: 0.9828 - val_loss: 0.0071 - val_accuracy: 1.0000\n",
      "Epoch 26/1000\n",
      "27/29 [==========================>...] - ETA: 0s - loss: 0.0516 - accuracy: 0.9861\n",
      "Epoch 26: saving model to new_hand_classifier.hdf5\n",
      "29/29 [==============================] - 0s 9ms/step - loss: 0.0513 - accuracy: 0.9864 - val_loss: 0.0035 - val_accuracy: 1.0000\n",
      "Epoch 27/1000\n",
      "28/29 [===========================>..] - ETA: 0s - loss: 0.0414 - accuracy: 0.9897\n",
      "Epoch 27: saving model to new_hand_classifier.hdf5\n",
      "29/29 [==============================] - 0s 9ms/step - loss: 0.0417 - accuracy: 0.9894 - val_loss: 0.0049 - val_accuracy: 1.0000\n",
      "Epoch 28/1000\n",
      "26/29 [=========================>....] - ETA: 0s - loss: 0.0434 - accuracy: 0.9880\n",
      "Epoch 28: saving model to new_hand_classifier.hdf5\n",
      "29/29 [==============================] - 0s 9ms/step - loss: 0.0431 - accuracy: 0.9878 - val_loss: 0.0039 - val_accuracy: 1.0000\n",
      "Epoch 29/1000\n",
      "28/29 [===========================>..] - ETA: 0s - loss: 0.0416 - accuracy: 0.9877\n",
      "Epoch 29: saving model to new_hand_classifier.hdf5\n",
      "29/29 [==============================] - 0s 8ms/step - loss: 0.0415 - accuracy: 0.9878 - val_loss: 0.0027 - val_accuracy: 1.0000\n",
      "Epoch 30/1000\n",
      "28/29 [===========================>..] - ETA: 0s - loss: 0.0337 - accuracy: 0.9902\n",
      "Epoch 30: saving model to new_hand_classifier.hdf5\n",
      "29/29 [==============================] - 0s 8ms/step - loss: 0.0336 - accuracy: 0.9903 - val_loss: 0.0021 - val_accuracy: 1.0000\n",
      "Epoch 31/1000\n",
      "28/29 [===========================>..] - ETA: 0s - loss: 0.0360 - accuracy: 0.9911\n",
      "Epoch 31: saving model to new_hand_classifier.hdf5\n",
      "29/29 [==============================] - 0s 8ms/step - loss: 0.0358 - accuracy: 0.9911 - val_loss: 0.0019 - val_accuracy: 1.0000\n",
      "Epoch 32/1000\n",
      "27/29 [==========================>...] - ETA: 0s - loss: 0.0365 - accuracy: 0.9870\n",
      "Epoch 32: saving model to new_hand_classifier.hdf5\n",
      "29/29 [==============================] - 0s 8ms/step - loss: 0.0363 - accuracy: 0.9875 - val_loss: 0.0016 - val_accuracy: 1.0000\n",
      "Epoch 33/1000\n",
      "28/29 [===========================>..] - ETA: 0s - loss: 0.0256 - accuracy: 0.9939\n",
      "Epoch 33: saving model to new_hand_classifier.hdf5\n",
      "29/29 [==============================] - 0s 8ms/step - loss: 0.0256 - accuracy: 0.9939 - val_loss: 0.0013 - val_accuracy: 1.0000\n",
      "Epoch 34/1000\n",
      "25/29 [========================>.....] - ETA: 0s - loss: 0.0267 - accuracy: 0.9931\n",
      "Epoch 34: saving model to new_hand_classifier.hdf5\n",
      "29/29 [==============================] - 0s 9ms/step - loss: 0.0250 - accuracy: 0.9939 - val_loss: 0.0012 - val_accuracy: 1.0000\n",
      "Epoch 35/1000\n",
      "28/29 [===========================>..] - ETA: 0s - loss: 0.0232 - accuracy: 0.9941\n",
      "Epoch 35: saving model to new_hand_classifier.hdf5\n",
      "29/29 [==============================] - 0s 8ms/step - loss: 0.0232 - accuracy: 0.9942 - val_loss: 8.5961e-04 - val_accuracy: 1.0000\n",
      "Epoch 36/1000\n",
      "28/29 [===========================>..] - ETA: 0s - loss: 0.0233 - accuracy: 0.9933\n",
      "Epoch 36: saving model to new_hand_classifier.hdf5\n",
      "29/29 [==============================] - 0s 9ms/step - loss: 0.0235 - accuracy: 0.9933 - val_loss: 8.1934e-04 - val_accuracy: 1.0000\n",
      "Epoch 37/1000\n",
      "27/29 [==========================>...] - ETA: 0s - loss: 0.0253 - accuracy: 0.9959\n",
      "Epoch 37: saving model to new_hand_classifier.hdf5\n",
      "29/29 [==============================] - 0s 9ms/step - loss: 0.0246 - accuracy: 0.9961 - val_loss: 0.0016 - val_accuracy: 1.0000\n",
      "Epoch 38/1000\n",
      "27/29 [==========================>...] - ETA: 0s - loss: 0.0231 - accuracy: 0.9942\n",
      "Epoch 38: saving model to new_hand_classifier.hdf5\n",
      "29/29 [==============================] - 0s 9ms/step - loss: 0.0226 - accuracy: 0.9944 - val_loss: 7.4591e-04 - val_accuracy: 1.0000\n",
      "Epoch 39/1000\n",
      "27/29 [==========================>...] - ETA: 0s - loss: 0.0259 - accuracy: 0.9928\n",
      "Epoch 39: saving model to new_hand_classifier.hdf5\n",
      "29/29 [==============================] - 0s 9ms/step - loss: 0.0254 - accuracy: 0.9928 - val_loss: 5.7153e-04 - val_accuracy: 1.0000\n",
      "Epoch 40/1000\n",
      "26/29 [=========================>....] - ETA: 0s - loss: 0.0216 - accuracy: 0.9922\n",
      "Epoch 40: saving model to new_hand_classifier.hdf5\n",
      "29/29 [==============================] - 0s 9ms/step - loss: 0.0216 - accuracy: 0.9922 - val_loss: 4.4349e-04 - val_accuracy: 1.0000\n",
      "Epoch 41/1000\n",
      "28/29 [===========================>..] - ETA: 0s - loss: 0.0196 - accuracy: 0.9941\n",
      "Epoch 41: saving model to new_hand_classifier.hdf5\n",
      "29/29 [==============================] - 0s 8ms/step - loss: 0.0195 - accuracy: 0.9942 - val_loss: 5.7399e-04 - val_accuracy: 1.0000\n",
      "Epoch 42/1000\n",
      "26/29 [=========================>....] - ETA: 0s - loss: 0.0157 - accuracy: 0.9964\n",
      "Epoch 42: saving model to new_hand_classifier.hdf5\n",
      "29/29 [==============================] - 0s 9ms/step - loss: 0.0164 - accuracy: 0.9956 - val_loss: 3.9449e-04 - val_accuracy: 1.0000\n",
      "Epoch 43/1000\n",
      "27/29 [==========================>...] - ETA: 0s - loss: 0.0380 - accuracy: 0.9893\n",
      "Epoch 43: saving model to new_hand_classifier.hdf5\n",
      "29/29 [==============================] - 0s 8ms/step - loss: 0.0384 - accuracy: 0.9894 - val_loss: 8.3767e-04 - val_accuracy: 1.0000\n",
      "Epoch 44/1000\n",
      "28/29 [===========================>..] - ETA: 0s - loss: 0.0360 - accuracy: 0.9900\n",
      "Epoch 44: saving model to new_hand_classifier.hdf5\n",
      "29/29 [==============================] - 0s 9ms/step - loss: 0.0359 - accuracy: 0.9900 - val_loss: 6.0839e-04 - val_accuracy: 1.0000\n",
      "Epoch 45/1000\n",
      "27/29 [==========================>...] - ETA: 0s - loss: 0.0229 - accuracy: 0.9936\n",
      "Epoch 45: saving model to new_hand_classifier.hdf5\n",
      "29/29 [==============================] - 0s 9ms/step - loss: 0.0225 - accuracy: 0.9936 - val_loss: 4.9901e-04 - val_accuracy: 1.0000\n",
      "Epoch 46/1000\n",
      "25/29 [========================>.....] - ETA: 0s - loss: 0.0194 - accuracy: 0.9944\n",
      "Epoch 46: saving model to new_hand_classifier.hdf5\n",
      "29/29 [==============================] - 0s 10ms/step - loss: 0.0184 - accuracy: 0.9947 - val_loss: 3.8447e-04 - val_accuracy: 1.0000\n",
      "Epoch 47/1000\n",
      "27/29 [==========================>...] - ETA: 0s - loss: 0.0139 - accuracy: 0.9974\n",
      "Epoch 47: saving model to new_hand_classifier.hdf5\n",
      "29/29 [==============================] - 0s 9ms/step - loss: 0.0143 - accuracy: 0.9969 - val_loss: 1.9580e-04 - val_accuracy: 1.0000\n",
      "Epoch 48/1000\n",
      "27/29 [==========================>...] - ETA: 0s - loss: 0.0200 - accuracy: 0.9942\n",
      "Epoch 48: saving model to new_hand_classifier.hdf5\n",
      "29/29 [==============================] - 0s 9ms/step - loss: 0.0199 - accuracy: 0.9939 - val_loss: 3.3772e-04 - val_accuracy: 1.0000\n",
      "Epoch 49/1000\n",
      "27/29 [==========================>...] - ETA: 0s - loss: 0.0159 - accuracy: 0.9945\n",
      "Epoch 49: saving model to new_hand_classifier.hdf5\n",
      "29/29 [==============================] - 0s 9ms/step - loss: 0.0161 - accuracy: 0.9944 - val_loss: 4.7983e-04 - val_accuracy: 1.0000\n",
      "Epoch 50/1000\n",
      "28/29 [===========================>..] - ETA: 0s - loss: 0.0172 - accuracy: 0.9933\n",
      "Epoch 50: saving model to new_hand_classifier.hdf5\n",
      "29/29 [==============================] - 0s 9ms/step - loss: 0.0171 - accuracy: 0.9933 - val_loss: 1.4575e-04 - val_accuracy: 1.0000\n",
      "Epoch 51/1000\n",
      "28/29 [===========================>..] - ETA: 0s - loss: 0.0140 - accuracy: 0.9953\n",
      "Epoch 51: saving model to new_hand_classifier.hdf5\n",
      "29/29 [==============================] - 0s 11ms/step - loss: 0.0139 - accuracy: 0.9953 - val_loss: 1.5875e-04 - val_accuracy: 1.0000\n",
      "Epoch 52/1000\n",
      "25/29 [========================>.....] - ETA: 0s - loss: 0.0141 - accuracy: 0.9956\n",
      "Epoch 52: saving model to new_hand_classifier.hdf5\n",
      "29/29 [==============================] - 0s 9ms/step - loss: 0.0143 - accuracy: 0.9956 - val_loss: 2.0268e-04 - val_accuracy: 1.0000\n",
      "Epoch 53/1000\n",
      "28/29 [===========================>..] - ETA: 0s - loss: 0.0114 - accuracy: 0.9961\n",
      "Epoch 53: saving model to new_hand_classifier.hdf5\n",
      "29/29 [==============================] - 0s 8ms/step - loss: 0.0114 - accuracy: 0.9961 - val_loss: 1.1656e-04 - val_accuracy: 1.0000\n",
      "Epoch 54/1000\n",
      "27/29 [==========================>...] - ETA: 0s - loss: 0.0114 - accuracy: 0.9977\n",
      "Epoch 54: saving model to new_hand_classifier.hdf5\n",
      "29/29 [==============================] - 0s 9ms/step - loss: 0.0111 - accuracy: 0.9978 - val_loss: 9.0976e-05 - val_accuracy: 1.0000\n",
      "Epoch 55/1000\n",
      "22/29 [=====================>........] - ETA: 0s - loss: 0.0123 - accuracy: 0.9975\n",
      "Epoch 55: saving model to new_hand_classifier.hdf5\n",
      "29/29 [==============================] - 0s 10ms/step - loss: 0.0130 - accuracy: 0.9964 - val_loss: 1.9435e-04 - val_accuracy: 1.0000\n",
      "Epoch 56/1000\n",
      "25/29 [========================>.....] - ETA: 0s - loss: 0.0107 - accuracy: 0.9972\n",
      "Epoch 56: saving model to new_hand_classifier.hdf5\n",
      "29/29 [==============================] - 0s 9ms/step - loss: 0.0103 - accuracy: 0.9975 - val_loss: 9.9450e-05 - val_accuracy: 1.0000\n",
      "Epoch 57/1000\n",
      "25/29 [========================>.....] - ETA: 0s - loss: 0.0111 - accuracy: 0.9966\n",
      "Epoch 57: saving model to new_hand_classifier.hdf5\n",
      "29/29 [==============================] - 0s 10ms/step - loss: 0.0112 - accuracy: 0.9967 - val_loss: 8.3724e-05 - val_accuracy: 1.0000\n",
      "Epoch 58/1000\n",
      "26/29 [=========================>....] - ETA: 0s - loss: 0.0105 - accuracy: 0.9964\n",
      "Epoch 58: saving model to new_hand_classifier.hdf5\n",
      "29/29 [==============================] - 0s 9ms/step - loss: 0.0103 - accuracy: 0.9967 - val_loss: 9.2355e-05 - val_accuracy: 1.0000\n",
      "Epoch 59/1000\n",
      "26/29 [=========================>....] - ETA: 0s - loss: 0.0099 - accuracy: 0.9964\n",
      "Epoch 59: saving model to new_hand_classifier.hdf5\n",
      "29/29 [==============================] - 0s 9ms/step - loss: 0.0105 - accuracy: 0.9961 - val_loss: 6.0347e-05 - val_accuracy: 1.0000\n",
      "Epoch 60/1000\n",
      "27/29 [==========================>...] - ETA: 0s - loss: 0.0124 - accuracy: 0.9965\n",
      "Epoch 60: saving model to new_hand_classifier.hdf5\n",
      "29/29 [==============================] - 0s 9ms/step - loss: 0.0126 - accuracy: 0.9964 - val_loss: 1.4525e-04 - val_accuracy: 1.0000\n",
      "Epoch 61/1000\n",
      "26/29 [=========================>....] - ETA: 0s - loss: 0.0084 - accuracy: 0.9979\n",
      "Epoch 61: saving model to new_hand_classifier.hdf5\n",
      "29/29 [==============================] - 0s 9ms/step - loss: 0.0082 - accuracy: 0.9978 - val_loss: 7.2616e-05 - val_accuracy: 1.0000\n",
      "Epoch 62/1000\n",
      "25/29 [========================>.....] - ETA: 0s - loss: 0.0086 - accuracy: 0.9981\n",
      "Epoch 62: saving model to new_hand_classifier.hdf5\n",
      "29/29 [==============================] - 0s 10ms/step - loss: 0.0081 - accuracy: 0.9983 - val_loss: 6.7336e-05 - val_accuracy: 1.0000\n",
      "Epoch 63/1000\n",
      "25/29 [========================>.....] - ETA: 0s - loss: 0.0077 - accuracy: 0.9987\n",
      "Epoch 63: saving model to new_hand_classifier.hdf5\n",
      "29/29 [==============================] - 0s 9ms/step - loss: 0.0074 - accuracy: 0.9989 - val_loss: 4.5461e-05 - val_accuracy: 1.0000\n",
      "Epoch 64/1000\n",
      "27/29 [==========================>...] - ETA: 0s - loss: 0.0092 - accuracy: 0.9968\n",
      "Epoch 64: saving model to new_hand_classifier.hdf5\n",
      "29/29 [==============================] - 0s 9ms/step - loss: 0.0090 - accuracy: 0.9969 - val_loss: 1.1089e-04 - val_accuracy: 1.0000\n",
      "Epoch 65/1000\n",
      "27/29 [==========================>...] - ETA: 0s - loss: 0.0106 - accuracy: 0.9977\n",
      "Epoch 65: saving model to new_hand_classifier.hdf5\n",
      "29/29 [==============================] - 0s 8ms/step - loss: 0.0104 - accuracy: 0.9978 - val_loss: 5.8730e-05 - val_accuracy: 1.0000\n",
      "Epoch 66/1000\n",
      "28/29 [===========================>..] - ETA: 0s - loss: 0.0066 - accuracy: 0.9989\n",
      "Epoch 66: saving model to new_hand_classifier.hdf5\n",
      "29/29 [==============================] - 0s 8ms/step - loss: 0.0066 - accuracy: 0.9989 - val_loss: 6.6180e-05 - val_accuracy: 1.0000\n",
      "Epoch 67/1000\n",
      "27/29 [==========================>...] - ETA: 0s - loss: 0.0092 - accuracy: 0.9974\n",
      "Epoch 67: saving model to new_hand_classifier.hdf5\n",
      "29/29 [==============================] - 0s 9ms/step - loss: 0.0089 - accuracy: 0.9975 - val_loss: 1.2066e-04 - val_accuracy: 1.0000\n",
      "Epoch 68/1000\n",
      "26/29 [=========================>....] - ETA: 0s - loss: 0.0069 - accuracy: 0.9985\n",
      "Epoch 68: saving model to new_hand_classifier.hdf5\n",
      "29/29 [==============================] - 0s 9ms/step - loss: 0.0069 - accuracy: 0.9986 - val_loss: 3.3312e-05 - val_accuracy: 1.0000\n",
      "Epoch 69/1000\n",
      "28/29 [===========================>..] - ETA: 0s - loss: 0.0101 - accuracy: 0.9978\n",
      "Epoch 69: saving model to new_hand_classifier.hdf5\n",
      "29/29 [==============================] - 0s 9ms/step - loss: 0.0101 - accuracy: 0.9978 - val_loss: 1.2113e-04 - val_accuracy: 1.0000\n",
      "Epoch 70/1000\n",
      "25/29 [========================>.....] - ETA: 0s - loss: 0.0148 - accuracy: 0.9953\n",
      "Epoch 70: saving model to new_hand_classifier.hdf5\n",
      "29/29 [==============================] - 0s 10ms/step - loss: 0.0142 - accuracy: 0.9956 - val_loss: 5.8552e-05 - val_accuracy: 1.0000\n",
      "Epoch 71/1000\n",
      "28/29 [===========================>..] - ETA: 0s - loss: 0.0088 - accuracy: 0.9975\n",
      "Epoch 71: saving model to new_hand_classifier.hdf5\n",
      "29/29 [==============================] - 0s 9ms/step - loss: 0.0088 - accuracy: 0.9975 - val_loss: 4.5235e-05 - val_accuracy: 1.0000\n",
      "Epoch 72/1000\n",
      "27/29 [==========================>...] - ETA: 0s - loss: 0.0074 - accuracy: 0.9991\n",
      "Epoch 72: saving model to new_hand_classifier.hdf5\n",
      "29/29 [==============================] - 0s 8ms/step - loss: 0.0075 - accuracy: 0.9992 - val_loss: 4.4153e-05 - val_accuracy: 1.0000\n",
      "Epoch 73/1000\n",
      "28/29 [===========================>..] - ETA: 0s - loss: 0.0064 - accuracy: 0.9980\n",
      "Epoch 73: saving model to new_hand_classifier.hdf5\n",
      "29/29 [==============================] - 0s 9ms/step - loss: 0.0064 - accuracy: 0.9981 - val_loss: 2.3684e-05 - val_accuracy: 1.0000\n",
      "Epoch 74/1000\n",
      "26/29 [=========================>....] - ETA: 0s - loss: 0.0105 - accuracy: 0.9964\n",
      "Epoch 74: saving model to new_hand_classifier.hdf5\n",
      "29/29 [==============================] - 0s 9ms/step - loss: 0.0103 - accuracy: 0.9967 - val_loss: 6.7697e-05 - val_accuracy: 1.0000\n",
      "Epoch 75/1000\n",
      "26/29 [=========================>....] - ETA: 0s - loss: 0.0076 - accuracy: 0.9979\n",
      "Epoch 75: saving model to new_hand_classifier.hdf5\n",
      "29/29 [==============================] - 0s 9ms/step - loss: 0.0071 - accuracy: 0.9981 - val_loss: 3.5150e-05 - val_accuracy: 1.0000\n",
      "Epoch 76/1000\n",
      "26/29 [=========================>....] - ETA: 0s - loss: 0.0061 - accuracy: 0.9976\n",
      "Epoch 76: saving model to new_hand_classifier.hdf5\n",
      "29/29 [==============================] - 0s 9ms/step - loss: 0.0069 - accuracy: 0.9975 - val_loss: 1.9770e-05 - val_accuracy: 1.0000\n",
      "Epoch 77/1000\n",
      "24/29 [=======================>......] - ETA: 0s - loss: 0.0058 - accuracy: 0.9990\n",
      "Epoch 77: saving model to new_hand_classifier.hdf5\n",
      "29/29 [==============================] - 0s 10ms/step - loss: 0.0055 - accuracy: 0.9989 - val_loss: 1.7259e-05 - val_accuracy: 1.0000\n",
      "Epoch 78/1000\n",
      "28/29 [===========================>..] - ETA: 0s - loss: 0.0066 - accuracy: 0.9969\n",
      "Epoch 78: saving model to new_hand_classifier.hdf5\n",
      "29/29 [==============================] - 0s 8ms/step - loss: 0.0066 - accuracy: 0.9969 - val_loss: 1.7710e-05 - val_accuracy: 1.0000\n",
      "Epoch 79/1000\n",
      "27/29 [==========================>...] - ETA: 0s - loss: 0.0051 - accuracy: 0.9988\n",
      "Epoch 79: saving model to new_hand_classifier.hdf5\n",
      "29/29 [==============================] - 0s 8ms/step - loss: 0.0050 - accuracy: 0.9989 - val_loss: 2.1067e-05 - val_accuracy: 1.0000\n",
      "Epoch 80/1000\n",
      "27/29 [==========================>...] - ETA: 0s - loss: 0.0053 - accuracy: 0.9988\n",
      "Epoch 80: saving model to new_hand_classifier.hdf5\n",
      "29/29 [==============================] - 0s 8ms/step - loss: 0.0051 - accuracy: 0.9989 - val_loss: 3.1345e-05 - val_accuracy: 1.0000\n",
      "Epoch 81/1000\n",
      "26/29 [=========================>....] - ETA: 0s - loss: 0.0074 - accuracy: 0.9973\n",
      "Epoch 81: saving model to new_hand_classifier.hdf5\n",
      "29/29 [==============================] - 0s 9ms/step - loss: 0.0075 - accuracy: 0.9972 - val_loss: 1.7174e-05 - val_accuracy: 1.0000\n",
      "Epoch 82/1000\n",
      "26/29 [=========================>....] - ETA: 0s - loss: 0.0069 - accuracy: 0.9976\n",
      "Epoch 82: saving model to new_hand_classifier.hdf5\n",
      "29/29 [==============================] - 0s 9ms/step - loss: 0.0068 - accuracy: 0.9975 - val_loss: 4.0630e-05 - val_accuracy: 1.0000\n",
      "Epoch 83/1000\n",
      "27/29 [==========================>...] - ETA: 0s - loss: 0.0086 - accuracy: 0.9974\n",
      "Epoch 83: saving model to new_hand_classifier.hdf5\n",
      "29/29 [==============================] - 0s 9ms/step - loss: 0.0084 - accuracy: 0.9975 - val_loss: 3.9130e-05 - val_accuracy: 1.0000\n",
      "Epoch 84/1000\n",
      "26/29 [=========================>....] - ETA: 0s - loss: 0.0094 - accuracy: 0.9967\n",
      "Epoch 84: saving model to new_hand_classifier.hdf5\n",
      "29/29 [==============================] - 0s 9ms/step - loss: 0.0089 - accuracy: 0.9969 - val_loss: 2.5471e-05 - val_accuracy: 1.0000\n",
      "Epoch 85/1000\n",
      "28/29 [===========================>..] - ETA: 0s - loss: 0.0082 - accuracy: 0.9983\n",
      "Epoch 85: saving model to new_hand_classifier.hdf5\n",
      "29/29 [==============================] - 0s 8ms/step - loss: 0.0082 - accuracy: 0.9983 - val_loss: 2.3961e-05 - val_accuracy: 1.0000\n",
      "Epoch 86/1000\n",
      "28/29 [===========================>..] - ETA: 0s - loss: 0.0065 - accuracy: 0.9986\n",
      "Epoch 86: saving model to new_hand_classifier.hdf5\n",
      "29/29 [==============================] - 0s 9ms/step - loss: 0.0065 - accuracy: 0.9986 - val_loss: 7.2681e-05 - val_accuracy: 1.0000\n",
      "Epoch 87/1000\n",
      "25/29 [========================>.....] - ETA: 0s - loss: 0.0046 - accuracy: 0.9991\n",
      "Epoch 87: saving model to new_hand_classifier.hdf5\n",
      "29/29 [==============================] - 0s 10ms/step - loss: 0.0056 - accuracy: 0.9989 - val_loss: 1.0493e-05 - val_accuracy: 1.0000\n",
      "Epoch 88/1000\n",
      "26/29 [=========================>....] - ETA: 0s - loss: 0.0068 - accuracy: 0.9982\n",
      "Epoch 88: saving model to new_hand_classifier.hdf5\n",
      "29/29 [==============================] - 0s 9ms/step - loss: 0.0064 - accuracy: 0.9983 - val_loss: 1.9819e-05 - val_accuracy: 1.0000\n",
      "Epoch 89/1000\n",
      "27/29 [==========================>...] - ETA: 0s - loss: 0.0070 - accuracy: 0.9974\n",
      "Epoch 89: saving model to new_hand_classifier.hdf5\n",
      "29/29 [==============================] - 0s 9ms/step - loss: 0.0068 - accuracy: 0.9975 - val_loss: 2.4708e-05 - val_accuracy: 1.0000\n",
      "Epoch 90/1000\n",
      "28/29 [===========================>..] - ETA: 0s - loss: 0.0079 - accuracy: 0.9975\n",
      "Epoch 90: saving model to new_hand_classifier.hdf5\n",
      "29/29 [==============================] - 0s 8ms/step - loss: 0.0080 - accuracy: 0.9975 - val_loss: 2.9599e-05 - val_accuracy: 1.0000\n",
      "Epoch 91/1000\n",
      "28/29 [===========================>..] - ETA: 0s - loss: 0.0048 - accuracy: 0.9992\n",
      "Epoch 91: saving model to new_hand_classifier.hdf5\n",
      "29/29 [==============================] - 0s 9ms/step - loss: 0.0048 - accuracy: 0.9992 - val_loss: 6.9104e-05 - val_accuracy: 1.0000\n",
      "Epoch 92/1000\n",
      "27/29 [==========================>...] - ETA: 0s - loss: 0.0084 - accuracy: 0.9971\n",
      "Epoch 92: saving model to new_hand_classifier.hdf5\n",
      "29/29 [==============================] - 0s 9ms/step - loss: 0.0088 - accuracy: 0.9969 - val_loss: 1.4043e-05 - val_accuracy: 1.0000\n",
      "Epoch 93/1000\n",
      "25/29 [========================>.....] - ETA: 0s - loss: 0.0276 - accuracy: 0.9934\n",
      "Epoch 93: saving model to new_hand_classifier.hdf5\n",
      "29/29 [==============================] - 0s 10ms/step - loss: 0.0258 - accuracy: 0.9936 - val_loss: 9.8139e-05 - val_accuracy: 1.0000\n",
      "Epoch 94/1000\n",
      "26/29 [=========================>....] - ETA: 0s - loss: 0.0072 - accuracy: 0.9985\n",
      "Epoch 94: saving model to new_hand_classifier.hdf5\n",
      "29/29 [==============================] - 0s 9ms/step - loss: 0.0085 - accuracy: 0.9983 - val_loss: 4.2504e-05 - val_accuracy: 1.0000\n",
      "Epoch 95/1000\n",
      "25/29 [========================>.....] - ETA: 0s - loss: 0.0037 - accuracy: 0.9994\n",
      "Epoch 95: saving model to new_hand_classifier.hdf5\n",
      "29/29 [==============================] - 0s 10ms/step - loss: 0.0042 - accuracy: 0.9992 - val_loss: 1.2385e-05 - val_accuracy: 1.0000\n",
      "Epoch 96/1000\n",
      "27/29 [==========================>...] - ETA: 0s - loss: 0.0054 - accuracy: 0.9988\n",
      "Epoch 96: saving model to new_hand_classifier.hdf5\n",
      "29/29 [==============================] - 0s 9ms/step - loss: 0.0052 - accuracy: 0.9989 - val_loss: 2.4730e-05 - val_accuracy: 1.0000\n",
      "Epoch 97/1000\n",
      "27/29 [==========================>...] - ETA: 0s - loss: 0.0048 - accuracy: 0.9977\n",
      "Epoch 97: saving model to new_hand_classifier.hdf5\n",
      "29/29 [==============================] - 0s 8ms/step - loss: 0.0047 - accuracy: 0.9978 - val_loss: 5.3743e-05 - val_accuracy: 1.0000\n",
      "Epoch 98/1000\n",
      "28/29 [===========================>..] - ETA: 0s - loss: 0.0042 - accuracy: 0.9992\n",
      "Epoch 98: saving model to new_hand_classifier.hdf5\n",
      "29/29 [==============================] - 0s 8ms/step - loss: 0.0042 - accuracy: 0.9992 - val_loss: 1.4139e-05 - val_accuracy: 1.0000\n",
      "Epoch 99/1000\n",
      "27/29 [==========================>...] - ETA: 0s - loss: 0.0036 - accuracy: 0.9988\n",
      "Epoch 99: saving model to new_hand_classifier.hdf5\n",
      "29/29 [==============================] - 0s 9ms/step - loss: 0.0036 - accuracy: 0.9989 - val_loss: 7.2845e-06 - val_accuracy: 1.0000\n",
      "Epoch 100/1000\n",
      "25/29 [========================>.....] - ETA: 0s - loss: 0.0049 - accuracy: 0.9984\n",
      "Epoch 100: saving model to new_hand_classifier.hdf5\n",
      "29/29 [==============================] - 0s 9ms/step - loss: 0.0058 - accuracy: 0.9983 - val_loss: 1.7819e-05 - val_accuracy: 1.0000\n",
      "Epoch 101/1000\n",
      "28/29 [===========================>..] - ETA: 0s - loss: 0.0046 - accuracy: 0.9992\n",
      "Epoch 101: saving model to new_hand_classifier.hdf5\n",
      "29/29 [==============================] - 0s 8ms/step - loss: 0.0046 - accuracy: 0.9992 - val_loss: 1.3433e-05 - val_accuracy: 1.0000\n",
      "Epoch 102/1000\n",
      "28/29 [===========================>..] - ETA: 0s - loss: 0.0043 - accuracy: 0.9992\n",
      "Epoch 102: saving model to new_hand_classifier.hdf5\n",
      "29/29 [==============================] - 0s 9ms/step - loss: 0.0043 - accuracy: 0.9992 - val_loss: 1.1737e-05 - val_accuracy: 1.0000\n",
      "Epoch 103/1000\n",
      "25/29 [========================>.....] - ETA: 0s - loss: 0.0070 - accuracy: 0.9975\n",
      "Epoch 103: saving model to new_hand_classifier.hdf5\n",
      "29/29 [==============================] - 0s 9ms/step - loss: 0.0066 - accuracy: 0.9975 - val_loss: 1.1320e-05 - val_accuracy: 1.0000\n",
      "Epoch 104/1000\n",
      "27/29 [==========================>...] - ETA: 0s - loss: 0.0097 - accuracy: 0.9971\n",
      "Epoch 104: saving model to new_hand_classifier.hdf5\n",
      "29/29 [==============================] - 0s 9ms/step - loss: 0.0094 - accuracy: 0.9972 - val_loss: 9.1115e-05 - val_accuracy: 1.0000\n",
      "Epoch 105/1000\n",
      "28/29 [===========================>..] - ETA: 0s - loss: 0.0059 - accuracy: 0.9983\n",
      "Epoch 105: saving model to new_hand_classifier.hdf5\n",
      "29/29 [==============================] - 0s 9ms/step - loss: 0.0059 - accuracy: 0.9983 - val_loss: 1.3514e-05 - val_accuracy: 1.0000\n",
      "Epoch 106/1000\n",
      "25/29 [========================>.....] - ETA: 0s - loss: 0.0078 - accuracy: 0.9966\n",
      "Epoch 106: saving model to new_hand_classifier.hdf5\n",
      "29/29 [==============================] - 0s 9ms/step - loss: 0.0073 - accuracy: 0.9969 - val_loss: 1.8736e-04 - val_accuracy: 1.0000\n",
      "Epoch 107/1000\n",
      "27/29 [==========================>...] - ETA: 0s - loss: 0.0073 - accuracy: 0.9974\n",
      "Epoch 107: saving model to new_hand_classifier.hdf5\n",
      "29/29 [==============================] - 0s 9ms/step - loss: 0.0071 - accuracy: 0.9975 - val_loss: 3.2681e-05 - val_accuracy: 1.0000\n",
      "Epoch 108/1000\n",
      "28/29 [===========================>..] - ETA: 0s - loss: 0.0098 - accuracy: 0.9978\n",
      "Epoch 108: saving model to new_hand_classifier.hdf5\n",
      "29/29 [==============================] - 0s 8ms/step - loss: 0.0097 - accuracy: 0.9978 - val_loss: 1.8797e-05 - val_accuracy: 1.0000\n",
      "Epoch 109/1000\n",
      "27/29 [==========================>...] - ETA: 0s - loss: 0.0065 - accuracy: 0.9980\n",
      "Epoch 109: saving model to new_hand_classifier.hdf5\n",
      "29/29 [==============================] - 0s 9ms/step - loss: 0.0064 - accuracy: 0.9981 - val_loss: 1.0582e-05 - val_accuracy: 1.0000\n",
      "Epoch 110/1000\n",
      "28/29 [===========================>..] - ETA: 0s - loss: 0.0062 - accuracy: 0.9983\n",
      "Epoch 110: saving model to new_hand_classifier.hdf5\n",
      "29/29 [==============================] - 0s 8ms/step - loss: 0.0062 - accuracy: 0.9983 - val_loss: 9.4993e-06 - val_accuracy: 1.0000\n",
      "Epoch 111/1000\n",
      "26/29 [=========================>....] - ETA: 0s - loss: 0.0098 - accuracy: 0.9967\n",
      "Epoch 111: saving model to new_hand_classifier.hdf5\n",
      "29/29 [==============================] - 0s 9ms/step - loss: 0.0103 - accuracy: 0.9967 - val_loss: 1.6119e-05 - val_accuracy: 1.0000\n",
      "Epoch 112/1000\n",
      "24/29 [=======================>......] - ETA: 0s - loss: 0.0047 - accuracy: 0.9993\n",
      "Epoch 112: saving model to new_hand_classifier.hdf5\n",
      "29/29 [==============================] - 0s 9ms/step - loss: 0.0045 - accuracy: 0.9994 - val_loss: 8.1626e-06 - val_accuracy: 1.0000\n",
      "Epoch 113/1000\n",
      "28/29 [===========================>..] - ETA: 0s - loss: 0.0033 - accuracy: 0.9992\n",
      "Epoch 113: saving model to new_hand_classifier.hdf5\n",
      "29/29 [==============================] - 0s 9ms/step - loss: 0.0034 - accuracy: 0.9992 - val_loss: 4.7724e-06 - val_accuracy: 1.0000\n",
      "Epoch 114/1000\n",
      "27/29 [==========================>...] - ETA: 0s - loss: 0.0035 - accuracy: 0.9988\n",
      "Epoch 114: saving model to new_hand_classifier.hdf5\n",
      "29/29 [==============================] - 0s 9ms/step - loss: 0.0034 - accuracy: 0.9989 - val_loss: 4.9617e-05 - val_accuracy: 1.0000\n",
      "Epoch 115/1000\n",
      "25/29 [========================>.....] - ETA: 0s - loss: 0.0026 - accuracy: 0.9994\n",
      "Epoch 115: saving model to new_hand_classifier.hdf5\n",
      "29/29 [==============================] - 0s 9ms/step - loss: 0.0028 - accuracy: 0.9994 - val_loss: 2.5381e-06 - val_accuracy: 1.0000\n",
      "Epoch 116/1000\n",
      "27/29 [==========================>...] - ETA: 0s - loss: 0.0020 - accuracy: 0.9994\n",
      "Epoch 116: saving model to new_hand_classifier.hdf5\n",
      "29/29 [==============================] - 0s 9ms/step - loss: 0.0020 - accuracy: 0.9994 - val_loss: 2.1215e-06 - val_accuracy: 1.0000\n",
      "Epoch 117/1000\n",
      "28/29 [===========================>..] - ETA: 0s - loss: 0.0018 - accuracy: 1.0000\n",
      "Epoch 117: saving model to new_hand_classifier.hdf5\n",
      "29/29 [==============================] - 0s 9ms/step - loss: 0.0018 - accuracy: 1.0000 - val_loss: 1.8189e-06 - val_accuracy: 1.0000\n",
      "Epoch 118/1000\n",
      "25/29 [========================>.....] - ETA: 0s - loss: 0.0046 - accuracy: 0.9987\n",
      "Epoch 118: saving model to new_hand_classifier.hdf5\n",
      "29/29 [==============================] - 0s 9ms/step - loss: 0.0046 - accuracy: 0.9989 - val_loss: 3.3315e-06 - val_accuracy: 1.0000\n",
      "Epoch 119/1000\n",
      "27/29 [==========================>...] - ETA: 0s - loss: 0.0023 - accuracy: 0.9994\n",
      "Epoch 119: saving model to new_hand_classifier.hdf5\n",
      "29/29 [==============================] - 0s 9ms/step - loss: 0.0022 - accuracy: 0.9994 - val_loss: 2.2389e-06 - val_accuracy: 1.0000\n",
      "Epoch 120/1000\n",
      "25/29 [========================>.....] - ETA: 0s - loss: 0.0019 - accuracy: 0.9997\n",
      "Epoch 120: saving model to new_hand_classifier.hdf5\n",
      "29/29 [==============================] - 0s 9ms/step - loss: 0.0019 - accuracy: 0.9997 - val_loss: 1.2908e-06 - val_accuracy: 1.0000\n",
      "Epoch 121/1000\n",
      "27/29 [==========================>...] - ETA: 0s - loss: 0.0044 - accuracy: 0.9986\n",
      "Epoch 121: saving model to new_hand_classifier.hdf5\n",
      "29/29 [==============================] - 0s 9ms/step - loss: 0.0044 - accuracy: 0.9986 - val_loss: 3.3410e-06 - val_accuracy: 1.0000\n",
      "Epoch 122/1000\n",
      "22/29 [=====================>........] - ETA: 0s - loss: 0.0045 - accuracy: 0.9989\n",
      "Epoch 122: saving model to new_hand_classifier.hdf5\n",
      "29/29 [==============================] - 0s 10ms/step - loss: 0.0047 - accuracy: 0.9986 - val_loss: 8.0767e-06 - val_accuracy: 1.0000\n",
      "Epoch 123/1000\n",
      "25/29 [========================>.....] - ETA: 0s - loss: 0.0033 - accuracy: 0.9991\n",
      "Epoch 123: saving model to new_hand_classifier.hdf5\n",
      "29/29 [==============================] - 0s 13ms/step - loss: 0.0039 - accuracy: 0.9989 - val_loss: 1.5892e-06 - val_accuracy: 1.0000\n",
      "Epoch 124/1000\n",
      "27/29 [==========================>...] - ETA: 0s - loss: 0.0030 - accuracy: 0.9991\n",
      "Epoch 124: saving model to new_hand_classifier.hdf5\n",
      "29/29 [==============================] - 0s 9ms/step - loss: 0.0030 - accuracy: 0.9992 - val_loss: 5.5179e-06 - val_accuracy: 1.0000\n",
      "Epoch 125/1000\n",
      "27/29 [==========================>...] - ETA: 0s - loss: 0.0080 - accuracy: 0.9965\n",
      "Epoch 125: saving model to new_hand_classifier.hdf5\n",
      "29/29 [==============================] - 0s 9ms/step - loss: 0.0078 - accuracy: 0.9967 - val_loss: 1.2556e-05 - val_accuracy: 1.0000\n",
      "Epoch 126/1000\n",
      "28/29 [===========================>..] - ETA: 0s - loss: 0.0069 - accuracy: 0.9972\n",
      "Epoch 126: saving model to new_hand_classifier.hdf5\n",
      "29/29 [==============================] - 0s 8ms/step - loss: 0.0069 - accuracy: 0.9972 - val_loss: 4.1902e-05 - val_accuracy: 1.0000\n",
      "Epoch 127/1000\n",
      "28/29 [===========================>..] - ETA: 0s - loss: 0.0066 - accuracy: 0.9972\n",
      "Epoch 127: saving model to new_hand_classifier.hdf5\n",
      "29/29 [==============================] - 0s 8ms/step - loss: 0.0066 - accuracy: 0.9972 - val_loss: 1.5615e-05 - val_accuracy: 1.0000\n",
      "Epoch 128/1000\n",
      "28/29 [===========================>..] - ETA: 0s - loss: 0.0038 - accuracy: 0.9989\n",
      "Epoch 128: saving model to new_hand_classifier.hdf5\n",
      "29/29 [==============================] - 0s 8ms/step - loss: 0.0038 - accuracy: 0.9989 - val_loss: 1.1673e-05 - val_accuracy: 1.0000\n",
      "Epoch 129/1000\n",
      "26/29 [=========================>....] - ETA: 0s - loss: 0.0053 - accuracy: 0.9973\n",
      "Epoch 129: saving model to new_hand_classifier.hdf5\n",
      "29/29 [==============================] - 0s 9ms/step - loss: 0.0051 - accuracy: 0.9975 - val_loss: 2.8660e-05 - val_accuracy: 1.0000\n",
      "Epoch 130/1000\n",
      "22/29 [=====================>........] - ETA: 0s - loss: 0.0083 - accuracy: 0.9972\n",
      "Epoch 130: saving model to new_hand_classifier.hdf5\n",
      "29/29 [==============================] - 0s 9ms/step - loss: 0.0068 - accuracy: 0.9978 - val_loss: 1.2826e-05 - val_accuracy: 1.0000\n",
      "Epoch 131/1000\n",
      "28/29 [===========================>..] - ETA: 0s - loss: 0.0049 - accuracy: 0.9989\n",
      "Epoch 131: saving model to new_hand_classifier.hdf5\n",
      "29/29 [==============================] - 0s 8ms/step - loss: 0.0049 - accuracy: 0.9989 - val_loss: 3.1644e-06 - val_accuracy: 1.0000\n",
      "Epoch 132/1000\n",
      "27/29 [==========================>...] - ETA: 0s - loss: 0.0038 - accuracy: 0.9994\n",
      "Epoch 132: saving model to new_hand_classifier.hdf5\n",
      "29/29 [==============================] - 0s 9ms/step - loss: 0.0037 - accuracy: 0.9994 - val_loss: 1.9751e-06 - val_accuracy: 1.0000\n",
      "Epoch 133/1000\n",
      "25/29 [========================>.....] - ETA: 0s - loss: 0.0058 - accuracy: 0.9981\n",
      "Epoch 133: saving model to new_hand_classifier.hdf5\n",
      "29/29 [==============================] - 0s 9ms/step - loss: 0.0056 - accuracy: 0.9983 - val_loss: 1.1354e-04 - val_accuracy: 1.0000\n",
      "Epoch 134/1000\n",
      "26/29 [=========================>....] - ETA: 0s - loss: 0.0043 - accuracy: 0.9991\n",
      "Epoch 134: saving model to new_hand_classifier.hdf5\n",
      "29/29 [==============================] - 0s 9ms/step - loss: 0.0040 - accuracy: 0.9992 - val_loss: 8.1760e-06 - val_accuracy: 1.0000\n",
      "Epoch 135/1000\n",
      "27/29 [==========================>...] - ETA: 0s - loss: 0.0040 - accuracy: 0.9986\n",
      "Epoch 135: saving model to new_hand_classifier.hdf5\n",
      "29/29 [==============================] - 0s 10ms/step - loss: 0.0044 - accuracy: 0.9983 - val_loss: 1.5782e-06 - val_accuracy: 1.0000\n",
      "Epoch 136/1000\n",
      "27/29 [==========================>...] - ETA: 0s - loss: 0.0041 - accuracy: 0.9986\n",
      "Epoch 136: saving model to new_hand_classifier.hdf5\n",
      "29/29 [==============================] - 0s 9ms/step - loss: 0.0040 - accuracy: 0.9986 - val_loss: 3.9199e-05 - val_accuracy: 1.0000\n",
      "Epoch 137/1000\n",
      "28/29 [===========================>..] - ETA: 0s - loss: 0.0093 - accuracy: 0.9961\n",
      "Epoch 137: saving model to new_hand_classifier.hdf5\n",
      "29/29 [==============================] - 0s 9ms/step - loss: 0.0093 - accuracy: 0.9961 - val_loss: 1.8534e-05 - val_accuracy: 1.0000\n",
      "Epoch 138/1000\n",
      "27/29 [==========================>...] - ETA: 0s - loss: 0.0050 - accuracy: 0.9988\n",
      "Epoch 138: saving model to new_hand_classifier.hdf5\n",
      "29/29 [==============================] - 0s 9ms/step - loss: 0.0048 - accuracy: 0.9989 - val_loss: 2.6634e-06 - val_accuracy: 1.0000\n",
      "Epoch 139/1000\n",
      "28/29 [===========================>..] - ETA: 0s - loss: 0.0078 - accuracy: 0.9978\n",
      "Epoch 139: saving model to new_hand_classifier.hdf5\n",
      "29/29 [==============================] - 0s 9ms/step - loss: 0.0078 - accuracy: 0.9978 - val_loss: 2.6951e-06 - val_accuracy: 1.0000\n",
      "Epoch 140/1000\n",
      "28/29 [===========================>..] - ETA: 0s - loss: 0.0063 - accuracy: 0.9980\n",
      "Epoch 140: saving model to new_hand_classifier.hdf5\n",
      "29/29 [==============================] - 0s 9ms/step - loss: 0.0063 - accuracy: 0.9981 - val_loss: 4.3081e-06 - val_accuracy: 1.0000\n",
      "Epoch 140: early stopping\n"
     ]
    }
   ],
   "source": [
    "history = model.fit(\n",
    "    X_train,\n",
    "    y_train,\n",
    "    epochs=1000,\n",
    "    batch_size=128,\n",
    "    validation_data=(X_test, y_test),\n",
    "    callbacks=[cp_callback, es_callback]\n",
    ")"
   ],
   "metadata": {
    "collapsed": false
   }
  },
  {
   "cell_type": "code",
   "execution_count": 12,
   "outputs": [
    {
     "name": "stdout",
     "output_type": "stream",
     "text": [
      "5/5 [==============================] - 0s 5ms/step - loss: 5.1535e-06 - accuracy: 1.0000\n"
     ]
    }
   ],
   "source": [
    "# Model evaluation\n",
    "val_loss, val_acc = model.evaluate(X_test, y_test, batch_size=128)"
   ],
   "metadata": {
    "collapsed": false
   }
  },
  {
   "cell_type": "code",
   "execution_count": 13,
   "outputs": [],
   "source": [
    "# Loading the saved model\n",
    "model = tf.keras.models.load_model(model_save_path)"
   ],
   "metadata": {
    "collapsed": false
   }
  },
  {
   "cell_type": "code",
   "execution_count": 14,
   "outputs": [
    {
     "name": "stdout",
     "output_type": "stream",
     "text": [
      "1/1 [==============================] - 0s 129ms/step\n",
      "[4.7463160e-18 5.3960650e-07 5.0120379e-18 1.4934461e-14 4.0169468e-09\n",
      " 1.8996792e-10 1.7155002e-14 4.0754378e-20 2.2137455e-12 1.2064293e-15\n",
      " 1.8200367e-06 6.3899401e-13 1.1116866e-14 6.4796817e-13 3.4949393e-17\n",
      " 3.0985878e-18 1.2463770e-18 9.9999702e-01 5.7738714e-07 3.4294144e-13\n",
      " 1.5486944e-09 4.9110954e-10 1.7519659e-11 3.4759264e-17 1.2975103e-19\n",
      " 3.2912154e-18]\n",
      "17\n"
     ]
    }
   ],
   "source": [
    "# Inference test\n",
    "predict_result = model.predict(np.array([X_test[0]]))\n",
    "print(np.squeeze(predict_result))\n",
    "print(np.argmax(np.squeeze(predict_result)))"
   ],
   "metadata": {
    "collapsed": false
   }
  },
  {
   "cell_type": "markdown",
   "source": [
    "# Confusion matrix"
   ],
   "metadata": {
    "collapsed": false
   }
  },
  {
   "cell_type": "code",
   "execution_count": 15,
   "outputs": [
    {
     "name": "stdout",
     "output_type": "stream",
     "text": [
      "19/19 [==============================] - 0s 2ms/step\n"
     ]
    },
    {
     "data": {
      "text/plain": "<Figure size 700x600 with 2 Axes>",
      "image/png": "[encoded data removed]"
     },
     "metadata": {},
     "output_type": "display_data"
    },
    {
     "name": "stdout",
     "output_type": "stream",
     "text": [
      "Classification Report\n",
      "              precision    recall  f1-score   support\n",
      "\n",
      "           0       1.00      1.00      1.00        22\n",
      "           1       1.00      1.00      1.00        22\n",
      "           2       1.00      1.00      1.00        24\n",
      "           3       1.00      1.00      1.00        30\n",
      "           4       1.00      1.00      1.00        31\n",
      "           5       1.00      1.00      1.00        32\n",
      "           6       1.00      1.00      1.00        20\n",
      "           7       1.00      1.00      1.00        24\n",
      "           8       1.00      1.00      1.00        29\n",
      "          10       1.00      1.00      1.00        24\n",
      "          11       1.00      1.00      1.00        31\n",
      "          12       1.00      1.00      1.00        25\n",
      "          13       1.00      1.00      1.00        27\n",
      "          14       1.00      1.00      1.00        25\n",
      "          15       1.00      1.00      1.00        18\n",
      "          16       1.00      1.00      1.00        24\n",
      "          17       1.00      1.00      1.00        26\n",
      "          18       1.00      1.00      1.00        25\n",
      "          19       1.00      1.00      1.00        31\n",
      "          20       1.00      1.00      1.00        24\n",
      "          21       1.00      1.00      1.00        29\n",
      "          22       1.00      1.00      1.00        19\n",
      "          23       1.00      1.00      1.00        14\n",
      "          24       1.00      1.00      1.00        24\n",
      "\n",
      "    accuracy                           1.00       600\n",
      "   macro avg       1.00      1.00      1.00       600\n",
      "weighted avg       1.00      1.00      1.00       600\n",
      "\n"
     ]
    }
   ],
   "source": [
    "import pandas as pd\n",
    "import seaborn as sns\n",
    "import matplotlib.pyplot as plt\n",
    "from sklearn.metrics import confusion_matrix, classification_report\n",
    "\n",
    "def print_confusion_matrix(y_true, y_pred, report=True):\n",
    "    labels = sorted(list(set(y_true)))\n",
    "    cmx_data = confusion_matrix(y_true, y_pred, labels=labels)\n",
    "\n",
    "    df_cmx = pd.DataFrame(cmx_data, index=labels, columns=labels)\n",
    "\n",
    "    fig, ax = plt.subplots(figsize=(7, 6))\n",
    "    sns.heatmap(df_cmx, annot=True, fmt='g' ,square=False)\n",
    "    ax.set_ylim(len(set(y_true)), 0)\n",
    "    plt.show()\n",
    "\n",
    "    if report:\n",
    "        print('Classification Report')\n",
    "        print(classification_report(y_test, y_pred))\n",
    "\n",
    "Y_pred = model.predict(X_test)\n",
    "y_pred = np.argmax(Y_pred, axis=1)\n",
    "\n",
    "print_confusion_matrix(y_test, y_pred)"
   ],
   "metadata": {
    "collapsed": false
   }
  },
  {
   "cell_type": "markdown",
   "source": [
    "# Convert to model for Tensorflow-Lite"
   ],
   "metadata": {
    "collapsed": false
   }
  },
  {
   "cell_type": "code",
   "execution_count": 16,
   "outputs": [
    {
     "name": "stderr",
     "output_type": "stream",
     "text": [
      "C:\\gesture_recognition_by_image\\venv\\lib\\site-packages\\keras\\src\\engine\\training.py:3103: UserWarning: You are saving your model as an HDF5 file via `model.save()`. This file format is considered legacy. We recommend using instead the native Keras format, e.g. `model.save('my_model.keras')`.\n",
      "  saving_api.save_model(\n"
     ]
    }
   ],
   "source": [
    "# Save as a model dedicated to inference\n",
    "model.save(model_save_path, include_optimizer=False)"
   ],
   "metadata": {
    "collapsed": false
   }
  },
  {
   "cell_type": "code",
   "execution_count": 29,
   "outputs": [
    {
     "name": "stdout",
     "output_type": "stream",
     "text": [
      "INFO:tensorflow:Assets written to: C:\\Users\\joren\\AppData\\Local\\Temp\\tmp98p_v72g\\assets\n"
     ]
    },
    {
     "name": "stderr",
     "output_type": "stream",
     "text": [
      "INFO:tensorflow:Assets written to: C:\\Users\\joren\\AppData\\Local\\Temp\\tmp98p_v72g\\assets\n"
     ]
    },
    {
     "data": {
      "text/plain": "105472"
     },
     "execution_count": 29,
     "metadata": {},
     "output_type": "execute_result"
    }
   ],
   "source": [
    "# Transform model (quantization)\n",
    "\n",
    "converter = tf.lite.TFLiteConverter.from_keras_model(model)\n",
    "converter.optimizations = [tf.lite.Optimize.DEFAULT]\n",
    "tflite_quantized_model = converter.convert()\n",
    "\n",
    "open(tflite_save_path, 'wb').write(tflite_quantized_model)"
   ],
   "metadata": {
    "collapsed": false
   }
  },
  {
   "cell_type": "markdown",
   "source": [
    "# Inference test"
   ],
   "metadata": {
    "collapsed": false
   }
  },
  {
   "cell_type": "code",
   "execution_count": 18,
   "outputs": [],
   "source": [
    "interpreter = tf.lite.Interpreter(model_path=tflite_save_path)\n",
    "interpreter.allocate_tensors()"
   ],
   "metadata": {
    "collapsed": false
   }
  },
  {
   "cell_type": "code",
   "execution_count": 19,
   "outputs": [],
   "source": [
    "# Get I / O tensor\n",
    "input_details = interpreter.get_input_details()\n",
    "output_details = interpreter.get_output_details()"
   ],
   "metadata": {
    "collapsed": false
   }
  },
  {
   "cell_type": "code",
   "execution_count": 20,
   "outputs": [],
   "source": [
    "interpreter.set_tensor(input_details[0]['index'], np.array([X_test[0]]))"
   ],
   "metadata": {
    "collapsed": false
   }
  },
  {
   "cell_type": "code",
   "execution_count": 21,
   "outputs": [
    {
     "name": "stdout",
     "output_type": "stream",
     "text": [
      "CPU times: total: 0 ns\n",
      "Wall time: 10 ms\n"
     ]
    }
   ],
   "source": [
    "%%time\n",
    "# Inference implementation\n",
    "interpreter.invoke()\n",
    "tflite_results = interpreter.get_tensor(output_details[0]['index'])"
   ],
   "metadata": {
    "collapsed": false
   }
  },
  {
   "cell_type": "code",
   "execution_count": 22,
   "outputs": [
    {
     "name": "stdout",
     "output_type": "stream",
     "text": [
      "[5.84156272e-18 6.17081355e-07 5.81439521e-18 1.59972912e-14\n",
      " 4.79930762e-09 2.51102195e-10 1.92256963e-14 4.64494613e-20\n",
      " 2.56319813e-12 1.58216490e-15 2.11020779e-06 6.88853705e-13\n",
      " 1.28763916e-14 7.34943031e-13 4.37910442e-17 3.72599247e-18\n",
      " 1.57703462e-18 9.99996662e-01 6.31938576e-07 4.44213107e-13\n",
      " 1.67700820e-09 5.98561645e-10 1.84981943e-11 4.64936749e-17\n",
      " 1.56542406e-19 3.45851679e-18]\n",
      "17\n"
     ]
    }
   ],
   "source": [
    "print(np.squeeze(tflite_results))\n",
    "print(np.argmax(np.squeeze(tflite_results)))"
   ],
   "metadata": {
    "collapsed": false
   }
  },
  {
   "cell_type": "code",
   "execution_count": 27,
   "outputs": [
    {
     "name": "stderr",
     "output_type": "stream",
     "text": [
      "C:\\gesture_recognition_by_image\\venv\\lib\\site-packages\\keras\\src\\engine\\training.py:3103: UserWarning: You are saving your model as an HDF5 file via `model.save()`. This file format is considered legacy. We recommend using instead the native Keras format, e.g. `model.save('my_model.keras')`.\n",
      "  saving_api.save_model(\n"
     ]
    },
    {
     "name": "stdout",
     "output_type": "stream",
     "text": [
      "INFO:tensorflow:Assets written to: C:\\Users\\joren\\AppData\\Local\\Temp\\tmppyv63bhp\\assets\n"
     ]
    },
    {
     "name": "stderr",
     "output_type": "stream",
     "text": [
      "INFO:tensorflow:Assets written to: C:\\Users\\joren\\AppData\\Local\\Temp\\tmppyv63bhp\\assets\n"
     ]
    }
   ],
   "source": [
    "# Save the model\n",
    "model.save(model_save_path, include_optimizer=False)\n",
    "\n",
    "# Convert the model to TensorFlow Lite\n",
    "converter = tf.lite.TFLiteConverter.from_keras_model(model)\n",
    "converter.optimizations = [tf.lite.Optimize.DEFAULT]\n",
    "tflite_quantized_model = converter.convert()\n",
    "\n",
    "# Write the TFLite file\n",
    "with open(tflite_save_path, 'wb') as f:\n",
    "    f.write(tflite_quantized_model)"
   ],
   "metadata": {
    "collapsed": false
   }
  },
  {
   "cell_type": "markdown",
   "source": [
    "#### Loss  (cost)"
   ],
   "metadata": {
    "collapsed": false
   }
  },
  {
   "cell_type": "code",
   "execution_count": 24,
   "outputs": [
    {
     "data": {
      "text/plain": "<Figure size 640x480 with 1 Axes>",
      "image/png": "[encoded data removed]"
     },
     "metadata": {},
     "output_type": "display_data"
    }
   ],
   "source": [
    "plt.plot(history.history['loss'])\n",
    "plt.plot(history.history['val_loss'])\n",
    "plt.title('Model loss')\n",
    "plt.ylabel('Loss')\n",
    "plt.xlabel('Epoch')\n",
    "plt.legend(['Train', 'Validation'], loc='upper left')\n",
    "plt.show()"
   ],
   "metadata": {
    "collapsed": false
   }
  },
  {
   "cell_type": "code",
   "execution_count": 25,
   "outputs": [
    {
     "data": {
      "text/plain": "<Figure size 1200x600 with 2 Axes>",
      "image/png": "[encoded data removed]"
     },
     "metadata": {},
     "output_type": "display_data"
    }
   ],
   "source": [
    "plt.figure(figsize=(12, 6))\n",
    "\n",
    "# Plot training & validation loss values\n",
    "plt.subplot(2, 1, 1)\n",
    "plt.plot(history.history['loss'])\n",
    "plt.plot(history.history['val_loss'])\n",
    "plt.title('Model loss')\n",
    "plt.xlabel('Epoch')\n",
    "plt.ylabel('Loss')\n",
    "plt.legend(['Train', 'Validation'], loc='upper left')\n",
    "\n",
    "# Plot training & validation accuracy and F1 score values\n",
    "plt.subplot(2, 1, 2)\n",
    "plt.plot(history.history['accuracy'])\n",
    "plt.plot(history.history['val_accuracy'])\n",
    "plt.title('Model metrics')\n",
    "plt.xlabel('Epoch')\n",
    "plt.ylabel('Metric Value')\n",
    "plt.legend(['Train Accuracy', 'Validation Accuracy', 'F1 Score'], loc='upper left')\n",
    "\n",
    "plt.tight_layout()\n",
    "plt.show()"
   ],
   "metadata": {
    "collapsed": false
   }
  },
  {
   "cell_type": "code",
   "execution_count": 26,
   "outputs": [
    {
     "data": {
      "text/plain": "<Figure size 640x480 with 1 Axes>",
      "image/png": "[encoded data removed]"
     },
     "metadata": {},
     "output_type": "display_data"
    }
   ],
   "source": [
    "plt.plot(history.history['loss'], label='train')\n",
    "plt.plot(history.history['val_loss'], label='val')\n",
    "plt.title('Learning Curve')\n",
    "plt.xlabel('Epochs')\n",
    "plt.ylabel('Loss')\n",
    "plt.legend()\n",
    "plt.show()"
   ],
   "metadata": {
    "collapsed": false
   }
  },
  {
   "cell_type": "code",
   "execution_count": null,
   "outputs": [],
   "source": [],
   "metadata": {
    "collapsed": false
   }
  }
 ],
 "metadata": {
  "kernelspec": {
   "display_name": "Python 3",
   "language": "python",
   "name": "python3"
  },
  "language_info": {
   "codemirror_mode": {
    "name": "ipython",
    "version": 2
   },
   "file_extension": ".py",
   "mimetype": "text/x-python",
   "name": "python",
   "nbconvert_exporter": "python",
   "pygments_lexer": "ipython2",
   "version": "2.7.6"
  }
 },
 "nbformat": 4,
 "nbformat_minor": 0
}
