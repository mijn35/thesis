{
 "cells": [
  {
   "cell_type": "code",
   "execution_count": 1,
   "outputs": [
    {
     "name": "stdout",
     "output_type": "stream",
     "text": [
      "WARNING:tensorflow:From C:\\gesture_recognition_by_image\\venv\\lib\\site-packages\\keras\\src\\losses.py:2976: The name tf.losses.sparse_softmax_cross_entropy is deprecated. Please use tf.compat.v1.losses.sparse_softmax_cross_entropy instead.\n",
      "\n"
     ]
    }
   ],
   "source": [
    "import csv\n",
    "\n",
    "import numpy as np\n",
    "import tensorflow as tf\n",
    "from tensorflow import keras\n",
    "from sklearn.model_selection import train_test_split\n",
    "import matplotlib.pyplot as plt\n",
    "\n",
    "RANDOM_SEED = 42"
   ],
   "metadata": {
    "collapsed": false
   }
  },
  {
   "cell_type": "markdown",
   "source": [
    "# Specify each path"
   ],
   "metadata": {
    "collapsed": false
   }
  },
  {
   "cell_type": "code",
   "execution_count": 2,
   "outputs": [],
   "source": [
    "dataset = 'hand_landmarks_end_combined.csv'\n",
    "dataset_testGood = 'hand_landmarks_goodTest.csv'\n",
    "dataset_testBad = 'hand_landmarks_badTest.csv'\n",
    "dataset_testDark = 'hand_landmarks_darkTest.csv'\n",
    "model_save_path = 'new_hand_classifier.hdf5'\n",
    "tflite_save_path = 'new_hand_classifier.tflite'"
   ],
   "metadata": {
    "collapsed": false
   }
  },
  {
   "cell_type": "markdown",
   "source": [
    "# Set number of classes"
   ],
   "metadata": {
    "collapsed": false
   }
  },
  {
   "cell_type": "code",
   "execution_count": 3,
   "outputs": [],
   "source": [
    "NUM_CLASSES = 26"
   ],
   "metadata": {
    "collapsed": false
   }
  },
  {
   "cell_type": "markdown",
   "source": [
    "# Dataset reading"
   ],
   "metadata": {
    "collapsed": false
   }
  },
  {
   "cell_type": "code",
   "execution_count": 4,
   "outputs": [],
   "source": [
    "X_dataset = np.loadtxt(dataset, delimiter=',', dtype='float32', usecols=list(range(1, (21 * 2) + 1)))\n",
    "X_testGood = np.loadtxt(dataset_testGood, delimiter=',', dtype='float32', usecols=list(range(1, (21 * 2) + 1)))\n",
    "X_testBad = np.loadtxt(dataset_testBad, delimiter=',', dtype='float32', usecols=list(range(1, (21 * 2) + 1)))\n",
    "X_testDark = np.loadtxt(dataset_testDark, delimiter=',', dtype='float32', usecols=list(range(1, (21 * 2) + 1)))"
   ],
   "metadata": {
    "collapsed": false
   }
  },
  {
   "cell_type": "code",
   "execution_count": 5,
   "outputs": [
    {
     "name": "stderr",
     "output_type": "stream",
     "text": [
      "C:\\Users\\joren\\AppData\\Local\\Temp\\ipykernel_2580\\1824820334.py:1: DeprecationWarning: loadtxt(): Parsing an integer via a float is deprecated.  To avoid this warning, you can:\n",
      "    * make sure the original data is stored as integers.\n",
      "    * use the `converters=` keyword argument.  If you only use\n",
      "      NumPy 1.23 or later, `converters=float` will normally work.\n",
      "    * Use `np.loadtxt(...).astype(np.int64)` parsing the file as\n",
      "      floating point and then convert it.  (On all NumPy versions.)\n",
      "  (Deprecated NumPy 1.23)\n",
      "  y_dataset = np.loadtxt(dataset, delimiter=',', dtype='int32', usecols=(0))\n"
     ]
    }
   ],
   "source": [
    "y_dataset = np.loadtxt(dataset, delimiter=',', dtype='int32', usecols=(0))\n",
    "y_testGood = np.loadtxt(dataset_testGood, delimiter=',', dtype='int32', usecols=(0))\n",
    "y_testBad = np.loadtxt(dataset_testBad, delimiter=',', dtype='int32', usecols=(0))\n",
    "y_testDark = np.loadtxt(dataset_testDark, delimiter=',', dtype='int32', usecols=(0))"
   ],
   "metadata": {
    "collapsed": false
   }
  },
  {
   "cell_type": "code",
   "execution_count": 6,
   "outputs": [],
   "source": [
    "X_train, X_validation, y_train, y_validation = train_test_split(X_dataset, y_dataset, train_size=0.70, random_state=RANDOM_SEED)"
   ],
   "metadata": {
    "collapsed": false
   }
  },
  {
   "cell_type": "code",
   "execution_count": 7,
   "outputs": [
    {
     "name": "stdout",
     "output_type": "stream",
     "text": [
      "[[ 0.          0.          0.18723404 ... -0.8808511  -0.12340426\n",
      "  -1.        ]\n",
      " [ 0.          0.          0.09646302 ... -0.35369775  0.26688102\n",
      "  -0.3215434 ]\n",
      " [ 0.          0.         -0.10497238 ...  0.5082873   0.44751382\n",
      "   0.41436464]\n",
      " ...\n",
      " [ 0.          0.         -0.1130137  ...  0.68835616  0.46575344\n",
      "   0.8458904 ]\n",
      " [ 0.          0.          0.16956522 ... -0.31304348 -0.05652174\n",
      "  -0.25652173]\n",
      " [ 0.          0.         -0.25384617 ... -0.6051282  -0.47179487\n",
      "  -0.4846154 ]]\n"
     ]
    }
   ],
   "source": [
    "print(X_train)"
   ],
   "metadata": {
    "collapsed": false
   }
  },
  {
   "cell_type": "markdown",
   "source": [
    "# Model building"
   ],
   "metadata": {
    "collapsed": false
   }
  },
  {
   "cell_type": "code",
   "execution_count": 8,
   "outputs": [
    {
     "name": "stdout",
     "output_type": "stream",
     "text": [
      "Feature 0: Score = nan\n",
      "Feature 1: Score = nan\n",
      "Feature 2: Score = 13.67633056640625\n",
      "Feature 3: Score = 2806.0498046875\n",
      "Feature 4: Score = 12.74738883972168\n",
      "Feature 5: Score = 4859.15478515625\n",
      "Feature 6: Score = 12.716105461120605\n",
      "Feature 7: Score = 6339.4580078125\n",
      "Feature 8: Score = 13.666837692260742\n",
      "Feature 9: Score = 7000.04296875\n",
      "Feature 10: Score = 17.64806365966797\n",
      "Feature 11: Score = 1762.810302734375\n",
      "Feature 12: Score = 9.053487777709961\n",
      "Feature 13: Score = 6551.29833984375\n",
      "Feature 14: Score = 6.01431131362915\n",
      "Feature 15: Score = 9899.3076171875\n",
      "Feature 16: Score = 5.356959819793701\n",
      "Feature 17: Score = 12541.2509765625\n",
      "Feature 18: Score = 19.268003463745117\n",
      "Feature 19: Score = 1643.2232666015625\n",
      "Feature 20: Score = 9.116522789001465\n",
      "Feature 21: Score = 9425.4521484375\n",
      "Feature 22: Score = 6.939164161682129\n",
      "Feature 23: Score = 18880.091796875\n",
      "Feature 24: Score = 4.985329627990723\n",
      "Feature 25: Score = 22241.205078125\n",
      "Feature 26: Score = 21.371837615966797\n",
      "Feature 27: Score = 1959.6544189453125\n",
      "Feature 28: Score = 11.769608497619629\n",
      "Feature 29: Score = 8831.90234375\n",
      "Feature 30: Score = 9.806282043457031\n",
      "Feature 31: Score = 12534.3876953125\n",
      "Feature 32: Score = 7.3666229248046875\n",
      "Feature 33: Score = 12015.85546875\n",
      "Feature 34: Score = 23.17061424255371\n",
      "Feature 35: Score = 2369.515380859375\n",
      "Feature 36: Score = 17.515960693359375\n",
      "Feature 37: Score = 7105.5634765625\n",
      "Feature 38: Score = 19.60523796081543\n",
      "Feature 39: Score = 10115.8173828125\n",
      "Feature 40: Score = 21.679685592651367\n",
      "Feature 41: Score = 10204.6201171875\n"
     ]
    },
    {
     "name": "stderr",
     "output_type": "stream",
     "text": [
      "C:\\gesture_recognition_by_image\\venv\\lib\\site-packages\\sklearn\\feature_selection\\_univariate_selection.py:112: UserWarning: Features [0 1] are constant.\n",
      "  warnings.warn(\"Features %s are constant.\" % constant_features_idx, UserWarning)\n",
      "C:\\gesture_recognition_by_image\\venv\\lib\\site-packages\\sklearn\\feature_selection\\_univariate_selection.py:113: RuntimeWarning: invalid value encountered in divide\n",
      "  f = msb / msw\n"
     ]
    }
   ],
   "source": [
    "from sklearn.feature_selection import SelectKBest\n",
    "from sklearn.feature_selection import f_classif\n",
    "\n",
    "# Perform feature selection\n",
    "selector = SelectKBest(score_func=f_classif, k='all')\n",
    "X_train_selected = selector.fit_transform(X_train, y_train)\n",
    "X_validation_selected = selector.transform(X_validation)\n",
    "\n",
    "# Get feature scores\n",
    "feature_scores = selector.scores_\n",
    "\n",
    "# Get indices of selected features\n",
    "selected_indices = selector.get_support(indices=True)\n",
    "\n",
    "# Print feature scores and their corresponding indices\n",
    "for i, score in enumerate(feature_scores):\n",
    "    if i in selected_indices:\n",
    "        print(f\"Feature {i}: Score = {score}\")"
   ],
   "metadata": {
    "collapsed": false
   }
  },
  {
   "cell_type": "code",
   "execution_count": 9,
   "outputs": [
    {
     "name": "stdout",
     "output_type": "stream",
     "text": [
      "WARNING:tensorflow:From C:\\gesture_recognition_by_image\\venv\\lib\\site-packages\\keras\\src\\backend.py:873: The name tf.get_default_graph is deprecated. Please use tf.compat.v1.get_default_graph instead.\n",
      "\n",
      "WARNING:tensorflow:From C:\\gesture_recognition_by_image\\venv\\lib\\site-packages\\keras\\src\\layers\\pooling\\max_pooling2d.py:161: The name tf.nn.max_pool is deprecated. Please use tf.nn.max_pool2d instead.\n",
      "\n"
     ]
    }
   ],
   "source": [
    "model = tf.keras.models.Sequential([\n",
    "    tf.keras.layers.Reshape((21, 2, 1), input_shape=(21 * 2, )),\n",
    "    tf.keras.layers.Conv2D(64, kernel_size=(3, 1), activation='relu', padding='same'),\n",
    "    tf.keras.layers.MaxPooling2D(pool_size=(2, 1)),\n",
    "    tf.keras.layers.Conv2D(128, kernel_size=(3, 1), activation='relu', padding='same'),\n",
    "    tf.keras.layers.MaxPooling2D(pool_size=(2, 1)),\n",
    "    tf.keras.layers.Flatten(),\n",
    "    tf.keras.layers.Dropout(0.2),\n",
    "    tf.keras.layers.Dense(256, activation='relu'),\n",
    "    tf.keras.layers.Dropout(0.4),\n",
    "    tf.keras.layers.Dense(256, activation='relu'),\n",
    "    tf.keras.layers.Dense(256, activation='relu'),\n",
    "    tf.keras.layers.Dense(64, activation='relu'),\n",
    "    tf.keras.layers.Dense(NUM_CLASSES, activation='softmax')\n",
    "])"
   ],
   "metadata": {
    "collapsed": false
   }
  },
  {
   "cell_type": "code",
   "execution_count": 10,
   "outputs": [
    {
     "name": "stdout",
     "output_type": "stream",
     "text": [
      "Model: \"sequential\"\n",
      "_________________________________________________________________\n",
      " Layer (type)                Output Shape              Param #   \n",
      "=================================================================\n",
      " reshape (Reshape)           (None, 21, 2, 1)          0         \n",
      "                                                                 \n",
      " conv2d (Conv2D)             (None, 21, 2, 64)         256       \n",
      "                                                                 \n",
      " max_pooling2d (MaxPooling2  (None, 10, 2, 64)         0         \n",
      " D)                                                              \n",
      "                                                                 \n",
      " conv2d_1 (Conv2D)           (None, 10, 2, 128)        24704     \n",
      "                                                                 \n",
      " max_pooling2d_1 (MaxPoolin  (None, 5, 2, 128)         0         \n",
      " g2D)                                                            \n",
      "                                                                 \n",
      " flatten (Flatten)           (None, 1280)              0         \n",
      "                                                                 \n",
      " dropout (Dropout)           (None, 1280)              0         \n",
      "                                                                 \n",
      " dense (Dense)               (None, 256)               327936    \n",
      "                                                                 \n",
      " dropout_1 (Dropout)         (None, 256)               0         \n",
      "                                                                 \n",
      " dense_1 (Dense)             (None, 256)               65792     \n",
      "                                                                 \n",
      " dense_2 (Dense)             (None, 256)               65792     \n",
      "                                                                 \n",
      " dense_3 (Dense)             (None, 64)                16448     \n",
      "                                                                 \n",
      " dense_4 (Dense)             (None, 26)                1690      \n",
      "                                                                 \n",
      "=================================================================\n",
      "Total params: 502618 (1.92 MB)\n",
      "Trainable params: 502618 (1.92 MB)\n",
      "Non-trainable params: 0 (0.00 Byte)\n",
      "_________________________________________________________________\n"
     ]
    }
   ],
   "source": [
    "model.summary()  # tf.keras.utils.plot_model(model, show_shapes=True)"
   ],
   "metadata": {
    "collapsed": false
   }
  },
  {
   "cell_type": "code",
   "execution_count": 11,
   "outputs": [],
   "source": [
    "# Model checkpoint callback\n",
    "cp_callback = tf.keras.callbacks.ModelCheckpoint(\n",
    "    model_save_path, verbose=1, save_weights_only=False)\n",
    "# Callback for early stopping\n",
    "es_callback = tf.keras.callbacks.EarlyStopping(patience=20, verbose=1)"
   ],
   "metadata": {
    "collapsed": false
   }
  },
  {
   "cell_type": "code",
   "execution_count": 12,
   "outputs": [
    {
     "name": "stdout",
     "output_type": "stream",
     "text": [
      "WARNING:tensorflow:From C:\\gesture_recognition_by_image\\venv\\lib\\site-packages\\keras\\src\\optimizers\\__init__.py:309: The name tf.train.Optimizer is deprecated. Please use tf.compat.v1.train.Optimizer instead.\n",
      "\n"
     ]
    }
   ],
   "source": [
    "# Model compilation\n",
    "model.compile(\n",
    "    optimizer='adam',\n",
    "    loss='sparse_categorical_crossentropy',\n",
    "    metrics=['accuracy']\n",
    ")"
   ],
   "metadata": {
    "collapsed": false
   }
  },
  {
   "cell_type": "markdown",
   "source": [
    "# Model training"
   ],
   "metadata": {
    "collapsed": false
   }
  },
  {
   "cell_type": "code",
   "execution_count": 13,
   "outputs": [
    {
     "name": "stdout",
     "output_type": "stream",
     "text": [
      "Epoch 1/1000\n",
      "WARNING:tensorflow:From C:\\gesture_recognition_by_image\\venv\\lib\\site-packages\\keras\\src\\utils\\tf_utils.py:492: The name tf.ragged.RaggedTensorValue is deprecated. Please use tf.compat.v1.ragged.RaggedTensorValue instead.\n",
      "\n",
      "WARNING:tensorflow:From C:\\gesture_recognition_by_image\\venv\\lib\\site-packages\\keras\\src\\engine\\base_layer_utils.py:384: The name tf.executing_eagerly_outside_functions is deprecated. Please use tf.compat.v1.executing_eagerly_outside_functions instead.\n",
      "\n",
      "102/105 [============================>.] - ETA: 0s - loss: 1.8049 - accuracy: 0.4003\n",
      "Epoch 1: saving model to new_hand_classifier.hdf5\n",
      "105/105 [==============================] - 3s 15ms/step - loss: 1.7737 - accuracy: 0.4100 - val_loss: 0.4731 - val_accuracy: 0.8453\n",
      "Epoch 2/1000\n",
      " 10/105 [=>............................] - ETA: 1s - loss: 0.6025 - accuracy: 0.7742"
     ]
    },
    {
     "name": "stderr",
     "output_type": "stream",
     "text": [
      "C:\\gesture_recognition_by_image\\venv\\lib\\site-packages\\keras\\src\\engine\\training.py:3103: UserWarning: You are saving your model as an HDF5 file via `model.save()`. This file format is considered legacy. We recommend using instead the native Keras format, e.g. `model.save('my_model.keras')`.\n",
      "  saving_api.save_model(\n"
     ]
    },
    {
     "name": "stdout",
     "output_type": "stream",
     "text": [
      "104/105 [============================>.] - ETA: 0s - loss: 0.3920 - accuracy: 0.8528\n",
      "Epoch 2: saving model to new_hand_classifier.hdf5\n",
      "105/105 [==============================] - 1s 13ms/step - loss: 0.3908 - accuracy: 0.8533 - val_loss: 0.1384 - val_accuracy: 0.9340\n",
      "Epoch 3/1000\n",
      "101/105 [===========================>..] - ETA: 0s - loss: 0.1979 - accuracy: 0.9273\n",
      "Epoch 3: saving model to new_hand_classifier.hdf5\n",
      "105/105 [==============================] - 1s 12ms/step - loss: 0.1966 - accuracy: 0.9279 - val_loss: 0.0533 - val_accuracy: 0.9908\n",
      "Epoch 4/1000\n",
      "102/105 [============================>.] - ETA: 0s - loss: 0.0993 - accuracy: 0.9678\n",
      "Epoch 4: saving model to new_hand_classifier.hdf5\n",
      "105/105 [==============================] - 1s 13ms/step - loss: 0.0985 - accuracy: 0.9680 - val_loss: 0.0297 - val_accuracy: 0.9920\n",
      "Epoch 5/1000\n",
      "103/105 [============================>.] - ETA: 0s - loss: 0.0639 - accuracy: 0.9806\n",
      "Epoch 5: saving model to new_hand_classifier.hdf5\n",
      "105/105 [==============================] - 1s 13ms/step - loss: 0.0640 - accuracy: 0.9807 - val_loss: 0.0200 - val_accuracy: 0.9960\n",
      "Epoch 6/1000\n",
      "102/105 [============================>.] - ETA: 0s - loss: 0.0558 - accuracy: 0.9823\n",
      "Epoch 6: saving model to new_hand_classifier.hdf5\n",
      "105/105 [==============================] - 1s 13ms/step - loss: 0.0555 - accuracy: 0.9826 - val_loss: 0.0189 - val_accuracy: 0.9967\n",
      "Epoch 7/1000\n",
      "101/105 [===========================>..] - ETA: 0s - loss: 0.0434 - accuracy: 0.9877\n",
      "Epoch 7: saving model to new_hand_classifier.hdf5\n",
      "105/105 [==============================] - 1s 13ms/step - loss: 0.0430 - accuracy: 0.9877 - val_loss: 0.0092 - val_accuracy: 0.9976\n",
      "Epoch 8/1000\n",
      "103/105 [============================>.] - ETA: 0s - loss: 0.0351 - accuracy: 0.9885\n",
      "Epoch 8: saving model to new_hand_classifier.hdf5\n",
      "105/105 [==============================] - 1s 13ms/step - loss: 0.0362 - accuracy: 0.9885 - val_loss: 0.0183 - val_accuracy: 0.9969\n",
      "Epoch 9/1000\n",
      "105/105 [==============================] - ETA: 0s - loss: 0.0315 - accuracy: 0.9914\n",
      "Epoch 9: saving model to new_hand_classifier.hdf5\n",
      "105/105 [==============================] - 1s 14ms/step - loss: 0.0315 - accuracy: 0.9914 - val_loss: 0.0090 - val_accuracy: 0.9976\n",
      "Epoch 10/1000\n",
      "105/105 [==============================] - ETA: 0s - loss: 0.0282 - accuracy: 0.9912\n",
      "Epoch 10: saving model to new_hand_classifier.hdf5\n",
      "105/105 [==============================] - 1s 13ms/step - loss: 0.0282 - accuracy: 0.9912 - val_loss: 0.0064 - val_accuracy: 0.9976\n",
      "Epoch 11/1000\n",
      "102/105 [============================>.] - ETA: 0s - loss: 0.0197 - accuracy: 0.9943\n",
      "Epoch 11: saving model to new_hand_classifier.hdf5\n",
      "105/105 [==============================] - 1s 13ms/step - loss: 0.0199 - accuracy: 0.9943 - val_loss: 0.0068 - val_accuracy: 0.9983\n",
      "Epoch 12/1000\n",
      "104/105 [============================>.] - ETA: 0s - loss: 0.0192 - accuracy: 0.9945\n",
      "Epoch 12: saving model to new_hand_classifier.hdf5\n",
      "105/105 [==============================] - 1s 14ms/step - loss: 0.0191 - accuracy: 0.9946 - val_loss: 0.0054 - val_accuracy: 0.9983\n",
      "Epoch 13/1000\n",
      "103/105 [============================>.] - ETA: 0s - loss: 0.0208 - accuracy: 0.9936\n",
      "Epoch 13: saving model to new_hand_classifier.hdf5\n",
      "105/105 [==============================] - 1s 13ms/step - loss: 0.0208 - accuracy: 0.9937 - val_loss: 0.0048 - val_accuracy: 0.9990\n",
      "Epoch 14/1000\n",
      "104/105 [============================>.] - ETA: 0s - loss: 0.0178 - accuracy: 0.9941\n",
      "Epoch 14: saving model to new_hand_classifier.hdf5\n",
      "105/105 [==============================] - 1s 13ms/step - loss: 0.0179 - accuracy: 0.9941 - val_loss: 0.0085 - val_accuracy: 0.9983\n",
      "Epoch 15/1000\n",
      "103/105 [============================>.] - ETA: 0s - loss: 0.0204 - accuracy: 0.9936\n",
      "Epoch 15: saving model to new_hand_classifier.hdf5\n",
      "105/105 [==============================] - 1s 13ms/step - loss: 0.0201 - accuracy: 0.9937 - val_loss: 0.0032 - val_accuracy: 0.9990\n",
      "Epoch 16/1000\n",
      "102/105 [============================>.] - ETA: 0s - loss: 0.0194 - accuracy: 0.9946\n",
      "Epoch 16: saving model to new_hand_classifier.hdf5\n",
      "105/105 [==============================] - 1s 13ms/step - loss: 0.0192 - accuracy: 0.9946 - val_loss: 0.0038 - val_accuracy: 0.9979\n",
      "Epoch 17/1000\n",
      "103/105 [============================>.] - ETA: 0s - loss: 0.0249 - accuracy: 0.9926\n",
      "Epoch 17: saving model to new_hand_classifier.hdf5\n",
      "105/105 [==============================] - 1s 13ms/step - loss: 0.0246 - accuracy: 0.9926 - val_loss: 0.0096 - val_accuracy: 0.9977\n",
      "Epoch 18/1000\n",
      "105/105 [==============================] - ETA: 0s - loss: 0.0144 - accuracy: 0.9961\n",
      "Epoch 18: saving model to new_hand_classifier.hdf5\n",
      "105/105 [==============================] - 1s 13ms/step - loss: 0.0144 - accuracy: 0.9961 - val_loss: 0.0154 - val_accuracy: 0.9977\n",
      "Epoch 19/1000\n",
      "101/105 [===========================>..] - ETA: 0s - loss: 0.0141 - accuracy: 0.9949\n",
      "Epoch 19: saving model to new_hand_classifier.hdf5\n",
      "105/105 [==============================] - 1s 13ms/step - loss: 0.0146 - accuracy: 0.9946 - val_loss: 0.0085 - val_accuracy: 0.9988\n",
      "Epoch 20/1000\n",
      "105/105 [==============================] - ETA: 0s - loss: 0.0122 - accuracy: 0.9964\n",
      "Epoch 20: saving model to new_hand_classifier.hdf5\n",
      "105/105 [==============================] - 1s 13ms/step - loss: 0.0122 - accuracy: 0.9964 - val_loss: 0.0067 - val_accuracy: 0.9983\n",
      "Epoch 21/1000\n",
      "101/105 [===========================>..] - ETA: 0s - loss: 0.0142 - accuracy: 0.9955\n",
      "Epoch 21: saving model to new_hand_classifier.hdf5\n",
      "105/105 [==============================] - 1s 13ms/step - loss: 0.0138 - accuracy: 0.9957 - val_loss: 0.0040 - val_accuracy: 0.9988\n",
      "Epoch 22/1000\n",
      "102/105 [============================>.] - ETA: 0s - loss: 0.0164 - accuracy: 0.9948\n",
      "Epoch 22: saving model to new_hand_classifier.hdf5\n",
      "105/105 [==============================] - 1s 13ms/step - loss: 0.0159 - accuracy: 0.9949 - val_loss: 0.0049 - val_accuracy: 0.9986\n",
      "Epoch 23/1000\n",
      "104/105 [============================>.] - ETA: 0s - loss: 0.0063 - accuracy: 0.9982\n",
      "Epoch 23: saving model to new_hand_classifier.hdf5\n",
      "105/105 [==============================] - 1s 13ms/step - loss: 0.0064 - accuracy: 0.9981 - val_loss: 0.0170 - val_accuracy: 0.9970\n",
      "Epoch 24/1000\n",
      "101/105 [===========================>..] - ETA: 0s - loss: 0.0108 - accuracy: 0.9965\n",
      "Epoch 24: saving model to new_hand_classifier.hdf5\n",
      "105/105 [==============================] - 1s 13ms/step - loss: 0.0106 - accuracy: 0.9967 - val_loss: 0.0017 - val_accuracy: 0.9997\n",
      "Epoch 25/1000\n",
      "101/105 [===========================>..] - ETA: 0s - loss: 0.0065 - accuracy: 0.9980\n",
      "Epoch 25: saving model to new_hand_classifier.hdf5\n",
      "105/105 [==============================] - 1s 13ms/step - loss: 0.0078 - accuracy: 0.9975 - val_loss: 0.0040 - val_accuracy: 0.9991\n",
      "Epoch 26/1000\n",
      "102/105 [============================>.] - ETA: 0s - loss: 0.0068 - accuracy: 0.9980\n",
      "Epoch 26: saving model to new_hand_classifier.hdf5\n",
      "105/105 [==============================] - 1s 14ms/step - loss: 0.0075 - accuracy: 0.9978 - val_loss: 0.0022 - val_accuracy: 0.9991\n",
      "Epoch 27/1000\n",
      "105/105 [==============================] - ETA: 0s - loss: 0.0191 - accuracy: 0.9929\n",
      "Epoch 27: saving model to new_hand_classifier.hdf5\n",
      "105/105 [==============================] - 1s 14ms/step - loss: 0.0191 - accuracy: 0.9929 - val_loss: 0.0057 - val_accuracy: 0.9988\n",
      "Epoch 28/1000\n",
      "104/105 [============================>.] - ETA: 0s - loss: 0.0154 - accuracy: 0.9951\n",
      "Epoch 28: saving model to new_hand_classifier.hdf5\n",
      "105/105 [==============================] - 2s 14ms/step - loss: 0.0153 - accuracy: 0.9952 - val_loss: 0.0014 - val_accuracy: 0.9993\n",
      "Epoch 29/1000\n",
      "103/105 [============================>.] - ETA: 0s - loss: 0.0074 - accuracy: 0.9976\n",
      "Epoch 29: saving model to new_hand_classifier.hdf5\n",
      "105/105 [==============================] - 2s 16ms/step - loss: 0.0075 - accuracy: 0.9976 - val_loss: 0.0021 - val_accuracy: 0.9991\n",
      "Epoch 30/1000\n",
      "102/105 [============================>.] - ETA: 0s - loss: 0.0134 - accuracy: 0.9956\n",
      "Epoch 30: saving model to new_hand_classifier.hdf5\n",
      "105/105 [==============================] - 1s 14ms/step - loss: 0.0132 - accuracy: 0.9956 - val_loss: 0.0014 - val_accuracy: 0.9991\n",
      "Epoch 31/1000\n",
      "103/105 [============================>.] - ETA: 0s - loss: 0.0092 - accuracy: 0.9975\n",
      "Epoch 31: saving model to new_hand_classifier.hdf5\n",
      "105/105 [==============================] - 1s 13ms/step - loss: 0.0090 - accuracy: 0.9975 - val_loss: 0.0010 - val_accuracy: 0.9997\n",
      "Epoch 32/1000\n",
      "103/105 [============================>.] - ETA: 0s - loss: 0.0065 - accuracy: 0.9976\n",
      "Epoch 32: saving model to new_hand_classifier.hdf5\n",
      "105/105 [==============================] - 1s 13ms/step - loss: 0.0064 - accuracy: 0.9977 - val_loss: 0.0063 - val_accuracy: 0.9986\n",
      "Epoch 33/1000\n",
      "102/105 [============================>.] - ETA: 0s - loss: 0.0069 - accuracy: 0.9975\n",
      "Epoch 33: saving model to new_hand_classifier.hdf5\n",
      "105/105 [==============================] - 1s 13ms/step - loss: 0.0068 - accuracy: 0.9975 - val_loss: 1.8773e-04 - val_accuracy: 1.0000\n",
      "Epoch 34/1000\n",
      "103/105 [============================>.] - ETA: 0s - loss: 0.0076 - accuracy: 0.9973\n",
      "Epoch 34: saving model to new_hand_classifier.hdf5\n",
      "105/105 [==============================] - 1s 13ms/step - loss: 0.0075 - accuracy: 0.9973 - val_loss: 0.0017 - val_accuracy: 0.9997\n",
      "Epoch 35/1000\n",
      "101/105 [===========================>..] - ETA: 0s - loss: 0.0087 - accuracy: 0.9975\n",
      "Epoch 35: saving model to new_hand_classifier.hdf5\n",
      "105/105 [==============================] - 1s 13ms/step - loss: 0.0086 - accuracy: 0.9975 - val_loss: 0.0032 - val_accuracy: 0.9995\n",
      "Epoch 36/1000\n",
      "105/105 [==============================] - ETA: 0s - loss: 0.0127 - accuracy: 0.9961\n",
      "Epoch 36: saving model to new_hand_classifier.hdf5\n",
      "105/105 [==============================] - 1s 14ms/step - loss: 0.0127 - accuracy: 0.9961 - val_loss: 0.0016 - val_accuracy: 0.9997\n",
      "Epoch 37/1000\n",
      "102/105 [============================>.] - ETA: 0s - loss: 0.0068 - accuracy: 0.9978\n",
      "Epoch 37: saving model to new_hand_classifier.hdf5\n",
      "105/105 [==============================] - 1s 14ms/step - loss: 0.0069 - accuracy: 0.9978 - val_loss: 4.1664e-04 - val_accuracy: 0.9997\n",
      "Epoch 38/1000\n",
      "101/105 [===========================>..] - ETA: 0s - loss: 0.0017 - accuracy: 0.9995\n",
      "Epoch 38: saving model to new_hand_classifier.hdf5\n",
      "105/105 [==============================] - 2s 16ms/step - loss: 0.0017 - accuracy: 0.9996 - val_loss: 0.0016 - val_accuracy: 0.9995\n",
      "Epoch 39/1000\n",
      "104/105 [============================>.] - ETA: 0s - loss: 0.0049 - accuracy: 0.9984\n",
      "Epoch 39: saving model to new_hand_classifier.hdf5\n",
      "105/105 [==============================] - 1s 13ms/step - loss: 0.0050 - accuracy: 0.9984 - val_loss: 0.0011 - val_accuracy: 0.9997\n",
      "Epoch 40/1000\n",
      "100/105 [===========================>..] - ETA: 0s - loss: 0.0076 - accuracy: 0.9976\n",
      "Epoch 40: saving model to new_hand_classifier.hdf5\n",
      "105/105 [==============================] - 1s 13ms/step - loss: 0.0080 - accuracy: 0.9973 - val_loss: 0.0020 - val_accuracy: 0.9990\n",
      "Epoch 41/1000\n",
      "103/105 [============================>.] - ETA: 0s - loss: 0.0095 - accuracy: 0.9970\n",
      "Epoch 41: saving model to new_hand_classifier.hdf5\n",
      "105/105 [==============================] - 1s 13ms/step - loss: 0.0094 - accuracy: 0.9971 - val_loss: 0.0084 - val_accuracy: 0.9988\n",
      "Epoch 42/1000\n",
      "102/105 [============================>.] - ETA: 0s - loss: 0.0034 - accuracy: 0.9989\n",
      "Epoch 42: saving model to new_hand_classifier.hdf5\n",
      "105/105 [==============================] - 1s 13ms/step - loss: 0.0035 - accuracy: 0.9988 - val_loss: 0.0036 - val_accuracy: 0.9993\n",
      "Epoch 43/1000\n",
      "102/105 [============================>.] - ETA: 0s - loss: 0.0097 - accuracy: 0.9974\n",
      "Epoch 43: saving model to new_hand_classifier.hdf5\n",
      "105/105 [==============================] - 1s 13ms/step - loss: 0.0094 - accuracy: 0.9975 - val_loss: 0.0022 - val_accuracy: 0.9997\n",
      "Epoch 44/1000\n",
      "103/105 [============================>.] - ETA: 0s - loss: 0.0023 - accuracy: 0.9992\n",
      "Epoch 44: saving model to new_hand_classifier.hdf5\n",
      "105/105 [==============================] - 1s 13ms/step - loss: 0.0022 - accuracy: 0.9993 - val_loss: 0.0016 - val_accuracy: 0.9997\n",
      "Epoch 45/1000\n",
      "105/105 [==============================] - ETA: 0s - loss: 0.0018 - accuracy: 0.9993\n",
      "Epoch 45: saving model to new_hand_classifier.hdf5\n",
      "105/105 [==============================] - 1s 14ms/step - loss: 0.0018 - accuracy: 0.9993 - val_loss: 0.0045 - val_accuracy: 0.9984\n",
      "Epoch 46/1000\n",
      "101/105 [===========================>..] - ETA: 0s - loss: 0.0036 - accuracy: 0.9988\n",
      "Epoch 46: saving model to new_hand_classifier.hdf5\n",
      "105/105 [==============================] - 1s 13ms/step - loss: 0.0035 - accuracy: 0.9989 - val_loss: 0.0013 - val_accuracy: 0.9997\n",
      "Epoch 47/1000\n",
      "103/105 [============================>.] - ETA: 0s - loss: 0.0010 - accuracy: 0.9998\n",
      "Epoch 47: saving model to new_hand_classifier.hdf5\n",
      "105/105 [==============================] - 1s 13ms/step - loss: 0.0010 - accuracy: 0.9999 - val_loss: 1.7006e-04 - val_accuracy: 1.0000\n",
      "Epoch 48/1000\n",
      "104/105 [============================>.] - ETA: 0s - loss: 0.0062 - accuracy: 0.9982\n",
      "Epoch 48: saving model to new_hand_classifier.hdf5\n",
      "105/105 [==============================] - 1s 14ms/step - loss: 0.0062 - accuracy: 0.9981 - val_loss: 2.4946e-04 - val_accuracy: 1.0000\n",
      "Epoch 49/1000\n",
      "103/105 [============================>.] - ETA: 0s - loss: 0.0098 - accuracy: 0.9972\n",
      "Epoch 49: saving model to new_hand_classifier.hdf5\n",
      "105/105 [==============================] - 1s 13ms/step - loss: 0.0101 - accuracy: 0.9972 - val_loss: 0.0022 - val_accuracy: 0.9990\n",
      "Epoch 50/1000\n",
      "104/105 [============================>.] - ETA: 0s - loss: 0.0084 - accuracy: 0.9974\n",
      "Epoch 50: saving model to new_hand_classifier.hdf5\n",
      "105/105 [==============================] - 1s 13ms/step - loss: 0.0083 - accuracy: 0.9975 - val_loss: 0.0289 - val_accuracy: 0.9950\n",
      "Epoch 51/1000\n",
      "100/105 [===========================>..] - ETA: 0s - loss: 0.0163 - accuracy: 0.9961\n",
      "Epoch 51: saving model to new_hand_classifier.hdf5\n",
      "105/105 [==============================] - 1s 13ms/step - loss: 0.0156 - accuracy: 0.9963 - val_loss: 0.0019 - val_accuracy: 0.9995\n",
      "Epoch 52/1000\n",
      "105/105 [==============================] - ETA: 0s - loss: 0.0033 - accuracy: 0.9987\n",
      "Epoch 52: saving model to new_hand_classifier.hdf5\n",
      "105/105 [==============================] - 1s 14ms/step - loss: 0.0033 - accuracy: 0.9987 - val_loss: 3.1099e-04 - val_accuracy: 0.9997\n",
      "Epoch 53/1000\n",
      "104/105 [============================>.] - ETA: 0s - loss: 0.0079 - accuracy: 0.9974\n",
      "Epoch 53: saving model to new_hand_classifier.hdf5\n",
      "105/105 [==============================] - 2s 14ms/step - loss: 0.0078 - accuracy: 0.9974 - val_loss: 7.3880e-04 - val_accuracy: 0.9998\n",
      "Epoch 54/1000\n",
      "102/105 [============================>.] - ETA: 0s - loss: 0.0087 - accuracy: 0.9976\n",
      "Epoch 54: saving model to new_hand_classifier.hdf5\n",
      "105/105 [==============================] - 1s 14ms/step - loss: 0.0086 - accuracy: 0.9977 - val_loss: 0.0012 - val_accuracy: 0.9993\n",
      "Epoch 55/1000\n",
      "104/105 [============================>.] - ETA: 0s - loss: 0.0022 - accuracy: 0.9995\n",
      "Epoch 55: saving model to new_hand_classifier.hdf5\n",
      "105/105 [==============================] - 1s 13ms/step - loss: 0.0022 - accuracy: 0.9995 - val_loss: 8.0522e-04 - val_accuracy: 0.9997\n",
      "Epoch 56/1000\n",
      "102/105 [============================>.] - ETA: 0s - loss: 0.0022 - accuracy: 0.9994\n",
      "Epoch 56: saving model to new_hand_classifier.hdf5\n",
      "105/105 [==============================] - 1s 14ms/step - loss: 0.0021 - accuracy: 0.9994 - val_loss: 0.0020 - val_accuracy: 0.9995\n",
      "Epoch 57/1000\n",
      "105/105 [==============================] - ETA: 0s - loss: 0.0036 - accuracy: 0.9990\n",
      "Epoch 57: saving model to new_hand_classifier.hdf5\n",
      "105/105 [==============================] - 1s 14ms/step - loss: 0.0036 - accuracy: 0.9990 - val_loss: 2.7827e-05 - val_accuracy: 1.0000\n",
      "Epoch 58/1000\n",
      "102/105 [============================>.] - ETA: 0s - loss: 0.0099 - accuracy: 0.9972\n",
      "Epoch 58: saving model to new_hand_classifier.hdf5\n",
      "105/105 [==============================] - 1s 14ms/step - loss: 0.0097 - accuracy: 0.9972 - val_loss: 0.0014 - val_accuracy: 0.9995\n",
      "Epoch 59/1000\n",
      "103/105 [============================>.] - ETA: 0s - loss: 0.0120 - accuracy: 0.9967\n",
      "Epoch 59: saving model to new_hand_classifier.hdf5\n",
      "105/105 [==============================] - 2s 14ms/step - loss: 0.0118 - accuracy: 0.9967 - val_loss: 0.0017 - val_accuracy: 0.9990\n",
      "Epoch 60/1000\n",
      "104/105 [============================>.] - ETA: 0s - loss: 0.0060 - accuracy: 0.9980\n",
      "Epoch 60: saving model to new_hand_classifier.hdf5\n",
      "105/105 [==============================] - 1s 14ms/step - loss: 0.0060 - accuracy: 0.9981 - val_loss: 0.0011 - val_accuracy: 0.9997\n",
      "Epoch 61/1000\n",
      "105/105 [==============================] - ETA: 0s - loss: 0.0026 - accuracy: 0.9990\n",
      "Epoch 61: saving model to new_hand_classifier.hdf5\n",
      "105/105 [==============================] - 1s 14ms/step - loss: 0.0026 - accuracy: 0.9990 - val_loss: 0.0012 - val_accuracy: 1.0000\n",
      "Epoch 62/1000\n",
      "105/105 [==============================] - ETA: 0s - loss: 0.0054 - accuracy: 0.9983\n",
      "Epoch 62: saving model to new_hand_classifier.hdf5\n",
      "105/105 [==============================] - 1s 14ms/step - loss: 0.0054 - accuracy: 0.9983 - val_loss: 0.0038 - val_accuracy: 0.9991\n",
      "Epoch 63/1000\n",
      "103/105 [============================>.] - ETA: 0s - loss: 0.0029 - accuracy: 0.9988\n",
      "Epoch 63: saving model to new_hand_classifier.hdf5\n",
      "105/105 [==============================] - 1s 13ms/step - loss: 0.0029 - accuracy: 0.9988 - val_loss: 0.0062 - val_accuracy: 0.9991\n",
      "Epoch 64/1000\n",
      "105/105 [==============================] - ETA: 0s - loss: 0.0036 - accuracy: 0.9991\n",
      "Epoch 64: saving model to new_hand_classifier.hdf5\n",
      "105/105 [==============================] - 2s 14ms/step - loss: 0.0036 - accuracy: 0.9991 - val_loss: 0.0029 - val_accuracy: 0.9988\n",
      "Epoch 65/1000\n",
      "104/105 [============================>.] - ETA: 0s - loss: 0.0052 - accuracy: 0.9983\n",
      "Epoch 65: saving model to new_hand_classifier.hdf5\n",
      "105/105 [==============================] - 1s 14ms/step - loss: 0.0052 - accuracy: 0.9983 - val_loss: 3.8157e-05 - val_accuracy: 1.0000\n",
      "Epoch 66/1000\n",
      "103/105 [============================>.] - ETA: 0s - loss: 9.1206e-04 - accuracy: 0.9996\n",
      "Epoch 66: saving model to new_hand_classifier.hdf5\n",
      "105/105 [==============================] - 1s 13ms/step - loss: 8.9539e-04 - accuracy: 0.9996 - val_loss: 3.8437e-05 - val_accuracy: 1.0000\n",
      "Epoch 67/1000\n",
      "101/105 [===========================>..] - ETA: 0s - loss: 0.0041 - accuracy: 0.9987\n",
      "Epoch 67: saving model to new_hand_classifier.hdf5\n",
      "105/105 [==============================] - 1s 13ms/step - loss: 0.0040 - accuracy: 0.9987 - val_loss: 3.4261e-05 - val_accuracy: 1.0000\n",
      "Epoch 68/1000\n",
      "101/105 [===========================>..] - ETA: 0s - loss: 0.0068 - accuracy: 0.9978\n",
      "Epoch 68: saving model to new_hand_classifier.hdf5\n",
      "105/105 [==============================] - 1s 13ms/step - loss: 0.0067 - accuracy: 0.9978 - val_loss: 0.0059 - val_accuracy: 0.9981\n",
      "Epoch 69/1000\n",
      "103/105 [============================>.] - ETA: 0s - loss: 0.0070 - accuracy: 0.9983\n",
      "Epoch 69: saving model to new_hand_classifier.hdf5\n",
      "105/105 [==============================] - 1s 14ms/step - loss: 0.0069 - accuracy: 0.9984 - val_loss: 3.0011e-04 - val_accuracy: 0.9998\n",
      "Epoch 70/1000\n",
      "105/105 [==============================] - ETA: 0s - loss: 0.0091 - accuracy: 0.9975\n",
      "Epoch 70: saving model to new_hand_classifier.hdf5\n",
      "105/105 [==============================] - 1s 13ms/step - loss: 0.0091 - accuracy: 0.9975 - val_loss: 6.2812e-05 - val_accuracy: 1.0000\n",
      "Epoch 71/1000\n",
      "102/105 [============================>.] - ETA: 0s - loss: 0.0101 - accuracy: 0.9969\n",
      "Epoch 71: saving model to new_hand_classifier.hdf5\n",
      "105/105 [==============================] - 1s 14ms/step - loss: 0.0105 - accuracy: 0.9969 - val_loss: 7.0809e-04 - val_accuracy: 1.0000\n",
      "Epoch 72/1000\n",
      "105/105 [==============================] - ETA: 0s - loss: 0.0072 - accuracy: 0.9980\n",
      "Epoch 72: saving model to new_hand_classifier.hdf5\n",
      "105/105 [==============================] - 1s 14ms/step - loss: 0.0072 - accuracy: 0.9980 - val_loss: 6.2734e-04 - val_accuracy: 0.9997\n",
      "Epoch 73/1000\n",
      "105/105 [==============================] - ETA: 0s - loss: 0.0057 - accuracy: 0.9986\n",
      "Epoch 73: saving model to new_hand_classifier.hdf5\n",
      "105/105 [==============================] - 1s 13ms/step - loss: 0.0057 - accuracy: 0.9986 - val_loss: 0.0024 - val_accuracy: 0.9993\n",
      "Epoch 74/1000\n",
      "104/105 [============================>.] - ETA: 0s - loss: 0.0059 - accuracy: 0.9986\n",
      "Epoch 74: saving model to new_hand_classifier.hdf5\n",
      "105/105 [==============================] - 1s 13ms/step - loss: 0.0058 - accuracy: 0.9986 - val_loss: 4.3000e-04 - val_accuracy: 0.9997\n",
      "Epoch 75/1000\n",
      "103/105 [============================>.] - ETA: 0s - loss: 8.3691e-04 - accuracy: 0.9998\n",
      "Epoch 75: saving model to new_hand_classifier.hdf5\n",
      "105/105 [==============================] - 1s 14ms/step - loss: 0.0011 - accuracy: 0.9996 - val_loss: 1.4705e-04 - val_accuracy: 1.0000\n",
      "Epoch 76/1000\n",
      "102/105 [============================>.] - ETA: 0s - loss: 0.0022 - accuracy: 0.9996\n",
      "Epoch 76: saving model to new_hand_classifier.hdf5\n",
      "105/105 [==============================] - 1s 13ms/step - loss: 0.0022 - accuracy: 0.9996 - val_loss: 0.0025 - val_accuracy: 0.9997\n",
      "Epoch 77/1000\n",
      "104/105 [============================>.] - ETA: 0s - loss: 0.0060 - accuracy: 0.9983\n",
      "Epoch 77: saving model to new_hand_classifier.hdf5\n",
      "105/105 [==============================] - 1s 14ms/step - loss: 0.0059 - accuracy: 0.9983 - val_loss: 4.9449e-04 - val_accuracy: 0.9998\n",
      "Epoch 77: early stopping\n"
     ]
    }
   ],
   "source": [
    "history = model.fit(\n",
    "    X_train,\n",
    "    y_train,\n",
    "    epochs=1000,\n",
    "    batch_size=128,\n",
    "    validation_data=(X_validation, y_validation),\n",
    "    callbacks=[cp_callback, es_callback]\n",
    ")"
   ],
   "metadata": {
    "collapsed": false
   }
  },
  {
   "cell_type": "code",
   "execution_count": 14,
   "outputs": [
    {
     "name": "stdout",
     "output_type": "stream",
     "text": [
      "19/19 [==============================] - 0s 5ms/step - loss: 0.2456 - accuracy: 0.9458\n"
     ]
    }
   ],
   "source": [
    "# Model evaluation\n",
    "val_loss, val_acc = model.evaluate(X_testGood, y_testGood, batch_size=128)"
   ],
   "metadata": {
    "collapsed": false
   }
  },
  {
   "cell_type": "code",
   "execution_count": 15,
   "outputs": [
    {
     "name": "stdout",
     "output_type": "stream",
     "text": [
      "19/19 [==============================] - 0s 4ms/step - loss: 1.3403 - accuracy: 0.7950\n"
     ]
    }
   ],
   "source": [
    "# Model evaluation\n",
    "val_loss, val_acc = model.evaluate(X_testBad, y_testBad, batch_size=128)"
   ],
   "metadata": {
    "collapsed": false
   }
  },
  {
   "cell_type": "code",
   "execution_count": 16,
   "outputs": [
    {
     "name": "stdout",
     "output_type": "stream",
     "text": [
      "19/19 [==============================] - 0s 4ms/step - loss: 0.7546 - accuracy: 0.8979\n"
     ]
    }
   ],
   "source": [
    "# Model evaluation\n",
    "val_loss, val_acc = model.evaluate(X_testDark, y_testDark, batch_size=128)"
   ],
   "metadata": {
    "collapsed": false
   }
  },
  {
   "cell_type": "code",
   "execution_count": 17,
   "outputs": [
    {
     "name": "stdout",
     "output_type": "stream",
     "text": [
      "38/38 [==============================] - 0s 4ms/step - loss: 0.2456 - accuracy: 0.9458\n"
     ]
    }
   ],
   "source": [],
   "metadata": {
    "collapsed": false
   }
  },
  {
   "cell_type": "code",
   "execution_count": 18,
   "outputs": [],
   "source": [
    "# Loading the saved model\n",
    "model = tf.keras.models.load_model(model_save_path)"
   ],
   "metadata": {
    "collapsed": false
   }
  },
  {
   "cell_type": "code",
   "execution_count": 19,
   "outputs": [
    {
     "name": "stdout",
     "output_type": "stream",
     "text": [
      "1/1 [==============================] - 0s 111ms/step\n",
      "[1.0000000e+00 0.0000000e+00 0.0000000e+00 7.6418227e-34 0.0000000e+00\n",
      " 0.0000000e+00 1.2454114e-25 2.8137445e-21 1.7287344e-31 0.0000000e+00\n",
      " 3.2516066e-31 6.4221022e-14 0.0000000e+00 1.4147929e-34 1.2309808e-27\n",
      " 7.0948272e-30 3.5796078e-23 0.0000000e+00 1.7292151e-32 4.5697521e-15\n",
      " 5.9242191e-38 0.0000000e+00 0.0000000e+00 4.2308030e-20 1.0179595e-21\n",
      " 0.0000000e+00]\n",
      "0\n"
     ]
    }
   ],
   "source": [
    "# Inference test\n",
    "predict_result = model.predict(np.array([X_testGood[0]]))\n",
    "print(np.squeeze(predict_result))\n",
    "print(np.argmax(np.squeeze(predict_result)))"
   ],
   "metadata": {
    "collapsed": false
   }
  },
  {
   "cell_type": "markdown",
   "source": [
    "# Confusion matrix"
   ],
   "metadata": {
    "collapsed": false
   }
  },
  {
   "cell_type": "code",
   "execution_count": 20,
   "outputs": [
    {
     "name": "stdout",
     "output_type": "stream",
     "text": [
      "75/75 [==============================] - 0s 2ms/step\n"
     ]
    },
    {
     "data": {
      "text/plain": "<Figure size 700x600 with 2 Axes>",
      "image/png": "[encoded data removed]"
     },
     "metadata": {},
     "output_type": "display_data"
    },
    {
     "name": "stdout",
     "output_type": "stream",
     "text": [
      "Classification Report\n",
      "              precision    recall  f1-score   support\n",
      "\n",
      "           0       1.00      1.00      1.00       100\n",
      "           1       1.00      1.00      1.00       100\n",
      "           2       1.00      1.00      1.00       100\n",
      "           3       1.00      1.00      1.00       100\n",
      "           4       1.00      1.00      1.00       100\n",
      "           5       1.00      1.00      1.00       100\n",
      "           6       1.00      1.00      1.00       100\n",
      "           7       1.00      1.00      1.00       100\n",
      "           8       1.00      1.00      1.00       100\n",
      "          10       1.00      1.00      1.00       100\n",
      "          11       1.00      1.00      1.00       100\n",
      "          12       1.00      1.00      1.00       100\n",
      "          13       1.00      1.00      1.00       100\n",
      "          14       1.00      1.00      1.00       100\n",
      "          15       1.00      1.00      1.00       100\n",
      "          16       1.00      1.00      1.00       100\n",
      "          17       0.62      0.50      0.56       100\n",
      "          18       1.00      1.00      1.00       100\n",
      "          19       1.00      1.00      1.00       100\n",
      "          20       0.58      0.70      0.64       100\n",
      "          21       0.67      1.00      0.80       100\n",
      "          22       1.00      0.50      0.67       100\n",
      "          23       1.00      1.00      1.00       100\n",
      "          24       1.00      1.00      1.00       100\n",
      "\n",
      "    accuracy                           0.95      2400\n",
      "   macro avg       0.95      0.95      0.94      2400\n",
      "weighted avg       0.95      0.95      0.94      2400\n",
      "\n"
     ]
    }
   ],
   "source": [
    "import pandas as pd\n",
    "import seaborn as sns\n",
    "import matplotlib.pyplot as plt\n",
    "from sklearn.metrics import confusion_matrix, classification_report\n",
    "\n",
    "def print_confusion_matrix(y_true, y_pred, report=True):\n",
    "    labels = sorted(list(set(y_true)))\n",
    "    cmx_data = confusion_matrix(y_true, y_pred, labels=labels)\n",
    "\n",
    "    df_cmx = pd.DataFrame(cmx_data, index=labels, columns=labels)\n",
    "\n",
    "    fig, ax = plt.subplots(figsize=(7, 6))\n",
    "    sns.heatmap(df_cmx, annot=True, fmt='g' ,square=False)\n",
    "    ax.set_ylim(len(set(y_true)), 0)\n",
    "    plt.show()\n",
    "\n",
    "    if report:\n",
    "        print('Classification Report')\n",
    "        print(classification_report(y_testGood, y_pred))\n",
    "\n",
    "Y_pred = model.predict(X_testGood)\n",
    "y_pred = np.argmax(Y_pred, axis=1)\n",
    "\n",
    "print_confusion_matrix(y_testGood, y_pred)"
   ],
   "metadata": {
    "collapsed": false
   }
  },
  {
   "cell_type": "markdown",
   "source": [
    "# Convert to model for Tensorflow-Lite"
   ],
   "metadata": {
    "collapsed": false
   }
  },
  {
   "cell_type": "code",
   "execution_count": 21,
   "outputs": [
    {
     "name": "stderr",
     "output_type": "stream",
     "text": [
      "C:\\gesture_recognition_by_image\\venv\\lib\\site-packages\\keras\\src\\engine\\training.py:3103: UserWarning: You are saving your model as an HDF5 file via `model.save()`. This file format is considered legacy. We recommend using instead the native Keras format, e.g. `model.save('my_model.keras')`.\n",
      "  saving_api.save_model(\n"
     ]
    }
   ],
   "source": [
    "# Save as a model dedicated to inference\n",
    "model.save(model_save_path, include_optimizer=False)"
   ],
   "metadata": {
    "collapsed": false
   }
  },
  {
   "cell_type": "code",
   "execution_count": 22,
   "outputs": [
    {
     "name": "stdout",
     "output_type": "stream",
     "text": [
      "INFO:tensorflow:Assets written to: C:\\Users\\joren\\AppData\\Local\\Temp\\tmpdj6vredb\\assets\n"
     ]
    },
    {
     "name": "stderr",
     "output_type": "stream",
     "text": [
      "INFO:tensorflow:Assets written to: C:\\Users\\joren\\AppData\\Local\\Temp\\tmpdj6vredb\\assets\n"
     ]
    },
    {
     "data": {
      "text/plain": "513904"
     },
     "execution_count": 22,
     "metadata": {},
     "output_type": "execute_result"
    }
   ],
   "source": [
    "# Transform model (quantization)\n",
    "\n",
    "converter = tf.lite.TFLiteConverter.from_keras_model(model)\n",
    "converter.optimizations = [tf.lite.Optimize.DEFAULT]\n",
    "tflite_quantized_model = converter.convert()\n",
    "\n",
    "open(tflite_save_path, 'wb').write(tflite_quantized_model)"
   ],
   "metadata": {
    "collapsed": false
   }
  },
  {
   "cell_type": "markdown",
   "source": [
    "# Inference test"
   ],
   "metadata": {
    "collapsed": false
   }
  },
  {
   "cell_type": "code",
   "execution_count": 23,
   "outputs": [],
   "source": [
    "interpreter = tf.lite.Interpreter(model_path=tflite_save_path)\n",
    "interpreter.allocate_tensors()"
   ],
   "metadata": {
    "collapsed": false
   }
  },
  {
   "cell_type": "code",
   "execution_count": 24,
   "outputs": [],
   "source": [
    "# Get I / O tensor\n",
    "input_details = interpreter.get_input_details()\n",
    "output_details = interpreter.get_output_details()"
   ],
   "metadata": {
    "collapsed": false
   }
  },
  {
   "cell_type": "code",
   "execution_count": 25,
   "outputs": [],
   "source": [
    "interpreter.set_tensor(input_details[0]['index'], np.array([X_testGood[0]]))"
   ],
   "metadata": {
    "collapsed": false
   }
  },
  {
   "cell_type": "code",
   "execution_count": 26,
   "outputs": [
    {
     "name": "stdout",
     "output_type": "stream",
     "text": [
      "CPU times: total: 0 ns\n",
      "Wall time: 0 ns\n"
     ]
    }
   ],
   "source": [
    "%%time\n",
    "# Inference implementation\n",
    "interpreter.invoke()\n",
    "tflite_results = interpreter.get_tensor(output_details[0]['index'])"
   ],
   "metadata": {
    "collapsed": false
   }
  },
  {
   "cell_type": "code",
   "execution_count": 27,
   "outputs": [
    {
     "name": "stdout",
     "output_type": "stream",
     "text": [
      "[1.0000000e+00 0.0000000e+00 1.6815582e-44 7.2029656e-34 0.0000000e+00\n",
      " 0.0000000e+00 9.6592480e-26 2.6977270e-21 1.3217301e-31 3.8373157e-41\n",
      " 2.5493153e-31 5.1290803e-14 2.8025969e-45 1.1352142e-34 8.8715286e-28\n",
      " 5.6871692e-30 4.4420978e-23 5.3529601e-43 1.2874377e-32 3.2445824e-15\n",
      " 3.9761788e-38 0.0000000e+00 1.1588738e-42 3.4389885e-20 9.9741776e-22\n",
      " 1.8397090e-38]\n",
      "0\n"
     ]
    }
   ],
   "source": [
    "print(np.squeeze(tflite_results))\n",
    "print(np.argmax(np.squeeze(tflite_results)))"
   ],
   "metadata": {
    "collapsed": false
   }
  },
  {
   "cell_type": "code",
   "execution_count": 28,
   "outputs": [
    {
     "name": "stderr",
     "output_type": "stream",
     "text": [
      "C:\\gesture_recognition_by_image\\venv\\lib\\site-packages\\keras\\src\\engine\\training.py:3103: UserWarning: You are saving your model as an HDF5 file via `model.save()`. This file format is considered legacy. We recommend using instead the native Keras format, e.g. `model.save('my_model.keras')`.\n",
      "  saving_api.save_model(\n"
     ]
    },
    {
     "name": "stdout",
     "output_type": "stream",
     "text": [
      "INFO:tensorflow:Assets written to: C:\\Users\\joren\\AppData\\Local\\Temp\\tmp3sixjqpm\\assets\n"
     ]
    },
    {
     "name": "stderr",
     "output_type": "stream",
     "text": [
      "INFO:tensorflow:Assets written to: C:\\Users\\joren\\AppData\\Local\\Temp\\tmp3sixjqpm\\assets\n"
     ]
    }
   ],
   "source": [
    "# Save the model\n",
    "model.save(model_save_path, include_optimizer=False)\n",
    "\n",
    "# Convert the model to TensorFlow Lite\n",
    "converter = tf.lite.TFLiteConverter.from_keras_model(model)\n",
    "converter.optimizations = [tf.lite.Optimize.DEFAULT]\n",
    "tflite_quantized_model = converter.convert()\n",
    "\n",
    "# Write the TFLite file\n",
    "with open(tflite_save_path, 'wb') as f:\n",
    "    f.write(tflite_quantized_model)"
   ],
   "metadata": {
    "collapsed": false
   }
  },
  {
   "cell_type": "markdown",
   "source": [
    "#### Loss  (cost)"
   ],
   "metadata": {
    "collapsed": false
   }
  },
  {
   "cell_type": "code",
   "execution_count": 29,
   "outputs": [
    {
     "data": {
      "text/plain": "<Figure size 640x480 with 1 Axes>",
      "image/png": "[encoded data removed]"
     },
     "metadata": {},
     "output_type": "display_data"
    }
   ],
   "source": [
    "plt.plot(history.history['loss'])\n",
    "plt.plot(history.history['val_loss'])\n",
    "plt.title('Model loss')\n",
    "plt.ylabel('Loss')\n",
    "plt.xlabel('Epoch')\n",
    "plt.legend(['Train', 'Validation'], loc='upper left')\n",
    "plt.show()"
   ],
   "metadata": {
    "collapsed": false
   }
  },
  {
   "cell_type": "code",
   "execution_count": 30,
   "outputs": [
    {
     "data": {
      "text/plain": "<Figure size 1200x600 with 2 Axes>",
      "image/png": "[encoded data removed]"
     },
     "metadata": {},
     "output_type": "display_data"
    }
   ],
   "source": [
    "plt.figure(figsize=(12, 6))\n",
    "\n",
    "# Plot training & validation loss values\n",
    "plt.subplot(2, 1, 1)\n",
    "plt.plot(history.history['loss'])\n",
    "plt.plot(history.history['val_loss'])\n",
    "plt.title('Model loss')\n",
    "plt.xlabel('Epoch')\n",
    "plt.ylabel('Loss')\n",
    "plt.legend(['Train', 'Validation'], loc='upper left')\n",
    "\n",
    "# Plot training & validation accuracy and F1 score values\n",
    "plt.subplot(2, 1, 2)\n",
    "plt.plot(history.history['accuracy'])\n",
    "plt.plot(history.history['val_accuracy'])\n",
    "plt.title('Model metrics')\n",
    "plt.xlabel('Epoch')\n",
    "plt.ylabel('Metric Value')\n",
    "plt.legend(['Train Accuracy', 'Validation Accuracy', 'F1 Score'], loc='upper left')\n",
    "\n",
    "plt.tight_layout()\n",
    "plt.show()"
   ],
   "metadata": {
    "collapsed": false
   }
  },
  {
   "cell_type": "code",
   "execution_count": 31,
   "outputs": [
    {
     "data": {
      "text/plain": "<Figure size 640x480 with 1 Axes>",
      "image/png": "[encoded data removed]"
     },
     "metadata": {},
     "output_type": "display_data"
    }
   ],
   "source": [
    "plt.plot(history.history['loss'], label='train')\n",
    "plt.plot(history.history['val_loss'], label='val')\n",
    "plt.title('Learning Curve')\n",
    "plt.xlabel('Epochs')\n",
    "plt.ylabel('Loss')\n",
    "plt.legend()\n",
    "plt.show()"
   ],
   "metadata": {
    "collapsed": false
   }
  },
  {
   "cell_type": "code",
   "execution_count": null,
   "outputs": [],
   "source": [],
   "metadata": {
    "collapsed": false,
    "pycharm": {
     "is_executing": true
    }
   }
  },
  {
   "cell_type": "code",
   "execution_count": 31,
   "outputs": [],
   "source": [],
   "metadata": {
    "collapsed": false
   }
  }
 ],
 "metadata": {
  "kernelspec": {
   "display_name": "Python 3",
   "language": "python",
   "name": "python3"
  },
  "language_info": {
   "codemirror_mode": {
    "name": "ipython",
    "version": 2
   },
   "file_extension": ".py",
   "mimetype": "text/x-python",
   "name": "python",
   "nbconvert_exporter": "python",
   "pygments_lexer": "ipython2",
   "version": "2.7.6"
  }
 },
 "nbformat": 4,
 "nbformat_minor": 0
}
