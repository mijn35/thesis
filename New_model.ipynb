{
 "cells": [
  {
   "cell_type": "code",
   "execution_count": 1,
   "outputs": [
    {
     "name": "stdout",
     "output_type": "stream",
     "text": [
      "WARNING:tensorflow:From C:\\gesture_recognition_by_image\\venv\\lib\\site-packages\\keras\\src\\losses.py:2976: The name tf.losses.sparse_softmax_cross_entropy is deprecated. Please use tf.compat.v1.losses.sparse_softmax_cross_entropy instead.\n",
      "\n"
     ]
    }
   ],
   "source": [
    "import csv\n",
    "\n",
    "import numpy as np\n",
    "import os\n",
    "import tensorflow as tf\n",
    "from tensorflow import keras\n",
    "from sklearn.model_selection import train_test_split\n",
    "import matplotlib.pyplot as plt\n",
    "\n",
    "RANDOM_SEED = 42"
   ],
   "metadata": {
    "collapsed": false
   }
  },
  {
   "cell_type": "markdown",
   "source": [
    "# Specify each path"
   ],
   "metadata": {
    "collapsed": false
   }
  },
  {
   "cell_type": "code",
   "execution_count": 2,
   "outputs": [],
   "source": [
    "#dataset_joren = 'camara_data/hand_landmarks_joren_family.csv'\n",
    "#dataset_joren_grandparents = 'camara_data/hand_landmarks_moeke.csv'\n",
    "dataset_testGood = 'camera_data_test/hand_landmarks_goodTest.csv'\n",
    "dataset_testBad = 'camera_data_test/hand_landmarks_badTest.csv'\n",
    "dataset_testDark = 'camera_data_test/hand_landmarks_darkTest.csv'\n",
    "dataset_hand_after_sign= 'camera_data_test/hand_landmarks_hand_behind_hand.csv'\n",
    "model_save_path = 'new_hand_classifier.keras'\n",
    "tflite_save_path = 'new_hand_classifier.tflite'"
   ],
   "metadata": {
    "collapsed": false
   }
  },
  {
   "cell_type": "markdown",
   "source": [
    "# Set number of classes"
   ],
   "metadata": {
    "collapsed": false
   }
  },
  {
   "cell_type": "code",
   "execution_count": 3,
   "outputs": [],
   "source": [
    "NUM_CLASSES = 26"
   ],
   "metadata": {
    "collapsed": false
   }
  },
  {
   "cell_type": "markdown",
   "source": [
    "# Dataset reading"
   ],
   "metadata": {
    "collapsed": false
   }
  },
  {
   "cell_type": "code",
   "execution_count": 4,
   "outputs": [],
   "source": [
    "# Directory containing CSV files\n",
    "directory = 'camera_data'\n",
    "\n",
    "# Initialize an empty list to store data from all files\n",
    "data = []\n",
    "\n",
    "# Loop through each file in the directory\n",
    "for filename in os.listdir(directory):\n",
    "    if filename.endswith(\".csv\"):\n",
    "        file_path = os.path.join(directory, filename)\n",
    "        # Load data from each file and append to the list\n",
    "        data.append(np.loadtxt(file_path, delimiter=',', dtype='float32', usecols=list(range(1, (21 * 2) + 1))))\n",
    "\n",
    "# Concatenate data from all files along the first axis\n",
    "X_dataset = np.concatenate(data, axis=0)\n",
    "X_testGood = np.loadtxt(dataset_testGood, delimiter=',', dtype='float32', usecols=list(range(1, (21 * 2) + 1)))\n",
    "X_testBad = np.loadtxt(dataset_testBad, delimiter=',', dtype='float32', usecols=list(range(1, (21 * 2) + 1)))\n",
    "X_testDark = np.loadtxt(dataset_testDark, delimiter=',', dtype='float32', usecols=list(range(1, (21 * 2) + 1)))\n",
    "X_test_hand_behind = np.loadtxt(dataset_hand_after_sign, delimiter=',', dtype='float32', usecols=list(range(1, (21 * 2) + 1)))"
   ],
   "metadata": {
    "collapsed": false
   }
  },
  {
   "cell_type": "code",
   "execution_count": 5,
   "outputs": [],
   "source": [
    "# Directory containing CSV files\n",
    "directory = 'camera_data'\n",
    "\n",
    "# Initialize an empty list to store data from all files\n",
    "data = []\n",
    "\n",
    "# Loop through each file in the directory\n",
    "for filename in os.listdir(directory):\n",
    "    if filename.endswith(\".csv\"):\n",
    "        file_path = os.path.join(directory, filename)\n",
    "        # Load data from each file and append to the list\n",
    "        data.append(np.loadtxt(file_path, delimiter=',', dtype='float32', usecols=(0)))\n",
    "\n",
    "# Concatenate data from all files along the first axis\n",
    "y_dataset = np.concatenate(data, axis=0)\n",
    "y_testGood = np.loadtxt(dataset_testGood, delimiter=',', dtype='int32', usecols=(0))\n",
    "y_testBad = np.loadtxt(dataset_testBad, delimiter=',', dtype='int32', usecols=(0))\n",
    "y_testDark = np.loadtxt(dataset_testDark, delimiter=',', dtype='int32', usecols=(0))\n",
    "y_test_hand_behind = np.loadtxt(dataset_hand_after_sign, delimiter=',', dtype='float32', usecols=(0))"
   ],
   "metadata": {
    "collapsed": false
   }
  },
  {
   "cell_type": "code",
   "execution_count": 6,
   "outputs": [
    {
     "name": "stdout",
     "output_type": "stream",
     "text": [
      "X_dataset shape: (26399, 42)\n",
      "y_dataset shape: (26399,)\n",
      "----------------------------------\n",
      "X_test_dataset_good shape: (2400, 42)\n",
      "y_test_dataset_good shape: (2400,)\n",
      "----------------------------------\n",
      "X_test_dataset_bad shape: (2400, 42)\n",
      "y_test_dataset_bad shape: (2400,)\n",
      "----------------------------------\n",
      "X_test_dataset_dark shape: (2400, 42)\n",
      "y_test_dataset_dark shape: (2400,)\n"
     ]
    }
   ],
   "source": [
    "print(\"X_dataset shape: \" + X_dataset.shape.__str__())\n",
    "print(\"y_dataset shape: \" + y_dataset.shape.__str__())\n",
    "print(\"----------------------------------\")\n",
    "print(\"X_test_dataset_good shape: \" + X_testGood.shape.__str__())\n",
    "print(\"y_test_dataset_good shape: \" + y_testGood.shape.__str__())\n",
    "print(\"----------------------------------\")\n",
    "print(\"X_test_dataset_bad shape: \" + X_testBad.shape.__str__())\n",
    "print(\"y_test_dataset_bad shape: \" + y_testBad.shape.__str__())\n",
    "print(\"----------------------------------\")\n",
    "print(\"X_test_dataset_dark shape: \" + X_testDark.shape.__str__())\n",
    "print(\"y_test_dataset_dark shape: \" + y_testDark.shape.__str__())\n"
   ],
   "metadata": {
    "collapsed": false
   }
  },
  {
   "cell_type": "code",
   "execution_count": 7,
   "outputs": [],
   "source": [
    "X_train, X_validation, y_train, y_validation = train_test_split(X_dataset, y_dataset, train_size=0.70, random_state=RANDOM_SEED)"
   ],
   "metadata": {
    "collapsed": false
   }
  },
  {
   "cell_type": "code",
   "execution_count": 8,
   "outputs": [
    {
     "name": "stdout",
     "output_type": "stream",
     "text": [
      "[[ 0.          0.          0.13946587 ... -0.6706231  -0.3620178\n",
      "  -0.79821956]\n",
      " [ 0.          0.         -0.26041666 ... -0.6197917  -0.47916666\n",
      "  -0.49739584]\n",
      " [ 0.          0.          0.2993197  ... -0.585034    0.30612245\n",
      "  -0.4727891 ]\n",
      " ...\n",
      " [ 0.          0.          0.21645021 ... -0.47619048 -0.08658009\n",
      "  -0.4025974 ]\n",
      " [ 0.          0.         -0.1891892  ... -0.5243243  -0.42162162\n",
      "  -0.45945945]\n",
      " [ 0.          0.          0.129771   ... -0.37150127 -0.09160306\n",
      "  -0.30025446]]\n"
     ]
    }
   ],
   "source": [
    "print(X_train)"
   ],
   "metadata": {
    "collapsed": false
   }
  },
  {
   "cell_type": "markdown",
   "source": [
    "# Model building"
   ],
   "metadata": {
    "collapsed": false
   }
  },
  {
   "cell_type": "code",
   "execution_count": 9,
   "outputs": [
    {
     "name": "stdout",
     "output_type": "stream",
     "text": [
      "Feature 0: Score = nan\n",
      "Feature 1: Score = nan\n",
      "Feature 2: Score = 0.9592323303222656\n",
      "Feature 3: Score = 1203.2501220703125\n",
      "Feature 4: Score = 2.0095818042755127\n",
      "Feature 5: Score = 1506.9266357421875\n",
      "Feature 6: Score = 2.996534824371338\n",
      "Feature 7: Score = 1669.0810546875\n",
      "Feature 8: Score = 3.3382956981658936\n",
      "Feature 9: Score = 1718.2596435546875\n",
      "Feature 10: Score = 7.94464635848999\n",
      "Feature 11: Score = 834.2915649414062\n",
      "Feature 12: Score = 5.066037654876709\n",
      "Feature 13: Score = 1591.3648681640625\n",
      "Feature 14: Score = 3.651585102081299\n",
      "Feature 15: Score = 2204.60546875\n",
      "Feature 16: Score = 3.5164573192596436\n",
      "Feature 17: Score = 2903.919921875\n",
      "Feature 18: Score = 15.926277160644531\n",
      "Feature 19: Score = 724.853515625\n",
      "Feature 20: Score = 8.172597885131836\n",
      "Feature 21: Score = 1820.3118896484375\n",
      "Feature 22: Score = 5.4311203956604\n",
      "Feature 23: Score = 2606.059814453125\n",
      "Feature 24: Score = 5.004454612731934\n",
      "Feature 25: Score = 3333.416015625\n",
      "Feature 26: Score = 20.67281723022461\n",
      "Feature 27: Score = 762.7506103515625\n",
      "Feature 28: Score = 9.57829761505127\n",
      "Feature 29: Score = 1802.6885986328125\n",
      "Feature 30: Score = 6.059165954589844\n",
      "Feature 31: Score = 2184.24267578125\n",
      "Feature 32: Score = 5.075547695159912\n",
      "Feature 33: Score = 2298.16748046875\n",
      "Feature 34: Score = 16.654436111450195\n",
      "Feature 35: Score = 805.6683349609375\n",
      "Feature 36: Score = 9.286852836608887\n",
      "Feature 37: Score = 1761.5457763671875\n",
      "Feature 38: Score = 6.071235656738281\n",
      "Feature 39: Score = 2449.07568359375\n",
      "Feature 40: Score = 4.6401591300964355\n",
      "Feature 41: Score = 2929.552734375\n"
     ]
    },
    {
     "name": "stderr",
     "output_type": "stream",
     "text": [
      "C:\\gesture_recognition_by_image\\venv\\lib\\site-packages\\sklearn\\feature_selection\\_univariate_selection.py:112: UserWarning: Features [0 1] are constant.\n",
      "  warnings.warn(\"Features %s are constant.\" % constant_features_idx, UserWarning)\n",
      "C:\\gesture_recognition_by_image\\venv\\lib\\site-packages\\sklearn\\feature_selection\\_univariate_selection.py:113: RuntimeWarning: invalid value encountered in divide\n",
      "  f = msb / msw\n"
     ]
    }
   ],
   "source": [
    "from sklearn.feature_selection import SelectKBest\n",
    "from sklearn.feature_selection import f_classif\n",
    "\n",
    "# Perform feature selection\n",
    "selector = SelectKBest(score_func=f_classif, k='all')\n",
    "X_train_selected = selector.fit_transform(X_train, y_train)\n",
    "X_validation_selected = selector.transform(X_validation)\n",
    "\n",
    "# Get feature scores\n",
    "feature_scores = selector.scores_\n",
    "\n",
    "# Get indices of selected features\n",
    "selected_indices = selector.get_support(indices=True)\n",
    "\n",
    "# Print feature scores and their corresponding indices\n",
    "for i, score in enumerate(feature_scores):\n",
    "    if i in selected_indices:\n",
    "        print(f\"Feature {i}: Score = {score}\")"
   ],
   "metadata": {
    "collapsed": false
   }
  },
  {
   "cell_type": "code",
   "execution_count": 10,
   "outputs": [
    {
     "name": "stdout",
     "output_type": "stream",
     "text": [
      "WARNING:tensorflow:From C:\\gesture_recognition_by_image\\venv\\lib\\site-packages\\keras\\src\\backend.py:873: The name tf.get_default_graph is deprecated. Please use tf.compat.v1.get_default_graph instead.\n",
      "\n",
      "WARNING:tensorflow:From C:\\gesture_recognition_by_image\\venv\\lib\\site-packages\\keras\\src\\layers\\pooling\\max_pooling2d.py:161: The name tf.nn.max_pool is deprecated. Please use tf.nn.max_pool2d instead.\n",
      "\n"
     ]
    }
   ],
   "source": [
    "model = tf.keras.models.Sequential([\n",
    "    tf.keras.layers.Reshape((21, 2, 1), input_shape=(21 * 2, )),\n",
    "    tf.keras.layers.Conv2D(32, kernel_size=(3, 1), activation='relu', padding='same'),\n",
    "    tf.keras.layers.MaxPooling2D(pool_size=(2, 1)),\n",
    "    tf.keras.layers.Conv2D(64, kernel_size=(3, 1), activation='relu', padding='same'),\n",
    "    tf.keras.layers.MaxPooling2D(pool_size=(2, 1)),\n",
    "    tf.keras.layers.Conv2D(128, kernel_size=(3, 1), activation='relu', padding='same'),\n",
    "    tf.keras.layers.MaxPooling2D(pool_size=(2, 1)),\n",
    "    tf.keras.layers.Flatten(),\n",
    "    tf.keras.layers.Dropout(0.2),\n",
    "    tf.keras.layers.Dense(256, activation='relu'),\n",
    "    tf.keras.layers.Dropout(0.4),\n",
    "    tf.keras.layers.Dense(128, activation='relu'),\n",
    "    tf.keras.layers.Dense(NUM_CLASSES, activation='softmax')\n",
    "])"
   ],
   "metadata": {
    "collapsed": false
   }
  },
  {
   "cell_type": "code",
   "execution_count": 11,
   "outputs": [
    {
     "name": "stdout",
     "output_type": "stream",
     "text": [
      "Model: \"sequential\"\n",
      "_________________________________________________________________\n",
      " Layer (type)                Output Shape              Param #   \n",
      "=================================================================\n",
      " reshape (Reshape)           (None, 21, 2, 1)          0         \n",
      "                                                                 \n",
      " conv2d (Conv2D)             (None, 21, 2, 32)         128       \n",
      "                                                                 \n",
      " max_pooling2d (MaxPooling2  (None, 10, 2, 32)         0         \n",
      " D)                                                              \n",
      "                                                                 \n",
      " conv2d_1 (Conv2D)           (None, 10, 2, 64)         6208      \n",
      "                                                                 \n",
      " max_pooling2d_1 (MaxPoolin  (None, 5, 2, 64)          0         \n",
      " g2D)                                                            \n",
      "                                                                 \n",
      " conv2d_2 (Conv2D)           (None, 5, 2, 128)         24704     \n",
      "                                                                 \n",
      " max_pooling2d_2 (MaxPoolin  (None, 2, 2, 128)         0         \n",
      " g2D)                                                            \n",
      "                                                                 \n",
      " flatten (Flatten)           (None, 512)               0         \n",
      "                                                                 \n",
      " dropout (Dropout)           (None, 512)               0         \n",
      "                                                                 \n",
      " dense (Dense)               (None, 256)               131328    \n",
      "                                                                 \n",
      " dropout_1 (Dropout)         (None, 256)               0         \n",
      "                                                                 \n",
      " dense_1 (Dense)             (None, 128)               32896     \n",
      "                                                                 \n",
      " dense_2 (Dense)             (None, 26)                3354      \n",
      "                                                                 \n",
      "=================================================================\n",
      "Total params: 198618 (775.85 KB)\n",
      "Trainable params: 198618 (775.85 KB)\n",
      "Non-trainable params: 0 (0.00 Byte)\n",
      "_________________________________________________________________\n"
     ]
    }
   ],
   "source": [
    "model.summary()  # tf.keras.utils.plot_model(model, show_shapes=True)"
   ],
   "metadata": {
    "collapsed": false
   }
  },
  {
   "cell_type": "code",
   "execution_count": 12,
   "outputs": [],
   "source": [
    "# Model checkpoint callback\n",
    "cp_callback = tf.keras.callbacks.ModelCheckpoint(\n",
    "    model_save_path, verbose=1, save_weights_only=False)\n",
    "# Callback for early stopping\n",
    "es_callback = tf.keras.callbacks.EarlyStopping(patience=20, verbose=1)"
   ],
   "metadata": {
    "collapsed": false
   }
  },
  {
   "cell_type": "code",
   "execution_count": 13,
   "outputs": [
    {
     "name": "stdout",
     "output_type": "stream",
     "text": [
      "WARNING:tensorflow:From C:\\gesture_recognition_by_image\\venv\\lib\\site-packages\\keras\\src\\optimizers\\__init__.py:309: The name tf.train.Optimizer is deprecated. Please use tf.compat.v1.train.Optimizer instead.\n",
      "\n"
     ]
    }
   ],
   "source": [
    "# Model compilation\n",
    "model.compile(\n",
    "    optimizer='adam',\n",
    "    loss='sparse_categorical_crossentropy',\n",
    "    metrics=['accuracy']\n",
    ")"
   ],
   "metadata": {
    "collapsed": false
   }
  },
  {
   "cell_type": "markdown",
   "source": [
    "# Model training"
   ],
   "metadata": {
    "collapsed": false
   }
  },
  {
   "cell_type": "code",
   "execution_count": 14,
   "outputs": [
    {
     "name": "stdout",
     "output_type": "stream",
     "text": [
      "Epoch 1/1000\n",
      "WARNING:tensorflow:From C:\\gesture_recognition_by_image\\venv\\lib\\site-packages\\keras\\src\\utils\\tf_utils.py:492: The name tf.ragged.RaggedTensorValue is deprecated. Please use tf.compat.v1.ragged.RaggedTensorValue instead.\n",
      "\n",
      "WARNING:tensorflow:From C:\\gesture_recognition_by_image\\venv\\lib\\site-packages\\keras\\src\\engine\\base_layer_utils.py:384: The name tf.executing_eagerly_outside_functions is deprecated. Please use tf.compat.v1.executing_eagerly_outside_functions instead.\n",
      "\n",
      "145/145 [==============================] - ETA: 0s - loss: 1.8979 - accuracy: 0.4039\n",
      "Epoch 1: saving model to new_hand_classifier.keras\n",
      "145/145 [==============================] - 7s 30ms/step - loss: 1.8979 - accuracy: 0.4039 - val_loss: 0.6383 - val_accuracy: 0.8164\n",
      "Epoch 2/1000\n",
      "144/145 [============================>.] - ETA: 0s - loss: 0.5512 - accuracy: 0.8196\n",
      "Epoch 2: saving model to new_hand_classifier.keras\n",
      "145/145 [==============================] - 2s 17ms/step - loss: 0.5505 - accuracy: 0.8199 - val_loss: 0.2547 - val_accuracy: 0.9187\n",
      "Epoch 3/1000\n",
      "143/145 [============================>.] - ETA: 0s - loss: 0.3139 - accuracy: 0.8930\n",
      "Epoch 3: saving model to new_hand_classifier.keras\n",
      "145/145 [==============================] - 2s 15ms/step - loss: 0.3138 - accuracy: 0.8930 - val_loss: 0.1516 - val_accuracy: 0.9533\n",
      "Epoch 4/1000\n",
      "142/145 [============================>.] - ETA: 0s - loss: 0.2146 - accuracy: 0.9283\n",
      "Epoch 4: saving model to new_hand_classifier.keras\n",
      "145/145 [==============================] - 2s 16ms/step - loss: 0.2137 - accuracy: 0.9286 - val_loss: 0.1130 - val_accuracy: 0.9646\n",
      "Epoch 5/1000\n",
      "141/145 [============================>.] - ETA: 0s - loss: 0.1575 - accuracy: 0.9482\n",
      "Epoch 5: saving model to new_hand_classifier.keras\n",
      "145/145 [==============================] - 2s 15ms/step - loss: 0.1569 - accuracy: 0.9484 - val_loss: 0.0885 - val_accuracy: 0.9701\n",
      "Epoch 6/1000\n",
      "144/145 [============================>.] - ETA: 0s - loss: 0.1315 - accuracy: 0.9575\n",
      "Epoch 6: saving model to new_hand_classifier.keras\n",
      "145/145 [==============================] - 2s 16ms/step - loss: 0.1313 - accuracy: 0.9576 - val_loss: 0.0551 - val_accuracy: 0.9866\n",
      "Epoch 7/1000\n",
      "144/145 [============================>.] - ETA: 0s - loss: 0.0980 - accuracy: 0.9674\n",
      "Epoch 7: saving model to new_hand_classifier.keras\n",
      "145/145 [==============================] - 2s 16ms/step - loss: 0.0978 - accuracy: 0.9675 - val_loss: 0.0432 - val_accuracy: 0.9900\n",
      "Epoch 8/1000\n",
      "144/145 [============================>.] - ETA: 0s - loss: 0.0874 - accuracy: 0.9718\n",
      "Epoch 8: saving model to new_hand_classifier.keras\n",
      "145/145 [==============================] - 2s 16ms/step - loss: 0.0873 - accuracy: 0.9719 - val_loss: 0.0528 - val_accuracy: 0.9832\n",
      "Epoch 9/1000\n",
      "141/145 [============================>.] - ETA: 0s - loss: 0.0701 - accuracy: 0.9781\n",
      "Epoch 9: saving model to new_hand_classifier.keras\n",
      "145/145 [==============================] - 2s 15ms/step - loss: 0.0697 - accuracy: 0.9782 - val_loss: 0.0261 - val_accuracy: 0.9938\n",
      "Epoch 10/1000\n",
      "144/145 [============================>.] - ETA: 0s - loss: 0.0617 - accuracy: 0.9797\n",
      "Epoch 10: saving model to new_hand_classifier.keras\n",
      "145/145 [==============================] - 2s 14ms/step - loss: 0.0618 - accuracy: 0.9796 - val_loss: 0.0267 - val_accuracy: 0.9938\n",
      "Epoch 11/1000\n",
      "143/145 [============================>.] - ETA: 0s - loss: 0.0511 - accuracy: 0.9835\n",
      "Epoch 11: saving model to new_hand_classifier.keras\n",
      "145/145 [==============================] - 2s 14ms/step - loss: 0.0514 - accuracy: 0.9835 - val_loss: 0.0202 - val_accuracy: 0.9966\n",
      "Epoch 12/1000\n",
      "140/145 [===========================>..] - ETA: 0s - loss: 0.0412 - accuracy: 0.9879\n",
      "Epoch 12: saving model to new_hand_classifier.keras\n",
      "145/145 [==============================] - 2s 17ms/step - loss: 0.0415 - accuracy: 0.9878 - val_loss: 0.0205 - val_accuracy: 0.9960\n",
      "Epoch 13/1000\n",
      "142/145 [============================>.] - ETA: 0s - loss: 0.0407 - accuracy: 0.9867\n",
      "Epoch 13: saving model to new_hand_classifier.keras\n",
      "145/145 [==============================] - 3s 20ms/step - loss: 0.0409 - accuracy: 0.9867 - val_loss: 0.0204 - val_accuracy: 0.9949\n",
      "Epoch 14/1000\n",
      "143/145 [============================>.] - ETA: 0s - loss: 0.0358 - accuracy: 0.9896\n",
      "Epoch 14: saving model to new_hand_classifier.keras\n",
      "145/145 [==============================] - 2s 15ms/step - loss: 0.0356 - accuracy: 0.9896 - val_loss: 0.0163 - val_accuracy: 0.9966\n",
      "Epoch 15/1000\n",
      "142/145 [============================>.] - ETA: 0s - loss: 0.0341 - accuracy: 0.9894\n",
      "Epoch 15: saving model to new_hand_classifier.keras\n",
      "145/145 [==============================] - 2s 14ms/step - loss: 0.0339 - accuracy: 0.9894 - val_loss: 0.0147 - val_accuracy: 0.9968\n",
      "Epoch 16/1000\n",
      "141/145 [============================>.] - ETA: 0s - loss: 0.0313 - accuracy: 0.9904\n",
      "Epoch 16: saving model to new_hand_classifier.keras\n",
      "145/145 [==============================] - 2s 15ms/step - loss: 0.0309 - accuracy: 0.9905 - val_loss: 0.0131 - val_accuracy: 0.9971\n",
      "Epoch 17/1000\n",
      "143/145 [============================>.] - ETA: 0s - loss: 0.0254 - accuracy: 0.9925\n",
      "Epoch 17: saving model to new_hand_classifier.keras\n",
      "145/145 [==============================] - 2s 16ms/step - loss: 0.0252 - accuracy: 0.9926 - val_loss: 0.0110 - val_accuracy: 0.9973\n",
      "Epoch 18/1000\n",
      "142/145 [============================>.] - ETA: 0s - loss: 0.0266 - accuracy: 0.9914\n",
      "Epoch 18: saving model to new_hand_classifier.keras\n",
      "145/145 [==============================] - 2s 14ms/step - loss: 0.0265 - accuracy: 0.9914 - val_loss: 0.0113 - val_accuracy: 0.9972\n",
      "Epoch 19/1000\n",
      "140/145 [===========================>..] - ETA: 0s - loss: 0.0239 - accuracy: 0.9932\n",
      "Epoch 19: saving model to new_hand_classifier.keras\n",
      "145/145 [==============================] - 2s 14ms/step - loss: 0.0241 - accuracy: 0.9932 - val_loss: 0.0094 - val_accuracy: 0.9977\n",
      "Epoch 20/1000\n",
      "141/145 [============================>.] - ETA: 0s - loss: 0.0248 - accuracy: 0.9921\n",
      "Epoch 20: saving model to new_hand_classifier.keras\n",
      "145/145 [==============================] - 2s 14ms/step - loss: 0.0249 - accuracy: 0.9920 - val_loss: 0.0136 - val_accuracy: 0.9973\n",
      "Epoch 21/1000\n",
      "141/145 [============================>.] - ETA: 0s - loss: 0.0215 - accuracy: 0.9929\n",
      "Epoch 21: saving model to new_hand_classifier.keras\n",
      "145/145 [==============================] - 2s 13ms/step - loss: 0.0215 - accuracy: 0.9929 - val_loss: 0.0148 - val_accuracy: 0.9941\n",
      "Epoch 22/1000\n",
      "142/145 [============================>.] - ETA: 0s - loss: 0.0196 - accuracy: 0.9939\n",
      "Epoch 22: saving model to new_hand_classifier.keras\n",
      "145/145 [==============================] - 2s 16ms/step - loss: 0.0194 - accuracy: 0.9939 - val_loss: 0.0070 - val_accuracy: 0.9981\n",
      "Epoch 23/1000\n",
      "144/145 [============================>.] - ETA: 0s - loss: 0.0218 - accuracy: 0.9929\n",
      "Epoch 23: saving model to new_hand_classifier.keras\n",
      "145/145 [==============================] - 2s 16ms/step - loss: 0.0218 - accuracy: 0.9929 - val_loss: 0.0121 - val_accuracy: 0.9967\n",
      "Epoch 24/1000\n",
      "144/145 [============================>.] - ETA: 0s - loss: 0.0233 - accuracy: 0.9923\n",
      "Epoch 24: saving model to new_hand_classifier.keras\n",
      "145/145 [==============================] - 2s 16ms/step - loss: 0.0233 - accuracy: 0.9923 - val_loss: 0.0169 - val_accuracy: 0.9947\n",
      "Epoch 25/1000\n",
      "145/145 [==============================] - ETA: 0s - loss: 0.0189 - accuracy: 0.9940\n",
      "Epoch 25: saving model to new_hand_classifier.keras\n",
      "145/145 [==============================] - 2s 13ms/step - loss: 0.0189 - accuracy: 0.9940 - val_loss: 0.0102 - val_accuracy: 0.9971\n",
      "Epoch 26/1000\n",
      "141/145 [============================>.] - ETA: 0s - loss: 0.0180 - accuracy: 0.9942\n",
      "Epoch 26: saving model to new_hand_classifier.keras\n",
      "145/145 [==============================] - 2s 14ms/step - loss: 0.0178 - accuracy: 0.9944 - val_loss: 0.0094 - val_accuracy: 0.9981\n",
      "Epoch 27/1000\n",
      "145/145 [==============================] - ETA: 0s - loss: 0.0156 - accuracy: 0.9957\n",
      "Epoch 27: saving model to new_hand_classifier.keras\n",
      "145/145 [==============================] - 2s 13ms/step - loss: 0.0156 - accuracy: 0.9957 - val_loss: 0.0088 - val_accuracy: 0.9975\n",
      "Epoch 28/1000\n",
      "141/145 [============================>.] - ETA: 0s - loss: 0.0137 - accuracy: 0.9957\n",
      "Epoch 28: saving model to new_hand_classifier.keras\n",
      "145/145 [==============================] - 2s 14ms/step - loss: 0.0137 - accuracy: 0.9958 - val_loss: 0.0079 - val_accuracy: 0.9982\n",
      "Epoch 29/1000\n",
      "145/145 [==============================] - ETA: 0s - loss: 0.0224 - accuracy: 0.9931\n",
      "Epoch 29: saving model to new_hand_classifier.keras\n",
      "145/145 [==============================] - 2s 15ms/step - loss: 0.0224 - accuracy: 0.9931 - val_loss: 0.0106 - val_accuracy: 0.9975\n",
      "Epoch 30/1000\n",
      "141/145 [============================>.] - ETA: 0s - loss: 0.0140 - accuracy: 0.9953\n",
      "Epoch 30: saving model to new_hand_classifier.keras\n",
      "145/145 [==============================] - 2s 14ms/step - loss: 0.0140 - accuracy: 0.9953 - val_loss: 0.0080 - val_accuracy: 0.9980\n",
      "Epoch 31/1000\n",
      "144/145 [============================>.] - ETA: 0s - loss: 0.0103 - accuracy: 0.9965\n",
      "Epoch 31: saving model to new_hand_classifier.keras\n",
      "145/145 [==============================] - 2s 13ms/step - loss: 0.0104 - accuracy: 0.9965 - val_loss: 0.0096 - val_accuracy: 0.9979\n",
      "Epoch 32/1000\n",
      "145/145 [==============================] - ETA: 0s - loss: 0.0188 - accuracy: 0.9940\n",
      "Epoch 32: saving model to new_hand_classifier.keras\n",
      "145/145 [==============================] - 2s 13ms/step - loss: 0.0188 - accuracy: 0.9940 - val_loss: 0.0074 - val_accuracy: 0.9985\n",
      "Epoch 33/1000\n",
      "142/145 [============================>.] - ETA: 0s - loss: 0.0172 - accuracy: 0.9950\n",
      "Epoch 33: saving model to new_hand_classifier.keras\n",
      "145/145 [==============================] - 2s 15ms/step - loss: 0.0172 - accuracy: 0.9950 - val_loss: 0.0084 - val_accuracy: 0.9979\n",
      "Epoch 34/1000\n",
      "141/145 [============================>.] - ETA: 0s - loss: 0.0111 - accuracy: 0.9961\n",
      "Epoch 34: saving model to new_hand_classifier.keras\n",
      "145/145 [==============================] - 2s 15ms/step - loss: 0.0115 - accuracy: 0.9961 - val_loss: 0.0104 - val_accuracy: 0.9961\n",
      "Epoch 35/1000\n",
      "142/145 [============================>.] - ETA: 0s - loss: 0.0133 - accuracy: 0.9963\n",
      "Epoch 35: saving model to new_hand_classifier.keras\n",
      "145/145 [==============================] - 2s 17ms/step - loss: 0.0132 - accuracy: 0.9963 - val_loss: 0.0101 - val_accuracy: 0.9980\n",
      "Epoch 36/1000\n",
      "141/145 [============================>.] - ETA: 0s - loss: 0.0190 - accuracy: 0.9942\n",
      "Epoch 36: saving model to new_hand_classifier.keras\n",
      "145/145 [==============================] - 3s 17ms/step - loss: 0.0190 - accuracy: 0.9943 - val_loss: 0.0088 - val_accuracy: 0.9977\n",
      "Epoch 37/1000\n",
      "142/145 [============================>.] - ETA: 0s - loss: 0.0173 - accuracy: 0.9952\n",
      "Epoch 37: saving model to new_hand_classifier.keras\n",
      "145/145 [==============================] - 2s 13ms/step - loss: 0.0173 - accuracy: 0.9951 - val_loss: 0.0071 - val_accuracy: 0.9984\n",
      "Epoch 38/1000\n",
      "145/145 [==============================] - ETA: 0s - loss: 0.0079 - accuracy: 0.9976\n",
      "Epoch 38: saving model to new_hand_classifier.keras\n",
      "145/145 [==============================] - 2s 14ms/step - loss: 0.0079 - accuracy: 0.9976 - val_loss: 0.0096 - val_accuracy: 0.9977\n",
      "Epoch 39/1000\n",
      "142/145 [============================>.] - ETA: 0s - loss: 0.0155 - accuracy: 0.9952\n",
      "Epoch 39: saving model to new_hand_classifier.keras\n",
      "145/145 [==============================] - 2s 15ms/step - loss: 0.0155 - accuracy: 0.9951 - val_loss: 0.0101 - val_accuracy: 0.9970\n",
      "Epoch 40/1000\n",
      "142/145 [============================>.] - ETA: 0s - loss: 0.0179 - accuracy: 0.9948\n",
      "Epoch 40: saving model to new_hand_classifier.keras\n",
      "145/145 [==============================] - 2s 13ms/step - loss: 0.0178 - accuracy: 0.9949 - val_loss: 0.0072 - val_accuracy: 0.9986\n",
      "Epoch 41/1000\n",
      "144/145 [============================>.] - ETA: 0s - loss: 0.0090 - accuracy: 0.9975\n",
      "Epoch 41: saving model to new_hand_classifier.keras\n",
      "145/145 [==============================] - 2s 12ms/step - loss: 0.0090 - accuracy: 0.9975 - val_loss: 0.0052 - val_accuracy: 0.9990\n",
      "Epoch 42/1000\n",
      "143/145 [============================>.] - ETA: 0s - loss: 0.0090 - accuracy: 0.9970\n",
      "Epoch 42: saving model to new_hand_classifier.keras\n",
      "145/145 [==============================] - 1s 10ms/step - loss: 0.0090 - accuracy: 0.9971 - val_loss: 0.0093 - val_accuracy: 0.9976\n",
      "Epoch 43/1000\n",
      "141/145 [============================>.] - ETA: 0s - loss: 0.0090 - accuracy: 0.9972\n",
      "Epoch 43: saving model to new_hand_classifier.keras\n",
      "145/145 [==============================] - 1s 10ms/step - loss: 0.0088 - accuracy: 0.9972 - val_loss: 0.0081 - val_accuracy: 0.9982\n",
      "Epoch 44/1000\n",
      "144/145 [============================>.] - ETA: 0s - loss: 0.0087 - accuracy: 0.9970\n",
      "Epoch 44: saving model to new_hand_classifier.keras\n",
      "145/145 [==============================] - 1s 10ms/step - loss: 0.0087 - accuracy: 0.9970 - val_loss: 0.0085 - val_accuracy: 0.9977\n",
      "Epoch 45/1000\n",
      "145/145 [==============================] - ETA: 0s - loss: 0.0095 - accuracy: 0.9972\n",
      "Epoch 45: saving model to new_hand_classifier.keras\n",
      "145/145 [==============================] - 1s 10ms/step - loss: 0.0095 - accuracy: 0.9972 - val_loss: 0.0093 - val_accuracy: 0.9977\n",
      "Epoch 46/1000\n",
      "145/145 [==============================] - ETA: 0s - loss: 0.0171 - accuracy: 0.9950\n",
      "Epoch 46: saving model to new_hand_classifier.keras\n",
      "145/145 [==============================] - 2s 10ms/step - loss: 0.0171 - accuracy: 0.9950 - val_loss: 0.0073 - val_accuracy: 0.9984\n",
      "Epoch 47/1000\n",
      "141/145 [============================>.] - ETA: 0s - loss: 0.0119 - accuracy: 0.9966\n",
      "Epoch 47: saving model to new_hand_classifier.keras\n",
      "145/145 [==============================] - 1s 10ms/step - loss: 0.0117 - accuracy: 0.9967 - val_loss: 0.0105 - val_accuracy: 0.9982\n",
      "Epoch 48/1000\n",
      "143/145 [============================>.] - ETA: 0s - loss: 0.0101 - accuracy: 0.9964\n",
      "Epoch 48: saving model to new_hand_classifier.keras\n",
      "145/145 [==============================] - 1s 10ms/step - loss: 0.0100 - accuracy: 0.9964 - val_loss: 0.0091 - val_accuracy: 0.9982\n",
      "Epoch 49/1000\n",
      "140/145 [===========================>..] - ETA: 0s - loss: 0.0104 - accuracy: 0.9966\n",
      "Epoch 49: saving model to new_hand_classifier.keras\n",
      "145/145 [==============================] - 1s 10ms/step - loss: 0.0102 - accuracy: 0.9967 - val_loss: 0.0065 - val_accuracy: 0.9989\n",
      "Epoch 50/1000\n",
      "140/145 [===========================>..] - ETA: 0s - loss: 0.0108 - accuracy: 0.9965\n",
      "Epoch 50: saving model to new_hand_classifier.keras\n",
      "145/145 [==============================] - 1s 10ms/step - loss: 0.0109 - accuracy: 0.9965 - val_loss: 0.0118 - val_accuracy: 0.9968\n",
      "Epoch 51/1000\n",
      "139/145 [===========================>..] - ETA: 0s - loss: 0.0103 - accuracy: 0.9969\n",
      "Epoch 51: saving model to new_hand_classifier.keras\n",
      "145/145 [==============================] - 1s 10ms/step - loss: 0.0104 - accuracy: 0.9969 - val_loss: 0.0083 - val_accuracy: 0.9985\n",
      "Epoch 52/1000\n",
      "143/145 [============================>.] - ETA: 0s - loss: 0.0079 - accuracy: 0.9974\n",
      "Epoch 52: saving model to new_hand_classifier.keras\n",
      "145/145 [==============================] - 1s 10ms/step - loss: 0.0079 - accuracy: 0.9974 - val_loss: 0.0062 - val_accuracy: 0.9989\n",
      "Epoch 53/1000\n",
      "144/145 [============================>.] - ETA: 0s - loss: 0.0106 - accuracy: 0.9964\n",
      "Epoch 53: saving model to new_hand_classifier.keras\n",
      "145/145 [==============================] - 2s 11ms/step - loss: 0.0105 - accuracy: 0.9964 - val_loss: 0.0077 - val_accuracy: 0.9987\n",
      "Epoch 54/1000\n",
      "141/145 [============================>.] - ETA: 0s - loss: 0.0079 - accuracy: 0.9979\n",
      "Epoch 54: saving model to new_hand_classifier.keras\n",
      "145/145 [==============================] - 2s 10ms/step - loss: 0.0078 - accuracy: 0.9979 - val_loss: 0.0064 - val_accuracy: 0.9987\n",
      "Epoch 55/1000\n",
      "139/145 [===========================>..] - ETA: 0s - loss: 0.0048 - accuracy: 0.9984\n",
      "Epoch 55: saving model to new_hand_classifier.keras\n",
      "145/145 [==============================] - 1s 10ms/step - loss: 0.0048 - accuracy: 0.9984 - val_loss: 0.0083 - val_accuracy: 0.9977\n",
      "Epoch 56/1000\n",
      "141/145 [============================>.] - ETA: 0s - loss: 0.0065 - accuracy: 0.9978\n",
      "Epoch 56: saving model to new_hand_classifier.keras\n",
      "145/145 [==============================] - 1s 10ms/step - loss: 0.0064 - accuracy: 0.9978 - val_loss: 0.0056 - val_accuracy: 0.9990\n",
      "Epoch 57/1000\n",
      "142/145 [============================>.] - ETA: 0s - loss: 0.0081 - accuracy: 0.9975\n",
      "Epoch 57: saving model to new_hand_classifier.keras\n",
      "145/145 [==============================] - 2s 11ms/step - loss: 0.0080 - accuracy: 0.9976 - val_loss: 0.0067 - val_accuracy: 0.9986\n",
      "Epoch 58/1000\n",
      "139/145 [===========================>..] - ETA: 0s - loss: 0.0139 - accuracy: 0.9957\n",
      "Epoch 58: saving model to new_hand_classifier.keras\n",
      "145/145 [==============================] - 1s 10ms/step - loss: 0.0138 - accuracy: 0.9958 - val_loss: 0.0067 - val_accuracy: 0.9985\n",
      "Epoch 59/1000\n",
      "144/145 [============================>.] - ETA: 0s - loss: 0.0103 - accuracy: 0.9968\n",
      "Epoch 59: saving model to new_hand_classifier.keras\n",
      "145/145 [==============================] - 1s 10ms/step - loss: 0.0103 - accuracy: 0.9968 - val_loss: 0.0105 - val_accuracy: 0.9977\n",
      "Epoch 60/1000\n",
      "141/145 [============================>.] - ETA: 0s - loss: 0.0129 - accuracy: 0.9962\n",
      "Epoch 60: saving model to new_hand_classifier.keras\n",
      "145/145 [==============================] - 1s 10ms/step - loss: 0.0126 - accuracy: 0.9963 - val_loss: 0.0063 - val_accuracy: 0.9986\n",
      "Epoch 61/1000\n",
      "144/145 [============================>.] - ETA: 0s - loss: 0.0118 - accuracy: 0.9964\n",
      "Epoch 61: saving model to new_hand_classifier.keras\n",
      "145/145 [==============================] - 1s 10ms/step - loss: 0.0118 - accuracy: 0.9964 - val_loss: 0.0081 - val_accuracy: 0.9989\n",
      "Epoch 61: early stopping\n"
     ]
    }
   ],
   "source": [
    "history = model.fit(\n",
    "    X_train,\n",
    "    y_train,\n",
    "    epochs=1000,\n",
    "    batch_size=128,\n",
    "    validation_data=(X_validation, y_validation),\n",
    "    callbacks=[cp_callback, es_callback]\n",
    ")"
   ],
   "metadata": {
    "collapsed": false
   }
  },
  {
   "cell_type": "code",
   "execution_count": 15,
   "outputs": [
    {
     "name": "stdout",
     "output_type": "stream",
     "text": [
      "19/19 [==============================] - 0s 4ms/step - loss: 0.2420 - accuracy: 0.9667\n"
     ]
    }
   ],
   "source": [
    "# Model evaluation\n",
    "val_loss, val_acc = model.evaluate(X_testGood, y_testGood, batch_size=128)"
   ],
   "metadata": {
    "collapsed": false
   }
  },
  {
   "cell_type": "code",
   "execution_count": 16,
   "outputs": [
    {
     "name": "stdout",
     "output_type": "stream",
     "text": [
      "19/19 [==============================] - 0s 3ms/step - loss: 2.3675 - accuracy: 0.8012\n"
     ]
    }
   ],
   "source": [
    "# Model evaluation\n",
    "val_loss, val_acc = model.evaluate(X_testBad, y_testBad, batch_size=128)"
   ],
   "metadata": {
    "collapsed": false
   }
  },
  {
   "cell_type": "markdown",
   "source": [],
   "metadata": {
    "collapsed": false
   }
  },
  {
   "cell_type": "code",
   "execution_count": 17,
   "outputs": [
    {
     "name": "stdout",
     "output_type": "stream",
     "text": [
      "19/19 [==============================] - 0s 4ms/step - loss: 1.6043 - accuracy: 0.8512\n"
     ]
    }
   ],
   "source": [
    "# Model evaluation\n",
    "val_loss, val_acc = model.evaluate(X_testDark, y_testDark, batch_size=128)"
   ],
   "metadata": {
    "collapsed": false
   }
  },
  {
   "cell_type": "code",
   "execution_count": 18,
   "outputs": [
    {
     "name": "stdout",
     "output_type": "stream",
     "text": [
      "19/19 [==============================] - 0s 3ms/step - loss: 6.1993 - accuracy: 0.6438\n"
     ]
    }
   ],
   "source": [
    "val_loss, val_acc = model.evaluate(X_test_hand_behind, y_test_hand_behind, batch_size=128)"
   ],
   "metadata": {
    "collapsed": false
   }
  },
  {
   "cell_type": "code",
   "execution_count": 19,
   "outputs": [],
   "source": [
    "# Loading the saved model\n",
    "model = tf.keras.models.load_model(model_save_path)"
   ],
   "metadata": {
    "collapsed": false
   }
  },
  {
   "cell_type": "code",
   "execution_count": 20,
   "outputs": [
    {
     "name": "stdout",
     "output_type": "stream",
     "text": [
      "1/1 [==============================] - 0s 111ms/step\n",
      "[1.0000000e+00 0.0000000e+00 1.2979471e-31 0.0000000e+00 0.0000000e+00\n",
      " 0.0000000e+00 0.0000000e+00 7.3823617e-35 0.0000000e+00 0.0000000e+00\n",
      " 0.0000000e+00 2.8880704e-31 9.9353767e-28 1.0800094e-29 1.5246075e-24\n",
      " 5.7550756e-26 5.7285160e-23 0.0000000e+00 8.2014647e-38 1.2069431e-24\n",
      " 0.0000000e+00 0.0000000e+00 1.3569919e-24 2.3435592e-35 9.8045143e-26\n",
      " 0.0000000e+00]\n",
      "0\n"
     ]
    }
   ],
   "source": [
    "# Inference test\n",
    "predict_result = model.predict(np.array([X_testGood[0]]))\n",
    "print(np.squeeze(predict_result))\n",
    "print(np.argmax(np.squeeze(predict_result)))"
   ],
   "metadata": {
    "collapsed": false
   }
  },
  {
   "cell_type": "markdown",
   "source": [
    "# Confusion matrix"
   ],
   "metadata": {
    "collapsed": false
   }
  },
  {
   "cell_type": "code",
   "execution_count": 21,
   "outputs": [
    {
     "name": "stdout",
     "output_type": "stream",
     "text": [
      "75/75 [==============================] - 0s 2ms/step\n"
     ]
    },
    {
     "data": {
      "text/plain": "<Figure size 700x600 with 2 Axes>",
      "image/png": "[encoded data removed]"
     },
     "metadata": {},
     "output_type": "display_data"
    },
    {
     "name": "stdout",
     "output_type": "stream",
     "text": [
      "Classification Report\n",
      "              precision    recall  f1-score   support\n",
      "\n",
      "           0       1.00      1.00      1.00       100\n",
      "           1       1.00      1.00      1.00       100\n",
      "           2       1.00      1.00      1.00       100\n",
      "           3       1.00      1.00      1.00       100\n",
      "           4       1.00      1.00      1.00       100\n",
      "           5       1.00      1.00      1.00       100\n",
      "           6       1.00      1.00      1.00       100\n",
      "           7       1.00      0.52      0.68       100\n",
      "           8       1.00      1.00      1.00       100\n",
      "          10       1.00      0.90      0.95       100\n",
      "          11       1.00      1.00      1.00       100\n",
      "          12       1.00      1.00      1.00       100\n",
      "          13       1.00      1.00      1.00       100\n",
      "          14       1.00      1.00      1.00       100\n",
      "          15       1.00      1.00      1.00       100\n",
      "          16       1.00      1.00      1.00       100\n",
      "          17       0.62      0.78      0.69       100\n",
      "          18       1.00      1.00      1.00       100\n",
      "          19       1.00      1.00      1.00       100\n",
      "          20       0.82      1.00      0.90       100\n",
      "          21       0.91      1.00      0.95       100\n",
      "          22       1.00      1.00      1.00       100\n",
      "          23       1.00      1.00      1.00       100\n",
      "          24       1.00      1.00      1.00       100\n",
      "\n",
      "    accuracy                           0.97      2400\n",
      "   macro avg       0.97      0.97      0.97      2400\n",
      "weighted avg       0.97      0.97      0.97      2400\n",
      "\n"
     ]
    }
   ],
   "source": [
    "import pandas as pd\n",
    "import seaborn as sns\n",
    "import matplotlib.pyplot as plt\n",
    "from sklearn.metrics import confusion_matrix, classification_report\n",
    "\n",
    "def print_confusion_matrix(y_true, y_pred, report=True):\n",
    "    labels = sorted(list(set(y_true)))\n",
    "    cmx_data = confusion_matrix(y_true, y_pred, labels=labels)\n",
    "\n",
    "    df_cmx = pd.DataFrame(cmx_data, index=labels, columns=labels)\n",
    "\n",
    "    fig, ax = plt.subplots(figsize=(7, 6))\n",
    "    sns.heatmap(df_cmx, annot=True, fmt='g' ,square=False)\n",
    "    ax.set_ylim(len(set(y_true)), 0)\n",
    "    plt.show()\n",
    "\n",
    "    if report:\n",
    "        print('Classification Report')\n",
    "        print(classification_report(y_testGood, y_pred))\n",
    "\n",
    "Y_pred = model.predict(X_testGood)\n",
    "y_pred = np.argmax(Y_pred, axis=1)\n",
    "\n",
    "print_confusion_matrix(y_testGood, y_pred)"
   ],
   "metadata": {
    "collapsed": false
   }
  },
  {
   "cell_type": "markdown",
   "source": [
    "# Convert to model for Tensorflow-Lite"
   ],
   "metadata": {
    "collapsed": false
   }
  },
  {
   "cell_type": "code",
   "execution_count": 22,
   "outputs": [
    {
     "ename": "ValueError",
     "evalue": "The following argument(s) are not supported with the native Keras format: ['include_optimizer']",
     "output_type": "error",
     "traceback": [
      "\u001B[1;31m---------------------------------------------------------------------------\u001B[0m",
      "\u001B[1;31mValueError\u001B[0m                                Traceback (most recent call last)",
      "Cell \u001B[1;32mIn[22], line 2\u001B[0m\n\u001B[0;32m      1\u001B[0m \u001B[38;5;66;03m# Save as a model dedicated to inference\u001B[39;00m\n\u001B[1;32m----> 2\u001B[0m \u001B[43mmodel\u001B[49m\u001B[38;5;241;43m.\u001B[39;49m\u001B[43msave\u001B[49m\u001B[43m(\u001B[49m\u001B[43mmodel_save_path\u001B[49m\u001B[43m,\u001B[49m\u001B[43m \u001B[49m\u001B[43minclude_optimizer\u001B[49m\u001B[38;5;241;43m=\u001B[39;49m\u001B[38;5;28;43;01mFalse\u001B[39;49;00m\u001B[43m)\u001B[49m\n",
      "File \u001B[1;32mC:\\gesture_recognition_by_image\\venv\\lib\\site-packages\\keras\\src\\utils\\traceback_utils.py:70\u001B[0m, in \u001B[0;36mfilter_traceback.<locals>.error_handler\u001B[1;34m(*args, **kwargs)\u001B[0m\n\u001B[0;32m     67\u001B[0m     filtered_tb \u001B[38;5;241m=\u001B[39m _process_traceback_frames(e\u001B[38;5;241m.\u001B[39m__traceback__)\n\u001B[0;32m     68\u001B[0m     \u001B[38;5;66;03m# To get the full stack trace, call:\u001B[39;00m\n\u001B[0;32m     69\u001B[0m     \u001B[38;5;66;03m# `tf.debugging.disable_traceback_filtering()`\u001B[39;00m\n\u001B[1;32m---> 70\u001B[0m     \u001B[38;5;28;01mraise\u001B[39;00m e\u001B[38;5;241m.\u001B[39mwith_traceback(filtered_tb) \u001B[38;5;28;01mfrom\u001B[39;00m \u001B[38;5;28;01mNone\u001B[39;00m\n\u001B[0;32m     71\u001B[0m \u001B[38;5;28;01mfinally\u001B[39;00m:\n\u001B[0;32m     72\u001B[0m     \u001B[38;5;28;01mdel\u001B[39;00m filtered_tb\n",
      "File \u001B[1;32mC:\\gesture_recognition_by_image\\venv\\lib\\site-packages\\keras\\src\\saving\\saving_api.py:160\u001B[0m, in \u001B[0;36msave_model\u001B[1;34m(model, filepath, overwrite, save_format, **kwargs)\u001B[0m\n\u001B[0;32m    158\u001B[0m             \u001B[38;5;28;01mreturn\u001B[39;00m\n\u001B[0;32m    159\u001B[0m     \u001B[38;5;28;01mif\u001B[39;00m kwargs:\n\u001B[1;32m--> 160\u001B[0m         \u001B[38;5;28;01mraise\u001B[39;00m \u001B[38;5;167;01mValueError\u001B[39;00m(\n\u001B[0;32m    161\u001B[0m             \u001B[38;5;124m\"\u001B[39m\u001B[38;5;124mThe following argument(s) are not supported \u001B[39m\u001B[38;5;124m\"\u001B[39m\n\u001B[0;32m    162\u001B[0m             \u001B[38;5;124mf\u001B[39m\u001B[38;5;124m\"\u001B[39m\u001B[38;5;124mwith the native Keras format: \u001B[39m\u001B[38;5;132;01m{\u001B[39;00m\u001B[38;5;28mlist\u001B[39m(kwargs\u001B[38;5;241m.\u001B[39mkeys())\u001B[38;5;132;01m}\u001B[39;00m\u001B[38;5;124m\"\u001B[39m\n\u001B[0;32m    163\u001B[0m         )\n\u001B[0;32m    164\u001B[0m     saving_lib\u001B[38;5;241m.\u001B[39msave_model(model, filepath)\n\u001B[0;32m    165\u001B[0m \u001B[38;5;28;01melse\u001B[39;00m:\n\u001B[0;32m    166\u001B[0m     \u001B[38;5;66;03m# Legacy case\u001B[39;00m\n",
      "\u001B[1;31mValueError\u001B[0m: The following argument(s) are not supported with the native Keras format: ['include_optimizer']"
     ]
    }
   ],
   "source": [
    "# Save as a model dedicated to inference\n",
    "model.save(model_save_path, include_optimizer=False)"
   ],
   "metadata": {
    "collapsed": false
   }
  },
  {
   "cell_type": "code",
   "execution_count": 23,
   "outputs": [
    {
     "name": "stdout",
     "output_type": "stream",
     "text": [
      "INFO:tensorflow:Assets written to: testkeras\\assets\n"
     ]
    },
    {
     "name": "stderr",
     "output_type": "stream",
     "text": [
      "INFO:tensorflow:Assets written to: testkeras\\assets\n"
     ]
    }
   ],
   "source": [
    "tf.saved_model.save(model, \"testkeras\")"
   ],
   "metadata": {
    "collapsed": false
   }
  },
  {
   "cell_type": "code",
   "execution_count": 33,
   "outputs": [
    {
     "name": "stdout",
     "output_type": "stream",
     "text": [
      "INFO:tensorflow:Assets written to: C:\\Users\\joren\\AppData\\Local\\Temp\\tmp5jrkrsac\\assets\n"
     ]
    },
    {
     "name": "stderr",
     "output_type": "stream",
     "text": [
      "INFO:tensorflow:Assets written to: C:\\Users\\joren\\AppData\\Local\\Temp\\tmp5jrkrsac\\assets\n"
     ]
    }
   ],
   "source": [
    "# Transform model (quantization)\n",
    "\n",
    "converter = tf.lite.TFLiteConverter.from_keras_model(model)\n",
    "#converter.optimizations = [tf.lite.Optimize.DEFAULT]\n",
    "tflite_quantized_model = converter.convert()\n",
    "\n",
    "with open(tflite_save_path, 'wb') as f:\n",
    "    f.write(tflite_quantized_model)"
   ],
   "metadata": {
    "collapsed": false
   }
  },
  {
   "cell_type": "markdown",
   "source": [
    "# Inference test"
   ],
   "metadata": {
    "collapsed": false
   }
  },
  {
   "cell_type": "code",
   "execution_count": 25,
   "outputs": [],
   "source": [
    "interpreter = tf.lite.Interpreter(model_path=tflite_save_path)\n",
    "interpreter.allocate_tensors()"
   ],
   "metadata": {
    "collapsed": false
   }
  },
  {
   "cell_type": "code",
   "execution_count": 26,
   "outputs": [],
   "source": [
    "# Get I / O tensor\n",
    "input_details = interpreter.get_input_details()\n",
    "output_details = interpreter.get_output_details()"
   ],
   "metadata": {
    "collapsed": false
   }
  },
  {
   "cell_type": "code",
   "execution_count": 27,
   "outputs": [],
   "source": [
    "interpreter.set_tensor(input_details[0]['index'], np.array([X_testGood[0]]))"
   ],
   "metadata": {
    "collapsed": false
   }
  },
  {
   "cell_type": "code",
   "execution_count": 28,
   "outputs": [
    {
     "name": "stdout",
     "output_type": "stream",
     "text": [
      "CPU times: total: 0 ns\n",
      "Wall time: 963 µs\n"
     ]
    }
   ],
   "source": [
    "%%time\n",
    "# Inference implementation\n",
    "interpreter.invoke()\n",
    "tflite_results = interpreter.get_tensor(output_details[0]['index'])"
   ],
   "metadata": {
    "collapsed": false
   }
  },
  {
   "cell_type": "code",
   "execution_count": 29,
   "outputs": [
    {
     "name": "stdout",
     "output_type": "stream",
     "text": [
      "[1.0000000e+00 0.0000000e+00 1.2979369e-31 4.9322903e-41 0.0000000e+00\n",
      " 0.0000000e+00 0.0000000e+00 7.3823599e-35 2.0751829e-41 2.8025969e-45\n",
      " 1.3312335e-43 2.8880476e-31 9.9354123e-28 1.0800093e-29 1.5245958e-24\n",
      " 5.7550756e-26 5.7284940e-23 0.0000000e+00 8.2014008e-38 1.2069336e-24\n",
      " 3.5032462e-44 0.0000000e+00 1.3569816e-24 2.3435407e-35 9.8044755e-26\n",
      " 7.1469024e-41]\n",
      "0\n"
     ]
    }
   ],
   "source": [
    "print(np.squeeze(tflite_results))\n",
    "print(np.argmax(np.squeeze(tflite_results)))"
   ],
   "metadata": {
    "collapsed": false
   }
  },
  {
   "cell_type": "code",
   "execution_count": 34,
   "outputs": [
    {
     "ename": "ValueError",
     "evalue": "The following argument(s) are not supported with the native Keras format: ['include_optimizer']",
     "output_type": "error",
     "traceback": [
      "\u001B[1;31m---------------------------------------------------------------------------\u001B[0m",
      "\u001B[1;31mValueError\u001B[0m                                Traceback (most recent call last)",
      "Cell \u001B[1;32mIn[34], line 2\u001B[0m\n\u001B[0;32m      1\u001B[0m \u001B[38;5;66;03m# Save the model\u001B[39;00m\n\u001B[1;32m----> 2\u001B[0m \u001B[43mmodel\u001B[49m\u001B[38;5;241;43m.\u001B[39;49m\u001B[43msave\u001B[49m\u001B[43m(\u001B[49m\u001B[43mmodel_save_path\u001B[49m\u001B[43m,\u001B[49m\u001B[43m \u001B[49m\u001B[43minclude_optimizer\u001B[49m\u001B[38;5;241;43m=\u001B[39;49m\u001B[38;5;28;43;01mFalse\u001B[39;49;00m\u001B[43m)\u001B[49m\n\u001B[0;32m      4\u001B[0m \u001B[38;5;66;03m# Convert the model to TensorFlow Lite\u001B[39;00m\n\u001B[0;32m      5\u001B[0m converter \u001B[38;5;241m=\u001B[39m tf\u001B[38;5;241m.\u001B[39mlite\u001B[38;5;241m.\u001B[39mTFLiteConverter\u001B[38;5;241m.\u001B[39mfrom_keras_model(model)\n",
      "File \u001B[1;32mC:\\gesture_recognition_by_image\\venv\\lib\\site-packages\\keras\\src\\utils\\traceback_utils.py:70\u001B[0m, in \u001B[0;36mfilter_traceback.<locals>.error_handler\u001B[1;34m(*args, **kwargs)\u001B[0m\n\u001B[0;32m     67\u001B[0m     filtered_tb \u001B[38;5;241m=\u001B[39m _process_traceback_frames(e\u001B[38;5;241m.\u001B[39m__traceback__)\n\u001B[0;32m     68\u001B[0m     \u001B[38;5;66;03m# To get the full stack trace, call:\u001B[39;00m\n\u001B[0;32m     69\u001B[0m     \u001B[38;5;66;03m# `tf.debugging.disable_traceback_filtering()`\u001B[39;00m\n\u001B[1;32m---> 70\u001B[0m     \u001B[38;5;28;01mraise\u001B[39;00m e\u001B[38;5;241m.\u001B[39mwith_traceback(filtered_tb) \u001B[38;5;28;01mfrom\u001B[39;00m \u001B[38;5;28;01mNone\u001B[39;00m\n\u001B[0;32m     71\u001B[0m \u001B[38;5;28;01mfinally\u001B[39;00m:\n\u001B[0;32m     72\u001B[0m     \u001B[38;5;28;01mdel\u001B[39;00m filtered_tb\n",
      "File \u001B[1;32mC:\\gesture_recognition_by_image\\venv\\lib\\site-packages\\keras\\src\\saving\\saving_api.py:160\u001B[0m, in \u001B[0;36msave_model\u001B[1;34m(model, filepath, overwrite, save_format, **kwargs)\u001B[0m\n\u001B[0;32m    158\u001B[0m             \u001B[38;5;28;01mreturn\u001B[39;00m\n\u001B[0;32m    159\u001B[0m     \u001B[38;5;28;01mif\u001B[39;00m kwargs:\n\u001B[1;32m--> 160\u001B[0m         \u001B[38;5;28;01mraise\u001B[39;00m \u001B[38;5;167;01mValueError\u001B[39;00m(\n\u001B[0;32m    161\u001B[0m             \u001B[38;5;124m\"\u001B[39m\u001B[38;5;124mThe following argument(s) are not supported \u001B[39m\u001B[38;5;124m\"\u001B[39m\n\u001B[0;32m    162\u001B[0m             \u001B[38;5;124mf\u001B[39m\u001B[38;5;124m\"\u001B[39m\u001B[38;5;124mwith the native Keras format: \u001B[39m\u001B[38;5;132;01m{\u001B[39;00m\u001B[38;5;28mlist\u001B[39m(kwargs\u001B[38;5;241m.\u001B[39mkeys())\u001B[38;5;132;01m}\u001B[39;00m\u001B[38;5;124m\"\u001B[39m\n\u001B[0;32m    163\u001B[0m         )\n\u001B[0;32m    164\u001B[0m     saving_lib\u001B[38;5;241m.\u001B[39msave_model(model, filepath)\n\u001B[0;32m    165\u001B[0m \u001B[38;5;28;01melse\u001B[39;00m:\n\u001B[0;32m    166\u001B[0m     \u001B[38;5;66;03m# Legacy case\u001B[39;00m\n",
      "\u001B[1;31mValueError\u001B[0m: The following argument(s) are not supported with the native Keras format: ['include_optimizer']"
     ]
    }
   ],
   "source": [
    "# Save the model\n",
    "model.save(model_save_path, include_optimizer=False)\n",
    "\n",
    "# Convert the model to TensorFlow Lite\n",
    "converter = tf.lite.TFLiteConverter.from_keras_model(model)\n",
    "#converter.optimizations = [tf.lite.Optimize.DEFAULT]\n",
    "tflite_quantized_model = converter.convert()\n",
    "\n",
    "# Write the TFLite file\n",
    "with open(tflite_save_path, 'wb') as f:\n",
    "    f.write(tflite_quantized_model)"
   ],
   "metadata": {
    "collapsed": false
   }
  },
  {
   "cell_type": "markdown",
   "source": [
    "#### Loss  (cost)"
   ],
   "metadata": {
    "collapsed": false
   }
  },
  {
   "cell_type": "code",
   "execution_count": 35,
   "outputs": [
    {
     "data": {
      "text/plain": "<Figure size 640x480 with 1 Axes>",
      "image/png": "[encoded data removed]"
     },
     "metadata": {},
     "output_type": "display_data"
    }
   ],
   "source": [
    "plt.plot(history.history['loss'])\n",
    "plt.plot(history.history['val_loss'])\n",
    "plt.title('Model loss')\n",
    "plt.ylabel('Loss')\n",
    "plt.xlabel('Epoch')\n",
    "plt.legend(['Train', 'Validation'], loc='upper left')\n",
    "plt.show()"
   ],
   "metadata": {
    "collapsed": false
   }
  },
  {
   "cell_type": "code",
   "execution_count": 31,
   "outputs": [
    {
     "data": {
      "text/plain": "<Figure size 1200x600 with 2 Axes>",
      "image/png": "[encoded data removed]"
     },
     "metadata": {},
     "output_type": "display_data"
    }
   ],
   "source": [
    "plt.figure(figsize=(12, 6))\n",
    "\n",
    "# Plot training & validation loss values\n",
    "plt.subplot(2, 1, 1)\n",
    "plt.plot(history.history['loss'])\n",
    "plt.plot(history.history['val_loss'])\n",
    "plt.title('Model loss')\n",
    "plt.xlabel('Epoch')\n",
    "plt.ylabel('Loss')\n",
    "plt.legend(['Train', 'Validation'], loc='upper left')\n",
    "\n",
    "# Plot training & validation accuracy and F1 score values\n",
    "plt.subplot(2, 1, 2)\n",
    "plt.plot(history.history['accuracy'])\n",
    "plt.plot(history.history['val_accuracy'])\n",
    "plt.title('Model metrics')\n",
    "plt.xlabel('Epoch')\n",
    "plt.ylabel('Metric Value')\n",
    "plt.legend(['Train Accuracy', 'Validation Accuracy', 'F1 Score'], loc='upper left')\n",
    "\n",
    "plt.tight_layout()\n",
    "plt.show()"
   ],
   "metadata": {
    "collapsed": false
   }
  },
  {
   "cell_type": "code",
   "execution_count": 32,
   "outputs": [
    {
     "data": {
      "text/plain": "<Figure size 640x480 with 1 Axes>",
      "image/png": "[encoded data removed]"
     },
     "metadata": {},
     "output_type": "display_data"
    }
   ],
   "source": [
    "plt.plot(history.history['loss'], label='train')\n",
    "plt.plot(history.history['val_loss'], label='val')\n",
    "plt.title('Learning Curve')\n",
    "plt.xlabel('Epochs')\n",
    "plt.ylabel('Loss')\n",
    "plt.legend()\n",
    "plt.show()"
   ],
   "metadata": {
    "collapsed": false
   }
  },
  {
   "cell_type": "code",
   "execution_count": null,
   "outputs": [],
   "source": [],
   "metadata": {
    "collapsed": false
   }
  },
  {
   "cell_type": "code",
   "execution_count": null,
   "outputs": [],
   "source": [],
   "metadata": {
    "collapsed": false
   }
  },
  {
   "cell_type": "code",
   "execution_count": null,
   "outputs": [],
   "source": [],
   "metadata": {
    "collapsed": false
   }
  }
 ],
 "metadata": {
  "kernelspec": {
   "display_name": "Python 3",
   "language": "python",
   "name": "python3"
  },
  "language_info": {
   "codemirror_mode": {
    "name": "ipython",
    "version": 2
   },
   "file_extension": ".py",
   "mimetype": "text/x-python",
   "name": "python",
   "nbconvert_exporter": "python",
   "pygments_lexer": "ipython2",
   "version": "2.7.6"
  }
 },
 "nbformat": 4,
 "nbformat_minor": 0
}
