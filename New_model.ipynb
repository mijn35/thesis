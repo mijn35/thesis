{
 "cells": [
  {
   "cell_type": "code",
   "execution_count": 27,
   "outputs": [],
   "source": [
    "import csv\n",
    "\n",
    "import numpy as np\n",
    "import tensorflow as tf\n",
    "from tensorflow import keras\n",
    "from sklearn.model_selection import train_test_split\n",
    "import matplotlib.pyplot as plt\n",
    "\n",
    "RANDOM_SEED = 42"
   ],
   "metadata": {
    "collapsed": false
   }
  },
  {
   "cell_type": "markdown",
   "source": [
    "# Specify each path"
   ],
   "metadata": {
    "collapsed": false
   }
  },
  {
   "cell_type": "code",
   "execution_count": 2,
   "outputs": [],
   "source": [
    "dataset = 'hand_landmarks.csv'\n",
    "#model_save_path = 'model/keypoint_classifier/keypoint_classifier.hdf5'\n",
    "#tflite_save_path = 'model/keypoint_classifier/keypoint_classifier.tflite'\n",
    "model_save_path = 'new_hand_classifier.hdf5'\n",
    "tflite_save_path = 'new_hand_classifier.tflite'"
   ],
   "metadata": {
    "collapsed": false
   }
  },
  {
   "cell_type": "markdown",
   "source": [
    "# Set number of classes"
   ],
   "metadata": {
    "collapsed": false
   }
  },
  {
   "cell_type": "code",
   "execution_count": 3,
   "outputs": [],
   "source": [
    "NUM_CLASSES = 26"
   ],
   "metadata": {
    "collapsed": false
   }
  },
  {
   "cell_type": "markdown",
   "source": [
    "# Dataset reading"
   ],
   "metadata": {
    "collapsed": false
   }
  },
  {
   "cell_type": "code",
   "execution_count": 4,
   "outputs": [],
   "source": [
    "X_dataset = np.loadtxt(dataset, delimiter=',', dtype='float32', usecols=list(range(1, (21 * 2) + 1)))"
   ],
   "metadata": {
    "collapsed": false
   }
  },
  {
   "cell_type": "code",
   "execution_count": 5,
   "outputs": [],
   "source": [
    "y_dataset = np.loadtxt(dataset, delimiter=',', dtype='int32', usecols=(0))"
   ],
   "metadata": {
    "collapsed": false
   }
  },
  {
   "cell_type": "code",
   "execution_count": 6,
   "outputs": [],
   "source": [
    "X_train, X_test, y_train, y_test = train_test_split(X_dataset, y_dataset, train_size=0.75, random_state=RANDOM_SEED)"
   ],
   "metadata": {
    "collapsed": false
   }
  },
  {
   "cell_type": "markdown",
   "source": [
    "# Model building"
   ],
   "metadata": {
    "collapsed": false
   }
  },
  {
   "cell_type": "code",
   "execution_count": 7,
   "outputs": [
    {
     "name": "stdout",
     "output_type": "stream",
     "text": [
      "WARNING:tensorflow:From C:\\gesture_recognition_by_image\\venv\\lib\\site-packages\\keras\\src\\backend.py:873: The name tf.get_default_graph is deprecated. Please use tf.compat.v1.get_default_graph instead.\n",
      "\n",
      "WARNING:tensorflow:From C:\\gesture_recognition_by_image\\venv\\lib\\site-packages\\keras\\src\\layers\\pooling\\max_pooling2d.py:161: The name tf.nn.max_pool is deprecated. Please use tf.nn.max_pool2d instead.\n",
      "\n"
     ]
    }
   ],
   "source": [
    "model = tf.keras.models.Sequential([\n",
    "    tf.keras.layers.Reshape((21, 2, 1), input_shape=(21 * 2, )),\n",
    "    tf.keras.layers.Conv2D(32, kernel_size=(3, 1), activation='relu', padding='same'),\n",
    "    tf.keras.layers.MaxPooling2D(pool_size=(2, 1)),\n",
    "    tf.keras.layers.Conv2D(64, kernel_size=(3, 1), activation='relu', padding='same'),\n",
    "    tf.keras.layers.MaxPooling2D(pool_size=(2, 1)),\n",
    "    tf.keras.layers.Flatten(),\n",
    "    tf.keras.layers.Dropout(0.2),\n",
    "    tf.keras.layers.Dense(128, activation='relu'),\n",
    "    tf.keras.layers.Dropout(0.4),\n",
    "    tf.keras.layers.Dense(64, activation='relu'),\n",
    "    tf.keras.layers.Dense(NUM_CLASSES, activation='softmax')\n",
    "])"
   ],
   "metadata": {
    "collapsed": false
   }
  },
  {
   "cell_type": "code",
   "execution_count": 8,
   "outputs": [
    {
     "name": "stdout",
     "output_type": "stream",
     "text": [
      "Model: \"sequential\"\n",
      "_________________________________________________________________\n",
      " Layer (type)                Output Shape              Param #   \n",
      "=================================================================\n",
      " reshape (Reshape)           (None, 21, 2, 1)          0         \n",
      "                                                                 \n",
      " conv2d (Conv2D)             (None, 21, 2, 32)         128       \n",
      "                                                                 \n",
      " max_pooling2d (MaxPooling2  (None, 10, 2, 32)         0         \n",
      " D)                                                              \n",
      "                                                                 \n",
      " conv2d_1 (Conv2D)           (None, 10, 2, 64)         6208      \n",
      "                                                                 \n",
      " max_pooling2d_1 (MaxPoolin  (None, 5, 2, 64)          0         \n",
      " g2D)                                                            \n",
      "                                                                 \n",
      " flatten (Flatten)           (None, 640)               0         \n",
      "                                                                 \n",
      " dropout (Dropout)           (None, 640)               0         \n",
      "                                                                 \n",
      " dense (Dense)               (None, 128)               82048     \n",
      "                                                                 \n",
      " dropout_1 (Dropout)         (None, 128)               0         \n",
      "                                                                 \n",
      " dense_1 (Dense)             (None, 64)                8256      \n",
      "                                                                 \n",
      " dense_2 (Dense)             (None, 26)                1690      \n",
      "                                                                 \n",
      "=================================================================\n",
      "Total params: 98330 (384.10 KB)\n",
      "Trainable params: 98330 (384.10 KB)\n",
      "Non-trainable params: 0 (0.00 Byte)\n",
      "_________________________________________________________________\n"
     ]
    }
   ],
   "source": [
    "model.summary()  # tf.keras.utils.plot_model(model, show_shapes=True)"
   ],
   "metadata": {
    "collapsed": false
   }
  },
  {
   "cell_type": "code",
   "execution_count": 9,
   "outputs": [],
   "source": [
    "# Model checkpoint callback\n",
    "cp_callback = tf.keras.callbacks.ModelCheckpoint(\n",
    "    model_save_path, verbose=1, save_weights_only=False)\n",
    "# Callback for early stopping\n",
    "es_callback = tf.keras.callbacks.EarlyStopping(patience=20, verbose=1)"
   ],
   "metadata": {
    "collapsed": false
   }
  },
  {
   "cell_type": "code",
   "execution_count": 10,
   "outputs": [
    {
     "name": "stdout",
     "output_type": "stream",
     "text": [
      "WARNING:tensorflow:From C:\\gesture_recognition_by_image\\venv\\lib\\site-packages\\keras\\src\\optimizers\\__init__.py:309: The name tf.train.Optimizer is deprecated. Please use tf.compat.v1.train.Optimizer instead.\n",
      "\n"
     ]
    }
   ],
   "source": [
    "# Model compilation\n",
    "model.compile(\n",
    "    optimizer='adam',\n",
    "    loss='sparse_categorical_crossentropy',\n",
    "    metrics=['accuracy']\n",
    ")"
   ],
   "metadata": {
    "collapsed": false
   }
  },
  {
   "cell_type": "markdown",
   "source": [
    "# Model training"
   ],
   "metadata": {
    "collapsed": false
   }
  },
  {
   "cell_type": "code",
   "execution_count": 11,
   "outputs": [
    {
     "name": "stdout",
     "output_type": "stream",
     "text": [
      "Epoch 1/1000\n",
      "WARNING:tensorflow:From C:\\gesture_recognition_by_image\\venv\\lib\\site-packages\\keras\\src\\utils\\tf_utils.py:492: The name tf.ragged.RaggedTensorValue is deprecated. Please use tf.compat.v1.ragged.RaggedTensorValue instead.\n",
      "\n",
      "WARNING:tensorflow:From C:\\gesture_recognition_by_image\\venv\\lib\\site-packages\\keras\\src\\engine\\base_layer_utils.py:384: The name tf.executing_eagerly_outside_functions is deprecated. Please use tf.compat.v1.executing_eagerly_outside_functions instead.\n",
      "\n",
      "29/29 [==============================] - ETA: 0s - loss: 2.9447 - accuracy: 0.1642\n",
      "Epoch 1: saving model to new_hand_classifier.hdf5\n",
      "29/29 [==============================] - 2s 20ms/step - loss: 2.9447 - accuracy: 0.1642 - val_loss: 2.1617 - val_accuracy: 0.3583\n",
      "Epoch 2/1000\n",
      "21/29 [====================>.........] - ETA: 0s - loss: 1.9699 - accuracy: 0.3575"
     ]
    },
    {
     "name": "stderr",
     "output_type": "stream",
     "text": [
      "C:\\gesture_recognition_by_image\\venv\\lib\\site-packages\\keras\\src\\engine\\training.py:3103: UserWarning: You are saving your model as an HDF5 file via `model.save()`. This file format is considered legacy. We recommend using instead the native Keras format, e.g. `model.save('my_model.keras')`.\n",
      "  saving_api.save_model(\n"
     ]
    },
    {
     "name": "stdout",
     "output_type": "stream",
     "text": [
      "\n",
      "Epoch 2: saving model to new_hand_classifier.hdf5\n",
      "29/29 [==============================] - 0s 8ms/step - loss: 1.8630 - accuracy: 0.3881 - val_loss: 1.0551 - val_accuracy: 0.8158\n",
      "Epoch 3/1000\n",
      "27/29 [==========================>...] - ETA: 0s - loss: 1.1125 - accuracy: 0.6427\n",
      "Epoch 3: saving model to new_hand_classifier.hdf5\n",
      "29/29 [==============================] - 0s 9ms/step - loss: 1.1042 - accuracy: 0.6433 - val_loss: 0.4686 - val_accuracy: 0.9542\n",
      "Epoch 4/1000\n",
      "26/29 [=========================>....] - ETA: 0s - loss: 0.6247 - accuracy: 0.7942\n",
      "Epoch 4: saving model to new_hand_classifier.hdf5\n",
      "29/29 [==============================] - 0s 9ms/step - loss: 0.6145 - accuracy: 0.7986 - val_loss: 0.2035 - val_accuracy: 0.9542\n",
      "Epoch 5/1000\n",
      "24/29 [=======================>......] - ETA: 0s - loss: 0.3783 - accuracy: 0.8802\n",
      "Epoch 5: saving model to new_hand_classifier.hdf5\n",
      "29/29 [==============================] - 0s 9ms/step - loss: 0.3708 - accuracy: 0.8811 - val_loss: 0.0957 - val_accuracy: 0.9750\n",
      "Epoch 6/1000\n",
      "28/29 [===========================>..] - ETA: 0s - loss: 0.2398 - accuracy: 0.9244\n",
      "Epoch 6: saving model to new_hand_classifier.hdf5\n",
      "29/29 [==============================] - 0s 8ms/step - loss: 0.2397 - accuracy: 0.9244 - val_loss: 0.0592 - val_accuracy: 0.9917\n",
      "Epoch 7/1000\n",
      "27/29 [==========================>...] - ETA: 0s - loss: 0.1650 - accuracy: 0.9525\n",
      "Epoch 7: saving model to new_hand_classifier.hdf5\n",
      "29/29 [==============================] - 0s 9ms/step - loss: 0.1654 - accuracy: 0.9519 - val_loss: 0.0328 - val_accuracy: 0.9983\n",
      "Epoch 8/1000\n",
      "28/29 [===========================>..] - ETA: 0s - loss: 0.1307 - accuracy: 0.9615\n",
      "Epoch 8: saving model to new_hand_classifier.hdf5\n",
      "29/29 [==============================] - 0s 8ms/step - loss: 0.1303 - accuracy: 0.9617 - val_loss: 0.0240 - val_accuracy: 0.9992\n",
      "Epoch 9/1000\n",
      "29/29 [==============================] - ETA: 0s - loss: 0.0949 - accuracy: 0.9739\n",
      "Epoch 9: saving model to new_hand_classifier.hdf5\n",
      "29/29 [==============================] - 0s 8ms/step - loss: 0.0949 - accuracy: 0.9739 - val_loss: 0.0133 - val_accuracy: 1.0000\n",
      "Epoch 10/1000\n",
      "29/29 [==============================] - ETA: 0s - loss: 0.0723 - accuracy: 0.9803\n",
      "Epoch 10: saving model to new_hand_classifier.hdf5\n",
      "29/29 [==============================] - 0s 8ms/step - loss: 0.0723 - accuracy: 0.9803 - val_loss: 0.0145 - val_accuracy: 1.0000\n",
      "Epoch 11/1000\n",
      "28/29 [===========================>..] - ETA: 0s - loss: 0.0732 - accuracy: 0.9777\n",
      "Epoch 11: saving model to new_hand_classifier.hdf5\n",
      "29/29 [==============================] - 0s 8ms/step - loss: 0.0732 - accuracy: 0.9778 - val_loss: 0.0083 - val_accuracy: 1.0000\n",
      "Epoch 12/1000\n",
      "28/29 [===========================>..] - ETA: 0s - loss: 0.0488 - accuracy: 0.9866\n",
      "Epoch 12: saving model to new_hand_classifier.hdf5\n",
      "29/29 [==============================] - 0s 9ms/step - loss: 0.0486 - accuracy: 0.9867 - val_loss: 0.0058 - val_accuracy: 1.0000\n",
      "Epoch 13/1000\n",
      "29/29 [==============================] - ETA: 0s - loss: 0.0438 - accuracy: 0.9886\n",
      "Epoch 13: saving model to new_hand_classifier.hdf5\n",
      "29/29 [==============================] - 0s 8ms/step - loss: 0.0438 - accuracy: 0.9886 - val_loss: 0.0052 - val_accuracy: 1.0000\n",
      "Epoch 14/1000\n",
      "28/29 [===========================>..] - ETA: 0s - loss: 0.0515 - accuracy: 0.9849\n",
      "Epoch 14: saving model to new_hand_classifier.hdf5\n",
      "29/29 [==============================] - 0s 8ms/step - loss: 0.0516 - accuracy: 0.9847 - val_loss: 0.0034 - val_accuracy: 1.0000\n",
      "Epoch 15/1000\n",
      "29/29 [==============================] - ETA: 0s - loss: 0.0386 - accuracy: 0.9894\n",
      "Epoch 15: saving model to new_hand_classifier.hdf5\n",
      "29/29 [==============================] - 0s 8ms/step - loss: 0.0386 - accuracy: 0.9894 - val_loss: 0.0036 - val_accuracy: 1.0000\n",
      "Epoch 16/1000\n",
      "20/29 [===================>..........] - ETA: 0s - loss: 0.0322 - accuracy: 0.9922\n",
      "Epoch 16: saving model to new_hand_classifier.hdf5\n",
      "29/29 [==============================] - 0s 8ms/step - loss: 0.0302 - accuracy: 0.9928 - val_loss: 0.0024 - val_accuracy: 1.0000\n",
      "Epoch 17/1000\n",
      "28/29 [===========================>..] - ETA: 0s - loss: 0.0275 - accuracy: 0.9927\n",
      "Epoch 17: saving model to new_hand_classifier.hdf5\n",
      "29/29 [==============================] - 0s 9ms/step - loss: 0.0275 - accuracy: 0.9928 - val_loss: 0.0015 - val_accuracy: 1.0000\n",
      "Epoch 18/1000\n",
      "25/29 [========================>.....] - ETA: 0s - loss: 0.0228 - accuracy: 0.9956\n",
      "Epoch 18: saving model to new_hand_classifier.hdf5\n",
      "29/29 [==============================] - 0s 9ms/step - loss: 0.0232 - accuracy: 0.9950 - val_loss: 8.9514e-04 - val_accuracy: 1.0000\n",
      "Epoch 19/1000\n",
      "29/29 [==============================] - ETA: 0s - loss: 0.0187 - accuracy: 0.9953\n",
      "Epoch 19: saving model to new_hand_classifier.hdf5\n",
      "29/29 [==============================] - 0s 8ms/step - loss: 0.0187 - accuracy: 0.9953 - val_loss: 7.1090e-04 - val_accuracy: 1.0000\n",
      "Epoch 20/1000\n",
      "28/29 [===========================>..] - ETA: 0s - loss: 0.0176 - accuracy: 0.9958\n",
      "Epoch 20: saving model to new_hand_classifier.hdf5\n",
      "29/29 [==============================] - 0s 9ms/step - loss: 0.0176 - accuracy: 0.9958 - val_loss: 7.1936e-04 - val_accuracy: 1.0000\n",
      "Epoch 21/1000\n",
      "28/29 [===========================>..] - ETA: 0s - loss: 0.0163 - accuracy: 0.9958\n",
      "Epoch 21: saving model to new_hand_classifier.hdf5\n",
      "29/29 [==============================] - 0s 9ms/step - loss: 0.0162 - accuracy: 0.9958 - val_loss: 4.6532e-04 - val_accuracy: 1.0000\n",
      "Epoch 22/1000\n",
      "27/29 [==========================>...] - ETA: 0s - loss: 0.0167 - accuracy: 0.9971\n",
      "Epoch 22: saving model to new_hand_classifier.hdf5\n",
      "29/29 [==============================] - 0s 9ms/step - loss: 0.0164 - accuracy: 0.9972 - val_loss: 3.9797e-04 - val_accuracy: 1.0000\n",
      "Epoch 23/1000\n",
      "25/29 [========================>.....] - ETA: 0s - loss: 0.0136 - accuracy: 0.9969\n",
      "Epoch 23: saving model to new_hand_classifier.hdf5\n",
      "29/29 [==============================] - 0s 9ms/step - loss: 0.0151 - accuracy: 0.9961 - val_loss: 7.3182e-04 - val_accuracy: 1.0000\n",
      "Epoch 24/1000\n",
      "24/29 [=======================>......] - ETA: 0s - loss: 0.0161 - accuracy: 0.9945\n",
      "Epoch 24: saving model to new_hand_classifier.hdf5\n",
      "29/29 [==============================] - 0s 10ms/step - loss: 0.0169 - accuracy: 0.9947 - val_loss: 2.9948e-04 - val_accuracy: 1.0000\n",
      "Epoch 25/1000\n",
      "28/29 [===========================>..] - ETA: 0s - loss: 0.0102 - accuracy: 0.9986\n",
      "Epoch 25: saving model to new_hand_classifier.hdf5\n",
      "29/29 [==============================] - 0s 9ms/step - loss: 0.0101 - accuracy: 0.9986 - val_loss: 2.0767e-04 - val_accuracy: 1.0000\n",
      "Epoch 26/1000\n",
      "23/29 [======================>.......] - ETA: 0s - loss: 0.0115 - accuracy: 0.9969\n",
      "Epoch 26: saving model to new_hand_classifier.hdf5\n",
      "29/29 [==============================] - 0s 10ms/step - loss: 0.0115 - accuracy: 0.9967 - val_loss: 3.4082e-04 - val_accuracy: 1.0000\n",
      "Epoch 27/1000\n",
      "28/29 [===========================>..] - ETA: 0s - loss: 0.0108 - accuracy: 0.9980\n",
      "Epoch 27: saving model to new_hand_classifier.hdf5\n",
      "29/29 [==============================] - 0s 11ms/step - loss: 0.0108 - accuracy: 0.9981 - val_loss: 1.9300e-04 - val_accuracy: 1.0000\n",
      "Epoch 28/1000\n",
      "25/29 [========================>.....] - ETA: 0s - loss: 0.0118 - accuracy: 0.9972\n",
      "Epoch 28: saving model to new_hand_classifier.hdf5\n",
      "29/29 [==============================] - 0s 10ms/step - loss: 0.0113 - accuracy: 0.9972 - val_loss: 1.9584e-04 - val_accuracy: 1.0000\n",
      "Epoch 29/1000\n",
      "27/29 [==========================>...] - ETA: 0s - loss: 0.0109 - accuracy: 0.9971\n",
      "Epoch 29: saving model to new_hand_classifier.hdf5\n",
      "29/29 [==============================] - 0s 9ms/step - loss: 0.0109 - accuracy: 0.9969 - val_loss: 2.6462e-04 - val_accuracy: 1.0000\n",
      "Epoch 30/1000\n",
      "26/29 [=========================>....] - ETA: 0s - loss: 0.0211 - accuracy: 0.9937\n",
      "Epoch 30: saving model to new_hand_classifier.hdf5\n",
      "29/29 [==============================] - 0s 9ms/step - loss: 0.0211 - accuracy: 0.9936 - val_loss: 4.0822e-04 - val_accuracy: 1.0000\n",
      "Epoch 31/1000\n",
      "25/29 [========================>.....] - ETA: 0s - loss: 0.0075 - accuracy: 0.9987\n",
      "Epoch 31: saving model to new_hand_classifier.hdf5\n",
      "29/29 [==============================] - 0s 10ms/step - loss: 0.0074 - accuracy: 0.9989 - val_loss: 8.0306e-05 - val_accuracy: 1.0000\n",
      "Epoch 32/1000\n",
      "28/29 [===========================>..] - ETA: 0s - loss: 0.0104 - accuracy: 0.9969\n",
      "Epoch 32: saving model to new_hand_classifier.hdf5\n",
      "29/29 [==============================] - 1s 21ms/step - loss: 0.0104 - accuracy: 0.9969 - val_loss: 1.2368e-04 - val_accuracy: 1.0000\n",
      "Epoch 33/1000\n",
      "29/29 [==============================] - ETA: 0s - loss: 0.0100 - accuracy: 0.9969\n",
      "Epoch 33: saving model to new_hand_classifier.hdf5\n",
      "29/29 [==============================] - 0s 8ms/step - loss: 0.0100 - accuracy: 0.9969 - val_loss: 6.5603e-05 - val_accuracy: 1.0000\n",
      "Epoch 34/1000\n",
      "28/29 [===========================>..] - ETA: 0s - loss: 0.0080 - accuracy: 0.9983\n",
      "Epoch 34: saving model to new_hand_classifier.hdf5\n",
      "29/29 [==============================] - 0s 8ms/step - loss: 0.0080 - accuracy: 0.9983 - val_loss: 2.2062e-04 - val_accuracy: 1.0000\n",
      "Epoch 35/1000\n",
      "28/29 [===========================>..] - ETA: 0s - loss: 0.0074 - accuracy: 0.9983\n",
      "Epoch 35: saving model to new_hand_classifier.hdf5\n",
      "29/29 [==============================] - 0s 17ms/step - loss: 0.0074 - accuracy: 0.9983 - val_loss: 5.7916e-05 - val_accuracy: 1.0000\n",
      "Epoch 36/1000\n",
      "23/29 [======================>.......] - ETA: 0s - loss: 0.0111 - accuracy: 0.9976\n",
      "Epoch 36: saving model to new_hand_classifier.hdf5\n",
      "29/29 [==============================] - 0s 11ms/step - loss: 0.0106 - accuracy: 0.9975 - val_loss: 5.2162e-05 - val_accuracy: 1.0000\n",
      "Epoch 37/1000\n",
      "23/29 [======================>.......] - ETA: 0s - loss: 0.0043 - accuracy: 1.0000\n",
      "Epoch 37: saving model to new_hand_classifier.hdf5\n",
      "29/29 [==============================] - 0s 10ms/step - loss: 0.0045 - accuracy: 0.9994 - val_loss: 6.8155e-05 - val_accuracy: 1.0000\n",
      "Epoch 38/1000\n",
      "26/29 [=========================>....] - ETA: 0s - loss: 0.0050 - accuracy: 0.9988\n",
      "Epoch 38: saving model to new_hand_classifier.hdf5\n",
      "29/29 [==============================] - 0s 15ms/step - loss: 0.0048 - accuracy: 0.9989 - val_loss: 7.4143e-05 - val_accuracy: 1.0000\n",
      "Epoch 39/1000\n",
      "23/29 [======================>.......] - ETA: 0s - loss: 0.0051 - accuracy: 0.9986\n",
      "Epoch 39: saving model to new_hand_classifier.hdf5\n",
      "29/29 [==============================] - 0s 12ms/step - loss: 0.0048 - accuracy: 0.9989 - val_loss: 2.2932e-05 - val_accuracy: 1.0000\n",
      "Epoch 40/1000\n",
      "22/29 [=====================>........] - ETA: 0s - loss: 0.0055 - accuracy: 0.9993\n",
      "Epoch 40: saving model to new_hand_classifier.hdf5\n",
      "29/29 [==============================] - 0s 11ms/step - loss: 0.0053 - accuracy: 0.9992 - val_loss: 4.6587e-05 - val_accuracy: 1.0000\n",
      "Epoch 41/1000\n",
      "25/29 [========================>.....] - ETA: 0s - loss: 0.0070 - accuracy: 0.9978\n",
      "Epoch 41: saving model to new_hand_classifier.hdf5\n",
      "29/29 [==============================] - 0s 9ms/step - loss: 0.0074 - accuracy: 0.9978 - val_loss: 3.7242e-05 - val_accuracy: 1.0000\n",
      "Epoch 42/1000\n",
      "26/29 [=========================>....] - ETA: 0s - loss: 0.0035 - accuracy: 0.9997\n",
      "Epoch 42: saving model to new_hand_classifier.hdf5\n",
      "29/29 [==============================] - 0s 9ms/step - loss: 0.0036 - accuracy: 0.9994 - val_loss: 3.1102e-05 - val_accuracy: 1.0000\n",
      "Epoch 43/1000\n",
      "28/29 [===========================>..] - ETA: 0s - loss: 0.0045 - accuracy: 0.9994\n",
      "Epoch 43: saving model to new_hand_classifier.hdf5\n",
      "29/29 [==============================] - 0s 11ms/step - loss: 0.0044 - accuracy: 0.9994 - val_loss: 3.1596e-05 - val_accuracy: 1.0000\n",
      "Epoch 44/1000\n",
      "26/29 [=========================>....] - ETA: 0s - loss: 0.0038 - accuracy: 0.9994\n",
      "Epoch 44: saving model to new_hand_classifier.hdf5\n",
      "29/29 [==============================] - 0s 9ms/step - loss: 0.0037 - accuracy: 0.9994 - val_loss: 2.1486e-05 - val_accuracy: 1.0000\n",
      "Epoch 45/1000\n",
      "27/29 [==========================>...] - ETA: 0s - loss: 0.0028 - accuracy: 0.9997\n",
      "Epoch 45: saving model to new_hand_classifier.hdf5\n",
      "29/29 [==============================] - 0s 9ms/step - loss: 0.0029 - accuracy: 0.9997 - val_loss: 1.5536e-05 - val_accuracy: 1.0000\n",
      "Epoch 46/1000\n",
      "27/29 [==========================>...] - ETA: 0s - loss: 0.0041 - accuracy: 0.9988\n",
      "Epoch 46: saving model to new_hand_classifier.hdf5\n",
      "29/29 [==============================] - 0s 9ms/step - loss: 0.0040 - accuracy: 0.9989 - val_loss: 1.0578e-05 - val_accuracy: 1.0000\n",
      "Epoch 47/1000\n",
      "26/29 [=========================>....] - ETA: 0s - loss: 0.0037 - accuracy: 0.9988\n",
      "Epoch 47: saving model to new_hand_classifier.hdf5\n",
      "29/29 [==============================] - 0s 9ms/step - loss: 0.0036 - accuracy: 0.9989 - val_loss: 2.1596e-05 - val_accuracy: 1.0000\n",
      "Epoch 48/1000\n",
      "26/29 [=========================>....] - ETA: 0s - loss: 0.0021 - accuracy: 0.9997\n",
      "Epoch 48: saving model to new_hand_classifier.hdf5\n",
      "29/29 [==============================] - 0s 10ms/step - loss: 0.0020 - accuracy: 0.9997 - val_loss: 1.0826e-05 - val_accuracy: 1.0000\n",
      "Epoch 49/1000\n",
      "27/29 [==========================>...] - ETA: 0s - loss: 0.0037 - accuracy: 0.9988\n",
      "Epoch 49: saving model to new_hand_classifier.hdf5\n",
      "29/29 [==============================] - 0s 11ms/step - loss: 0.0038 - accuracy: 0.9986 - val_loss: 3.5526e-05 - val_accuracy: 1.0000\n",
      "Epoch 50/1000\n",
      "26/29 [=========================>....] - ETA: 0s - loss: 0.0041 - accuracy: 0.9997\n",
      "Epoch 50: saving model to new_hand_classifier.hdf5\n",
      "29/29 [==============================] - 0s 10ms/step - loss: 0.0043 - accuracy: 0.9997 - val_loss: 8.2468e-06 - val_accuracy: 1.0000\n",
      "Epoch 51/1000\n",
      "23/29 [======================>.......] - ETA: 0s - loss: 0.0048 - accuracy: 0.9990\n",
      "Epoch 51: saving model to new_hand_classifier.hdf5\n",
      "29/29 [==============================] - 0s 11ms/step - loss: 0.0054 - accuracy: 0.9986 - val_loss: 4.6236e-05 - val_accuracy: 1.0000\n",
      "Epoch 52/1000\n",
      "27/29 [==========================>...] - ETA: 0s - loss: 0.0036 - accuracy: 0.9991\n",
      "Epoch 52: saving model to new_hand_classifier.hdf5\n",
      "29/29 [==============================] - 0s 9ms/step - loss: 0.0036 - accuracy: 0.9992 - val_loss: 2.0175e-05 - val_accuracy: 1.0000\n",
      "Epoch 53/1000\n",
      "25/29 [========================>.....] - ETA: 0s - loss: 0.0033 - accuracy: 0.9987\n",
      "Epoch 53: saving model to new_hand_classifier.hdf5\n",
      "29/29 [==============================] - 0s 9ms/step - loss: 0.0031 - accuracy: 0.9989 - val_loss: 1.7287e-05 - val_accuracy: 1.0000\n",
      "Epoch 54/1000\n",
      "26/29 [=========================>....] - ETA: 0s - loss: 0.0034 - accuracy: 0.9994\n",
      "Epoch 54: saving model to new_hand_classifier.hdf5\n",
      "29/29 [==============================] - 0s 9ms/step - loss: 0.0032 - accuracy: 0.9994 - val_loss: 8.8576e-06 - val_accuracy: 1.0000\n",
      "Epoch 55/1000\n",
      "23/29 [======================>.......] - ETA: 0s - loss: 0.0016 - accuracy: 1.0000\n",
      "Epoch 55: saving model to new_hand_classifier.hdf5\n",
      "29/29 [==============================] - 0s 10ms/step - loss: 0.0014 - accuracy: 1.0000 - val_loss: 1.1043e-05 - val_accuracy: 1.0000\n",
      "Epoch 56/1000\n",
      "25/29 [========================>.....] - ETA: 0s - loss: 0.0019 - accuracy: 0.9997\n",
      "Epoch 56: saving model to new_hand_classifier.hdf5\n",
      "29/29 [==============================] - 0s 9ms/step - loss: 0.0017 - accuracy: 0.9997 - val_loss: 9.3186e-06 - val_accuracy: 1.0000\n",
      "Epoch 57/1000\n",
      "27/29 [==========================>...] - ETA: 0s - loss: 0.0028 - accuracy: 0.9991\n",
      "Epoch 57: saving model to new_hand_classifier.hdf5\n",
      "29/29 [==============================] - 0s 12ms/step - loss: 0.0028 - accuracy: 0.9992 - val_loss: 8.5891e-06 - val_accuracy: 1.0000\n",
      "Epoch 58/1000\n",
      "24/29 [=======================>......] - ETA: 0s - loss: 0.0037 - accuracy: 0.9990\n",
      "Epoch 58: saving model to new_hand_classifier.hdf5\n",
      "29/29 [==============================] - 0s 10ms/step - loss: 0.0034 - accuracy: 0.9992 - val_loss: 1.4653e-05 - val_accuracy: 1.0000\n",
      "Epoch 59/1000\n",
      "23/29 [======================>.......] - ETA: 0s - loss: 0.0039 - accuracy: 0.9990\n",
      "Epoch 59: saving model to new_hand_classifier.hdf5\n",
      "29/29 [==============================] - 0s 10ms/step - loss: 0.0057 - accuracy: 0.9983 - val_loss: 7.6178e-06 - val_accuracy: 1.0000\n",
      "Epoch 60/1000\n",
      "27/29 [==========================>...] - ETA: 0s - loss: 0.0138 - accuracy: 0.9951\n",
      "Epoch 60: saving model to new_hand_classifier.hdf5\n",
      "29/29 [==============================] - 0s 9ms/step - loss: 0.0135 - accuracy: 0.9953 - val_loss: 1.8801e-05 - val_accuracy: 1.0000\n",
      "Epoch 61/1000\n",
      "26/29 [=========================>....] - ETA: 0s - loss: 0.0047 - accuracy: 0.9979\n",
      "Epoch 61: saving model to new_hand_classifier.hdf5\n",
      "29/29 [==============================] - 0s 9ms/step - loss: 0.0047 - accuracy: 0.9981 - val_loss: 3.3784e-04 - val_accuracy: 1.0000\n",
      "Epoch 62/1000\n",
      "25/29 [========================>.....] - ETA: 0s - loss: 0.0070 - accuracy: 0.9981\n",
      "Epoch 62: saving model to new_hand_classifier.hdf5\n",
      "29/29 [==============================] - 0s 10ms/step - loss: 0.0093 - accuracy: 0.9975 - val_loss: 3.2832e-05 - val_accuracy: 1.0000\n",
      "Epoch 63/1000\n",
      "27/29 [==========================>...] - ETA: 0s - loss: 0.0055 - accuracy: 0.9986\n",
      "Epoch 63: saving model to new_hand_classifier.hdf5\n",
      "29/29 [==============================] - 0s 9ms/step - loss: 0.0054 - accuracy: 0.9986 - val_loss: 2.6872e-05 - val_accuracy: 1.0000\n",
      "Epoch 64/1000\n",
      "26/29 [=========================>....] - ETA: 0s - loss: 0.0037 - accuracy: 0.9991\n",
      "Epoch 64: saving model to new_hand_classifier.hdf5\n",
      "29/29 [==============================] - 0s 10ms/step - loss: 0.0040 - accuracy: 0.9989 - val_loss: 1.5033e-05 - val_accuracy: 1.0000\n",
      "Epoch 65/1000\n",
      "28/29 [===========================>..] - ETA: 0s - loss: 0.0027 - accuracy: 0.9994\n",
      "Epoch 65: saving model to new_hand_classifier.hdf5\n",
      "29/29 [==============================] - 0s 9ms/step - loss: 0.0027 - accuracy: 0.9994 - val_loss: 9.7642e-06 - val_accuracy: 1.0000\n",
      "Epoch 66/1000\n",
      "23/29 [======================>.......] - ETA: 0s - loss: 0.0029 - accuracy: 0.9993\n",
      "Epoch 66: saving model to new_hand_classifier.hdf5\n",
      "29/29 [==============================] - 0s 10ms/step - loss: 0.0027 - accuracy: 0.9994 - val_loss: 5.0691e-06 - val_accuracy: 1.0000\n",
      "Epoch 67/1000\n",
      "25/29 [========================>.....] - ETA: 0s - loss: 0.0020 - accuracy: 0.9997\n",
      "Epoch 67: saving model to new_hand_classifier.hdf5\n",
      "29/29 [==============================] - 0s 10ms/step - loss: 0.0019 - accuracy: 0.9997 - val_loss: 4.7609e-06 - val_accuracy: 1.0000\n",
      "Epoch 68/1000\n",
      "25/29 [========================>.....] - ETA: 0s - loss: 0.0012 - accuracy: 1.0000\n",
      "Epoch 68: saving model to new_hand_classifier.hdf5\n",
      "29/29 [==============================] - 0s 10ms/step - loss: 0.0017 - accuracy: 0.9997 - val_loss: 3.5482e-05 - val_accuracy: 1.0000\n",
      "Epoch 69/1000\n",
      "26/29 [=========================>....] - ETA: 0s - loss: 0.0020 - accuracy: 0.9997\n",
      "Epoch 69: saving model to new_hand_classifier.hdf5\n",
      "29/29 [==============================] - 0s 12ms/step - loss: 0.0021 - accuracy: 0.9997 - val_loss: 4.1827e-06 - val_accuracy: 1.0000\n",
      "Epoch 70/1000\n",
      "22/29 [=====================>........] - ETA: 0s - loss: 0.0017 - accuracy: 0.9996\n",
      "Epoch 70: saving model to new_hand_classifier.hdf5\n",
      "29/29 [==============================] - 0s 10ms/step - loss: 0.0016 - accuracy: 0.9997 - val_loss: 2.5120e-06 - val_accuracy: 1.0000\n",
      "Epoch 71/1000\n",
      "25/29 [========================>.....] - ETA: 0s - loss: 8.6239e-04 - accuracy: 1.0000\n",
      "Epoch 71: saving model to new_hand_classifier.hdf5\n",
      "29/29 [==============================] - 0s 9ms/step - loss: 9.0563e-04 - accuracy: 1.0000 - val_loss: 2.3266e-06 - val_accuracy: 1.0000\n",
      "Epoch 72/1000\n",
      "24/29 [=======================>......] - ETA: 0s - loss: 0.0027 - accuracy: 0.9993\n",
      "Epoch 72: saving model to new_hand_classifier.hdf5\n",
      "29/29 [==============================] - 0s 9ms/step - loss: 0.0027 - accuracy: 0.9994 - val_loss: 4.0822e-04 - val_accuracy: 1.0000\n",
      "Epoch 73/1000\n",
      "27/29 [==========================>...] - ETA: 0s - loss: 0.0015 - accuracy: 0.9997\n",
      "Epoch 73: saving model to new_hand_classifier.hdf5\n",
      "29/29 [==============================] - 0s 9ms/step - loss: 0.0015 - accuracy: 0.9997 - val_loss: 4.1924e-06 - val_accuracy: 1.0000\n",
      "Epoch 74/1000\n",
      "22/29 [=====================>........] - ETA: 0s - loss: 0.0037 - accuracy: 0.9993\n",
      "Epoch 74: saving model to new_hand_classifier.hdf5\n",
      "29/29 [==============================] - 0s 10ms/step - loss: 0.0042 - accuracy: 0.9992 - val_loss: 6.2754e-06 - val_accuracy: 1.0000\n",
      "Epoch 75/1000\n",
      "25/29 [========================>.....] - ETA: 0s - loss: 0.0026 - accuracy: 0.9994\n",
      "Epoch 75: saving model to new_hand_classifier.hdf5\n",
      "29/29 [==============================] - 0s 9ms/step - loss: 0.0031 - accuracy: 0.9992 - val_loss: 5.3935e-06 - val_accuracy: 1.0000\n",
      "Epoch 76/1000\n",
      "27/29 [==========================>...] - ETA: 0s - loss: 0.0036 - accuracy: 0.9988\n",
      "Epoch 76: saving model to new_hand_classifier.hdf5\n",
      "29/29 [==============================] - 0s 9ms/step - loss: 0.0035 - accuracy: 0.9989 - val_loss: 1.4023e-05 - val_accuracy: 1.0000\n",
      "Epoch 77/1000\n",
      "24/29 [=======================>......] - ETA: 0s - loss: 0.0014 - accuracy: 1.0000\n",
      "Epoch 77: saving model to new_hand_classifier.hdf5\n",
      "29/29 [==============================] - 0s 10ms/step - loss: 0.0019 - accuracy: 0.9997 - val_loss: 3.7148e-06 - val_accuracy: 1.0000\n",
      "Epoch 78/1000\n",
      "24/29 [=======================>......] - ETA: 0s - loss: 0.0061 - accuracy: 0.9984\n",
      "Epoch 78: saving model to new_hand_classifier.hdf5\n",
      "29/29 [==============================] - 0s 10ms/step - loss: 0.0066 - accuracy: 0.9981 - val_loss: 3.9537e-06 - val_accuracy: 1.0000\n",
      "Epoch 79/1000\n",
      "25/29 [========================>.....] - ETA: 0s - loss: 0.0049 - accuracy: 0.9978\n",
      "Epoch 79: saving model to new_hand_classifier.hdf5\n",
      "29/29 [==============================] - 0s 9ms/step - loss: 0.0047 - accuracy: 0.9981 - val_loss: 7.1291e-06 - val_accuracy: 1.0000\n",
      "Epoch 80/1000\n",
      "26/29 [=========================>....] - ETA: 0s - loss: 0.0022 - accuracy: 0.9997\n",
      "Epoch 80: saving model to new_hand_classifier.hdf5\n",
      "29/29 [==============================] - 0s 9ms/step - loss: 0.0021 - accuracy: 0.9997 - val_loss: 6.5625e-06 - val_accuracy: 1.0000\n",
      "Epoch 81/1000\n",
      "25/29 [========================>.....] - ETA: 0s - loss: 0.0026 - accuracy: 0.9991\n",
      "Epoch 81: saving model to new_hand_classifier.hdf5\n",
      "29/29 [==============================] - 0s 9ms/step - loss: 0.0028 - accuracy: 0.9989 - val_loss: 3.3177e-06 - val_accuracy: 1.0000\n",
      "Epoch 82/1000\n",
      "24/29 [=======================>......] - ETA: 0s - loss: 0.0011 - accuracy: 1.0000\n",
      "Epoch 82: saving model to new_hand_classifier.hdf5\n",
      "29/29 [==============================] - 0s 10ms/step - loss: 0.0013 - accuracy: 1.0000 - val_loss: 2.1167e-06 - val_accuracy: 1.0000\n",
      "Epoch 83/1000\n",
      "23/29 [======================>.......] - ETA: 0s - loss: 0.0025 - accuracy: 0.9993\n",
      "Epoch 83: saving model to new_hand_classifier.hdf5\n",
      "29/29 [==============================] - 0s 10ms/step - loss: 0.0022 - accuracy: 0.9994 - val_loss: 5.9835e-06 - val_accuracy: 1.0000\n",
      "Epoch 84/1000\n",
      "25/29 [========================>.....] - ETA: 0s - loss: 0.0016 - accuracy: 0.9997\n",
      "Epoch 84: saving model to new_hand_classifier.hdf5\n",
      "29/29 [==============================] - 0s 10ms/step - loss: 0.0015 - accuracy: 0.9997 - val_loss: 3.5087e-06 - val_accuracy: 1.0000\n",
      "Epoch 85/1000\n",
      "24/29 [=======================>......] - ETA: 0s - loss: 6.4024e-04 - accuracy: 1.0000\n",
      "Epoch 85: saving model to new_hand_classifier.hdf5\n",
      "29/29 [==============================] - 0s 9ms/step - loss: 6.7731e-04 - accuracy: 1.0000 - val_loss: 1.8390e-06 - val_accuracy: 1.0000\n",
      "Epoch 86/1000\n",
      "28/29 [===========================>..] - ETA: 0s - loss: 0.0012 - accuracy: 0.9994\n",
      "Epoch 86: saving model to new_hand_classifier.hdf5\n",
      "29/29 [==============================] - 0s 12ms/step - loss: 0.0012 - accuracy: 0.9994 - val_loss: 3.4345e-06 - val_accuracy: 1.0000\n",
      "Epoch 87/1000\n",
      "29/29 [==============================] - ETA: 0s - loss: 0.0013 - accuracy: 0.9997\n",
      "Epoch 87: saving model to new_hand_classifier.hdf5\n",
      "29/29 [==============================] - 0s 10ms/step - loss: 0.0013 - accuracy: 0.9997 - val_loss: 1.0362e-06 - val_accuracy: 1.0000\n",
      "Epoch 88/1000\n",
      "24/29 [=======================>......] - ETA: 0s - loss: 0.0021 - accuracy: 0.9993\n",
      "Epoch 88: saving model to new_hand_classifier.hdf5\n",
      "29/29 [==============================] - 0s 9ms/step - loss: 0.0021 - accuracy: 0.9994 - val_loss: 1.1838e-06 - val_accuracy: 1.0000\n",
      "Epoch 89/1000\n",
      "28/29 [===========================>..] - ETA: 0s - loss: 0.0017 - accuracy: 0.9994\n",
      "Epoch 89: saving model to new_hand_classifier.hdf5\n",
      "29/29 [==============================] - 0s 11ms/step - loss: 0.0016 - accuracy: 0.9994 - val_loss: 8.6111e-06 - val_accuracy: 1.0000\n",
      "Epoch 90/1000\n",
      "23/29 [======================>.......] - ETA: 0s - loss: 0.0024 - accuracy: 0.9997\n",
      "Epoch 90: saving model to new_hand_classifier.hdf5\n",
      "29/29 [==============================] - 0s 10ms/step - loss: 0.0021 - accuracy: 0.9997 - val_loss: 1.1289e-06 - val_accuracy: 1.0000\n",
      "Epoch 91/1000\n",
      "23/29 [======================>.......] - ETA: 0s - loss: 9.3894e-04 - accuracy: 0.9997\n",
      "Epoch 91: saving model to new_hand_classifier.hdf5\n",
      "29/29 [==============================] - 0s 16ms/step - loss: 8.7917e-04 - accuracy: 0.9997 - val_loss: 1.4871e-06 - val_accuracy: 1.0000\n",
      "Epoch 92/1000\n",
      "24/29 [=======================>......] - ETA: 0s - loss: 0.0014 - accuracy: 1.0000\n",
      "Epoch 92: saving model to new_hand_classifier.hdf5\n",
      "29/29 [==============================] - 0s 12ms/step - loss: 0.0013 - accuracy: 1.0000 - val_loss: 1.2383e-06 - val_accuracy: 1.0000\n",
      "Epoch 93/1000\n",
      "27/29 [==========================>...] - ETA: 0s - loss: 0.0025 - accuracy: 0.9991\n",
      "Epoch 93: saving model to new_hand_classifier.hdf5\n",
      "29/29 [==============================] - 0s 14ms/step - loss: 0.0024 - accuracy: 0.9992 - val_loss: 2.0055e-06 - val_accuracy: 1.0000\n",
      "Epoch 94/1000\n",
      "27/29 [==========================>...] - ETA: 0s - loss: 0.0012 - accuracy: 1.0000\n",
      "Epoch 94: saving model to new_hand_classifier.hdf5\n",
      "29/29 [==============================] - 1s 18ms/step - loss: 0.0012 - accuracy: 1.0000 - val_loss: 2.1624e-06 - val_accuracy: 1.0000\n",
      "Epoch 95/1000\n",
      "27/29 [==========================>...] - ETA: 0s - loss: 0.0045 - accuracy: 0.9980\n",
      "Epoch 95: saving model to new_hand_classifier.hdf5\n",
      "29/29 [==============================] - 0s 12ms/step - loss: 0.0044 - accuracy: 0.9981 - val_loss: 5.3733e-06 - val_accuracy: 1.0000\n",
      "Epoch 96/1000\n",
      "27/29 [==========================>...] - ETA: 0s - loss: 0.0032 - accuracy: 0.9991\n",
      "Epoch 96: saving model to new_hand_classifier.hdf5\n",
      "29/29 [==============================] - 0s 12ms/step - loss: 0.0032 - accuracy: 0.9992 - val_loss: 1.9125e-06 - val_accuracy: 1.0000\n",
      "Epoch 97/1000\n",
      "25/29 [========================>.....] - ETA: 0s - loss: 0.0021 - accuracy: 0.9997\n",
      "Epoch 97: saving model to new_hand_classifier.hdf5\n",
      "29/29 [==============================] - 0s 10ms/step - loss: 0.0020 - accuracy: 0.9997 - val_loss: 1.2425e-06 - val_accuracy: 1.0000\n",
      "Epoch 98/1000\n",
      "24/29 [=======================>......] - ETA: 0s - loss: 0.0031 - accuracy: 0.9990\n",
      "Epoch 98: saving model to new_hand_classifier.hdf5\n",
      "29/29 [==============================] - 0s 10ms/step - loss: 0.0027 - accuracy: 0.9992 - val_loss: 1.5536e-05 - val_accuracy: 1.0000\n",
      "Epoch 99/1000\n",
      "24/29 [=======================>......] - ETA: 0s - loss: 0.0067 - accuracy: 0.9990\n",
      "Epoch 99: saving model to new_hand_classifier.hdf5\n",
      "29/29 [==============================] - 0s 10ms/step - loss: 0.0059 - accuracy: 0.9992 - val_loss: 2.1409e-06 - val_accuracy: 1.0000\n",
      "Epoch 100/1000\n",
      "23/29 [======================>.......] - ETA: 0s - loss: 0.0020 - accuracy: 0.9993\n",
      "Epoch 100: saving model to new_hand_classifier.hdf5\n",
      "29/29 [==============================] - 0s 11ms/step - loss: 0.0019 - accuracy: 0.9994 - val_loss: 1.6426e-06 - val_accuracy: 1.0000\n",
      "Epoch 101/1000\n",
      "24/29 [=======================>......] - ETA: 0s - loss: 0.0018 - accuracy: 0.9993\n",
      "Epoch 101: saving model to new_hand_classifier.hdf5\n",
      "29/29 [==============================] - 0s 10ms/step - loss: 0.0016 - accuracy: 0.9994 - val_loss: 4.1913e-06 - val_accuracy: 1.0000\n",
      "Epoch 102/1000\n",
      "28/29 [===========================>..] - ETA: 0s - loss: 0.0012 - accuracy: 0.9997\n",
      "Epoch 102: saving model to new_hand_classifier.hdf5\n",
      "29/29 [==============================] - 0s 11ms/step - loss: 0.0012 - accuracy: 0.9997 - val_loss: 5.9465e-07 - val_accuracy: 1.0000\n",
      "Epoch 103/1000\n",
      "28/29 [===========================>..] - ETA: 0s - loss: 0.0011 - accuracy: 0.9997\n",
      "Epoch 103: saving model to new_hand_classifier.hdf5\n",
      "29/29 [==============================] - 0s 13ms/step - loss: 0.0011 - accuracy: 0.9997 - val_loss: 5.7280e-07 - val_accuracy: 1.0000\n",
      "Epoch 104/1000\n",
      "27/29 [==========================>...] - ETA: 0s - loss: 4.7295e-04 - accuracy: 1.0000\n",
      "Epoch 104: saving model to new_hand_classifier.hdf5\n",
      "29/29 [==============================] - 0s 16ms/step - loss: 6.1715e-04 - accuracy: 1.0000 - val_loss: 2.6146e-07 - val_accuracy: 1.0000\n",
      "Epoch 105/1000\n",
      "27/29 [==========================>...] - ETA: 0s - loss: 4.6810e-04 - accuracy: 1.0000\n",
      "Epoch 105: saving model to new_hand_classifier.hdf5\n",
      "29/29 [==============================] - 0s 15ms/step - loss: 5.9106e-04 - accuracy: 1.0000 - val_loss: 2.9136e-07 - val_accuracy: 1.0000\n",
      "Epoch 106/1000\n",
      "23/29 [======================>.......] - ETA: 0s - loss: 3.3963e-04 - accuracy: 1.0000\n",
      "Epoch 106: saving model to new_hand_classifier.hdf5\n",
      "29/29 [==============================] - 0s 11ms/step - loss: 8.0953e-04 - accuracy: 0.9997 - val_loss: 3.3210e-07 - val_accuracy: 1.0000\n",
      "Epoch 107/1000\n",
      "24/29 [=======================>......] - ETA: 0s - loss: 0.0019 - accuracy: 0.9997\n",
      "Epoch 107: saving model to new_hand_classifier.hdf5\n",
      "29/29 [==============================] - 0s 10ms/step - loss: 0.0017 - accuracy: 0.9997 - val_loss: 3.9230e-07 - val_accuracy: 1.0000\n",
      "Epoch 108/1000\n",
      "23/29 [======================>.......] - ETA: 0s - loss: 5.9795e-04 - accuracy: 1.0000\n",
      "Epoch 108: saving model to new_hand_classifier.hdf5\n",
      "29/29 [==============================] - 0s 11ms/step - loss: 5.4420e-04 - accuracy: 1.0000 - val_loss: 7.6389e-07 - val_accuracy: 1.0000\n",
      "Epoch 109/1000\n",
      "23/29 [======================>.......] - ETA: 0s - loss: 5.2569e-04 - accuracy: 1.0000\n",
      "Epoch 109: saving model to new_hand_classifier.hdf5\n",
      "29/29 [==============================] - 0s 11ms/step - loss: 4.7423e-04 - accuracy: 1.0000 - val_loss: 4.0829e-07 - val_accuracy: 1.0000\n",
      "Epoch 110/1000\n",
      "28/29 [===========================>..] - ETA: 0s - loss: 5.5854e-04 - accuracy: 0.9997\n",
      "Epoch 110: saving model to new_hand_classifier.hdf5\n",
      "29/29 [==============================] - 0s 11ms/step - loss: 5.5800e-04 - accuracy: 0.9997 - val_loss: 2.2570e-07 - val_accuracy: 1.0000\n",
      "Epoch 111/1000\n",
      "28/29 [===========================>..] - ETA: 0s - loss: 9.9703e-04 - accuracy: 0.9997\n",
      "Epoch 111: saving model to new_hand_classifier.hdf5\n",
      "29/29 [==============================] - 1s 18ms/step - loss: 9.9262e-04 - accuracy: 0.9997 - val_loss: 1.4102e-06 - val_accuracy: 1.0000\n",
      "Epoch 112/1000\n",
      "23/29 [======================>.......] - ETA: 0s - loss: 0.0035 - accuracy: 0.9993\n",
      "Epoch 112: saving model to new_hand_classifier.hdf5\n",
      "29/29 [==============================] - 0s 13ms/step - loss: 0.0030 - accuracy: 0.9994 - val_loss: 1.0125e-05 - val_accuracy: 1.0000\n",
      "Epoch 113/1000\n",
      "25/29 [========================>.....] - ETA: 0s - loss: 0.0022 - accuracy: 0.9994\n",
      "Epoch 113: saving model to new_hand_classifier.hdf5\n",
      "29/29 [==============================] - 0s 10ms/step - loss: 0.0026 - accuracy: 0.9992 - val_loss: 6.2573e-07 - val_accuracy: 1.0000\n",
      "Epoch 114/1000\n",
      "25/29 [========================>.....] - ETA: 0s - loss: 0.0146 - accuracy: 0.9934\n",
      "Epoch 114: saving model to new_hand_classifier.hdf5\n",
      "29/29 [==============================] - 0s 9ms/step - loss: 0.0149 - accuracy: 0.9936 - val_loss: 6.8995e-06 - val_accuracy: 1.0000\n",
      "Epoch 115/1000\n",
      "25/29 [========================>.....] - ETA: 0s - loss: 0.0116 - accuracy: 0.9962\n",
      "Epoch 115: saving model to new_hand_classifier.hdf5\n",
      "29/29 [==============================] - 0s 10ms/step - loss: 0.0112 - accuracy: 0.9964 - val_loss: 1.2403e-05 - val_accuracy: 1.0000\n",
      "Epoch 116/1000\n",
      "27/29 [==========================>...] - ETA: 0s - loss: 0.0039 - accuracy: 0.9994\n",
      "Epoch 116: saving model to new_hand_classifier.hdf5\n",
      "29/29 [==============================] - 0s 9ms/step - loss: 0.0039 - accuracy: 0.9994 - val_loss: 2.0126e-06 - val_accuracy: 1.0000\n",
      "Epoch 117/1000\n",
      "25/29 [========================>.....] - ETA: 0s - loss: 0.0019 - accuracy: 0.9997\n",
      "Epoch 117: saving model to new_hand_classifier.hdf5\n",
      "29/29 [==============================] - 0s 9ms/step - loss: 0.0018 - accuracy: 0.9997 - val_loss: 1.5969e-06 - val_accuracy: 1.0000\n",
      "Epoch 118/1000\n",
      "26/29 [=========================>....] - ETA: 0s - loss: 0.0029 - accuracy: 0.9994\n",
      "Epoch 118: saving model to new_hand_classifier.hdf5\n",
      "29/29 [==============================] - 0s 9ms/step - loss: 0.0028 - accuracy: 0.9994 - val_loss: 5.8037e-06 - val_accuracy: 1.0000\n",
      "Epoch 119/1000\n",
      "25/29 [========================>.....] - ETA: 0s - loss: 0.0033 - accuracy: 0.9991\n",
      "Epoch 119: saving model to new_hand_classifier.hdf5\n",
      "29/29 [==============================] - 0s 9ms/step - loss: 0.0030 - accuracy: 0.9992 - val_loss: 8.5104e-07 - val_accuracy: 1.0000\n",
      "Epoch 120/1000\n",
      "26/29 [=========================>....] - ETA: 0s - loss: 0.0011 - accuracy: 1.0000\n",
      "Epoch 120: saving model to new_hand_classifier.hdf5\n",
      "29/29 [==============================] - 0s 9ms/step - loss: 0.0010 - accuracy: 1.0000 - val_loss: 5.6286e-07 - val_accuracy: 1.0000\n",
      "Epoch 121/1000\n",
      "26/29 [=========================>....] - ETA: 0s - loss: 0.0014 - accuracy: 0.9997    \n",
      "Epoch 121: saving model to new_hand_classifier.hdf5\n",
      "29/29 [==============================] - 0s 9ms/step - loss: 0.0013 - accuracy: 0.9997 - val_loss: 5.0843e-07 - val_accuracy: 1.0000\n",
      "Epoch 122/1000\n",
      "26/29 [=========================>....] - ETA: 0s - loss: 8.7047e-04 - accuracy: 1.0000\n",
      "Epoch 122: saving model to new_hand_classifier.hdf5\n",
      "29/29 [==============================] - 0s 9ms/step - loss: 8.4912e-04 - accuracy: 1.0000 - val_loss: 1.9908e-07 - val_accuracy: 1.0000\n",
      "Epoch 123/1000\n",
      "27/29 [==========================>...] - ETA: 0s - loss: 0.0011 - accuracy: 0.9997\n",
      "Epoch 123: saving model to new_hand_classifier.hdf5\n",
      "29/29 [==============================] - 0s 9ms/step - loss: 0.0011 - accuracy: 0.9997 - val_loss: 3.1203e-07 - val_accuracy: 1.0000\n",
      "Epoch 124/1000\n",
      "25/29 [========================>.....] - ETA: 0s - loss: 3.9459e-04 - accuracy: 1.0000\n",
      "Epoch 124: saving model to new_hand_classifier.hdf5\n",
      "29/29 [==============================] - 0s 9ms/step - loss: 4.6000e-04 - accuracy: 1.0000 - val_loss: 2.1259e-07 - val_accuracy: 1.0000\n",
      "Epoch 125/1000\n",
      "25/29 [========================>.....] - ETA: 0s - loss: 0.0010 - accuracy: 0.9997\n",
      "Epoch 125: saving model to new_hand_classifier.hdf5\n",
      "29/29 [==============================] - 0s 10ms/step - loss: 0.0011 - accuracy: 0.9997 - val_loss: 4.0630e-07 - val_accuracy: 1.0000\n",
      "Epoch 126/1000\n",
      "24/29 [=======================>......] - ETA: 0s - loss: 8.4381e-04 - accuracy: 1.0000\n",
      "Epoch 126: saving model to new_hand_classifier.hdf5\n",
      "29/29 [==============================] - 0s 10ms/step - loss: 8.2632e-04 - accuracy: 1.0000 - val_loss: 2.0395e-07 - val_accuracy: 1.0000\n",
      "Epoch 127/1000\n",
      "28/29 [===========================>..] - ETA: 0s - loss: 2.2086e-04 - accuracy: 1.0000\n",
      "Epoch 127: saving model to new_hand_classifier.hdf5\n",
      "29/29 [==============================] - 0s 12ms/step - loss: 2.2000e-04 - accuracy: 1.0000 - val_loss: 1.4305e-07 - val_accuracy: 1.0000\n",
      "Epoch 128/1000\n",
      "23/29 [======================>.......] - ETA: 0s - loss: 0.0023 - accuracy: 0.9990\n",
      "Epoch 128: saving model to new_hand_classifier.hdf5\n",
      "29/29 [==============================] - 0s 10ms/step - loss: 0.0019 - accuracy: 0.9992 - val_loss: 7.4964e-06 - val_accuracy: 1.0000\n",
      "Epoch 129/1000\n",
      "25/29 [========================>.....] - ETA: 0s - loss: 0.0014 - accuracy: 0.9997\n",
      "Epoch 129: saving model to new_hand_classifier.hdf5\n",
      "29/29 [==============================] - 0s 10ms/step - loss: 0.0014 - accuracy: 0.9997 - val_loss: 3.0090e-07 - val_accuracy: 1.0000\n",
      "Epoch 130/1000\n",
      "23/29 [======================>.......] - ETA: 0s - loss: 5.1060e-04 - accuracy: 1.0000\n",
      "Epoch 130: saving model to new_hand_classifier.hdf5\n",
      "29/29 [==============================] - 0s 10ms/step - loss: 4.8677e-04 - accuracy: 1.0000 - val_loss: 1.4712e-07 - val_accuracy: 1.0000\n",
      "Epoch 131/1000\n",
      "25/29 [========================>.....] - ETA: 0s - loss: 4.5631e-04 - accuracy: 1.0000\n",
      "Epoch 131: saving model to new_hand_classifier.hdf5\n",
      "29/29 [==============================] - 0s 9ms/step - loss: 0.0014 - accuracy: 0.9997 - val_loss: 1.7911e-07 - val_accuracy: 1.0000\n",
      "Epoch 132/1000\n",
      "26/29 [=========================>....] - ETA: 0s - loss: 0.0014 - accuracy: 0.9994\n",
      "Epoch 132: saving model to new_hand_classifier.hdf5\n",
      "29/29 [==============================] - 0s 9ms/step - loss: 0.0013 - accuracy: 0.9994 - val_loss: 2.4613e-06 - val_accuracy: 1.0000\n",
      "Epoch 133/1000\n",
      "23/29 [======================>.......] - ETA: 0s - loss: 9.2640e-04 - accuracy: 0.9997\n",
      "Epoch 133: saving model to new_hand_classifier.hdf5\n",
      "29/29 [==============================] - 0s 10ms/step - loss: 8.2915e-04 - accuracy: 0.9997 - val_loss: 4.6990e-06 - val_accuracy: 1.0000\n",
      "Epoch 134/1000\n",
      "25/29 [========================>.....] - ETA: 0s - loss: 0.0023 - accuracy: 0.9991\n",
      "Epoch 134: saving model to new_hand_classifier.hdf5\n",
      "29/29 [==============================] - 0s 9ms/step - loss: 0.0026 - accuracy: 0.9989 - val_loss: 4.7942e-07 - val_accuracy: 1.0000\n",
      "Epoch 135/1000\n",
      "26/29 [=========================>....] - ETA: 0s - loss: 9.2385e-04 - accuracy: 1.0000\n",
      "Epoch 135: saving model to new_hand_classifier.hdf5\n",
      "29/29 [==============================] - 0s 9ms/step - loss: 8.7726e-04 - accuracy: 1.0000 - val_loss: 1.8309e-07 - val_accuracy: 1.0000\n",
      "Epoch 136/1000\n",
      "26/29 [=========================>....] - ETA: 0s - loss: 5.5898e-04 - accuracy: 1.0000\n",
      "Epoch 136: saving model to new_hand_classifier.hdf5\n",
      "29/29 [==============================] - 0s 9ms/step - loss: 5.4470e-04 - accuracy: 1.0000 - val_loss: 1.2418e-07 - val_accuracy: 1.0000\n",
      "Epoch 137/1000\n",
      "27/29 [==========================>...] - ETA: 0s - loss: 3.5722e-04 - accuracy: 1.0000\n",
      "Epoch 137: saving model to new_hand_classifier.hdf5\n",
      "29/29 [==============================] - 0s 9ms/step - loss: 3.4810e-04 - accuracy: 1.0000 - val_loss: 2.6027e-07 - val_accuracy: 1.0000\n",
      "Epoch 138/1000\n",
      "25/29 [========================>.....] - ETA: 0s - loss: 0.0016 - accuracy: 0.9997\n",
      "Epoch 138: saving model to new_hand_classifier.hdf5\n",
      "29/29 [==============================] - 0s 9ms/step - loss: 0.0024 - accuracy: 0.9992 - val_loss: 1.4206e-07 - val_accuracy: 1.0000\n",
      "Epoch 139/1000\n",
      "25/29 [========================>.....] - ETA: 0s - loss: 9.9171e-04 - accuracy: 1.0000\n",
      "Epoch 139: saving model to new_hand_classifier.hdf5\n",
      "29/29 [==============================] - 0s 9ms/step - loss: 9.4829e-04 - accuracy: 1.0000 - val_loss: 2.4415e-06 - val_accuracy: 1.0000\n",
      "Epoch 140/1000\n",
      "25/29 [========================>.....] - ETA: 0s - loss: 0.0015 - accuracy: 0.9994\n",
      "Epoch 140: saving model to new_hand_classifier.hdf5\n",
      "29/29 [==============================] - 0s 9ms/step - loss: 0.0013 - accuracy: 0.9994 - val_loss: 1.6173e-07 - val_accuracy: 1.0000\n",
      "Epoch 141/1000\n",
      "25/29 [========================>.....] - ETA: 0s - loss: 0.0012 - accuracy: 0.9994\n",
      "Epoch 141: saving model to new_hand_classifier.hdf5\n",
      "29/29 [==============================] - 0s 9ms/step - loss: 0.0011 - accuracy: 0.9994 - val_loss: 1.0838e-06 - val_accuracy: 1.0000\n",
      "Epoch 142/1000\n",
      "28/29 [===========================>..] - ETA: 0s - loss: 8.5571e-04 - accuracy: 0.9997\n",
      "Epoch 142: saving model to new_hand_classifier.hdf5\n",
      "29/29 [==============================] - 0s 11ms/step - loss: 8.5203e-04 - accuracy: 0.9997 - val_loss: 2.1309e-07 - val_accuracy: 1.0000\n",
      "Epoch 143/1000\n",
      "25/29 [========================>.....] - ETA: 0s - loss: 2.8001e-04 - accuracy: 1.0000\n",
      "Epoch 143: saving model to new_hand_classifier.hdf5\n",
      "29/29 [==============================] - 0s 9ms/step - loss: 3.3422e-04 - accuracy: 1.0000 - val_loss: 7.5400e-08 - val_accuracy: 1.0000\n",
      "Epoch 144/1000\n",
      "27/29 [==========================>...] - ETA: 0s - loss: 0.0060 - accuracy: 0.9983\n",
      "Epoch 144: saving model to new_hand_classifier.hdf5\n",
      "29/29 [==============================] - 0s 9ms/step - loss: 0.0058 - accuracy: 0.9983 - val_loss: 0.0013 - val_accuracy: 0.9992\n",
      "Epoch 145/1000\n",
      "23/29 [======================>.......] - ETA: 0s - loss: 0.0012 - accuracy: 0.9997\n",
      "Epoch 145: saving model to new_hand_classifier.hdf5\n",
      "29/29 [==============================] - 0s 10ms/step - loss: 0.0012 - accuracy: 0.9997 - val_loss: 1.8497e-07 - val_accuracy: 1.0000\n",
      "Epoch 146/1000\n",
      "29/29 [==============================] - ETA: 0s - loss: 6.5479e-04 - accuracy: 0.9997\n",
      "Epoch 146: saving model to new_hand_classifier.hdf5\n",
      "29/29 [==============================] - 0s 11ms/step - loss: 6.5479e-04 - accuracy: 0.9997 - val_loss: 1.0212e-07 - val_accuracy: 1.0000\n",
      "Epoch 147/1000\n",
      "29/29 [==============================] - ETA: 0s - loss: 8.7942e-04 - accuracy: 0.9997\n",
      "Epoch 147: saving model to new_hand_classifier.hdf5\n",
      "29/29 [==============================] - 0s 11ms/step - loss: 8.7942e-04 - accuracy: 0.9997 - val_loss: 7.5755e-07 - val_accuracy: 1.0000\n",
      "Epoch 148/1000\n",
      "23/29 [======================>.......] - ETA: 0s - loss: 8.0964e-04 - accuracy: 0.9997\n",
      "Epoch 148: saving model to new_hand_classifier.hdf5\n",
      "29/29 [==============================] - 0s 10ms/step - loss: 6.9376e-04 - accuracy: 0.9997 - val_loss: 6.0002e-08 - val_accuracy: 1.0000\n",
      "Epoch 149/1000\n",
      "24/29 [=======================>......] - ETA: 0s - loss: 0.0017 - accuracy: 0.9990\n",
      "Epoch 149: saving model to new_hand_classifier.hdf5\n",
      "29/29 [==============================] - 0s 10ms/step - loss: 0.0015 - accuracy: 0.9992 - val_loss: 0.0029 - val_accuracy: 0.9992\n",
      "Epoch 150/1000\n",
      "24/29 [=======================>......] - ETA: 0s - loss: 0.0026 - accuracy: 0.9990\n",
      "Epoch 150: saving model to new_hand_classifier.hdf5\n",
      "29/29 [==============================] - 0s 10ms/step - loss: 0.0024 - accuracy: 0.9992 - val_loss: 4.7912e-07 - val_accuracy: 1.0000\n",
      "Epoch 151/1000\n",
      "26/29 [=========================>....] - ETA: 0s - loss: 0.0027 - accuracy: 0.9994\n",
      "Epoch 151: saving model to new_hand_classifier.hdf5\n",
      "29/29 [==============================] - 0s 9ms/step - loss: 0.0026 - accuracy: 0.9994 - val_loss: 4.4027e-07 - val_accuracy: 1.0000\n",
      "Epoch 152/1000\n",
      "25/29 [========================>.....] - ETA: 0s - loss: 0.0029 - accuracy: 0.9994\n",
      "Epoch 152: saving model to new_hand_classifier.hdf5\n",
      "29/29 [==============================] - 0s 9ms/step - loss: 0.0027 - accuracy: 0.9994 - val_loss: 1.4550e-05 - val_accuracy: 1.0000\n",
      "Epoch 153/1000\n",
      "22/29 [=====================>........] - ETA: 0s - loss: 0.0065 - accuracy: 0.9986\n",
      "Epoch 153: saving model to new_hand_classifier.hdf5\n",
      "29/29 [==============================] - 0s 10ms/step - loss: 0.0052 - accuracy: 0.9989 - val_loss: 3.8946e-06 - val_accuracy: 1.0000\n",
      "Epoch 154/1000\n",
      "25/29 [========================>.....] - ETA: 0s - loss: 0.0032 - accuracy: 0.9991\n",
      "Epoch 154: saving model to new_hand_classifier.hdf5\n",
      "29/29 [==============================] - 0s 9ms/step - loss: 0.0029 - accuracy: 0.9992 - val_loss: 6.5168e-05 - val_accuracy: 1.0000\n",
      "Epoch 155/1000\n",
      "26/29 [=========================>....] - ETA: 0s - loss: 0.0024 - accuracy: 0.9994\n",
      "Epoch 155: saving model to new_hand_classifier.hdf5\n",
      "29/29 [==============================] - 0s 9ms/step - loss: 0.0022 - accuracy: 0.9994 - val_loss: 6.5048e-07 - val_accuracy: 1.0000\n",
      "Epoch 156/1000\n",
      "25/29 [========================>.....] - ETA: 0s - loss: 0.0011 - accuracy: 0.9997\n",
      "Epoch 156: saving model to new_hand_classifier.hdf5\n",
      "29/29 [==============================] - 0s 9ms/step - loss: 0.0010 - accuracy: 0.9997 - val_loss: 2.3444e-07 - val_accuracy: 1.0000\n",
      "Epoch 157/1000\n",
      "26/29 [=========================>....] - ETA: 0s - loss: 0.0027 - accuracy: 0.9988\n",
      "Epoch 157: saving model to new_hand_classifier.hdf5\n",
      "29/29 [==============================] - 0s 10ms/step - loss: 0.0025 - accuracy: 0.9989 - val_loss: 8.5442e-07 - val_accuracy: 1.0000\n",
      "Epoch 158/1000\n",
      "25/29 [========================>.....] - ETA: 0s - loss: 0.0035 - accuracy: 0.9991\n",
      "Epoch 158: saving model to new_hand_classifier.hdf5\n",
      "29/29 [==============================] - 0s 10ms/step - loss: 0.0032 - accuracy: 0.9992 - val_loss: 2.0504e-07 - val_accuracy: 1.0000\n",
      "Epoch 159/1000\n",
      "25/29 [========================>.....] - ETA: 0s - loss: 0.0022 - accuracy: 0.9994\n",
      "Epoch 159: saving model to new_hand_classifier.hdf5\n",
      "29/29 [==============================] - 0s 9ms/step - loss: 0.0019 - accuracy: 0.9994 - val_loss: 4.9369e-05 - val_accuracy: 1.0000\n",
      "Epoch 160/1000\n",
      "25/29 [========================>.....] - ETA: 0s - loss: 0.0025 - accuracy: 0.9994\n",
      "Epoch 160: saving model to new_hand_classifier.hdf5\n",
      "29/29 [==============================] - 0s 10ms/step - loss: 0.0023 - accuracy: 0.9994 - val_loss: 6.0002e-08 - val_accuracy: 1.0000\n",
      "Epoch 161/1000\n",
      "24/29 [=======================>......] - ETA: 0s - loss: 0.0010 - accuracy: 0.9997\n",
      "Epoch 161: saving model to new_hand_classifier.hdf5\n",
      "29/29 [==============================] - 0s 10ms/step - loss: 0.0010 - accuracy: 0.9997 - val_loss: 2.6832e-07 - val_accuracy: 1.0000\n",
      "Epoch 162/1000\n",
      "28/29 [===========================>..] - ETA: 0s - loss: 0.0033 - accuracy: 0.9989\n",
      "Epoch 162: saving model to new_hand_classifier.hdf5\n",
      "29/29 [==============================] - 0s 10ms/step - loss: 0.0033 - accuracy: 0.9989 - val_loss: 7.1274e-07 - val_accuracy: 1.0000\n",
      "Epoch 163/1000\n",
      "26/29 [=========================>....] - ETA: 0s - loss: 0.0024 - accuracy: 0.9988\n",
      "Epoch 163: saving model to new_hand_classifier.hdf5\n",
      "29/29 [==============================] - 0s 9ms/step - loss: 0.0024 - accuracy: 0.9989 - val_loss: 0.0048 - val_accuracy: 0.9992\n",
      "Epoch 164/1000\n",
      "25/29 [========================>.....] - ETA: 0s - loss: 0.0056 - accuracy: 0.9987\n",
      "Epoch 164: saving model to new_hand_classifier.hdf5\n",
      "29/29 [==============================] - 0s 10ms/step - loss: 0.0050 - accuracy: 0.9989 - val_loss: 3.2772e-07 - val_accuracy: 1.0000\n",
      "Epoch 165/1000\n",
      "25/29 [========================>.....] - ETA: 0s - loss: 0.0016 - accuracy: 0.9994\n",
      "Epoch 165: saving model to new_hand_classifier.hdf5\n",
      "29/29 [==============================] - 0s 12ms/step - loss: 0.0017 - accuracy: 0.9994 - val_loss: 2.7705e-07 - val_accuracy: 1.0000\n",
      "Epoch 166/1000\n",
      "25/29 [========================>.....] - ETA: 0s - loss: 0.0034 - accuracy: 0.9987\n",
      "Epoch 166: saving model to new_hand_classifier.hdf5\n",
      "29/29 [==============================] - 0s 9ms/step - loss: 0.0031 - accuracy: 0.9989 - val_loss: 3.9289e-07 - val_accuracy: 1.0000\n",
      "Epoch 167/1000\n",
      "25/29 [========================>.....] - ETA: 0s - loss: 0.0012 - accuracy: 0.9994\n",
      "Epoch 167: saving model to new_hand_classifier.hdf5\n",
      "29/29 [==============================] - 0s 9ms/step - loss: 0.0012 - accuracy: 0.9994 - val_loss: 5.5164e-07 - val_accuracy: 1.0000\n",
      "Epoch 168/1000\n",
      "25/29 [========================>.....] - ETA: 0s - loss: 5.7596e-04 - accuracy: 1.0000\n",
      "Epoch 168: saving model to new_hand_classifier.hdf5\n",
      "29/29 [==============================] - 0s 10ms/step - loss: 5.3039e-04 - accuracy: 1.0000 - val_loss: 1.7126e-07 - val_accuracy: 1.0000\n",
      "Epoch 168: early stopping\n"
     ]
    }
   ],
   "source": [
    "history = model.fit(\n",
    "    X_train,\n",
    "    y_train,\n",
    "    epochs=1000,\n",
    "    batch_size=128,\n",
    "    validation_data=(X_test, y_test),\n",
    "    callbacks=[cp_callback, es_callback]\n",
    ")"
   ],
   "metadata": {
    "collapsed": false
   }
  },
  {
   "cell_type": "code",
   "execution_count": 13,
   "outputs": [
    {
     "name": "stdout",
     "output_type": "stream",
     "text": [
      "10/10 [==============================] - 0s 2ms/step - loss: 1.7126e-07 - accuracy: 1.0000\n"
     ]
    }
   ],
   "source": [
    "# Model evaluation\n",
    "val_loss, val_acc = model.evaluate(X_test, y_test, batch_size=128)"
   ],
   "metadata": {
    "collapsed": false
   }
  },
  {
   "cell_type": "code",
   "execution_count": 14,
   "outputs": [],
   "source": [
    "# Loading the saved model\n",
    "model = tf.keras.models.load_model(model_save_path)"
   ],
   "metadata": {
    "collapsed": false
   }
  },
  {
   "cell_type": "code",
   "execution_count": 15,
   "outputs": [
    {
     "name": "stdout",
     "output_type": "stream",
     "text": [
      "1/1 [==============================] - 0s 107ms/step\n",
      "[2.1835730e-33 1.1306646e-17 1.0000000e+00 3.8696211e-16 7.5757285e-20\n",
      " 1.5274972e-21 1.7150357e-20 9.2796296e-22 3.0985720e-19 3.1849748e-36\n",
      " 3.3862553e-34 2.1094836e-18 8.1487655e-22 2.5122662e-29 2.6250126e-12\n",
      " 6.3172469e-25 6.7809724e-29 2.9137440e-38 1.3114507e-37 1.2543319e-33\n",
      " 6.2892312e-26 4.6110409e-23 2.7413825e-35 4.4012011e-28 5.6007571e-35\n",
      " 3.1588658e-27]\n",
      "2\n"
     ]
    }
   ],
   "source": [
    "# Inference test\n",
    "predict_result = model.predict(np.array([X_test[0]]))\n",
    "print(np.squeeze(predict_result))\n",
    "print(np.argmax(np.squeeze(predict_result)))"
   ],
   "metadata": {
    "collapsed": false
   }
  },
  {
   "cell_type": "markdown",
   "source": [
    "# Confusion matrix"
   ],
   "metadata": {
    "collapsed": false
   }
  },
  {
   "cell_type": "code",
   "execution_count": 16,
   "outputs": [
    {
     "name": "stdout",
     "output_type": "stream",
     "text": [
      "38/38 [==============================] - 0s 3ms/step\n"
     ]
    },
    {
     "data": {
      "text/plain": "<Figure size 700x600 with 2 Axes>",
      "image/png": "[encoded data removed]"
     },
     "metadata": {},
     "output_type": "display_data"
    },
    {
     "name": "stdout",
     "output_type": "stream",
     "text": [
      "Classification Report\n",
      "              precision    recall  f1-score   support\n",
      "\n",
      "           0       1.00      1.00      1.00        61\n",
      "           1       1.00      1.00      1.00        49\n",
      "           2       1.00      1.00      1.00        60\n",
      "           3       1.00      1.00      1.00        50\n",
      "           4       1.00      1.00      1.00        44\n",
      "           5       1.00      1.00      1.00        60\n",
      "           6       1.00      1.00      1.00        41\n",
      "           7       1.00      1.00      1.00        56\n",
      "           8       1.00      1.00      1.00        45\n",
      "          10       1.00      1.00      1.00        46\n",
      "          11       1.00      1.00      1.00        42\n",
      "          12       1.00      1.00      1.00        50\n",
      "          13       1.00      1.00      1.00        66\n",
      "          14       1.00      1.00      1.00        42\n",
      "          15       1.00      1.00      1.00        42\n",
      "          16       1.00      1.00      1.00        59\n",
      "          17       1.00      1.00      1.00        46\n",
      "          18       1.00      1.00      1.00        51\n",
      "          19       1.00      1.00      1.00        50\n",
      "          20       1.00      1.00      1.00        45\n",
      "          21       1.00      1.00      1.00        45\n",
      "          22       1.00      1.00      1.00        52\n",
      "          23       1.00      1.00      1.00        51\n",
      "          24       1.00      1.00      1.00        47\n",
      "\n",
      "    accuracy                           1.00      1200\n",
      "   macro avg       1.00      1.00      1.00      1200\n",
      "weighted avg       1.00      1.00      1.00      1200\n",
      "\n"
     ]
    }
   ],
   "source": [
    "import pandas as pd\n",
    "import seaborn as sns\n",
    "import matplotlib.pyplot as plt\n",
    "from sklearn.metrics import confusion_matrix, classification_report\n",
    "\n",
    "def print_confusion_matrix(y_true, y_pred, report=True):\n",
    "    labels = sorted(list(set(y_true)))\n",
    "    cmx_data = confusion_matrix(y_true, y_pred, labels=labels)\n",
    "\n",
    "    df_cmx = pd.DataFrame(cmx_data, index=labels, columns=labels)\n",
    "\n",
    "    fig, ax = plt.subplots(figsize=(7, 6))\n",
    "    sns.heatmap(df_cmx, annot=True, fmt='g' ,square=False)\n",
    "    ax.set_ylim(len(set(y_true)), 0)\n",
    "    plt.show()\n",
    "\n",
    "    if report:\n",
    "        print('Classification Report')\n",
    "        print(classification_report(y_test, y_pred))\n",
    "\n",
    "Y_pred = model.predict(X_test)\n",
    "y_pred = np.argmax(Y_pred, axis=1)\n",
    "\n",
    "print_confusion_matrix(y_test, y_pred)"
   ],
   "metadata": {
    "collapsed": false
   }
  },
  {
   "cell_type": "markdown",
   "source": [
    "# Convert to model for Tensorflow-Lite"
   ],
   "metadata": {
    "collapsed": false
   }
  },
  {
   "cell_type": "code",
   "execution_count": 17,
   "outputs": [
    {
     "name": "stderr",
     "output_type": "stream",
     "text": [
      "C:\\gesture_recognition_by_image\\venv\\lib\\site-packages\\keras\\src\\engine\\training.py:3103: UserWarning: You are saving your model as an HDF5 file via `model.save()`. This file format is considered legacy. We recommend using instead the native Keras format, e.g. `model.save('my_model.keras')`.\n",
      "  saving_api.save_model(\n"
     ]
    }
   ],
   "source": [
    "# Save as a model dedicated to inference\n",
    "model.save(model_save_path, include_optimizer=False)"
   ],
   "metadata": {
    "collapsed": false
   }
  },
  {
   "cell_type": "code",
   "execution_count": 18,
   "outputs": [
    {
     "name": "stdout",
     "output_type": "stream",
     "text": [
      "INFO:tensorflow:Assets written to: C:\\Users\\joren\\AppData\\Local\\Temp\\tmppq9aqvuf\\assets\n"
     ]
    },
    {
     "name": "stderr",
     "output_type": "stream",
     "text": [
      "INFO:tensorflow:Assets written to: C:\\Users\\joren\\AppData\\Local\\Temp\\tmppq9aqvuf\\assets\n"
     ]
    },
    {
     "data": {
      "text/plain": "105472"
     },
     "execution_count": 18,
     "metadata": {},
     "output_type": "execute_result"
    }
   ],
   "source": [
    "# Transform model (quantization)\n",
    "\n",
    "converter = tf.lite.TFLiteConverter.from_keras_model(model)\n",
    "converter.optimizations = [tf.lite.Optimize.DEFAULT]\n",
    "tflite_quantized_model = converter.convert()\n",
    "\n",
    "open(tflite_save_path, 'wb').write(tflite_quantized_model)"
   ],
   "metadata": {
    "collapsed": false
   }
  },
  {
   "cell_type": "markdown",
   "source": [
    "# Inference test"
   ],
   "metadata": {
    "collapsed": false
   }
  },
  {
   "cell_type": "code",
   "execution_count": 19,
   "outputs": [],
   "source": [
    "interpreter = tf.lite.Interpreter(model_path=tflite_save_path)\n",
    "interpreter.allocate_tensors()"
   ],
   "metadata": {
    "collapsed": false
   }
  },
  {
   "cell_type": "code",
   "execution_count": 20,
   "outputs": [],
   "source": [
    "# Get I / O tensor\n",
    "input_details = interpreter.get_input_details()\n",
    "output_details = interpreter.get_output_details()"
   ],
   "metadata": {
    "collapsed": false
   }
  },
  {
   "cell_type": "code",
   "execution_count": 21,
   "outputs": [],
   "source": [
    "interpreter.set_tensor(input_details[0]['index'], np.array([X_test[0]]))"
   ],
   "metadata": {
    "collapsed": false
   }
  },
  {
   "cell_type": "code",
   "execution_count": 22,
   "outputs": [
    {
     "name": "stdout",
     "output_type": "stream",
     "text": [
      "CPU times: total: 0 ns\n",
      "Wall time: 7 ms\n"
     ]
    }
   ],
   "source": [
    "%%time\n",
    "# Inference implementation\n",
    "interpreter.invoke()\n",
    "tflite_results = interpreter.get_tensor(output_details[0]['index'])"
   ],
   "metadata": {
    "collapsed": false
   }
  },
  {
   "cell_type": "code",
   "execution_count": 23,
   "outputs": [
    {
     "name": "stdout",
     "output_type": "stream",
     "text": [
      "[2.06449630e-33 1.08693055e-17 1.00000000e+00 4.51129218e-16\n",
      " 8.45601085e-20 1.54178126e-21 1.77303062e-20 8.61420155e-22\n",
      " 3.60941036e-19 3.26605552e-36 2.86881646e-34 1.77953061e-18\n",
      " 9.04125272e-22 2.61782961e-29 2.61409037e-12 7.32654023e-25\n",
      " 6.80564059e-29 3.07084189e-38 1.39029199e-37 1.25044277e-33\n",
      " 6.91358992e-26 4.42489815e-23 2.12984954e-35 4.41078113e-28\n",
      " 5.66621453e-35 3.52062305e-27]\n",
      "2\n"
     ]
    }
   ],
   "source": [
    "print(np.squeeze(tflite_results))\n",
    "print(np.argmax(np.squeeze(tflite_results)))"
   ],
   "metadata": {
    "collapsed": false
   }
  },
  {
   "cell_type": "code",
   "execution_count": 24,
   "outputs": [
    {
     "name": "stderr",
     "output_type": "stream",
     "text": [
      "C:\\gesture_recognition_by_image\\venv\\lib\\site-packages\\keras\\src\\engine\\training.py:3103: UserWarning: You are saving your model as an HDF5 file via `model.save()`. This file format is considered legacy. We recommend using instead the native Keras format, e.g. `model.save('my_model.keras')`.\n",
      "  saving_api.save_model(\n"
     ]
    },
    {
     "name": "stdout",
     "output_type": "stream",
     "text": [
      "INFO:tensorflow:Assets written to: C:\\Users\\joren\\AppData\\Local\\Temp\\tmpfn26pqmn\\assets\n"
     ]
    },
    {
     "name": "stderr",
     "output_type": "stream",
     "text": [
      "INFO:tensorflow:Assets written to: C:\\Users\\joren\\AppData\\Local\\Temp\\tmpfn26pqmn\\assets\n"
     ]
    }
   ],
   "source": [
    "# Save the model\n",
    "model.save(model_save_path, include_optimizer=False)\n",
    "\n",
    "# Convert the model to TensorFlow Lite\n",
    "converter = tf.lite.TFLiteConverter.from_keras_model(model)\n",
    "converter.optimizations = [tf.lite.Optimize.DEFAULT]\n",
    "tflite_quantized_model = converter.convert()\n",
    "\n",
    "# Write the TFLite file\n",
    "with open(tflite_save_path, 'wb') as f:\n",
    "    f.write(tflite_quantized_model)"
   ],
   "metadata": {
    "collapsed": false
   }
  },
  {
   "cell_type": "markdown",
   "source": [
    "#### Loss  (cost)"
   ],
   "metadata": {
    "collapsed": false
   }
  },
  {
   "cell_type": "code",
   "execution_count": 29,
   "outputs": [
    {
     "data": {
      "text/plain": "<Figure size 640x480 with 1 Axes>",
      "image/png": "[encoded data removed]"
     },
     "metadata": {},
     "output_type": "display_data"
    }
   ],
   "source": [
    "plt.plot(history.history['loss'])\n",
    "plt.plot(history.history['val_loss'])\n",
    "plt.title('Model loss')\n",
    "plt.ylabel('Loss')\n",
    "plt.xlabel('Epoch')\n",
    "plt.legend(['Train', 'Validation'], loc='upper left')\n",
    "plt.show()"
   ],
   "metadata": {
    "collapsed": false
   }
  },
  {
   "cell_type": "code",
   "execution_count": 30,
   "outputs": [
    {
     "data": {
      "text/plain": "<Figure size 1200x600 with 2 Axes>",
      "image/png": "[encoded data removed]"
     },
     "metadata": {},
     "output_type": "display_data"
    }
   ],
   "source": [
    "plt.figure(figsize=(12, 6))\n",
    "\n",
    "# Plot training & validation loss values\n",
    "plt.subplot(2, 1, 1)\n",
    "plt.plot(history.history['loss'])\n",
    "plt.plot(history.history['val_loss'])\n",
    "plt.title('Model loss')\n",
    "plt.xlabel('Epoch')\n",
    "plt.ylabel('Loss')\n",
    "plt.legend(['Train', 'Validation'], loc='upper left')\n",
    "\n",
    "# Plot training & validation accuracy and F1 score values\n",
    "plt.subplot(2, 1, 2)\n",
    "plt.plot(history.history['accuracy'])\n",
    "plt.plot(history.history['val_accuracy'])\n",
    "plt.title('Model metrics')\n",
    "plt.xlabel('Epoch')\n",
    "plt.ylabel('Metric Value')\n",
    "plt.legend(['Train Accuracy', 'Validation Accuracy', 'F1 Score'], loc='upper left')\n",
    "\n",
    "plt.tight_layout()\n",
    "plt.show()"
   ],
   "metadata": {
    "collapsed": false
   }
  },
  {
   "cell_type": "code",
   "execution_count": 32,
   "outputs": [
    {
     "data": {
      "text/plain": "<Figure size 640x480 with 1 Axes>",
      "image/png": "[encoded data removed]"
     },
     "metadata": {},
     "output_type": "display_data"
    }
   ],
   "source": [
    "plt.plot(history.history['loss'], label='train')\n",
    "plt.plot(history.history['val_loss'], label='val')\n",
    "plt.title('Learning Curve')\n",
    "plt.xlabel('Epochs')\n",
    "plt.ylabel('Loss')\n",
    "plt.legend()\n",
    "plt.show()"
   ],
   "metadata": {
    "collapsed": false
   }
  },
  {
   "cell_type": "code",
   "execution_count": null,
   "outputs": [],
   "source": [],
   "metadata": {
    "collapsed": false
   }
  }
 ],
 "metadata": {
  "kernelspec": {
   "display_name": "Python 3",
   "language": "python",
   "name": "python3"
  },
  "language_info": {
   "codemirror_mode": {
    "name": "ipython",
    "version": 2
   },
   "file_extension": ".py",
   "mimetype": "text/x-python",
   "name": "python",
   "nbconvert_exporter": "python",
   "pygments_lexer": "ipython2",
   "version": "2.7.6"
  }
 },
 "nbformat": 4,
 "nbformat_minor": 0
}
