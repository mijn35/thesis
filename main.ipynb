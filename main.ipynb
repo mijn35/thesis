{
 "cells": [
  {
   "cell_type": "code",
   "execution_count": 78,
   "outputs": [],
   "source": [
    "# import statements\n",
    "import numpy as np\n",
    "import pandas as pd\n",
    "import tensorflow as tf\n",
    "from tensorflow.keras import datasets, layers, models\n",
    "import matplotlib.pyplot as plt\n",
    "from sklearn.preprocessing import LabelEncoder"
   ],
   "metadata": {
    "collapsed": false,
    "ExecuteTime": {
     "end_time": "2024-02-27T16:33:26.260337500Z",
     "start_time": "2024-02-27T16:33:26.250236800Z"
    }
   }
  },
  {
   "cell_type": "code",
   "execution_count": 79,
   "outputs": [
    {
     "name": "stdout",
     "output_type": "stream",
     "text": [
      "0                                     Frame\n",
      "1              Elapsed_Time_In_Milliseconds\n",
      "2                                      Time\n",
      "3                                    Hand_X\n",
      "4                                    Hand_Y\n",
      "                       ...                 \n",
      "362       Ring_DIP_Flex_AngularAcceleration\n",
      "363    Pinky_MCP_Spread_AngularAcceleration\n",
      "364      Pinky_MCP_Flex_AngularAcceleration\n",
      "365      Pinky_PIP_Flex_AngularAcceleration\n",
      "366      Pinky_DIP_Flex_AngularAcceleration\n",
      "Name: 0, Length: 367, dtype: object\n",
      "The input shape of your array is: (283, 367)\n"
     ]
    }
   ],
   "source": [
    "\n",
    "\n",
    "# importing a sample\n",
    "arr = pd.read_csv('testWave005_mijn35_R001.csv', header=None, delimiter=\";\")\n",
    "# check the shape\n",
    "input_shape = arr.shape\n",
    "print(arr.iloc[0])\n",
    "print(f\"The input shape of your array is: {input_shape}\")"
   ],
   "metadata": {
    "collapsed": false,
    "ExecuteTime": {
     "end_time": "2024-02-27T16:33:26.970897400Z",
     "start_time": "2024-02-27T16:33:26.933350800Z"
    }
   }
  },
  {
   "cell_type": "code",
   "execution_count": 80,
   "outputs": [
    {
     "name": "stdout",
     "output_type": "stream",
     "text": [
      "The input shape of your array is: (5, 282, 366)\n"
     ]
    }
   ],
   "source": [
    "# make x_train, y_train\n",
    "# Initialize an empty list to store filenames\n",
    "x = []\n",
    "y = [0,0,0,0,1]\n",
    "\n",
    "# Assuming your integer labels are in 'y_train'\n",
    "encoder = LabelEncoder()\n",
    "y = encoder.fit_transform(y)\n",
    "\n",
    "# Specify the base filename (e.g., \"test\")\n",
    "base_filename = \"testWave005_mijn35_R00\"\n",
    "\n",
    "# Define the total number of files you want (e.g., 50)\n",
    "num_files = 5\n",
    "\n",
    "# Generate filenames and add them to the array\n",
    "for i in range(1, num_files + 1):\n",
    "    filename = f\"{base_filename}{i}.csv\"\n",
    "    file = pd.read_csv(filename, header=0, delimiter=\";\")\n",
    "    del file['Time'] # not a float so screws things up\n",
    "    for col in file.columns:\n",
    "        file[col] = pd.to_numeric(file[col].replace(\",\", \"\"), errors='coerce')\n",
    "    x.append(file.values)\n",
    "\n",
    "x = np.array(x) # makes array from list\n",
    "x = x.astype(np.float32) # regular floats dont work with Tensors\n",
    "# Print the array of filenames\n",
    "# print(x)\n",
    "print(f\"The input shape of your array is: {x.shape}\")\n",
    "\n"
   ],
   "metadata": {
    "collapsed": false,
    "ExecuteTime": {
     "end_time": "2024-02-27T16:33:28.783890300Z",
     "start_time": "2024-02-27T16:33:27.875638800Z"
    }
   }
  },
  {
   "cell_type": "code",
   "execution_count": 89,
   "outputs": [],
   "source": [
    "model = models.Sequential()\n",
    "model.add(layers.Conv1D(32, 3, activation='relu', input_shape=(282,366)))\n",
    "model.add(layers.MaxPooling1D(2))\n",
    "model.add(layers.Conv1D(64, 3, activation='relu'))\n",
    "model.add(layers.MaxPooling1D(2))\n",
    "model.add(layers.Conv1D(64, 3, activation='relu'))"
   ],
   "metadata": {
    "collapsed": false,
    "ExecuteTime": {
     "end_time": "2024-02-27T16:34:23.413080100Z",
     "start_time": "2024-02-27T16:34:23.341593100Z"
    }
   }
  },
  {
   "cell_type": "code",
   "execution_count": 90,
   "outputs": [],
   "source": [
    "model.add(layers.Flatten())\n",
    "model.add(layers.Dense(64, activation='relu'))\n",
    "model.add(layers.Dense(1))"
   ],
   "metadata": {
    "collapsed": false,
    "ExecuteTime": {
     "end_time": "2024-02-27T16:34:23.867947600Z",
     "start_time": "2024-02-27T16:34:23.829340300Z"
    }
   }
  },
  {
   "cell_type": "code",
   "execution_count": 91,
   "outputs": [
    {
     "name": "stdout",
     "output_type": "stream",
     "text": [
      "Model: \"sequential_15\"\n",
      "_________________________________________________________________\n",
      " Layer (type)                Output Shape              Param #   \n",
      "=================================================================\n",
      " conv1d_36 (Conv1D)          (None, 280, 32)           35168     \n",
      "                                                                 \n",
      " max_pooling1d_23 (MaxPoolin  (None, 140, 32)          0         \n",
      " g1D)                                                            \n",
      "                                                                 \n",
      " conv1d_37 (Conv1D)          (None, 138, 64)           6208      \n",
      "                                                                 \n",
      " max_pooling1d_24 (MaxPoolin  (None, 69, 64)           0         \n",
      " g1D)                                                            \n",
      "                                                                 \n",
      " conv1d_38 (Conv1D)          (None, 67, 64)            12352     \n",
      "                                                                 \n",
      " flatten_11 (Flatten)        (None, 4288)              0         \n",
      "                                                                 \n",
      " dense_22 (Dense)            (None, 64)                274496    \n",
      "                                                                 \n",
      " dense_23 (Dense)            (None, 1)                 65        \n",
      "                                                                 \n",
      "=================================================================\n",
      "Total params: 328,289\n",
      "Trainable params: 328,289\n",
      "Non-trainable params: 0\n",
      "_________________________________________________________________\n"
     ]
    }
   ],
   "source": [
    "model.summary()"
   ],
   "metadata": {
    "collapsed": false,
    "ExecuteTime": {
     "end_time": "2024-02-27T16:34:24.448104600Z",
     "start_time": "2024-02-27T16:34:24.412777500Z"
    }
   }
  },
  {
   "cell_type": "code",
   "execution_count": 92,
   "outputs": [
    {
     "name": "stdout",
     "output_type": "stream",
     "text": [
      "Epoch 1/50\n",
      "1/1 [==============================] - 1s 760ms/step - loss: nan - accuracy: 0.8000\n",
      "Epoch 2/50\n",
      "1/1 [==============================] - 0s 8ms/step - loss: nan - accuracy: 0.8000\n",
      "Epoch 3/50\n",
      "1/1 [==============================] - 0s 35ms/step - loss: nan - accuracy: 0.8000\n",
      "Epoch 4/50\n",
      "1/1 [==============================] - 0s 7ms/step - loss: nan - accuracy: 0.8000\n",
      "Epoch 5/50\n",
      "1/1 [==============================] - 0s 7ms/step - loss: nan - accuracy: 0.8000\n",
      "Epoch 6/50\n",
      "1/1 [==============================] - 0s 6ms/step - loss: nan - accuracy: 0.8000\n",
      "Epoch 7/50\n",
      "1/1 [==============================] - 0s 7ms/step - loss: nan - accuracy: 0.8000\n",
      "Epoch 8/50\n",
      "1/1 [==============================] - 0s 7ms/step - loss: nan - accuracy: 0.8000\n",
      "Epoch 9/50\n",
      "1/1 [==============================] - 0s 7ms/step - loss: nan - accuracy: 0.8000\n",
      "Epoch 10/50\n",
      "1/1 [==============================] - 0s 7ms/step - loss: nan - accuracy: 0.8000\n",
      "Epoch 11/50\n",
      "1/1 [==============================] - 0s 8ms/step - loss: nan - accuracy: 0.8000\n",
      "Epoch 12/50\n",
      "1/1 [==============================] - 0s 7ms/step - loss: nan - accuracy: 0.8000\n",
      "Epoch 13/50\n",
      "1/1 [==============================] - 0s 9ms/step - loss: nan - accuracy: 0.8000\n",
      "Epoch 14/50\n",
      "1/1 [==============================] - 0s 7ms/step - loss: nan - accuracy: 0.8000\n",
      "Epoch 15/50\n",
      "1/1 [==============================] - 0s 7ms/step - loss: nan - accuracy: 0.8000\n",
      "Epoch 16/50\n",
      "1/1 [==============================] - 0s 7ms/step - loss: nan - accuracy: 0.8000\n",
      "Epoch 17/50\n",
      "1/1 [==============================] - 0s 6ms/step - loss: nan - accuracy: 0.8000\n",
      "Epoch 18/50\n",
      "1/1 [==============================] - 0s 7ms/step - loss: nan - accuracy: 0.8000\n",
      "Epoch 19/50\n",
      "1/1 [==============================] - 0s 10ms/step - loss: nan - accuracy: 0.8000\n",
      "Epoch 20/50\n",
      "1/1 [==============================] - 0s 6ms/step - loss: nan - accuracy: 0.8000\n",
      "Epoch 21/50\n",
      "1/1 [==============================] - 0s 7ms/step - loss: nan - accuracy: 0.8000\n",
      "Epoch 22/50\n",
      "1/1 [==============================] - 0s 7ms/step - loss: nan - accuracy: 0.8000\n",
      "Epoch 23/50\n",
      "1/1 [==============================] - 0s 7ms/step - loss: nan - accuracy: 0.8000\n",
      "Epoch 24/50\n",
      "1/1 [==============================] - 0s 8ms/step - loss: nan - accuracy: 0.8000\n",
      "Epoch 25/50\n",
      "1/1 [==============================] - 0s 8ms/step - loss: nan - accuracy: 0.8000\n",
      "Epoch 26/50\n",
      "1/1 [==============================] - 0s 6ms/step - loss: nan - accuracy: 0.8000\n",
      "Epoch 27/50\n",
      "1/1 [==============================] - 0s 7ms/step - loss: nan - accuracy: 0.8000\n",
      "Epoch 28/50\n",
      "1/1 [==============================] - 0s 7ms/step - loss: nan - accuracy: 0.8000\n",
      "Epoch 29/50\n",
      "1/1 [==============================] - 0s 7ms/step - loss: nan - accuracy: 0.8000\n",
      "Epoch 30/50\n",
      "1/1 [==============================] - 0s 7ms/step - loss: nan - accuracy: 0.8000\n",
      "Epoch 31/50\n",
      "1/1 [==============================] - 0s 41ms/step - loss: nan - accuracy: 0.8000\n",
      "Epoch 32/50\n",
      "1/1 [==============================] - 0s 14ms/step - loss: nan - accuracy: 0.8000\n",
      "Epoch 33/50\n",
      "1/1 [==============================] - 0s 8ms/step - loss: nan - accuracy: 0.8000\n",
      "Epoch 34/50\n",
      "1/1 [==============================] - 0s 6ms/step - loss: nan - accuracy: 0.8000\n",
      "Epoch 35/50\n",
      "1/1 [==============================] - 0s 7ms/step - loss: nan - accuracy: 0.8000\n",
      "Epoch 36/50\n",
      "1/1 [==============================] - 0s 7ms/step - loss: nan - accuracy: 0.8000\n",
      "Epoch 37/50\n",
      "1/1 [==============================] - 0s 8ms/step - loss: nan - accuracy: 0.8000\n",
      "Epoch 38/50\n",
      "1/1 [==============================] - 0s 7ms/step - loss: nan - accuracy: 0.8000\n",
      "Epoch 39/50\n",
      "1/1 [==============================] - 0s 6ms/step - loss: nan - accuracy: 0.8000\n",
      "Epoch 40/50\n",
      "1/1 [==============================] - 0s 9ms/step - loss: nan - accuracy: 0.8000\n",
      "Epoch 41/50\n",
      "1/1 [==============================] - 0s 7ms/step - loss: nan - accuracy: 0.8000\n",
      "Epoch 42/50\n",
      "1/1 [==============================] - 0s 7ms/step - loss: nan - accuracy: 0.8000\n",
      "Epoch 43/50\n",
      "1/1 [==============================] - 0s 7ms/step - loss: nan - accuracy: 0.8000\n",
      "Epoch 44/50\n",
      "1/1 [==============================] - 0s 7ms/step - loss: nan - accuracy: 0.8000\n",
      "Epoch 45/50\n",
      "1/1 [==============================] - 0s 7ms/step - loss: nan - accuracy: 0.8000\n",
      "Epoch 46/50\n",
      "1/1 [==============================] - 0s 7ms/step - loss: nan - accuracy: 0.8000\n",
      "Epoch 47/50\n",
      "1/1 [==============================] - 0s 7ms/step - loss: nan - accuracy: 0.8000\n",
      "Epoch 48/50\n",
      "1/1 [==============================] - 0s 7ms/step - loss: nan - accuracy: 0.8000\n",
      "Epoch 49/50\n",
      "1/1 [==============================] - 0s 10ms/step - loss: nan - accuracy: 0.8000\n",
      "Epoch 50/50\n",
      "1/1 [==============================] - 0s 7ms/step - loss: nan - accuracy: 0.8000\n"
     ]
    },
    {
     "data": {
      "text/plain": "<keras.callbacks.History at 0x16ed4640e20>"
     },
     "execution_count": 92,
     "metadata": {},
     "output_type": "execute_result"
    }
   ],
   "source": [
    "model.compile(optimizer='adam',  # we used adam during machine learning course\n",
    "              loss='categorical_crossentropy',  # Multiclass classification loss\n",
    "              metrics=['accuracy'])  # Track accuracy during training\n",
    "\n",
    "model.fit(x,y,epochs=50)"
   ],
   "metadata": {
    "collapsed": false,
    "ExecuteTime": {
     "end_time": "2024-02-27T16:34:26.521985200Z",
     "start_time": "2024-02-27T16:34:25.103738700Z"
    }
   }
  },
  {
   "cell_type": "code",
   "execution_count": null,
   "outputs": [],
   "source": [],
   "metadata": {
    "collapsed": false
   }
  },
  {
   "cell_type": "code",
   "execution_count": null,
   "outputs": [],
   "source": [],
   "metadata": {
    "collapsed": false
   }
  }
 ],
 "metadata": {
  "kernelspec": {
   "display_name": "Python 3",
   "language": "python",
   "name": "python3"
  },
  "language_info": {
   "codemirror_mode": {
    "name": "ipython",
    "version": 2
   },
   "file_extension": ".py",
   "mimetype": "text/x-python",
   "name": "python",
   "nbconvert_exporter": "python",
   "pygments_lexer": "ipython2",
   "version": "2.7.6"
  }
 },
 "nbformat": 4,
 "nbformat_minor": 0
}
